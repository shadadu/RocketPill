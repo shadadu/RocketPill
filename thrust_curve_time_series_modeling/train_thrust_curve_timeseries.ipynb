{
 "cells": [
  {
   "cell_type": "code",
   "execution_count": 1,
   "id": "5d2d9e41-374d-4053-b0e5-a7eed28166e2",
   "metadata": {
    "colab": {
     "base_uri": "https://localhost:8080/"
    },
    "id": "5d2d9e41-374d-4053-b0e5-a7eed28166e2",
    "outputId": "6d44223a-9023-48dd-f6e5-26c331996f57"
   },
   "outputs": [],
   "source": [
    "# !pip install -q transformers datasets evaluate accelerate gluonts ujson"
   ]
  },
  {
   "cell_type": "code",
   "execution_count": 2,
   "id": "cf659f11-9741-47c6-bf62-513e83ce31e9",
   "metadata": {
    "colab": {
     "base_uri": "https://localhost:8080/"
    },
    "id": "cf659f11-9741-47c6-bf62-513e83ce31e9",
    "outputId": "625dde23-18fc-4759-bb7c-7567adf85a9d"
   },
   "outputs": [],
   "source": [
    "# !pip install -U datasets huggingface_hub fsspec"
   ]
  },
  {
   "cell_type": "code",
   "execution_count": 3,
   "id": "fb7c3a87-dd1d-47de-a29e-0e42e5143567",
   "metadata": {
    "id": "fb7c3a87-dd1d-47de-a29e-0e42e5143567"
   },
   "outputs": [
    {
     "name": "stderr",
     "output_type": "stream",
     "text": [
      "/Users/rckyi/miniforge3/envs/gpu_py311/lib/python3.11/site-packages/torchvision/io/image.py:14: UserWarning: Failed to load image Python extension: 'dlopen(/Users/rckyi/miniforge3/envs/gpu_py311/lib/python3.11/site-packages/torchvision/image.so, 0x0006): Library not loaded: @rpath/libjpeg.9.dylib\n",
      "  Referenced from: <EB3FF92A-5EB1-3EE8-AF8B-5923C1265422> /Users/rckyi/miniforge3/envs/gpu_py311/lib/python3.11/site-packages/torchvision/image.so\n",
      "  Reason: tried: '/Users/rckyi/miniforge3/envs/gpu_py311/lib/python3.11/site-packages/torchvision/../../../libjpeg.9.dylib' (no such file), '/Users/rckyi/miniforge3/envs/gpu_py311/lib/python3.11/site-packages/torchvision/../../../libjpeg.9.dylib' (no such file), '/Users/rckyi/miniforge3/envs/gpu_py311/lib/python3.11/lib-dynload/../../libjpeg.9.dylib' (no such file), '/Users/rckyi/miniforge3/envs/gpu_py311/bin/../lib/libjpeg.9.dylib' (no such file)'If you don't plan on using image functionality from `torchvision.io`, you can ignore this warning. Otherwise, there might be something wrong with your environment. Did you have `libjpeg` or `libpng` installed before building `torchvision` from source?\n",
      "  warn(\n"
     ]
    }
   ],
   "source": [
    "from datasets import load_dataset\n",
    "import matplotlib.pyplot as plt\n",
    "from functools import lru_cache, partial\n",
    "import pandas as pd\n",
    "import numpy as np\n",
    "from gluonts.dataset.multivariate_grouper import MultivariateGrouper\n",
    "from gluonts.time_feature import get_lags_for_frequency\n",
    "from pandas.core.arrays.period import period_array\n",
    "from transformers import InformerConfig, InformerForPrediction\n",
    "from transformers import PretrainedConfig\n",
    "from typing import Optional\n",
    "\n",
    "from gluonts.transform.sampler import InstanceSampler\n",
    "\n",
    "\n",
    "from gluonts.time_feature import TimeFeature\n",
    "from gluonts.dataset.field_names import FieldName\n",
    "from gluonts.transform import (\n",
    "    AddAgeFeature,\n",
    "    AddObservedValuesIndicator,\n",
    "    AddTimeFeatures,\n",
    "    AsNumpyArray,\n",
    "    Chain,\n",
    "    ExpectedNumInstanceSampler,\n",
    "    InstanceSplitter,\n",
    "    RemoveFields,\n",
    "    SelectFields,\n",
    "    SetField,\n",
    "    TestSplitSampler,\n",
    "    Transformation,\n",
    "    ValidationSplitSampler,\n",
    "    VstackFeatures,\n",
    "    RenameFields,\n",
    ")\n",
    "\n",
    "from accelerate import Accelerator\n",
    "from torch.optim import AdamW\n",
    "\n",
    "from evaluate import load\n",
    "from gluonts.time_feature import get_seasonality\n",
    "from datetime import datetime\n",
    "from tqdm import tqdm"
   ]
  },
  {
   "cell_type": "code",
   "execution_count": 4,
   "id": "01245d6e-567c-483f-be0c-881c6cf22359",
   "metadata": {
    "colab": {
     "base_uri": "https://localhost:8080/",
     "height": 237,
     "referenced_widgets": [
      "499f1f3188f241088d034bdbe824daa1",
      "50053b126a2b49b3ac7af0ffe15b436e",
      "be683b9aada245c7aec6d048ad819e78",
      "a1ce8cd5e4ba4f44bcc0c4ab0155ddcb",
      "30bd11dc873c490b93a7b16bc46497aa",
      "e542896d3ca34ef2aa4b2d66236d681c",
      "f3c2646f211e40e6b484edf33c08834b",
      "5b76a97d89984ce8976434a8e6b9cdb4",
      "8f47b425a3774d0bbbb43b3da88c3827",
      "71c957ea108943ee9fcdf4efddf186d5",
      "7e8cdaa96de6449aaed6f3d89340bfa7",
      "33798f3d8ed4412da8b5bd9567677974",
      "218cffe32ac44a41939159bcc4552283",
      "648cbf7777a64ba5b20bcb7754106803",
      "9cb3ae9a36e24c46ac676eef3da3ebe0",
      "ceff4bbcfc4c4f0a85ae5eb779e1b777",
      "931aa5f0be5045c28d8d3b22414d5819",
      "51f32d4ac95e4568bb843fa33b67f5ff",
      "8c9be4cb80ee4655803179d5f3137d76",
      "ccfb37f6452143f8923c7bae90a5e181",
      "d0a7146757884e53ac98f1d2c27ee54c",
      "66b5c07da00748ef8bfa5d168a6507c0",
      "b67a87419bdb4e3b8e07b4e1b7f2f05f",
      "88fd123b10664ec88366e7b7366f330d",
      "7c948a0bdb6a47568f0b10d7798971db",
      "605d857dfc554f73ae468ff1fb2cc387",
      "8810fc3242c64d0aa2bdc392de09d169",
      "8da9c4c14eb5490fa2819036f5819fc4",
      "0ab22b236f1e4ed989246cc91dfc15fb",
      "eb23064d86d04e21ba5e0d624393aaf1",
      "6b97752a64b14384b98581b40c179188",
      "ba7995e3ff1c4b7093dc119298992190",
      "c1d4ed6fd3474c4a8d7b863b0ba16cd9"
     ]
    },
    "id": "01245d6e-567c-483f-be0c-881c6cf22359",
    "outputId": "03b51282-945d-4703-86fd-7270a463d1b8"
   },
   "outputs": [],
   "source": [
    "tc_dataset = load_dataset(\"shaddie/thrust_curves_dataset\")"
   ]
  },
  {
   "cell_type": "code",
   "execution_count": 5,
   "id": "be50d20e-7453-4ff5-a4a4-d126f1263ee6",
   "metadata": {
    "id": "be50d20e-7453-4ff5-a4a4-d126f1263ee6"
   },
   "outputs": [],
   "source": [
    "# Specify train/test split fraction\n",
    "train_fraction = 0.9  # 80% for training, 20% for testing\n",
    "\n",
    "# Split the original training set into new train/test sets\n",
    "split_dataset = tc_dataset[\"train\"].train_test_split(train_size=train_fraction, seed=42)"
   ]
  },
  {
   "cell_type": "code",
   "execution_count": 6,
   "id": "25c1be52-32b3-4786-8ad4-7634008a0fea",
   "metadata": {
    "colab": {
     "base_uri": "https://localhost:8080/"
    },
    "id": "25c1be52-32b3-4786-8ad4-7634008a0fea",
    "outputId": "be7a47b8-12bc-42c2-d3cc-67e0976f79c5"
   },
   "outputs": [
    {
     "data": {
      "text/plain": [
       "DatasetDict({\n",
       "    train: Dataset({\n",
       "        features: ['start', 'target', 'feat_static_cat', 'feat_dynamic_real', 'item_id'],\n",
       "        num_rows: 239\n",
       "    })\n",
       "    test: Dataset({\n",
       "        features: ['start', 'target', 'feat_static_cat', 'feat_dynamic_real', 'item_id'],\n",
       "        num_rows: 27\n",
       "    })\n",
       "})"
      ]
     },
     "execution_count": 6,
     "metadata": {},
     "output_type": "execute_result"
    }
   ],
   "source": [
    "split_dataset"
   ]
  },
  {
   "cell_type": "code",
   "execution_count": 7,
   "id": "af4db824-0b8c-4ffe-9dde-081e11ff6290",
   "metadata": {
    "id": "af4db824-0b8c-4ffe-9dde-081e11ff6290"
   },
   "outputs": [],
   "source": [
    "def find_pad_max(dataset):\n",
    "    l=len(dataset)\n",
    "    m = 0\n",
    "    for r in range(l):\n",
    "        # real = tc_dataset[split][r]['feat_dynamic_real']\n",
    "        target = dataset[r]['target']\n",
    "        if m < len(target):\n",
    "            m = len(target)\n",
    "\n",
    "    return m\n",
    "\n",
    "\n",
    "def pad_data(data, m, split):\n",
    "    l=len(data)\n",
    "    tc = []\n",
    "    for r in range(l):\n",
    "        real = data[r]['feat_dynamic_real']\n",
    "        target = data[r]['target']\n",
    "        rlen = len(real)\n",
    "        pad = [0 for _ in range(m-rlen)]\n",
    "        # target = tc_dataset['train'][r]['target']\n",
    "        real = real + pad\n",
    "        target = target + pad\n",
    "        tc.append({\n",
    "            'start': data[r]['start'],\n",
    "            'target': target,\n",
    "            'feat_static_cat': data[r]['feat_static_cat'],\n",
    "            'feat_dynamic_real': real,\n",
    "            'item_id': data[r]['item_id']\n",
    "                }\n",
    "            )\n",
    "\n",
    "    return tc"
   ]
  },
  {
   "cell_type": "code",
   "execution_count": 8,
   "id": "6f5c9dda-f4c0-4a89-bc83-8c394bdd34f5",
   "metadata": {
    "colab": {
     "base_uri": "https://localhost:8080/"
    },
    "id": "6f5c9dda-f4c0-4a89-bc83-8c394bdd34f5",
    "outputId": "1f1fbc08-61dc-4454-e6fd-3c95eebcbbd6"
   },
   "outputs": [
    {
     "name": "stdout",
     "output_type": "stream",
     "text": [
      "61\n"
     ]
    }
   ],
   "source": [
    "from datasets import Dataset\n",
    "m1 = find_pad_max(split_dataset[\"train\"])\n",
    "m2 = find_pad_max(split_dataset[\"test\"])\n",
    "m = max(m1,m2)\n",
    "print(m)"
   ]
  },
  {
   "cell_type": "code",
   "execution_count": 9,
   "id": "29b91cee-d666-4ffe-815d-f425952b762e",
   "metadata": {
    "id": "29b91cee-d666-4ffe-815d-f425952b762e"
   },
   "outputs": [],
   "source": [
    "train_data = pad_data(split_dataset[\"train\"], m=m, split=\"train\")\n",
    "test_data = pad_data(split_dataset[\"test\"], m=m, split=\"test\")"
   ]
  },
  {
   "cell_type": "code",
   "execution_count": 10,
   "id": "cb065aac-b0f6-4614-8657-39fcee289f46",
   "metadata": {
    "id": "cb065aac-b0f6-4614-8657-39fcee289f46"
   },
   "outputs": [],
   "source": [
    "train_dataset = Dataset.from_list(train_data)\n",
    "test_dataset = Dataset.from_list(test_data)"
   ]
  },
  {
   "cell_type": "code",
   "execution_count": 11,
   "id": "f5acf98c-297d-4029-ad49-832e360b31a9",
   "metadata": {
    "colab": {
     "base_uri": "https://localhost:8080/"
    },
    "id": "f5acf98c-297d-4029-ad49-832e360b31a9",
    "outputId": "d3fd4781-63dd-4be5-8a65-6e7770371190"
   },
   "outputs": [
    {
     "data": {
      "text/plain": [
       "Dataset({\n",
       "    features: ['start', 'target', 'feat_static_cat', 'feat_dynamic_real', 'item_id'],\n",
       "    num_rows: 239\n",
       "})"
      ]
     },
     "execution_count": 11,
     "metadata": {},
     "output_type": "execute_result"
    }
   ],
   "source": [
    "train_dataset"
   ]
  },
  {
   "cell_type": "code",
   "execution_count": 12,
   "id": "f32a738a-78e3-4035-8c52-cccfcd959f11",
   "metadata": {
    "colab": {
     "base_uri": "https://localhost:8080/"
    },
    "id": "f32a738a-78e3-4035-8c52-cccfcd959f11",
    "outputId": "1618ac9b-633d-41e0-f212-3cb4f65c4cfb"
   },
   "outputs": [
    {
     "data": {
      "text/plain": [
       "Dataset({\n",
       "    features: ['start', 'target', 'feat_static_cat', 'feat_dynamic_real', 'item_id'],\n",
       "    num_rows: 27\n",
       "})"
      ]
     },
     "execution_count": 12,
     "metadata": {},
     "output_type": "execute_result"
    }
   ],
   "source": [
    "test_dataset"
   ]
  },
  {
   "cell_type": "code",
   "execution_count": 13,
   "id": "9acc4435-6128-4595-9c33-23943b4b437a",
   "metadata": {},
   "outputs": [
    {
     "data": {
      "text/plain": [
       "dict"
      ]
     },
     "execution_count": 13,
     "metadata": {},
     "output_type": "execute_result"
    }
   ],
   "source": [
    "type(test_dataset[0])"
   ]
  },
  {
   "cell_type": "code",
   "execution_count": 14,
   "id": "7079c2fd-ca03-4f70-9441-b33c43d0fec8",
   "metadata": {},
   "outputs": [],
   "source": [
    "from datetime import datetime\n",
    "init = Dataset.from_dict({\n",
    " 'start': [datetime(2024, 1, 25, 0, 0)]\n",
    "    , 'target': [[0.0]]\n",
    "    , 'feat_static_cat': [[3]]\n",
    "    , 'feat_dynamic_real': [[0.0]]\n",
    "    , 'item_id': [0]\n",
    "    \n",
    "})"
   ]
  },
  {
   "cell_type": "code",
   "execution_count": 15,
   "id": "c12af9f9-ab0a-4557-8ca5-c61fcb3dc38f",
   "metadata": {},
   "outputs": [],
   "source": [
    "# init[0]['start']"
   ]
  },
  {
   "cell_type": "code",
   "execution_count": 16,
   "id": "334dc00e-2329-4f3e-b51c-337dcf078d8d",
   "metadata": {},
   "outputs": [],
   "source": [
    "# test_dataset[0]['feat_dynamic_real']"
   ]
  },
  {
   "cell_type": "code",
   "execution_count": null,
   "id": "4cae2d7d-3e6b-4cab-a694-b1ded30a8dd6",
   "metadata": {},
   "outputs": [],
   "source": []
  },
  {
   "cell_type": "code",
   "execution_count": 17,
   "id": "c0c1b70b-578a-424f-a1fa-0483a03808f9",
   "metadata": {
    "id": "c0c1b70b-578a-424f-a1fa-0483a03808f9"
   },
   "outputs": [],
   "source": [
    "freq = \"1W\"\n",
    "prediction_length = 8\n",
    "\n",
    "# assert len(train_example[\"target\"]) + prediction_length == len(\n",
    "#     dataset[\"validation\"][0][\"target\"]\n",
    "# )"
   ]
  },
  {
   "cell_type": "code",
   "execution_count": 18,
   "id": "414f227c-4179-4070-8120-f1d6ad693f17",
   "metadata": {
    "colab": {
     "base_uri": "https://localhost:8080/"
    },
    "id": "414f227c-4179-4070-8120-f1d6ad693f17",
    "outputId": "ced94146-2091-4af7-b273-13e49a749c38"
   },
   "outputs": [
    {
     "data": {
      "text/plain": [
       "dict_keys(['start', 'target', 'feat_static_cat', 'feat_dynamic_real', 'item_id'])"
      ]
     },
     "execution_count": 18,
     "metadata": {},
     "output_type": "execute_result"
    }
   ],
   "source": [
    "train_example = train_dataset[0]\n",
    "train_example.keys()"
   ]
  },
  {
   "cell_type": "code",
   "execution_count": 19,
   "id": "16841c07-bacd-409a-8256-264f809bc167",
   "metadata": {
    "colab": {
     "base_uri": "https://localhost:8080/",
     "height": 430
    },
    "id": "16841c07-bacd-409a-8256-264f809bc167",
    "outputId": "cfe7f2b0-a397-4ca2-cc96-6a31e8ee150b"
   },
   "outputs": [
    {
     "data": {
      "image/png": "[encoded data removed]",
      "text/plain": [
       "<Figure size 640x480 with 1 Axes>"
      ]
     },
     "metadata": {},
     "output_type": "display_data"
    }
   ],
   "source": [
    "num_of_samples = 150\n",
    "\n",
    "figure, axes = plt.subplots()\n",
    "axes.plot(\n",
    "          # train_example[\"feat_dynamic_real\"][-num_of_samples:],\n",
    "          train_example[\"target\"][-num_of_samples:],\n",
    "          color=\"blue\")\n",
    "\n",
    "plt.show()"
   ]
  },
  {
   "cell_type": "code",
   "execution_count": 20,
   "id": "b802b9b3-0a9e-4546-96e0-61c1a8dda3ea",
   "metadata": {
    "id": "b802b9b3-0a9e-4546-96e0-61c1a8dda3ea"
   },
   "outputs": [],
   "source": [
    "@lru_cache(10_000)\n",
    "def convert_to_pandas_period(date, freq):\n",
    "    return pd.Period(date, freq)\n",
    "\n",
    "\n",
    "def transform_start_field(batch, freq):\n",
    "    batch[\"start\"] = [convert_to_pandas_period(date, freq) for date in batch[\"start\"]]\n",
    "    return batch"
   ]
  },
  {
   "cell_type": "code",
   "execution_count": 21,
   "id": "600028d7-a2a4-4d8f-905f-168eaa2dee28",
   "metadata": {
    "id": "600028d7-a2a4-4d8f-905f-168eaa2dee28"
   },
   "outputs": [],
   "source": [
    "train_dataset.set_transform(partial(transform_start_field, freq=freq))\n",
    "test_dataset.set_transform(partial(transform_start_field, freq=freq))"
   ]
  },
  {
   "cell_type": "code",
   "execution_count": 22,
   "id": "642a647f-d53b-481f-8704-8f97470198f3",
   "metadata": {
    "id": "642a647f-d53b-481f-8704-8f97470198f3"
   },
   "outputs": [],
   "source": [
    "num_of_variates = len(test_dataset) # group according to the smaller test dataset size\n",
    "\n",
    "train_grouper = MultivariateGrouper(max_target_dim=num_of_variates)\n",
    "test_grouper = MultivariateGrouper(\n",
    "    max_target_dim=num_of_variates\n",
    "    # max_target_dim=num_of_variates,\n",
    "    # num_test_dates=len(test_dataset),\n",
    "    # num_test_dates=None, # len(test_dataset),\n",
    "    # num_of_variates=num  # number of rolling test windows\n",
    ")\n",
    "\n",
    "multi_variate_train_dataset = train_grouper(train_dataset)\n",
    "multi_variate_test_dataset = test_grouper(test_dataset)"
   ]
  },
  {
   "cell_type": "code",
   "execution_count": 45,
   "id": "e92d78d0-53d4-4fb2-ab70-d38b3bbba061",
   "metadata": {},
   "outputs": [
    {
     "data": {
      "text/plain": [
       "27"
      ]
     },
     "execution_count": 45,
     "metadata": {},
     "output_type": "execute_result"
    }
   ],
   "source": [
    "num_of_variates"
   ]
  },
  {
   "cell_type": "code",
   "execution_count": 23,
   "id": "3223c9fe-093b-4096-ba82-70f28113d546",
   "metadata": {
    "colab": {
     "base_uri": "https://localhost:8080/"
    },
    "id": "3223c9fe-093b-4096-ba82-70f28113d546",
    "outputId": "dbaf266d-0c16-4da1-8c4f-21f5454af785"
   },
   "outputs": [
    {
     "name": "stdout",
     "output_type": "stream",
     "text": [
      "multi_variate_train_example['target'].shape = (27, 99)\n"
     ]
    }
   ],
   "source": [
    "multi_variate_train_example = multi_variate_train_dataset[0]\n",
    "print(\n",
    "    f\"multi_variate_train_example['target'].shape = {multi_variate_train_example['target'].shape}\"\n",
    ")"
   ]
  },
  {
   "cell_type": "code",
   "execution_count": 24,
   "id": "ivJVFcO13Tlv",
   "metadata": {
    "colab": {
     "base_uri": "https://localhost:8080/"
    },
    "id": "ivJVFcO13Tlv",
    "outputId": "ecafa86e-b9fb-40d1-dfbb-23d1ffa0e833"
   },
   "outputs": [
    {
     "name": "stdout",
     "output_type": "stream",
     "text": [
      "multi_variate_test_example['target'].shape = (27, 95)\n"
     ]
    }
   ],
   "source": [
    "multi_variate_test_example = multi_variate_test_dataset[0]\n",
    "print(\n",
    "    f\"multi_variate_test_example['target'].shape = {multi_variate_test_example['target'].shape}\"\n",
    ")"
   ]
  },
  {
   "cell_type": "code",
   "execution_count": 25,
   "id": "cee8848f-3d3a-420b-a1f7-a4670d69f638",
   "metadata": {
    "colab": {
     "base_uri": "https://localhost:8080/"
    },
    "id": "cee8848f-3d3a-420b-a1f7-a4670d69f638",
    "outputId": "7b903906-f3f7-4299-d303-b24dfb9ddba5"
   },
   "outputs": [
    {
     "name": "stdout",
     "output_type": "stream",
     "text": [
      "[<function day_of_month at 0x127dcede0>, <function week_of_year at 0x127dcf1a0>]\n"
     ]
    }
   ],
   "source": [
    "from gluonts.time_feature import time_features_from_frequency_str\n",
    "\n",
    "time_features = time_features_from_frequency_str(freq)\n",
    "print(time_features)"
   ]
  },
  {
   "cell_type": "markdown",
   "id": "da3f00bb-84b5-43a4-89d0-2cff2ef6d876",
   "metadata": {
    "id": "da3f00bb-84b5-43a4-89d0-2cff2ef6d876"
   },
   "source": [
    "Look back certain time range for each time step, as additional features \"lags_sequence\""
   ]
  },
  {
   "cell_type": "code",
   "execution_count": 26,
   "id": "e902b76c-6b1c-4852-b35c-626e4659f32e",
   "metadata": {
    "colab": {
     "base_uri": "https://localhost:8080/"
    },
    "id": "e902b76c-6b1c-4852-b35c-626e4659f32e",
    "outputId": "4311bb73-d60f-42b4-a38a-5eee691efaee"
   },
   "outputs": [
    {
     "name": "stdout",
     "output_type": "stream",
     "text": [
      "[1, 2, 3, 4, 5, 6, 7, 8, 12, 51, 52, 53, 103, 104, 105, 155, 156, 157]\n"
     ]
    }
   ],
   "source": [
    "lags_sequence = get_lags_for_frequency(freq)\n",
    "print(lags_sequence)"
   ]
  },
  {
   "cell_type": "code",
   "execution_count": 27,
   "id": "2e1358e5-92af-46e8-8366-08a865067125",
   "metadata": {
    "colab": {
     "base_uri": "https://localhost:8080/"
    },
    "id": "2e1358e5-92af-46e8-8366-08a865067125",
    "outputId": "b5ab4526-3856-4838-fd59-601ecfbc531a"
   },
   "outputs": [
    {
     "name": "stdout",
     "output_type": "stream",
     "text": [
      "{'day_of_month': array([-0.36666667]), 'week_of_year': array([-0.5])}\n"
     ]
    }
   ],
   "source": [
    "timestamp = pd.Period(\"2025-01-01 01:00:01\", freq=freq)\n",
    "timestamp_as_index = pd.PeriodIndex(data=period_array([timestamp]))\n",
    "additional_features = [\n",
    "    (time_feature.__name__, time_feature(timestamp_as_index))\n",
    "    for time_feature in time_features\n",
    "]\n",
    "print(dict(additional_features))"
   ]
  },
  {
   "cell_type": "code",
   "execution_count": 28,
   "id": "9df97b89-c634-49c1-b696-6e987abb07ed",
   "metadata": {
    "id": "9df97b89-c634-49c1-b696-6e987abb07ed"
   },
   "outputs": [],
   "source": [
    "model = None"
   ]
  },
  {
   "cell_type": "code",
   "execution_count": 29,
   "id": "65e11c77-9f27-40ad-8384-18b19d71f7a9",
   "metadata": {
    "id": "65e11c77-9f27-40ad-8384-18b19d71f7a9"
   },
   "outputs": [],
   "source": [
    "from transformers import InformerForPrediction"
   ]
  },
  {
   "cell_type": "code",
   "execution_count": 30,
   "id": "c6838383-e496-4b21-a7db-99d49d82aacd",
   "metadata": {
    "colab": {
     "base_uri": "https://localhost:8080/",
     "height": 949,
     "referenced_widgets": [
      "023d5c048524446fb2964992c4e4f299",
      "07b159d310624da58019040ac3bdb8e5",
      "1e4c43d8835d40e2a70fc3745c0ba91b",
      "b9fb11b6cc614417bc35260f7894592d",
      "dd4972cf946d43e5b8f9d8de808288a2",
      "cec2ad4b4df041eea5bf664ef2aca418",
      "7818dc55cf21453290f7536a8dc51cb5",
      "ca7b4c4cca604a7a9695745d7fdb3d6b",
      "b73554d8ded243b1a2564e73ca6ca07a",
      "1bc49bac4ef742d0aa87264b59cd4a01",
      "277cd23a9d274460b866b86fbcb28aab",
      "4808ee34d98b4538812910236ecb02f1",
      "10b7997527d445f7b540318d8e218b12",
      "431c8e023a874fc7a6441393cf1441b8",
      "6e7b177b210540b0a66259580c5d9aa6",
      "2bd99ca7c4434f6f816124e6e22b5b18",
      "4a2033c436e744f28ed5745966ac4ea1",
      "109bd3105c7a4638b0fdb98830dff8ea",
      "32eda7b34b2e466ba76fdbd6179fdacd",
      "e059e94b5b82468c9cce64e074739742",
      "2ce440e4e48e4c638235b047b887c6c8",
      "44e83596418445e3b118cefd558ecd54"
     ]
    },
    "id": "c6838383-e496-4b21-a7db-99d49d82aacd",
    "outputId": "1c3e82b1-943a-4764-f156-e89b4fbc225c"
   },
   "outputs": [
    {
     "name": "stdout",
     "output_type": "stream",
     "text": [
      "successfully loaded model from hugging face with Config InformerConfig {\n",
      "  \"activation_dropout\": 0.1,\n",
      "  \"activation_function\": \"gelu\",\n",
      "  \"architectures\": [\n",
      "    \"InformerForPrediction\"\n",
      "  ],\n",
      "  \"attention_dropout\": 0.1,\n",
      "  \"attention_type\": \"prob\",\n",
      "  \"cardinality\": [\n",
      "    0\n",
      "  ],\n",
      "  \"context_length\": 16,\n",
      "  \"d_model\": 64,\n",
      "  \"decoder_attention_heads\": 2,\n",
      "  \"decoder_ffn_dim\": 32,\n",
      "  \"decoder_layerdrop\": 0.1,\n",
      "  \"decoder_layers\": 4,\n",
      "  \"distil\": true,\n",
      "  \"distribution_output\": \"student_t\",\n",
      "  \"dropout\": 0.1,\n",
      "  \"embedding_dimension\": [\n",
      "    0\n",
      "  ],\n",
      "  \"encoder_attention_heads\": 2,\n",
      "  \"encoder_ffn_dim\": 32,\n",
      "  \"encoder_layerdrop\": 0.1,\n",
      "  \"encoder_layers\": 6,\n",
      "  \"feature_size\": 111,\n",
      "  \"init_std\": 0.02,\n",
      "  \"input_size\": 27,\n",
      "  \"is_encoder_decoder\": true,\n",
      "  \"lags_sequence\": [\n",
      "    1,\n",
      "    168\n",
      "  ],\n",
      "  \"loss\": \"nll\",\n",
      "  \"model_type\": \"informer\",\n",
      "  \"num_dynamic_real_features\": 0,\n",
      "  \"num_parallel_samples\": 100,\n",
      "  \"num_static_categorical_features\": 0,\n",
      "  \"num_static_real_features\": 0,\n",
      "  \"num_time_features\": 3,\n",
      "  \"prediction_length\": 8,\n",
      "  \"sampling_factor\": 5,\n",
      "  \"scaling\": \"mean\",\n",
      "  \"torch_dtype\": \"float32\",\n",
      "  \"transformers_version\": \"4.52.4\",\n",
      "  \"use_cache\": true\n",
      "}\n",
      "\n"
     ]
    }
   ],
   "source": [
    "try:\n",
    "    model = InformerForPrediction.from_pretrained(\"shaddie/rocketpill_thrustcurve_informer_model\")\n",
    "    print(f\"successfully loaded model from hugging face with Config {model.config}\")\n",
    "except:\n",
    "    print(f\"An exception occurred when loading model from HF; initializing new model...\")\n",
    "    config = InformerConfig(\n",
    "    # in the multivariate setting, input_size is the number of variates in the time series per time step\n",
    "    input_size=num_of_variates,\n",
    "    # prediction length:\n",
    "    prediction_length=prediction_length,\n",
    "    # context length:\n",
    "    context_length=prediction_length * 2,\n",
    "    # lags value copied from 1 week before:\n",
    "    lags_sequence=[1, 24 * 7],\n",
    "    # we'll add 5 time features (\"hour_of_day\", ..., and \"age\"):\n",
    "    num_time_features=len(time_features) + 1,\n",
    "    # informer params:\n",
    "    dropout=0.1,\n",
    "    encoder_layers=6,\n",
    "    decoder_layers=4,\n",
    "    # project input from num_of_variates*len(lags_sequence)+num_time_features to:\n",
    "    d_model=64,\n",
    "    )\n",
    "\n",
    "    model = InformerForPrediction(config)\n",
    "    print(f\"New model initialized with config {model.config}\")"
   ]
  },
  {
   "cell_type": "code",
   "execution_count": 31,
   "id": "5e18bb22-004f-4176-9c4b-3051b6226d31",
   "metadata": {
    "colab": {
     "base_uri": "https://localhost:8080/",
     "height": 35
    },
    "id": "5e18bb22-004f-4176-9c4b-3051b6226d31",
    "outputId": "8ffc56fb-71b6-45ee-959e-56d29aa7ca6f"
   },
   "outputs": [
    {
     "data": {
      "text/plain": [
       "'student_t'"
      ]
     },
     "execution_count": 31,
     "metadata": {},
     "output_type": "execute_result"
    }
   ],
   "source": [
    "model.config.distribution_output"
   ]
  },
  {
   "cell_type": "code",
   "execution_count": 32,
   "id": "b2265052-836a-4131-b12c-2df354ad9133",
   "metadata": {
    "id": "b2265052-836a-4131-b12c-2df354ad9133"
   },
   "outputs": [],
   "source": [
    "def create_transformation(freq: str, config: PretrainedConfig) -> Transformation:\n",
    "    # create list of fields to remove later\n",
    "    remove_field_names = []\n",
    "    if config.num_static_real_features == 0:\n",
    "        remove_field_names.append(FieldName.FEAT_STATIC_REAL)\n",
    "    if config.num_dynamic_real_features == 0:\n",
    "        remove_field_names.append(FieldName.FEAT_DYNAMIC_REAL)\n",
    "    if config.num_static_categorical_features == 0:\n",
    "        remove_field_names.append(FieldName.FEAT_STATIC_CAT)\n",
    "\n",
    "    return Chain(\n",
    "        # step 1: remove static/dynamic fields if not specified\n",
    "        [RemoveFields(field_names=remove_field_names)]\n",
    "        # step 2: convert the data to NumPy (potentially not needed)\n",
    "        + (\n",
    "            [\n",
    "                AsNumpyArray(\n",
    "                    field=FieldName.FEAT_STATIC_CAT,\n",
    "                    expected_ndim=1,\n",
    "                    dtype=int,\n",
    "                )\n",
    "            ]\n",
    "            if config.num_static_categorical_features > 0\n",
    "            else []\n",
    "        )\n",
    "        + (\n",
    "            [\n",
    "                AsNumpyArray(\n",
    "                    field=FieldName.FEAT_STATIC_REAL,\n",
    "                    expected_ndim=1,\n",
    "                )\n",
    "            ]\n",
    "            if config.num_static_real_features > 0\n",
    "            else []\n",
    "        )\n",
    "        + [\n",
    "            AsNumpyArray(\n",
    "                field=FieldName.TARGET,\n",
    "                # we expect an extra dim for the multivariate case:\n",
    "                expected_ndim=1 if config.input_size == 1 else 2,\n",
    "            ),\n",
    "            # step 3: handle the NaN's by filling in the target with zero\n",
    "            # and return the mask (which is in the observed values)\n",
    "            # true for observed values, false for nan's\n",
    "            # the decoder uses this mask (no loss is incurred for unobserved values)\n",
    "            # see loss_weights inside the xxxForPrediction model\n",
    "            AddObservedValuesIndicator(\n",
    "                target_field=FieldName.TARGET,\n",
    "                output_field=FieldName.OBSERVED_VALUES,\n",
    "            ),\n",
    "            # step 4: add temporal features based on freq of the dataset\n",
    "            # these serve as positional encodings\n",
    "            AddTimeFeatures(\n",
    "                start_field=FieldName.START,\n",
    "                target_field=FieldName.TARGET,\n",
    "                output_field=FieldName.FEAT_TIME,\n",
    "                time_features=time_features_from_frequency_str(freq),\n",
    "                pred_length=config.prediction_length,\n",
    "            ),\n",
    "            # step 5: add another temporal feature (just a single number)\n",
    "            # tells the model where in the life the value of the time series is\n",
    "            # sort of running counter\n",
    "            AddAgeFeature(\n",
    "                target_field=FieldName.TARGET,\n",
    "                output_field=FieldName.FEAT_AGE,\n",
    "                pred_length=config.prediction_length,\n",
    "                log_scale=True,\n",
    "            ),\n",
    "            # step 6: vertically stack all the temporal features into the key FEAT_TIME\n",
    "            VstackFeatures(\n",
    "                output_field=FieldName.FEAT_TIME,\n",
    "                input_fields=[FieldName.FEAT_TIME, FieldName.FEAT_AGE]\n",
    "                + (\n",
    "                    [FieldName.FEAT_DYNAMIC_REAL]\n",
    "                    if config.num_dynamic_real_features > 0\n",
    "                    else []\n",
    "                ),\n",
    "            ),\n",
    "            # step 7: rename to match HuggingFace names\n",
    "            RenameFields(\n",
    "                mapping={\n",
    "                    FieldName.FEAT_STATIC_CAT: \"static_categorical_features\",\n",
    "                    FieldName.FEAT_STATIC_REAL: \"static_real_features\",\n",
    "                    FieldName.FEAT_TIME: \"time_features\",\n",
    "                    FieldName.TARGET: \"values\",\n",
    "                    FieldName.OBSERVED_VALUES: \"observed_mask\",\n",
    "                }\n",
    "            ),\n",
    "        ]\n",
    "    )"
   ]
  },
  {
   "cell_type": "code",
   "execution_count": 33,
   "id": "b8850e0d-a330-4d7a-a528-c6cfb7e0ed9e",
   "metadata": {
    "id": "b8850e0d-a330-4d7a-a528-c6cfb7e0ed9e"
   },
   "outputs": [],
   "source": [
    "def create_instance_splitter(\n",
    "    config: PretrainedConfig,\n",
    "    mode: str,\n",
    "    train_sampler: Optional[InstanceSampler] = None,\n",
    "    validation_sampler: Optional[InstanceSampler] = None,\n",
    ") -> Transformation:\n",
    "    assert mode in [\"train\", \"validation\", \"test\"]\n",
    "\n",
    "    instance_sampler = {\n",
    "        \"train\": train_sampler\n",
    "        or ExpectedNumInstanceSampler(\n",
    "            num_instances=1.0, min_future=config.prediction_length\n",
    "        ),\n",
    "        \"validation\": validation_sampler\n",
    "        or ValidationSplitSampler(min_future=config.prediction_length),\n",
    "        \"test\": TestSplitSampler(),\n",
    "    }[mode]\n",
    "\n",
    "    return InstanceSplitter(\n",
    "        target_field=\"values\",\n",
    "        is_pad_field=FieldName.IS_PAD,\n",
    "        start_field=FieldName.START,\n",
    "        forecast_start_field=FieldName.FORECAST_START,\n",
    "        instance_sampler=instance_sampler,\n",
    "        past_length=config.context_length + max(config.lags_sequence),\n",
    "        future_length=config.prediction_length,\n",
    "        time_series_fields=[\"time_features\", \"observed_mask\"],\n",
    "    )"
   ]
  },
  {
   "cell_type": "code",
   "execution_count": 34,
   "id": "3167024f-4064-496b-b442-12d5a80b40c2",
   "metadata": {
    "id": "3167024f-4064-496b-b442-12d5a80b40c2"
   },
   "outputs": [],
   "source": [
    "from typing import Iterable\n",
    "\n",
    "import torch\n",
    "from gluonts.itertools import Cached, Cyclic\n",
    "from gluonts.dataset.loader import as_stacked_batches\n",
    "\n",
    "\n",
    "def create_train_dataloader(\n",
    "    config: PretrainedConfig,\n",
    "    freq,\n",
    "    data,\n",
    "    batch_size: int,\n",
    "    num_batches_per_epoch: int,\n",
    "    shuffle_buffer_length: Optional[int] = None,\n",
    "    cache_data: bool = True,\n",
    "    **kwargs,\n",
    ") -> Iterable:\n",
    "    PREDICTION_INPUT_NAMES = [\n",
    "        \"past_time_features\",\n",
    "        \"past_values\",\n",
    "        \"past_observed_mask\",\n",
    "        \"future_time_features\",\n",
    "    ]\n",
    "    if config.num_static_categorical_features > 0:\n",
    "        PREDICTION_INPUT_NAMES.append(\"static_categorical_features\")\n",
    "\n",
    "    if config.num_static_real_features > 0:\n",
    "        PREDICTION_INPUT_NAMES.append(\"static_real_features\")\n",
    "\n",
    "    TRAINING_INPUT_NAMES = PREDICTION_INPUT_NAMES + [\n",
    "        \"future_values\",\n",
    "        \"future_observed_mask\",\n",
    "    ]\n",
    "\n",
    "    transformation = create_transformation(freq, config)\n",
    "    transformed_data = transformation.apply(data, is_train=True)\n",
    "    if cache_data:\n",
    "        transformed_data = Cached(transformed_data)\n",
    "\n",
    "    # we initialize a Training instance\n",
    "    instance_splitter = create_instance_splitter(config, \"train\")\n",
    "\n",
    "    # the instance splitter will sample a window of\n",
    "    # context length + lags + prediction length (from all the possible transformed time series, 1 in our case)\n",
    "    # randomly from within the target time series and return an iterator.\n",
    "    stream = Cyclic(transformed_data).stream()\n",
    "    training_instances = instance_splitter.apply(stream)\n",
    "\n",
    "    return as_stacked_batches(\n",
    "        training_instances,\n",
    "        batch_size=batch_size,\n",
    "        shuffle_buffer_length=shuffle_buffer_length,\n",
    "        field_names=TRAINING_INPUT_NAMES,\n",
    "        output_type=torch.tensor,\n",
    "        num_batches_per_epoch=num_batches_per_epoch,\n",
    "    )"
   ]
  },
  {
   "cell_type": "code",
   "execution_count": 35,
   "id": "4946f995-4305-43bc-adc7-219a93549080",
   "metadata": {
    "id": "4946f995-4305-43bc-adc7-219a93549080"
   },
   "outputs": [],
   "source": [
    "def create_test_dataloader(\n",
    "    config: PretrainedConfig,\n",
    "    freq,\n",
    "    data,\n",
    "    batch_size: int,\n",
    "    num_batches_per_epoch: int,\n",
    "    shuffle_buffer_length: Optional[int] = None,\n",
    "    cache_data: bool = True,\n",
    "    **kwargs,\n",
    "):\n",
    "    PREDICTION_INPUT_NAMES = [\n",
    "        \"past_time_features\",\n",
    "        \"past_values\",\n",
    "        \"past_observed_mask\",\n",
    "        \"future_time_features\",\n",
    "    ]\n",
    "    if config.num_static_categorical_features > 0:\n",
    "        PREDICTION_INPUT_NAMES.append(\"static_categorical_features\")\n",
    "\n",
    "    if config.num_static_real_features > 0:\n",
    "        PREDICTION_INPUT_NAMES.append(\"static_real_features\")\n",
    "\n",
    "    transformation = create_transformation(freq, config)\n",
    "    transformed_data = transformation.apply(data, is_train=False)\n",
    "\n",
    "    # We create a test Instance splitter to sample the very last\n",
    "    # context window from the dataset provided.\n",
    "    instance_sampler = create_instance_splitter(config, \"test\")\n",
    "\n",
    "    # We apply the transformations in test mode\n",
    "    testing_instances = instance_sampler.apply(transformed_data, is_train=False)\n",
    "\n",
    "    return as_stacked_batches(\n",
    "        testing_instances,\n",
    "        batch_size=batch_size,\n",
    "        output_type=torch.tensor,\n",
    "        field_names=PREDICTION_INPUT_NAMES,\n",
    "        num_batches_per_epoch=num_batches_per_epoch,\n",
    "    )\n"
   ]
  },
  {
   "cell_type": "code",
   "execution_count": 36,
   "id": "vwyUJS37sgRO",
   "metadata": {
    "id": "vwyUJS37sgRO"
   },
   "outputs": [],
   "source": [
    "config = model.config"
   ]
  },
  {
   "cell_type": "code",
   "execution_count": 37,
   "id": "1d9e0668-ceac-47a7-9ecf-fa7868267258",
   "metadata": {
    "id": "1d9e0668-ceac-47a7-9ecf-fa7868267258"
   },
   "outputs": [],
   "source": [
    "train_dataloader = create_train_dataloader(\n",
    "    config=config,\n",
    "    freq=freq,\n",
    "    data=multi_variate_train_dataset,\n",
    "    batch_size=256,\n",
    "    num_batches_per_epoch=100,\n",
    "    num_workers=2,\n",
    ")\n",
    "\n",
    "test_dataloader = create_test_dataloader(\n",
    "    config=config,\n",
    "    freq=freq,\n",
    "    data=multi_variate_test_dataset,\n",
    "    batch_size=256,\n",
    "    num_batches_per_epoch=100,\n",
    "    num_workers=2,\n",
    ")\n"
   ]
  },
  {
   "cell_type": "code",
   "execution_count": 38,
   "id": "c51f58dc-21f6-4c05-9da8-cd726eeeb4d3",
   "metadata": {
    "colab": {
     "base_uri": "https://localhost:8080/"
    },
    "id": "c51f58dc-21f6-4c05-9da8-cd726eeeb4d3",
    "outputId": "baf47f7f-d1a7-4ad4-f45e-d543a2c2b525"
   },
   "outputs": [
    {
     "name": "stdout",
     "output_type": "stream",
     "text": [
      "past_time_features torch.Size([256, 184, 3]) torch.FloatTensor\n",
      "past_values torch.Size([256, 184, 27]) torch.FloatTensor\n",
      "past_observed_mask torch.Size([256, 184, 27]) torch.FloatTensor\n",
      "future_time_features torch.Size([256, 8, 3]) torch.FloatTensor\n",
      "future_values torch.Size([256, 8, 27]) torch.FloatTensor\n",
      "future_observed_mask torch.Size([256, 8, 27]) torch.FloatTensor\n"
     ]
    }
   ],
   "source": [
    "batch = next(iter(train_dataloader))\n",
    "for k, v in batch.items():\n",
    "    print(k, v.shape, v.type())"
   ]
  },
  {
   "cell_type": "code",
   "execution_count": 39,
   "id": "ryM4ewbg5nP4",
   "metadata": {
    "colab": {
     "base_uri": "https://localhost:8080/"
    },
    "id": "ryM4ewbg5nP4",
    "outputId": "afb809a9-b6a9-49c3-f200-7c95154b2af4"
   },
   "outputs": [
    {
     "name": "stdout",
     "output_type": "stream",
     "text": [
      "past_time_features torch.Size([1, 184, 3]) torch.FloatTensor\n",
      "past_values torch.Size([1, 184, 27]) torch.FloatTensor\n",
      "past_observed_mask torch.Size([1, 184, 27]) torch.FloatTensor\n",
      "future_time_features torch.Size([1, 8, 3]) torch.FloatTensor\n"
     ]
    }
   ],
   "source": [
    "batch = next(iter(test_dataloader))\n",
    "for k, v in batch.items():\n",
    "    print(k, v.shape, v.type())"
   ]
  },
  {
   "cell_type": "code",
   "execution_count": 40,
   "id": "hZofLgTt6HBR",
   "metadata": {
    "id": "hZofLgTt6HBR"
   },
   "outputs": [],
   "source": [
    "def compute_mase_smape(forecasts):\n",
    "\n",
    "  mase_metric = load(\"evaluate-metric/mase\")\n",
    "  smape_metric = load(\"evaluate-metric/smape\")\n",
    "\n",
    "  forecast_median = np.median(forecasts, 1).squeeze(0).T\n",
    "\n",
    "  mase_metrics = []\n",
    "  smape_metrics = []\n",
    "\n",
    "  for item_id, ts in enumerate(test_dataset):\n",
    "      training_data = ts[\"target\"][:-prediction_length]\n",
    "      ground_truth = ts[\"target\"][-prediction_length:]\n",
    "      mase = mase_metric.compute(\n",
    "          predictions=forecast_median[item_id],\n",
    "          references=np.array(ground_truth),\n",
    "          training=np.array(training_data),\n",
    "          periodicity=get_seasonality(freq),\n",
    "      )\n",
    "      mase_metrics.append(mase[\"mase\"])\n",
    "\n",
    "      smape = smape_metric.compute(\n",
    "          predictions=forecast_median[item_id],\n",
    "          references=np.array(ground_truth),\n",
    "      )\n",
    "      smape_metrics.append(smape[\"smape\"])\n",
    "\n",
    "  return np.mean(mase_metrics), np.mean(smape_metrics)"
   ]
  },
  {
   "cell_type": "code",
   "execution_count": 41,
   "id": "WY4apYAO_fYK",
   "metadata": {
    "id": "WY4apYAO_fYK"
   },
   "outputs": [],
   "source": [
    "def test():\n",
    "  model.eval()\n",
    "  forecasts_ = []\n",
    "  test_progress_bar = tqdm(test_dataloader, desc=f\"Epoch \")\n",
    "      # for data in tqdm(train_dataloader,  desc=f\"Epoch {epoch+1}\"):\n",
    "  for idx, batch in enumerate(test_progress_bar):\n",
    "    # for k, v in batch.items():\n",
    "    #   print(k, v.shape, v.type())\n",
    "    # print(f'past_observed_mask {batch[\"past_observed_mask\"].to(device).repeat(1,1, 3).shape}')\n",
    "    # print(f'future_time_features {batch[\"future_time_features\"].to(device).shape}')\n",
    "    outputs = model.generate(\n",
    "      static_categorical_features=batch[\"static_categorical_features\"].to(device)\n",
    "      if config.num_static_categorical_features > 0\n",
    "      else None,\n",
    "      static_real_features=batch[\"static_real_features\"].to(device)\n",
    "      if config.num_static_real_features > 0\n",
    "      else None,\n",
    "      past_time_features=batch[\"past_time_features\"].to(device),\n",
    "      past_values=batch[\"past_values\"].to(device),\n",
    "      future_time_features=batch[\"future_time_features\"].to(device),\n",
    "      past_observed_mask=batch[\"past_observed_mask\"].to(device),\n",
    "    )\n",
    "  forecasts_.append(outputs.sequences.cpu().numpy())\n",
    "  forecasts = np.vstack(forecasts_)\n",
    "\n",
    "  mase, smape = compute_mase_smape(forecasts=forecasts)\n",
    "\n",
    "  # print(f'mase: {mase} & smape: {smape}')\n",
    "\n",
    "  return mase, smape\n"
   ]
  },
  {
   "cell_type": "code",
   "execution_count": 42,
   "id": "AGlJBIODKzNw",
   "metadata": {
    "id": "AGlJBIODKzNw"
   },
   "outputs": [],
   "source": [
    "def training(epochs, model,\n",
    "             device,\n",
    "          train_dataloader=train_dataloader,\n",
    "          test_dataloader=test_dataloader\n",
    "          ):\n",
    "\n",
    "  loss_history = []\n",
    "\n",
    "  device = accelerator.device\n",
    "\n",
    "  model.to(device)\n",
    "  optimizer = AdamW(model.parameters(), lr=6e-4, betas=(0.9, 0.95), weight_decay=1e-1)\n",
    "  model, optimizer, train_dataloader = accelerator.prepare(\n",
    "    model,\n",
    "    optimizer,\n",
    "    train_dataloader,\n",
    "  )\n",
    "\n",
    "  model.train()\n",
    "  for epoch in range(epochs):\n",
    "    total_loss = 0.0\n",
    "    progress_bar = tqdm(train_dataloader, desc=f\"Epoch {epoch+1}/{epochs} total_loss {total_loss} \")\n",
    "    # for data in tqdm(train_dataloader,  desc=f\"Epoch {epoch+1}\"):\n",
    "    for idx, batch in enumerate(progress_bar):\n",
    "        # print(f'idx: {idx}')\n",
    "        # for k, v in batch.items():\n",
    "        #     print(k, v.shape, v.type())\n",
    "        optimizer.zero_grad()\n",
    "        outputs = model(\n",
    "            static_categorical_features=batch[\"static_categorical_features\"].to(device)\n",
    "            if config.num_static_categorical_features > 0\n",
    "            else None,\n",
    "            static_real_features=batch[\"static_real_features\"].to(device)\n",
    "            if config.num_static_real_features > 0\n",
    "            else None,\n",
    "            past_time_features=batch[\"past_time_features\"].to(device),\n",
    "            past_values=batch[\"past_values\"].to(device),\n",
    "            future_time_features=batch[\"future_time_features\"].to(device),\n",
    "            future_values=batch[\"future_values\"].to(device),\n",
    "            past_observed_mask=batch[\"past_observed_mask\"].to(device),\n",
    "            future_observed_mask=batch[\"future_observed_mask\"].to(device),\n",
    "        )\n",
    "        loss = outputs.loss\n",
    "        total_loss += loss.item()\n",
    "        progress_bar.set_postfix(loss=total_loss / (progress_bar.n + 1))\n",
    "\n",
    "        # Backpropagation\n",
    "        accelerator.backward(loss)\n",
    "        optimizer.step()\n",
    "\n",
    "        loss_history.append(loss.item())\n",
    "        if idx % 200 == 0:\n",
    "            mase, smape = test()\n",
    "            print(f'Epoch {epoch} mape: {mase} & smape: {smape}  with loss: {loss.item()}')\n",
    "\n",
    "  return model, loss_history"
   ]
  },
  {
   "cell_type": "code",
   "execution_count": 43,
   "id": "edPGpZsROl-x",
   "metadata": {
    "id": "edPGpZsROl-x"
   },
   "outputs": [],
   "source": [
    "accelerator = Accelerator()\n",
    "device = accelerator.device"
   ]
  },
  {
   "cell_type": "code",
   "execution_count": 44,
   "id": "aeMrE1LTLp-f",
   "metadata": {
    "colab": {
     "base_uri": "https://localhost:8080/"
    },
    "id": "aeMrE1LTLp-f",
    "outputId": "bdc39389-5693-4051-a04e-305193ecbd6a"
   },
   "outputs": [
    {
     "name": "stderr",
     "output_type": "stream",
     "text": [
      "Epoch 1/10 total_loss 0.0 : 0it [00:13, ?it/s, loss=-219]\n",
      "Epoch : 0it [00:04, ?it/s]\u001b[A\n",
      "Epoch 1/10 total_loss 0.0 : 0it [00:24, ?it/s, loss=-219]\n"
     ]
    },
    {
     "ename": "NotImplementedError",
     "evalue": "The operator 'aten::_standard_gamma' is not currently implemented for the MPS device. If you want this op to be added in priority during the prototype phase of this feature, please comment on https://github.com/pytorch/pytorch/issues/77764. As a temporary fix, you can set the environment variable `PYTORCH_ENABLE_MPS_FALLBACK=1` to use the CPU as a fallback for this op. WARNING: this will be slower than running natively on MPS.",
     "output_type": "error",
     "traceback": [
      "\u001b[31m---------------------------------------------------------------------------\u001b[39m",
      "\u001b[31mNotImplementedError\u001b[39m                       Traceback (most recent call last)",
      "\u001b[36mCell\u001b[39m\u001b[36m \u001b[39m\u001b[32mIn[44]\u001b[39m\u001b[32m, line 1\u001b[39m\n\u001b[32m----> \u001b[39m\u001b[32m1\u001b[39m model, loss_history = \u001b[43mtraining\u001b[49m\u001b[43m(\u001b[49m\u001b[43mepochs\u001b[49m\u001b[43m=\u001b[49m\u001b[32;43m10\u001b[39;49m\u001b[43m,\u001b[49m\u001b[43m \u001b[49m\u001b[43mmodel\u001b[49m\u001b[43m=\u001b[49m\u001b[43mmodel\u001b[49m\u001b[43m,\u001b[49m\u001b[43m \u001b[49m\u001b[43mdevice\u001b[49m\u001b[43m=\u001b[49m\u001b[43mdevice\u001b[49m\u001b[43m)\u001b[49m\n",
      "\u001b[36mCell\u001b[39m\u001b[36m \u001b[39m\u001b[32mIn[42]\u001b[39m\u001b[32m, line 53\u001b[39m, in \u001b[36mtraining\u001b[39m\u001b[34m(epochs, model, device, train_dataloader, test_dataloader)\u001b[39m\n\u001b[32m     51\u001b[39m       loss_history.append(loss.item())\n\u001b[32m     52\u001b[39m       \u001b[38;5;28;01mif\u001b[39;00m idx % \u001b[32m200\u001b[39m == \u001b[32m0\u001b[39m:\n\u001b[32m---> \u001b[39m\u001b[32m53\u001b[39m           mase, smape = \u001b[43mtest\u001b[49m\u001b[43m(\u001b[49m\u001b[43m)\u001b[49m\n\u001b[32m     54\u001b[39m           \u001b[38;5;28mprint\u001b[39m(\u001b[33mf\u001b[39m\u001b[33m'\u001b[39m\u001b[33mEpoch \u001b[39m\u001b[38;5;132;01m{\u001b[39;00mepoch\u001b[38;5;132;01m}\u001b[39;00m\u001b[33m mape: \u001b[39m\u001b[38;5;132;01m{\u001b[39;00mmase\u001b[38;5;132;01m}\u001b[39;00m\u001b[33m & smape: \u001b[39m\u001b[38;5;132;01m{\u001b[39;00msmape\u001b[38;5;132;01m}\u001b[39;00m\u001b[33m  with loss: \u001b[39m\u001b[38;5;132;01m{\u001b[39;00mloss.item()\u001b[38;5;132;01m}\u001b[39;00m\u001b[33m'\u001b[39m)\n\u001b[32m     56\u001b[39m \u001b[38;5;28;01mreturn\u001b[39;00m model, loss_history\n",
      "\u001b[36mCell\u001b[39m\u001b[36m \u001b[39m\u001b[32mIn[41]\u001b[39m\u001b[32m, line 11\u001b[39m, in \u001b[36mtest\u001b[39m\u001b[34m()\u001b[39m\n\u001b[32m      5\u001b[39m     \u001b[38;5;66;03m# for data in tqdm(train_dataloader,  desc=f\"Epoch {epoch+1}\"):\u001b[39;00m\n\u001b[32m      6\u001b[39m \u001b[38;5;28;01mfor\u001b[39;00m idx, batch \u001b[38;5;129;01min\u001b[39;00m \u001b[38;5;28menumerate\u001b[39m(test_progress_bar):\n\u001b[32m      7\u001b[39m   \u001b[38;5;66;03m# for k, v in batch.items():\u001b[39;00m\n\u001b[32m      8\u001b[39m   \u001b[38;5;66;03m#   print(k, v.shape, v.type())\u001b[39;00m\n\u001b[32m      9\u001b[39m   \u001b[38;5;66;03m# print(f'past_observed_mask {batch[\"past_observed_mask\"].to(device).repeat(1,1, 3).shape}')\u001b[39;00m\n\u001b[32m     10\u001b[39m   \u001b[38;5;66;03m# print(f'future_time_features {batch[\"future_time_features\"].to(device).shape}')\u001b[39;00m\n\u001b[32m---> \u001b[39m\u001b[32m11\u001b[39m   outputs = \u001b[43mmodel\u001b[49m\u001b[43m.\u001b[49m\u001b[43mgenerate\u001b[49m\u001b[43m(\u001b[49m\n\u001b[32m     12\u001b[39m \u001b[43m    \u001b[49m\u001b[43mstatic_categorical_features\u001b[49m\u001b[43m=\u001b[49m\u001b[43mbatch\u001b[49m\u001b[43m[\u001b[49m\u001b[33;43m\"\u001b[39;49m\u001b[33;43mstatic_categorical_features\u001b[39;49m\u001b[33;43m\"\u001b[39;49m\u001b[43m]\u001b[49m\u001b[43m.\u001b[49m\u001b[43mto\u001b[49m\u001b[43m(\u001b[49m\u001b[43mdevice\u001b[49m\u001b[43m)\u001b[49m\n\u001b[32m     13\u001b[39m \u001b[43m    \u001b[49m\u001b[38;5;28;43;01mif\u001b[39;49;00m\u001b[43m \u001b[49m\u001b[43mconfig\u001b[49m\u001b[43m.\u001b[49m\u001b[43mnum_static_categorical_features\u001b[49m\u001b[43m \u001b[49m\u001b[43m>\u001b[49m\u001b[43m \u001b[49m\u001b[32;43m0\u001b[39;49m\n\u001b[32m     14\u001b[39m \u001b[43m    \u001b[49m\u001b[38;5;28;43;01melse\u001b[39;49;00m\u001b[43m \u001b[49m\u001b[38;5;28;43;01mNone\u001b[39;49;00m\u001b[43m,\u001b[49m\n\u001b[32m     15\u001b[39m \u001b[43m    \u001b[49m\u001b[43mstatic_real_features\u001b[49m\u001b[43m=\u001b[49m\u001b[43mbatch\u001b[49m\u001b[43m[\u001b[49m\u001b[33;43m\"\u001b[39;49m\u001b[33;43mstatic_real_features\u001b[39;49m\u001b[33;43m\"\u001b[39;49m\u001b[43m]\u001b[49m\u001b[43m.\u001b[49m\u001b[43mto\u001b[49m\u001b[43m(\u001b[49m\u001b[43mdevice\u001b[49m\u001b[43m)\u001b[49m\n\u001b[32m     16\u001b[39m \u001b[43m    \u001b[49m\u001b[38;5;28;43;01mif\u001b[39;49;00m\u001b[43m \u001b[49m\u001b[43mconfig\u001b[49m\u001b[43m.\u001b[49m\u001b[43mnum_static_real_features\u001b[49m\u001b[43m \u001b[49m\u001b[43m>\u001b[49m\u001b[43m \u001b[49m\u001b[32;43m0\u001b[39;49m\n\u001b[32m     17\u001b[39m \u001b[43m    \u001b[49m\u001b[38;5;28;43;01melse\u001b[39;49;00m\u001b[43m \u001b[49m\u001b[38;5;28;43;01mNone\u001b[39;49;00m\u001b[43m,\u001b[49m\n\u001b[32m     18\u001b[39m \u001b[43m    \u001b[49m\u001b[43mpast_time_features\u001b[49m\u001b[43m=\u001b[49m\u001b[43mbatch\u001b[49m\u001b[43m[\u001b[49m\u001b[33;43m\"\u001b[39;49m\u001b[33;43mpast_time_features\u001b[39;49m\u001b[33;43m\"\u001b[39;49m\u001b[43m]\u001b[49m\u001b[43m.\u001b[49m\u001b[43mto\u001b[49m\u001b[43m(\u001b[49m\u001b[43mdevice\u001b[49m\u001b[43m)\u001b[49m\u001b[43m,\u001b[49m\n\u001b[32m     19\u001b[39m \u001b[43m    \u001b[49m\u001b[43mpast_values\u001b[49m\u001b[43m=\u001b[49m\u001b[43mbatch\u001b[49m\u001b[43m[\u001b[49m\u001b[33;43m\"\u001b[39;49m\u001b[33;43mpast_values\u001b[39;49m\u001b[33;43m\"\u001b[39;49m\u001b[43m]\u001b[49m\u001b[43m.\u001b[49m\u001b[43mto\u001b[49m\u001b[43m(\u001b[49m\u001b[43mdevice\u001b[49m\u001b[43m)\u001b[49m\u001b[43m,\u001b[49m\n\u001b[32m     20\u001b[39m \u001b[43m    \u001b[49m\u001b[43mfuture_time_features\u001b[49m\u001b[43m=\u001b[49m\u001b[43mbatch\u001b[49m\u001b[43m[\u001b[49m\u001b[33;43m\"\u001b[39;49m\u001b[33;43mfuture_time_features\u001b[39;49m\u001b[33;43m\"\u001b[39;49m\u001b[43m]\u001b[49m\u001b[43m.\u001b[49m\u001b[43mto\u001b[49m\u001b[43m(\u001b[49m\u001b[43mdevice\u001b[49m\u001b[43m)\u001b[49m\u001b[43m,\u001b[49m\n\u001b[32m     21\u001b[39m \u001b[43m    \u001b[49m\u001b[43mpast_observed_mask\u001b[49m\u001b[43m=\u001b[49m\u001b[43mbatch\u001b[49m\u001b[43m[\u001b[49m\u001b[33;43m\"\u001b[39;49m\u001b[33;43mpast_observed_mask\u001b[39;49m\u001b[33;43m\"\u001b[39;49m\u001b[43m]\u001b[49m\u001b[43m.\u001b[49m\u001b[43mto\u001b[49m\u001b[43m(\u001b[49m\u001b[43mdevice\u001b[49m\u001b[43m)\u001b[49m\u001b[43m,\u001b[49m\n\u001b[32m     22\u001b[39m \u001b[43m  \u001b[49m\u001b[43m)\u001b[49m\n\u001b[32m     23\u001b[39m forecasts_.append(outputs.sequences.cpu().numpy())\n\u001b[32m     24\u001b[39m forecasts = np.vstack(forecasts_)\n",
      "\u001b[36mFile \u001b[39m\u001b[32m~/miniforge3/envs/gpu_py311/lib/python3.11/site-packages/torch/utils/_contextlib.py:116\u001b[39m, in \u001b[36mcontext_decorator.<locals>.decorate_context\u001b[39m\u001b[34m(*args, **kwargs)\u001b[39m\n\u001b[32m    113\u001b[39m \u001b[38;5;129m@functools\u001b[39m.wraps(func)\n\u001b[32m    114\u001b[39m \u001b[38;5;28;01mdef\u001b[39;00m\u001b[38;5;250m \u001b[39m\u001b[34mdecorate_context\u001b[39m(*args, **kwargs):\n\u001b[32m    115\u001b[39m     \u001b[38;5;28;01mwith\u001b[39;00m ctx_factory():\n\u001b[32m--> \u001b[39m\u001b[32m116\u001b[39m         \u001b[38;5;28;01mreturn\u001b[39;00m \u001b[43mfunc\u001b[49m\u001b[43m(\u001b[49m\u001b[43m*\u001b[49m\u001b[43margs\u001b[49m\u001b[43m,\u001b[49m\u001b[43m \u001b[49m\u001b[43m*\u001b[49m\u001b[43m*\u001b[49m\u001b[43mkwargs\u001b[49m\u001b[43m)\u001b[49m\n",
      "\u001b[36mFile \u001b[39m\u001b[32m~/miniforge3/envs/gpu_py311/lib/python3.11/site-packages/transformers/models/informer/modeling_informer.py:2049\u001b[39m, in \u001b[36mInformerForPrediction.generate\u001b[39m\u001b[34m(self, past_values, past_time_features, future_time_features, past_observed_mask, static_categorical_features, static_real_features, output_attentions, output_hidden_states)\u001b[39m\n\u001b[32m   2047\u001b[39m params = \u001b[38;5;28mself\u001b[39m.parameter_projection(dec_last_hidden[:, -\u001b[32m1\u001b[39m:])\n\u001b[32m   2048\u001b[39m distr = \u001b[38;5;28mself\u001b[39m.output_distribution(params, loc=repeated_loc, scale=repeated_scale)\n\u001b[32m-> \u001b[39m\u001b[32m2049\u001b[39m next_sample = \u001b[43mdistr\u001b[49m\u001b[43m.\u001b[49m\u001b[43msample\u001b[49m\u001b[43m(\u001b[49m\u001b[43m)\u001b[49m\n\u001b[32m   2051\u001b[39m repeated_past_values = torch.cat(\n\u001b[32m   2052\u001b[39m     (repeated_past_values, (next_sample - repeated_loc) / repeated_scale), dim=\u001b[32m1\u001b[39m\n\u001b[32m   2053\u001b[39m )\n\u001b[32m   2054\u001b[39m future_samples.append(next_sample)\n",
      "\u001b[36mFile \u001b[39m\u001b[32m~/miniforge3/envs/gpu_py311/lib/python3.11/site-packages/torch/distributions/transformed_distribution.py:141\u001b[39m, in \u001b[36mTransformedDistribution.sample\u001b[39m\u001b[34m(self, sample_shape)\u001b[39m\n\u001b[32m    134\u001b[39m \u001b[38;5;250m\u001b[39m\u001b[33;03m\"\"\"\u001b[39;00m\n\u001b[32m    135\u001b[39m \u001b[33;03mGenerates a sample_shape shaped sample or sample_shape shaped batch of\u001b[39;00m\n\u001b[32m    136\u001b[39m \u001b[33;03msamples if the distribution parameters are batched. Samples first from\u001b[39;00m\n\u001b[32m    137\u001b[39m \u001b[33;03mbase distribution and applies `transform()` for every transform in the\u001b[39;00m\n\u001b[32m    138\u001b[39m \u001b[33;03mlist.\u001b[39;00m\n\u001b[32m    139\u001b[39m \u001b[33;03m\"\"\"\u001b[39;00m\n\u001b[32m    140\u001b[39m \u001b[38;5;28;01mwith\u001b[39;00m torch.no_grad():\n\u001b[32m--> \u001b[39m\u001b[32m141\u001b[39m     x = \u001b[38;5;28;43mself\u001b[39;49m\u001b[43m.\u001b[49m\u001b[43mbase_dist\u001b[49m\u001b[43m.\u001b[49m\u001b[43msample\u001b[49m\u001b[43m(\u001b[49m\u001b[43msample_shape\u001b[49m\u001b[43m)\u001b[49m\n\u001b[32m    142\u001b[39m     \u001b[38;5;28;01mfor\u001b[39;00m transform \u001b[38;5;129;01min\u001b[39;00m \u001b[38;5;28mself\u001b[39m.transforms:\n\u001b[32m    143\u001b[39m         x = transform(x)\n",
      "\u001b[36mFile \u001b[39m\u001b[32m~/miniforge3/envs/gpu_py311/lib/python3.11/site-packages/torch/distributions/independent.py:104\u001b[39m, in \u001b[36mIndependent.sample\u001b[39m\u001b[34m(self, sample_shape)\u001b[39m\n\u001b[32m    103\u001b[39m \u001b[38;5;28;01mdef\u001b[39;00m\u001b[38;5;250m \u001b[39m\u001b[34msample\u001b[39m(\u001b[38;5;28mself\u001b[39m, sample_shape=torch.Size()):\n\u001b[32m--> \u001b[39m\u001b[32m104\u001b[39m     \u001b[38;5;28;01mreturn\u001b[39;00m \u001b[38;5;28;43mself\u001b[39;49m\u001b[43m.\u001b[49m\u001b[43mbase_dist\u001b[49m\u001b[43m.\u001b[49m\u001b[43msample\u001b[49m\u001b[43m(\u001b[49m\u001b[43msample_shape\u001b[49m\u001b[43m)\u001b[49m\n",
      "\u001b[36mFile \u001b[39m\u001b[32m~/miniforge3/envs/gpu_py311/lib/python3.11/site-packages/torch/distributions/distribution.py:167\u001b[39m, in \u001b[36mDistribution.sample\u001b[39m\u001b[34m(self, sample_shape)\u001b[39m\n\u001b[32m    162\u001b[39m \u001b[38;5;250m\u001b[39m\u001b[33;03m\"\"\"\u001b[39;00m\n\u001b[32m    163\u001b[39m \u001b[33;03mGenerates a sample_shape shaped sample or sample_shape shaped batch of\u001b[39;00m\n\u001b[32m    164\u001b[39m \u001b[33;03msamples if the distribution parameters are batched.\u001b[39;00m\n\u001b[32m    165\u001b[39m \u001b[33;03m\"\"\"\u001b[39;00m\n\u001b[32m    166\u001b[39m \u001b[38;5;28;01mwith\u001b[39;00m torch.no_grad():\n\u001b[32m--> \u001b[39m\u001b[32m167\u001b[39m     \u001b[38;5;28;01mreturn\u001b[39;00m \u001b[38;5;28;43mself\u001b[39;49m\u001b[43m.\u001b[49m\u001b[43mrsample\u001b[49m\u001b[43m(\u001b[49m\u001b[43msample_shape\u001b[49m\u001b[43m)\u001b[49m\n",
      "\u001b[36mFile \u001b[39m\u001b[32m~/miniforge3/envs/gpu_py311/lib/python3.11/site-packages/torch/distributions/studentT.py:89\u001b[39m, in \u001b[36mStudentT.rsample\u001b[39m\u001b[34m(self, sample_shape)\u001b[39m\n\u001b[32m     87\u001b[39m shape = \u001b[38;5;28mself\u001b[39m._extended_shape(sample_shape)\n\u001b[32m     88\u001b[39m X = _standard_normal(shape, dtype=\u001b[38;5;28mself\u001b[39m.df.dtype, device=\u001b[38;5;28mself\u001b[39m.df.device)\n\u001b[32m---> \u001b[39m\u001b[32m89\u001b[39m Z = \u001b[38;5;28;43mself\u001b[39;49m\u001b[43m.\u001b[49m\u001b[43m_chi2\u001b[49m\u001b[43m.\u001b[49m\u001b[43mrsample\u001b[49m\u001b[43m(\u001b[49m\u001b[43msample_shape\u001b[49m\u001b[43m)\u001b[49m\n\u001b[32m     90\u001b[39m Y = X * torch.rsqrt(Z / \u001b[38;5;28mself\u001b[39m.df)\n\u001b[32m     91\u001b[39m \u001b[38;5;28;01mreturn\u001b[39;00m \u001b[38;5;28mself\u001b[39m.loc + \u001b[38;5;28mself\u001b[39m.scale * Y\n",
      "\u001b[36mFile \u001b[39m\u001b[32m~/miniforge3/envs/gpu_py311/lib/python3.11/site-packages/torch/distributions/gamma.py:74\u001b[39m, in \u001b[36mGamma.rsample\u001b[39m\u001b[34m(self, sample_shape)\u001b[39m\n\u001b[32m     72\u001b[39m \u001b[38;5;28;01mdef\u001b[39;00m\u001b[38;5;250m \u001b[39m\u001b[34mrsample\u001b[39m(\u001b[38;5;28mself\u001b[39m, sample_shape: _size = torch.Size()) -> torch.Tensor:\n\u001b[32m     73\u001b[39m     shape = \u001b[38;5;28mself\u001b[39m._extended_shape(sample_shape)\n\u001b[32m---> \u001b[39m\u001b[32m74\u001b[39m     value = \u001b[43m_standard_gamma\u001b[49m\u001b[43m(\u001b[49m\u001b[38;5;28;43mself\u001b[39;49m\u001b[43m.\u001b[49m\u001b[43mconcentration\u001b[49m\u001b[43m.\u001b[49m\u001b[43mexpand\u001b[49m\u001b[43m(\u001b[49m\u001b[43mshape\u001b[49m\u001b[43m)\u001b[49m\u001b[43m)\u001b[49m / \u001b[38;5;28mself\u001b[39m.rate.expand(\n\u001b[32m     75\u001b[39m         shape\n\u001b[32m     76\u001b[39m     )\n\u001b[32m     77\u001b[39m     value.detach().clamp_(\n\u001b[32m     78\u001b[39m         \u001b[38;5;28mmin\u001b[39m=torch.finfo(value.dtype).tiny\n\u001b[32m     79\u001b[39m     )  \u001b[38;5;66;03m# do not record in autograd graph\u001b[39;00m\n\u001b[32m     80\u001b[39m     \u001b[38;5;28;01mreturn\u001b[39;00m value\n",
      "\u001b[36mFile \u001b[39m\u001b[32m~/miniforge3/envs/gpu_py311/lib/python3.11/site-packages/torch/distributions/gamma.py:15\u001b[39m, in \u001b[36m_standard_gamma\u001b[39m\u001b[34m(concentration)\u001b[39m\n\u001b[32m     14\u001b[39m \u001b[38;5;28;01mdef\u001b[39;00m\u001b[38;5;250m \u001b[39m\u001b[34m_standard_gamma\u001b[39m(concentration):\n\u001b[32m---> \u001b[39m\u001b[32m15\u001b[39m     \u001b[38;5;28;01mreturn\u001b[39;00m \u001b[43mtorch\u001b[49m\u001b[43m.\u001b[49m\u001b[43m_standard_gamma\u001b[49m\u001b[43m(\u001b[49m\u001b[43mconcentration\u001b[49m\u001b[43m)\u001b[49m\n",
      "\u001b[31mNotImplementedError\u001b[39m: The operator 'aten::_standard_gamma' is not currently implemented for the MPS device. If you want this op to be added in priority during the prototype phase of this feature, please comment on https://github.com/pytorch/pytorch/issues/77764. As a temporary fix, you can set the environment variable `PYTORCH_ENABLE_MPS_FALLBACK=1` to use the CPU as a fallback for this op. WARNING: this will be slower than running natively on MPS."
     ]
    }
   ],
   "source": [
    "model, loss_history = training(epochs=10, model=model, device=device)"
   ]
  },
  {
   "cell_type": "code",
   "execution_count": null,
   "id": "Iv2yNOeoKw_W",
   "metadata": {
    "id": "Iv2yNOeoKw_W"
   },
   "outputs": [],
   "source": []
  },
  {
   "cell_type": "code",
   "execution_count": null,
   "id": "fe07c300-e02d-4e26-9359-1de2b5db2f6b",
   "metadata": {
    "id": "fe07c300-e02d-4e26-9359-1de2b5db2f6b"
   },
   "outputs": [],
   "source": [
    "# import os\n",
    "# work_dir = os.getcwd()\n",
    "# work_dir = os.getcwd()\n",
    "# data_dir = work_dir.replace(\"GitHub/RocketPill/ipynb-notebooks\", \"Data/\")"
   ]
  },
  {
   "cell_type": "code",
   "execution_count": null,
   "id": "412f5e61-0370-4e0f-9c5a-518ae490dcc0",
   "metadata": {
    "colab": {
     "base_uri": "https://localhost:8080/",
     "height": 489
    },
    "id": "412f5e61-0370-4e0f-9c5a-518ae490dcc0",
    "outputId": "7d024108-b2f5-42c9-c6df-c5ede907e471"
   },
   "outputs": [],
   "source": [
    "# view training\n",
    "loss_history = np.array(loss_history).reshape(-1)\n",
    "x = range(loss_history.shape[0])\n",
    "plt.figure(figsize=(10, 5))\n",
    "plt.plot(x, loss_history, label=\"train\")\n",
    "plt.title(\"Loss\", fontsize=15)\n",
    "plt.legend(loc=\"upper right\")\n",
    "plt.xlabel(\"iteration\")\n",
    "plt.ylabel(\"nll\")\n",
    "# plt.savefig(data_dir+\"hf_informer4roqeto_loss_curve_\"+str(datetime.now()).replace(\":\",\".\")+\".png\")\n",
    "plt.show()"
   ]
  },
  {
   "cell_type": "code",
   "execution_count": null,
   "id": "f39a8680-bc2b-4f15-ab80-9ac70887e7ac",
   "metadata": {
    "id": "f39a8680-bc2b-4f15-ab80-9ac70887e7ac"
   },
   "outputs": [],
   "source": [
    "# from huggingface_hub import notebook_login\n",
    "# notebook_login()"
   ]
  },
  {
   "cell_type": "code",
   "execution_count": null,
   "id": "498a9ab5-096c-441d-b6df-e8493066e708",
   "metadata": {
    "id": "498a9ab5-096c-441d-b6df-e8493066e708"
   },
   "outputs": [],
   "source": [
    "# model.push_to_hub(\"shaddie/rocketpill_thrustcurve_informer_model\",\n",
    "#                   use_auth_token=True,\n",
    "#                   commit_message=\"training-time-series-thrust-curve\",\n",
    "#                   private=False)"
   ]
  },
  {
   "cell_type": "code",
   "execution_count": 1,
   "id": "PIaRJ-h-1qQQ",
   "metadata": {
    "id": "PIaRJ-h-1qQQ"
   },
   "outputs": [
    {
     "data": {
      "text/plain": [
       "[0.0, 0.0, 0.0, 0.0, 0.0]"
      ]
     },
     "execution_count": 1,
     "metadata": {},
     "output_type": "execute_result"
    }
   ],
   "source": [
    "[0.0 for i in range(5)]"
   ]
  },
  {
   "cell_type": "code",
   "execution_count": null,
   "id": "8d7be976-8ff1-40f0-b247-13ba19f3a488",
   "metadata": {},
   "outputs": [],
   "source": []
  }
 ],
 "metadata": {
  "accelerator": "GPU",
  "colab": {
   "gpuType": "T4",
   "provenance": []
  },
  "kernelspec": {
   "display_name": "Python 3 (ipykernel)",
   "language": "python",
   "name": "python3"
  },
  "language_info": {
   "codemirror_mode": {
    "name": "ipython",
    "version": 3
   },
   "file_extension": ".py",
   "mimetype": "text/x-python",
   "name": "python",
   "nbconvert_exporter": "python",
   "pygments_lexer": "ipython3",
   "version": "3.11.13"
  },
  "widgets": {
   "application/vnd.jupyter.widget-state+json": {
    "023d5c048524446fb2964992c4e4f299": {
     "model_module": "@jupyter-widgets/controls",
     "model_module_version": "1.5.0",
     "model_name": "HBoxModel",
     "state": {
      "_dom_classes": [],
      "_model_module": "@jupyter-widgets/controls",
      "_model_module_version": "1.5.0",
      "_model_name": "HBoxModel",
      "_view_count": null,
      "_view_module": "@jupyter-widgets/controls",
      "_view_module_version": "1.5.0",
      "_view_name": "HBoxView",
      "box_style": "",
      "children": [
       "IPY_MODEL_07b159d310624da58019040ac3bdb8e5",
       "IPY_MODEL_1e4c43d8835d40e2a70fc3745c0ba91b",
       "IPY_MODEL_b9fb11b6cc614417bc35260f7894592d"
      ],
      "layout": "IPY_MODEL_dd4972cf946d43e5b8f9d8de808288a2"
     }
    },
    "07b159d310624da58019040ac3bdb8e5": {
     "model_module": "@jupyter-widgets/controls",
     "model_module_version": "1.5.0",
     "model_name": "HTMLModel",
     "state": {
      "_dom_classes": [],
      "_model_module": "@jupyter-widgets/controls",
      "_model_module_version": "1.5.0",
      "_model_name": "HTMLModel",
      "_view_count": null,
      "_view_module": "@jupyter-widgets/controls",
      "_view_module_version": "1.5.0",
      "_view_name": "HTMLView",
      "description": "",
      "description_tooltip": null,
      "layout": "IPY_MODEL_cec2ad4b4df041eea5bf664ef2aca418",
      "placeholder": "​",
      "style": "IPY_MODEL_7818dc55cf21453290f7536a8dc51cb5",
      "value": "config.json: 100%"
     }
    },
    "0ab22b236f1e4ed989246cc91dfc15fb": {
     "model_module": "@jupyter-widgets/controls",
     "model_module_version": "1.5.0",
     "model_name": "DescriptionStyleModel",
     "state": {
      "_model_module": "@jupyter-widgets/controls",
      "_model_module_version": "1.5.0",
      "_model_name": "DescriptionStyleModel",
      "_view_count": null,
      "_view_module": "@jupyter-widgets/base",
      "_view_module_version": "1.2.0",
      "_view_name": "StyleView",
      "description_width": ""
     }
    },
    "109bd3105c7a4638b0fdb98830dff8ea": {
     "model_module": "@jupyter-widgets/controls",
     "model_module_version": "1.5.0",
     "model_name": "DescriptionStyleModel",
     "state": {
      "_model_module": "@jupyter-widgets/controls",
      "_model_module_version": "1.5.0",
      "_model_name": "DescriptionStyleModel",
      "_view_count": null,
      "_view_module": "@jupyter-widgets/base",
      "_view_module_version": "1.2.0",
      "_view_name": "StyleView",
      "description_width": ""
     }
    },
    "10b7997527d445f7b540318d8e218b12": {
     "model_module": "@jupyter-widgets/controls",
     "model_module_version": "1.5.0",
     "model_name": "HTMLModel",
     "state": {
      "_dom_classes": [],
      "_model_module": "@jupyter-widgets/controls",
      "_model_module_version": "1.5.0",
      "_model_name": "HTMLModel",
      "_view_count": null,
      "_view_module": "@jupyter-widgets/controls",
      "_view_module_version": "1.5.0",
      "_view_name": "HTMLView",
      "description": "",
      "description_tooltip": null,
      "layout": "IPY_MODEL_4a2033c436e744f28ed5745966ac4ea1",
      "placeholder": "​",
      "style": "IPY_MODEL_109bd3105c7a4638b0fdb98830dff8ea",
      "value": "model.safetensors: 100%"
     }
    },
    "1bc49bac4ef742d0aa87264b59cd4a01": {
     "model_module": "@jupyter-widgets/base",
     "model_module_version": "1.2.0",
     "model_name": "LayoutModel",
     "state": {
      "_model_module": "@jupyter-widgets/base",
      "_model_module_version": "1.2.0",
      "_model_name": "LayoutModel",
      "_view_count": null,
      "_view_module": "@jupyter-widgets/base",
      "_view_module_version": "1.2.0",
      "_view_name": "LayoutView",
      "align_content": null,
      "align_items": null,
      "align_self": null,
      "border": null,
      "bottom": null,
      "display": null,
      "flex": null,
      "flex_flow": null,
      "grid_area": null,
      "grid_auto_columns": null,
      "grid_auto_flow": null,
      "grid_auto_rows": null,
      "grid_column": null,
      "grid_gap": null,
      "grid_row": null,
      "grid_template_areas": null,
      "grid_template_columns": null,
      "grid_template_rows": null,
      "height": null,
      "justify_content": null,
      "justify_items": null,
      "left": null,
      "margin": null,
      "max_height": null,
      "max_width": null,
      "min_height": null,
      "min_width": null,
      "object_fit": null,
      "object_position": null,
      "order": null,
      "overflow": null,
      "overflow_x": null,
      "overflow_y": null,
      "padding": null,
      "right": null,
      "top": null,
      "visibility": null,
      "width": null
     }
    },
    "1e4c43d8835d40e2a70fc3745c0ba91b": {
     "model_module": "@jupyter-widgets/controls",
     "model_module_version": "1.5.0",
     "model_name": "FloatProgressModel",
     "state": {
      "_dom_classes": [],
      "_model_module": "@jupyter-widgets/controls",
      "_model_module_version": "1.5.0",
      "_model_name": "FloatProgressModel",
      "_view_count": null,
      "_view_module": "@jupyter-widgets/controls",
      "_view_module_version": "1.5.0",
      "_view_name": "ProgressView",
      "bar_style": "success",
      "description": "",
      "description_tooltip": null,
      "layout": "IPY_MODEL_ca7b4c4cca604a7a9695745d7fdb3d6b",
      "max": 1073,
      "min": 0,
      "orientation": "horizontal",
      "style": "IPY_MODEL_b73554d8ded243b1a2564e73ca6ca07a",
      "value": 1073
     }
    },
    "218cffe32ac44a41939159bcc4552283": {
     "model_module": "@jupyter-widgets/controls",
     "model_module_version": "1.5.0",
     "model_name": "HTMLModel",
     "state": {
      "_dom_classes": [],
      "_model_module": "@jupyter-widgets/controls",
      "_model_module_version": "1.5.0",
      "_model_name": "HTMLModel",
      "_view_count": null,
      "_view_module": "@jupyter-widgets/controls",
      "_view_module_version": "1.5.0",
      "_view_name": "HTMLView",
      "description": "",
      "description_tooltip": null,
      "layout": "IPY_MODEL_931aa5f0be5045c28d8d3b22414d5819",
      "placeholder": "​",
      "style": "IPY_MODEL_51f32d4ac95e4568bb843fa33b67f5ff",
      "value": "all_thrust_curves_window_data.json: 100%"
     }
    },
    "277cd23a9d274460b866b86fbcb28aab": {
     "model_module": "@jupyter-widgets/controls",
     "model_module_version": "1.5.0",
     "model_name": "DescriptionStyleModel",
     "state": {
      "_model_module": "@jupyter-widgets/controls",
      "_model_module_version": "1.5.0",
      "_model_name": "DescriptionStyleModel",
      "_view_count": null,
      "_view_module": "@jupyter-widgets/base",
      "_view_module_version": "1.2.0",
      "_view_name": "StyleView",
      "description_width": ""
     }
    },
    "2bd99ca7c4434f6f816124e6e22b5b18": {
     "model_module": "@jupyter-widgets/base",
     "model_module_version": "1.2.0",
     "model_name": "LayoutModel",
     "state": {
      "_model_module": "@jupyter-widgets/base",
      "_model_module_version": "1.2.0",
      "_model_name": "LayoutModel",
      "_view_count": null,
      "_view_module": "@jupyter-widgets/base",
      "_view_module_version": "1.2.0",
      "_view_name": "LayoutView",
      "align_content": null,
      "align_items": null,
      "align_self": null,
      "border": null,
      "bottom": null,
      "display": null,
      "flex": null,
      "flex_flow": null,
      "grid_area": null,
      "grid_auto_columns": null,
      "grid_auto_flow": null,
      "grid_auto_rows": null,
      "grid_column": null,
      "grid_gap": null,
      "grid_row": null,
      "grid_template_areas": null,
      "grid_template_columns": null,
      "grid_template_rows": null,
      "height": null,
      "justify_content": null,
      "justify_items": null,
      "left": null,
      "margin": null,
      "max_height": null,
      "max_width": null,
      "min_height": null,
      "min_width": null,
      "object_fit": null,
      "object_position": null,
      "order": null,
      "overflow": null,
      "overflow_x": null,
      "overflow_y": null,
      "padding": null,
      "right": null,
      "top": null,
      "visibility": null,
      "width": null
     }
    },
    "2ce440e4e48e4c638235b047b887c6c8": {
     "model_module": "@jupyter-widgets/base",
     "model_module_version": "1.2.0",
     "model_name": "LayoutModel",
     "state": {
      "_model_module": "@jupyter-widgets/base",
      "_model_module_version": "1.2.0",
      "_model_name": "LayoutModel",
      "_view_count": null,
      "_view_module": "@jupyter-widgets/base",
      "_view_module_version": "1.2.0",
      "_view_name": "LayoutView",
      "align_content": null,
      "align_items": null,
      "align_self": null,
      "border": null,
      "bottom": null,
      "display": null,
      "flex": null,
      "flex_flow": null,
      "grid_area": null,
      "grid_auto_columns": null,
      "grid_auto_flow": null,
      "grid_auto_rows": null,
      "grid_column": null,
      "grid_gap": null,
      "grid_row": null,
      "grid_template_areas": null,
      "grid_template_columns": null,
      "grid_template_rows": null,
      "height": null,
      "justify_content": null,
      "justify_items": null,
      "left": null,
      "margin": null,
      "max_height": null,
      "max_width": null,
      "min_height": null,
      "min_width": null,
      "object_fit": null,
      "object_position": null,
      "order": null,
      "overflow": null,
      "overflow_x": null,
      "overflow_y": null,
      "padding": null,
      "right": null,
      "top": null,
      "visibility": null,
      "width": null
     }
    },
    "30bd11dc873c490b93a7b16bc46497aa": {
     "model_module": "@jupyter-widgets/base",
     "model_module_version": "1.2.0",
     "model_name": "LayoutModel",
     "state": {
      "_model_module": "@jupyter-widgets/base",
      "_model_module_version": "1.2.0",
      "_model_name": "LayoutModel",
      "_view_count": null,
      "_view_module": "@jupyter-widgets/base",
      "_view_module_version": "1.2.0",
      "_view_name": "LayoutView",
      "align_content": null,
      "align_items": null,
      "align_self": null,
      "border": null,
      "bottom": null,
      "display": null,
      "flex": null,
      "flex_flow": null,
      "grid_area": null,
      "grid_auto_columns": null,
      "grid_auto_flow": null,
      "grid_auto_rows": null,
      "grid_column": null,
      "grid_gap": null,
      "grid_row": null,
      "grid_template_areas": null,
      "grid_template_columns": null,
      "grid_template_rows": null,
      "height": null,
      "justify_content": null,
      "justify_items": null,
      "left": null,
      "margin": null,
      "max_height": null,
      "max_width": null,
      "min_height": null,
      "min_width": null,
      "object_fit": null,
      "object_position": null,
      "order": null,
      "overflow": null,
      "overflow_x": null,
      "overflow_y": null,
      "padding": null,
      "right": null,
      "top": null,
      "visibility": null,
      "width": null
     }
    },
    "32eda7b34b2e466ba76fdbd6179fdacd": {
     "model_module": "@jupyter-widgets/base",
     "model_module_version": "1.2.0",
     "model_name": "LayoutModel",
     "state": {
      "_model_module": "@jupyter-widgets/base",
      "_model_module_version": "1.2.0",
      "_model_name": "LayoutModel",
      "_view_count": null,
      "_view_module": "@jupyter-widgets/base",
      "_view_module_version": "1.2.0",
      "_view_name": "LayoutView",
      "align_content": null,
      "align_items": null,
      "align_self": null,
      "border": null,
      "bottom": null,
      "display": null,
      "flex": null,
      "flex_flow": null,
      "grid_area": null,
      "grid_auto_columns": null,
      "grid_auto_flow": null,
      "grid_auto_rows": null,
      "grid_column": null,
      "grid_gap": null,
      "grid_row": null,
      "grid_template_areas": null,
      "grid_template_columns": null,
      "grid_template_rows": null,
      "height": null,
      "justify_content": null,
      "justify_items": null,
      "left": null,
      "margin": null,
      "max_height": null,
      "max_width": null,
      "min_height": null,
      "min_width": null,
      "object_fit": null,
      "object_position": null,
      "order": null,
      "overflow": null,
      "overflow_x": null,
      "overflow_y": null,
      "padding": null,
      "right": null,
      "top": null,
      "visibility": null,
      "width": null
     }
    },
    "33798f3d8ed4412da8b5bd9567677974": {
     "model_module": "@jupyter-widgets/controls",
     "model_module_version": "1.5.0",
     "model_name": "HBoxModel",
     "state": {
      "_dom_classes": [],
      "_model_module": "@jupyter-widgets/controls",
      "_model_module_version": "1.5.0",
      "_model_name": "HBoxModel",
      "_view_count": null,
      "_view_module": "@jupyter-widgets/controls",
      "_view_module_version": "1.5.0",
      "_view_name": "HBoxView",
      "box_style": "",
      "children": [
       "IPY_MODEL_218cffe32ac44a41939159bcc4552283",
       "IPY_MODEL_648cbf7777a64ba5b20bcb7754106803",
       "IPY_MODEL_9cb3ae9a36e24c46ac676eef3da3ebe0"
      ],
      "layout": "IPY_MODEL_ceff4bbcfc4c4f0a85ae5eb779e1b777"
     }
    },
    "431c8e023a874fc7a6441393cf1441b8": {
     "model_module": "@jupyter-widgets/controls",
     "model_module_version": "1.5.0",
     "model_name": "FloatProgressModel",
     "state": {
      "_dom_classes": [],
      "_model_module": "@jupyter-widgets/controls",
      "_model_module_version": "1.5.0",
      "_model_name": "FloatProgressModel",
      "_view_count": null,
      "_view_module": "@jupyter-widgets/controls",
      "_view_module_version": "1.5.0",
      "_view_name": "ProgressView",
      "bar_style": "success",
      "description": "",
      "description_tooltip": null,
      "layout": "IPY_MODEL_32eda7b34b2e466ba76fdbd6179fdacd",
      "max": 1482084,
      "min": 0,
      "orientation": "horizontal",
      "style": "IPY_MODEL_e059e94b5b82468c9cce64e074739742",
      "value": 1482084
     }
    },
    "44e83596418445e3b118cefd558ecd54": {
     "model_module": "@jupyter-widgets/controls",
     "model_module_version": "1.5.0",
     "model_name": "DescriptionStyleModel",
     "state": {
      "_model_module": "@jupyter-widgets/controls",
      "_model_module_version": "1.5.0",
      "_model_name": "DescriptionStyleModel",
      "_view_count": null,
      "_view_module": "@jupyter-widgets/base",
      "_view_module_version": "1.2.0",
      "_view_name": "StyleView",
      "description_width": ""
     }
    },
    "4808ee34d98b4538812910236ecb02f1": {
     "model_module": "@jupyter-widgets/controls",
     "model_module_version": "1.5.0",
     "model_name": "HBoxModel",
     "state": {
      "_dom_classes": [],
      "_model_module": "@jupyter-widgets/controls",
      "_model_module_version": "1.5.0",
      "_model_name": "HBoxModel",
      "_view_count": null,
      "_view_module": "@jupyter-widgets/controls",
      "_view_module_version": "1.5.0",
      "_view_name": "HBoxView",
      "box_style": "",
      "children": [
       "IPY_MODEL_10b7997527d445f7b540318d8e218b12",
       "IPY_MODEL_431c8e023a874fc7a6441393cf1441b8",
       "IPY_MODEL_6e7b177b210540b0a66259580c5d9aa6"
      ],
      "layout": "IPY_MODEL_2bd99ca7c4434f6f816124e6e22b5b18"
     }
    },
    "499f1f3188f241088d034bdbe824daa1": {
     "model_module": "@jupyter-widgets/controls",
     "model_module_version": "1.5.0",
     "model_name": "HBoxModel",
     "state": {
      "_dom_classes": [],
      "_model_module": "@jupyter-widgets/controls",
      "_model_module_version": "1.5.0",
      "_model_name": "HBoxModel",
      "_view_count": null,
      "_view_module": "@jupyter-widgets/controls",
      "_view_module_version": "1.5.0",
      "_view_name": "HBoxView",
      "box_style": "",
      "children": [
       "IPY_MODEL_50053b126a2b49b3ac7af0ffe15b436e",
       "IPY_MODEL_be683b9aada245c7aec6d048ad819e78",
       "IPY_MODEL_a1ce8cd5e4ba4f44bcc0c4ab0155ddcb"
      ],
      "layout": "IPY_MODEL_30bd11dc873c490b93a7b16bc46497aa"
     }
    },
    "4a2033c436e744f28ed5745966ac4ea1": {
     "model_module": "@jupyter-widgets/base",
     "model_module_version": "1.2.0",
     "model_name": "LayoutModel",
     "state": {
      "_model_module": "@jupyter-widgets/base",
      "_model_module_version": "1.2.0",
      "_model_name": "LayoutModel",
      "_view_count": null,
      "_view_module": "@jupyter-widgets/base",
      "_view_module_version": "1.2.0",
      "_view_name": "LayoutView",
      "align_content": null,
      "align_items": null,
      "align_self": null,
      "border": null,
      "bottom": null,
      "display": null,
      "flex": null,
      "flex_flow": null,
      "grid_area": null,
      "grid_auto_columns": null,
      "grid_auto_flow": null,
      "grid_auto_rows": null,
      "grid_column": null,
      "grid_gap": null,
      "grid_row": null,
      "grid_template_areas": null,
      "grid_template_columns": null,
      "grid_template_rows": null,
      "height": null,
      "justify_content": null,
      "justify_items": null,
      "left": null,
      "margin": null,
      "max_height": null,
      "max_width": null,
      "min_height": null,
      "min_width": null,
      "object_fit": null,
      "object_position": null,
      "order": null,
      "overflow": null,
      "overflow_x": null,
      "overflow_y": null,
      "padding": null,
      "right": null,
      "top": null,
      "visibility": null,
      "width": null
     }
    },
    "50053b126a2b49b3ac7af0ffe15b436e": {
     "model_module": "@jupyter-widgets/controls",
     "model_module_version": "1.5.0",
     "model_name": "HTMLModel",
     "state": {
      "_dom_classes": [],
      "_model_module": "@jupyter-widgets/controls",
      "_model_module_version": "1.5.0",
      "_model_name": "HTMLModel",
      "_view_count": null,
      "_view_module": "@jupyter-widgets/controls",
      "_view_module_version": "1.5.0",
      "_view_name": "HTMLView",
      "description": "",
      "description_tooltip": null,
      "layout": "IPY_MODEL_e542896d3ca34ef2aa4b2d66236d681c",
      "placeholder": "​",
      "style": "IPY_MODEL_f3c2646f211e40e6b484edf33c08834b",
      "value": "README.md: 100%"
     }
    },
    "51f32d4ac95e4568bb843fa33b67f5ff": {
     "model_module": "@jupyter-widgets/controls",
     "model_module_version": "1.5.0",
     "model_name": "DescriptionStyleModel",
     "state": {
      "_model_module": "@jupyter-widgets/controls",
      "_model_module_version": "1.5.0",
      "_model_name": "DescriptionStyleModel",
      "_view_count": null,
      "_view_module": "@jupyter-widgets/base",
      "_view_module_version": "1.2.0",
      "_view_name": "StyleView",
      "description_width": ""
     }
    },
    "5b76a97d89984ce8976434a8e6b9cdb4": {
     "model_module": "@jupyter-widgets/base",
     "model_module_version": "1.2.0",
     "model_name": "LayoutModel",
     "state": {
      "_model_module": "@jupyter-widgets/base",
      "_model_module_version": "1.2.0",
      "_model_name": "LayoutModel",
      "_view_count": null,
      "_view_module": "@jupyter-widgets/base",
      "_view_module_version": "1.2.0",
      "_view_name": "LayoutView",
      "align_content": null,
      "align_items": null,
      "align_self": null,
      "border": null,
      "bottom": null,
      "display": null,
      "flex": null,
      "flex_flow": null,
      "grid_area": null,
      "grid_auto_columns": null,
      "grid_auto_flow": null,
      "grid_auto_rows": null,
      "grid_column": null,
      "grid_gap": null,
      "grid_row": null,
      "grid_template_areas": null,
      "grid_template_columns": null,
      "grid_template_rows": null,
      "height": null,
      "justify_content": null,
      "justify_items": null,
      "left": null,
      "margin": null,
      "max_height": null,
      "max_width": null,
      "min_height": null,
      "min_width": null,
      "object_fit": null,
      "object_position": null,
      "order": null,
      "overflow": null,
      "overflow_x": null,
      "overflow_y": null,
      "padding": null,
      "right": null,
      "top": null,
      "visibility": null,
      "width": null
     }
    },
    "605d857dfc554f73ae468ff1fb2cc387": {
     "model_module": "@jupyter-widgets/controls",
     "model_module_version": "1.5.0",
     "model_name": "HTMLModel",
     "state": {
      "_dom_classes": [],
      "_model_module": "@jupyter-widgets/controls",
      "_model_module_version": "1.5.0",
      "_model_name": "HTMLModel",
      "_view_count": null,
      "_view_module": "@jupyter-widgets/controls",
      "_view_module_version": "1.5.0",
      "_view_name": "HTMLView",
      "description": "",
      "description_tooltip": null,
      "layout": "IPY_MODEL_ba7995e3ff1c4b7093dc119298992190",
      "placeholder": "​",
      "style": "IPY_MODEL_c1d4ed6fd3474c4a8d7b863b0ba16cd9",
      "value": " 266/266 [00:00&lt;00:00, 2540.63 examples/s]"
     }
    },
    "648cbf7777a64ba5b20bcb7754106803": {
     "model_module": "@jupyter-widgets/controls",
     "model_module_version": "1.5.0",
     "model_name": "FloatProgressModel",
     "state": {
      "_dom_classes": [],
      "_model_module": "@jupyter-widgets/controls",
      "_model_module_version": "1.5.0",
      "_model_name": "FloatProgressModel",
      "_view_count": null,
      "_view_module": "@jupyter-widgets/controls",
      "_view_module_version": "1.5.0",
      "_view_name": "ProgressView",
      "bar_style": "success",
      "description": "",
      "description_tooltip": null,
      "layout": "IPY_MODEL_8c9be4cb80ee4655803179d5f3137d76",
      "max": 237090,
      "min": 0,
      "orientation": "horizontal",
      "style": "IPY_MODEL_ccfb37f6452143f8923c7bae90a5e181",
      "value": 237090
     }
    },
    "66b5c07da00748ef8bfa5d168a6507c0": {
     "model_module": "@jupyter-widgets/controls",
     "model_module_version": "1.5.0",
     "model_name": "DescriptionStyleModel",
     "state": {
      "_model_module": "@jupyter-widgets/controls",
      "_model_module_version": "1.5.0",
      "_model_name": "DescriptionStyleModel",
      "_view_count": null,
      "_view_module": "@jupyter-widgets/base",
      "_view_module_version": "1.2.0",
      "_view_name": "StyleView",
      "description_width": ""
     }
    },
    "6b97752a64b14384b98581b40c179188": {
     "model_module": "@jupyter-widgets/controls",
     "model_module_version": "1.5.0",
     "model_name": "ProgressStyleModel",
     "state": {
      "_model_module": "@jupyter-widgets/controls",
      "_model_module_version": "1.5.0",
      "_model_name": "ProgressStyleModel",
      "_view_count": null,
      "_view_module": "@jupyter-widgets/base",
      "_view_module_version": "1.2.0",
      "_view_name": "StyleView",
      "bar_color": null,
      "description_width": ""
     }
    },
    "6e7b177b210540b0a66259580c5d9aa6": {
     "model_module": "@jupyter-widgets/controls",
     "model_module_version": "1.5.0",
     "model_name": "HTMLModel",
     "state": {
      "_dom_classes": [],
      "_model_module": "@jupyter-widgets/controls",
      "_model_module_version": "1.5.0",
      "_model_name": "HTMLModel",
      "_view_count": null,
      "_view_module": "@jupyter-widgets/controls",
      "_view_module_version": "1.5.0",
      "_view_name": "HTMLView",
      "description": "",
      "description_tooltip": null,
      "layout": "IPY_MODEL_2ce440e4e48e4c638235b047b887c6c8",
      "placeholder": "​",
      "style": "IPY_MODEL_44e83596418445e3b118cefd558ecd54",
      "value": " 1.48M/1.48M [00:00&lt;00:00, 10.1MB/s]"
     }
    },
    "71c957ea108943ee9fcdf4efddf186d5": {
     "model_module": "@jupyter-widgets/base",
     "model_module_version": "1.2.0",
     "model_name": "LayoutModel",
     "state": {
      "_model_module": "@jupyter-widgets/base",
      "_model_module_version": "1.2.0",
      "_model_name": "LayoutModel",
      "_view_count": null,
      "_view_module": "@jupyter-widgets/base",
      "_view_module_version": "1.2.0",
      "_view_name": "LayoutView",
      "align_content": null,
      "align_items": null,
      "align_self": null,
      "border": null,
      "bottom": null,
      "display": null,
      "flex": null,
      "flex_flow": null,
      "grid_area": null,
      "grid_auto_columns": null,
      "grid_auto_flow": null,
      "grid_auto_rows": null,
      "grid_column": null,
      "grid_gap": null,
      "grid_row": null,
      "grid_template_areas": null,
      "grid_template_columns": null,
      "grid_template_rows": null,
      "height": null,
      "justify_content": null,
      "justify_items": null,
      "left": null,
      "margin": null,
      "max_height": null,
      "max_width": null,
      "min_height": null,
      "min_width": null,
      "object_fit": null,
      "object_position": null,
      "order": null,
      "overflow": null,
      "overflow_x": null,
      "overflow_y": null,
      "padding": null,
      "right": null,
      "top": null,
      "visibility": null,
      "width": null
     }
    },
    "7818dc55cf21453290f7536a8dc51cb5": {
     "model_module": "@jupyter-widgets/controls",
     "model_module_version": "1.5.0",
     "model_name": "DescriptionStyleModel",
     "state": {
      "_model_module": "@jupyter-widgets/controls",
      "_model_module_version": "1.5.0",
      "_model_name": "DescriptionStyleModel",
      "_view_count": null,
      "_view_module": "@jupyter-widgets/base",
      "_view_module_version": "1.2.0",
      "_view_name": "StyleView",
      "description_width": ""
     }
    },
    "7c948a0bdb6a47568f0b10d7798971db": {
     "model_module": "@jupyter-widgets/controls",
     "model_module_version": "1.5.0",
     "model_name": "FloatProgressModel",
     "state": {
      "_dom_classes": [],
      "_model_module": "@jupyter-widgets/controls",
      "_model_module_version": "1.5.0",
      "_model_name": "FloatProgressModel",
      "_view_count": null,
      "_view_module": "@jupyter-widgets/controls",
      "_view_module_version": "1.5.0",
      "_view_name": "ProgressView",
      "bar_style": "success",
      "description": "",
      "description_tooltip": null,
      "layout": "IPY_MODEL_eb23064d86d04e21ba5e0d624393aaf1",
      "max": 266,
      "min": 0,
      "orientation": "horizontal",
      "style": "IPY_MODEL_6b97752a64b14384b98581b40c179188",
      "value": 266
     }
    },
    "7e8cdaa96de6449aaed6f3d89340bfa7": {
     "model_module": "@jupyter-widgets/controls",
     "model_module_version": "1.5.0",
     "model_name": "DescriptionStyleModel",
     "state": {
      "_model_module": "@jupyter-widgets/controls",
      "_model_module_version": "1.5.0",
      "_model_name": "DescriptionStyleModel",
      "_view_count": null,
      "_view_module": "@jupyter-widgets/base",
      "_view_module_version": "1.2.0",
      "_view_name": "StyleView",
      "description_width": ""
     }
    },
    "8810fc3242c64d0aa2bdc392de09d169": {
     "model_module": "@jupyter-widgets/base",
     "model_module_version": "1.2.0",
     "model_name": "LayoutModel",
     "state": {
      "_model_module": "@jupyter-widgets/base",
      "_model_module_version": "1.2.0",
      "_model_name": "LayoutModel",
      "_view_count": null,
      "_view_module": "@jupyter-widgets/base",
      "_view_module_version": "1.2.0",
      "_view_name": "LayoutView",
      "align_content": null,
      "align_items": null,
      "align_self": null,
      "border": null,
      "bottom": null,
      "display": null,
      "flex": null,
      "flex_flow": null,
      "grid_area": null,
      "grid_auto_columns": null,
      "grid_auto_flow": null,
      "grid_auto_rows": null,
      "grid_column": null,
      "grid_gap": null,
      "grid_row": null,
      "grid_template_areas": null,
      "grid_template_columns": null,
      "grid_template_rows": null,
      "height": null,
      "justify_content": null,
      "justify_items": null,
      "left": null,
      "margin": null,
      "max_height": null,
      "max_width": null,
      "min_height": null,
      "min_width": null,
      "object_fit": null,
      "object_position": null,
      "order": null,
      "overflow": null,
      "overflow_x": null,
      "overflow_y": null,
      "padding": null,
      "right": null,
      "top": null,
      "visibility": null,
      "width": null
     }
    },
    "88fd123b10664ec88366e7b7366f330d": {
     "model_module": "@jupyter-widgets/controls",
     "model_module_version": "1.5.0",
     "model_name": "HTMLModel",
     "state": {
      "_dom_classes": [],
      "_model_module": "@jupyter-widgets/controls",
      "_model_module_version": "1.5.0",
      "_model_name": "HTMLModel",
      "_view_count": null,
      "_view_module": "@jupyter-widgets/controls",
      "_view_module_version": "1.5.0",
      "_view_name": "HTMLView",
      "description": "",
      "description_tooltip": null,
      "layout": "IPY_MODEL_8da9c4c14eb5490fa2819036f5819fc4",
      "placeholder": "​",
      "style": "IPY_MODEL_0ab22b236f1e4ed989246cc91dfc15fb",
      "value": "Generating train split: 100%"
     }
    },
    "8c9be4cb80ee4655803179d5f3137d76": {
     "model_module": "@jupyter-widgets/base",
     "model_module_version": "1.2.0",
     "model_name": "LayoutModel",
     "state": {
      "_model_module": "@jupyter-widgets/base",
      "_model_module_version": "1.2.0",
      "_model_name": "LayoutModel",
      "_view_count": null,
      "_view_module": "@jupyter-widgets/base",
      "_view_module_version": "1.2.0",
      "_view_name": "LayoutView",
      "align_content": null,
      "align_items": null,
      "align_self": null,
      "border": null,
      "bottom": null,
      "display": null,
      "flex": null,
      "flex_flow": null,
      "grid_area": null,
      "grid_auto_columns": null,
      "grid_auto_flow": null,
      "grid_auto_rows": null,
      "grid_column": null,
      "grid_gap": null,
      "grid_row": null,
      "grid_template_areas": null,
      "grid_template_columns": null,
      "grid_template_rows": null,
      "height": null,
      "justify_content": null,
      "justify_items": null,
      "left": null,
      "margin": null,
      "max_height": null,
      "max_width": null,
      "min_height": null,
      "min_width": null,
      "object_fit": null,
      "object_position": null,
      "order": null,
      "overflow": null,
      "overflow_x": null,
      "overflow_y": null,
      "padding": null,
      "right": null,
      "top": null,
      "visibility": null,
      "width": null
     }
    },
    "8da9c4c14eb5490fa2819036f5819fc4": {
     "model_module": "@jupyter-widgets/base",
     "model_module_version": "1.2.0",
     "model_name": "LayoutModel",
     "state": {
      "_model_module": "@jupyter-widgets/base",
      "_model_module_version": "1.2.0",
      "_model_name": "LayoutModel",
      "_view_count": null,
      "_view_module": "@jupyter-widgets/base",
      "_view_module_version": "1.2.0",
      "_view_name": "LayoutView",
      "align_content": null,
      "align_items": null,
      "align_self": null,
      "border": null,
      "bottom": null,
      "display": null,
      "flex": null,
      "flex_flow": null,
      "grid_area": null,
      "grid_auto_columns": null,
      "grid_auto_flow": null,
      "grid_auto_rows": null,
      "grid_column": null,
      "grid_gap": null,
      "grid_row": null,
      "grid_template_areas": null,
      "grid_template_columns": null,
      "grid_template_rows": null,
      "height": null,
      "justify_content": null,
      "justify_items": null,
      "left": null,
      "margin": null,
      "max_height": null,
      "max_width": null,
      "min_height": null,
      "min_width": null,
      "object_fit": null,
      "object_position": null,
      "order": null,
      "overflow": null,
      "overflow_x": null,
      "overflow_y": null,
      "padding": null,
      "right": null,
      "top": null,
      "visibility": null,
      "width": null
     }
    },
    "8f47b425a3774d0bbbb43b3da88c3827": {
     "model_module": "@jupyter-widgets/controls",
     "model_module_version": "1.5.0",
     "model_name": "ProgressStyleModel",
     "state": {
      "_model_module": "@jupyter-widgets/controls",
      "_model_module_version": "1.5.0",
      "_model_name": "ProgressStyleModel",
      "_view_count": null,
      "_view_module": "@jupyter-widgets/base",
      "_view_module_version": "1.2.0",
      "_view_name": "StyleView",
      "bar_color": null,
      "description_width": ""
     }
    },
    "931aa5f0be5045c28d8d3b22414d5819": {
     "model_module": "@jupyter-widgets/base",
     "model_module_version": "1.2.0",
     "model_name": "LayoutModel",
     "state": {
      "_model_module": "@jupyter-widgets/base",
      "_model_module_version": "1.2.0",
      "_model_name": "LayoutModel",
      "_view_count": null,
      "_view_module": "@jupyter-widgets/base",
      "_view_module_version": "1.2.0",
      "_view_name": "LayoutView",
      "align_content": null,
      "align_items": null,
      "align_self": null,
      "border": null,
      "bottom": null,
      "display": null,
      "flex": null,
      "flex_flow": null,
      "grid_area": null,
      "grid_auto_columns": null,
      "grid_auto_flow": null,
      "grid_auto_rows": null,
      "grid_column": null,
      "grid_gap": null,
      "grid_row": null,
      "grid_template_areas": null,
      "grid_template_columns": null,
      "grid_template_rows": null,
      "height": null,
      "justify_content": null,
      "justify_items": null,
      "left": null,
      "margin": null,
      "max_height": null,
      "max_width": null,
      "min_height": null,
      "min_width": null,
      "object_fit": null,
      "object_position": null,
      "order": null,
      "overflow": null,
      "overflow_x": null,
      "overflow_y": null,
      "padding": null,
      "right": null,
      "top": null,
      "visibility": null,
      "width": null
     }
    },
    "9cb3ae9a36e24c46ac676eef3da3ebe0": {
     "model_module": "@jupyter-widgets/controls",
     "model_module_version": "1.5.0",
     "model_name": "HTMLModel",
     "state": {
      "_dom_classes": [],
      "_model_module": "@jupyter-widgets/controls",
      "_model_module_version": "1.5.0",
      "_model_name": "HTMLModel",
      "_view_count": null,
      "_view_module": "@jupyter-widgets/controls",
      "_view_module_version": "1.5.0",
      "_view_name": "HTMLView",
      "description": "",
      "description_tooltip": null,
      "layout": "IPY_MODEL_d0a7146757884e53ac98f1d2c27ee54c",
      "placeholder": "​",
      "style": "IPY_MODEL_66b5c07da00748ef8bfa5d168a6507c0",
      "value": " 237k/237k [00:00&lt;00:00, 1.89MB/s]"
     }
    },
    "a1ce8cd5e4ba4f44bcc0c4ab0155ddcb": {
     "model_module": "@jupyter-widgets/controls",
     "model_module_version": "1.5.0",
     "model_name": "HTMLModel",
     "state": {
      "_dom_classes": [],
      "_model_module": "@jupyter-widgets/controls",
      "_model_module_version": "1.5.0",
      "_model_name": "HTMLModel",
      "_view_count": null,
      "_view_module": "@jupyter-widgets/controls",
      "_view_module_version": "1.5.0",
      "_view_name": "HTMLView",
      "description": "",
      "description_tooltip": null,
      "layout": "IPY_MODEL_71c957ea108943ee9fcdf4efddf186d5",
      "placeholder": "​",
      "style": "IPY_MODEL_7e8cdaa96de6449aaed6f3d89340bfa7",
      "value": " 24.0/24.0 [00:00&lt;00:00, 1.22kB/s]"
     }
    },
    "b67a87419bdb4e3b8e07b4e1b7f2f05f": {
     "model_module": "@jupyter-widgets/controls",
     "model_module_version": "1.5.0",
     "model_name": "HBoxModel",
     "state": {
      "_dom_classes": [],
      "_model_module": "@jupyter-widgets/controls",
      "_model_module_version": "1.5.0",
      "_model_name": "HBoxModel",
      "_view_count": null,
      "_view_module": "@jupyter-widgets/controls",
      "_view_module_version": "1.5.0",
      "_view_name": "HBoxView",
      "box_style": "",
      "children": [
       "IPY_MODEL_88fd123b10664ec88366e7b7366f330d",
       "IPY_MODEL_7c948a0bdb6a47568f0b10d7798971db",
       "IPY_MODEL_605d857dfc554f73ae468ff1fb2cc387"
      ],
      "layout": "IPY_MODEL_8810fc3242c64d0aa2bdc392de09d169"
     }
    },
    "b73554d8ded243b1a2564e73ca6ca07a": {
     "model_module": "@jupyter-widgets/controls",
     "model_module_version": "1.5.0",
     "model_name": "ProgressStyleModel",
     "state": {
      "_model_module": "@jupyter-widgets/controls",
      "_model_module_version": "1.5.0",
      "_model_name": "ProgressStyleModel",
      "_view_count": null,
      "_view_module": "@jupyter-widgets/base",
      "_view_module_version": "1.2.0",
      "_view_name": "StyleView",
      "bar_color": null,
      "description_width": ""
     }
    },
    "b9fb11b6cc614417bc35260f7894592d": {
     "model_module": "@jupyter-widgets/controls",
     "model_module_version": "1.5.0",
     "model_name": "HTMLModel",
     "state": {
      "_dom_classes": [],
      "_model_module": "@jupyter-widgets/controls",
      "_model_module_version": "1.5.0",
      "_model_name": "HTMLModel",
      "_view_count": null,
      "_view_module": "@jupyter-widgets/controls",
      "_view_module_version": "1.5.0",
      "_view_name": "HTMLView",
      "description": "",
      "description_tooltip": null,
      "layout": "IPY_MODEL_1bc49bac4ef742d0aa87264b59cd4a01",
      "placeholder": "​",
      "style": "IPY_MODEL_277cd23a9d274460b866b86fbcb28aab",
      "value": " 1.07k/1.07k [00:00&lt;00:00, 29.0kB/s]"
     }
    },
    "ba7995e3ff1c4b7093dc119298992190": {
     "model_module": "@jupyter-widgets/base",
     "model_module_version": "1.2.0",
     "model_name": "LayoutModel",
     "state": {
      "_model_module": "@jupyter-widgets/base",
      "_model_module_version": "1.2.0",
      "_model_name": "LayoutModel",
      "_view_count": null,
      "_view_module": "@jupyter-widgets/base",
      "_view_module_version": "1.2.0",
      "_view_name": "LayoutView",
      "align_content": null,
      "align_items": null,
      "align_self": null,
      "border": null,
      "bottom": null,
      "display": null,
      "flex": null,
      "flex_flow": null,
      "grid_area": null,
      "grid_auto_columns": null,
      "grid_auto_flow": null,
      "grid_auto_rows": null,
      "grid_column": null,
      "grid_gap": null,
      "grid_row": null,
      "grid_template_areas": null,
      "grid_template_columns": null,
      "grid_template_rows": null,
      "height": null,
      "justify_content": null,
      "justify_items": null,
      "left": null,
      "margin": null,
      "max_height": null,
      "max_width": null,
      "min_height": null,
      "min_width": null,
      "object_fit": null,
      "object_position": null,
      "order": null,
      "overflow": null,
      "overflow_x": null,
      "overflow_y": null,
      "padding": null,
      "right": null,
      "top": null,
      "visibility": null,
      "width": null
     }
    },
    "be683b9aada245c7aec6d048ad819e78": {
     "model_module": "@jupyter-widgets/controls",
     "model_module_version": "1.5.0",
     "model_name": "FloatProgressModel",
     "state": {
      "_dom_classes": [],
      "_model_module": "@jupyter-widgets/controls",
      "_model_module_version": "1.5.0",
      "_model_name": "FloatProgressModel",
      "_view_count": null,
      "_view_module": "@jupyter-widgets/controls",
      "_view_module_version": "1.5.0",
      "_view_name": "ProgressView",
      "bar_style": "success",
      "description": "",
      "description_tooltip": null,
      "layout": "IPY_MODEL_5b76a97d89984ce8976434a8e6b9cdb4",
      "max": 24,
      "min": 0,
      "orientation": "horizontal",
      "style": "IPY_MODEL_8f47b425a3774d0bbbb43b3da88c3827",
      "value": 24
     }
    },
    "c1d4ed6fd3474c4a8d7b863b0ba16cd9": {
     "model_module": "@jupyter-widgets/controls",
     "model_module_version": "1.5.0",
     "model_name": "DescriptionStyleModel",
     "state": {
      "_model_module": "@jupyter-widgets/controls",
      "_model_module_version": "1.5.0",
      "_model_name": "DescriptionStyleModel",
      "_view_count": null,
      "_view_module": "@jupyter-widgets/base",
      "_view_module_version": "1.2.0",
      "_view_name": "StyleView",
      "description_width": ""
     }
    },
    "ca7b4c4cca604a7a9695745d7fdb3d6b": {
     "model_module": "@jupyter-widgets/base",
     "model_module_version": "1.2.0",
     "model_name": "LayoutModel",
     "state": {
      "_model_module": "@jupyter-widgets/base",
      "_model_module_version": "1.2.0",
      "_model_name": "LayoutModel",
      "_view_count": null,
      "_view_module": "@jupyter-widgets/base",
      "_view_module_version": "1.2.0",
      "_view_name": "LayoutView",
      "align_content": null,
      "align_items": null,
      "align_self": null,
      "border": null,
      "bottom": null,
      "display": null,
      "flex": null,
      "flex_flow": null,
      "grid_area": null,
      "grid_auto_columns": null,
      "grid_auto_flow": null,
      "grid_auto_rows": null,
      "grid_column": null,
      "grid_gap": null,
      "grid_row": null,
      "grid_template_areas": null,
      "grid_template_columns": null,
      "grid_template_rows": null,
      "height": null,
      "justify_content": null,
      "justify_items": null,
      "left": null,
      "margin": null,
      "max_height": null,
      "max_width": null,
      "min_height": null,
      "min_width": null,
      "object_fit": null,
      "object_position": null,
      "order": null,
      "overflow": null,
      "overflow_x": null,
      "overflow_y": null,
      "padding": null,
      "right": null,
      "top": null,
      "visibility": null,
      "width": null
     }
    },
    "ccfb37f6452143f8923c7bae90a5e181": {
     "model_module": "@jupyter-widgets/controls",
     "model_module_version": "1.5.0",
     "model_name": "ProgressStyleModel",
     "state": {
      "_model_module": "@jupyter-widgets/controls",
      "_model_module_version": "1.5.0",
      "_model_name": "ProgressStyleModel",
      "_view_count": null,
      "_view_module": "@jupyter-widgets/base",
      "_view_module_version": "1.2.0",
      "_view_name": "StyleView",
      "bar_color": null,
      "description_width": ""
     }
    },
    "cec2ad4b4df041eea5bf664ef2aca418": {
     "model_module": "@jupyter-widgets/base",
     "model_module_version": "1.2.0",
     "model_name": "LayoutModel",
     "state": {
      "_model_module": "@jupyter-widgets/base",
      "_model_module_version": "1.2.0",
      "_model_name": "LayoutModel",
      "_view_count": null,
      "_view_module": "@jupyter-widgets/base",
      "_view_module_version": "1.2.0",
      "_view_name": "LayoutView",
      "align_content": null,
      "align_items": null,
      "align_self": null,
      "border": null,
      "bottom": null,
      "display": null,
      "flex": null,
      "flex_flow": null,
      "grid_area": null,
      "grid_auto_columns": null,
      "grid_auto_flow": null,
      "grid_auto_rows": null,
      "grid_column": null,
      "grid_gap": null,
      "grid_row": null,
      "grid_template_areas": null,
      "grid_template_columns": null,
      "grid_template_rows": null,
      "height": null,
      "justify_content": null,
      "justify_items": null,
      "left": null,
      "margin": null,
      "max_height": null,
      "max_width": null,
      "min_height": null,
      "min_width": null,
      "object_fit": null,
      "object_position": null,
      "order": null,
      "overflow": null,
      "overflow_x": null,
      "overflow_y": null,
      "padding": null,
      "right": null,
      "top": null,
      "visibility": null,
      "width": null
     }
    },
    "ceff4bbcfc4c4f0a85ae5eb779e1b777": {
     "model_module": "@jupyter-widgets/base",
     "model_module_version": "1.2.0",
     "model_name": "LayoutModel",
     "state": {
      "_model_module": "@jupyter-widgets/base",
      "_model_module_version": "1.2.0",
      "_model_name": "LayoutModel",
      "_view_count": null,
      "_view_module": "@jupyter-widgets/base",
      "_view_module_version": "1.2.0",
      "_view_name": "LayoutView",
      "align_content": null,
      "align_items": null,
      "align_self": null,
      "border": null,
      "bottom": null,
      "display": null,
      "flex": null,
      "flex_flow": null,
      "grid_area": null,
      "grid_auto_columns": null,
      "grid_auto_flow": null,
      "grid_auto_rows": null,
      "grid_column": null,
      "grid_gap": null,
      "grid_row": null,
      "grid_template_areas": null,
      "grid_template_columns": null,
      "grid_template_rows": null,
      "height": null,
      "justify_content": null,
      "justify_items": null,
      "left": null,
      "margin": null,
      "max_height": null,
      "max_width": null,
      "min_height": null,
      "min_width": null,
      "object_fit": null,
      "object_position": null,
      "order": null,
      "overflow": null,
      "overflow_x": null,
      "overflow_y": null,
      "padding": null,
      "right": null,
      "top": null,
      "visibility": null,
      "width": null
     }
    },
    "d0a7146757884e53ac98f1d2c27ee54c": {
     "model_module": "@jupyter-widgets/base",
     "model_module_version": "1.2.0",
     "model_name": "LayoutModel",
     "state": {
      "_model_module": "@jupyter-widgets/base",
      "_model_module_version": "1.2.0",
      "_model_name": "LayoutModel",
      "_view_count": null,
      "_view_module": "@jupyter-widgets/base",
      "_view_module_version": "1.2.0",
      "_view_name": "LayoutView",
      "align_content": null,
      "align_items": null,
      "align_self": null,
      "border": null,
      "bottom": null,
      "display": null,
      "flex": null,
      "flex_flow": null,
      "grid_area": null,
      "grid_auto_columns": null,
      "grid_auto_flow": null,
      "grid_auto_rows": null,
      "grid_column": null,
      "grid_gap": null,
      "grid_row": null,
      "grid_template_areas": null,
      "grid_template_columns": null,
      "grid_template_rows": null,
      "height": null,
      "justify_content": null,
      "justify_items": null,
      "left": null,
      "margin": null,
      "max_height": null,
      "max_width": null,
      "min_height": null,
      "min_width": null,
      "object_fit": null,
      "object_position": null,
      "order": null,
      "overflow": null,
      "overflow_x": null,
      "overflow_y": null,
      "padding": null,
      "right": null,
      "top": null,
      "visibility": null,
      "width": null
     }
    },
    "dd4972cf946d43e5b8f9d8de808288a2": {
     "model_module": "@jupyter-widgets/base",
     "model_module_version": "1.2.0",
     "model_name": "LayoutModel",
     "state": {
      "_model_module": "@jupyter-widgets/base",
      "_model_module_version": "1.2.0",
      "_model_name": "LayoutModel",
      "_view_count": null,
      "_view_module": "@jupyter-widgets/base",
      "_view_module_version": "1.2.0",
      "_view_name": "LayoutView",
      "align_content": null,
      "align_items": null,
      "align_self": null,
      "border": null,
      "bottom": null,
      "display": null,
      "flex": null,
      "flex_flow": null,
      "grid_area": null,
      "grid_auto_columns": null,
      "grid_auto_flow": null,
      "grid_auto_rows": null,
      "grid_column": null,
      "grid_gap": null,
      "grid_row": null,
      "grid_template_areas": null,
      "grid_template_columns": null,
      "grid_template_rows": null,
      "height": null,
      "justify_content": null,
      "justify_items": null,
      "left": null,
      "margin": null,
      "max_height": null,
      "max_width": null,
      "min_height": null,
      "min_width": null,
      "object_fit": null,
      "object_position": null,
      "order": null,
      "overflow": null,
      "overflow_x": null,
      "overflow_y": null,
      "padding": null,
      "right": null,
      "top": null,
      "visibility": null,
      "width": null
     }
    },
    "e059e94b5b82468c9cce64e074739742": {
     "model_module": "@jupyter-widgets/controls",
     "model_module_version": "1.5.0",
     "model_name": "ProgressStyleModel",
     "state": {
      "_model_module": "@jupyter-widgets/controls",
      "_model_module_version": "1.5.0",
      "_model_name": "ProgressStyleModel",
      "_view_count": null,
      "_view_module": "@jupyter-widgets/base",
      "_view_module_version": "1.2.0",
      "_view_name": "StyleView",
      "bar_color": null,
      "description_width": ""
     }
    },
    "e542896d3ca34ef2aa4b2d66236d681c": {
     "model_module": "@jupyter-widgets/base",
     "model_module_version": "1.2.0",
     "model_name": "LayoutModel",
     "state": {
      "_model_module": "@jupyter-widgets/base",
      "_model_module_version": "1.2.0",
      "_model_name": "LayoutModel",
      "_view_count": null,
      "_view_module": "@jupyter-widgets/base",
      "_view_module_version": "1.2.0",
      "_view_name": "LayoutView",
      "align_content": null,
      "align_items": null,
      "align_self": null,
      "border": null,
      "bottom": null,
      "display": null,
      "flex": null,
      "flex_flow": null,
      "grid_area": null,
      "grid_auto_columns": null,
      "grid_auto_flow": null,
      "grid_auto_rows": null,
      "grid_column": null,
      "grid_gap": null,
      "grid_row": null,
      "grid_template_areas": null,
      "grid_template_columns": null,
      "grid_template_rows": null,
      "height": null,
      "justify_content": null,
      "justify_items": null,
      "left": null,
      "margin": null,
      "max_height": null,
      "max_width": null,
      "min_height": null,
      "min_width": null,
      "object_fit": null,
      "object_position": null,
      "order": null,
      "overflow": null,
      "overflow_x": null,
      "overflow_y": null,
      "padding": null,
      "right": null,
      "top": null,
      "visibility": null,
      "width": null
     }
    },
    "eb23064d86d04e21ba5e0d624393aaf1": {
     "model_module": "@jupyter-widgets/base",
     "model_module_version": "1.2.0",
     "model_name": "LayoutModel",
     "state": {
      "_model_module": "@jupyter-widgets/base",
      "_model_module_version": "1.2.0",
      "_model_name": "LayoutModel",
      "_view_count": null,
      "_view_module": "@jupyter-widgets/base",
      "_view_module_version": "1.2.0",
      "_view_name": "LayoutView",
      "align_content": null,
      "align_items": null,
      "align_self": null,
      "border": null,
      "bottom": null,
      "display": null,
      "flex": null,
      "flex_flow": null,
      "grid_area": null,
      "grid_auto_columns": null,
      "grid_auto_flow": null,
      "grid_auto_rows": null,
      "grid_column": null,
      "grid_gap": null,
      "grid_row": null,
      "grid_template_areas": null,
      "grid_template_columns": null,
      "grid_template_rows": null,
      "height": null,
      "justify_content": null,
      "justify_items": null,
      "left": null,
      "margin": null,
      "max_height": null,
      "max_width": null,
      "min_height": null,
      "min_width": null,
      "object_fit": null,
      "object_position": null,
      "order": null,
      "overflow": null,
      "overflow_x": null,
      "overflow_y": null,
      "padding": null,
      "right": null,
      "top": null,
      "visibility": null,
      "width": null
     }
    },
    "f3c2646f211e40e6b484edf33c08834b": {
     "model_module": "@jupyter-widgets/controls",
     "model_module_version": "1.5.0",
     "model_name": "DescriptionStyleModel",
     "state": {
      "_model_module": "@jupyter-widgets/controls",
      "_model_module_version": "1.5.0",
      "_model_name": "DescriptionStyleModel",
      "_view_count": null,
      "_view_module": "@jupyter-widgets/base",
      "_view_module_version": "1.2.0",
      "_view_name": "StyleView",
      "description_width": ""
     }
    }
   }
  }
 },
 "nbformat": 4,
 "nbformat_minor": 5
}
