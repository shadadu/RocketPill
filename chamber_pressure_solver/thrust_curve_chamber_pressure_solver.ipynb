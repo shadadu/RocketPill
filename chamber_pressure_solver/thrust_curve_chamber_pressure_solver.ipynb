{
  "cells": [
    {
      "cell_type": "code",
      "execution_count": 1,
      "id": "5d2d9e41-374d-4053-b0e5-a7eed28166e2",
      "metadata": {
        "id": "5d2d9e41-374d-4053-b0e5-a7eed28166e2"
      },
      "outputs": [],
      "source": [
        "!pip install -q transformers datasets evaluate accelerate gluonts ujson"
      ]
    },
    {
      "cell_type": "code",
      "execution_count": 2,
      "id": "cf659f11-9741-47c6-bf62-513e83ce31e9",
      "metadata": {
        "colab": {
          "base_uri": "https://localhost:8080/"
        },
        "id": "cf659f11-9741-47c6-bf62-513e83ce31e9",
        "outputId": "d9475503-1c30-483e-fd6d-349997ead46d"
      },
      "outputs": [
        {
          "output_type": "stream",
          "name": "stdout",
          "text": [
            "Requirement already satisfied: datasets in /usr/local/lib/python3.11/dist-packages (4.0.0)\n",
            "Requirement already satisfied: huggingface_hub in /usr/local/lib/python3.11/dist-packages (0.34.3)\n",
            "Requirement already satisfied: fsspec in /usr/local/lib/python3.11/dist-packages (2025.3.0)\n",
            "Collecting fsspec\n",
            "  Using cached fsspec-2025.7.0-py3-none-any.whl.metadata (12 kB)\n",
            "Requirement already satisfied: filelock in /usr/local/lib/python3.11/dist-packages (from datasets) (3.18.0)\n",
            "Requirement already satisfied: numpy>=1.17 in /usr/local/lib/python3.11/dist-packages (from datasets) (2.0.2)\n",
            "Requirement already satisfied: pyarrow>=15.0.0 in /usr/local/lib/python3.11/dist-packages (from datasets) (18.1.0)\n",
            "Requirement already satisfied: dill<0.3.9,>=0.3.0 in /usr/local/lib/python3.11/dist-packages (from datasets) (0.3.8)\n",
            "Requirement already satisfied: pandas in /usr/local/lib/python3.11/dist-packages (from datasets) (2.2.2)\n",
            "Requirement already satisfied: requests>=2.32.2 in /usr/local/lib/python3.11/dist-packages (from datasets) (2.32.3)\n",
            "Requirement already satisfied: tqdm>=4.66.3 in /usr/local/lib/python3.11/dist-packages (from datasets) (4.67.1)\n",
            "Requirement already satisfied: xxhash in /usr/local/lib/python3.11/dist-packages (from datasets) (3.5.0)\n",
            "Requirement already satisfied: multiprocess<0.70.17 in /usr/local/lib/python3.11/dist-packages (from datasets) (0.70.16)\n",
            "Requirement already satisfied: packaging in /usr/local/lib/python3.11/dist-packages (from datasets) (25.0)\n",
            "Requirement already satisfied: pyyaml>=5.1 in /usr/local/lib/python3.11/dist-packages (from datasets) (6.0.2)\n",
            "Requirement already satisfied: typing-extensions>=3.7.4.3 in /usr/local/lib/python3.11/dist-packages (from huggingface_hub) (4.14.1)\n",
            "Requirement already satisfied: hf-xet<2.0.0,>=1.1.3 in /usr/local/lib/python3.11/dist-packages (from huggingface_hub) (1.1.5)\n",
            "Requirement already satisfied: aiohttp!=4.0.0a0,!=4.0.0a1 in /usr/local/lib/python3.11/dist-packages (from fsspec[http]<=2025.3.0,>=2023.1.0->datasets) (3.12.14)\n",
            "Requirement already satisfied: charset-normalizer<4,>=2 in /usr/local/lib/python3.11/dist-packages (from requests>=2.32.2->datasets) (3.4.2)\n",
            "Requirement already satisfied: idna<4,>=2.5 in /usr/local/lib/python3.11/dist-packages (from requests>=2.32.2->datasets) (3.10)\n",
            "Requirement already satisfied: urllib3<3,>=1.21.1 in /usr/local/lib/python3.11/dist-packages (from requests>=2.32.2->datasets) (2.5.0)\n",
            "Requirement already satisfied: certifi>=2017.4.17 in /usr/local/lib/python3.11/dist-packages (from requests>=2.32.2->datasets) (2025.7.14)\n",
            "Requirement already satisfied: python-dateutil>=2.8.2 in /usr/local/lib/python3.11/dist-packages (from pandas->datasets) (2.9.0.post0)\n",
            "Requirement already satisfied: pytz>=2020.1 in /usr/local/lib/python3.11/dist-packages (from pandas->datasets) (2025.2)\n",
            "Requirement already satisfied: tzdata>=2022.7 in /usr/local/lib/python3.11/dist-packages (from pandas->datasets) (2025.2)\n",
            "Requirement already satisfied: aiohappyeyeballs>=2.5.0 in /usr/local/lib/python3.11/dist-packages (from aiohttp!=4.0.0a0,!=4.0.0a1->fsspec[http]<=2025.3.0,>=2023.1.0->datasets) (2.6.1)\n",
            "Requirement already satisfied: aiosignal>=1.4.0 in /usr/local/lib/python3.11/dist-packages (from aiohttp!=4.0.0a0,!=4.0.0a1->fsspec[http]<=2025.3.0,>=2023.1.0->datasets) (1.4.0)\n",
            "Requirement already satisfied: attrs>=17.3.0 in /usr/local/lib/python3.11/dist-packages (from aiohttp!=4.0.0a0,!=4.0.0a1->fsspec[http]<=2025.3.0,>=2023.1.0->datasets) (25.3.0)\n",
            "Requirement already satisfied: frozenlist>=1.1.1 in /usr/local/lib/python3.11/dist-packages (from aiohttp!=4.0.0a0,!=4.0.0a1->fsspec[http]<=2025.3.0,>=2023.1.0->datasets) (1.7.0)\n",
            "Requirement already satisfied: multidict<7.0,>=4.5 in /usr/local/lib/python3.11/dist-packages (from aiohttp!=4.0.0a0,!=4.0.0a1->fsspec[http]<=2025.3.0,>=2023.1.0->datasets) (6.6.3)\n",
            "Requirement already satisfied: propcache>=0.2.0 in /usr/local/lib/python3.11/dist-packages (from aiohttp!=4.0.0a0,!=4.0.0a1->fsspec[http]<=2025.3.0,>=2023.1.0->datasets) (0.3.2)\n",
            "Requirement already satisfied: yarl<2.0,>=1.17.0 in /usr/local/lib/python3.11/dist-packages (from aiohttp!=4.0.0a0,!=4.0.0a1->fsspec[http]<=2025.3.0,>=2023.1.0->datasets) (1.20.1)\n",
            "Requirement already satisfied: six>=1.5 in /usr/local/lib/python3.11/dist-packages (from python-dateutil>=2.8.2->pandas->datasets) (1.17.0)\n"
          ]
        }
      ],
      "source": [
        "!pip install -U datasets huggingface_hub fsspec"
      ]
    },
    {
      "cell_type": "code",
      "execution_count": 3,
      "id": "fb7c3a87-dd1d-47de-a29e-0e42e5143567",
      "metadata": {
        "id": "fb7c3a87-dd1d-47de-a29e-0e42e5143567"
      },
      "outputs": [],
      "source": [
        "from datasets import load_dataset\n",
        "import matplotlib.pyplot as plt\n",
        "from functools import lru_cache, partial\n",
        "import pandas as pd\n",
        "import numpy as np\n",
        "from gluonts.dataset.multivariate_grouper import MultivariateGrouper\n",
        "from gluonts.time_feature import get_lags_for_frequency\n",
        "from pandas.core.arrays.period import period_array\n",
        "from transformers import InformerConfig, InformerForPrediction\n",
        "from transformers import PretrainedConfig\n",
        "from typing import Optional\n",
        "\n",
        "from gluonts.transform.sampler import InstanceSampler\n",
        "\n",
        "\n",
        "from gluonts.time_feature import TimeFeature\n",
        "from gluonts.dataset.field_names import FieldName\n",
        "from gluonts.transform import (\n",
        "    AddAgeFeature,\n",
        "    AddObservedValuesIndicator,\n",
        "    AddTimeFeatures,\n",
        "    AsNumpyArray,\n",
        "    Chain,\n",
        "    ExpectedNumInstanceSampler,\n",
        "    InstanceSplitter,\n",
        "    RemoveFields,\n",
        "    SelectFields,\n",
        "    SetField,\n",
        "    TestSplitSampler,\n",
        "    Transformation,\n",
        "    ValidationSplitSampler,\n",
        "    VstackFeatures,\n",
        "    RenameFields,\n",
        ")\n",
        "\n",
        "from accelerate import Accelerator\n",
        "from torch.optim import AdamW\n",
        "\n",
        "from evaluate import load\n",
        "from gluonts.time_feature import get_seasonality\n",
        "from datetime import datetime\n",
        "from tqdm import tqdm\n",
        "from transformers import InformerForPrediction\n",
        "from datasets import concatenate_datasets, Dataset"
      ]
    },
    {
      "cell_type": "code",
      "source": [
        "# Rocket and solver parameters\n",
        "Isp = 300                # Specific impulse (s)\n",
        "c_star = 1600            # Characteristic velocity (m/s)\n",
        "At = 0.01                # Throat area (m^2)\n",
        "g0 = 9.80665             # Gravity (m/s^2)\n",
        "\n",
        "L_chamber = 1.0          # Chamber length (m)\n",
        "N_cells = 50             # Grid cells along chamber\n",
        "dx = L_chamber / N_cells\n",
        "R_gas = 355              # Gas constant (J/kg·K)\n",
        "\n",
        "time = np.linspace(0, 1, 100)  # Time vector (0–10s)\n",
        "batch_size = 64                # Batch size for model inference"
      ],
      "metadata": {
        "id": "cBA0SvgLvz2d"
      },
      "id": "cBA0SvgLvz2d",
      "execution_count": 4,
      "outputs": []
    },
    {
      "cell_type": "code",
      "source": [
        "accelerator = Accelerator()\n",
        "device = accelerator.device\n",
        "device"
      ],
      "metadata": {
        "colab": {
          "base_uri": "https://localhost:8080/"
        },
        "id": "Uc5BgPIr3M5W",
        "outputId": "d1cf6d91-b377-46f0-ca95-e9d1cbaa2e92"
      },
      "id": "Uc5BgPIr3M5W",
      "execution_count": 5,
      "outputs": [
        {
          "output_type": "execute_result",
          "data": {
            "text/plain": [
              "device(type='cuda')"
            ]
          },
          "metadata": {},
          "execution_count": 5
        }
      ]
    },
    {
      "cell_type": "code",
      "execution_count": 6,
      "id": "01245d6e-567c-483f-be0c-881c6cf22359",
      "metadata": {
        "colab": {
          "base_uri": "https://localhost:8080/"
        },
        "id": "01245d6e-567c-483f-be0c-881c6cf22359",
        "outputId": "c46239e3-b90f-443a-9232-29faa1d43617"
      },
      "outputs": [
        {
          "output_type": "stream",
          "name": "stderr",
          "text": [
            "/usr/local/lib/python3.11/dist-packages/huggingface_hub/utils/_auth.py:94: UserWarning: \n",
            "The secret `HF_TOKEN` does not exist in your Colab secrets.\n",
            "To authenticate with the Hugging Face Hub, create a token in your settings tab (https://huggingface.co/settings/tokens), set it as secret in your Google Colab and restart your session.\n",
            "You will be able to reuse this secret in all of your notebooks.\n",
            "Please note that authentication is recommended but still optional to access public models or datasets.\n",
            "  warnings.warn(\n"
          ]
        }
      ],
      "source": [
        "tc_dataset = load_dataset(\"shaddie/thrust_curves_dataset\")"
      ]
    },
    {
      "cell_type": "code",
      "execution_count": 7,
      "id": "be50d20e-7453-4ff5-a4a4-d126f1263ee6",
      "metadata": {
        "id": "be50d20e-7453-4ff5-a4a4-d126f1263ee6"
      },
      "outputs": [],
      "source": [
        "# Specify train/test split fraction\n",
        "train_fraction = 0.9  # 80% for training, 20% for testing\n",
        "\n",
        "# Split the original training set into new train/test sets\n",
        "split_dataset = tc_dataset[\"train\"].train_test_split(train_size=train_fraction, seed=42)"
      ]
    },
    {
      "cell_type": "code",
      "execution_count": 8,
      "id": "25c1be52-32b3-4786-8ad4-7634008a0fea",
      "metadata": {
        "colab": {
          "base_uri": "https://localhost:8080/"
        },
        "id": "25c1be52-32b3-4786-8ad4-7634008a0fea",
        "outputId": "4ed27d61-b7a8-4c7b-cfb0-402532dc7177"
      },
      "outputs": [
        {
          "output_type": "execute_result",
          "data": {
            "text/plain": [
              "DatasetDict({\n",
              "    train: Dataset({\n",
              "        features: ['start', 'target', 'feat_static_cat', 'feat_dynamic_real', 'item_id'],\n",
              "        num_rows: 239\n",
              "    })\n",
              "    test: Dataset({\n",
              "        features: ['start', 'target', 'feat_static_cat', 'feat_dynamic_real', 'item_id'],\n",
              "        num_rows: 27\n",
              "    })\n",
              "})"
            ]
          },
          "metadata": {},
          "execution_count": 8
        }
      ],
      "source": [
        "split_dataset"
      ]
    },
    {
      "cell_type": "code",
      "execution_count": 9,
      "id": "af4db824-0b8c-4ffe-9dde-081e11ff6290",
      "metadata": {
        "id": "af4db824-0b8c-4ffe-9dde-081e11ff6290"
      },
      "outputs": [],
      "source": [
        "def find_pad_max(dataset):\n",
        "    l=len(dataset)\n",
        "    m = 0\n",
        "    for r in range(l):\n",
        "        # real = tc_dataset[split][r]['feat_dynamic_real']\n",
        "        target = dataset[r]['target']\n",
        "        if m < len(target):\n",
        "            m = len(target)\n",
        "\n",
        "    return m\n",
        "\n",
        "\n",
        "def pad_data(data, m, split):\n",
        "    l=len(data)\n",
        "    tc = []\n",
        "    for r in range(l):\n",
        "        real = data[r]['feat_dynamic_real']\n",
        "        target = data[r]['target']\n",
        "        rlen = len(real)\n",
        "        pad = [0 for _ in range(m-rlen)]\n",
        "        # target = tc_dataset['train'][r]['target']\n",
        "        real = real + pad\n",
        "        target = target + pad\n",
        "        tc.append({\n",
        "            'start': data[r]['start'],\n",
        "            'target': target,\n",
        "            'feat_static_cat': data[r]['feat_static_cat'],\n",
        "            'feat_dynamic_real': real,\n",
        "            'item_id': data[r]['item_id']\n",
        "                }\n",
        "            )\n",
        "\n",
        "    return tc"
      ]
    },
    {
      "cell_type": "code",
      "execution_count": 10,
      "id": "6f5c9dda-f4c0-4a89-bc83-8c394bdd34f5",
      "metadata": {
        "colab": {
          "base_uri": "https://localhost:8080/"
        },
        "id": "6f5c9dda-f4c0-4a89-bc83-8c394bdd34f5",
        "outputId": "9bb0bde3-a410-4ac0-89f8-65739df5aae2"
      },
      "outputs": [
        {
          "output_type": "stream",
          "name": "stdout",
          "text": [
            "61\n"
          ]
        }
      ],
      "source": [
        "m1 = find_pad_max(split_dataset[\"train\"])\n",
        "m2 = find_pad_max(split_dataset[\"test\"])\n",
        "m = max(m1,m2)\n",
        "print(m)"
      ]
    },
    {
      "cell_type": "code",
      "execution_count": 11,
      "id": "29b91cee-d666-4ffe-815d-f425952b762e",
      "metadata": {
        "id": "29b91cee-d666-4ffe-815d-f425952b762e"
      },
      "outputs": [],
      "source": [
        "train_data = pad_data(split_dataset[\"train\"], m=m, split=\"train\")\n",
        "test_data = pad_data(split_dataset[\"test\"], m=m, split=\"test\")"
      ]
    },
    {
      "cell_type": "code",
      "execution_count": 12,
      "id": "cb065aac-b0f6-4614-8657-39fcee289f46",
      "metadata": {
        "id": "cb065aac-b0f6-4614-8657-39fcee289f46"
      },
      "outputs": [],
      "source": [
        "# train_dataset = Dataset.from_list(train_data)\n",
        "test_dataset = Dataset.from_list(test_data)\n",
        "train_dataset = test_dataset"
      ]
    },
    {
      "cell_type": "code",
      "execution_count": 13,
      "id": "f5acf98c-297d-4029-ad49-832e360b31a9",
      "metadata": {
        "colab": {
          "base_uri": "https://localhost:8080/"
        },
        "id": "f5acf98c-297d-4029-ad49-832e360b31a9",
        "outputId": "91e9bb9a-3919-4e11-f16e-7daa486b8563"
      },
      "outputs": [
        {
          "output_type": "execute_result",
          "data": {
            "text/plain": [
              "Dataset({\n",
              "    features: ['start', 'target', 'feat_static_cat', 'feat_dynamic_real', 'item_id'],\n",
              "    num_rows: 27\n",
              "})"
            ]
          },
          "metadata": {},
          "execution_count": 13
        }
      ],
      "source": [
        "train_dataset"
      ]
    },
    {
      "cell_type": "code",
      "execution_count": 14,
      "id": "f32a738a-78e3-4035-8c52-cccfcd959f11",
      "metadata": {
        "id": "f32a738a-78e3-4035-8c52-cccfcd959f11"
      },
      "outputs": [],
      "source": [
        "# test_dataset"
      ]
    },
    {
      "cell_type": "code",
      "source": [
        "# t_dataset = concatenate_datasets([test_dataset, test_dataset])"
      ],
      "metadata": {
        "id": "MXQw_gN8i2GE"
      },
      "id": "MXQw_gN8i2GE",
      "execution_count": 15,
      "outputs": []
    },
    {
      "cell_type": "code",
      "source": [
        "# t_dataset"
      ],
      "metadata": {
        "id": "2wCiReGNkmQ7"
      },
      "id": "2wCiReGNkmQ7",
      "execution_count": 16,
      "outputs": []
    },
    {
      "cell_type": "code",
      "source": [
        "# test_dataset = t_dataset"
      ],
      "metadata": {
        "id": "9wSscih9ks_G"
      },
      "id": "9wSscih9ks_G",
      "execution_count": 17,
      "outputs": []
    },
    {
      "cell_type": "code",
      "source": [
        "test_dataset"
      ],
      "metadata": {
        "colab": {
          "base_uri": "https://localhost:8080/"
        },
        "id": "6nBngafBOfoL",
        "outputId": "371c146e-d0d1-4bee-ed8c-50de415b69ff"
      },
      "id": "6nBngafBOfoL",
      "execution_count": 18,
      "outputs": [
        {
          "output_type": "execute_result",
          "data": {
            "text/plain": [
              "Dataset({\n",
              "    features: ['start', 'target', 'feat_static_cat', 'feat_dynamic_real', 'item_id'],\n",
              "    num_rows: 27\n",
              "})"
            ]
          },
          "metadata": {},
          "execution_count": 18
        }
      ]
    },
    {
      "cell_type": "code",
      "source": [
        "len(test_dataset[2]['feat_dynamic_real'])"
      ],
      "metadata": {
        "colab": {
          "base_uri": "https://localhost:8080/"
        },
        "id": "Y95UO8s1ODKg",
        "outputId": "5e52b0ee-98f4-45fb-cd32-cc22b4498aaa"
      },
      "id": "Y95UO8s1ODKg",
      "execution_count": 19,
      "outputs": [
        {
          "output_type": "execute_result",
          "data": {
            "text/plain": [
              "61"
            ]
          },
          "metadata": {},
          "execution_count": 19
        }
      ]
    },
    {
      "cell_type": "code",
      "source": [
        "from datetime import datetime"
      ],
      "metadata": {
        "id": "t33XGYSm5bCq"
      },
      "id": "t33XGYSm5bCq",
      "execution_count": 20,
      "outputs": []
    },
    {
      "cell_type": "code",
      "source": [
        "init = Dataset.from_list(\n",
        "    [{\n",
        " 'start': datetime(2024, 1, 25, 0, 0)\n",
        "    , 'target': [0.0 for i in range(m)]\n",
        "    , 'feat_static_cat': [3]\n",
        "    , 'feat_dynamic_real': [0.0 for i in range(m)]\n",
        "    , 'item_id': 0\n",
        "\n",
        "},\n",
        "     {\n",
        " 'start': datetime(2024, 2, 25, 0, 0)\n",
        "    , 'target': [0.0 for i in range(m)]\n",
        "    , 'feat_static_cat': [3]\n",
        "    , 'feat_dynamic_real': [0.0 for i in range(m)]\n",
        "    , 'item_id': 1\n",
        "\n",
        "},\n",
        "     {\n",
        " 'start': datetime(2024, 5, 10, 0, 0)\n",
        "    , 'target': [0.0 for i in range(m)]\n",
        "    , 'feat_static_cat': [3]\n",
        "    , 'feat_dynamic_real': [0.0 for i in range(m)]\n",
        "    , 'item_id': 2\n",
        "\n",
        "}]\n",
        ")\n"
      ],
      "metadata": {
        "id": "sihFwYPXIFuJ"
      },
      "id": "sihFwYPXIFuJ",
      "execution_count": 21,
      "outputs": []
    },
    {
      "cell_type": "code",
      "execution_count": 22,
      "id": "c0c1b70b-578a-424f-a1fa-0483a03808f9",
      "metadata": {
        "id": "c0c1b70b-578a-424f-a1fa-0483a03808f9"
      },
      "outputs": [],
      "source": [
        "freq = \"1W\"\n",
        "prediction_length = 8\n",
        "\n",
        "# assert len(train_example[\"target\"]) + prediction_length == len(\n",
        "#     dataset[\"validation\"][0][\"target\"]\n",
        "# )"
      ]
    },
    {
      "cell_type": "markdown",
      "source": [],
      "metadata": {
        "id": "uEIrFVDVKHPX"
      },
      "id": "uEIrFVDVKHPX"
    },
    {
      "cell_type": "code",
      "execution_count": 23,
      "id": "414f227c-4179-4070-8120-f1d6ad693f17",
      "metadata": {
        "colab": {
          "base_uri": "https://localhost:8080/"
        },
        "id": "414f227c-4179-4070-8120-f1d6ad693f17",
        "outputId": "ee1dc263-b83a-4910-bd8f-3901362f998f"
      },
      "outputs": [
        {
          "output_type": "execute_result",
          "data": {
            "text/plain": [
              "dict_keys(['start', 'target', 'feat_static_cat', 'feat_dynamic_real', 'item_id'])"
            ]
          },
          "metadata": {},
          "execution_count": 23
        }
      ],
      "source": [
        "train_example = train_dataset[0]\n",
        "train_example.keys()"
      ]
    },
    {
      "cell_type": "code",
      "execution_count": 24,
      "id": "16841c07-bacd-409a-8256-264f809bc167",
      "metadata": {
        "colab": {
          "base_uri": "https://localhost:8080/",
          "height": 430
        },
        "id": "16841c07-bacd-409a-8256-264f809bc167",
        "outputId": "3a82a814-571b-4757-87a1-f1c93346c9a0"
      },
      "outputs": [
        {
          "output_type": "display_data",
          "data": {
            "text/plain": [
              "<Figure size 640x480 with 1 Axes>"
            ],
            "image/png": "[encoded data removed]"
          },
          "metadata": {}
        }
      ],
      "source": [
        "num_of_samples = 150\n",
        "\n",
        "figure, axes = plt.subplots()\n",
        "axes.plot(\n",
        "          # train_example[\"feat_dynamic_real\"][-num_of_samples:],\n",
        "          train_example[\"target\"][-num_of_samples:],\n",
        "          color=\"blue\")\n",
        "\n",
        "plt.show()"
      ]
    },
    {
      "cell_type": "code",
      "execution_count": 25,
      "id": "b802b9b3-0a9e-4546-96e0-61c1a8dda3ea",
      "metadata": {
        "id": "b802b9b3-0a9e-4546-96e0-61c1a8dda3ea"
      },
      "outputs": [],
      "source": [
        "@lru_cache(10_000)\n",
        "def convert_to_pandas_period(date, freq):\n",
        "    return pd.Period(date, freq)\n",
        "\n",
        "\n",
        "def transform_start_field(batch, freq):\n",
        "    batch[\"start\"] = [convert_to_pandas_period(date, freq) for date in batch[\"start\"]]\n",
        "    return batch"
      ]
    },
    {
      "cell_type": "code",
      "execution_count": 26,
      "id": "600028d7-a2a4-4d8f-905f-168eaa2dee28",
      "metadata": {
        "id": "600028d7-a2a4-4d8f-905f-168eaa2dee28"
      },
      "outputs": [],
      "source": [
        "train_dataset.set_transform(partial(transform_start_field, freq=freq))\n",
        "test_dataset.set_transform(partial(transform_start_field, freq=freq))"
      ]
    },
    {
      "cell_type": "markdown",
      "source": [],
      "metadata": {
        "id": "du6ZqUZJXPzY"
      },
      "id": "du6ZqUZJXPzY"
    },
    {
      "cell_type": "code",
      "execution_count": 27,
      "id": "642a647f-d53b-481f-8704-8f97470198f3",
      "metadata": {
        "id": "642a647f-d53b-481f-8704-8f97470198f3"
      },
      "outputs": [],
      "source": [
        "num_of_variates = len(test_dataset) # group according to the smaller test dataset size\n",
        "\n",
        "train_grouper = MultivariateGrouper(max_target_dim=num_of_variates)\n",
        "test_grouper = MultivariateGrouper(\n",
        "    max_target_dim=num_of_variates\n",
        "    # max_target_dim=num_of_variates,\n",
        "    # num_test_dates=len(test_dataset),\n",
        "    # num_test_dates=None, # len(test_dataset),\n",
        "    # num_of_variates=num  # number of rolling test windows\n",
        ")\n",
        "\n",
        "multi_variate_train_dataset = train_grouper(train_dataset)\n",
        "multi_variate_test_dataset = test_grouper(test_dataset)"
      ]
    },
    {
      "cell_type": "code",
      "execution_count": 28,
      "id": "3223c9fe-093b-4096-ba82-70f28113d546",
      "metadata": {
        "colab": {
          "base_uri": "https://localhost:8080/"
        },
        "id": "3223c9fe-093b-4096-ba82-70f28113d546",
        "outputId": "ce3fc6bd-bab3-4590-957f-a28209ab1e72"
      },
      "outputs": [
        {
          "output_type": "stream",
          "name": "stdout",
          "text": [
            "multi_variate_train_example['target'].shape = (27, 95)\n"
          ]
        }
      ],
      "source": [
        "multi_variate_train_example = multi_variate_train_dataset[0]\n",
        "print(\n",
        "    f\"multi_variate_train_example['target'].shape = {multi_variate_train_example['target'].shape}\"\n",
        ")"
      ]
    },
    {
      "cell_type": "code",
      "source": [
        "multi_variate_test_example = multi_variate_test_dataset[0]\n",
        "print(\n",
        "    f\"multi_variate_test_example['target'].shape = {multi_variate_test_example['target'].shape}\"\n",
        ")"
      ],
      "metadata": {
        "colab": {
          "base_uri": "https://localhost:8080/"
        },
        "id": "ivJVFcO13Tlv",
        "outputId": "335e261f-06df-4924-88f4-c07ad243e362"
      },
      "id": "ivJVFcO13Tlv",
      "execution_count": 29,
      "outputs": [
        {
          "output_type": "stream",
          "name": "stdout",
          "text": [
            "multi_variate_test_example['target'].shape = (27, 95)\n"
          ]
        }
      ]
    },
    {
      "cell_type": "code",
      "execution_count": 30,
      "id": "cee8848f-3d3a-420b-a1f7-a4670d69f638",
      "metadata": {
        "colab": {
          "base_uri": "https://localhost:8080/"
        },
        "id": "cee8848f-3d3a-420b-a1f7-a4670d69f638",
        "outputId": "91cc1b5d-da26-40c6-a0bc-75e166d6b128"
      },
      "outputs": [
        {
          "output_type": "stream",
          "name": "stdout",
          "text": [
            "[<function day_of_month at 0x7ba45fb62520>, <function week_of_year at 0x7ba45fb628e0>]\n"
          ]
        }
      ],
      "source": [
        "from gluonts.time_feature import time_features_from_frequency_str\n",
        "\n",
        "time_features = time_features_from_frequency_str(freq)\n",
        "print(time_features)"
      ]
    },
    {
      "cell_type": "markdown",
      "id": "da3f00bb-84b5-43a4-89d0-2cff2ef6d876",
      "metadata": {
        "id": "da3f00bb-84b5-43a4-89d0-2cff2ef6d876"
      },
      "source": [
        "Look back certain time range for each time step, as additional features \"lags_sequence\""
      ]
    },
    {
      "cell_type": "code",
      "execution_count": 31,
      "id": "e902b76c-6b1c-4852-b35c-626e4659f32e",
      "metadata": {
        "colab": {
          "base_uri": "https://localhost:8080/"
        },
        "id": "e902b76c-6b1c-4852-b35c-626e4659f32e",
        "outputId": "40c417ac-6976-4e50-cf13-0492b0814e40"
      },
      "outputs": [
        {
          "output_type": "stream",
          "name": "stdout",
          "text": [
            "[1, 2, 3, 4, 5, 6, 7, 8, 12, 51, 52, 53, 103, 104, 105, 155, 156, 157]\n"
          ]
        }
      ],
      "source": [
        "lags_sequence = get_lags_for_frequency(freq)\n",
        "print(lags_sequence)"
      ]
    },
    {
      "cell_type": "code",
      "execution_count": 32,
      "id": "2e1358e5-92af-46e8-8366-08a865067125",
      "metadata": {
        "colab": {
          "base_uri": "https://localhost:8080/"
        },
        "id": "2e1358e5-92af-46e8-8366-08a865067125",
        "outputId": "7e8b49ff-2bbb-464d-db6f-1a84ec28e07c"
      },
      "outputs": [
        {
          "output_type": "stream",
          "name": "stdout",
          "text": [
            "{'day_of_month': array([-0.36666667]), 'week_of_year': array([-0.5])}\n"
          ]
        }
      ],
      "source": [
        "timestamp = pd.Period(\"2025-01-01 01:00:01\", freq=freq)\n",
        "timestamp_as_index = pd.PeriodIndex(data=period_array([timestamp]))\n",
        "additional_features = [\n",
        "    (time_feature.__name__, time_feature(timestamp_as_index))\n",
        "    for time_feature in time_features\n",
        "]\n",
        "print(dict(additional_features))"
      ]
    },
    {
      "cell_type": "code",
      "execution_count": 33,
      "id": "9df97b89-c634-49c1-b696-6e987abb07ed",
      "metadata": {
        "id": "9df97b89-c634-49c1-b696-6e987abb07ed"
      },
      "outputs": [],
      "source": [
        "model = None"
      ]
    },
    {
      "cell_type": "code",
      "execution_count": 34,
      "id": "c6838383-e496-4b21-a7db-99d49d82aacd",
      "metadata": {
        "colab": {
          "base_uri": "https://localhost:8080/"
        },
        "id": "c6838383-e496-4b21-a7db-99d49d82aacd",
        "outputId": "0032aefa-c1d7-4b5c-b980-04b998b2aeb1"
      },
      "outputs": [
        {
          "output_type": "stream",
          "name": "stdout",
          "text": [
            "successfully loaded model from hugging face with Config InformerConfig {\n",
            "  \"activation_dropout\": 0.1,\n",
            "  \"activation_function\": \"gelu\",\n",
            "  \"architectures\": [\n",
            "    \"InformerForPrediction\"\n",
            "  ],\n",
            "  \"attention_dropout\": 0.1,\n",
            "  \"attention_type\": \"prob\",\n",
            "  \"cardinality\": [\n",
            "    0\n",
            "  ],\n",
            "  \"context_length\": 16,\n",
            "  \"d_model\": 64,\n",
            "  \"decoder_attention_heads\": 2,\n",
            "  \"decoder_ffn_dim\": 32,\n",
            "  \"decoder_layerdrop\": 0.1,\n",
            "  \"decoder_layers\": 4,\n",
            "  \"distil\": true,\n",
            "  \"distribution_output\": \"student_t\",\n",
            "  \"dropout\": 0.1,\n",
            "  \"embedding_dimension\": [\n",
            "    0\n",
            "  ],\n",
            "  \"encoder_attention_heads\": 2,\n",
            "  \"encoder_ffn_dim\": 32,\n",
            "  \"encoder_layerdrop\": 0.1,\n",
            "  \"encoder_layers\": 6,\n",
            "  \"feature_size\": 111,\n",
            "  \"init_std\": 0.02,\n",
            "  \"input_size\": 27,\n",
            "  \"is_encoder_decoder\": true,\n",
            "  \"lags_sequence\": [\n",
            "    1,\n",
            "    168\n",
            "  ],\n",
            "  \"loss\": \"nll\",\n",
            "  \"model_type\": \"informer\",\n",
            "  \"num_dynamic_real_features\": 0,\n",
            "  \"num_parallel_samples\": 100,\n",
            "  \"num_static_categorical_features\": 0,\n",
            "  \"num_static_real_features\": 0,\n",
            "  \"num_time_features\": 3,\n",
            "  \"prediction_length\": 8,\n",
            "  \"sampling_factor\": 5,\n",
            "  \"scaling\": \"mean\",\n",
            "  \"torch_dtype\": \"float32\",\n",
            "  \"transformers_version\": \"4.54.0\",\n",
            "  \"use_cache\": true\n",
            "}\n",
            "\n"
          ]
        }
      ],
      "source": [
        "try:\n",
        "    model = InformerForPrediction.from_pretrained(\"shaddie/rocketpill_thrustcurve_informer_model\")\n",
        "    print(f\"successfully loaded model from hugging face with Config {model.config}\")\n",
        "except:\n",
        "    print(f\"An exception occurred when loading model from HF; initializing new model...\")\n",
        "    config = InformerConfig(\n",
        "    # in the multivariate setting, input_size is the number of variates in the time series per time step\n",
        "    input_size=num_of_variates,\n",
        "    # prediction length:\n",
        "    prediction_length=prediction_length,\n",
        "    # context length:\n",
        "    context_length=prediction_length * 2,\n",
        "    # lags value copied from 1 week before:\n",
        "    lags_sequence=[1, 24 * 7],\n",
        "    # we'll add 5 time features (\"hour_of_day\", ..., and \"age\"):\n",
        "    num_time_features=len(time_features) + 1,\n",
        "    # informer params:\n",
        "    dropout=0.1,\n",
        "    encoder_layers=6,\n",
        "    decoder_layers=4,\n",
        "    # project input from num_of_variates*len(lags_sequence)+num_time_features to:\n",
        "    d_model=64,\n",
        "    )\n",
        "\n",
        "    model = InformerForPrediction(config)\n",
        "    print(f\"New model initialized with config {model.config}\")"
      ]
    },
    {
      "cell_type": "markdown",
      "source": [
        "Note: model.config.num_static_categorical_features=0 and model.config.num_static_real_features=0\n",
        "So we'll only be predicting(running inference) for the unknown value of interest (thrust), that is, the target values\n",
        "\n",
        "If needed, set the config as shown below to allow these static values to be inferred. Pass through effects may need to be adjusted for in subsequent code\n",
        "\n",
        "model.config.num_static_categorical_features = 1\n",
        "\n",
        "model.config.num_static_real_features = 1"
      ],
      "metadata": {
        "id": "dR21IrPq0-8h"
      },
      "id": "dR21IrPq0-8h"
    },
    {
      "cell_type": "code",
      "execution_count": 35,
      "id": "5e18bb22-004f-4176-9c4b-3051b6226d31",
      "metadata": {
        "id": "5e18bb22-004f-4176-9c4b-3051b6226d31",
        "colab": {
          "base_uri": "https://localhost:8080/",
          "height": 36
        },
        "outputId": "4c6fb702-14d3-4398-9ae9-da4d3984eb9f"
      },
      "outputs": [
        {
          "output_type": "execute_result",
          "data": {
            "text/plain": [
              "'student_t'"
            ],
            "application/vnd.google.colaboratory.intrinsic+json": {
              "type": "string"
            }
          },
          "metadata": {},
          "execution_count": 35
        }
      ],
      "source": [
        "model.to(device)\n",
        "model.config.distribution_output"
      ]
    },
    {
      "cell_type": "code",
      "execution_count": 36,
      "id": "b2265052-836a-4131-b12c-2df354ad9133",
      "metadata": {
        "id": "b2265052-836a-4131-b12c-2df354ad9133"
      },
      "outputs": [],
      "source": [
        "def create_transformation(freq: str, config: PretrainedConfig) -> Transformation:\n",
        "    # create list of fields to remove later\n",
        "    remove_field_names = []\n",
        "    if config.num_static_real_features == 0:\n",
        "        remove_field_names.append(FieldName.FEAT_STATIC_REAL)\n",
        "    if config.num_dynamic_real_features == 0:\n",
        "        remove_field_names.append(FieldName.FEAT_DYNAMIC_REAL)\n",
        "    if config.num_static_categorical_features == 0:\n",
        "        remove_field_names.append(FieldName.FEAT_STATIC_CAT)\n",
        "\n",
        "    return Chain(\n",
        "        # step 1: remove static/dynamic fields if not specified\n",
        "        [RemoveFields(field_names=remove_field_names)]\n",
        "        # step 2: convert the data to NumPy (potentially not needed)\n",
        "        + (\n",
        "            [\n",
        "                AsNumpyArray(\n",
        "                    field=FieldName.FEAT_STATIC_CAT,\n",
        "                    expected_ndim=1,\n",
        "                    dtype=int,\n",
        "                )\n",
        "            ]\n",
        "            if config.num_static_categorical_features > 0\n",
        "            else []\n",
        "        )\n",
        "        + (\n",
        "            [\n",
        "                AsNumpyArray(\n",
        "                    field=FieldName.FEAT_STATIC_REAL,\n",
        "                    expected_ndim=1,\n",
        "                )\n",
        "            ]\n",
        "            if config.num_static_real_features > 0\n",
        "            else []\n",
        "        )\n",
        "        + [\n",
        "            AsNumpyArray(\n",
        "                field=FieldName.TARGET,\n",
        "                # we expect an extra dim for the multivariate case:\n",
        "                expected_ndim=1 if config.input_size == 1 else 2,\n",
        "            ),\n",
        "            # step 3: handle the NaN's by filling in the target with zero\n",
        "            # and return the mask (which is in the observed values)\n",
        "            # true for observed values, false for nan's\n",
        "            # the decoder uses this mask (no loss is incurred for unobserved values)\n",
        "            # see loss_weights inside the xxxForPrediction model\n",
        "            AddObservedValuesIndicator(\n",
        "                target_field=FieldName.TARGET,\n",
        "                output_field=FieldName.OBSERVED_VALUES,\n",
        "            ),\n",
        "            # step 4: add temporal features based on freq of the dataset\n",
        "            # these serve as positional encodings\n",
        "            AddTimeFeatures(\n",
        "                start_field=FieldName.START,\n",
        "                target_field=FieldName.TARGET,\n",
        "                output_field=FieldName.FEAT_TIME,\n",
        "                time_features=time_features_from_frequency_str(freq),\n",
        "                pred_length=config.prediction_length,\n",
        "            ),\n",
        "            # step 5: add another temporal feature (just a single number)\n",
        "            # tells the model where in the life the value of the time series is\n",
        "            # sort of running counter\n",
        "            AddAgeFeature(\n",
        "                target_field=FieldName.TARGET,\n",
        "                output_field=FieldName.FEAT_AGE,\n",
        "                pred_length=config.prediction_length,\n",
        "                log_scale=True,\n",
        "            ),\n",
        "            # step 6: vertically stack all the temporal features into the key FEAT_TIME\n",
        "            VstackFeatures(\n",
        "                output_field=FieldName.FEAT_TIME,\n",
        "                input_fields=[FieldName.FEAT_TIME, FieldName.FEAT_AGE]\n",
        "                + (\n",
        "                    [FieldName.FEAT_DYNAMIC_REAL]\n",
        "                    if config.num_dynamic_real_features > 0\n",
        "                    else []\n",
        "                ),\n",
        "            ),\n",
        "            # step 7: rename to match HuggingFace names\n",
        "            RenameFields(\n",
        "                mapping={\n",
        "                    FieldName.FEAT_STATIC_CAT: \"static_categorical_features\",\n",
        "                    FieldName.FEAT_STATIC_REAL: \"static_real_features\",\n",
        "                    FieldName.FEAT_TIME: \"time_features\",\n",
        "                    FieldName.TARGET: \"values\",\n",
        "                    FieldName.OBSERVED_VALUES: \"observed_mask\",\n",
        "                }\n",
        "            ),\n",
        "        ]\n",
        "    )"
      ]
    },
    {
      "cell_type": "code",
      "execution_count": 37,
      "id": "b8850e0d-a330-4d7a-a528-c6cfb7e0ed9e",
      "metadata": {
        "id": "b8850e0d-a330-4d7a-a528-c6cfb7e0ed9e"
      },
      "outputs": [],
      "source": [
        "def create_instance_splitter(\n",
        "    config: PretrainedConfig,\n",
        "    mode: str,\n",
        "    train_sampler: Optional[InstanceSampler] = None,\n",
        "    validation_sampler: Optional[InstanceSampler] = None,\n",
        ") -> Transformation:\n",
        "    assert mode in [\"train\", \"validation\", \"test\"]\n",
        "\n",
        "    instance_sampler = {\n",
        "        \"train\": train_sampler\n",
        "        or ExpectedNumInstanceSampler(\n",
        "            num_instances=1.0, min_future=config.prediction_length\n",
        "        ),\n",
        "        \"validation\": validation_sampler\n",
        "        or ValidationSplitSampler(min_future=config.prediction_length),\n",
        "        \"test\": TestSplitSampler(),\n",
        "    }[mode]\n",
        "\n",
        "    return InstanceSplitter(\n",
        "        target_field=\"values\",\n",
        "        is_pad_field=FieldName.IS_PAD,\n",
        "        start_field=FieldName.START,\n",
        "        forecast_start_field=FieldName.FORECAST_START,\n",
        "        instance_sampler=instance_sampler,\n",
        "        past_length=config.context_length + max(config.lags_sequence),\n",
        "        future_length=config.prediction_length,\n",
        "        time_series_fields=[\"time_features\", \"observed_mask\"],\n",
        "    )"
      ]
    },
    {
      "cell_type": "code",
      "execution_count": 38,
      "id": "3167024f-4064-496b-b442-12d5a80b40c2",
      "metadata": {
        "id": "3167024f-4064-496b-b442-12d5a80b40c2"
      },
      "outputs": [],
      "source": [
        "from typing import Iterable\n",
        "\n",
        "import torch\n",
        "from gluonts.itertools import Cached, Cyclic\n",
        "from gluonts.dataset.loader import as_stacked_batches\n",
        "\n",
        "\n",
        "def create_train_dataloader(\n",
        "    config: PretrainedConfig,\n",
        "    freq,\n",
        "    data,\n",
        "    batch_size: int,\n",
        "    num_batches_per_epoch: int,\n",
        "    shuffle_buffer_length: Optional[int] = None,\n",
        "    cache_data: bool = True,\n",
        "    **kwargs,\n",
        ") -> Iterable:\n",
        "    PREDICTION_INPUT_NAMES = [\n",
        "        \"past_time_features\",\n",
        "        \"past_values\",\n",
        "        \"past_observed_mask\",\n",
        "        \"future_time_features\",\n",
        "    ]\n",
        "    if config.num_static_categorical_features > 0:\n",
        "        PREDICTION_INPUT_NAMES.append(\"static_categorical_features\")\n",
        "\n",
        "    if config.num_static_real_features > 0:\n",
        "        PREDICTION_INPUT_NAMES.append(\"static_real_features\")\n",
        "\n",
        "    TRAINING_INPUT_NAMES = PREDICTION_INPUT_NAMES + [\n",
        "        \"future_values\",\n",
        "        \"future_observed_mask\",\n",
        "    ]\n",
        "\n",
        "    transformation = create_transformation(freq, config)\n",
        "    transformed_data = transformation.apply(data, is_train=True)\n",
        "    if cache_data:\n",
        "        transformed_data = Cached(transformed_data)\n",
        "\n",
        "    # we initialize a Training instance\n",
        "    instance_splitter = create_instance_splitter(config, \"train\")\n",
        "\n",
        "    # the instance splitter will sample a window of\n",
        "    # context length + lags + prediction length (from all the possible transformed time series, 1 in our case)\n",
        "    # randomly from within the target time series and return an iterator.\n",
        "    stream = Cyclic(transformed_data).stream()\n",
        "    training_instances = instance_splitter.apply(stream)\n",
        "\n",
        "    return as_stacked_batches(\n",
        "        training_instances,\n",
        "        batch_size=batch_size,\n",
        "        shuffle_buffer_length=shuffle_buffer_length,\n",
        "        field_names=TRAINING_INPUT_NAMES,\n",
        "        output_type=torch.tensor,\n",
        "        num_batches_per_epoch=num_batches_per_epoch,\n",
        "    )"
      ]
    },
    {
      "cell_type": "code",
      "execution_count": 39,
      "id": "4946f995-4305-43bc-adc7-219a93549080",
      "metadata": {
        "id": "4946f995-4305-43bc-adc7-219a93549080"
      },
      "outputs": [],
      "source": [
        "def create_test_dataloader(\n",
        "    config: PretrainedConfig,\n",
        "    freq,\n",
        "    data,\n",
        "    batch_size: int,\n",
        "    num_batches_per_epoch: int,\n",
        "    shuffle_buffer_length: Optional[int] = None,\n",
        "    cache_data: bool = True,\n",
        "    **kwargs,\n",
        "):\n",
        "    PREDICTION_INPUT_NAMES = [\n",
        "        \"past_time_features\",\n",
        "        \"past_values\",\n",
        "        \"past_observed_mask\",\n",
        "        \"future_time_features\",\n",
        "    ]\n",
        "    if config.num_static_categorical_features > 0:\n",
        "        PREDICTION_INPUT_NAMES.append(\"static_categorical_features\")\n",
        "\n",
        "    if config.num_static_real_features > 0:\n",
        "        PREDICTION_INPUT_NAMES.append(\"static_real_features\")\n",
        "\n",
        "    transformation = create_transformation(freq, config)\n",
        "    transformed_data = transformation.apply(data, is_train=False)\n",
        "\n",
        "    # We create a test Instance splitter to sample the very last\n",
        "    # context window from the dataset provided.\n",
        "    instance_sampler = create_instance_splitter(config, \"test\")\n",
        "\n",
        "    # We apply the transformations in test mode\n",
        "    testing_instances = instance_sampler.apply(transformed_data, is_train=False)\n",
        "\n",
        "    return as_stacked_batches(\n",
        "        testing_instances,\n",
        "        batch_size=batch_size,\n",
        "        output_type=torch.tensor,\n",
        "        field_names=PREDICTION_INPUT_NAMES,\n",
        "        num_batches_per_epoch=num_batches_per_epoch,\n",
        "    )\n"
      ]
    },
    {
      "cell_type": "code",
      "source": [
        "config = model.config"
      ],
      "metadata": {
        "id": "vwyUJS37sgRO"
      },
      "id": "vwyUJS37sgRO",
      "execution_count": 40,
      "outputs": []
    },
    {
      "cell_type": "code",
      "execution_count": 41,
      "id": "1d9e0668-ceac-47a7-9ecf-fa7868267258",
      "metadata": {
        "id": "1d9e0668-ceac-47a7-9ecf-fa7868267258"
      },
      "outputs": [],
      "source": [
        "train_dataloader = create_train_dataloader(\n",
        "    config=config,\n",
        "    freq=freq,\n",
        "    data=multi_variate_train_dataset,\n",
        "    batch_size=256,\n",
        "    num_batches_per_epoch=100,\n",
        "    num_workers=2,\n",
        ")\n",
        "\n",
        "test_dataloader = create_test_dataloader(\n",
        "    config=config,\n",
        "    freq=freq,\n",
        "    data=multi_variate_test_dataset,\n",
        "    batch_size=256,\n",
        "    num_batches_per_epoch=100,\n",
        "    num_workers=2,\n",
        ")\n"
      ]
    },
    {
      "cell_type": "code",
      "execution_count": 42,
      "id": "c51f58dc-21f6-4c05-9da8-cd726eeeb4d3",
      "metadata": {
        "id": "c51f58dc-21f6-4c05-9da8-cd726eeeb4d3",
        "colab": {
          "base_uri": "https://localhost:8080/"
        },
        "outputId": "599fcad8-aa61-4b28-e489-8cd057e01ff2"
      },
      "outputs": [
        {
          "output_type": "stream",
          "name": "stdout",
          "text": [
            "past_time_features torch.Size([256, 184, 3]) torch.FloatTensor\n",
            "past_values torch.Size([256, 184, 27]) torch.FloatTensor\n",
            "past_observed_mask torch.Size([256, 184, 27]) torch.FloatTensor\n",
            "future_time_features torch.Size([256, 8, 3]) torch.FloatTensor\n",
            "future_values torch.Size([256, 8, 27]) torch.FloatTensor\n",
            "future_observed_mask torch.Size([256, 8, 27]) torch.FloatTensor\n"
          ]
        }
      ],
      "source": [
        "batch = next(iter(train_dataloader))\n",
        "for k, v in batch.items():\n",
        "    print(k, v.shape, v.type())"
      ]
    },
    {
      "cell_type": "code",
      "source": [
        "batch = next(iter(test_dataloader))\n",
        "for k, v in batch.items():\n",
        "    print(k, v.shape, v.type())"
      ],
      "metadata": {
        "colab": {
          "base_uri": "https://localhost:8080/"
        },
        "id": "ryM4ewbg5nP4",
        "outputId": "09bc669b-b523-4bf5-bb5f-b70fd153b678"
      },
      "id": "ryM4ewbg5nP4",
      "execution_count": 43,
      "outputs": [
        {
          "output_type": "stream",
          "name": "stdout",
          "text": [
            "past_time_features torch.Size([1, 184, 3]) torch.FloatTensor\n",
            "past_values torch.Size([1, 184, 27]) torch.FloatTensor\n",
            "past_observed_mask torch.Size([1, 184, 27]) torch.FloatTensor\n",
            "future_time_features torch.Size([1, 8, 3]) torch.FloatTensor\n"
          ]
        }
      ]
    },
    {
      "cell_type": "code",
      "source": [
        "def compute_mase_smape(forecasts):\n",
        "\n",
        "  mase_metric = load(\"evaluate-metric/mase\")\n",
        "  smape_metric = load(\"evaluate-metric/smape\")\n",
        "\n",
        "  forecast_median = np.median(forecasts, 1).squeeze(0).T\n",
        "\n",
        "  mase_metrics = []\n",
        "  smape_metrics = []\n",
        "\n",
        "  for item_id, ts in enumerate(test_dataset):\n",
        "      training_data = ts[\"target\"][:-prediction_length]\n",
        "      ground_truth = ts[\"target\"][-prediction_length:]\n",
        "      mase = mase_metric.compute(\n",
        "          predictions=forecast_median[item_id],\n",
        "          references=np.array(ground_truth),\n",
        "          training=np.array(training_data),\n",
        "          periodicity=get_seasonality(freq),\n",
        "      )\n",
        "      mase_metrics.append(mase[\"mase\"])\n",
        "\n",
        "      smape = smape_metric.compute(\n",
        "          predictions=forecast_median[item_id],\n",
        "          references=np.array(ground_truth),\n",
        "      )\n",
        "      smape_metrics.append(smape[\"smape\"])\n",
        "\n",
        "  return np.mean(mase_metrics), np.mean(smape_metrics)"
      ],
      "metadata": {
        "id": "hZofLgTt6HBR"
      },
      "id": "hZofLgTt6HBR",
      "execution_count": 44,
      "outputs": []
    },
    {
      "cell_type": "code",
      "source": [
        "def run_inference():\n",
        "  model.eval()\n",
        "  forecasts_ = []\n",
        "  test_progress_bar = tqdm(test_dataloader, desc=f\"Epoch \")\n",
        "  print(f'Test Eval batch data: ')\n",
        "      # for data in tqdm(train_dataloader,  desc=f\"Epoch {epoch+1}\"):\n",
        "  for idx, batch in enumerate(test_progress_bar):\n",
        "    for k, v in batch.items():\n",
        "      print(k, v.shape, v.type())\n",
        "    # print(f'past_observed_mask {batch[\"past_observed_mask\"].to(device).repeat(1,1, 3).shape}')\n",
        "    # print(f'future_time_features {batch[\"future_time_features\"].to(device).shape}')\n",
        "    outputs = model.generate(\n",
        "      static_categorical_features=batch[\"static_categorical_features\"].to(device)\n",
        "      if config.num_static_categorical_features > 0\n",
        "      else None,\n",
        "      static_real_features=batch[\"static_real_features\"].to(device)\n",
        "      if config.num_static_real_features > 0\n",
        "      else None,\n",
        "      past_time_features=batch[\"past_time_features\"].to(device),\n",
        "      past_values=batch[\"past_values\"].to(device),\n",
        "      future_time_features=batch[\"future_time_features\"].to(device),\n",
        "      past_observed_mask=batch[\"past_observed_mask\"].to(device),\n",
        "    )\n",
        "    term = outputs.sequences.cpu().numpy()\n",
        "    print(f'term item {term[0].shape}')\n",
        "    print(f'forecast_ term {term.shape}')\n",
        "  forecasts_.append(outputs.sequences.cpu().numpy())\n",
        "  forecasts = np.vstack(forecasts_)\n",
        "  # print(f'forecasts {forecasts}')\n",
        "\n",
        "  pred_thrust = np.clip(forecasts, 0, None)[0] # Ensure no negative values\n",
        "  print(f'pred_thrust shape {pred_thrust.shape}')\n",
        "  mean_samples_predicted_thrust = np.mean(pred_thrust, axis=0)\n",
        "\n",
        "  mase, smape = compute_mase_smape(forecasts=forecasts)\n",
        "\n",
        "  # print(f'mase: {mase} & smape: {smape}')\n",
        "\n",
        "  return mean_samples_predicted_thrust # tbd: return the mean of the 100 (n) samples at each time step to obtain a single predicted thrust curve\n"
      ],
      "metadata": {
        "id": "WY4apYAO_fYK"
      },
      "id": "WY4apYAO_fYK",
      "execution_count": 45,
      "outputs": []
    },
    {
      "cell_type": "code",
      "source": [
        "with torch.no_grad():\n",
        "  inference = run_inference()\n",
        "  predicted_thrust = np.clip(inference, 0, None) # Ensure no negative values\n",
        "  print(f'forecasts non-neg {predicted_thrust.shape}')"
      ],
      "metadata": {
        "colab": {
          "base_uri": "https://localhost:8080/"
        },
        "id": "5Vk0PkqI88gW",
        "outputId": "1135413c-8fa8-499f-ae09-f24ac34bf478"
      },
      "id": "5Vk0PkqI88gW",
      "execution_count": 46,
      "outputs": [
        {
          "output_type": "stream",
          "name": "stderr",
          "text": [
            "\rEpoch : 0it [00:00, ?it/s]"
          ]
        },
        {
          "output_type": "stream",
          "name": "stdout",
          "text": [
            "Test Eval batch data: \n",
            "past_time_features torch.Size([1, 184, 3]) torch.FloatTensor\n",
            "past_values torch.Size([1, 184, 27]) torch.FloatTensor\n",
            "past_observed_mask torch.Size([1, 184, 27]) torch.FloatTensor\n",
            "future_time_features torch.Size([1, 8, 3]) torch.FloatTensor\n"
          ]
        },
        {
          "output_type": "stream",
          "name": "stderr",
          "text": [
            "Passing a tuple of `past_key_values` is deprecated and will be removed in Transformers v4.58.0. You should pass an instance of `EncoderDecoderCache` instead, e.g. `past_key_values=EncoderDecoderCache.from_legacy_cache(past_key_values)`.\n",
            "Epoch : 1it [00:00,  1.53it/s]"
          ]
        },
        {
          "output_type": "stream",
          "name": "stdout",
          "text": [
            "term item (100, 8, 27)\n",
            "forecast_ term (1, 100, 8, 27)\n",
            "pred_thrust shape (100, 8, 27)\n"
          ]
        },
        {
          "output_type": "stream",
          "name": "stderr",
          "text": [
            "\n"
          ]
        },
        {
          "output_type": "stream",
          "name": "stdout",
          "text": [
            "forecasts non-neg (8, 27)\n"
          ]
        }
      ]
    },
    {
      "cell_type": "code",
      "source": [
        "# Plot predicted thrust curves"
      ],
      "metadata": {
        "id": "jIIELUVoAmzP"
      },
      "id": "jIIELUVoAmzP",
      "execution_count": 47,
      "outputs": []
    },
    {
      "cell_type": "code",
      "source": [
        "# --- CALCULATIONS for LPE(LIQUID propellant engine) ---\n",
        "def calc_lpe_chamber_pressure(predicted_thrust):\n",
        "  v_e = Isp * g0\n",
        "  mass_flow = predicted_thrust / v_e\n",
        "  chamber_pressure_Pa = (mass_flow * c_star) / At\n",
        "  chamber_pressure_bar = chamber_pressure_Pa / 1e5\n",
        "  return chamber_pressure_bar\n",
        "\n"
      ],
      "metadata": {
        "id": "tt_pMj0DErk8"
      },
      "id": "tt_pMj0DErk8",
      "execution_count": 48,
      "outputs": []
    },
    {
      "cell_type": "code",
      "source": [
        "predicted_lpe_pressure = calc_lpe_chamber_pressure(predicted_thrust=predicted_thrust)\n",
        "predicted_lpe_pressure.shape"
      ],
      "metadata": {
        "colab": {
          "base_uri": "https://localhost:8080/"
        },
        "id": "z0JNLEXhFFtN",
        "outputId": "1c8f5ca5-4a8d-4e29-ec2d-e42797fc8222"
      },
      "id": "z0JNLEXhFFtN",
      "execution_count": 49,
      "outputs": [
        {
          "output_type": "execute_result",
          "data": {
            "text/plain": [
              "(8, 27)"
            ]
          },
          "metadata": {},
          "execution_count": 49
        }
      ]
    },
    {
      "cell_type": "code",
      "source": [],
      "metadata": {
        "id": "fAv1DM0aJT2n"
      },
      "id": "fAv1DM0aJT2n",
      "execution_count": 49,
      "outputs": []
    },
    {
      "cell_type": "code",
      "source": [
        "# --- CALCULATIONS for SRM (SOLID ROCKET motor) ---\n",
        "def calc_srm_chamber_pressure(predicted_thrust):\n",
        "\n",
        "  # --- CONSTANTS ---\n",
        "  g0 = 9.80665                  # m/s²\n",
        "  C_F = 1.5                     # Typical thrust coefficient for solid motor\n",
        "  rho_prop = 1800               # Propellant density (kg/m³), e.g., for AP composite\n",
        "  a = 5e-5                      # Burn rate coefficient (m/s/Paⁿ)\n",
        "  n = 0.3                       # Pressure exponent (dimensionless)\n",
        "\n",
        "  # ---Assuming a CYLINDRICAL GRAIN GEOMETRY ---\n",
        "  r_inner = 0.02                # Inner port radius (m)\n",
        "  r_outer = 0.05                # Outer grain radius (m)\n",
        "  L_grain = 0.2                 # Grain length (m)\n",
        "  A_burn = 2 * np.pi * r_inner * L_grain  # Burning surface area of port (cylindrical)\n",
        "\n",
        "  # --- MASS FLOW RATE from THRUST ---\n",
        "  # T = C_F * P_chamber * A_t  =>  P_chamber = T / (C_F * A_t)\n",
        "  # Instead, use T = ṁ * v_e, and solve ṁ first:\n",
        "  v_e = 2200                    # Effective exhaust velocity (m/s), typical solid SRM\n",
        "  mass_flow = predicted_thrust / v_e  # (N / m/s) = kg/s\n",
        "\n",
        "  # --- Solve for Chamber Pressure using Saint Robert's Law:\n",
        "  # Rearranged: P = (ṁ / (rho * A_b * a)) ** (1/n)\n",
        "  P_chamber = (mass_flow / (rho_prop * A_burn * a)) ** (1 / n)  # Pa\n",
        "  P_chamber_bar = P_chamber / 1e5\n",
        "\n",
        "  return P_chamber_bar"
      ],
      "metadata": {
        "id": "-LBmesW2He9l"
      },
      "id": "-LBmesW2He9l",
      "execution_count": 50,
      "outputs": []
    },
    {
      "cell_type": "code",
      "source": [
        "predicted_srm_pressure = calc_srm_chamber_pressure(predicted_thrust)"
      ],
      "metadata": {
        "id": "iPtarV1EZv6T"
      },
      "id": "iPtarV1EZv6T",
      "execution_count": 51,
      "outputs": []
    },
    {
      "cell_type": "code",
      "source": [
        "predicted_srm_pressure.shape"
      ],
      "metadata": {
        "colab": {
          "base_uri": "https://localhost:8080/"
        },
        "id": "kYZ5Hrh9eWNU",
        "outputId": "99b66222-d163-45b4-e3cf-341932091556"
      },
      "id": "kYZ5Hrh9eWNU",
      "execution_count": 52,
      "outputs": [
        {
          "output_type": "execute_result",
          "data": {
            "text/plain": [
              "(8, 27)"
            ]
          },
          "metadata": {},
          "execution_count": 52
        }
      ]
    },
    {
      "cell_type": "markdown",
      "source": [
        "R rows of individual thrust/pressure curves are predicted for; input the thrust/pressure row index of interest(pressure_curve_index) in pressure_time function to get it's predicted curve of length model.config.prediction_length"
      ],
      "metadata": {
        "id": "GyVPFc104cJB"
      },
      "id": "GyVPFc104cJB"
    },
    {
      "cell_type": "markdown",
      "source": [],
      "metadata": {
        "id": "y98gh_Sh4YEU"
      },
      "id": "y98gh_Sh4YEU"
    },
    {
      "cell_type": "code",
      "source": [
        "def pressure_time(predicted_pressure\n",
        "                  , pressure_curve_index\n",
        "                  , time_index):\n",
        "  return predicted_pressure[pressure_curve_index][time_index]"
      ],
      "metadata": {
        "id": "PIaRJ-h-1qQQ"
      },
      "id": "PIaRJ-h-1qQQ",
      "execution_count": 55,
      "outputs": []
    },
    {
      "cell_type": "code",
      "source": [
        "print(f'Pressure curve 0 at time_index 5: {pressure_time(predicted_srm_pressure, 0, 5)} bar')\n",
        "print(f'Pressure curve 0 at time_index 10: {pressure_time(predicted_srm_pressure, 0, 10)} bar')"
      ],
      "metadata": {
        "colab": {
          "base_uri": "https://localhost:8080/"
        },
        "id": "oDo7Ya77uZ8o",
        "outputId": "d277324b-bf19-4b0e-b1c2-8d638effbda9"
      },
      "id": "oDo7Ya77uZ8o",
      "execution_count": 68,
      "outputs": [
        {
          "output_type": "stream",
          "name": "stdout",
          "text": [
            "Pressure curve 0 at time_index 5: 1.0114645926373456e-10 bar\n",
            "Pressure curve 0 at time_index 10: 1.891132162872315e-18 bar\n"
          ]
        }
      ]
    },
    {
      "cell_type": "code",
      "source": [
        "# Plot the pressure curve"
      ],
      "metadata": {
        "id": "IcTsWTrn0Z16"
      },
      "id": "IcTsWTrn0Z16",
      "execution_count": null,
      "outputs": []
    }
  ],
  "metadata": {
    "accelerator": "GPU",
    "colab": {
      "gpuType": "T4",
      "provenance": []
    },
    "kernelspec": {
      "display_name": "Python 3",
      "name": "python3"
    },
    "language_info": {
      "codemirror_mode": {
        "name": "ipython",
        "version": 3
      },
      "file_extension": ".py",
      "mimetype": "text/x-python",
      "name": "python",
      "nbconvert_exporter": "python",
      "pygments_lexer": "ipython3",
      "version": "3.11.11"
    }
  },
  "nbformat": 4,
  "nbformat_minor": 5
}