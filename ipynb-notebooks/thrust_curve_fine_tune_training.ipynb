{
 "cells": [
  {
   "cell_type": "code",
   "execution_count": 1,
   "id": "aaa90e46-2b63-4c0c-b210-f5e09e43b4c9",
   "metadata": {},
   "outputs": [
    {
     "name": "stdout",
     "output_type": "stream",
     "text": [
      "Requirement already satisfied: datasets in /Users/rckyi/miniforge3/envs/gpu_py311/lib/python3.11/site-packages (3.6.0)\n",
      "Requirement already satisfied: huggingface_hub in /Users/rckyi/miniforge3/envs/gpu_py311/lib/python3.11/site-packages (0.32.4)\n",
      "Requirement already satisfied: fsspec in /Users/rckyi/miniforge3/envs/gpu_py311/lib/python3.11/site-packages (2025.3.0)\n",
      "Collecting fsspec\n",
      "  Using cached fsspec-2025.5.1-py3-none-any.whl.metadata (11 kB)\n",
      "Requirement already satisfied: filelock in /Users/rckyi/miniforge3/envs/gpu_py311/lib/python3.11/site-packages (from datasets) (3.17.0)\n",
      "Requirement already satisfied: numpy>=1.17 in /Users/rckyi/miniforge3/envs/gpu_py311/lib/python3.11/site-packages (from datasets) (1.26.4)\n",
      "Requirement already satisfied: pyarrow>=15.0.0 in /Users/rckyi/miniforge3/envs/gpu_py311/lib/python3.11/site-packages (from datasets) (20.0.0)\n",
      "Requirement already satisfied: dill<0.3.9,>=0.3.0 in /Users/rckyi/miniforge3/envs/gpu_py311/lib/python3.11/site-packages (from datasets) (0.3.8)\n",
      "Requirement already satisfied: pandas in /Users/rckyi/miniforge3/envs/gpu_py311/lib/python3.11/site-packages (from datasets) (2.2.3)\n",
      "Requirement already satisfied: requests>=2.32.2 in /Users/rckyi/miniforge3/envs/gpu_py311/lib/python3.11/site-packages (from datasets) (2.32.3)\n",
      "Requirement already satisfied: tqdm>=4.66.3 in /Users/rckyi/miniforge3/envs/gpu_py311/lib/python3.11/site-packages (from datasets) (4.67.1)\n",
      "Requirement already satisfied: xxhash in /Users/rckyi/miniforge3/envs/gpu_py311/lib/python3.11/site-packages (from datasets) (3.5.0)\n",
      "Requirement already satisfied: multiprocess<0.70.17 in /Users/rckyi/miniforge3/envs/gpu_py311/lib/python3.11/site-packages (from datasets) (0.70.16)\n",
      "Requirement already satisfied: packaging in /Users/rckyi/miniforge3/envs/gpu_py311/lib/python3.11/site-packages (from datasets) (25.0)\n",
      "Requirement already satisfied: pyyaml>=5.1 in /Users/rckyi/miniforge3/envs/gpu_py311/lib/python3.11/site-packages (from datasets) (6.0.2)\n",
      "Requirement already satisfied: aiohttp!=4.0.0a0,!=4.0.0a1 in /Users/rckyi/miniforge3/envs/gpu_py311/lib/python3.11/site-packages (from fsspec[http]<=2025.3.0,>=2023.1.0->datasets) (3.12.6)\n",
      "Requirement already satisfied: typing-extensions>=3.7.4.3 in /Users/rckyi/miniforge3/envs/gpu_py311/lib/python3.11/site-packages (from huggingface_hub) (4.12.2)\n",
      "Requirement already satisfied: hf-xet<2.0.0,>=1.1.2 in /Users/rckyi/miniforge3/envs/gpu_py311/lib/python3.11/site-packages (from huggingface_hub) (1.1.2)\n",
      "Requirement already satisfied: aiohappyeyeballs>=2.5.0 in /Users/rckyi/miniforge3/envs/gpu_py311/lib/python3.11/site-packages (from aiohttp!=4.0.0a0,!=4.0.0a1->fsspec[http]<=2025.3.0,>=2023.1.0->datasets) (2.6.1)\n",
      "Requirement already satisfied: aiosignal>=1.1.2 in /Users/rckyi/miniforge3/envs/gpu_py311/lib/python3.11/site-packages (from aiohttp!=4.0.0a0,!=4.0.0a1->fsspec[http]<=2025.3.0,>=2023.1.0->datasets) (1.3.2)\n",
      "Requirement already satisfied: attrs>=17.3.0 in /Users/rckyi/miniforge3/envs/gpu_py311/lib/python3.11/site-packages (from aiohttp!=4.0.0a0,!=4.0.0a1->fsspec[http]<=2025.3.0,>=2023.1.0->datasets) (25.3.0)\n",
      "Requirement already satisfied: frozenlist>=1.1.1 in /Users/rckyi/miniforge3/envs/gpu_py311/lib/python3.11/site-packages (from aiohttp!=4.0.0a0,!=4.0.0a1->fsspec[http]<=2025.3.0,>=2023.1.0->datasets) (1.6.0)\n",
      "Requirement already satisfied: multidict<7.0,>=4.5 in /Users/rckyi/miniforge3/envs/gpu_py311/lib/python3.11/site-packages (from aiohttp!=4.0.0a0,!=4.0.0a1->fsspec[http]<=2025.3.0,>=2023.1.0->datasets) (6.4.4)\n",
      "Requirement already satisfied: propcache>=0.2.0 in /Users/rckyi/miniforge3/envs/gpu_py311/lib/python3.11/site-packages (from aiohttp!=4.0.0a0,!=4.0.0a1->fsspec[http]<=2025.3.0,>=2023.1.0->datasets) (0.3.1)\n",
      "Requirement already satisfied: yarl<2.0,>=1.17.0 in /Users/rckyi/miniforge3/envs/gpu_py311/lib/python3.11/site-packages (from aiohttp!=4.0.0a0,!=4.0.0a1->fsspec[http]<=2025.3.0,>=2023.1.0->datasets) (1.20.0)\n",
      "Requirement already satisfied: idna>=2.0 in /Users/rckyi/miniforge3/envs/gpu_py311/lib/python3.11/site-packages (from yarl<2.0,>=1.17.0->aiohttp!=4.0.0a0,!=4.0.0a1->fsspec[http]<=2025.3.0,>=2023.1.0->datasets) (3.7)\n",
      "Requirement already satisfied: charset-normalizer<4,>=2 in /Users/rckyi/miniforge3/envs/gpu_py311/lib/python3.11/site-packages (from requests>=2.32.2->datasets) (3.3.2)\n",
      "Requirement already satisfied: urllib3<3,>=1.21.1 in /Users/rckyi/miniforge3/envs/gpu_py311/lib/python3.11/site-packages (from requests>=2.32.2->datasets) (2.3.0)\n",
      "Requirement already satisfied: certifi>=2017.4.17 in /Users/rckyi/miniforge3/envs/gpu_py311/lib/python3.11/site-packages (from requests>=2.32.2->datasets) (2025.4.26)\n",
      "Requirement already satisfied: python-dateutil>=2.8.2 in /Users/rckyi/miniforge3/envs/gpu_py311/lib/python3.11/site-packages (from pandas->datasets) (2.9.0.post0)\n",
      "Requirement already satisfied: pytz>=2020.1 in /Users/rckyi/miniforge3/envs/gpu_py311/lib/python3.11/site-packages (from pandas->datasets) (2025.2)\n",
      "Requirement already satisfied: tzdata>=2022.7 in /Users/rckyi/miniforge3/envs/gpu_py311/lib/python3.11/site-packages (from pandas->datasets) (2025.2)\n",
      "Requirement already satisfied: six>=1.5 in /Users/rckyi/miniforge3/envs/gpu_py311/lib/python3.11/site-packages (from python-dateutil>=2.8.2->pandas->datasets) (1.17.0)\n"
     ]
    }
   ],
   "source": [
    "!pip install -U datasets huggingface_hub fsspec"
   ]
  },
  {
   "cell_type": "code",
   "execution_count": 2,
   "id": "5924fcdf-2164-4c24-94bd-e0a523b249e1",
   "metadata": {},
   "outputs": [
    {
     "name": "stderr",
     "output_type": "stream",
     "text": [
      "/Users/rckyi/miniforge3/envs/gpu_py311/lib/python3.11/site-packages/tqdm/auto.py:21: TqdmWarning: IProgress not found. Please update jupyter and ipywidgets. See https://ipywidgets.readthedocs.io/en/stable/user_install.html\n",
      "  from .autonotebook import tqdm as notebook_tqdm\n"
     ]
    }
   ],
   "source": [
    "import pandas as pd  # requires: pip install pandas\n",
    "import torch\n",
    "from chronos import BaseChronosPipeline, ChronosPipeline, ChronosTokenizer\n",
    "import numpy as np\n",
    "from datasets import load_dataset, Dataset\n",
    "from transformers import Trainer, TrainingArguments, DataCollatorForLanguageModeling, pipeline\n",
    "from transformers import AutoModelForSeq2SeqLM, AutoTokenizer, DataCollatorForSeq2Seq"
   ]
  },
  {
   "cell_type": "code",
   "execution_count": 3,
   "id": "33882b8b-7fc5-42e7-acfd-cd4c50f70802",
   "metadata": {},
   "outputs": [],
   "source": [
    "# return cls(\n",
    "#             tokenizer=chronos_config.create_tokenizer(),\n",
    "#             model=ChronosModel(config=chronos_config, model=inner_model),\n",
    "#         )\n",
    "\n",
    "\n",
    "pipeline = BaseChronosPipeline.from_pretrained(\n",
    "    \"amazon/chronos-t5-small\",  # use \"amazon/chronos-bolt-small\" for the corresponding Chronos-Bolt model\n",
    "    device_map=\"auto\",  # use \"cpu\" for CPU inference\n",
    "    torch_dtype=torch.bfloat16,\n",
    ")"
   ]
  },
  {
   "cell_type": "code",
   "execution_count": 143,
   "id": "4d36e000-5839-4b23-b603-df202ece6555",
   "metadata": {},
   "outputs": [],
   "source": [
    "model = pipeline.model\n",
    "tokenizer = pipeline.tokenizer"
   ]
  },
  {
   "cell_type": "code",
   "execution_count": 12,
   "id": "5e9063c0-a497-4f14-9c0c-4d9b08856dc0",
   "metadata": {},
   "outputs": [
    {
     "data": {
      "application/vnd.jupyter.widget-view+json": {
       "model_id": "2b21d2f350b74b5e89ac440a8d4ebae2",
       "version_major": 2,
       "version_minor": 0
      },
      "text/plain": [
       "VBox(children=(HTML(value='<center> <img\\nsrc=https://huggingface.co/front/assets/huggingface_logo-noborder.sv…"
      ]
     },
     "metadata": {},
     "output_type": "display_data"
    }
   ],
   "source": [
    "from huggingface_hub import notebook_login\n",
    "notebook_login()"
   ]
  },
  {
   "cell_type": "code",
   "execution_count": 15,
   "id": "77e73994-d7b4-41b9-80a2-6f8d3efd6b42",
   "metadata": {},
   "outputs": [
    {
     "name": "stderr",
     "output_type": "stream",
     "text": [
      "Repo card metadata block was not found. Setting CardData to empty.\n"
     ]
    }
   ],
   "source": [
    "from datasets import load_dataset\n",
    "\n",
    "# Login using e.g. `huggingface-cli login` to access this dataset\n",
    "dataset = load_dataset(\"shaddie/thrust_curves_dataset\")"
   ]
  },
  {
   "cell_type": "code",
   "execution_count": 30,
   "id": "847cdc16-08d1-450d-bedd-71c2c786e315",
   "metadata": {},
   "outputs": [
    {
     "data": {
      "text/plain": [
       "DatasetDict({\n",
       "    train: Dataset({\n",
       "        features: ['time', 'thrust', 'motorId', 'motor_name', 'impulse_class', 'id'],\n",
       "        num_rows: 6008\n",
       "    })\n",
       "})"
      ]
     },
     "execution_count": 30,
     "metadata": {},
     "output_type": "execute_result"
    }
   ],
   "source": [
    "dataset"
   ]
  },
  {
   "cell_type": "code",
   "execution_count": 27,
   "id": "c96a0a9d-a8ff-479e-aace-5a9da3340130",
   "metadata": {},
   "outputs": [],
   "source": [
    "# dataset['train']['time']"
   ]
  },
  {
   "cell_type": "code",
   "execution_count": null,
   "id": "2f03a1b0-4f11-4f89-9b06-36d11e4ae10f",
   "metadata": {},
   "outputs": [],
   "source": [
    "# dataset = load_dataset(\"monash_tsf\", \"weather\")"
   ]
  },
  {
   "cell_type": "code",
   "execution_count": null,
   "id": "1937aee5-6ea1-460e-a257-6b8ded7ac51c",
   "metadata": {},
   "outputs": [],
   "source": [
    "time_raw_values = [example['time'] for example in thrust_dataset['train']]\n",
    "thrust_raw_values = [example['thrust'] for example in thrust_dataset['train']]\n",
    "raw_values = [example['time'] for example in thrust_dataset['train']]"
   ]
  },
  {
   "cell_type": "code",
   "execution_count": null,
   "id": "6d831e9d-1c3b-454f-a8bc-d529d6ef7fea",
   "metadata": {},
   "outputs": [],
   "source": [
    "def generate_windows(values, context_length, prediction_length):\n",
    "    inputs, targets = [], []\n",
    "    total_length = context_length + prediction_length\n",
    "    for i in range(len(values) - total_length + 1):\n",
    "        context = values[i : i + context_length]\n",
    "        target = values[i + context_length : i + total_length]\n",
    "        inputs.append(context)\n",
    "        targets.append(target)\n",
    "    return inputs, targets"
   ]
  },
  {
   "cell_type": "code",
   "execution_count": null,
   "id": "8881e09a-2a90-4348-a75a-a8f31ee866c9",
   "metadata": {},
   "outputs": [],
   "source": [
    "inputs, targets = generate_windows(raw_values, context_length, prediction_length)"
   ]
  },
  {
   "cell_type": "code",
   "execution_count": 47,
   "id": "f499a115-229a-419f-bac0-ce8080d5df07",
   "metadata": {},
   "outputs": [],
   "source": [
    "from collections import defaultdict\n",
    "from datasets import Dataset\n",
    "\n",
    "context_length = 24\n",
    "prediction_length = 12\n",
    "\n",
    "# Step 1: Group values by 'motorId'\n",
    "groups = defaultdict(list)\n",
    "for example in dataset['train']:\n",
    "    id = example['id']\n",
    "    time = example['time']\n",
    "    motor_id = example['motorId']\n",
    "    value = example['thrust']\n",
    "    impulse_class = example['impulse_class']\n",
    "    groups[motor_id].append({'id': id, 'time': time, 'thrust': value, 'motor_id': motor_id, 'impulse_class': impulse_class})"
   ]
  },
  {
   "cell_type": "code",
   "execution_count": 48,
   "id": "8f33dd80-b960-444e-890c-1b1d266f9da0",
   "metadata": {},
   "outputs": [
    {
     "data": {
      "text/plain": [
       "[{'id': 0,\n",
       "  'time': 0.0,\n",
       "  'thrust': 0.0,\n",
       "  'motor_id': '5f4294d200023100000000f7',\n",
       "  'impulse_class': 'J'},\n",
       " {'id': 1,\n",
       "  'time': 0.0,\n",
       "  'thrust': 1.0,\n",
       "  'motor_id': '5f4294d200023100000000f7',\n",
       "  'impulse_class': 'J'},\n",
       " {'id': 2,\n",
       "  'time': 0.0533667938931297,\n",
       "  'thrust': 0.800000899236099,\n",
       "  'motor_id': '5f4294d200023100000000f7',\n",
       "  'impulse_class': 'J'},\n",
       " {'id': 3,\n",
       "  'time': 0.4013167938931297,\n",
       "  'thrust': 0.6923083840277684,\n",
       "  'motor_id': '5f4294d200023100000000f7',\n",
       "  'impulse_class': 'J'},\n",
       " {'id': 4,\n",
       "  'time': 0.7876946564885495,\n",
       "  'thrust': 0.4153841311805621,\n",
       "  'motor_id': '5f4294d200023100000000f7',\n",
       "  'impulse_class': 'J'},\n",
       " {'id': 5,\n",
       "  'time': 0.8239847328244275,\n",
       "  'thrust': 0.2307687119791736,\n",
       "  'motor_id': '5f4294d200023100000000f7',\n",
       "  'impulse_class': 'J'},\n",
       " {'id': 6,\n",
       "  'time': 0.8709465648854962,\n",
       "  'thrust': 0.1538462576041652,\n",
       "  'motor_id': '5f4294d200023100000000f7',\n",
       "  'impulse_class': 'J'},\n",
       " {'id': 7,\n",
       "  'time': 1.0,\n",
       "  'thrust': 0.0,\n",
       "  'motor_id': '5f4294d200023100000000f7',\n",
       "  'impulse_class': 'J'}]"
      ]
     },
     "execution_count": 48,
     "metadata": {},
     "output_type": "execute_result"
    }
   ],
   "source": [
    "groups['5f4294d200023100000000f7']"
   ]
  },
  {
   "cell_type": "code",
   "execution_count": 92,
   "id": "8f43fe06-07e4-4b8c-810e-9d17cd337075",
   "metadata": {},
   "outputs": [],
   "source": [
    "group_keys = []\n",
    "for key, value in groups.items():\n",
    "    group_keys.append({'id': [v['id'] for v in value][0] \n",
    "                       ,'time':[(v['time']) for v in value]\n",
    "                       ,'thrust':[(v['thrust']) for v in value]\n",
    "                       ,'motor_id':key\n",
    "                       ,'impulse_class': [(v['impulse_class']) for v in value][0]\n",
    "                      })\n",
    "    # print(f'key, value {key} -> {len(value)}')"
   ]
  },
  {
   "cell_type": "code",
   "execution_count": 105,
   "id": "65500ad7-0fc2-4da7-b699-4d8cab57689b",
   "metadata": {},
   "outputs": [],
   "source": [
    "# group_keys[1]"
   ]
  },
  {
   "cell_type": "code",
   "execution_count": 106,
   "id": "a9e236b4-923f-46f6-a8d1-ab4cf6780c00",
   "metadata": {},
   "outputs": [],
   "source": [
    "# group_keys[2]"
   ]
  },
  {
   "cell_type": "code",
   "execution_count": 49,
   "id": "20913e73-be40-49e6-8a8a-78551685b0b8",
   "metadata": {},
   "outputs": [],
   "source": [
    "# Step 2: Slide windows within each group\n",
    "def generate_windows(values, context_length, prediction_length):\n",
    "    total_length = context_length + prediction_length\n",
    "    windows = []\n",
    "    for i in range(len(values) - total_length + 1):\n",
    "        context = values[i : i + context_length]\n",
    "        target = values[i + context_length : i + total_length]\n",
    "        windows.append((context, target))\n",
    "    return windows"
   ]
  },
  {
   "cell_type": "code",
   "execution_count": null,
   "id": "214f2c49-e609-4f50-937a-b72b64ed6ee4",
   "metadata": {},
   "outputs": [],
   "source": []
  },
  {
   "cell_type": "code",
   "execution_count": 162,
   "id": "89a212ab-3ce0-4dff-8466-e6f2caa344bd",
   "metadata": {},
   "outputs": [],
   "source": [
    "# Step 3: Aggregate all windows into a flat dataset\n",
    "windowed_data = []\n",
    "for motor_id, values in groups.items():\n",
    "    windows = generate_windows(values, context_length, prediction_length)\n",
    "    # print(f'motor id {windows}')\n",
    "    for context, target in windows:\n",
    "        windowed_data.append({\n",
    "                    'input':{'id': [c['id'] for c in context][0] \n",
    "                            ,'time':[(c['time']) for c in context]\n",
    "                            ,'thrust':[(c['thrust']) for c in context]\n",
    "                            ,'motor_id':[(c['motor_id']) for c in context][0]\n",
    "                            ,'impulse_class': [(c['impulse_class']) for c in context][0]\n",
    "                            }\n",
    "                    , 'target':{'id': [t['id'] for t in target][0] \n",
    "                            ,'time':[(t['time']) for t in target]\n",
    "                            ,'thrust':[(t['thrust']) for t in target]\n",
    "                            ,'motor_id':[(t['motor_id']) for t in target][0]\n",
    "                            ,'impulse_class': [(t['impulse_class']) for t in target][0]\n",
    "                            }\n",
    "        })"
   ]
  },
  {
   "cell_type": "code",
   "execution_count": 163,
   "id": "b48c4990-1d93-41fc-8228-037716c30d57",
   "metadata": {},
   "outputs": [],
   "source": [
    "# Step 4: Build a Dataset\n",
    "windowed_dataset = Dataset.from_list(windowed_data)"
   ]
  },
  {
   "cell_type": "code",
   "execution_count": 164,
   "id": "8fd9e9bc-fe59-4928-9874-57c39d9fe48a",
   "metadata": {},
   "outputs": [
    {
     "data": {
      "text/plain": [
       "Dataset({\n",
       "    features: ['input', 'target'],\n",
       "    num_rows: 191\n",
       "})"
      ]
     },
     "execution_count": 164,
     "metadata": {},
     "output_type": "execute_result"
    }
   ],
   "source": [
    "windowed_dataset"
   ]
  },
  {
   "cell_type": "code",
   "execution_count": 165,
   "id": "a51112b6-3832-4ace-925c-c2d2c77d82d8",
   "metadata": {},
   "outputs": [
    {
     "data": {
      "text/plain": [
       "{'id': 23,\n",
       " 'impulse_class': 'J',\n",
       " 'motor_id': '5f4294d20002310000000256',\n",
       " 'thrust': [0.0,\n",
       "  0.9454233664183034,\n",
       "  0.7429588165385054,\n",
       "  1.0,\n",
       "  0.7183106043750306,\n",
       "  0.711268064230788,\n",
       "  0.5633801479326868,\n",
       "  0.7429588165385054,\n",
       "  0.8327467941586668,\n",
       "  0.7376758939182626,\n",
       "  0.7235921703125255,\n",
       "  0.7411978423317578,\n",
       "  0.7411978423317578,\n",
       "  0.7447184340625052,\n",
       "  0.7429588165385054,\n",
       "  0.7605631318749899,\n",
       "  0.7834517265144649,\n",
       "  0.8028170160576971,\n",
       "  0.8133801479326868,\n",
       "  0.8116205304086872,\n",
       "  0.8098595562019396,\n",
       "  0.8045779902644447,\n",
       "  0.7975354501202021,\n",
       "  0.7799297781009698],\n",
       " 'time': [0.0,\n",
       "  0.0143426294820717,\n",
       "  0.0191235059760956,\n",
       "  0.0247011952191235,\n",
       "  0.0310756972111553,\n",
       "  0.0406374501992031,\n",
       "  0.0430278884462151,\n",
       "  0.050199203187251,\n",
       "  0.0629482071713147,\n",
       "  0.0749003984063745,\n",
       "  0.0844621513944223,\n",
       "  0.1011952191235059,\n",
       "  0.1163346613545816,\n",
       "  0.1521912350597609,\n",
       "  0.2231075697211156,\n",
       "  0.30199203187251,\n",
       "  0.3768924302788844,\n",
       "  0.4446215139442231,\n",
       "  0.5011952191235061,\n",
       "  0.5490039840637451,\n",
       "  0.6270916334661355,\n",
       "  0.6589641434262948,\n",
       "  0.7107569721115539,\n",
       "  0.754581673306773]}"
      ]
     },
     "execution_count": 165,
     "metadata": {},
     "output_type": "execute_result"
    }
   ],
   "source": [
    "windowed_dataset['input'][0]"
   ]
  },
  {
   "cell_type": "code",
   "execution_count": 166,
   "id": "f119020e-c51c-4830-aa1c-671284774753",
   "metadata": {},
   "outputs": [],
   "source": [
    "# windowed_dataset['target'][0]"
   ]
  },
  {
   "cell_type": "code",
   "execution_count": 180,
   "id": "83d4cf4e-459c-4c76-83b0-b70ade567662",
   "metadata": {},
   "outputs": [
    {
     "name": "stderr",
     "output_type": "stream",
     "text": [
      "Map: 100%|█████████████████████████████████████████████████████████████████████████████████████████████████████████| 191/191 [00:00<00:00, 2777.01 examples/s]\n"
     ]
    }
   ],
   "source": [
    "def preprocess_windowed(example):\n",
    "    # Include motorId in input prompt if helpful (optional)\n",
    "    # input_str = f\"forecast: \" + \" \".join(map(str, example[\"input\"]))\n",
    "    # target_str = \" \".join(map(str, example[\"target\"]))\n",
    "    # print(example['input']['thrust'])\n",
    "    t = torch.from_numpy(np.asarray(example['input']['thrust']))\n",
    "    t_shape = t.shape\n",
    "    t = t.reshape(1, t_shape[0])\n",
    "    # print(t.shape)\n",
    "\n",
    "    tokenized, attention_mask, scale = tokenizer.context_input_transform(t)\n",
    "    \n",
    "    # tokenizer.pad_token = tokenizer.eos_token\n",
    "    return {\n",
    "            \"token_ids\": tokenized\n",
    "            , \"attention_mask\": attention_mask\n",
    "            , \"scale\": scale\n",
    "    }\n",
    "\n",
    "tokenized_dataset = windowed_dataset.map(preprocess_windowed, remove_columns=windowed_dataset.column_names)"
   ]
  },
  {
   "cell_type": "code",
   "execution_count": 181,
   "id": "91dc39c6-10da-4efc-a304-9f43c6d8f8a8",
   "metadata": {},
   "outputs": [
    {
     "data": {
      "text/plain": [
       "Dataset({\n",
       "    features: ['token_ids', 'attention_mask', 'scale'],\n",
       "    num_rows: 191\n",
       "})"
      ]
     },
     "execution_count": 181,
     "metadata": {},
     "output_type": "execute_result"
    }
   ],
   "source": [
    "tokenized_dataset"
   ]
  },
  {
   "cell_type": "code",
   "execution_count": null,
   "id": "5ff08bcd-b94d-412a-8303-2c993e079f3a",
   "metadata": {},
   "outputs": [],
   "source": [
    "# training_args = TrainingArguments(\n",
    "#     output_dir=\"/thrust_curve_chronos_ts_model\",\n",
    "#     per_device_train_batch_size=8,\n",
    "#     gradient_accumulation_steps=2,\n",
    "#     num_train_epochs=5,\n",
    "#     logging_steps=50,\n",
    "#     save_steps=500,\n",
    "#     save_total_limit=2,\n",
    "#     learning_rate=2e-4,\n",
    "#     bf16=torch.cuda.is_bf16_supported(),\n",
    "#     fp16=not torch.cuda.is_bf16_supported(),\n",
    "#     report_to=\"none\"\n",
    "# )"
   ]
  },
  {
   "cell_type": "code",
   "execution_count": null,
   "id": "8d240a71-65c3-45c6-bac2-b3160d8f4464",
   "metadata": {},
   "outputs": [],
   "source": [
    "# trainer = Trainer(\n",
    "#     model=model,\n",
    "#     args=training_args,\n",
    "#     train_dataset=tokenized_dataset,\n",
    "#     tokenizer=tokenizer,\n",
    "#     data_collator=data_collator,\n",
    "# )\n",
    "\n",
    "# # Step 5: Train\n",
    "# trainer.train()\n"
   ]
  },
  {
   "cell_type": "code",
   "execution_count": null,
   "id": "2221276f-7c2a-4fc3-a816-2ca0f0cbabf1",
   "metadata": {},
   "outputs": [],
   "source": []
  }
 ],
 "metadata": {
  "kernelspec": {
   "display_name": "Python 3 (ipykernel)",
   "language": "python",
   "name": "python3"
  },
  "language_info": {
   "codemirror_mode": {
    "name": "ipython",
    "version": 3
   },
   "file_extension": ".py",
   "mimetype": "text/x-python",
   "name": "python",
   "nbconvert_exporter": "python",
   "pygments_lexer": "ipython3",
   "version": "3.11.11"
  }
 },
 "nbformat": 4,
 "nbformat_minor": 5
}
