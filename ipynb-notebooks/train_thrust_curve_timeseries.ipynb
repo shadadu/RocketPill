{
  "cells": [
    {
      "cell_type": "code",
      "execution_count": 1,
      "id": "5d2d9e41-374d-4053-b0e5-a7eed28166e2",
      "metadata": {
        "id": "5d2d9e41-374d-4053-b0e5-a7eed28166e2"
      },
      "outputs": [],
      "source": [
        "!pip install -q transformers datasets evaluate accelerate gluonts ujson"
      ]
    },
    {
      "cell_type": "code",
      "execution_count": 2,
      "id": "cf659f11-9741-47c6-bf62-513e83ce31e9",
      "metadata": {
        "colab": {
          "base_uri": "https://localhost:8080/"
        },
        "id": "cf659f11-9741-47c6-bf62-513e83ce31e9",
        "outputId": "0bbc2dc5-8317-4595-ac8a-264a18fbdb3e"
      },
      "outputs": [
        {
          "output_type": "stream",
          "name": "stdout",
          "text": [
            "Requirement already satisfied: datasets in /usr/local/lib/python3.11/dist-packages (3.6.0)\n",
            "Requirement already satisfied: huggingface_hub in /usr/local/lib/python3.11/dist-packages (0.33.0)\n",
            "Requirement already satisfied: fsspec in /usr/local/lib/python3.11/dist-packages (2025.3.0)\n",
            "Collecting fsspec\n",
            "  Using cached fsspec-2025.5.1-py3-none-any.whl.metadata (11 kB)\n",
            "Requirement already satisfied: filelock in /usr/local/lib/python3.11/dist-packages (from datasets) (3.18.0)\n",
            "Requirement already satisfied: numpy>=1.17 in /usr/local/lib/python3.11/dist-packages (from datasets) (2.0.2)\n",
            "Requirement already satisfied: pyarrow>=15.0.0 in /usr/local/lib/python3.11/dist-packages (from datasets) (18.1.0)\n",
            "Requirement already satisfied: dill<0.3.9,>=0.3.0 in /usr/local/lib/python3.11/dist-packages (from datasets) (0.3.7)\n",
            "Requirement already satisfied: pandas in /usr/local/lib/python3.11/dist-packages (from datasets) (2.2.2)\n",
            "Requirement already satisfied: requests>=2.32.2 in /usr/local/lib/python3.11/dist-packages (from datasets) (2.32.3)\n",
            "Requirement already satisfied: tqdm>=4.66.3 in /usr/local/lib/python3.11/dist-packages (from datasets) (4.67.1)\n",
            "Requirement already satisfied: xxhash in /usr/local/lib/python3.11/dist-packages (from datasets) (3.5.0)\n",
            "Requirement already satisfied: multiprocess<0.70.17 in /usr/local/lib/python3.11/dist-packages (from datasets) (0.70.15)\n",
            "Requirement already satisfied: packaging in /usr/local/lib/python3.11/dist-packages (from datasets) (24.2)\n",
            "Requirement already satisfied: pyyaml>=5.1 in /usr/local/lib/python3.11/dist-packages (from datasets) (6.0.2)\n",
            "Requirement already satisfied: typing-extensions>=3.7.4.3 in /usr/local/lib/python3.11/dist-packages (from huggingface_hub) (4.14.0)\n",
            "Requirement already satisfied: hf-xet<2.0.0,>=1.1.2 in /usr/local/lib/python3.11/dist-packages (from huggingface_hub) (1.1.3)\n",
            "Requirement already satisfied: aiohttp!=4.0.0a0,!=4.0.0a1 in /usr/local/lib/python3.11/dist-packages (from fsspec[http]<=2025.3.0,>=2023.1.0->datasets) (3.11.15)\n",
            "Requirement already satisfied: charset-normalizer<4,>=2 in /usr/local/lib/python3.11/dist-packages (from requests>=2.32.2->datasets) (3.4.2)\n",
            "Requirement already satisfied: idna<4,>=2.5 in /usr/local/lib/python3.11/dist-packages (from requests>=2.32.2->datasets) (3.10)\n",
            "Requirement already satisfied: urllib3<3,>=1.21.1 in /usr/local/lib/python3.11/dist-packages (from requests>=2.32.2->datasets) (2.4.0)\n",
            "Requirement already satisfied: certifi>=2017.4.17 in /usr/local/lib/python3.11/dist-packages (from requests>=2.32.2->datasets) (2025.6.15)\n",
            "Requirement already satisfied: python-dateutil>=2.8.2 in /usr/local/lib/python3.11/dist-packages (from pandas->datasets) (2.9.0.post0)\n",
            "Requirement already satisfied: pytz>=2020.1 in /usr/local/lib/python3.11/dist-packages (from pandas->datasets) (2025.2)\n",
            "Requirement already satisfied: tzdata>=2022.7 in /usr/local/lib/python3.11/dist-packages (from pandas->datasets) (2025.2)\n",
            "Requirement already satisfied: aiohappyeyeballs>=2.3.0 in /usr/local/lib/python3.11/dist-packages (from aiohttp!=4.0.0a0,!=4.0.0a1->fsspec[http]<=2025.3.0,>=2023.1.0->datasets) (2.6.1)\n",
            "Requirement already satisfied: aiosignal>=1.1.2 in /usr/local/lib/python3.11/dist-packages (from aiohttp!=4.0.0a0,!=4.0.0a1->fsspec[http]<=2025.3.0,>=2023.1.0->datasets) (1.3.2)\n",
            "Requirement already satisfied: attrs>=17.3.0 in /usr/local/lib/python3.11/dist-packages (from aiohttp!=4.0.0a0,!=4.0.0a1->fsspec[http]<=2025.3.0,>=2023.1.0->datasets) (25.3.0)\n",
            "Requirement already satisfied: frozenlist>=1.1.1 in /usr/local/lib/python3.11/dist-packages (from aiohttp!=4.0.0a0,!=4.0.0a1->fsspec[http]<=2025.3.0,>=2023.1.0->datasets) (1.7.0)\n",
            "Requirement already satisfied: multidict<7.0,>=4.5 in /usr/local/lib/python3.11/dist-packages (from aiohttp!=4.0.0a0,!=4.0.0a1->fsspec[http]<=2025.3.0,>=2023.1.0->datasets) (6.4.4)\n",
            "Requirement already satisfied: propcache>=0.2.0 in /usr/local/lib/python3.11/dist-packages (from aiohttp!=4.0.0a0,!=4.0.0a1->fsspec[http]<=2025.3.0,>=2023.1.0->datasets) (0.3.2)\n",
            "Requirement already satisfied: yarl<2.0,>=1.17.0 in /usr/local/lib/python3.11/dist-packages (from aiohttp!=4.0.0a0,!=4.0.0a1->fsspec[http]<=2025.3.0,>=2023.1.0->datasets) (1.20.1)\n",
            "Requirement already satisfied: six>=1.5 in /usr/local/lib/python3.11/dist-packages (from python-dateutil>=2.8.2->pandas->datasets) (1.17.0)\n"
          ]
        }
      ],
      "source": [
        "!pip install -U datasets huggingface_hub fsspec"
      ]
    },
    {
      "cell_type": "code",
      "execution_count": 3,
      "id": "fb7c3a87-dd1d-47de-a29e-0e42e5143567",
      "metadata": {
        "id": "fb7c3a87-dd1d-47de-a29e-0e42e5143567"
      },
      "outputs": [],
      "source": [
        "from datasets import load_dataset\n",
        "import matplotlib.pyplot as plt\n",
        "from functools import lru_cache, partial\n",
        "import pandas as pd\n",
        "import numpy as np\n",
        "from gluonts.dataset.multivariate_grouper import MultivariateGrouper\n",
        "from gluonts.time_feature import get_lags_for_frequency\n",
        "from pandas.core.arrays.period import period_array\n",
        "from transformers import InformerConfig, InformerForPrediction\n",
        "from transformers import PretrainedConfig\n",
        "from typing import Optional\n",
        "\n",
        "from gluonts.transform.sampler import InstanceSampler\n",
        "\n",
        "\n",
        "from gluonts.time_feature import TimeFeature\n",
        "from gluonts.dataset.field_names import FieldName\n",
        "from gluonts.transform import (\n",
        "    AddAgeFeature,\n",
        "    AddObservedValuesIndicator,\n",
        "    AddTimeFeatures,\n",
        "    AsNumpyArray,\n",
        "    Chain,\n",
        "    ExpectedNumInstanceSampler,\n",
        "    InstanceSplitter,\n",
        "    RemoveFields,\n",
        "    SelectFields,\n",
        "    SetField,\n",
        "    TestSplitSampler,\n",
        "    Transformation,\n",
        "    ValidationSplitSampler,\n",
        "    VstackFeatures,\n",
        "    RenameFields,\n",
        ")\n",
        "\n",
        "from accelerate import Accelerator\n",
        "from torch.optim import AdamW"
      ]
    },
    {
      "cell_type": "code",
      "execution_count": 4,
      "id": "01245d6e-567c-483f-be0c-881c6cf22359",
      "metadata": {
        "colab": {
          "base_uri": "https://localhost:8080/"
        },
        "id": "01245d6e-567c-483f-be0c-881c6cf22359",
        "outputId": "21a1d32c-3a16-49c2-d2ea-6329b2a538d4"
      },
      "outputs": [
        {
          "output_type": "stream",
          "name": "stderr",
          "text": [
            "/usr/local/lib/python3.11/dist-packages/huggingface_hub/utils/_auth.py:94: UserWarning: \n",
            "The secret `HF_TOKEN` does not exist in your Colab secrets.\n",
            "To authenticate with the Hugging Face Hub, create a token in your settings tab (https://huggingface.co/settings/tokens), set it as secret in your Google Colab and restart your session.\n",
            "You will be able to reuse this secret in all of your notebooks.\n",
            "Please note that authentication is recommended but still optional to access public models or datasets.\n",
            "  warnings.warn(\n"
          ]
        }
      ],
      "source": [
        "tc_dataset = load_dataset(\"shaddie/thrust_curves_dataset\")"
      ]
    },
    {
      "cell_type": "code",
      "execution_count": 5,
      "id": "be50d20e-7453-4ff5-a4a4-d126f1263ee6",
      "metadata": {
        "id": "be50d20e-7453-4ff5-a4a4-d126f1263ee6"
      },
      "outputs": [],
      "source": [
        "# Specify train/test split fraction\n",
        "train_fraction = 0.9  # 80% for training, 20% for testing\n",
        "\n",
        "# Split the original training set into new train/test sets\n",
        "split_dataset = tc_dataset[\"train\"].train_test_split(train_size=train_fraction, seed=42)"
      ]
    },
    {
      "cell_type": "code",
      "execution_count": 6,
      "id": "25c1be52-32b3-4786-8ad4-7634008a0fea",
      "metadata": {
        "colab": {
          "base_uri": "https://localhost:8080/"
        },
        "id": "25c1be52-32b3-4786-8ad4-7634008a0fea",
        "outputId": "08d1140c-5b35-49a7-d36f-650f2914234d"
      },
      "outputs": [
        {
          "output_type": "execute_result",
          "data": {
            "text/plain": [
              "DatasetDict({\n",
              "    train: Dataset({\n",
              "        features: ['start', 'target', 'feat_static_cat', 'feat_dynamic_real', 'item_id'],\n",
              "        num_rows: 239\n",
              "    })\n",
              "    test: Dataset({\n",
              "        features: ['start', 'target', 'feat_static_cat', 'feat_dynamic_real', 'item_id'],\n",
              "        num_rows: 27\n",
              "    })\n",
              "})"
            ]
          },
          "metadata": {},
          "execution_count": 6
        }
      ],
      "source": [
        "split_dataset"
      ]
    },
    {
      "cell_type": "code",
      "execution_count": 7,
      "id": "af4db824-0b8c-4ffe-9dde-081e11ff6290",
      "metadata": {
        "id": "af4db824-0b8c-4ffe-9dde-081e11ff6290"
      },
      "outputs": [],
      "source": [
        "def find_pad_max(dataset):\n",
        "    l=len(dataset)\n",
        "    m = 0\n",
        "    for r in range(l):\n",
        "        # real = tc_dataset[split][r]['feat_dynamic_real']\n",
        "        target = dataset[r]['target']\n",
        "        if m < len(target):\n",
        "            m = len(target)\n",
        "\n",
        "    return m\n",
        "\n",
        "\n",
        "def pad_data(data, m, split):\n",
        "    l=len(data)\n",
        "    tc = []\n",
        "    for r in range(l):\n",
        "        real = data[r]['feat_dynamic_real']\n",
        "        target = data[r]['target']\n",
        "        rlen = len(real)\n",
        "        pad = [0 for _ in range(m-rlen)]\n",
        "        # target = tc_dataset['train'][r]['target']\n",
        "        real = real + pad\n",
        "        target = target + pad\n",
        "        tc.append({\n",
        "            'start': data[r]['start'],\n",
        "            'target': target,\n",
        "            'feat_static_cat': data[r]['feat_static_cat'],\n",
        "            'feat_dynamic_real': real,\n",
        "            'item_id': data[r]['item_id']\n",
        "                }\n",
        "            )\n",
        "\n",
        "    return tc"
      ]
    },
    {
      "cell_type": "code",
      "execution_count": 8,
      "id": "6f5c9dda-f4c0-4a89-bc83-8c394bdd34f5",
      "metadata": {
        "colab": {
          "base_uri": "https://localhost:8080/"
        },
        "id": "6f5c9dda-f4c0-4a89-bc83-8c394bdd34f5",
        "outputId": "473c4e20-50aa-4f35-f5ef-c7d852e43c9a"
      },
      "outputs": [
        {
          "output_type": "stream",
          "name": "stdout",
          "text": [
            "61\n"
          ]
        }
      ],
      "source": [
        "from datasets import Dataset\n",
        "m1 = find_pad_max(split_dataset[\"train\"])\n",
        "m2 = find_pad_max(split_dataset[\"test\"])\n",
        "m = max(m1,m2)\n",
        "print(m)"
      ]
    },
    {
      "cell_type": "code",
      "execution_count": 9,
      "id": "29b91cee-d666-4ffe-815d-f425952b762e",
      "metadata": {
        "id": "29b91cee-d666-4ffe-815d-f425952b762e"
      },
      "outputs": [],
      "source": [
        "train_data = pad_data(split_dataset[\"train\"], m=m, split=\"train\")\n",
        "test_data = pad_data(split_dataset[\"test\"], m=m, split=\"test\")"
      ]
    },
    {
      "cell_type": "code",
      "execution_count": 10,
      "id": "cb065aac-b0f6-4614-8657-39fcee289f46",
      "metadata": {
        "id": "cb065aac-b0f6-4614-8657-39fcee289f46"
      },
      "outputs": [],
      "source": [
        "train_dataset = Dataset.from_list(train_data)\n",
        "test_dataset = Dataset.from_list(test_data)"
      ]
    },
    {
      "cell_type": "code",
      "execution_count": 11,
      "id": "f5acf98c-297d-4029-ad49-832e360b31a9",
      "metadata": {
        "colab": {
          "base_uri": "https://localhost:8080/"
        },
        "id": "f5acf98c-297d-4029-ad49-832e360b31a9",
        "outputId": "068bd597-ba9f-4918-d336-d1bb15ef3af9"
      },
      "outputs": [
        {
          "output_type": "execute_result",
          "data": {
            "text/plain": [
              "Dataset({\n",
              "    features: ['start', 'target', 'feat_static_cat', 'feat_dynamic_real', 'item_id'],\n",
              "    num_rows: 239\n",
              "})"
            ]
          },
          "metadata": {},
          "execution_count": 11
        }
      ],
      "source": [
        "train_dataset"
      ]
    },
    {
      "cell_type": "code",
      "execution_count": 12,
      "id": "f32a738a-78e3-4035-8c52-cccfcd959f11",
      "metadata": {
        "colab": {
          "base_uri": "https://localhost:8080/"
        },
        "id": "f32a738a-78e3-4035-8c52-cccfcd959f11",
        "outputId": "51755425-ec15-47d1-ae3b-f3aef9e8c40f"
      },
      "outputs": [
        {
          "output_type": "execute_result",
          "data": {
            "text/plain": [
              "Dataset({\n",
              "    features: ['start', 'target', 'feat_static_cat', 'feat_dynamic_real', 'item_id'],\n",
              "    num_rows: 27\n",
              "})"
            ]
          },
          "metadata": {},
          "execution_count": 12
        }
      ],
      "source": [
        "test_dataset"
      ]
    },
    {
      "cell_type": "code",
      "execution_count": 13,
      "id": "c0c1b70b-578a-424f-a1fa-0483a03808f9",
      "metadata": {
        "id": "c0c1b70b-578a-424f-a1fa-0483a03808f9"
      },
      "outputs": [],
      "source": [
        "freq = \"1W\"\n",
        "prediction_length = 8\n",
        "\n",
        "# assert len(train_example[\"target\"]) + prediction_length == len(\n",
        "#     dataset[\"validation\"][0][\"target\"]\n",
        "# )"
      ]
    },
    {
      "cell_type": "code",
      "execution_count": 14,
      "id": "414f227c-4179-4070-8120-f1d6ad693f17",
      "metadata": {
        "colab": {
          "base_uri": "https://localhost:8080/"
        },
        "id": "414f227c-4179-4070-8120-f1d6ad693f17",
        "outputId": "e85deed5-1d3f-40b8-8121-8071c214e76f"
      },
      "outputs": [
        {
          "output_type": "execute_result",
          "data": {
            "text/plain": [
              "dict_keys(['start', 'target', 'feat_static_cat', 'feat_dynamic_real', 'item_id'])"
            ]
          },
          "metadata": {},
          "execution_count": 14
        }
      ],
      "source": [
        "train_example = train_dataset[0]\n",
        "train_example.keys()"
      ]
    },
    {
      "cell_type": "code",
      "execution_count": 15,
      "id": "16841c07-bacd-409a-8256-264f809bc167",
      "metadata": {
        "colab": {
          "base_uri": "https://localhost:8080/",
          "height": 430
        },
        "id": "16841c07-bacd-409a-8256-264f809bc167",
        "outputId": "604e3a66-f19b-4487-e2f7-c18f14cdacb5"
      },
      "outputs": [
        {
          "output_type": "display_data",
          "data": {
            "text/plain": [
              "<Figure size 640x480 with 1 Axes>"
            ],
            "image/png": "[encoded data removed]"
          },
          "metadata": {}
        }
      ],
      "source": [
        "num_of_samples = 150\n",
        "\n",
        "figure, axes = plt.subplots()\n",
        "axes.plot(\n",
        "          # train_example[\"feat_dynamic_real\"][-num_of_samples:],\n",
        "          train_example[\"target\"][-num_of_samples:],\n",
        "          color=\"blue\")\n",
        "\n",
        "plt.show()"
      ]
    },
    {
      "cell_type": "code",
      "execution_count": 16,
      "id": "b802b9b3-0a9e-4546-96e0-61c1a8dda3ea",
      "metadata": {
        "id": "b802b9b3-0a9e-4546-96e0-61c1a8dda3ea"
      },
      "outputs": [],
      "source": [
        "@lru_cache(10_000)\n",
        "def convert_to_pandas_period(date, freq):\n",
        "    return pd.Period(date, freq)\n",
        "\n",
        "\n",
        "def transform_start_field(batch, freq):\n",
        "    batch[\"start\"] = [convert_to_pandas_period(date, freq) for date in batch[\"start\"]]\n",
        "    return batch"
      ]
    },
    {
      "cell_type": "code",
      "execution_count": 17,
      "id": "600028d7-a2a4-4d8f-905f-168eaa2dee28",
      "metadata": {
        "id": "600028d7-a2a4-4d8f-905f-168eaa2dee28"
      },
      "outputs": [],
      "source": [
        "train_dataset.set_transform(partial(transform_start_field, freq=freq))\n",
        "test_dataset.set_transform(partial(transform_start_field, freq=freq))"
      ]
    },
    {
      "cell_type": "code",
      "execution_count": 18,
      "id": "642a647f-d53b-481f-8704-8f97470198f3",
      "metadata": {
        "id": "642a647f-d53b-481f-8704-8f97470198f3"
      },
      "outputs": [],
      "source": [
        "num_of_variates = len(test_dataset) # group according to the smaller test dataset size\n",
        "\n",
        "train_grouper = MultivariateGrouper(max_target_dim=num_of_variates)\n",
        "test_grouper = MultivariateGrouper(\n",
        "    max_target_dim=num_of_variates\n",
        "    # max_target_dim=num_of_variates,\n",
        "    # num_test_dates=len(test_dataset),\n",
        "    # num_test_dates=None, # len(test_dataset),\n",
        "    # num_of_variates=num  # number of rolling test windows\n",
        ")\n",
        "\n",
        "multi_variate_train_dataset = train_grouper(train_dataset)\n",
        "multi_variate_test_dataset = test_grouper(test_dataset)"
      ]
    },
    {
      "cell_type": "code",
      "execution_count": 19,
      "id": "3223c9fe-093b-4096-ba82-70f28113d546",
      "metadata": {
        "colab": {
          "base_uri": "https://localhost:8080/"
        },
        "id": "3223c9fe-093b-4096-ba82-70f28113d546",
        "outputId": "1a7dbf3e-1200-4534-868f-51708e0c8754"
      },
      "outputs": [
        {
          "output_type": "stream",
          "name": "stdout",
          "text": [
            "multi_variate_train_example['target'].shape = (27, 99)\n"
          ]
        }
      ],
      "source": [
        "multi_variate_train_example = multi_variate_train_dataset[0]\n",
        "print(\n",
        "    f\"multi_variate_train_example['target'].shape = {multi_variate_train_example['target'].shape}\"\n",
        ")"
      ]
    },
    {
      "cell_type": "code",
      "source": [
        "multi_variate_test_example = multi_variate_test_dataset[0]\n",
        "print(\n",
        "    f\"multi_variate_test_example['target'].shape = {multi_variate_test_example['target'].shape}\"\n",
        ")"
      ],
      "metadata": {
        "colab": {
          "base_uri": "https://localhost:8080/"
        },
        "id": "ivJVFcO13Tlv",
        "outputId": "6f988bdb-2e9a-43f8-947b-aa1d06f27cda"
      },
      "id": "ivJVFcO13Tlv",
      "execution_count": 20,
      "outputs": [
        {
          "output_type": "stream",
          "name": "stdout",
          "text": [
            "multi_variate_test_example['target'].shape = (27, 95)\n"
          ]
        }
      ]
    },
    {
      "cell_type": "code",
      "execution_count": 21,
      "id": "cee8848f-3d3a-420b-a1f7-a4670d69f638",
      "metadata": {
        "colab": {
          "base_uri": "https://localhost:8080/"
        },
        "id": "cee8848f-3d3a-420b-a1f7-a4670d69f638",
        "outputId": "bd8a33a7-3314-4559-c621-9fac11a9c30f"
      },
      "outputs": [
        {
          "output_type": "stream",
          "name": "stdout",
          "text": [
            "[<function day_of_month at 0x7e4e7785a520>, <function week_of_year at 0x7e4e7785a8e0>]\n"
          ]
        }
      ],
      "source": [
        "from gluonts.time_feature import time_features_from_frequency_str\n",
        "\n",
        "time_features = time_features_from_frequency_str(freq)\n",
        "print(time_features)"
      ]
    },
    {
      "cell_type": "markdown",
      "id": "da3f00bb-84b5-43a4-89d0-2cff2ef6d876",
      "metadata": {
        "id": "da3f00bb-84b5-43a4-89d0-2cff2ef6d876"
      },
      "source": [
        "Look back certain time range for each time step, as additional features \"lags_sequence\""
      ]
    },
    {
      "cell_type": "code",
      "execution_count": 22,
      "id": "e902b76c-6b1c-4852-b35c-626e4659f32e",
      "metadata": {
        "colab": {
          "base_uri": "https://localhost:8080/"
        },
        "id": "e902b76c-6b1c-4852-b35c-626e4659f32e",
        "outputId": "be97a829-3196-4172-f519-058c0362ca26"
      },
      "outputs": [
        {
          "output_type": "stream",
          "name": "stdout",
          "text": [
            "[1, 2, 3, 4, 5, 6, 7, 8, 12, 51, 52, 53, 103, 104, 105, 155, 156, 157]\n"
          ]
        }
      ],
      "source": [
        "lags_sequence = get_lags_for_frequency(freq)\n",
        "print(lags_sequence)"
      ]
    },
    {
      "cell_type": "code",
      "execution_count": 23,
      "id": "2e1358e5-92af-46e8-8366-08a865067125",
      "metadata": {
        "colab": {
          "base_uri": "https://localhost:8080/"
        },
        "id": "2e1358e5-92af-46e8-8366-08a865067125",
        "outputId": "1e263739-866a-49a9-ce78-fb7e0a1877c9"
      },
      "outputs": [
        {
          "output_type": "stream",
          "name": "stdout",
          "text": [
            "{'day_of_month': array([-0.36666667]), 'week_of_year': array([-0.5])}\n"
          ]
        }
      ],
      "source": [
        "timestamp = pd.Period(\"2025-01-01 01:00:01\", freq=freq)\n",
        "timestamp_as_index = pd.PeriodIndex(data=period_array([timestamp]))\n",
        "additional_features = [\n",
        "    (time_feature.__name__, time_feature(timestamp_as_index))\n",
        "    for time_feature in time_features\n",
        "]\n",
        "print(dict(additional_features))"
      ]
    },
    {
      "cell_type": "code",
      "execution_count": 24,
      "id": "9df97b89-c634-49c1-b696-6e987abb07ed",
      "metadata": {
        "id": "9df97b89-c634-49c1-b696-6e987abb07ed"
      },
      "outputs": [],
      "source": [
        "model = None"
      ]
    },
    {
      "cell_type": "code",
      "execution_count": 25,
      "id": "65e11c77-9f27-40ad-8384-18b19d71f7a9",
      "metadata": {
        "id": "65e11c77-9f27-40ad-8384-18b19d71f7a9"
      },
      "outputs": [],
      "source": [
        "from transformers import InformerForPrediction"
      ]
    },
    {
      "cell_type": "code",
      "execution_count": 26,
      "id": "c6838383-e496-4b21-a7db-99d49d82aacd",
      "metadata": {
        "colab": {
          "base_uri": "https://localhost:8080/"
        },
        "id": "c6838383-e496-4b21-a7db-99d49d82aacd",
        "outputId": "64a4f2c8-94ab-4c55-ffd0-7036378cce80"
      },
      "outputs": [
        {
          "output_type": "stream",
          "name": "stdout",
          "text": [
            "An exception occurred when loading model from HF; initializing new model...\n",
            "New model initialized with config InformerConfig {\n",
            "  \"activation_dropout\": 0.1,\n",
            "  \"activation_function\": \"gelu\",\n",
            "  \"attention_dropout\": 0.1,\n",
            "  \"attention_type\": \"prob\",\n",
            "  \"cardinality\": [\n",
            "    0\n",
            "  ],\n",
            "  \"context_length\": 16,\n",
            "  \"d_model\": 64,\n",
            "  \"decoder_attention_heads\": 2,\n",
            "  \"decoder_ffn_dim\": 32,\n",
            "  \"decoder_layerdrop\": 0.1,\n",
            "  \"decoder_layers\": 4,\n",
            "  \"distil\": true,\n",
            "  \"distribution_output\": \"student_t\",\n",
            "  \"dropout\": 0.1,\n",
            "  \"embedding_dimension\": [\n",
            "    0\n",
            "  ],\n",
            "  \"encoder_attention_heads\": 2,\n",
            "  \"encoder_ffn_dim\": 32,\n",
            "  \"encoder_layerdrop\": 0.1,\n",
            "  \"encoder_layers\": 6,\n",
            "  \"feature_size\": 111,\n",
            "  \"init_std\": 0.02,\n",
            "  \"input_size\": 27,\n",
            "  \"is_encoder_decoder\": true,\n",
            "  \"lags_sequence\": [\n",
            "    1,\n",
            "    168\n",
            "  ],\n",
            "  \"loss\": \"nll\",\n",
            "  \"model_type\": \"informer\",\n",
            "  \"num_dynamic_real_features\": 0,\n",
            "  \"num_parallel_samples\": 100,\n",
            "  \"num_static_categorical_features\": 0,\n",
            "  \"num_static_real_features\": 0,\n",
            "  \"num_time_features\": 3,\n",
            "  \"prediction_length\": 8,\n",
            "  \"sampling_factor\": 5,\n",
            "  \"scaling\": \"mean\",\n",
            "  \"transformers_version\": \"4.52.4\",\n",
            "  \"use_cache\": true\n",
            "}\n",
            "\n"
          ]
        }
      ],
      "source": [
        "try:\n",
        "    model = InformerForPrediction.from_pretrained(\"shaddie/rocketpill_thrustcurve_informer_model\")\n",
        "    print(f\"successfully loaded model from hugging face with Config {model.config}\")\n",
        "except:\n",
        "    print(f\"An exception occurred when loading model from HF; initializing new model...\")\n",
        "    config = InformerConfig(\n",
        "    # in the multivariate setting, input_size is the number of variates in the time series per time step\n",
        "    input_size=num_of_variates,\n",
        "    # prediction length:\n",
        "    prediction_length=prediction_length,\n",
        "    # context length:\n",
        "    context_length=prediction_length * 2,\n",
        "    # lags value copied from 1 week before:\n",
        "    lags_sequence=[1, 24 * 7],\n",
        "    # we'll add 5 time features (\"hour_of_day\", ..., and \"age\"):\n",
        "    num_time_features=len(time_features) + 1,\n",
        "    # informer params:\n",
        "    dropout=0.1,\n",
        "    encoder_layers=6,\n",
        "    decoder_layers=4,\n",
        "    # project input from num_of_variates*len(lags_sequence)+num_time_features to:\n",
        "    d_model=64,\n",
        "    )\n",
        "\n",
        "    model = InformerForPrediction(config)\n",
        "    print(f\"New model initialized with config {model.config}\")"
      ]
    },
    {
      "cell_type": "code",
      "execution_count": 27,
      "id": "5e18bb22-004f-4176-9c4b-3051b6226d31",
      "metadata": {
        "id": "5e18bb22-004f-4176-9c4b-3051b6226d31",
        "colab": {
          "base_uri": "https://localhost:8080/",
          "height": 35
        },
        "outputId": "1a6ed279-0f5d-4e9c-a9df-bbef89f93dc7"
      },
      "outputs": [
        {
          "output_type": "execute_result",
          "data": {
            "text/plain": [
              "'student_t'"
            ],
            "application/vnd.google.colaboratory.intrinsic+json": {
              "type": "string"
            }
          },
          "metadata": {},
          "execution_count": 27
        }
      ],
      "source": [
        "model.config.distribution_output"
      ]
    },
    {
      "cell_type": "code",
      "execution_count": 28,
      "id": "b2265052-836a-4131-b12c-2df354ad9133",
      "metadata": {
        "id": "b2265052-836a-4131-b12c-2df354ad9133"
      },
      "outputs": [],
      "source": [
        "def create_transformation(freq: str, config: PretrainedConfig) -> Transformation:\n",
        "    # create list of fields to remove later\n",
        "    remove_field_names = []\n",
        "    if config.num_static_real_features == 0:\n",
        "        remove_field_names.append(FieldName.FEAT_STATIC_REAL)\n",
        "    if config.num_dynamic_real_features == 0:\n",
        "        remove_field_names.append(FieldName.FEAT_DYNAMIC_REAL)\n",
        "    if config.num_static_categorical_features == 0:\n",
        "        remove_field_names.append(FieldName.FEAT_STATIC_CAT)\n",
        "\n",
        "    return Chain(\n",
        "        # step 1: remove static/dynamic fields if not specified\n",
        "        [RemoveFields(field_names=remove_field_names)]\n",
        "        # step 2: convert the data to NumPy (potentially not needed)\n",
        "        + (\n",
        "            [\n",
        "                AsNumpyArray(\n",
        "                    field=FieldName.FEAT_STATIC_CAT,\n",
        "                    expected_ndim=1,\n",
        "                    dtype=int,\n",
        "                )\n",
        "            ]\n",
        "            if config.num_static_categorical_features > 0\n",
        "            else []\n",
        "        )\n",
        "        + (\n",
        "            [\n",
        "                AsNumpyArray(\n",
        "                    field=FieldName.FEAT_STATIC_REAL,\n",
        "                    expected_ndim=1,\n",
        "                )\n",
        "            ]\n",
        "            if config.num_static_real_features > 0\n",
        "            else []\n",
        "        )\n",
        "        + [\n",
        "            AsNumpyArray(\n",
        "                field=FieldName.TARGET,\n",
        "                # we expect an extra dim for the multivariate case:\n",
        "                expected_ndim=1 if config.input_size == 1 else 2,\n",
        "            ),\n",
        "            # step 3: handle the NaN's by filling in the target with zero\n",
        "            # and return the mask (which is in the observed values)\n",
        "            # true for observed values, false for nan's\n",
        "            # the decoder uses this mask (no loss is incurred for unobserved values)\n",
        "            # see loss_weights inside the xxxForPrediction model\n",
        "            AddObservedValuesIndicator(\n",
        "                target_field=FieldName.TARGET,\n",
        "                output_field=FieldName.OBSERVED_VALUES,\n",
        "            ),\n",
        "            # step 4: add temporal features based on freq of the dataset\n",
        "            # these serve as positional encodings\n",
        "            AddTimeFeatures(\n",
        "                start_field=FieldName.START,\n",
        "                target_field=FieldName.TARGET,\n",
        "                output_field=FieldName.FEAT_TIME,\n",
        "                time_features=time_features_from_frequency_str(freq),\n",
        "                pred_length=config.prediction_length,\n",
        "            ),\n",
        "            # step 5: add another temporal feature (just a single number)\n",
        "            # tells the model where in the life the value of the time series is\n",
        "            # sort of running counter\n",
        "            AddAgeFeature(\n",
        "                target_field=FieldName.TARGET,\n",
        "                output_field=FieldName.FEAT_AGE,\n",
        "                pred_length=config.prediction_length,\n",
        "                log_scale=True,\n",
        "            ),\n",
        "            # step 6: vertically stack all the temporal features into the key FEAT_TIME\n",
        "            VstackFeatures(\n",
        "                output_field=FieldName.FEAT_TIME,\n",
        "                input_fields=[FieldName.FEAT_TIME, FieldName.FEAT_AGE]\n",
        "                + (\n",
        "                    [FieldName.FEAT_DYNAMIC_REAL]\n",
        "                    if config.num_dynamic_real_features > 0\n",
        "                    else []\n",
        "                ),\n",
        "            ),\n",
        "            # step 7: rename to match HuggingFace names\n",
        "            RenameFields(\n",
        "                mapping={\n",
        "                    FieldName.FEAT_STATIC_CAT: \"static_categorical_features\",\n",
        "                    FieldName.FEAT_STATIC_REAL: \"static_real_features\",\n",
        "                    FieldName.FEAT_TIME: \"time_features\",\n",
        "                    FieldName.TARGET: \"values\",\n",
        "                    FieldName.OBSERVED_VALUES: \"observed_mask\",\n",
        "                }\n",
        "            ),\n",
        "        ]\n",
        "    )"
      ]
    },
    {
      "cell_type": "code",
      "execution_count": 29,
      "id": "b8850e0d-a330-4d7a-a528-c6cfb7e0ed9e",
      "metadata": {
        "id": "b8850e0d-a330-4d7a-a528-c6cfb7e0ed9e"
      },
      "outputs": [],
      "source": [
        "def create_instance_splitter(\n",
        "    config: PretrainedConfig,\n",
        "    mode: str,\n",
        "    train_sampler: Optional[InstanceSampler] = None,\n",
        "    validation_sampler: Optional[InstanceSampler] = None,\n",
        ") -> Transformation:\n",
        "    assert mode in [\"train\", \"validation\", \"test\"]\n",
        "\n",
        "    instance_sampler = {\n",
        "        \"train\": train_sampler\n",
        "        or ExpectedNumInstanceSampler(\n",
        "            num_instances=1.0, min_future=config.prediction_length\n",
        "        ),\n",
        "        \"validation\": validation_sampler\n",
        "        or ValidationSplitSampler(min_future=config.prediction_length),\n",
        "        \"test\": TestSplitSampler(),\n",
        "    }[mode]\n",
        "\n",
        "    return InstanceSplitter(\n",
        "        target_field=\"values\",\n",
        "        is_pad_field=FieldName.IS_PAD,\n",
        "        start_field=FieldName.START,\n",
        "        forecast_start_field=FieldName.FORECAST_START,\n",
        "        instance_sampler=instance_sampler,\n",
        "        past_length=config.context_length + max(config.lags_sequence),\n",
        "        future_length=config.prediction_length,\n",
        "        time_series_fields=[\"time_features\", \"observed_mask\"],\n",
        "    )"
      ]
    },
    {
      "cell_type": "code",
      "execution_count": 30,
      "id": "3167024f-4064-496b-b442-12d5a80b40c2",
      "metadata": {
        "id": "3167024f-4064-496b-b442-12d5a80b40c2"
      },
      "outputs": [],
      "source": [
        "from typing import Iterable\n",
        "\n",
        "import torch\n",
        "from gluonts.itertools import Cached, Cyclic\n",
        "from gluonts.dataset.loader import as_stacked_batches\n",
        "\n",
        "\n",
        "def create_train_dataloader(\n",
        "    config: PretrainedConfig,\n",
        "    freq,\n",
        "    data,\n",
        "    batch_size: int,\n",
        "    num_batches_per_epoch: int,\n",
        "    shuffle_buffer_length: Optional[int] = None,\n",
        "    cache_data: bool = True,\n",
        "    **kwargs,\n",
        ") -> Iterable:\n",
        "    PREDICTION_INPUT_NAMES = [\n",
        "        \"past_time_features\",\n",
        "        \"past_values\",\n",
        "        \"past_observed_mask\",\n",
        "        \"future_time_features\",\n",
        "    ]\n",
        "    if config.num_static_categorical_features > 0:\n",
        "        PREDICTION_INPUT_NAMES.append(\"static_categorical_features\")\n",
        "\n",
        "    if config.num_static_real_features > 0:\n",
        "        PREDICTION_INPUT_NAMES.append(\"static_real_features\")\n",
        "\n",
        "    TRAINING_INPUT_NAMES = PREDICTION_INPUT_NAMES + [\n",
        "        \"future_values\",\n",
        "        \"future_observed_mask\",\n",
        "    ]\n",
        "\n",
        "    transformation = create_transformation(freq, config)\n",
        "    transformed_data = transformation.apply(data, is_train=True)\n",
        "    if cache_data:\n",
        "        transformed_data = Cached(transformed_data)\n",
        "\n",
        "    # we initialize a Training instance\n",
        "    instance_splitter = create_instance_splitter(config, \"train\")\n",
        "\n",
        "    # the instance splitter will sample a window of\n",
        "    # context length + lags + prediction length (from all the possible transformed time series, 1 in our case)\n",
        "    # randomly from within the target time series and return an iterator.\n",
        "    stream = Cyclic(transformed_data).stream()\n",
        "    training_instances = instance_splitter.apply(stream)\n",
        "\n",
        "    return as_stacked_batches(\n",
        "        training_instances,\n",
        "        batch_size=batch_size,\n",
        "        shuffle_buffer_length=shuffle_buffer_length,\n",
        "        field_names=TRAINING_INPUT_NAMES,\n",
        "        output_type=torch.tensor,\n",
        "        num_batches_per_epoch=num_batches_per_epoch,\n",
        "    )"
      ]
    },
    {
      "cell_type": "code",
      "execution_count": 31,
      "id": "4946f995-4305-43bc-adc7-219a93549080",
      "metadata": {
        "id": "4946f995-4305-43bc-adc7-219a93549080"
      },
      "outputs": [],
      "source": [
        "def create_test_dataloader(\n",
        "    config: PretrainedConfig,\n",
        "    freq,\n",
        "    data,\n",
        "    batch_size: int,\n",
        "    num_batches_per_epoch: int,\n",
        "    shuffle_buffer_length: Optional[int] = None,\n",
        "    cache_data: bool = True,\n",
        "    **kwargs,\n",
        "):\n",
        "    PREDICTION_INPUT_NAMES = [\n",
        "        \"past_time_features\",\n",
        "        \"past_values\",\n",
        "        \"past_observed_mask\",\n",
        "        \"future_time_features\",\n",
        "    ]\n",
        "    if config.num_static_categorical_features > 0:\n",
        "        PREDICTION_INPUT_NAMES.append(\"static_categorical_features\")\n",
        "\n",
        "    if config.num_static_real_features > 0:\n",
        "        PREDICTION_INPUT_NAMES.append(\"static_real_features\")\n",
        "\n",
        "    transformation = create_transformation(freq, config)\n",
        "    transformed_data = transformation.apply(data, is_train=False)\n",
        "\n",
        "    # We create a test Instance splitter to sample the very last\n",
        "    # context window from the dataset provided.\n",
        "    instance_sampler = create_instance_splitter(config, \"test\")\n",
        "\n",
        "    # We apply the transformations in test mode\n",
        "    testing_instances = instance_sampler.apply(transformed_data, is_train=False)\n",
        "\n",
        "    return as_stacked_batches(\n",
        "        testing_instances,\n",
        "        batch_size=batch_size,\n",
        "        output_type=torch.tensor,\n",
        "        field_names=PREDICTION_INPUT_NAMES,\n",
        "        num_batches_per_epoch=num_batches_per_epoch,\n",
        "    )\n"
      ]
    },
    {
      "cell_type": "code",
      "source": [
        "config = model.config"
      ],
      "metadata": {
        "id": "vwyUJS37sgRO"
      },
      "id": "vwyUJS37sgRO",
      "execution_count": 32,
      "outputs": []
    },
    {
      "cell_type": "code",
      "execution_count": 33,
      "id": "1d9e0668-ceac-47a7-9ecf-fa7868267258",
      "metadata": {
        "id": "1d9e0668-ceac-47a7-9ecf-fa7868267258"
      },
      "outputs": [],
      "source": [
        "train_dataloader = create_train_dataloader(\n",
        "    config=config,\n",
        "    freq=freq,\n",
        "    data=multi_variate_train_dataset,\n",
        "    batch_size=256,\n",
        "    num_batches_per_epoch=100,\n",
        "    num_workers=2,\n",
        ")\n",
        "\n",
        "test_dataloader = create_test_dataloader(\n",
        "    config=config,\n",
        "    freq=freq,\n",
        "    data=multi_variate_test_dataset,\n",
        "    batch_size=256,\n",
        "    num_batches_per_epoch=100,\n",
        "    num_workers=2,\n",
        ")\n"
      ]
    },
    {
      "cell_type": "code",
      "execution_count": 34,
      "id": "c51f58dc-21f6-4c05-9da8-cd726eeeb4d3",
      "metadata": {
        "id": "c51f58dc-21f6-4c05-9da8-cd726eeeb4d3",
        "colab": {
          "base_uri": "https://localhost:8080/"
        },
        "outputId": "289b2a7b-4501-43b4-aa4a-ab9f90dd4754"
      },
      "outputs": [
        {
          "output_type": "stream",
          "name": "stdout",
          "text": [
            "past_time_features torch.Size([256, 184, 3]) torch.FloatTensor\n",
            "past_values torch.Size([256, 184, 27]) torch.FloatTensor\n",
            "past_observed_mask torch.Size([256, 184, 27]) torch.FloatTensor\n",
            "future_time_features torch.Size([256, 8, 3]) torch.FloatTensor\n",
            "future_values torch.Size([256, 8, 27]) torch.FloatTensor\n",
            "future_observed_mask torch.Size([256, 8, 27]) torch.FloatTensor\n"
          ]
        }
      ],
      "source": [
        "batch = next(iter(train_dataloader))\n",
        "for k, v in batch.items():\n",
        "    print(k, v.shape, v.type())"
      ]
    },
    {
      "cell_type": "code",
      "source": [
        "batch = next(iter(test_dataloader))\n",
        "for k, v in batch.items():\n",
        "    print(k, v.shape, v.type())"
      ],
      "metadata": {
        "colab": {
          "base_uri": "https://localhost:8080/"
        },
        "id": "ryM4ewbg5nP4",
        "outputId": "68d892ad-b80c-49bd-fd28-b51ace7f9813"
      },
      "id": "ryM4ewbg5nP4",
      "execution_count": 35,
      "outputs": [
        {
          "output_type": "stream",
          "name": "stdout",
          "text": [
            "past_time_features torch.Size([1, 184, 3]) torch.FloatTensor\n",
            "past_values torch.Size([1, 184, 27]) torch.FloatTensor\n",
            "past_observed_mask torch.Size([1, 184, 27]) torch.FloatTensor\n",
            "future_time_features torch.Size([1, 8, 3]) torch.FloatTensor\n"
          ]
        }
      ]
    },
    {
      "cell_type": "code",
      "execution_count": 36,
      "id": "ed0c81f1-8d8a-4f94-b34a-5718e79293c6",
      "metadata": {
        "id": "ed0c81f1-8d8a-4f94-b34a-5718e79293c6",
        "colab": {
          "base_uri": "https://localhost:8080/"
        },
        "outputId": "9a4ade26-726f-49ca-c245-5708188c25e3"
      },
      "outputs": [
        {
          "metadata": {
            "tags": null
          },
          "name": "stderr",
          "output_type": "stream",
          "text": [
            "Epoch 1/300 : 1it [00:04,  4.11s/it, loss=-70.6]"
          ]
        },
        {
          "metadata": {
            "tags": null
          },
          "name": "stdout",
          "output_type": "stream",
          "text": [
            "Epoch 0 & idx 0 with loss: -70.58369445800781\n"
          ]
        },
        {
          "metadata": {
            "tags": null
          },
          "name": "stderr",
          "output_type": "stream",
          "text": [
            "Epoch 1/300 : 100it [01:02,  1.59it/s, loss=-103]\n",
            "Epoch 2/300 : 1it [00:00,  4.81it/s, loss=-117]"
          ]
        },
        {
          "metadata": {
            "tags": null
          },
          "name": "stdout",
          "output_type": "stream",
          "text": [
            "Epoch 1 & idx 0 with loss: -116.98674011230469\n"
          ]
        },
        {
          "metadata": {
            "tags": null
          },
          "name": "stderr",
          "output_type": "stream",
          "text": [
            "Epoch 2/300 : 100it [00:22,  4.43it/s, loss=-129]\n",
            "Epoch 3/300 : 2it [00:00,  8.06it/s, loss=-129]"
          ]
        },
        {
          "metadata": {
            "tags": null
          },
          "name": "stdout",
          "output_type": "stream",
          "text": [
            "Epoch 2 & idx 0 with loss: -127.97795104980469\n"
          ]
        },
        {
          "metadata": {
            "tags": null
          },
          "name": "stderr",
          "output_type": "stream",
          "text": [
            "Epoch 3/300 : 100it [00:13,  7.40it/s, loss=-139]\n",
            "Epoch 4/300 : 2it [00:00,  8.28it/s, loss=-149]"
          ]
        },
        {
          "metadata": {
            "tags": null
          },
          "name": "stdout",
          "output_type": "stream",
          "text": [
            "Epoch 3 & idx 0 with loss: -145.09506225585938\n"
          ]
        },
        {
          "metadata": {
            "tags": null
          },
          "name": "stderr",
          "output_type": "stream",
          "text": [
            "Epoch 4/300 : 100it [00:13,  7.34it/s, loss=-146]\n",
            "Epoch 5/300 : 2it [00:00,  6.86it/s, loss=-149]"
          ]
        },
        {
          "metadata": {
            "tags": null
          },
          "name": "stdout",
          "output_type": "stream",
          "text": [
            "Epoch 4 & idx 0 with loss: -147.9849853515625\n"
          ]
        },
        {
          "metadata": {
            "tags": null
          },
          "name": "stderr",
          "output_type": "stream",
          "text": [
            "Epoch 5/300 : 100it [00:13,  7.53it/s, loss=-153]\n",
            "Epoch 6/300 : 2it [00:00,  7.14it/s, loss=-155]"
          ]
        },
        {
          "metadata": {
            "tags": null
          },
          "name": "stdout",
          "output_type": "stream",
          "text": [
            "Epoch 5 & idx 0 with loss: -163.15478515625\n"
          ]
        },
        {
          "metadata": {
            "tags": null
          },
          "name": "stderr",
          "output_type": "stream",
          "text": [
            "Epoch 6/300 : 100it [00:13,  7.56it/s, loss=-155]\n",
            "Epoch 7/300 : 2it [00:00,  8.39it/s, loss=-168]"
          ]
        },
        {
          "metadata": {
            "tags": null
          },
          "name": "stdout",
          "output_type": "stream",
          "text": [
            "Epoch 6 & idx 0 with loss: -168.4783172607422\n"
          ]
        },
        {
          "metadata": {
            "tags": null
          },
          "name": "stderr",
          "output_type": "stream",
          "text": [
            "Epoch 7/300 : 100it [00:13,  7.40it/s, loss=-158]\n",
            "Epoch 8/300 : 2it [00:00,  8.00it/s, loss=-167]"
          ]
        },
        {
          "metadata": {
            "tags": null
          },
          "name": "stdout",
          "output_type": "stream",
          "text": [
            "Epoch 7 & idx 0 with loss: -173.69935607910156\n"
          ]
        },
        {
          "metadata": {
            "tags": null
          },
          "name": "stderr",
          "output_type": "stream",
          "text": [
            "Epoch 8/300 : 100it [00:13,  7.30it/s, loss=-160]\n",
            "Epoch 9/300 : 1it [00:00,  5.07it/s, loss=-173]"
          ]
        },
        {
          "metadata": {
            "tags": null
          },
          "name": "stdout",
          "output_type": "stream",
          "text": [
            "Epoch 8 & idx 0 with loss: -176.97283935546875\n"
          ]
        },
        {
          "metadata": {
            "tags": null
          },
          "name": "stderr",
          "output_type": "stream",
          "text": [
            "Epoch 9/300 : 100it [00:13,  7.19it/s, loss=-160]\n",
            "Epoch 10/300 : 2it [00:00,  5.28it/s, loss=-165]"
          ]
        },
        {
          "metadata": {
            "tags": null
          },
          "name": "stdout",
          "output_type": "stream",
          "text": [
            "Epoch 9 & idx 0 with loss: -173.28652954101562\n"
          ]
        },
        {
          "metadata": {
            "tags": null
          },
          "name": "stderr",
          "output_type": "stream",
          "text": [
            "Epoch 10/300 : 100it [00:21,  4.69it/s, loss=-164]\n",
            "Epoch 11/300 : 2it [00:00,  8.04it/s, loss=-164]"
          ]
        },
        {
          "metadata": {
            "tags": null
          },
          "name": "stdout",
          "output_type": "stream",
          "text": [
            "Epoch 10 & idx 0 with loss: -168.84068298339844\n"
          ]
        },
        {
          "metadata": {
            "tags": null
          },
          "name": "stderr",
          "output_type": "stream",
          "text": [
            "Epoch 11/300 : 100it [00:13,  7.39it/s, loss=-164]\n",
            "Epoch 12/300 : 2it [00:00,  7.85it/s, loss=-157]"
          ]
        },
        {
          "metadata": {
            "tags": null
          },
          "name": "stdout",
          "output_type": "stream",
          "text": [
            "Epoch 11 & idx 0 with loss: -156.88262939453125\n"
          ]
        },
        {
          "metadata": {
            "tags": null
          },
          "name": "stderr",
          "output_type": "stream",
          "text": [
            "Epoch 12/300 : 100it [00:13,  7.51it/s, loss=-166]\n",
            "Epoch 13/300 : 2it [00:00,  8.23it/s, loss=-168]"
          ]
        },
        {
          "metadata": {
            "tags": null
          },
          "name": "stdout",
          "output_type": "stream",
          "text": [
            "Epoch 12 & idx 0 with loss: -179.80960083007812\n"
          ]
        },
        {
          "metadata": {
            "tags": null
          },
          "name": "stderr",
          "output_type": "stream",
          "text": [
            "Epoch 13/300 : 100it [00:13,  7.24it/s, loss=-165]\n",
            "Epoch 14/300 : 2it [00:00,  6.15it/s, loss=-164]"
          ]
        },
        {
          "metadata": {
            "tags": null
          },
          "name": "stdout",
          "output_type": "stream",
          "text": [
            "Epoch 13 & idx 0 with loss: -164.31396484375\n"
          ]
        },
        {
          "metadata": {
            "tags": null
          },
          "name": "stderr",
          "output_type": "stream",
          "text": [
            "Epoch 14/300 : 100it [00:13,  7.16it/s, loss=-169]\n",
            "Epoch 15/300 : 2it [00:00,  7.93it/s, loss=-173]"
          ]
        },
        {
          "metadata": {
            "tags": null
          },
          "name": "stdout",
          "output_type": "stream",
          "text": [
            "Epoch 14 & idx 0 with loss: -172.98988342285156\n"
          ]
        },
        {
          "metadata": {
            "tags": null
          },
          "name": "stderr",
          "output_type": "stream",
          "text": [
            "Epoch 15/300 : 100it [00:13,  7.41it/s, loss=-169]\n",
            "Epoch 16/300 : 2it [00:00,  8.02it/s, loss=-164]"
          ]
        },
        {
          "metadata": {
            "tags": null
          },
          "name": "stdout",
          "output_type": "stream",
          "text": [
            "Epoch 15 & idx 0 with loss: -170.96044921875\n"
          ]
        },
        {
          "metadata": {
            "tags": null
          },
          "name": "stderr",
          "output_type": "stream",
          "text": [
            "Epoch 16/300 : 100it [00:13,  7.44it/s, loss=-171]\n",
            "Epoch 17/300 : 2it [00:00,  7.35it/s, loss=-174]"
          ]
        },
        {
          "metadata": {
            "tags": null
          },
          "name": "stdout",
          "output_type": "stream",
          "text": [
            "Epoch 16 & idx 0 with loss: -179.68582153320312\n"
          ]
        },
        {
          "metadata": {
            "tags": null
          },
          "name": "stderr",
          "output_type": "stream",
          "text": [
            "Epoch 17/300 : 100it [00:13,  7.37it/s, loss=-171]\n",
            "Epoch 18/300 : 2it [00:00,  8.42it/s, loss=-162]"
          ]
        },
        {
          "metadata": {
            "tags": null
          },
          "name": "stdout",
          "output_type": "stream",
          "text": [
            "Epoch 17 & idx 0 with loss: -163.76806640625\n"
          ]
        },
        {
          "metadata": {
            "tags": null
          },
          "name": "stderr",
          "output_type": "stream",
          "text": [
            "Epoch 18/300 : 100it [00:13,  7.56it/s, loss=-171]\n",
            "Epoch 19/300 : 2it [00:00,  7.41it/s, loss=-168]"
          ]
        },
        {
          "metadata": {
            "tags": null
          },
          "name": "stdout",
          "output_type": "stream",
          "text": [
            "Epoch 18 & idx 0 with loss: -166.4527587890625\n"
          ]
        },
        {
          "metadata": {
            "tags": null
          },
          "name": "stderr",
          "output_type": "stream",
          "text": [
            "Epoch 19/300 : 100it [00:13,  7.58it/s, loss=-172]\n",
            "Epoch 20/300 : 2it [00:00,  8.22it/s, loss=-178]"
          ]
        },
        {
          "metadata": {
            "tags": null
          },
          "name": "stdout",
          "output_type": "stream",
          "text": [
            "Epoch 19 & idx 0 with loss: -168.98519897460938\n"
          ]
        },
        {
          "metadata": {
            "tags": null
          },
          "name": "stderr",
          "output_type": "stream",
          "text": [
            "Epoch 20/300 : 100it [00:13,  7.53it/s, loss=-172]\n",
            "Epoch 21/300 : 2it [00:00,  8.06it/s, loss=-171]"
          ]
        },
        {
          "metadata": {
            "tags": null
          },
          "name": "stdout",
          "output_type": "stream",
          "text": [
            "Epoch 20 & idx 0 with loss: -162.26608276367188\n"
          ]
        },
        {
          "metadata": {
            "tags": null
          },
          "name": "stderr",
          "output_type": "stream",
          "text": [
            "Epoch 21/300 : 100it [00:13,  7.45it/s, loss=-176]\n",
            "Epoch 22/300 : 2it [00:00,  7.40it/s, loss=-173]"
          ]
        },
        {
          "metadata": {
            "tags": null
          },
          "name": "stdout",
          "output_type": "stream",
          "text": [
            "Epoch 21 & idx 0 with loss: -179.29412841796875\n"
          ]
        },
        {
          "metadata": {
            "tags": null
          },
          "name": "stderr",
          "output_type": "stream",
          "text": [
            "Epoch 22/300 : 100it [00:13,  7.39it/s, loss=-175]\n",
            "Epoch 23/300 : 2it [00:00,  7.93it/s, loss=-172]"
          ]
        },
        {
          "metadata": {
            "tags": null
          },
          "name": "stdout",
          "output_type": "stream",
          "text": [
            "Epoch 22 & idx 0 with loss: -168.396728515625\n"
          ]
        },
        {
          "metadata": {
            "tags": null
          },
          "name": "stderr",
          "output_type": "stream",
          "text": [
            "Epoch 23/300 : 100it [00:13,  7.45it/s, loss=-174]\n",
            "Epoch 24/300 : 2it [00:00,  7.37it/s, loss=-179]"
          ]
        },
        {
          "metadata": {
            "tags": null
          },
          "name": "stdout",
          "output_type": "stream",
          "text": [
            "Epoch 23 & idx 0 with loss: -173.22964477539062\n"
          ]
        },
        {
          "metadata": {
            "tags": null
          },
          "name": "stderr",
          "output_type": "stream",
          "text": [
            "Epoch 24/300 : 100it [00:13,  7.37it/s, loss=-176]\n",
            "Epoch 25/300 : 2it [00:00,  7.34it/s, loss=-186]"
          ]
        },
        {
          "metadata": {
            "tags": null
          },
          "name": "stdout",
          "output_type": "stream",
          "text": [
            "Epoch 24 & idx 0 with loss: -181.47879028320312\n"
          ]
        },
        {
          "metadata": {
            "tags": null
          },
          "name": "stderr",
          "output_type": "stream",
          "text": [
            "Epoch 25/300 : 100it [00:13,  7.55it/s, loss=-178]\n",
            "Epoch 26/300 : 2it [00:00,  6.05it/s, loss=-180]"
          ]
        },
        {
          "metadata": {
            "tags": null
          },
          "name": "stdout",
          "output_type": "stream",
          "text": [
            "Epoch 25 & idx 0 with loss: -180.67135620117188\n"
          ]
        },
        {
          "metadata": {
            "tags": null
          },
          "name": "stderr",
          "output_type": "stream",
          "text": [
            "Epoch 26/300 : 100it [00:13,  7.47it/s, loss=-178]\n",
            "Epoch 27/300 : 2it [00:00,  5.59it/s, loss=-176]"
          ]
        },
        {
          "metadata": {
            "tags": null
          },
          "name": "stdout",
          "output_type": "stream",
          "text": [
            "Epoch 26 & idx 0 with loss: -179.77114868164062\n"
          ]
        },
        {
          "metadata": {
            "tags": null
          },
          "name": "stderr",
          "output_type": "stream",
          "text": [
            "Epoch 27/300 : 100it [00:13,  7.33it/s, loss=-178]\n",
            "Epoch 28/300 : 2it [00:00,  8.19it/s, loss=-176]"
          ]
        },
        {
          "metadata": {
            "tags": null
          },
          "name": "stdout",
          "output_type": "stream",
          "text": [
            "Epoch 27 & idx 0 with loss: -161.8790740966797\n"
          ]
        },
        {
          "metadata": {
            "tags": null
          },
          "name": "stderr",
          "output_type": "stream",
          "text": [
            "Epoch 28/300 : 100it [00:13,  7.50it/s, loss=-180]\n",
            "Epoch 29/300 : 2it [00:00,  8.34it/s, loss=-171]"
          ]
        },
        {
          "metadata": {
            "tags": null
          },
          "name": "stdout",
          "output_type": "stream",
          "text": [
            "Epoch 28 & idx 0 with loss: -176.09640502929688\n"
          ]
        },
        {
          "metadata": {
            "tags": null
          },
          "name": "stderr",
          "output_type": "stream",
          "text": [
            "Epoch 29/300 : 100it [00:13,  7.41it/s, loss=-180]\n",
            "Epoch 30/300 : 2it [00:00,  8.06it/s, loss=-172]"
          ]
        },
        {
          "metadata": {
            "tags": null
          },
          "name": "stdout",
          "output_type": "stream",
          "text": [
            "Epoch 29 & idx 0 with loss: -174.40377807617188\n"
          ]
        },
        {
          "metadata": {
            "tags": null
          },
          "name": "stderr",
          "output_type": "stream",
          "text": [
            "Epoch 30/300 : 100it [00:13,  7.45it/s, loss=-180]\n",
            "Epoch 31/300 : 2it [00:00,  6.98it/s, loss=-185]"
          ]
        },
        {
          "metadata": {
            "tags": null
          },
          "name": "stdout",
          "output_type": "stream",
          "text": [
            "Epoch 30 & idx 0 with loss: -180.28524780273438\n"
          ]
        },
        {
          "metadata": {
            "tags": null
          },
          "name": "stderr",
          "output_type": "stream",
          "text": [
            "Epoch 31/300 : 100it [00:13,  7.29it/s, loss=-180]\n",
            "Epoch 32/300 : 2it [00:00,  8.00it/s, loss=-179]"
          ]
        },
        {
          "metadata": {
            "tags": null
          },
          "name": "stdout",
          "output_type": "stream",
          "text": [
            "Epoch 31 & idx 0 with loss: -175.02395629882812\n"
          ]
        },
        {
          "metadata": {
            "tags": null
          },
          "name": "stderr",
          "output_type": "stream",
          "text": [
            "Epoch 32/300 : 100it [00:13,  7.43it/s, loss=-180]\n",
            "Epoch 33/300 : 2it [00:00,  8.39it/s, loss=-180]"
          ]
        },
        {
          "metadata": {
            "tags": null
          },
          "name": "stdout",
          "output_type": "stream",
          "text": [
            "Epoch 32 & idx 0 with loss: -192.87557983398438\n"
          ]
        },
        {
          "metadata": {
            "tags": null
          },
          "name": "stderr",
          "output_type": "stream",
          "text": [
            "Epoch 33/300 : 100it [00:13,  7.38it/s, loss=-183]\n",
            "Epoch 34/300 : 2it [00:00,  7.86it/s, loss=-186]"
          ]
        },
        {
          "metadata": {
            "tags": null
          },
          "name": "stdout",
          "output_type": "stream",
          "text": [
            "Epoch 33 & idx 0 with loss: -181.30197143554688\n"
          ]
        },
        {
          "metadata": {
            "tags": null
          },
          "name": "stderr",
          "output_type": "stream",
          "text": [
            "Epoch 34/300 : 100it [00:13,  7.30it/s, loss=-182]\n",
            "Epoch 35/300 : 2it [00:00,  7.95it/s, loss=-176]"
          ]
        },
        {
          "metadata": {
            "tags": null
          },
          "name": "stdout",
          "output_type": "stream",
          "text": [
            "Epoch 34 & idx 0 with loss: -190.28884887695312\n"
          ]
        },
        {
          "metadata": {
            "tags": null
          },
          "name": "stderr",
          "output_type": "stream",
          "text": [
            "Epoch 35/300 : 100it [00:13,  7.36it/s, loss=-183]\n",
            "Epoch 36/300 : 2it [00:00,  7.78it/s, loss=-186]"
          ]
        },
        {
          "metadata": {
            "tags": null
          },
          "name": "stdout",
          "output_type": "stream",
          "text": [
            "Epoch 35 & idx 0 with loss: -182.43850708007812\n"
          ]
        },
        {
          "metadata": {
            "tags": null
          },
          "name": "stderr",
          "output_type": "stream",
          "text": [
            "Epoch 36/300 : 100it [00:13,  7.36it/s, loss=-182]\n",
            "Epoch 37/300 : 2it [00:00,  8.36it/s, loss=-184]"
          ]
        },
        {
          "metadata": {
            "tags": null
          },
          "name": "stdout",
          "output_type": "stream",
          "text": [
            "Epoch 36 & idx 0 with loss: -180.2036590576172\n"
          ]
        },
        {
          "metadata": {
            "tags": null
          },
          "name": "stderr",
          "output_type": "stream",
          "text": [
            "Epoch 37/300 : 100it [00:13,  7.25it/s, loss=-184]\n",
            "Epoch 38/300 : 2it [00:00,  6.08it/s, loss=-186]"
          ]
        },
        {
          "metadata": {
            "tags": null
          },
          "name": "stdout",
          "output_type": "stream",
          "text": [
            "Epoch 37 & idx 0 with loss: -173.17974853515625\n"
          ]
        },
        {
          "metadata": {
            "tags": null
          },
          "name": "stderr",
          "output_type": "stream",
          "text": [
            "Epoch 38/300 : 100it [00:13,  7.20it/s, loss=-186]\n",
            "Epoch 39/300 : 2it [00:00,  6.70it/s, loss=-197]"
          ]
        },
        {
          "metadata": {
            "tags": null
          },
          "name": "stdout",
          "output_type": "stream",
          "text": [
            "Epoch 38 & idx 0 with loss: -191.17633056640625\n"
          ]
        },
        {
          "metadata": {
            "tags": null
          },
          "name": "stderr",
          "output_type": "stream",
          "text": [
            "Epoch 39/300 : 100it [00:13,  7.38it/s, loss=-186]\n",
            "Epoch 40/300 : 2it [00:00,  7.99it/s, loss=-188]"
          ]
        },
        {
          "metadata": {
            "tags": null
          },
          "name": "stdout",
          "output_type": "stream",
          "text": [
            "Epoch 39 & idx 0 with loss: -186.50497436523438\n"
          ]
        },
        {
          "metadata": {
            "tags": null
          },
          "name": "stderr",
          "output_type": "stream",
          "text": [
            "Epoch 40/300 : 100it [00:13,  7.56it/s, loss=-184]\n",
            "Epoch 41/300 : 2it [00:00,  7.52it/s, loss=-185]"
          ]
        },
        {
          "metadata": {
            "tags": null
          },
          "name": "stdout",
          "output_type": "stream",
          "text": [
            "Epoch 40 & idx 0 with loss: -185.969482421875\n"
          ]
        },
        {
          "metadata": {
            "tags": null
          },
          "name": "stderr",
          "output_type": "stream",
          "text": [
            "Epoch 41/300 : 100it [00:13,  7.43it/s, loss=-184]\n",
            "Epoch 42/300 : 2it [00:00,  7.82it/s, loss=-180]"
          ]
        },
        {
          "metadata": {
            "tags": null
          },
          "name": "stdout",
          "output_type": "stream",
          "text": [
            "Epoch 41 & idx 0 with loss: -171.50527954101562\n"
          ]
        },
        {
          "metadata": {
            "tags": null
          },
          "name": "stderr",
          "output_type": "stream",
          "text": [
            "Epoch 42/300 : 100it [00:13,  7.42it/s, loss=-187]\n",
            "Epoch 43/300 : 2it [00:00,  8.27it/s, loss=-166]"
          ]
        },
        {
          "metadata": {
            "tags": null
          },
          "name": "stdout",
          "output_type": "stream",
          "text": [
            "Epoch 42 & idx 0 with loss: -173.14315795898438\n"
          ]
        },
        {
          "metadata": {
            "tags": null
          },
          "name": "stderr",
          "output_type": "stream",
          "text": [
            "Epoch 43/300 : 100it [00:13,  7.60it/s, loss=-185]\n",
            "Epoch 44/300 : 2it [00:00,  8.02it/s, loss=-189]"
          ]
        },
        {
          "metadata": {
            "tags": null
          },
          "name": "stdout",
          "output_type": "stream",
          "text": [
            "Epoch 43 & idx 0 with loss: -194.35415649414062\n"
          ]
        },
        {
          "metadata": {
            "tags": null
          },
          "name": "stderr",
          "output_type": "stream",
          "text": [
            "Epoch 44/300 : 100it [00:13,  7.45it/s, loss=-187]\n",
            "Epoch 45/300 : 2it [00:00,  7.73it/s, loss=-175]"
          ]
        },
        {
          "metadata": {
            "tags": null
          },
          "name": "stdout",
          "output_type": "stream",
          "text": [
            "Epoch 44 & idx 0 with loss: -181.99632263183594\n"
          ]
        },
        {
          "metadata": {
            "tags": null
          },
          "name": "stderr",
          "output_type": "stream",
          "text": [
            "Epoch 45/300 : 100it [00:13,  7.43it/s, loss=-187]\n",
            "Epoch 46/300 : 2it [00:00,  8.10it/s, loss=-188]"
          ]
        },
        {
          "metadata": {
            "tags": null
          },
          "name": "stdout",
          "output_type": "stream",
          "text": [
            "Epoch 45 & idx 0 with loss: -186.5103759765625\n"
          ]
        },
        {
          "metadata": {
            "tags": null
          },
          "name": "stderr",
          "output_type": "stream",
          "text": [
            "Epoch 46/300 : 100it [00:13,  7.22it/s, loss=-187]\n",
            "Epoch 47/300 : 2it [00:00,  8.00it/s, loss=-187]"
          ]
        },
        {
          "metadata": {
            "tags": null
          },
          "name": "stdout",
          "output_type": "stream",
          "text": [
            "Epoch 46 & idx 0 with loss: -187.45516967773438\n"
          ]
        },
        {
          "metadata": {
            "tags": null
          },
          "name": "stderr",
          "output_type": "stream",
          "text": [
            "Epoch 47/300 : 100it [00:13,  7.41it/s, loss=-188]\n",
            "Epoch 48/300 : 2it [00:00,  7.71it/s, loss=-191]"
          ]
        },
        {
          "metadata": {
            "tags": null
          },
          "name": "stdout",
          "output_type": "stream",
          "text": [
            "Epoch 47 & idx 0 with loss: -192.3115234375\n"
          ]
        },
        {
          "metadata": {
            "tags": null
          },
          "name": "stderr",
          "output_type": "stream",
          "text": [
            "Epoch 48/300 : 100it [00:13,  7.41it/s, loss=-187]\n",
            "Epoch 49/300 : 2it [00:00,  7.30it/s, loss=-182]"
          ]
        },
        {
          "metadata": {
            "tags": null
          },
          "name": "stdout",
          "output_type": "stream",
          "text": [
            "Epoch 48 & idx 0 with loss: -179.60169982910156\n"
          ]
        },
        {
          "metadata": {
            "tags": null
          },
          "name": "stderr",
          "output_type": "stream",
          "text": [
            "Epoch 49/300 : 100it [00:13,  7.16it/s, loss=-190]\n",
            "Epoch 50/300 : 2it [00:00,  6.01it/s, loss=-191]"
          ]
        },
        {
          "metadata": {
            "tags": null
          },
          "name": "stdout",
          "output_type": "stream",
          "text": [
            "Epoch 49 & idx 0 with loss: -187.43023681640625\n"
          ]
        },
        {
          "metadata": {
            "tags": null
          },
          "name": "stderr",
          "output_type": "stream",
          "text": [
            "Epoch 50/300 : 100it [00:13,  7.29it/s, loss=-187]\n",
            "Epoch 51/300 : 2it [00:00,  8.33it/s, loss=-164]"
          ]
        },
        {
          "metadata": {
            "tags": null
          },
          "name": "stdout",
          "output_type": "stream",
          "text": [
            "Epoch 50 & idx 0 with loss: -162.52432250976562\n"
          ]
        },
        {
          "metadata": {
            "tags": null
          },
          "name": "stderr",
          "output_type": "stream",
          "text": [
            "Epoch 51/300 : 100it [00:13,  7.51it/s, loss=-188]\n",
            "Epoch 52/300 : 2it [00:00,  7.20it/s, loss=-186]"
          ]
        },
        {
          "metadata": {
            "tags": null
          },
          "name": "stdout",
          "output_type": "stream",
          "text": [
            "Epoch 51 & idx 0 with loss: -185.70021057128906\n"
          ]
        },
        {
          "metadata": {
            "tags": null
          },
          "name": "stderr",
          "output_type": "stream",
          "text": [
            "Epoch 52/300 : 100it [00:13,  7.55it/s, loss=-189]\n",
            "Epoch 53/300 : 2it [00:00,  8.37it/s, loss=-181]"
          ]
        },
        {
          "metadata": {
            "tags": null
          },
          "name": "stdout",
          "output_type": "stream",
          "text": [
            "Epoch 52 & idx 0 with loss: -180.02999877929688\n"
          ]
        },
        {
          "metadata": {
            "tags": null
          },
          "name": "stderr",
          "output_type": "stream",
          "text": [
            "Epoch 53/300 : 100it [00:13,  7.49it/s, loss=-188]\n",
            "Epoch 54/300 : 2it [00:00,  7.73it/s, loss=-188]"
          ]
        },
        {
          "metadata": {
            "tags": null
          },
          "name": "stdout",
          "output_type": "stream",
          "text": [
            "Epoch 53 & idx 0 with loss: -185.05783081054688\n"
          ]
        },
        {
          "metadata": {
            "tags": null
          },
          "name": "stderr",
          "output_type": "stream",
          "text": [
            "Epoch 54/300 : 100it [00:13,  7.38it/s, loss=-190]\n",
            "Epoch 55/300 : 2it [00:00,  7.28it/s, loss=-176]"
          ]
        },
        {
          "metadata": {
            "tags": null
          },
          "name": "stdout",
          "output_type": "stream",
          "text": [
            "Epoch 54 & idx 0 with loss: -193.59597778320312\n"
          ]
        },
        {
          "metadata": {
            "tags": null
          },
          "name": "stderr",
          "output_type": "stream",
          "text": [
            "Epoch 55/300 : 100it [00:13,  7.50it/s, loss=-189]\n",
            "Epoch 56/300 : 2it [00:00,  8.07it/s, loss=-180]"
          ]
        },
        {
          "metadata": {
            "tags": null
          },
          "name": "stdout",
          "output_type": "stream",
          "text": [
            "Epoch 55 & idx 0 with loss: -165.11196899414062\n"
          ]
        },
        {
          "metadata": {
            "tags": null
          },
          "name": "stderr",
          "output_type": "stream",
          "text": [
            "Epoch 56/300 : 100it [00:13,  7.56it/s, loss=-189]\n",
            "Epoch 57/300 : 2it [00:00,  8.14it/s, loss=-194]"
          ]
        },
        {
          "metadata": {
            "tags": null
          },
          "name": "stdout",
          "output_type": "stream",
          "text": [
            "Epoch 56 & idx 0 with loss: -193.03187561035156\n"
          ]
        },
        {
          "metadata": {
            "tags": null
          },
          "name": "stderr",
          "output_type": "stream",
          "text": [
            "Epoch 57/300 : 100it [00:13,  7.52it/s, loss=-190]\n",
            "Epoch 58/300 : 2it [00:00,  6.56it/s, loss=-200]"
          ]
        },
        {
          "metadata": {
            "tags": null
          },
          "name": "stdout",
          "output_type": "stream",
          "text": [
            "Epoch 57 & idx 0 with loss: -200.10845947265625\n"
          ]
        },
        {
          "metadata": {
            "tags": null
          },
          "name": "stderr",
          "output_type": "stream",
          "text": [
            "Epoch 58/300 : 100it [00:13,  7.46it/s, loss=-189]\n",
            "Epoch 59/300 : 2it [00:00,  8.12it/s, loss=-174]"
          ]
        },
        {
          "metadata": {
            "tags": null
          },
          "name": "stdout",
          "output_type": "stream",
          "text": [
            "Epoch 58 & idx 0 with loss: -173.01019287109375\n"
          ]
        },
        {
          "metadata": {
            "tags": null
          },
          "name": "stderr",
          "output_type": "stream",
          "text": [
            "Epoch 59/300 : 100it [00:14,  7.13it/s, loss=-193]\n",
            "Epoch 60/300 : 2it [00:00,  8.02it/s, loss=-181]"
          ]
        },
        {
          "metadata": {
            "tags": null
          },
          "name": "stdout",
          "output_type": "stream",
          "text": [
            "Epoch 59 & idx 0 with loss: -192.4285888671875\n"
          ]
        },
        {
          "metadata": {
            "tags": null
          },
          "name": "stderr",
          "output_type": "stream",
          "text": [
            "Epoch 60/300 : 100it [00:13,  7.41it/s, loss=-191]\n",
            "Epoch 61/300 : 2it [00:00,  8.26it/s, loss=-192]"
          ]
        },
        {
          "metadata": {
            "tags": null
          },
          "name": "stdout",
          "output_type": "stream",
          "text": [
            "Epoch 60 & idx 0 with loss: -191.58212280273438\n"
          ]
        },
        {
          "metadata": {
            "tags": null
          },
          "name": "stderr",
          "output_type": "stream",
          "text": [
            "Epoch 61/300 : 100it [00:14,  7.14it/s, loss=-191]\n",
            "Epoch 62/300 : 2it [00:00,  5.60it/s, loss=-188]"
          ]
        },
        {
          "metadata": {
            "tags": null
          },
          "name": "stdout",
          "output_type": "stream",
          "text": [
            "Epoch 61 & idx 0 with loss: -192.36489868164062\n"
          ]
        },
        {
          "metadata": {
            "tags": null
          },
          "name": "stderr",
          "output_type": "stream",
          "text": [
            "Epoch 62/300 : 100it [00:14,  7.12it/s, loss=-191]\n",
            "Epoch 63/300 : 2it [00:00,  7.30it/s, loss=-196]"
          ]
        },
        {
          "metadata": {
            "tags": null
          },
          "name": "stdout",
          "output_type": "stream",
          "text": [
            "Epoch 62 & idx 0 with loss: -196.0679168701172\n"
          ]
        },
        {
          "metadata": {
            "tags": null
          },
          "name": "stderr",
          "output_type": "stream",
          "text": [
            "Epoch 63/300 : 100it [00:13,  7.27it/s, loss=-191]\n",
            "Epoch 64/300 : 2it [00:00,  7.74it/s, loss=-192]"
          ]
        },
        {
          "metadata": {
            "tags": null
          },
          "name": "stdout",
          "output_type": "stream",
          "text": [
            "Epoch 63 & idx 0 with loss: -193.14398193359375\n"
          ]
        },
        {
          "metadata": {
            "tags": null
          },
          "name": "stderr",
          "output_type": "stream",
          "text": [
            "Epoch 64/300 : 100it [00:13,  7.25it/s, loss=-193]\n",
            "Epoch 65/300 : 2it [00:00,  7.38it/s, loss=-199]"
          ]
        },
        {
          "metadata": {
            "tags": null
          },
          "name": "stdout",
          "output_type": "stream",
          "text": [
            "Epoch 64 & idx 0 with loss: -200.5413818359375\n"
          ]
        },
        {
          "metadata": {
            "tags": null
          },
          "name": "stderr",
          "output_type": "stream",
          "text": [
            "Epoch 65/300 : 100it [00:13,  7.38it/s, loss=-192]\n",
            "Epoch 66/300 : 2it [00:00,  7.56it/s, loss=-193]"
          ]
        },
        {
          "metadata": {
            "tags": null
          },
          "name": "stdout",
          "output_type": "stream",
          "text": [
            "Epoch 65 & idx 0 with loss: -177.65216064453125\n"
          ]
        },
        {
          "metadata": {
            "tags": null
          },
          "name": "stderr",
          "output_type": "stream",
          "text": [
            "Epoch 66/300 : 100it [00:13,  7.39it/s, loss=-193]\n",
            "Epoch 67/300 : 2it [00:00,  7.42it/s, loss=-193]"
          ]
        },
        {
          "metadata": {
            "tags": null
          },
          "name": "stdout",
          "output_type": "stream",
          "text": [
            "Epoch 66 & idx 0 with loss: -199.000244140625\n"
          ]
        },
        {
          "metadata": {
            "tags": null
          },
          "name": "stderr",
          "output_type": "stream",
          "text": [
            "Epoch 67/300 : 100it [00:13,  7.35it/s, loss=-193]\n",
            "Epoch 68/300 : 2it [00:00,  7.33it/s, loss=-192]"
          ]
        },
        {
          "metadata": {
            "tags": null
          },
          "name": "stdout",
          "output_type": "stream",
          "text": [
            "Epoch 67 & idx 0 with loss: -197.7890167236328\n"
          ]
        },
        {
          "metadata": {
            "tags": null
          },
          "name": "stderr",
          "output_type": "stream",
          "text": [
            "Epoch 68/300 : 100it [00:13,  7.29it/s, loss=-192]\n",
            "Epoch 69/300 : 2it [00:00,  7.64it/s, loss=-192]"
          ]
        },
        {
          "metadata": {
            "tags": null
          },
          "name": "stdout",
          "output_type": "stream",
          "text": [
            "Epoch 68 & idx 0 with loss: -193.7299346923828\n"
          ]
        },
        {
          "metadata": {
            "tags": null
          },
          "name": "stderr",
          "output_type": "stream",
          "text": [
            "Epoch 69/300 : 100it [00:13,  7.39it/s, loss=-192]\n",
            "Epoch 70/300 : 2it [00:00,  7.51it/s, loss=-187]"
          ]
        },
        {
          "metadata": {
            "tags": null
          },
          "name": "stdout",
          "output_type": "stream",
          "text": [
            "Epoch 69 & idx 0 with loss: -193.64285278320312\n"
          ]
        },
        {
          "metadata": {
            "tags": null
          },
          "name": "stderr",
          "output_type": "stream",
          "text": [
            "Epoch 70/300 : 100it [00:13,  7.20it/s, loss=-193]\n",
            "Epoch 71/300 : 2it [00:00,  5.93it/s, loss=-186]"
          ]
        },
        {
          "metadata": {
            "tags": null
          },
          "name": "stdout",
          "output_type": "stream",
          "text": [
            "Epoch 70 & idx 0 with loss: -186.63143920898438\n"
          ]
        },
        {
          "metadata": {
            "tags": null
          },
          "name": "stderr",
          "output_type": "stream",
          "text": [
            "Epoch 71/300 : 100it [00:13,  7.32it/s, loss=-192]\n",
            "Epoch 72/300 : 2it [00:00,  7.95it/s, loss=-192]"
          ]
        },
        {
          "metadata": {
            "tags": null
          },
          "name": "stdout",
          "output_type": "stream",
          "text": [
            "Epoch 71 & idx 0 with loss: -185.29159545898438\n"
          ]
        },
        {
          "metadata": {
            "tags": null
          },
          "name": "stderr",
          "output_type": "stream",
          "text": [
            "Epoch 72/300 : 100it [00:13,  7.42it/s, loss=-193]\n",
            "Epoch 73/300 : 2it [00:00,  7.41it/s, loss=-190]"
          ]
        },
        {
          "metadata": {
            "tags": null
          },
          "name": "stdout",
          "output_type": "stream",
          "text": [
            "Epoch 72 & idx 0 with loss: -188.17898559570312\n"
          ]
        },
        {
          "metadata": {
            "tags": null
          },
          "name": "stderr",
          "output_type": "stream",
          "text": [
            "Epoch 73/300 : 100it [00:13,  7.36it/s, loss=-193]\n",
            "Epoch 74/300 : 2it [00:00,  8.38it/s, loss=-196]"
          ]
        },
        {
          "metadata": {
            "tags": null
          },
          "name": "stdout",
          "output_type": "stream",
          "text": [
            "Epoch 73 & idx 0 with loss: -199.48544311523438\n"
          ]
        },
        {
          "metadata": {
            "tags": null
          },
          "name": "stderr",
          "output_type": "stream",
          "text": [
            "Epoch 74/300 : 100it [00:13,  7.47it/s, loss=-195]\n",
            "Epoch 75/300 : 2it [00:00,  8.80it/s, loss=-186]"
          ]
        },
        {
          "metadata": {
            "tags": null
          },
          "name": "stdout",
          "output_type": "stream",
          "text": [
            "Epoch 74 & idx 0 with loss: -181.5758056640625\n"
          ]
        },
        {
          "metadata": {
            "tags": null
          },
          "name": "stderr",
          "output_type": "stream",
          "text": [
            "Epoch 75/300 : 100it [00:13,  7.59it/s, loss=-192]\n",
            "Epoch 76/300 : 2it [00:00,  8.39it/s, loss=-198]"
          ]
        },
        {
          "metadata": {
            "tags": null
          },
          "name": "stdout",
          "output_type": "stream",
          "text": [
            "Epoch 75 & idx 0 with loss: -195.62789916992188\n"
          ]
        },
        {
          "metadata": {
            "tags": null
          },
          "name": "stderr",
          "output_type": "stream",
          "text": [
            "Epoch 76/300 : 100it [00:13,  7.42it/s, loss=-193]\n",
            "Epoch 77/300 : 2it [00:00,  7.90it/s, loss=-194]"
          ]
        },
        {
          "metadata": {
            "tags": null
          },
          "name": "stdout",
          "output_type": "stream",
          "text": [
            "Epoch 76 & idx 0 with loss: -194.30331420898438\n"
          ]
        },
        {
          "metadata": {
            "tags": null
          },
          "name": "stderr",
          "output_type": "stream",
          "text": [
            "Epoch 77/300 : 100it [00:13,  7.36it/s, loss=-193]\n",
            "Epoch 78/300 : 2it [00:00,  8.64it/s, loss=-187]"
          ]
        },
        {
          "metadata": {
            "tags": null
          },
          "name": "stdout",
          "output_type": "stream",
          "text": [
            "Epoch 77 & idx 0 with loss: -184.81817626953125\n"
          ]
        },
        {
          "metadata": {
            "tags": null
          },
          "name": "stderr",
          "output_type": "stream",
          "text": [
            "Epoch 78/300 : 100it [00:13,  7.55it/s, loss=-194]\n",
            "Epoch 79/300 : 2it [00:00,  7.73it/s, loss=-196]"
          ]
        },
        {
          "metadata": {
            "tags": null
          },
          "name": "stdout",
          "output_type": "stream",
          "text": [
            "Epoch 78 & idx 0 with loss: -202.26953125\n"
          ]
        },
        {
          "metadata": {
            "tags": null
          },
          "name": "stderr",
          "output_type": "stream",
          "text": [
            "Epoch 79/300 : 100it [00:13,  7.52it/s, loss=-195]\n",
            "Epoch 80/300 : 2it [00:00,  8.46it/s, loss=-189]"
          ]
        },
        {
          "metadata": {
            "tags": null
          },
          "name": "stdout",
          "output_type": "stream",
          "text": [
            "Epoch 79 & idx 0 with loss: -186.45150756835938\n"
          ]
        },
        {
          "metadata": {
            "tags": null
          },
          "name": "stderr",
          "output_type": "stream",
          "text": [
            "Epoch 80/300 : 100it [00:13,  7.45it/s, loss=-195]\n",
            "Epoch 81/300 : 2it [00:00,  5.82it/s, loss=-199]"
          ]
        },
        {
          "metadata": {
            "tags": null
          },
          "name": "stdout",
          "output_type": "stream",
          "text": [
            "Epoch 80 & idx 0 with loss: -190.25416564941406\n"
          ]
        },
        {
          "metadata": {
            "tags": null
          },
          "name": "stderr",
          "output_type": "stream",
          "text": [
            "Epoch 81/300 : 100it [00:14,  7.08it/s, loss=-196]\n",
            "Epoch 82/300 : 2it [00:00,  6.86it/s, loss=-190]"
          ]
        },
        {
          "metadata": {
            "tags": null
          },
          "name": "stdout",
          "output_type": "stream",
          "text": [
            "Epoch 81 & idx 0 with loss: -182.80758666992188\n"
          ]
        },
        {
          "metadata": {
            "tags": null
          },
          "name": "stderr",
          "output_type": "stream",
          "text": [
            "Epoch 82/300 : 100it [00:13,  7.46it/s, loss=-196]\n",
            "Epoch 83/300 : 2it [00:00,  7.67it/s, loss=-189]"
          ]
        },
        {
          "metadata": {
            "tags": null
          },
          "name": "stdout",
          "output_type": "stream",
          "text": [
            "Epoch 82 & idx 0 with loss: -191.9654541015625\n"
          ]
        },
        {
          "metadata": {
            "tags": null
          },
          "name": "stderr",
          "output_type": "stream",
          "text": [
            "Epoch 83/300 : 100it [00:13,  7.39it/s, loss=-195]\n",
            "Epoch 84/300 : 2it [00:00,  7.65it/s, loss=-181]"
          ]
        },
        {
          "metadata": {
            "tags": null
          },
          "name": "stdout",
          "output_type": "stream",
          "text": [
            "Epoch 83 & idx 0 with loss: -180.38934326171875\n"
          ]
        },
        {
          "metadata": {
            "tags": null
          },
          "name": "stderr",
          "output_type": "stream",
          "text": [
            "Epoch 84/300 : 100it [00:13,  7.42it/s, loss=-194]\n",
            "Epoch 85/300 : 2it [00:00,  7.70it/s, loss=-187]"
          ]
        },
        {
          "metadata": {
            "tags": null
          },
          "name": "stdout",
          "output_type": "stream",
          "text": [
            "Epoch 84 & idx 0 with loss: -188.33087158203125\n"
          ]
        },
        {
          "metadata": {
            "tags": null
          },
          "name": "stderr",
          "output_type": "stream",
          "text": [
            "Epoch 85/300 : 100it [00:13,  7.37it/s, loss=-196]\n",
            "Epoch 86/300 : 2it [00:00,  7.88it/s, loss=-198]"
          ]
        },
        {
          "metadata": {
            "tags": null
          },
          "name": "stdout",
          "output_type": "stream",
          "text": [
            "Epoch 85 & idx 0 with loss: -191.3905792236328\n"
          ]
        },
        {
          "metadata": {
            "tags": null
          },
          "name": "stderr",
          "output_type": "stream",
          "text": [
            "Epoch 86/300 : 100it [00:13,  7.34it/s, loss=-193]\n",
            "Epoch 87/300 : 2it [00:00,  7.68it/s, loss=-184]"
          ]
        },
        {
          "metadata": {
            "tags": null
          },
          "name": "stdout",
          "output_type": "stream",
          "text": [
            "Epoch 86 & idx 0 with loss: -194.3765869140625\n"
          ]
        },
        {
          "metadata": {
            "tags": null
          },
          "name": "stderr",
          "output_type": "stream",
          "text": [
            "Epoch 87/300 : 100it [00:13,  7.49it/s, loss=-195]\n",
            "Epoch 88/300 : 2it [00:00,  7.48it/s, loss=-194]"
          ]
        },
        {
          "metadata": {
            "tags": null
          },
          "name": "stdout",
          "output_type": "stream",
          "text": [
            "Epoch 87 & idx 0 with loss: -194.4942626953125\n"
          ]
        },
        {
          "metadata": {
            "tags": null
          },
          "name": "stderr",
          "output_type": "stream",
          "text": [
            "Epoch 88/300 : 100it [00:13,  7.38it/s, loss=-197]\n",
            "Epoch 89/300 : 2it [00:00,  7.90it/s, loss=-194]"
          ]
        },
        {
          "metadata": {
            "tags": null
          },
          "name": "stdout",
          "output_type": "stream",
          "text": [
            "Epoch 88 & idx 0 with loss: -200.64035034179688\n"
          ]
        },
        {
          "metadata": {
            "tags": null
          },
          "name": "stderr",
          "output_type": "stream",
          "text": [
            "Epoch 89/300 : 100it [00:13,  7.37it/s, loss=-197]\n",
            "Epoch 90/300 : 2it [00:00,  7.44it/s, loss=-197]"
          ]
        },
        {
          "metadata": {
            "tags": null
          },
          "name": "stdout",
          "output_type": "stream",
          "text": [
            "Epoch 89 & idx 0 with loss: -199.84913635253906\n"
          ]
        },
        {
          "metadata": {
            "tags": null
          },
          "name": "stderr",
          "output_type": "stream",
          "text": [
            "Epoch 90/300 : 100it [00:13,  7.22it/s, loss=-197]\n",
            "Epoch 91/300 : 2it [00:00,  5.57it/s, loss=-195]"
          ]
        },
        {
          "metadata": {
            "tags": null
          },
          "name": "stdout",
          "output_type": "stream",
          "text": [
            "Epoch 90 & idx 0 with loss: -192.89559936523438\n"
          ]
        },
        {
          "metadata": {
            "tags": null
          },
          "name": "stderr",
          "output_type": "stream",
          "text": [
            "Epoch 91/300 : 100it [00:13,  7.37it/s, loss=-197]\n",
            "Epoch 92/300 : 2it [00:00,  8.14it/s, loss=-200]"
          ]
        },
        {
          "metadata": {
            "tags": null
          },
          "name": "stdout",
          "output_type": "stream",
          "text": [
            "Epoch 91 & idx 0 with loss: -200.306396484375\n"
          ]
        },
        {
          "metadata": {
            "tags": null
          },
          "name": "stderr",
          "output_type": "stream",
          "text": [
            "Epoch 92/300 : 100it [00:13,  7.49it/s, loss=-197]\n",
            "Epoch 93/300 : 2it [00:00,  8.14it/s, loss=-191]"
          ]
        },
        {
          "metadata": {
            "tags": null
          },
          "name": "stdout",
          "output_type": "stream",
          "text": [
            "Epoch 92 & idx 0 with loss: -181.2225341796875\n"
          ]
        },
        {
          "metadata": {
            "tags": null
          },
          "name": "stderr",
          "output_type": "stream",
          "text": [
            "Epoch 93/300 : 100it [00:13,  7.42it/s, loss=-196]\n",
            "Epoch 94/300 : 2it [00:00,  7.91it/s, loss=-203]"
          ]
        },
        {
          "metadata": {
            "tags": null
          },
          "name": "stdout",
          "output_type": "stream",
          "text": [
            "Epoch 93 & idx 0 with loss: -196.98760986328125\n"
          ]
        },
        {
          "metadata": {
            "tags": null
          },
          "name": "stderr",
          "output_type": "stream",
          "text": [
            "Epoch 94/300 : 100it [00:13,  7.45it/s, loss=-198]\n",
            "Epoch 95/300 : 2it [00:00,  8.05it/s, loss=-195]"
          ]
        },
        {
          "metadata": {
            "tags": null
          },
          "name": "stdout",
          "output_type": "stream",
          "text": [
            "Epoch 94 & idx 0 with loss: -196.29708862304688\n"
          ]
        },
        {
          "metadata": {
            "tags": null
          },
          "name": "stderr",
          "output_type": "stream",
          "text": [
            "Epoch 95/300 : 100it [00:13,  7.44it/s, loss=-196]\n",
            "Epoch 96/300 : 2it [00:00,  7.69it/s, loss=-201]"
          ]
        },
        {
          "metadata": {
            "tags": null
          },
          "name": "stdout",
          "output_type": "stream",
          "text": [
            "Epoch 95 & idx 0 with loss: -200.71176147460938\n"
          ]
        },
        {
          "metadata": {
            "tags": null
          },
          "name": "stderr",
          "output_type": "stream",
          "text": [
            "Epoch 96/300 : 100it [00:13,  7.52it/s, loss=-199]\n",
            "Epoch 97/300 : 2it [00:00,  8.03it/s, loss=-189]"
          ]
        },
        {
          "metadata": {
            "tags": null
          },
          "name": "stdout",
          "output_type": "stream",
          "text": [
            "Epoch 96 & idx 0 with loss: -190.16812133789062\n"
          ]
        },
        {
          "metadata": {
            "tags": null
          },
          "name": "stderr",
          "output_type": "stream",
          "text": [
            "Epoch 97/300 : 100it [00:13,  7.55it/s, loss=-197]\n",
            "Epoch 98/300 : 2it [00:00,  8.32it/s, loss=-173]"
          ]
        },
        {
          "metadata": {
            "tags": null
          },
          "name": "stdout",
          "output_type": "stream",
          "text": [
            "Epoch 97 & idx 0 with loss: -176.17312622070312\n"
          ]
        },
        {
          "metadata": {
            "tags": null
          },
          "name": "stderr",
          "output_type": "stream",
          "text": [
            "Epoch 98/300 : 100it [00:13,  7.52it/s, loss=-195]\n",
            "Epoch 99/300 : 2it [00:00,  8.46it/s, loss=-197]"
          ]
        },
        {
          "metadata": {
            "tags": null
          },
          "name": "stdout",
          "output_type": "stream",
          "text": [
            "Epoch 98 & idx 0 with loss: -210.7017822265625\n"
          ]
        },
        {
          "metadata": {
            "tags": null
          },
          "name": "stderr",
          "output_type": "stream",
          "text": [
            "Epoch 99/300 : 100it [00:13,  7.67it/s, loss=-197]\n",
            "Epoch 100/300 : 2it [00:00,  7.47it/s, loss=-190]"
          ]
        },
        {
          "metadata": {
            "tags": null
          },
          "name": "stdout",
          "output_type": "stream",
          "text": [
            "Epoch 99 & idx 0 with loss: -193.59095764160156\n"
          ]
        },
        {
          "metadata": {
            "tags": null
          },
          "name": "stderr",
          "output_type": "stream",
          "text": [
            "Epoch 100/300 : 100it [00:13,  7.59it/s, loss=-196]\n",
            "Epoch 101/300 : 2it [00:00,  8.06it/s, loss=-206]"
          ]
        },
        {
          "metadata": {
            "tags": null
          },
          "name": "stdout",
          "output_type": "stream",
          "text": [
            "Epoch 100 & idx 0 with loss: -215.05233764648438\n"
          ]
        },
        {
          "metadata": {
            "tags": null
          },
          "name": "stderr",
          "output_type": "stream",
          "text": [
            "Epoch 101/300 : 100it [00:13,  7.61it/s, loss=-197]\n",
            "Epoch 102/300 : 2it [00:00,  5.68it/s, loss=-203]"
          ]
        },
        {
          "metadata": {
            "tags": null
          },
          "name": "stdout",
          "output_type": "stream",
          "text": [
            "Epoch 101 & idx 0 with loss: -203.89193725585938\n"
          ]
        },
        {
          "metadata": {
            "tags": null
          },
          "name": "stderr",
          "output_type": "stream",
          "text": [
            "Epoch 102/300 : 100it [00:13,  7.50it/s, loss=-196]\n",
            "Epoch 103/300 : 2it [00:00,  5.31it/s, loss=-188]"
          ]
        },
        {
          "metadata": {
            "tags": null
          },
          "name": "stdout",
          "output_type": "stream",
          "text": [
            "Epoch 102 & idx 0 with loss: -181.50357055664062\n"
          ]
        },
        {
          "metadata": {
            "tags": null
          },
          "name": "stderr",
          "output_type": "stream",
          "text": [
            "Epoch 103/300 : 100it [00:13,  7.39it/s, loss=-197]\n",
            "Epoch 104/300 : 2it [00:00,  7.76it/s, loss=-198]"
          ]
        },
        {
          "metadata": {
            "tags": null
          },
          "name": "stdout",
          "output_type": "stream",
          "text": [
            "Epoch 103 & idx 0 with loss: -203.0509796142578\n"
          ]
        },
        {
          "metadata": {
            "tags": null
          },
          "name": "stderr",
          "output_type": "stream",
          "text": [
            "Epoch 104/300 : 100it [00:13,  7.59it/s, loss=-195]\n",
            "Epoch 105/300 : 2it [00:00,  8.38it/s, loss=-184]"
          ]
        },
        {
          "metadata": {
            "tags": null
          },
          "name": "stdout",
          "output_type": "stream",
          "text": [
            "Epoch 104 & idx 0 with loss: -187.0626220703125\n"
          ]
        },
        {
          "metadata": {
            "tags": null
          },
          "name": "stderr",
          "output_type": "stream",
          "text": [
            "Epoch 105/300 : 100it [00:13,  7.68it/s, loss=-198]\n",
            "Epoch 106/300 : 2it [00:00,  8.68it/s, loss=-204]"
          ]
        },
        {
          "metadata": {
            "tags": null
          },
          "name": "stdout",
          "output_type": "stream",
          "text": [
            "Epoch 105 & idx 0 with loss: -208.64163208007812\n"
          ]
        },
        {
          "metadata": {
            "tags": null
          },
          "name": "stderr",
          "output_type": "stream",
          "text": [
            "Epoch 106/300 : 100it [00:12,  7.71it/s, loss=-199]\n",
            "Epoch 107/300 : 2it [00:00,  8.36it/s, loss=-195]"
          ]
        },
        {
          "metadata": {
            "tags": null
          },
          "name": "stdout",
          "output_type": "stream",
          "text": [
            "Epoch 106 & idx 0 with loss: -193.03475952148438\n"
          ]
        },
        {
          "metadata": {
            "tags": null
          },
          "name": "stderr",
          "output_type": "stream",
          "text": [
            "Epoch 107/300 : 100it [00:13,  7.62it/s, loss=-199]\n",
            "Epoch 108/300 : 2it [00:00,  8.11it/s, loss=-195]"
          ]
        },
        {
          "metadata": {
            "tags": null
          },
          "name": "stdout",
          "output_type": "stream",
          "text": [
            "Epoch 107 & idx 0 with loss: -177.8660888671875\n"
          ]
        },
        {
          "metadata": {
            "tags": null
          },
          "name": "stderr",
          "output_type": "stream",
          "text": [
            "Epoch 108/300 : 100it [00:12,  7.74it/s, loss=-197]\n",
            "Epoch 109/300 : 2it [00:00,  7.87it/s, loss=-205]"
          ]
        },
        {
          "metadata": {
            "tags": null
          },
          "name": "stdout",
          "output_type": "stream",
          "text": [
            "Epoch 108 & idx 0 with loss: -203.68540954589844\n"
          ]
        },
        {
          "metadata": {
            "tags": null
          },
          "name": "stderr",
          "output_type": "stream",
          "text": [
            "Epoch 109/300 : 100it [00:13,  7.54it/s, loss=-198]\n",
            "Epoch 110/300 : 2it [00:00,  7.75it/s, loss=-200]"
          ]
        },
        {
          "metadata": {
            "tags": null
          },
          "name": "stdout",
          "output_type": "stream",
          "text": [
            "Epoch 109 & idx 0 with loss: -189.9386444091797\n"
          ]
        },
        {
          "metadata": {
            "tags": null
          },
          "name": "stderr",
          "output_type": "stream",
          "text": [
            "Epoch 110/300 : 100it [00:12,  7.74it/s, loss=-199]\n",
            "Epoch 111/300 : 2it [00:00,  8.58it/s, loss=-204]"
          ]
        },
        {
          "metadata": {
            "tags": null
          },
          "name": "stdout",
          "output_type": "stream",
          "text": [
            "Epoch 110 & idx 0 with loss: -201.37368774414062\n"
          ]
        },
        {
          "metadata": {
            "tags": null
          },
          "name": "stderr",
          "output_type": "stream",
          "text": [
            "Epoch 111/300 : 100it [00:12,  7.71it/s, loss=-197]\n",
            "Epoch 112/300 : 2it [00:00,  8.06it/s, loss=-205]"
          ]
        },
        {
          "metadata": {
            "tags": null
          },
          "name": "stdout",
          "output_type": "stream",
          "text": [
            "Epoch 111 & idx 0 with loss: -206.69024658203125\n"
          ]
        },
        {
          "metadata": {
            "tags": null
          },
          "name": "stderr",
          "output_type": "stream",
          "text": [
            "Epoch 112/300 : 100it [00:13,  7.50it/s, loss=-198]\n",
            "Epoch 113/300 : 2it [00:00,  7.16it/s, loss=-195]"
          ]
        },
        {
          "metadata": {
            "tags": null
          },
          "name": "stdout",
          "output_type": "stream",
          "text": [
            "Epoch 112 & idx 0 with loss: -205.48220825195312\n"
          ]
        },
        {
          "metadata": {
            "tags": null
          },
          "name": "stderr",
          "output_type": "stream",
          "text": [
            "Epoch 113/300 : 100it [00:13,  7.50it/s, loss=-201]\n",
            "Epoch 114/300 : 2it [00:00,  7.64it/s, loss=-200]"
          ]
        },
        {
          "metadata": {
            "tags": null
          },
          "name": "stdout",
          "output_type": "stream",
          "text": [
            "Epoch 113 & idx 0 with loss: -204.1659698486328\n"
          ]
        },
        {
          "metadata": {
            "tags": null
          },
          "name": "stderr",
          "output_type": "stream",
          "text": [
            "Epoch 114/300 : 100it [00:12,  7.77it/s, loss=-197]\n",
            "Epoch 115/300 : 2it [00:00,  6.12it/s, loss=-207]"
          ]
        },
        {
          "metadata": {
            "tags": null
          },
          "name": "stdout",
          "output_type": "stream",
          "text": [
            "Epoch 114 & idx 0 with loss: -210.88450622558594\n"
          ]
        },
        {
          "metadata": {
            "tags": null
          },
          "name": "stderr",
          "output_type": "stream",
          "text": [
            "Epoch 115/300 : 100it [00:13,  7.43it/s, loss=-200]\n",
            "Epoch 116/300 : 2it [00:00,  5.78it/s, loss=-203]"
          ]
        },
        {
          "metadata": {
            "tags": null
          },
          "name": "stdout",
          "output_type": "stream",
          "text": [
            "Epoch 115 & idx 0 with loss: -197.3163299560547\n"
          ]
        },
        {
          "metadata": {
            "tags": null
          },
          "name": "stderr",
          "output_type": "stream",
          "text": [
            "Epoch 116/300 : 100it [00:13,  7.53it/s, loss=-200]\n",
            "Epoch 117/300 : 2it [00:00,  7.95it/s, loss=-198]"
          ]
        },
        {
          "metadata": {
            "tags": null
          },
          "name": "stdout",
          "output_type": "stream",
          "text": [
            "Epoch 116 & idx 0 with loss: -193.7999267578125\n"
          ]
        },
        {
          "metadata": {
            "tags": null
          },
          "name": "stderr",
          "output_type": "stream",
          "text": [
            "Epoch 117/300 : 100it [00:13,  7.61it/s, loss=-197]\n",
            "Epoch 118/300 : 2it [00:00,  7.80it/s, loss=-202]"
          ]
        },
        {
          "metadata": {
            "tags": null
          },
          "name": "stdout",
          "output_type": "stream",
          "text": [
            "Epoch 117 & idx 0 with loss: -195.17784118652344\n"
          ]
        },
        {
          "metadata": {
            "tags": null
          },
          "name": "stderr",
          "output_type": "stream",
          "text": [
            "Epoch 118/300 : 100it [00:13,  7.57it/s, loss=-200]\n",
            "Epoch 119/300 : 2it [00:00,  7.67it/s, loss=-203]"
          ]
        },
        {
          "metadata": {
            "tags": null
          },
          "name": "stdout",
          "output_type": "stream",
          "text": [
            "Epoch 118 & idx 0 with loss: -208.21298217773438\n"
          ]
        },
        {
          "metadata": {
            "tags": null
          },
          "name": "stderr",
          "output_type": "stream",
          "text": [
            "Epoch 119/300 : 100it [00:13,  7.68it/s, loss=-199]\n",
            "Epoch 120/300 : 2it [00:00,  7.71it/s, loss=-207]"
          ]
        },
        {
          "metadata": {
            "tags": null
          },
          "name": "stdout",
          "output_type": "stream",
          "text": [
            "Epoch 119 & idx 0 with loss: -205.4849853515625\n"
          ]
        },
        {
          "metadata": {
            "tags": null
          },
          "name": "stderr",
          "output_type": "stream",
          "text": [
            "Epoch 120/300 : 100it [00:13,  7.56it/s, loss=-199]\n",
            "Epoch 121/300 : 2it [00:00,  7.86it/s, loss=-198]"
          ]
        },
        {
          "metadata": {
            "tags": null
          },
          "name": "stdout",
          "output_type": "stream",
          "text": [
            "Epoch 120 & idx 0 with loss: -200.5552520751953\n"
          ]
        },
        {
          "metadata": {
            "tags": null
          },
          "name": "stderr",
          "output_type": "stream",
          "text": [
            "Epoch 121/300 : 100it [00:13,  7.48it/s, loss=-200]\n",
            "Epoch 122/300 : 2it [00:00,  7.97it/s, loss=-196]"
          ]
        },
        {
          "metadata": {
            "tags": null
          },
          "name": "stdout",
          "output_type": "stream",
          "text": [
            "Epoch 121 & idx 0 with loss: -193.54815673828125\n"
          ]
        },
        {
          "metadata": {
            "tags": null
          },
          "name": "stderr",
          "output_type": "stream",
          "text": [
            "Epoch 122/300 : 100it [00:13,  7.54it/s, loss=-199]\n",
            "Epoch 123/300 : 2it [00:00,  7.69it/s, loss=-198]"
          ]
        },
        {
          "metadata": {
            "tags": null
          },
          "name": "stdout",
          "output_type": "stream",
          "text": [
            "Epoch 122 & idx 0 with loss: -203.54486083984375\n"
          ]
        },
        {
          "metadata": {
            "tags": null
          },
          "name": "stderr",
          "output_type": "stream",
          "text": [
            "Epoch 123/300 : 100it [00:13,  7.50it/s, loss=-198]\n",
            "Epoch 124/300 : 2it [00:00,  7.62it/s, loss=-203]"
          ]
        },
        {
          "metadata": {
            "tags": null
          },
          "name": "stdout",
          "output_type": "stream",
          "text": [
            "Epoch 123 & idx 0 with loss: -199.0633544921875\n"
          ]
        },
        {
          "metadata": {
            "tags": null
          },
          "name": "stderr",
          "output_type": "stream",
          "text": [
            "Epoch 124/300 : 100it [00:13,  7.61it/s, loss=-200]\n",
            "Epoch 125/300 : 2it [00:00,  8.19it/s, loss=-195]"
          ]
        },
        {
          "metadata": {
            "tags": null
          },
          "name": "stdout",
          "output_type": "stream",
          "text": [
            "Epoch 124 & idx 0 with loss: -187.66905212402344\n"
          ]
        },
        {
          "metadata": {
            "tags": null
          },
          "name": "stderr",
          "output_type": "stream",
          "text": [
            "Epoch 125/300 : 100it [00:13,  7.64it/s, loss=-199]\n",
            "Epoch 126/300 : 2it [00:00,  8.34it/s, loss=-196]"
          ]
        },
        {
          "metadata": {
            "tags": null
          },
          "name": "stdout",
          "output_type": "stream",
          "text": [
            "Epoch 125 & idx 0 with loss: -200.52896118164062\n"
          ]
        },
        {
          "metadata": {
            "tags": null
          },
          "name": "stderr",
          "output_type": "stream",
          "text": [
            "Epoch 126/300 : 100it [00:12,  7.71it/s, loss=-199]\n",
            "Epoch 127/300 : 2it [00:00,  8.19it/s, loss=-202]"
          ]
        },
        {
          "metadata": {
            "tags": null
          },
          "name": "stdout",
          "output_type": "stream",
          "text": [
            "Epoch 126 & idx 0 with loss: -202.584228515625\n"
          ]
        },
        {
          "metadata": {
            "tags": null
          },
          "name": "stderr",
          "output_type": "stream",
          "text": [
            "Epoch 127/300 : 100it [00:13,  7.67it/s, loss=-199]\n",
            "Epoch 128/300 : 1it [00:00,  4.95it/s, loss=-196]"
          ]
        },
        {
          "metadata": {
            "tags": null
          },
          "name": "stdout",
          "output_type": "stream",
          "text": [
            "Epoch 127 & idx 0 with loss: -196.70220947265625\n"
          ]
        },
        {
          "metadata": {
            "tags": null
          },
          "name": "stderr",
          "output_type": "stream",
          "text": [
            "Epoch 128/300 : 100it [00:13,  7.43it/s, loss=-199]\n",
            "Epoch 129/300 : 2it [00:00,  5.98it/s, loss=-192]"
          ]
        },
        {
          "metadata": {
            "tags": null
          },
          "name": "stdout",
          "output_type": "stream",
          "text": [
            "Epoch 128 & idx 0 with loss: -179.09976196289062\n"
          ]
        },
        {
          "metadata": {
            "tags": null
          },
          "name": "stderr",
          "output_type": "stream",
          "text": [
            "Epoch 129/300 : 100it [00:13,  7.38it/s, loss=-202]\n",
            "Epoch 130/300 : 2it [00:00,  8.24it/s, loss=-203]"
          ]
        },
        {
          "metadata": {
            "tags": null
          },
          "name": "stdout",
          "output_type": "stream",
          "text": [
            "Epoch 129 & idx 0 with loss: -204.31472778320312\n"
          ]
        },
        {
          "metadata": {
            "tags": null
          },
          "name": "stderr",
          "output_type": "stream",
          "text": [
            "Epoch 130/300 : 100it [00:13,  7.43it/s, loss=-200]\n",
            "Epoch 131/300 : 2it [00:00,  8.22it/s, loss=-195]"
          ]
        },
        {
          "metadata": {
            "tags": null
          },
          "name": "stdout",
          "output_type": "stream",
          "text": [
            "Epoch 130 & idx 0 with loss: -184.20269775390625\n"
          ]
        },
        {
          "metadata": {
            "tags": null
          },
          "name": "stderr",
          "output_type": "stream",
          "text": [
            "Epoch 131/300 : 100it [00:13,  7.42it/s, loss=-201]\n",
            "Epoch 132/300 : 2it [00:00,  8.15it/s, loss=-205]"
          ]
        },
        {
          "metadata": {
            "tags": null
          },
          "name": "stdout",
          "output_type": "stream",
          "text": [
            "Epoch 131 & idx 0 with loss: -203.5173797607422\n"
          ]
        },
        {
          "metadata": {
            "tags": null
          },
          "name": "stderr",
          "output_type": "stream",
          "text": [
            "Epoch 132/300 : 100it [00:13,  7.45it/s, loss=-201]\n",
            "Epoch 133/300 : 2it [00:00,  7.79it/s, loss=-200]"
          ]
        },
        {
          "metadata": {
            "tags": null
          },
          "name": "stdout",
          "output_type": "stream",
          "text": [
            "Epoch 132 & idx 0 with loss: -195.74143981933594\n"
          ]
        },
        {
          "metadata": {
            "tags": null
          },
          "name": "stderr",
          "output_type": "stream",
          "text": [
            "Epoch 133/300 : 100it [00:13,  7.50it/s, loss=-199]\n",
            "Epoch 134/300 : 2it [00:00,  7.86it/s, loss=-200]"
          ]
        },
        {
          "metadata": {
            "tags": null
          },
          "name": "stdout",
          "output_type": "stream",
          "text": [
            "Epoch 133 & idx 0 with loss: -200.95040893554688\n"
          ]
        },
        {
          "metadata": {
            "tags": null
          },
          "name": "stderr",
          "output_type": "stream",
          "text": [
            "Epoch 134/300 : 100it [00:13,  7.59it/s, loss=-200]\n",
            "Epoch 135/300 : 2it [00:00,  7.26it/s, loss=-195]"
          ]
        },
        {
          "metadata": {
            "tags": null
          },
          "name": "stdout",
          "output_type": "stream",
          "text": [
            "Epoch 134 & idx 0 with loss: -200.38644409179688\n"
          ]
        },
        {
          "metadata": {
            "tags": null
          },
          "name": "stderr",
          "output_type": "stream",
          "text": [
            "Epoch 135/300 : 100it [00:13,  7.26it/s, loss=-199]\n",
            "Epoch 136/300 : 2it [00:00,  8.43it/s, loss=-196]"
          ]
        },
        {
          "metadata": {
            "tags": null
          },
          "name": "stdout",
          "output_type": "stream",
          "text": [
            "Epoch 135 & idx 0 with loss: -181.5326690673828\n"
          ]
        },
        {
          "metadata": {
            "tags": null
          },
          "name": "stderr",
          "output_type": "stream",
          "text": [
            "Epoch 136/300 : 100it [00:13,  7.45it/s, loss=-199]\n",
            "Epoch 137/300 : 2it [00:00,  7.59it/s, loss=-203]"
          ]
        },
        {
          "metadata": {
            "tags": null
          },
          "name": "stdout",
          "output_type": "stream",
          "text": [
            "Epoch 136 & idx 0 with loss: -215.1361541748047\n"
          ]
        },
        {
          "metadata": {
            "tags": null
          },
          "name": "stderr",
          "output_type": "stream",
          "text": [
            "Epoch 137/300 : 100it [00:13,  7.43it/s, loss=-201]\n",
            "Epoch 138/300 : 2it [00:00,  6.75it/s, loss=-203]"
          ]
        },
        {
          "metadata": {
            "tags": null
          },
          "name": "stdout",
          "output_type": "stream",
          "text": [
            "Epoch 137 & idx 0 with loss: -205.60565185546875\n"
          ]
        },
        {
          "metadata": {
            "tags": null
          },
          "name": "stderr",
          "output_type": "stream",
          "text": [
            "Epoch 138/300 : 100it [00:13,  7.23it/s, loss=-201]\n",
            "Epoch 139/300 : 2it [00:00,  6.05it/s, loss=-202]"
          ]
        },
        {
          "metadata": {
            "tags": null
          },
          "name": "stdout",
          "output_type": "stream",
          "text": [
            "Epoch 138 & idx 0 with loss: -198.2830810546875\n"
          ]
        },
        {
          "metadata": {
            "tags": null
          },
          "name": "stderr",
          "output_type": "stream",
          "text": [
            "Epoch 139/300 : 100it [00:13,  7.21it/s, loss=-200]\n",
            "Epoch 140/300 : 2it [00:00,  7.97it/s, loss=-217]"
          ]
        },
        {
          "metadata": {
            "tags": null
          },
          "name": "stdout",
          "output_type": "stream",
          "text": [
            "Epoch 139 & idx 0 with loss: -207.36143493652344\n"
          ]
        },
        {
          "metadata": {
            "tags": null
          },
          "name": "stderr",
          "output_type": "stream",
          "text": [
            "Epoch 140/300 : 100it [00:13,  7.51it/s, loss=-200]\n",
            "Epoch 141/300 : 2it [00:00,  8.37it/s, loss=-193]"
          ]
        },
        {
          "metadata": {
            "tags": null
          },
          "name": "stdout",
          "output_type": "stream",
          "text": [
            "Epoch 140 & idx 0 with loss: -185.43878173828125\n"
          ]
        },
        {
          "metadata": {
            "tags": null
          },
          "name": "stderr",
          "output_type": "stream",
          "text": [
            "Epoch 141/300 : 100it [00:13,  7.68it/s, loss=-198]\n",
            "Epoch 142/300 : 2it [00:00,  8.52it/s, loss=-211]"
          ]
        },
        {
          "metadata": {
            "tags": null
          },
          "name": "stdout",
          "output_type": "stream",
          "text": [
            "Epoch 141 & idx 0 with loss: -211.1057586669922\n"
          ]
        },
        {
          "metadata": {
            "tags": null
          },
          "name": "stderr",
          "output_type": "stream",
          "text": [
            "Epoch 142/300 : 100it [00:13,  7.55it/s, loss=-201]\n",
            "Epoch 143/300 : 2it [00:00,  8.40it/s, loss=-201]"
          ]
        },
        {
          "metadata": {
            "tags": null
          },
          "name": "stdout",
          "output_type": "stream",
          "text": [
            "Epoch 142 & idx 0 with loss: -200.02316284179688\n"
          ]
        },
        {
          "metadata": {
            "tags": null
          },
          "name": "stderr",
          "output_type": "stream",
          "text": [
            "Epoch 143/300 : 100it [00:13,  7.48it/s, loss=-201]\n",
            "Epoch 144/300 : 2it [00:00,  7.95it/s, loss=-189]"
          ]
        },
        {
          "metadata": {
            "tags": null
          },
          "name": "stdout",
          "output_type": "stream",
          "text": [
            "Epoch 143 & idx 0 with loss: -192.60784912109375\n"
          ]
        },
        {
          "metadata": {
            "tags": null
          },
          "name": "stderr",
          "output_type": "stream",
          "text": [
            "Epoch 144/300 : 100it [00:13,  7.59it/s, loss=-200]\n",
            "Epoch 145/300 : 2it [00:00,  7.37it/s, loss=-200]"
          ]
        },
        {
          "metadata": {
            "tags": null
          },
          "name": "stdout",
          "output_type": "stream",
          "text": [
            "Epoch 144 & idx 0 with loss: -189.4048309326172\n"
          ]
        },
        {
          "metadata": {
            "tags": null
          },
          "name": "stderr",
          "output_type": "stream",
          "text": [
            "Epoch 145/300 : 100it [00:13,  7.52it/s, loss=-201]\n",
            "Epoch 146/300 : 2it [00:00,  7.90it/s, loss=-200]"
          ]
        },
        {
          "metadata": {
            "tags": null
          },
          "name": "stdout",
          "output_type": "stream",
          "text": [
            "Epoch 145 & idx 0 with loss: -193.46347045898438\n"
          ]
        },
        {
          "metadata": {
            "tags": null
          },
          "name": "stderr",
          "output_type": "stream",
          "text": [
            "Epoch 146/300 : 100it [00:13,  7.43it/s, loss=-201]\n",
            "Epoch 147/300 : 2it [00:00,  7.49it/s, loss=-184]"
          ]
        },
        {
          "metadata": {
            "tags": null
          },
          "name": "stdout",
          "output_type": "stream",
          "text": [
            "Epoch 146 & idx 0 with loss: -187.83111572265625\n"
          ]
        },
        {
          "metadata": {
            "tags": null
          },
          "name": "stderr",
          "output_type": "stream",
          "text": [
            "Epoch 147/300 : 100it [00:13,  7.44it/s, loss=-201]\n",
            "Epoch 148/300 : 2it [00:00,  8.48it/s, loss=-199]"
          ]
        },
        {
          "metadata": {
            "tags": null
          },
          "name": "stdout",
          "output_type": "stream",
          "text": [
            "Epoch 147 & idx 0 with loss: -213.8790740966797\n"
          ]
        },
        {
          "metadata": {
            "tags": null
          },
          "name": "stderr",
          "output_type": "stream",
          "text": [
            "Epoch 148/300 : 100it [00:13,  7.47it/s, loss=-202]\n",
            "Epoch 149/300 : 2it [00:00,  8.62it/s, loss=-209]"
          ]
        },
        {
          "metadata": {
            "tags": null
          },
          "name": "stdout",
          "output_type": "stream",
          "text": [
            "Epoch 148 & idx 0 with loss: -205.21902465820312\n"
          ]
        },
        {
          "metadata": {
            "tags": null
          },
          "name": "stderr",
          "output_type": "stream",
          "text": [
            "Epoch 149/300 : 100it [00:13,  7.28it/s, loss=-203]\n",
            "Epoch 150/300 : 2it [00:00,  6.05it/s, loss=-195]"
          ]
        },
        {
          "metadata": {
            "tags": null
          },
          "name": "stdout",
          "output_type": "stream",
          "text": [
            "Epoch 149 & idx 0 with loss: -188.8541259765625\n"
          ]
        },
        {
          "metadata": {
            "tags": null
          },
          "name": "stderr",
          "output_type": "stream",
          "text": [
            "Epoch 150/300 : 100it [00:13,  7.25it/s, loss=-201]\n",
            "Epoch 151/300 : 2it [00:00,  8.15it/s, loss=-209]"
          ]
        },
        {
          "metadata": {
            "tags": null
          },
          "name": "stdout",
          "output_type": "stream",
          "text": [
            "Epoch 150 & idx 0 with loss: -198.26791381835938\n"
          ]
        },
        {
          "metadata": {
            "tags": null
          },
          "name": "stderr",
          "output_type": "stream",
          "text": [
            "Epoch 151/300 : 100it [00:13,  7.54it/s, loss=-202]\n",
            "Epoch 152/300 : 2it [00:00,  8.36it/s, loss=-202]"
          ]
        },
        {
          "metadata": {
            "tags": null
          },
          "name": "stdout",
          "output_type": "stream",
          "text": [
            "Epoch 151 & idx 0 with loss: -205.54330444335938\n"
          ]
        },
        {
          "metadata": {
            "tags": null
          },
          "name": "stderr",
          "output_type": "stream",
          "text": [
            "Epoch 152/300 : 100it [00:13,  7.52it/s, loss=-204]\n",
            "Epoch 153/300 : 2it [00:00,  7.21it/s, loss=-199]"
          ]
        },
        {
          "metadata": {
            "tags": null
          },
          "name": "stdout",
          "output_type": "stream",
          "text": [
            "Epoch 152 & idx 0 with loss: -202.43646240234375\n"
          ]
        },
        {
          "metadata": {
            "tags": null
          },
          "name": "stderr",
          "output_type": "stream",
          "text": [
            "Epoch 153/300 : 100it [00:13,  7.62it/s, loss=-199]\n",
            "Epoch 154/300 : 2it [00:00,  7.80it/s, loss=-190]"
          ]
        },
        {
          "metadata": {
            "tags": null
          },
          "name": "stdout",
          "output_type": "stream",
          "text": [
            "Epoch 153 & idx 0 with loss: -194.09352111816406\n"
          ]
        },
        {
          "metadata": {
            "tags": null
          },
          "name": "stderr",
          "output_type": "stream",
          "text": [
            "Epoch 154/300 : 100it [00:13,  7.54it/s, loss=-203]\n",
            "Epoch 155/300 : 2it [00:00,  7.97it/s, loss=-201]"
          ]
        },
        {
          "metadata": {
            "tags": null
          },
          "name": "stdout",
          "output_type": "stream",
          "text": [
            "Epoch 154 & idx 0 with loss: -195.85760498046875\n"
          ]
        },
        {
          "metadata": {
            "tags": null
          },
          "name": "stderr",
          "output_type": "stream",
          "text": [
            "Epoch 155/300 : 100it [00:13,  7.61it/s, loss=-203]\n",
            "Epoch 156/300 : 2it [00:00,  7.58it/s, loss=-205]"
          ]
        },
        {
          "metadata": {
            "tags": null
          },
          "name": "stdout",
          "output_type": "stream",
          "text": [
            "Epoch 155 & idx 0 with loss: -200.29978942871094\n"
          ]
        },
        {
          "metadata": {
            "tags": null
          },
          "name": "stderr",
          "output_type": "stream",
          "text": [
            "Epoch 156/300 : 100it [00:13,  7.60it/s, loss=-202]\n",
            "Epoch 157/300 : 2it [00:00,  8.28it/s, loss=-205]"
          ]
        },
        {
          "metadata": {
            "tags": null
          },
          "name": "stdout",
          "output_type": "stream",
          "text": [
            "Epoch 156 & idx 0 with loss: -215.5221405029297\n"
          ]
        },
        {
          "metadata": {
            "tags": null
          },
          "name": "stderr",
          "output_type": "stream",
          "text": [
            "Epoch 157/300 : 100it [00:13,  7.53it/s, loss=-201]\n",
            "Epoch 158/300 : 2it [00:00,  7.98it/s, loss=-201]"
          ]
        },
        {
          "metadata": {
            "tags": null
          },
          "name": "stdout",
          "output_type": "stream",
          "text": [
            "Epoch 157 & idx 0 with loss: -200.81935119628906\n"
          ]
        },
        {
          "metadata": {
            "tags": null
          },
          "name": "stderr",
          "output_type": "stream",
          "text": [
            "Epoch 158/300 : 100it [00:13,  7.59it/s, loss=-201]\n",
            "Epoch 159/300 : 2it [00:00,  8.40it/s, loss=-186]"
          ]
        },
        {
          "metadata": {
            "tags": null
          },
          "name": "stdout",
          "output_type": "stream",
          "text": [
            "Epoch 158 & idx 0 with loss: -191.52877807617188\n"
          ]
        },
        {
          "metadata": {
            "tags": null
          },
          "name": "stderr",
          "output_type": "stream",
          "text": [
            "Epoch 159/300 : 100it [00:13,  7.62it/s, loss=-202]\n",
            "Epoch 160/300 : 2it [00:00,  7.57it/s, loss=-202]"
          ]
        },
        {
          "metadata": {
            "tags": null
          },
          "name": "stdout",
          "output_type": "stream",
          "text": [
            "Epoch 159 & idx 0 with loss: -205.09507751464844\n"
          ]
        },
        {
          "metadata": {
            "tags": null
          },
          "name": "stderr",
          "output_type": "stream",
          "text": [
            "Epoch 160/300 : 100it [00:13,  7.56it/s, loss=-202]\n",
            "Epoch 161/300 : 2it [00:00,  7.96it/s, loss=-212]"
          ]
        },
        {
          "metadata": {
            "tags": null
          },
          "name": "stdout",
          "output_type": "stream",
          "text": [
            "Epoch 160 & idx 0 with loss: -206.3645477294922\n"
          ]
        },
        {
          "metadata": {
            "tags": null
          },
          "name": "stderr",
          "output_type": "stream",
          "text": [
            "Epoch 161/300 : 100it [00:13,  7.40it/s, loss=-199]\n",
            "Epoch 162/300 : 2it [00:00,  5.80it/s, loss=-200]"
          ]
        },
        {
          "metadata": {
            "tags": null
          },
          "name": "stdout",
          "output_type": "stream",
          "text": [
            "Epoch 161 & idx 0 with loss: -197.47637939453125\n"
          ]
        },
        {
          "metadata": {
            "tags": null
          },
          "name": "stderr",
          "output_type": "stream",
          "text": [
            "Epoch 162/300 : 100it [00:13,  7.25it/s, loss=-202]\n",
            "Epoch 163/300 : 2it [00:00,  7.61it/s, loss=-199]"
          ]
        },
        {
          "metadata": {
            "tags": null
          },
          "name": "stdout",
          "output_type": "stream",
          "text": [
            "Epoch 162 & idx 0 with loss: -207.1769256591797\n"
          ]
        },
        {
          "metadata": {
            "tags": null
          },
          "name": "stderr",
          "output_type": "stream",
          "text": [
            "Epoch 163/300 : 100it [00:13,  7.51it/s, loss=-201]\n",
            "Epoch 164/300 : 2it [00:00,  7.64it/s, loss=-203]"
          ]
        },
        {
          "metadata": {
            "tags": null
          },
          "name": "stdout",
          "output_type": "stream",
          "text": [
            "Epoch 163 & idx 0 with loss: -203.05633544921875\n"
          ]
        },
        {
          "metadata": {
            "tags": null
          },
          "name": "stderr",
          "output_type": "stream",
          "text": [
            "Epoch 164/300 : 100it [00:13,  7.56it/s, loss=-202]\n",
            "Epoch 165/300 : 2it [00:00,  7.24it/s, loss=-218]"
          ]
        },
        {
          "metadata": {
            "tags": null
          },
          "name": "stdout",
          "output_type": "stream",
          "text": [
            "Epoch 164 & idx 0 with loss: -226.20361328125\n"
          ]
        },
        {
          "metadata": {
            "tags": null
          },
          "name": "stderr",
          "output_type": "stream",
          "text": [
            "Epoch 165/300 : 100it [00:13,  7.51it/s, loss=-203]\n",
            "Epoch 166/300 : 2it [00:00,  8.53it/s, loss=-201]"
          ]
        },
        {
          "metadata": {
            "tags": null
          },
          "name": "stdout",
          "output_type": "stream",
          "text": [
            "Epoch 165 & idx 0 with loss: -197.4124298095703\n"
          ]
        },
        {
          "metadata": {
            "tags": null
          },
          "name": "stderr",
          "output_type": "stream",
          "text": [
            "Epoch 166/300 : 100it [00:13,  7.49it/s, loss=-201]\n",
            "Epoch 167/300 : 2it [00:00,  7.32it/s, loss=-210]"
          ]
        },
        {
          "metadata": {
            "tags": null
          },
          "name": "stdout",
          "output_type": "stream",
          "text": [
            "Epoch 166 & idx 0 with loss: -206.5496826171875\n"
          ]
        },
        {
          "metadata": {
            "tags": null
          },
          "name": "stderr",
          "output_type": "stream",
          "text": [
            "Epoch 167/300 : 100it [00:13,  7.56it/s, loss=-201]\n",
            "Epoch 168/300 : 2it [00:00,  7.62it/s, loss=-205]"
          ]
        },
        {
          "metadata": {
            "tags": null
          },
          "name": "stdout",
          "output_type": "stream",
          "text": [
            "Epoch 167 & idx 0 with loss: -212.47314453125\n"
          ]
        },
        {
          "metadata": {
            "tags": null
          },
          "name": "stderr",
          "output_type": "stream",
          "text": [
            "Epoch 168/300 : 100it [00:13,  7.63it/s, loss=-203]\n",
            "Epoch 169/300 : 2it [00:00,  8.27it/s, loss=-200]"
          ]
        },
        {
          "metadata": {
            "tags": null
          },
          "name": "stdout",
          "output_type": "stream",
          "text": [
            "Epoch 168 & idx 0 with loss: -206.31398010253906\n"
          ]
        },
        {
          "metadata": {
            "tags": null
          },
          "name": "stderr",
          "output_type": "stream",
          "text": [
            "Epoch 169/300 : 100it [00:13,  7.52it/s, loss=-201]\n",
            "Epoch 170/300 : 2it [00:00,  7.22it/s, loss=-195]"
          ]
        },
        {
          "metadata": {
            "tags": null
          },
          "name": "stdout",
          "output_type": "stream",
          "text": [
            "Epoch 169 & idx 0 with loss: -198.5611114501953\n"
          ]
        },
        {
          "metadata": {
            "tags": null
          },
          "name": "stderr",
          "output_type": "stream",
          "text": [
            "Epoch 170/300 : 100it [00:13,  7.50it/s, loss=-204]\n",
            "Epoch 171/300 : 2it [00:00,  8.36it/s, loss=-202]"
          ]
        },
        {
          "metadata": {
            "tags": null
          },
          "name": "stdout",
          "output_type": "stream",
          "text": [
            "Epoch 170 & idx 0 with loss: -196.55661010742188\n"
          ]
        },
        {
          "metadata": {
            "tags": null
          },
          "name": "stderr",
          "output_type": "stream",
          "text": [
            "Epoch 171/300 : 100it [00:13,  7.63it/s, loss=-203]\n",
            "Epoch 172/300 : 2it [00:00,  7.35it/s, loss=-203]"
          ]
        },
        {
          "metadata": {
            "tags": null
          },
          "name": "stdout",
          "output_type": "stream",
          "text": [
            "Epoch 171 & idx 0 with loss: -186.60931396484375\n"
          ]
        },
        {
          "metadata": {
            "tags": null
          },
          "name": "stderr",
          "output_type": "stream",
          "text": [
            "Epoch 172/300 : 100it [00:13,  7.50it/s, loss=-202]\n",
            "Epoch 173/300 : 2it [00:00,  7.84it/s, loss=-191]"
          ]
        },
        {
          "metadata": {
            "tags": null
          },
          "name": "stdout",
          "output_type": "stream",
          "text": [
            "Epoch 172 & idx 0 with loss: -203.61923217773438\n"
          ]
        },
        {
          "metadata": {
            "tags": null
          },
          "name": "stderr",
          "output_type": "stream",
          "text": [
            "Epoch 173/300 : 100it [00:13,  7.40it/s, loss=-203]\n",
            "Epoch 174/300 : 2it [00:00,  6.16it/s, loss=-190]"
          ]
        },
        {
          "metadata": {
            "tags": null
          },
          "name": "stdout",
          "output_type": "stream",
          "text": [
            "Epoch 173 & idx 0 with loss: -200.44430541992188\n"
          ]
        },
        {
          "metadata": {
            "tags": null
          },
          "name": "stderr",
          "output_type": "stream",
          "text": [
            "Epoch 174/300 : 100it [00:13,  7.19it/s, loss=-201]\n",
            "Epoch 175/300 : 2it [00:00,  7.67it/s, loss=-207]"
          ]
        },
        {
          "metadata": {
            "tags": null
          },
          "name": "stdout",
          "output_type": "stream",
          "text": [
            "Epoch 174 & idx 0 with loss: -205.83978271484375\n"
          ]
        },
        {
          "metadata": {
            "tags": null
          },
          "name": "stderr",
          "output_type": "stream",
          "text": [
            "Epoch 175/300 : 100it [00:13,  7.48it/s, loss=-204]\n",
            "Epoch 176/300 : 2it [00:00,  7.85it/s, loss=-198]"
          ]
        },
        {
          "metadata": {
            "tags": null
          },
          "name": "stdout",
          "output_type": "stream",
          "text": [
            "Epoch 175 & idx 0 with loss: -204.93585205078125\n"
          ]
        },
        {
          "metadata": {
            "tags": null
          },
          "name": "stderr",
          "output_type": "stream",
          "text": [
            "Epoch 176/300 : 100it [00:13,  7.53it/s, loss=-204]\n",
            "Epoch 177/300 : 2it [00:00,  7.31it/s, loss=-202]"
          ]
        },
        {
          "metadata": {
            "tags": null
          },
          "name": "stdout",
          "output_type": "stream",
          "text": [
            "Epoch 176 & idx 0 with loss: -189.55020141601562\n"
          ]
        },
        {
          "metadata": {
            "tags": null
          },
          "name": "stderr",
          "output_type": "stream",
          "text": [
            "Epoch 177/300 : 100it [00:13,  7.45it/s, loss=-202]\n",
            "Epoch 178/300 : 2it [00:00,  8.04it/s, loss=-208]"
          ]
        },
        {
          "metadata": {
            "tags": null
          },
          "name": "stdout",
          "output_type": "stream",
          "text": [
            "Epoch 177 & idx 0 with loss: -201.23301696777344\n"
          ]
        },
        {
          "metadata": {
            "tags": null
          },
          "name": "stderr",
          "output_type": "stream",
          "text": [
            "Epoch 178/300 : 100it [00:13,  7.59it/s, loss=-201]\n",
            "Epoch 179/300 : 2it [00:00,  7.02it/s, loss=-197]"
          ]
        },
        {
          "metadata": {
            "tags": null
          },
          "name": "stdout",
          "output_type": "stream",
          "text": [
            "Epoch 178 & idx 0 with loss: -201.7742462158203\n"
          ]
        },
        {
          "metadata": {
            "tags": null
          },
          "name": "stderr",
          "output_type": "stream",
          "text": [
            "Epoch 179/300 : 100it [00:13,  7.48it/s, loss=-202]\n",
            "Epoch 180/300 : 2it [00:00,  7.97it/s, loss=-148]"
          ]
        },
        {
          "metadata": {
            "tags": null
          },
          "name": "stdout",
          "output_type": "stream",
          "text": [
            "Epoch 179 & idx 0 with loss: -75.62073516845703\n"
          ]
        },
        {
          "metadata": {
            "tags": null
          },
          "name": "stderr",
          "output_type": "stream",
          "text": [
            "Epoch 180/300 : 100it [00:13,  7.39it/s, loss=-202]\n",
            "Epoch 181/300 : 2it [00:00,  7.76it/s, loss=-199]"
          ]
        },
        {
          "metadata": {
            "tags": null
          },
          "name": "stdout",
          "output_type": "stream",
          "text": [
            "Epoch 180 & idx 0 with loss: -201.1985321044922\n"
          ]
        },
        {
          "metadata": {
            "tags": null
          },
          "name": "stderr",
          "output_type": "stream",
          "text": [
            "Epoch 181/300 : 100it [00:13,  7.42it/s, loss=-201]\n",
            "Epoch 182/300 : 2it [00:00,  7.80it/s, loss=-192]"
          ]
        },
        {
          "metadata": {
            "tags": null
          },
          "name": "stdout",
          "output_type": "stream",
          "text": [
            "Epoch 181 & idx 0 with loss: -188.62294006347656\n"
          ]
        },
        {
          "metadata": {
            "tags": null
          },
          "name": "stderr",
          "output_type": "stream",
          "text": [
            "Epoch 182/300 : 100it [00:13,  7.49it/s, loss=-202]\n",
            "Epoch 183/300 : 2it [00:00,  7.77it/s, loss=-185]"
          ]
        },
        {
          "metadata": {
            "tags": null
          },
          "name": "stdout",
          "output_type": "stream",
          "text": [
            "Epoch 182 & idx 0 with loss: -176.29408264160156\n"
          ]
        },
        {
          "metadata": {
            "tags": null
          },
          "name": "stderr",
          "output_type": "stream",
          "text": [
            "Epoch 183/300 : 100it [00:13,  7.46it/s, loss=-203]\n",
            "Epoch 184/300 : 2it [00:00,  7.63it/s, loss=-202]"
          ]
        },
        {
          "metadata": {
            "tags": null
          },
          "name": "stdout",
          "output_type": "stream",
          "text": [
            "Epoch 183 & idx 0 with loss: -210.2281951904297\n"
          ]
        },
        {
          "metadata": {
            "tags": null
          },
          "name": "stderr",
          "output_type": "stream",
          "text": [
            "Epoch 184/300 : 100it [00:13,  7.36it/s, loss=-202]\n",
            "Epoch 185/300 : 2it [00:00,  6.23it/s, loss=-196]"
          ]
        },
        {
          "metadata": {
            "tags": null
          },
          "name": "stdout",
          "output_type": "stream",
          "text": [
            "Epoch 184 & idx 0 with loss: -198.40179443359375\n"
          ]
        },
        {
          "metadata": {
            "tags": null
          },
          "name": "stderr",
          "output_type": "stream",
          "text": [
            "Epoch 185/300 : 100it [00:13,  7.22it/s, loss=-202]\n",
            "Epoch 186/300 : 2it [00:00,  8.18it/s, loss=-198]"
          ]
        },
        {
          "metadata": {
            "tags": null
          },
          "name": "stdout",
          "output_type": "stream",
          "text": [
            "Epoch 185 & idx 0 with loss: -199.5662384033203\n"
          ]
        },
        {
          "metadata": {
            "tags": null
          },
          "name": "stderr",
          "output_type": "stream",
          "text": [
            "Epoch 186/300 : 100it [00:13,  7.48it/s, loss=-204]\n",
            "Epoch 187/300 : 2it [00:00,  7.91it/s, loss=-206]"
          ]
        },
        {
          "metadata": {
            "tags": null
          },
          "name": "stdout",
          "output_type": "stream",
          "text": [
            "Epoch 186 & idx 0 with loss: -202.98239135742188\n"
          ]
        },
        {
          "metadata": {
            "tags": null
          },
          "name": "stderr",
          "output_type": "stream",
          "text": [
            "Epoch 187/300 : 100it [00:13,  7.39it/s, loss=-203]\n",
            "Epoch 188/300 : 2it [00:00,  7.46it/s, loss=-200]"
          ]
        },
        {
          "metadata": {
            "tags": null
          },
          "name": "stdout",
          "output_type": "stream",
          "text": [
            "Epoch 187 & idx 0 with loss: -196.44515991210938\n"
          ]
        },
        {
          "metadata": {
            "tags": null
          },
          "name": "stderr",
          "output_type": "stream",
          "text": [
            "Epoch 188/300 : 100it [00:13,  7.39it/s, loss=-206]\n",
            "Epoch 189/300 : 2it [00:00,  7.44it/s, loss=-209]"
          ]
        },
        {
          "metadata": {
            "tags": null
          },
          "name": "stdout",
          "output_type": "stream",
          "text": [
            "Epoch 188 & idx 0 with loss: -208.7952423095703\n"
          ]
        },
        {
          "metadata": {
            "tags": null
          },
          "name": "stderr",
          "output_type": "stream",
          "text": [
            "Epoch 189/300 : 100it [00:13,  7.43it/s, loss=-205]\n",
            "Epoch 190/300 : 2it [00:00,  8.31it/s, loss=-204]"
          ]
        },
        {
          "metadata": {
            "tags": null
          },
          "name": "stdout",
          "output_type": "stream",
          "text": [
            "Epoch 189 & idx 0 with loss: -207.13780212402344\n"
          ]
        },
        {
          "metadata": {
            "tags": null
          },
          "name": "stderr",
          "output_type": "stream",
          "text": [
            "Epoch 190/300 : 100it [00:13,  7.43it/s, loss=-203]\n",
            "Epoch 191/300 : 2it [00:00,  7.58it/s, loss=-202]"
          ]
        },
        {
          "metadata": {
            "tags": null
          },
          "name": "stdout",
          "output_type": "stream",
          "text": [
            "Epoch 190 & idx 0 with loss: -205.19078063964844\n"
          ]
        },
        {
          "metadata": {
            "tags": null
          },
          "name": "stderr",
          "output_type": "stream",
          "text": [
            "Epoch 191/300 : 100it [00:13,  7.49it/s, loss=-205]\n",
            "Epoch 192/300 : 2it [00:00,  7.64it/s, loss=-205]"
          ]
        },
        {
          "metadata": {
            "tags": null
          },
          "name": "stdout",
          "output_type": "stream",
          "text": [
            "Epoch 191 & idx 0 with loss: -208.0011444091797\n"
          ]
        },
        {
          "metadata": {
            "tags": null
          },
          "name": "stderr",
          "output_type": "stream",
          "text": [
            "Epoch 192/300 : 100it [00:13,  7.41it/s, loss=-204]\n",
            "Epoch 193/300 : 2it [00:00,  7.35it/s, loss=-212]"
          ]
        },
        {
          "metadata": {
            "tags": null
          },
          "name": "stdout",
          "output_type": "stream",
          "text": [
            "Epoch 192 & idx 0 with loss: -219.9569091796875\n"
          ]
        },
        {
          "metadata": {
            "tags": null
          },
          "name": "stderr",
          "output_type": "stream",
          "text": [
            "Epoch 193/300 : 100it [00:13,  7.31it/s, loss=-201]\n",
            "Epoch 194/300 : 2it [00:00,  6.29it/s, loss=-208]"
          ]
        },
        {
          "metadata": {
            "tags": null
          },
          "name": "stdout",
          "output_type": "stream",
          "text": [
            "Epoch 193 & idx 0 with loss: -205.82489013671875\n"
          ]
        },
        {
          "metadata": {
            "tags": null
          },
          "name": "stderr",
          "output_type": "stream",
          "text": [
            "Epoch 194/300 : 100it [00:13,  7.15it/s, loss=-204]\n",
            "Epoch 195/300 : 2it [00:00,  5.22it/s, loss=-205]"
          ]
        },
        {
          "metadata": {
            "tags": null
          },
          "name": "stdout",
          "output_type": "stream",
          "text": [
            "Epoch 194 & idx 0 with loss: -197.42791748046875\n"
          ]
        },
        {
          "metadata": {
            "tags": null
          },
          "name": "stderr",
          "output_type": "stream",
          "text": [
            "Epoch 195/300 : 100it [00:13,  7.26it/s, loss=-201]\n",
            "Epoch 196/300 : 2it [00:00,  7.88it/s, loss=-213]"
          ]
        },
        {
          "metadata": {
            "tags": null
          },
          "name": "stdout",
          "output_type": "stream",
          "text": [
            "Epoch 195 & idx 0 with loss: -201.50088500976562\n"
          ]
        },
        {
          "metadata": {
            "tags": null
          },
          "name": "stderr",
          "output_type": "stream",
          "text": [
            "Epoch 196/300 : 100it [00:13,  7.45it/s, loss=-204]\n",
            "Epoch 197/300 : 2it [00:00,  7.65it/s, loss=-206]"
          ]
        },
        {
          "metadata": {
            "tags": null
          },
          "name": "stdout",
          "output_type": "stream",
          "text": [
            "Epoch 196 & idx 0 with loss: -201.98475646972656\n"
          ]
        },
        {
          "metadata": {
            "tags": null
          },
          "name": "stderr",
          "output_type": "stream",
          "text": [
            "Epoch 197/300 : 100it [00:13,  7.52it/s, loss=-203]\n",
            "Epoch 198/300 : 2it [00:00,  7.55it/s, loss=-204]"
          ]
        },
        {
          "metadata": {
            "tags": null
          },
          "name": "stdout",
          "output_type": "stream",
          "text": [
            "Epoch 197 & idx 0 with loss: -196.41775512695312\n"
          ]
        },
        {
          "metadata": {
            "tags": null
          },
          "name": "stderr",
          "output_type": "stream",
          "text": [
            "Epoch 198/300 : 100it [00:13,  7.57it/s, loss=-202]\n",
            "Epoch 199/300 : 2it [00:00,  6.65it/s, loss=-206]"
          ]
        },
        {
          "metadata": {
            "tags": null
          },
          "name": "stdout",
          "output_type": "stream",
          "text": [
            "Epoch 198 & idx 0 with loss: -200.0402374267578\n"
          ]
        },
        {
          "metadata": {
            "tags": null
          },
          "name": "stderr",
          "output_type": "stream",
          "text": [
            "Epoch 199/300 : 100it [00:13,  7.46it/s, loss=-206]\n",
            "Epoch 200/300 : 2it [00:00,  6.99it/s, loss=-195]"
          ]
        },
        {
          "metadata": {
            "tags": null
          },
          "name": "stdout",
          "output_type": "stream",
          "text": [
            "Epoch 199 & idx 0 with loss: -207.8160400390625\n"
          ]
        },
        {
          "metadata": {
            "tags": null
          },
          "name": "stderr",
          "output_type": "stream",
          "text": [
            "Epoch 200/300 : 100it [00:13,  7.55it/s, loss=-205]\n",
            "Epoch 201/300 : 2it [00:00,  6.92it/s, loss=-195]"
          ]
        },
        {
          "metadata": {
            "tags": null
          },
          "name": "stdout",
          "output_type": "stream",
          "text": [
            "Epoch 200 & idx 0 with loss: -187.7227783203125\n"
          ]
        },
        {
          "metadata": {
            "tags": null
          },
          "name": "stderr",
          "output_type": "stream",
          "text": [
            "Epoch 201/300 : 100it [00:13,  7.43it/s, loss=-204]\n",
            "Epoch 202/300 : 2it [00:00,  8.05it/s, loss=-200]"
          ]
        },
        {
          "metadata": {
            "tags": null
          },
          "name": "stdout",
          "output_type": "stream",
          "text": [
            "Epoch 201 & idx 0 with loss: -197.01806640625\n"
          ]
        },
        {
          "metadata": {
            "tags": null
          },
          "name": "stderr",
          "output_type": "stream",
          "text": [
            "Epoch 202/300 : 100it [00:13,  7.48it/s, loss=-205]\n",
            "Epoch 203/300 : 2it [00:00,  8.28it/s, loss=-210]"
          ]
        },
        {
          "metadata": {
            "tags": null
          },
          "name": "stdout",
          "output_type": "stream",
          "text": [
            "Epoch 202 & idx 0 with loss: -221.78427124023438\n"
          ]
        },
        {
          "metadata": {
            "tags": null
          },
          "name": "stderr",
          "output_type": "stream",
          "text": [
            "Epoch 203/300 : 100it [00:13,  7.39it/s, loss=-205]\n",
            "Epoch 204/300 : 2it [00:00,  7.34it/s, loss=-192]"
          ]
        },
        {
          "metadata": {
            "tags": null
          },
          "name": "stdout",
          "output_type": "stream",
          "text": [
            "Epoch 203 & idx 0 with loss: -189.34243774414062\n"
          ]
        },
        {
          "metadata": {
            "tags": null
          },
          "name": "stderr",
          "output_type": "stream",
          "text": [
            "Epoch 204/300 : 100it [00:13,  7.26it/s, loss=-204]\n",
            "Epoch 205/300 : 2it [00:00,  5.69it/s, loss=-203]"
          ]
        },
        {
          "metadata": {
            "tags": null
          },
          "name": "stdout",
          "output_type": "stream",
          "text": [
            "Epoch 204 & idx 0 with loss: -192.75559997558594\n"
          ]
        },
        {
          "metadata": {
            "tags": null
          },
          "name": "stderr",
          "output_type": "stream",
          "text": [
            "Epoch 205/300 : 100it [00:14,  7.12it/s, loss=-205]\n",
            "Epoch 206/300 : 2it [00:00,  7.04it/s, loss=-207]"
          ]
        },
        {
          "metadata": {
            "tags": null
          },
          "name": "stdout",
          "output_type": "stream",
          "text": [
            "Epoch 205 & idx 0 with loss: -200.0758819580078\n"
          ]
        },
        {
          "metadata": {
            "tags": null
          },
          "name": "stderr",
          "output_type": "stream",
          "text": [
            "Epoch 206/300 : 100it [00:13,  7.40it/s, loss=-203]\n",
            "Epoch 207/300 : 2it [00:00,  7.42it/s, loss=-206]"
          ]
        },
        {
          "metadata": {
            "tags": null
          },
          "name": "stdout",
          "output_type": "stream",
          "text": [
            "Epoch 206 & idx 0 with loss: -199.2603759765625\n"
          ]
        },
        {
          "metadata": {
            "tags": null
          },
          "name": "stderr",
          "output_type": "stream",
          "text": [
            "Epoch 207/300 : 100it [00:13,  7.36it/s, loss=-203]\n",
            "Epoch 208/300 : 2it [00:00,  7.72it/s, loss=-213]"
          ]
        },
        {
          "metadata": {
            "tags": null
          },
          "name": "stdout",
          "output_type": "stream",
          "text": [
            "Epoch 207 & idx 0 with loss: -211.5021209716797\n"
          ]
        },
        {
          "metadata": {
            "tags": null
          },
          "name": "stderr",
          "output_type": "stream",
          "text": [
            "Epoch 208/300 : 100it [00:13,  7.33it/s, loss=-203]\n",
            "Epoch 209/300 : 2it [00:00,  7.86it/s, loss=-207]"
          ]
        },
        {
          "metadata": {
            "tags": null
          },
          "name": "stdout",
          "output_type": "stream",
          "text": [
            "Epoch 208 & idx 0 with loss: -194.18557739257812\n"
          ]
        },
        {
          "metadata": {
            "tags": null
          },
          "name": "stderr",
          "output_type": "stream",
          "text": [
            "Epoch 209/300 : 100it [00:13,  7.35it/s, loss=-202]\n",
            "Epoch 210/300 : 2it [00:00,  7.46it/s, loss=-212]"
          ]
        },
        {
          "metadata": {
            "tags": null
          },
          "name": "stdout",
          "output_type": "stream",
          "text": [
            "Epoch 209 & idx 0 with loss: -204.74484252929688\n"
          ]
        },
        {
          "metadata": {
            "tags": null
          },
          "name": "stderr",
          "output_type": "stream",
          "text": [
            "Epoch 210/300 : 100it [00:13,  7.38it/s, loss=-204]\n",
            "Epoch 211/300 : 2it [00:00,  7.26it/s, loss=-217]"
          ]
        },
        {
          "metadata": {
            "tags": null
          },
          "name": "stdout",
          "output_type": "stream",
          "text": [
            "Epoch 210 & idx 0 with loss: -218.7223663330078\n"
          ]
        },
        {
          "metadata": {
            "tags": null
          },
          "name": "stderr",
          "output_type": "stream",
          "text": [
            "Epoch 211/300 : 100it [00:13,  7.26it/s, loss=-204]\n",
            "Epoch 212/300 : 2it [00:00,  7.55it/s, loss=-213]"
          ]
        },
        {
          "metadata": {
            "tags": null
          },
          "name": "stdout",
          "output_type": "stream",
          "text": [
            "Epoch 211 & idx 0 with loss: -205.39755249023438\n"
          ]
        },
        {
          "metadata": {
            "tags": null
          },
          "name": "stderr",
          "output_type": "stream",
          "text": [
            "Epoch 212/300 : 100it [00:13,  7.42it/s, loss=-204]\n",
            "Epoch 213/300 : 2it [00:00,  7.79it/s, loss=-195]"
          ]
        },
        {
          "metadata": {
            "tags": null
          },
          "name": "stdout",
          "output_type": "stream",
          "text": [
            "Epoch 212 & idx 0 with loss: -188.2412109375\n"
          ]
        },
        {
          "metadata": {
            "tags": null
          },
          "name": "stderr",
          "output_type": "stream",
          "text": [
            "Epoch 213/300 : 100it [00:13,  7.34it/s, loss=-202]\n",
            "Epoch 214/300 : 2it [00:00,  5.80it/s, loss=-196]"
          ]
        },
        {
          "metadata": {
            "tags": null
          },
          "name": "stdout",
          "output_type": "stream",
          "text": [
            "Epoch 213 & idx 0 with loss: -194.34548950195312\n"
          ]
        },
        {
          "metadata": {
            "tags": null
          },
          "name": "stderr",
          "output_type": "stream",
          "text": [
            "Epoch 214/300 : 100it [00:14,  7.14it/s, loss=-205]\n",
            "Epoch 215/300 : 1it [00:00,  5.92it/s, loss=-206]"
          ]
        },
        {
          "metadata": {
            "tags": null
          },
          "name": "stdout",
          "output_type": "stream",
          "text": [
            "Epoch 214 & idx 0 with loss: -206.67431640625\n"
          ]
        },
        {
          "metadata": {
            "tags": null
          },
          "name": "stderr",
          "output_type": "stream",
          "text": [
            "Epoch 215/300 : 100it [00:14,  7.13it/s, loss=-206]\n",
            "Epoch 216/300 : 2it [00:00,  7.17it/s, loss=-204]"
          ]
        },
        {
          "metadata": {
            "tags": null
          },
          "name": "stdout",
          "output_type": "stream",
          "text": [
            "Epoch 215 & idx 0 with loss: -195.6017303466797\n"
          ]
        },
        {
          "metadata": {
            "tags": null
          },
          "name": "stderr",
          "output_type": "stream",
          "text": [
            "Epoch 216/300 : 100it [00:13,  7.25it/s, loss=-203]\n",
            "Epoch 217/300 : 2it [00:00,  7.04it/s, loss=-208]"
          ]
        },
        {
          "metadata": {
            "tags": null
          },
          "name": "stdout",
          "output_type": "stream",
          "text": [
            "Epoch 216 & idx 0 with loss: -213.72088623046875\n"
          ]
        },
        {
          "metadata": {
            "tags": null
          },
          "name": "stderr",
          "output_type": "stream",
          "text": [
            "Epoch 217/300 : 100it [00:13,  7.53it/s, loss=-206]\n",
            "Epoch 218/300 : 2it [00:00,  7.04it/s, loss=-214]"
          ]
        },
        {
          "metadata": {
            "tags": null
          },
          "name": "stdout",
          "output_type": "stream",
          "text": [
            "Epoch 217 & idx 0 with loss: -217.9506072998047\n"
          ]
        },
        {
          "metadata": {
            "tags": null
          },
          "name": "stderr",
          "output_type": "stream",
          "text": [
            "Epoch 218/300 : 100it [00:13,  7.54it/s, loss=-201]\n",
            "Epoch 219/300 : 2it [00:00,  7.89it/s, loss=-213]"
          ]
        },
        {
          "metadata": {
            "tags": null
          },
          "name": "stdout",
          "output_type": "stream",
          "text": [
            "Epoch 218 & idx 0 with loss: -208.11331176757812\n"
          ]
        },
        {
          "metadata": {
            "tags": null
          },
          "name": "stderr",
          "output_type": "stream",
          "text": [
            "Epoch 219/300 : 100it [00:13,  7.52it/s, loss=-205]\n",
            "Epoch 220/300 : 2it [00:00,  8.34it/s, loss=-202]"
          ]
        },
        {
          "metadata": {
            "tags": null
          },
          "name": "stdout",
          "output_type": "stream",
          "text": [
            "Epoch 219 & idx 0 with loss: -219.64312744140625\n"
          ]
        },
        {
          "metadata": {
            "tags": null
          },
          "name": "stderr",
          "output_type": "stream",
          "text": [
            "Epoch 220/300 : 100it [00:13,  7.38it/s, loss=-206]\n",
            "Epoch 221/300 : 2it [00:00,  7.86it/s, loss=-210]"
          ]
        },
        {
          "metadata": {
            "tags": null
          },
          "name": "stdout",
          "output_type": "stream",
          "text": [
            "Epoch 220 & idx 0 with loss: -212.53076171875\n"
          ]
        },
        {
          "metadata": {
            "tags": null
          },
          "name": "stderr",
          "output_type": "stream",
          "text": [
            "Epoch 221/300 : 100it [00:13,  7.43it/s, loss=-203]\n",
            "Epoch 222/300 : 2it [00:00,  7.67it/s, loss=-203]"
          ]
        },
        {
          "metadata": {
            "tags": null
          },
          "name": "stdout",
          "output_type": "stream",
          "text": [
            "Epoch 221 & idx 0 with loss: -207.40670776367188\n"
          ]
        },
        {
          "metadata": {
            "tags": null
          },
          "name": "stderr",
          "output_type": "stream",
          "text": [
            "Epoch 222/300 : 100it [00:13,  7.49it/s, loss=-205]\n",
            "Epoch 223/300 : 2it [00:00,  8.04it/s, loss=-197]"
          ]
        },
        {
          "metadata": {
            "tags": null
          },
          "name": "stdout",
          "output_type": "stream",
          "text": [
            "Epoch 222 & idx 0 with loss: -191.5626983642578\n"
          ]
        },
        {
          "metadata": {
            "tags": null
          },
          "name": "stderr",
          "output_type": "stream",
          "text": [
            "Epoch 223/300 : 100it [00:13,  7.56it/s, loss=-204]\n",
            "Epoch 224/300 : 2it [00:00,  7.56it/s, loss=-212]"
          ]
        },
        {
          "metadata": {
            "tags": null
          },
          "name": "stdout",
          "output_type": "stream",
          "text": [
            "Epoch 223 & idx 0 with loss: -216.78408813476562\n"
          ]
        },
        {
          "metadata": {
            "tags": null
          },
          "name": "stderr",
          "output_type": "stream",
          "text": [
            "Epoch 224/300 : 100it [00:13,  7.18it/s, loss=-204]\n",
            "Epoch 225/300 : 2it [00:00,  5.37it/s, loss=-203]"
          ]
        },
        {
          "metadata": {
            "tags": null
          },
          "name": "stdout",
          "output_type": "stream",
          "text": [
            "Epoch 224 & idx 0 with loss: -209.79910278320312\n"
          ]
        },
        {
          "metadata": {
            "tags": null
          },
          "name": "stderr",
          "output_type": "stream",
          "text": [
            "Epoch 225/300 : 100it [00:13,  7.33it/s, loss=-204]\n",
            "Epoch 226/300 : 2it [00:00,  8.08it/s, loss=-205]"
          ]
        },
        {
          "metadata": {
            "tags": null
          },
          "name": "stdout",
          "output_type": "stream",
          "text": [
            "Epoch 225 & idx 0 with loss: -188.38909912109375\n"
          ]
        },
        {
          "metadata": {
            "tags": null
          },
          "name": "stderr",
          "output_type": "stream",
          "text": [
            "Epoch 226/300 : 100it [00:13,  7.29it/s, loss=-204]\n",
            "Epoch 227/300 : 2it [00:00,  7.64it/s, loss=-209]"
          ]
        },
        {
          "metadata": {
            "tags": null
          },
          "name": "stdout",
          "output_type": "stream",
          "text": [
            "Epoch 226 & idx 0 with loss: -208.38409423828125\n"
          ]
        },
        {
          "metadata": {
            "tags": null
          },
          "name": "stderr",
          "output_type": "stream",
          "text": [
            "Epoch 227/300 : 100it [00:13,  7.34it/s, loss=-204]\n",
            "Epoch 228/300 : 2it [00:00,  7.84it/s, loss=-206]"
          ]
        },
        {
          "metadata": {
            "tags": null
          },
          "name": "stdout",
          "output_type": "stream",
          "text": [
            "Epoch 227 & idx 0 with loss: -197.48043823242188\n"
          ]
        },
        {
          "metadata": {
            "tags": null
          },
          "name": "stderr",
          "output_type": "stream",
          "text": [
            "Epoch 228/300 : 100it [00:13,  7.25it/s, loss=-203]\n",
            "Epoch 229/300 : 2it [00:00,  7.66it/s, loss=-217]"
          ]
        },
        {
          "metadata": {
            "tags": null
          },
          "name": "stdout",
          "output_type": "stream",
          "text": [
            "Epoch 228 & idx 0 with loss: -217.81024169921875\n"
          ]
        },
        {
          "metadata": {
            "tags": null
          },
          "name": "stderr",
          "output_type": "stream",
          "text": [
            "Epoch 229/300 : 100it [00:13,  7.23it/s, loss=-205]\n",
            "Epoch 230/300 : 2it [00:00,  8.03it/s, loss=-202]"
          ]
        },
        {
          "metadata": {
            "tags": null
          },
          "name": "stdout",
          "output_type": "stream",
          "text": [
            "Epoch 229 & idx 0 with loss: -203.01710510253906\n"
          ]
        },
        {
          "metadata": {
            "tags": null
          },
          "name": "stderr",
          "output_type": "stream",
          "text": [
            "Epoch 230/300 : 100it [00:13,  7.25it/s, loss=-204]\n",
            "Epoch 231/300 : 2it [00:00,  7.74it/s, loss=-203]"
          ]
        },
        {
          "metadata": {
            "tags": null
          },
          "name": "stdout",
          "output_type": "stream",
          "text": [
            "Epoch 230 & idx 0 with loss: -200.1636505126953\n"
          ]
        },
        {
          "metadata": {
            "tags": null
          },
          "name": "stderr",
          "output_type": "stream",
          "text": [
            "Epoch 231/300 : 100it [00:13,  7.34it/s, loss=-204]\n",
            "Epoch 232/300 : 2it [00:00,  7.10it/s, loss=-213]"
          ]
        },
        {
          "metadata": {
            "tags": null
          },
          "name": "stdout",
          "output_type": "stream",
          "text": [
            "Epoch 231 & idx 0 with loss: -208.8829803466797\n"
          ]
        },
        {
          "metadata": {
            "tags": null
          },
          "name": "stderr",
          "output_type": "stream",
          "text": [
            "Epoch 232/300 : 100it [00:13,  7.27it/s, loss=-205]\n",
            "Epoch 233/300 : 2it [00:00,  5.98it/s, loss=-189]"
          ]
        },
        {
          "metadata": {
            "tags": null
          },
          "name": "stdout",
          "output_type": "stream",
          "text": [
            "Epoch 232 & idx 0 with loss: -209.346923828125\n"
          ]
        },
        {
          "metadata": {
            "tags": null
          },
          "name": "stderr",
          "output_type": "stream",
          "text": [
            "Epoch 233/300 : 100it [00:14,  7.01it/s, loss=-204]\n",
            "Epoch 234/300 : 1it [00:00,  6.83it/s, loss=-187]"
          ]
        },
        {
          "metadata": {
            "tags": null
          },
          "name": "stdout",
          "output_type": "stream",
          "text": [
            "Epoch 233 & idx 0 with loss: -177.76565551757812\n"
          ]
        },
        {
          "metadata": {
            "tags": null
          },
          "name": "stderr",
          "output_type": "stream",
          "text": [
            "Epoch 234/300 : 100it [00:13,  7.24it/s, loss=-205]\n",
            "Epoch 235/300 : 2it [00:00,  7.85it/s, loss=-222]"
          ]
        },
        {
          "metadata": {
            "tags": null
          },
          "name": "stdout",
          "output_type": "stream",
          "text": [
            "Epoch 234 & idx 0 with loss: -220.79470825195312\n"
          ]
        },
        {
          "metadata": {
            "tags": null
          },
          "name": "stderr",
          "output_type": "stream",
          "text": [
            "Epoch 235/300 : 100it [00:13,  7.36it/s, loss=-205]\n",
            "Epoch 236/300 : 2it [00:00,  7.60it/s, loss=-213]"
          ]
        },
        {
          "metadata": {
            "tags": null
          },
          "name": "stdout",
          "output_type": "stream",
          "text": [
            "Epoch 235 & idx 0 with loss: -207.45654296875\n"
          ]
        },
        {
          "metadata": {
            "tags": null
          },
          "name": "stderr",
          "output_type": "stream",
          "text": [
            "Epoch 236/300 : 100it [00:13,  7.23it/s, loss=-206]\n",
            "Epoch 237/300 : 2it [00:00,  8.03it/s, loss=-215]"
          ]
        },
        {
          "metadata": {
            "tags": null
          },
          "name": "stdout",
          "output_type": "stream",
          "text": [
            "Epoch 236 & idx 0 with loss: -220.09658813476562\n"
          ]
        },
        {
          "metadata": {
            "tags": null
          },
          "name": "stderr",
          "output_type": "stream",
          "text": [
            "Epoch 237/300 : 100it [00:13,  7.14it/s, loss=-204]\n",
            "Epoch 238/300 : 2it [00:00,  7.69it/s, loss=-201]"
          ]
        },
        {
          "metadata": {
            "tags": null
          },
          "name": "stdout",
          "output_type": "stream",
          "text": [
            "Epoch 237 & idx 0 with loss: -198.67481994628906\n"
          ]
        },
        {
          "metadata": {
            "tags": null
          },
          "name": "stderr",
          "output_type": "stream",
          "text": [
            "Epoch 238/300 : 100it [00:13,  7.19it/s, loss=-203]\n",
            "Epoch 239/300 : 2it [00:00,  6.61it/s, loss=-213]"
          ]
        },
        {
          "metadata": {
            "tags": null
          },
          "name": "stdout",
          "output_type": "stream",
          "text": [
            "Epoch 238 & idx 0 with loss: -214.00596618652344\n"
          ]
        },
        {
          "metadata": {
            "tags": null
          },
          "name": "stderr",
          "output_type": "stream",
          "text": [
            "Epoch 239/300 : 100it [00:14,  7.08it/s, loss=-202]\n",
            "Epoch 240/300 : 2it [00:00,  7.49it/s, loss=-189]"
          ]
        },
        {
          "metadata": {
            "tags": null
          },
          "name": "stdout",
          "output_type": "stream",
          "text": [
            "Epoch 239 & idx 0 with loss: -201.44036865234375\n"
          ]
        },
        {
          "metadata": {
            "tags": null
          },
          "name": "stderr",
          "output_type": "stream",
          "text": [
            "Epoch 240/300 : 100it [00:13,  7.21it/s, loss=-205]\n",
            "Epoch 241/300 : 2it [00:00,  6.68it/s, loss=-207]"
          ]
        },
        {
          "metadata": {
            "tags": null
          },
          "name": "stdout",
          "output_type": "stream",
          "text": [
            "Epoch 240 & idx 0 with loss: -214.9437713623047\n"
          ]
        },
        {
          "metadata": {
            "tags": null
          },
          "name": "stderr",
          "output_type": "stream",
          "text": [
            "Epoch 241/300 : 100it [00:14,  7.11it/s, loss=-204]\n",
            "Epoch 242/300 : 2it [00:00,  5.30it/s, loss=-208]"
          ]
        },
        {
          "metadata": {
            "tags": null
          },
          "name": "stdout",
          "output_type": "stream",
          "text": [
            "Epoch 241 & idx 0 with loss: -208.94760131835938\n"
          ]
        },
        {
          "metadata": {
            "tags": null
          },
          "name": "stderr",
          "output_type": "stream",
          "text": [
            "Epoch 242/300 : 100it [00:13,  7.23it/s, loss=-207]\n",
            "Epoch 243/300 : 2it [00:00,  7.93it/s, loss=-203]"
          ]
        },
        {
          "metadata": {
            "tags": null
          },
          "name": "stdout",
          "output_type": "stream",
          "text": [
            "Epoch 242 & idx 0 with loss: -207.79302978515625\n"
          ]
        },
        {
          "metadata": {
            "tags": null
          },
          "name": "stderr",
          "output_type": "stream",
          "text": [
            "Epoch 243/300 : 100it [00:13,  7.31it/s, loss=-205]\n",
            "Epoch 244/300 : 2it [00:00,  8.13it/s, loss=-195]"
          ]
        },
        {
          "metadata": {
            "tags": null
          },
          "name": "stdout",
          "output_type": "stream",
          "text": [
            "Epoch 243 & idx 0 with loss: -187.66134643554688\n"
          ]
        },
        {
          "metadata": {
            "tags": null
          },
          "name": "stderr",
          "output_type": "stream",
          "text": [
            "Epoch 244/300 : 100it [00:13,  7.44it/s, loss=-205]\n",
            "Epoch 245/300 : 2it [00:00,  7.91it/s, loss=-209]"
          ]
        },
        {
          "metadata": {
            "tags": null
          },
          "name": "stdout",
          "output_type": "stream",
          "text": [
            "Epoch 244 & idx 0 with loss: -214.4283447265625\n"
          ]
        },
        {
          "metadata": {
            "tags": null
          },
          "name": "stderr",
          "output_type": "stream",
          "text": [
            "Epoch 245/300 : 100it [00:13,  7.47it/s, loss=-204]\n",
            "Epoch 246/300 : 2it [00:00,  7.83it/s, loss=-205]"
          ]
        },
        {
          "metadata": {
            "tags": null
          },
          "name": "stdout",
          "output_type": "stream",
          "text": [
            "Epoch 245 & idx 0 with loss: -211.33139038085938\n"
          ]
        },
        {
          "metadata": {
            "tags": null
          },
          "name": "stderr",
          "output_type": "stream",
          "text": [
            "Epoch 246/300 : 100it [00:13,  7.51it/s, loss=-203]\n",
            "Epoch 247/300 : 2it [00:00,  7.78it/s, loss=-205]"
          ]
        },
        {
          "metadata": {
            "tags": null
          },
          "name": "stdout",
          "output_type": "stream",
          "text": [
            "Epoch 246 & idx 0 with loss: -203.37127685546875\n"
          ]
        },
        {
          "metadata": {
            "tags": null
          },
          "name": "stderr",
          "output_type": "stream",
          "text": [
            "Epoch 247/300 : 100it [00:13,  7.39it/s, loss=-205]\n",
            "Epoch 248/300 : 2it [00:00,  8.11it/s, loss=-199]"
          ]
        },
        {
          "metadata": {
            "tags": null
          },
          "name": "stdout",
          "output_type": "stream",
          "text": [
            "Epoch 247 & idx 0 with loss: -205.2075653076172\n"
          ]
        },
        {
          "metadata": {
            "tags": null
          },
          "name": "stderr",
          "output_type": "stream",
          "text": [
            "Epoch 248/300 : 100it [00:13,  7.49it/s, loss=-201]\n",
            "Epoch 249/300 : 2it [00:00,  7.71it/s, loss=-207]"
          ]
        },
        {
          "metadata": {
            "tags": null
          },
          "name": "stdout",
          "output_type": "stream",
          "text": [
            "Epoch 248 & idx 0 with loss: -210.40391540527344\n"
          ]
        },
        {
          "metadata": {
            "tags": null
          },
          "name": "stderr",
          "output_type": "stream",
          "text": [
            "Epoch 249/300 : 100it [00:13,  7.46it/s, loss=-205]\n",
            "Epoch 250/300 : 2it [00:00,  6.61it/s, loss=-200]"
          ]
        },
        {
          "metadata": {
            "tags": null
          },
          "name": "stdout",
          "output_type": "stream",
          "text": [
            "Epoch 249 & idx 0 with loss: -183.46792602539062\n"
          ]
        },
        {
          "metadata": {
            "tags": null
          },
          "name": "stderr",
          "output_type": "stream",
          "text": [
            "Epoch 250/300 : 100it [00:13,  7.47it/s, loss=-202]\n",
            "Epoch 251/300 : 2it [00:00,  7.76it/s, loss=-207]"
          ]
        },
        {
          "metadata": {
            "tags": null
          },
          "name": "stdout",
          "output_type": "stream",
          "text": [
            "Epoch 250 & idx 0 with loss: -203.58587646484375\n"
          ]
        },
        {
          "metadata": {
            "tags": null
          },
          "name": "stderr",
          "output_type": "stream",
          "text": [
            "Epoch 251/300 : 100it [00:13,  7.37it/s, loss=-201]\n",
            "Epoch 252/300 : 2it [00:00,  5.79it/s, loss=-203]"
          ]
        },
        {
          "metadata": {
            "tags": null
          },
          "name": "stdout",
          "output_type": "stream",
          "text": [
            "Epoch 251 & idx 0 with loss: -206.83538818359375\n"
          ]
        },
        {
          "metadata": {
            "tags": null
          },
          "name": "stderr",
          "output_type": "stream",
          "text": [
            "Epoch 252/300 : 100it [00:13,  7.23it/s, loss=-205]\n",
            "Epoch 253/300 : 2it [00:00,  7.70it/s, loss=-204]"
          ]
        },
        {
          "metadata": {
            "tags": null
          },
          "name": "stdout",
          "output_type": "stream",
          "text": [
            "Epoch 252 & idx 0 with loss: -200.93972778320312\n"
          ]
        },
        {
          "metadata": {
            "tags": null
          },
          "name": "stderr",
          "output_type": "stream",
          "text": [
            "Epoch 253/300 : 100it [00:13,  7.31it/s, loss=-206]\n",
            "Epoch 254/300 : 2it [00:00,  7.70it/s, loss=-203]"
          ]
        },
        {
          "metadata": {
            "tags": null
          },
          "name": "stdout",
          "output_type": "stream",
          "text": [
            "Epoch 253 & idx 0 with loss: -208.8294219970703\n"
          ]
        },
        {
          "metadata": {
            "tags": null
          },
          "name": "stderr",
          "output_type": "stream",
          "text": [
            "Epoch 254/300 : 100it [00:13,  7.36it/s, loss=-206]\n",
            "Epoch 255/300 : 2it [00:00,  7.79it/s, loss=-202]"
          ]
        },
        {
          "metadata": {
            "tags": null
          },
          "name": "stdout",
          "output_type": "stream",
          "text": [
            "Epoch 254 & idx 0 with loss: -199.9799346923828\n"
          ]
        },
        {
          "metadata": {
            "tags": null
          },
          "name": "stderr",
          "output_type": "stream",
          "text": [
            "Epoch 255/300 : 100it [00:13,  7.33it/s, loss=-208]\n",
            "Epoch 256/300 : 2it [00:00,  7.68it/s, loss=-207]"
          ]
        },
        {
          "metadata": {
            "tags": null
          },
          "name": "stdout",
          "output_type": "stream",
          "text": [
            "Epoch 255 & idx 0 with loss: -212.27484130859375\n"
          ]
        },
        {
          "metadata": {
            "tags": null
          },
          "name": "stderr",
          "output_type": "stream",
          "text": [
            "Epoch 256/300 : 100it [00:13,  7.33it/s, loss=-205]\n",
            "Epoch 257/300 : 2it [00:00,  7.96it/s, loss=-209]"
          ]
        },
        {
          "metadata": {
            "tags": null
          },
          "name": "stdout",
          "output_type": "stream",
          "text": [
            "Epoch 256 & idx 0 with loss: -216.46534729003906\n"
          ]
        },
        {
          "metadata": {
            "tags": null
          },
          "name": "stderr",
          "output_type": "stream",
          "text": [
            "Epoch 257/300 : 100it [00:13,  7.44it/s, loss=-207]\n",
            "Epoch 258/300 : 2it [00:00,  7.95it/s, loss=-210]"
          ]
        },
        {
          "metadata": {
            "tags": null
          },
          "name": "stdout",
          "output_type": "stream",
          "text": [
            "Epoch 257 & idx 0 with loss: -205.24148559570312\n"
          ]
        },
        {
          "metadata": {
            "tags": null
          },
          "name": "stderr",
          "output_type": "stream",
          "text": [
            "Epoch 258/300 : 100it [00:13,  7.49it/s, loss=-203]\n",
            "Epoch 259/300 : 2it [00:00,  7.59it/s, loss=-205]"
          ]
        },
        {
          "metadata": {
            "tags": null
          },
          "name": "stdout",
          "output_type": "stream",
          "text": [
            "Epoch 258 & idx 0 with loss: -200.15174865722656\n"
          ]
        },
        {
          "metadata": {
            "tags": null
          },
          "name": "stderr",
          "output_type": "stream",
          "text": [
            "Epoch 259/300 : 100it [00:13,  7.32it/s, loss=-204]\n",
            "Epoch 260/300 : 2it [00:00,  7.61it/s, loss=-203]"
          ]
        },
        {
          "metadata": {
            "tags": null
          },
          "name": "stdout",
          "output_type": "stream",
          "text": [
            "Epoch 259 & idx 0 with loss: -203.23829650878906\n"
          ]
        },
        {
          "metadata": {
            "tags": null
          },
          "name": "stderr",
          "output_type": "stream",
          "text": [
            "Epoch 260/300 : 100it [00:13,  7.19it/s, loss=-208]\n",
            "Epoch 261/300 : 2it [00:00,  5.94it/s, loss=-204]"
          ]
        },
        {
          "metadata": {
            "tags": null
          },
          "name": "stdout",
          "output_type": "stream",
          "text": [
            "Epoch 260 & idx 0 with loss: -217.89572143554688\n"
          ]
        },
        {
          "metadata": {
            "tags": null
          },
          "name": "stderr",
          "output_type": "stream",
          "text": [
            "Epoch 261/300 : 100it [00:13,  7.16it/s, loss=-205]\n",
            "Epoch 262/300 : 2it [00:00,  7.15it/s, loss=-205]"
          ]
        },
        {
          "metadata": {
            "tags": null
          },
          "name": "stdout",
          "output_type": "stream",
          "text": [
            "Epoch 261 & idx 0 with loss: -205.05313110351562\n"
          ]
        },
        {
          "metadata": {
            "tags": null
          },
          "name": "stderr",
          "output_type": "stream",
          "text": [
            "Epoch 262/300 : 100it [00:13,  7.29it/s, loss=-205]\n",
            "Epoch 263/300 : 2it [00:00,  7.05it/s, loss=-213]"
          ]
        },
        {
          "metadata": {
            "tags": null
          },
          "name": "stdout",
          "output_type": "stream",
          "text": [
            "Epoch 262 & idx 0 with loss: -208.52316284179688\n"
          ]
        },
        {
          "metadata": {
            "tags": null
          },
          "name": "stderr",
          "output_type": "stream",
          "text": [
            "Epoch 263/300 : 100it [00:13,  7.50it/s, loss=-206]\n",
            "Epoch 264/300 : 2it [00:00,  8.24it/s, loss=-222]"
          ]
        },
        {
          "metadata": {
            "tags": null
          },
          "name": "stdout",
          "output_type": "stream",
          "text": [
            "Epoch 263 & idx 0 with loss: -217.88665771484375\n"
          ]
        },
        {
          "metadata": {
            "tags": null
          },
          "name": "stderr",
          "output_type": "stream",
          "text": [
            "Epoch 264/300 : 100it [00:13,  7.50it/s, loss=-205]\n",
            "Epoch 265/300 : 2it [00:00,  8.39it/s, loss=-200]"
          ]
        },
        {
          "metadata": {
            "tags": null
          },
          "name": "stdout",
          "output_type": "stream",
          "text": [
            "Epoch 264 & idx 0 with loss: -203.47918701171875\n"
          ]
        },
        {
          "metadata": {
            "tags": null
          },
          "name": "stderr",
          "output_type": "stream",
          "text": [
            "Epoch 265/300 : 100it [00:13,  7.43it/s, loss=-208]\n",
            "Epoch 266/300 : 2it [00:00,  7.74it/s, loss=-199]"
          ]
        },
        {
          "metadata": {
            "tags": null
          },
          "name": "stdout",
          "output_type": "stream",
          "text": [
            "Epoch 265 & idx 0 with loss: -197.29898071289062\n"
          ]
        },
        {
          "metadata": {
            "tags": null
          },
          "name": "stderr",
          "output_type": "stream",
          "text": [
            "Epoch 266/300 : 100it [00:13,  7.48it/s, loss=-205]\n",
            "Epoch 267/300 : 2it [00:00,  7.48it/s, loss=-207]"
          ]
        },
        {
          "metadata": {
            "tags": null
          },
          "name": "stdout",
          "output_type": "stream",
          "text": [
            "Epoch 266 & idx 0 with loss: -208.86764526367188\n"
          ]
        },
        {
          "metadata": {
            "tags": null
          },
          "name": "stderr",
          "output_type": "stream",
          "text": [
            "Epoch 267/300 : 100it [00:13,  7.39it/s, loss=-208]\n",
            "Epoch 268/300 : 2it [00:00,  7.98it/s, loss=-195]"
          ]
        },
        {
          "metadata": {
            "tags": null
          },
          "name": "stdout",
          "output_type": "stream",
          "text": [
            "Epoch 267 & idx 0 with loss: -210.8929443359375\n"
          ]
        },
        {
          "metadata": {
            "tags": null
          },
          "name": "stderr",
          "output_type": "stream",
          "text": [
            "Epoch 268/300 : 100it [00:13,  7.32it/s, loss=-204]\n",
            "Epoch 269/300 : 2it [00:00,  8.04it/s, loss=-200]"
          ]
        },
        {
          "metadata": {
            "tags": null
          },
          "name": "stdout",
          "output_type": "stream",
          "text": [
            "Epoch 268 & idx 0 with loss: -203.80819702148438\n"
          ]
        },
        {
          "metadata": {
            "tags": null
          },
          "name": "stderr",
          "output_type": "stream",
          "text": [
            "Epoch 269/300 : 100it [00:13,  7.42it/s, loss=-204]\n",
            "Epoch 270/300 : 2it [00:00,  7.32it/s, loss=-201]"
          ]
        },
        {
          "metadata": {
            "tags": null
          },
          "name": "stdout",
          "output_type": "stream",
          "text": [
            "Epoch 269 & idx 0 with loss: -196.21688842773438\n"
          ]
        },
        {
          "metadata": {
            "tags": null
          },
          "name": "stderr",
          "output_type": "stream",
          "text": [
            "Epoch 270/300 : 100it [00:13,  7.50it/s, loss=-204]\n",
            "Epoch 271/300 : 2it [00:00,  5.30it/s, loss=-202]"
          ]
        },
        {
          "metadata": {
            "tags": null
          },
          "name": "stdout",
          "output_type": "stream",
          "text": [
            "Epoch 270 & idx 0 with loss: -190.37069702148438\n"
          ]
        },
        {
          "metadata": {
            "tags": null
          },
          "name": "stderr",
          "output_type": "stream",
          "text": [
            "Epoch 271/300 : 100it [00:13,  7.20it/s, loss=-205]\n",
            "Epoch 272/300 : 2it [00:00,  5.39it/s, loss=-205]"
          ]
        },
        {
          "metadata": {
            "tags": null
          },
          "name": "stdout",
          "output_type": "stream",
          "text": [
            "Epoch 271 & idx 0 with loss: -213.04676818847656\n"
          ]
        },
        {
          "metadata": {
            "tags": null
          },
          "name": "stderr",
          "output_type": "stream",
          "text": [
            "Epoch 272/300 : 100it [00:13,  7.33it/s, loss=-204]\n",
            "Epoch 273/300 : 2it [00:00,  7.51it/s, loss=-212]"
          ]
        },
        {
          "metadata": {
            "tags": null
          },
          "name": "stdout",
          "output_type": "stream",
          "text": [
            "Epoch 272 & idx 0 with loss: -217.27734375\n"
          ]
        },
        {
          "metadata": {
            "tags": null
          },
          "name": "stderr",
          "output_type": "stream",
          "text": [
            "Epoch 273/300 : 100it [00:13,  7.46it/s, loss=-204]\n",
            "Epoch 274/300 : 2it [00:00,  8.04it/s, loss=-202]"
          ]
        },
        {
          "metadata": {
            "tags": null
          },
          "name": "stdout",
          "output_type": "stream",
          "text": [
            "Epoch 273 & idx 0 with loss: -196.63690185546875\n"
          ]
        },
        {
          "metadata": {
            "tags": null
          },
          "name": "stderr",
          "output_type": "stream",
          "text": [
            "Epoch 274/300 : 100it [00:13,  7.41it/s, loss=-204]\n",
            "Epoch 275/300 : 2it [00:00,  8.08it/s, loss=-206]"
          ]
        },
        {
          "metadata": {
            "tags": null
          },
          "name": "stdout",
          "output_type": "stream",
          "text": [
            "Epoch 274 & idx 0 with loss: -205.53848266601562\n"
          ]
        },
        {
          "metadata": {
            "tags": null
          },
          "name": "stderr",
          "output_type": "stream",
          "text": [
            "Epoch 275/300 : 100it [00:13,  7.54it/s, loss=-206]\n",
            "Epoch 276/300 : 2it [00:00,  8.06it/s, loss=-217]"
          ]
        },
        {
          "metadata": {
            "tags": null
          },
          "name": "stdout",
          "output_type": "stream",
          "text": [
            "Epoch 275 & idx 0 with loss: -213.97921752929688\n"
          ]
        },
        {
          "metadata": {
            "tags": null
          },
          "name": "stderr",
          "output_type": "stream",
          "text": [
            "Epoch 276/300 : 100it [00:13,  7.39it/s, loss=-207]\n",
            "Epoch 277/300 : 2it [00:00,  8.11it/s, loss=-214]"
          ]
        },
        {
          "metadata": {
            "tags": null
          },
          "name": "stdout",
          "output_type": "stream",
          "text": [
            "Epoch 276 & idx 0 with loss: -211.10098266601562\n"
          ]
        },
        {
          "metadata": {
            "tags": null
          },
          "name": "stderr",
          "output_type": "stream",
          "text": [
            "Epoch 277/300 : 100it [00:13,  7.48it/s, loss=-206]\n",
            "Epoch 278/300 : 2it [00:00,  7.63it/s, loss=-197]"
          ]
        },
        {
          "metadata": {
            "tags": null
          },
          "name": "stdout",
          "output_type": "stream",
          "text": [
            "Epoch 277 & idx 0 with loss: -199.95217895507812\n"
          ]
        },
        {
          "metadata": {
            "tags": null
          },
          "name": "stderr",
          "output_type": "stream",
          "text": [
            "Epoch 278/300 : 100it [00:13,  7.30it/s, loss=-208]\n",
            "Epoch 279/300 : 2it [00:00,  7.42it/s, loss=-207]"
          ]
        },
        {
          "metadata": {
            "tags": null
          },
          "name": "stdout",
          "output_type": "stream",
          "text": [
            "Epoch 278 & idx 0 with loss: -211.05465698242188\n"
          ]
        },
        {
          "metadata": {
            "tags": null
          },
          "name": "stderr",
          "output_type": "stream",
          "text": [
            "Epoch 279/300 : 100it [00:13,  7.42it/s, loss=-206]\n",
            "Epoch 280/300 : 2it [00:00,  7.23it/s, loss=-221]"
          ]
        },
        {
          "metadata": {
            "tags": null
          },
          "name": "stdout",
          "output_type": "stream",
          "text": [
            "Epoch 279 & idx 0 with loss: -213.25502014160156\n"
          ]
        },
        {
          "metadata": {
            "tags": null
          },
          "name": "stderr",
          "output_type": "stream",
          "text": [
            "Epoch 280/300 : 100it [00:13,  7.39it/s, loss=-208]\n",
            "Epoch 281/300 : 2it [00:00,  7.04it/s, loss=-205]"
          ]
        },
        {
          "metadata": {
            "tags": null
          },
          "name": "stdout",
          "output_type": "stream",
          "text": [
            "Epoch 280 & idx 0 with loss: -201.23348999023438\n"
          ]
        },
        {
          "output_type": "stream",
          "name": "stderr",
          "text": [
            "Epoch 281/300 : 100it [00:14,  7.13it/s, loss=-204]\n",
            "Epoch 282/300 : 2it [00:00,  5.43it/s, loss=-211]"
          ]
        },
        {
          "output_type": "stream",
          "name": "stdout",
          "text": [
            "Epoch 281 & idx 0 with loss: -206.21768188476562\n"
          ]
        },
        {
          "output_type": "stream",
          "name": "stderr",
          "text": [
            "Epoch 282/300 : 100it [00:13,  7.26it/s, loss=-205]\n",
            "Epoch 283/300 : 2it [00:00,  7.47it/s, loss=-204]"
          ]
        },
        {
          "output_type": "stream",
          "name": "stdout",
          "text": [
            "Epoch 282 & idx 0 with loss: -198.66839599609375\n"
          ]
        },
        {
          "output_type": "stream",
          "name": "stderr",
          "text": [
            "Epoch 283/300 : 100it [00:13,  7.37it/s, loss=-205]\n",
            "Epoch 284/300 : 2it [00:00,  7.60it/s, loss=-209]"
          ]
        },
        {
          "output_type": "stream",
          "name": "stdout",
          "text": [
            "Epoch 283 & idx 0 with loss: -208.46681213378906\n"
          ]
        },
        {
          "output_type": "stream",
          "name": "stderr",
          "text": [
            "Epoch 284/300 : 100it [00:13,  7.36it/s, loss=-206]\n",
            "Epoch 285/300 : 2it [00:00,  7.94it/s, loss=-198]"
          ]
        },
        {
          "output_type": "stream",
          "name": "stdout",
          "text": [
            "Epoch 284 & idx 0 with loss: -195.462158203125\n"
          ]
        },
        {
          "output_type": "stream",
          "name": "stderr",
          "text": [
            "Epoch 285/300 : 100it [00:13,  7.36it/s, loss=-206]\n",
            "Epoch 286/300 : 2it [00:00,  7.22it/s, loss=-210]"
          ]
        },
        {
          "output_type": "stream",
          "name": "stdout",
          "text": [
            "Epoch 285 & idx 0 with loss: -215.80419921875\n"
          ]
        },
        {
          "output_type": "stream",
          "name": "stderr",
          "text": [
            "Epoch 286/300 : 100it [00:13,  7.40it/s, loss=-206]\n",
            "Epoch 287/300 : 2it [00:00,  7.88it/s, loss=-199]"
          ]
        },
        {
          "output_type": "stream",
          "name": "stdout",
          "text": [
            "Epoch 286 & idx 0 with loss: -198.63998413085938\n"
          ]
        },
        {
          "output_type": "stream",
          "name": "stderr",
          "text": [
            "Epoch 287/300 : 100it [00:13,  7.38it/s, loss=-206]\n",
            "Epoch 288/300 : 2it [00:00,  7.70it/s, loss=-211]"
          ]
        },
        {
          "output_type": "stream",
          "name": "stdout",
          "text": [
            "Epoch 287 & idx 0 with loss: -208.60496520996094\n"
          ]
        },
        {
          "output_type": "stream",
          "name": "stderr",
          "text": [
            "Epoch 288/300 : 100it [00:13,  7.41it/s, loss=-204]\n",
            "Epoch 289/300 : 2it [00:00,  8.05it/s, loss=-211]"
          ]
        },
        {
          "output_type": "stream",
          "name": "stdout",
          "text": [
            "Epoch 288 & idx 0 with loss: -215.35739135742188\n"
          ]
        },
        {
          "output_type": "stream",
          "name": "stderr",
          "text": [
            "Epoch 289/300 : 100it [00:13,  7.46it/s, loss=-205]\n",
            "Epoch 290/300 : 2it [00:00,  7.95it/s, loss=-204]"
          ]
        },
        {
          "output_type": "stream",
          "name": "stdout",
          "text": [
            "Epoch 289 & idx 0 with loss: -195.9467315673828\n"
          ]
        },
        {
          "output_type": "stream",
          "name": "stderr",
          "text": [
            "Epoch 290/300 : 100it [00:13,  7.52it/s, loss=-203]\n",
            "Epoch 291/300 : 2it [00:00,  6.95it/s, loss=-219]"
          ]
        },
        {
          "output_type": "stream",
          "name": "stdout",
          "text": [
            "Epoch 290 & idx 0 with loss: -228.85089111328125\n"
          ]
        },
        {
          "output_type": "stream",
          "name": "stderr",
          "text": [
            "Epoch 291/300 : 100it [00:13,  7.19it/s, loss=-205]\n",
            "Epoch 292/300 : 2it [00:00,  5.26it/s, loss=-208]"
          ]
        },
        {
          "output_type": "stream",
          "name": "stdout",
          "text": [
            "Epoch 291 & idx 0 with loss: -215.61776733398438\n"
          ]
        },
        {
          "output_type": "stream",
          "name": "stderr",
          "text": [
            "Epoch 292/300 : 100it [00:13,  7.33it/s, loss=-205]\n",
            "Epoch 293/300 : 2it [00:00,  8.21it/s, loss=-193]"
          ]
        },
        {
          "output_type": "stream",
          "name": "stdout",
          "text": [
            "Epoch 292 & idx 0 with loss: -178.98004150390625\n"
          ]
        },
        {
          "output_type": "stream",
          "name": "stderr",
          "text": [
            "Epoch 293/300 : 100it [00:13,  7.33it/s, loss=-205]\n",
            "Epoch 294/300 : 2it [00:00,  7.88it/s, loss=-204]"
          ]
        },
        {
          "output_type": "stream",
          "name": "stdout",
          "text": [
            "Epoch 293 & idx 0 with loss: -209.35675048828125\n"
          ]
        },
        {
          "output_type": "stream",
          "name": "stderr",
          "text": [
            "Epoch 294/300 : 100it [00:13,  7.36it/s, loss=-205]\n",
            "Epoch 295/300 : 2it [00:00,  7.24it/s, loss=-201]"
          ]
        },
        {
          "output_type": "stream",
          "name": "stdout",
          "text": [
            "Epoch 294 & idx 0 with loss: -195.45623779296875\n"
          ]
        },
        {
          "output_type": "stream",
          "name": "stderr",
          "text": [
            "Epoch 295/300 : 100it [00:13,  7.31it/s, loss=-205]\n",
            "Epoch 296/300 : 2it [00:00,  6.94it/s, loss=-210]"
          ]
        },
        {
          "output_type": "stream",
          "name": "stdout",
          "text": [
            "Epoch 295 & idx 0 with loss: -207.1937255859375\n"
          ]
        },
        {
          "output_type": "stream",
          "name": "stderr",
          "text": [
            "Epoch 296/300 : 100it [00:13,  7.34it/s, loss=-207]\n",
            "Epoch 297/300 : 2it [00:00,  8.30it/s, loss=-210]"
          ]
        },
        {
          "output_type": "stream",
          "name": "stdout",
          "text": [
            "Epoch 296 & idx 0 with loss: -208.45660400390625\n"
          ]
        },
        {
          "output_type": "stream",
          "name": "stderr",
          "text": [
            "Epoch 297/300 : 100it [00:13,  7.54it/s, loss=-204]\n",
            "Epoch 298/300 : 2it [00:00,  7.37it/s, loss=-208]"
          ]
        },
        {
          "output_type": "stream",
          "name": "stdout",
          "text": [
            "Epoch 297 & idx 0 with loss: -207.70733642578125\n"
          ]
        },
        {
          "output_type": "stream",
          "name": "stderr",
          "text": [
            "Epoch 298/300 : 100it [00:13,  7.37it/s, loss=-207]\n",
            "Epoch 299/300 : 2it [00:00,  7.73it/s, loss=-198]"
          ]
        },
        {
          "output_type": "stream",
          "name": "stdout",
          "text": [
            "Epoch 298 & idx 0 with loss: -191.46493530273438\n"
          ]
        },
        {
          "output_type": "stream",
          "name": "stderr",
          "text": [
            "Epoch 299/300 : 100it [00:13,  7.43it/s, loss=-203]\n",
            "Epoch 300/300 : 2it [00:00,  7.37it/s, loss=-205]"
          ]
        },
        {
          "output_type": "stream",
          "name": "stdout",
          "text": [
            "Epoch 299 & idx 0 with loss: -215.47779846191406\n"
          ]
        },
        {
          "output_type": "stream",
          "name": "stderr",
          "text": [
            "Epoch 300/300 : 100it [00:13,  7.29it/s, loss=-205]\n"
          ]
        }
      ],
      "source": [
        "from tqdm import tqdm\n",
        "epochs = 300\n",
        "loss_history = []\n",
        "\n",
        "accelerator = Accelerator()\n",
        "device = accelerator.device\n",
        "\n",
        "model.to(device)\n",
        "optimizer = AdamW(model.parameters(), lr=6e-4, betas=(0.9, 0.95), weight_decay=1e-1)\n",
        "\n",
        "model, optimizer, train_dataloader = accelerator.prepare(\n",
        "    model,\n",
        "    optimizer,\n",
        "    train_dataloader,\n",
        ")\n",
        "\n",
        "model.train()\n",
        "for epoch in range(epochs):\n",
        "    total_loss = 0.0\n",
        "    progress_bar = tqdm(train_dataloader, desc=f\"Epoch {epoch+1}/{epochs} \")\n",
        "    # for data in tqdm(train_dataloader,  desc=f\"Epoch {epoch+1}\"):\n",
        "    for idx, batch in enumerate(progress_bar):\n",
        "        # print(f'idx: {idx}')\n",
        "        # for k, v in batch.items():\n",
        "        #     print(k, v.shape, v.type())\n",
        "        optimizer.zero_grad()\n",
        "        outputs = model(\n",
        "            static_categorical_features=batch[\"static_categorical_features\"].to(device)\n",
        "            if config.num_static_categorical_features > 0\n",
        "            else None,\n",
        "            static_real_features=batch[\"static_real_features\"].to(device)\n",
        "            if config.num_static_real_features > 0\n",
        "            else None,\n",
        "            past_time_features=batch[\"past_time_features\"].to(device),\n",
        "            past_values=batch[\"past_values\"].to(device),\n",
        "            future_time_features=batch[\"future_time_features\"].to(device),\n",
        "            future_values=batch[\"future_values\"].to(device),\n",
        "            past_observed_mask=batch[\"past_observed_mask\"].to(device),\n",
        "            future_observed_mask=batch[\"future_observed_mask\"].to(device),\n",
        "        )\n",
        "        loss = outputs.loss\n",
        "        total_loss += loss.item()\n",
        "        progress_bar.set_postfix(loss=total_loss / (progress_bar.n + 1))\n",
        "\n",
        "        # Backpropagation\n",
        "        accelerator.backward(loss)\n",
        "        optimizer.step()\n",
        "\n",
        "        loss_history.append(loss.item())\n",
        "        if idx % 200 == 0:\n",
        "            print(f'Epoch {epoch} & idx {idx} with loss: {loss.item()}')"
      ]
    },
    {
      "cell_type": "code",
      "execution_count": 37,
      "id": "fe07c300-e02d-4e26-9359-1de2b5db2f6b",
      "metadata": {
        "id": "fe07c300-e02d-4e26-9359-1de2b5db2f6b"
      },
      "outputs": [],
      "source": [
        "# import os\n",
        "# work_dir = os.getcwd()\n",
        "# work_dir = os.getcwd()\n",
        "# data_dir = work_dir.replace(\"GitHub/RocketPill/ipynb-notebooks\", \"Data/\")"
      ]
    },
    {
      "cell_type": "code",
      "execution_count": 38,
      "id": "412f5e61-0370-4e0f-9c5a-518ae490dcc0",
      "metadata": {
        "id": "412f5e61-0370-4e0f-9c5a-518ae490dcc0",
        "colab": {
          "base_uri": "https://localhost:8080/",
          "height": 489
        },
        "outputId": "fb3f3ee8-0384-4c20-c9a9-449ef8cdc194"
      },
      "outputs": [
        {
          "output_type": "display_data",
          "data": {
            "text/plain": [
              "<Figure size 1000x500 with 1 Axes>"
            ],
            "image/png": "[encoded data removed]"
          },
          "metadata": {}
        }
      ],
      "source": [
        "# view training\n",
        "from datetime import datetime\n",
        "\n",
        "loss_history = np.array(loss_history).reshape(-1)\n",
        "x = range(loss_history.shape[0])\n",
        "plt.figure(figsize=(10, 5))\n",
        "plt.plot(x, loss_history, label=\"train\")\n",
        "plt.title(\"Loss\", fontsize=15)\n",
        "plt.legend(loc=\"upper right\")\n",
        "plt.xlabel(\"iteration\")\n",
        "plt.ylabel(\"nll\")\n",
        "# plt.savefig(data_dir+\"hf_informer4roqeto_loss_curve_\"+str(datetime.now()).replace(\":\",\".\")+\".png\")\n",
        "plt.show()"
      ]
    },
    {
      "cell_type": "code",
      "execution_count": 49,
      "id": "f39a8680-bc2b-4f15-ab80-9ac70887e7ac",
      "metadata": {
        "id": "f39a8680-bc2b-4f15-ab80-9ac70887e7ac",
        "colab": {
          "base_uri": "https://localhost:8080/",
          "height": 17,
          "referenced_widgets": [
            "3e32ea58183642c2852d324cf24b6e9b",
            "3a1ffd138f96467eb727ceaad46066b1",
            "c7f2166e8bc541a2b00c321c537fb4ff",
            "28ae08bf44e848f1ba45ee483d199191",
            "3192a020abd745849806a6a50fbf5bd4",
            "717d0c41ea48426e9e836d0132e83956",
            "334da03a97af45afba0affa2203cdb3a",
            "1a4c4901dfe94c3486a6195ad7fdcd66",
            "1f739f0a3d7049aba1a07df2343418f6",
            "611eecb6305c4ceba1946dcdd2fd2f82",
            "1476ff0b883948cd89382281fa490fb5",
            "c5532a12af054628b47f91c4d2893255",
            "0d8b8a0f06c24513a26c4df1c7767024",
            "e629679ce3e6479ebcfc51e8ea5d5b49",
            "9578c378540c4dcc8ace6240402491c4",
            "f34d23ffb53445dca547d8b2421d6495",
            "e1fb8d22416240b28c318c3b63c7213d",
            "3f32981a37fa404d9b93d03b26ec7823",
            "5c8119270d5e4560aac74095d9ea3018",
            "b37e67d3a45e47218d54204eeac259eb"
          ]
        },
        "outputId": "e2632cee-40b7-4166-9383-660b4ae3b627"
      },
      "outputs": [
        {
          "output_type": "display_data",
          "data": {
            "text/plain": [
              "VBox(children=(HTML(value='<center> <img\\nsrc=https://huggingface.co/front/assets/huggingface_logo-noborder.sv…"
            ],
            "application/vnd.jupyter.widget-view+json": {
              "version_major": 2,
              "version_minor": 0,
              "model_id": "3e32ea58183642c2852d324cf24b6e9b"
            }
          },
          "metadata": {}
        }
      ],
      "source": [
        "from huggingface_hub import notebook_login\n",
        "notebook_login()"
      ]
    },
    {
      "cell_type": "code",
      "execution_count": 50,
      "id": "498a9ab5-096c-441d-b6df-e8493066e708",
      "metadata": {
        "id": "498a9ab5-096c-441d-b6df-e8493066e708",
        "colab": {
          "base_uri": "https://localhost:8080/",
          "height": 208,
          "referenced_widgets": [
            "c155d2e6e8c64b229d6e7157023f210b",
            "086683f327da440a946d1ff306643009",
            "d69c69b4e39a4fd2b2475761f39ec4e6",
            "6387142fa236483d9b0a4975601e0d14",
            "ec622854ff4d4674922a70648dbab480",
            "2c9c86a64bd944c0a63df18b70ccb027",
            "427f1e8bb3a74b74b56e9f1cb8672e75",
            "028a07835c2e4175a99a1de072bdc0cc",
            "6af1bdb673de417db090cdc50a8c1714",
            "cde24f832b0c4c61a7e125d2be3b776f",
            "a2387dd167014b519ba1b79476c106e8"
          ]
        },
        "outputId": "74538211-f5dd-4604-dad1-6fc2653824b9"
      },
      "outputs": [
        {
          "output_type": "stream",
          "name": "stderr",
          "text": [
            "/usr/local/lib/python3.11/dist-packages/transformers/utils/hub.py:907: FutureWarning: The `use_auth_token` argument is deprecated and will be removed in v5 of Transformers. Please use `token` instead.\n",
            "  warnings.warn(\n"
          ]
        },
        {
          "output_type": "display_data",
          "data": {
            "text/plain": [
              "model.safetensors:   0%|          | 0.00/1.48M [00:00<?, ?B/s]"
            ],
            "application/vnd.jupyter.widget-view+json": {
              "version_major": 2,
              "version_minor": 0,
              "model_id": "c155d2e6e8c64b229d6e7157023f210b"
            }
          },
          "metadata": {}
        },
        {
          "output_type": "execute_result",
          "data": {
            "text/plain": [
              "CommitInfo(commit_url='https://huggingface.co/shaddie/rocketpill_thrustcurve_informer_model/commit/d366946a74301a98d27f2d83b91ad3c680f47525', commit_message='training-time-series-thrust-curve', commit_description='', oid='d366946a74301a98d27f2d83b91ad3c680f47525', pr_url=None, repo_url=RepoUrl('https://huggingface.co/shaddie/rocketpill_thrustcurve_informer_model', endpoint='https://huggingface.co', repo_type='model', repo_id='shaddie/rocketpill_thrustcurve_informer_model'), pr_revision=None, pr_num=None)"
            ],
            "application/vnd.google.colaboratory.intrinsic+json": {
              "type": "string"
            }
          },
          "metadata": {},
          "execution_count": 50
        }
      ],
      "source": [
        "model.push_to_hub(\"shaddie/rocketpill_thrustcurve_informer_model\",\n",
        "                  use_auth_token=True,\n",
        "                  commit_message=\"training-time-series-thrust-curve\",\n",
        "                  private=False)"
      ]
    },
    {
      "cell_type": "code",
      "source": [
        "# model"
      ],
      "metadata": {
        "id": "PIaRJ-h-1qQQ"
      },
      "id": "PIaRJ-h-1qQQ",
      "execution_count": 41,
      "outputs": []
    },
    {
      "cell_type": "code",
      "execution_count": 42,
      "id": "13a0e81b-b6c3-4b1e-8893-9b8796ceb77f",
      "metadata": {
        "colab": {
          "base_uri": "https://localhost:8080/"
        },
        "id": "13a0e81b-b6c3-4b1e-8893-9b8796ceb77f",
        "outputId": "a93aa614-50a9-4772-e716-054ead0b5826"
      },
      "outputs": [
        {
          "output_type": "stream",
          "name": "stderr",
          "text": [
            "Epoch : 1it [00:00,  5.68it/s]"
          ]
        },
        {
          "output_type": "stream",
          "name": "stdout",
          "text": [
            "past_time_features torch.Size([1, 184, 3]) torch.FloatTensor\n",
            "past_values torch.Size([1, 184, 27]) torch.FloatTensor\n",
            "past_observed_mask torch.Size([1, 184, 27]) torch.FloatTensor\n",
            "future_time_features torch.Size([1, 8, 3]) torch.FloatTensor\n"
          ]
        },
        {
          "output_type": "stream",
          "name": "stderr",
          "text": [
            "\n"
          ]
        }
      ],
      "source": [
        "model.eval()\n",
        "\n",
        "forecasts_ = []\n",
        "\n",
        "test_progress_bar = tqdm(test_dataloader, desc=f\"Epoch \")\n",
        "    # for data in tqdm(train_dataloader,  desc=f\"Epoch {epoch+1}\"):\n",
        "for idx, batch in enumerate(test_progress_bar):\n",
        "  for k, v in batch.items():\n",
        "    print(k, v.shape, v.type())\n",
        "  # print(f'past_observed_mask {batch[\"past_observed_mask\"].to(device).repeat(1,1, 3).shape}')\n",
        "  # print(f'future_time_features {batch[\"future_time_features\"].to(device).shape}')\n",
        "  outputs = model.generate(\n",
        "    static_categorical_features=batch[\"static_categorical_features\"].to(device)\n",
        "    if config.num_static_categorical_features > 0\n",
        "    else None,\n",
        "    static_real_features=batch[\"static_real_features\"].to(device)\n",
        "    if config.num_static_real_features > 0\n",
        "    else None,\n",
        "    past_time_features=batch[\"past_time_features\"].to(device),\n",
        "    past_values=batch[\"past_values\"].to(device),\n",
        "    future_time_features=batch[\"future_time_features\"].to(device),\n",
        "    past_observed_mask=batch[\"past_observed_mask\"].to(device),\n",
        ")\n",
        "forecasts_.append(outputs.sequences.cpu().numpy())"
      ]
    },
    {
      "cell_type": "code",
      "execution_count": 43,
      "id": "a9a749e2-9c04-4643-b58d-f4cef1dbeb3a",
      "metadata": {
        "id": "a9a749e2-9c04-4643-b58d-f4cef1dbeb3a",
        "colab": {
          "base_uri": "https://localhost:8080/"
        },
        "outputId": "673c3beb-2c8d-44b5-9c2c-703225c4062d"
      },
      "outputs": [
        {
          "data": {
            "text/plain": [
              "(1, 100, 8, 27)"
            ]
          },
          "execution_count": 43,
          "metadata": {},
          "output_type": "execute_result"
        }
      ],
      "source": [
        "forecasts_[0].shape"
      ]
    },
    {
      "cell_type": "code",
      "execution_count": 44,
      "id": "0ec7a887-07d8-4bee-84f9-252a1a97749c",
      "metadata": {
        "id": "0ec7a887-07d8-4bee-84f9-252a1a97749c",
        "colab": {
          "base_uri": "https://localhost:8080/"
        },
        "outputId": "4cf23ed1-537c-4dd7-cd77-7097e3b7a3f4"
      },
      "outputs": [
        {
          "metadata": {
            "tags": null
          },
          "name": "stdout",
          "output_type": "stream",
          "text": [
            "(1, 100, 8, 27)\n"
          ]
        }
      ],
      "source": [
        "forecasts = np.vstack(forecasts_)\n",
        "print(forecasts.shape)"
      ]
    },
    {
      "cell_type": "code",
      "source": [
        "from evaluate import load\n",
        "from gluonts.time_feature import get_seasonality\n",
        "\n",
        "mase_metric = load(\"evaluate-metric/mase\")\n",
        "smape_metric = load(\"evaluate-metric/smape\")\n",
        "\n",
        "forecast_median = np.median(forecasts, 1).squeeze(0).T\n",
        "\n",
        "mase_metrics = []\n",
        "smape_metrics = []\n",
        "\n",
        "for item_id, ts in enumerate(test_dataset):\n",
        "    training_data = ts[\"target\"][:-prediction_length]\n",
        "    ground_truth = ts[\"target\"][-prediction_length:]\n",
        "    mase = mase_metric.compute(\n",
        "        predictions=forecast_median[item_id],\n",
        "        references=np.array(ground_truth),\n",
        "        training=np.array(training_data),\n",
        "        periodicity=get_seasonality(freq),\n",
        "    )\n",
        "    mase_metrics.append(mase[\"mase\"])\n",
        "\n",
        "    smape = smape_metric.compute(\n",
        "        predictions=forecast_median[item_id],\n",
        "        references=np.array(ground_truth),\n",
        "    )\n",
        "    smape_metrics.append(smape[\"smape\"])"
      ],
      "metadata": {
        "id": "wAsbaRyxdrbF"
      },
      "id": "wAsbaRyxdrbF",
      "execution_count": 45,
      "outputs": []
    },
    {
      "cell_type": "code",
      "source": [
        "print(f\"MASE: {np.mean(mase_metrics)}\")"
      ],
      "metadata": {
        "colab": {
          "base_uri": "https://localhost:8080/"
        },
        "id": "csc-lAYedyF5",
        "outputId": "36570201-7ea8-41c7-9998-67168e15509b"
      },
      "id": "csc-lAYedyF5",
      "execution_count": 46,
      "outputs": [
        {
          "metadata": {
            "tags": null
          },
          "name": "stdout",
          "output_type": "stream",
          "text": [
            "MASE: 3.6880505640384174\n"
          ]
        }
      ]
    },
    {
      "cell_type": "code",
      "source": [
        "print(f\"sMAPE: {np.mean(smape_metrics)}\")"
      ],
      "metadata": {
        "colab": {
          "base_uri": "https://localhost:8080/"
        },
        "id": "E9Gei4u7dyS0",
        "outputId": "5ad0f105-6337-41dc-f112-46fa07684dd1"
      },
      "id": "E9Gei4u7dyS0",
      "execution_count": 47,
      "outputs": [
        {
          "output_type": "stream",
          "name": "stdout",
          "text": [
            "sMAPE: 1.999999748730357\n"
          ]
        }
      ]
    },
    {
      "cell_type": "code",
      "source": [
        "plt.scatter(mase_metrics, smape_metrics, alpha=0.2)\n",
        "plt.xlabel(\"MASE\")\n",
        "plt.ylabel(\"sMAPE\")\n",
        "plt.show()"
      ],
      "metadata": {
        "colab": {
          "base_uri": "https://localhost:8080/",
          "height": 465
        },
        "id": "0xS8cJ80d1X_",
        "outputId": "6458f433-b3a0-4097-e9db-9871cfb394c5"
      },
      "id": "0xS8cJ80d1X_",
      "execution_count": 48,
      "outputs": [
        {
          "output_type": "display_data",
          "data": {
            "text/plain": [
              "<Figure size 640x480 with 1 Axes>"
            ],
            "image/png": "[encoded data removed]"
          },
          "metadata": {}
        }
      ]
    }
  ],
  "metadata": {
    "accelerator": "GPU",
    "colab": {
      "gpuType": "T4",
      "provenance": []
    },
    "kernelspec": {
      "display_name": "Python 3",
      "name": "python3"
    },
    "language_info": {
      "codemirror_mode": {
        "name": "ipython",
        "version": 3
      },
      "file_extension": ".py",
      "mimetype": "text/x-python",
      "name": "python",
      "nbconvert_exporter": "python",
      "pygments_lexer": "ipython3",
      "version": "3.11.11"
    },
    "widgets": {
      "application/vnd.jupyter.widget-state+json": {
        "3e32ea58183642c2852d324cf24b6e9b": {
          "model_module": "@jupyter-widgets/controls",
          "model_name": "VBoxModel",
          "model_module_version": "1.5.0",
          "state": {
            "_dom_classes": [],
            "_model_module": "@jupyter-widgets/controls",
            "_model_module_version": "1.5.0",
            "_model_name": "VBoxModel",
            "_view_count": null,
            "_view_module": "@jupyter-widgets/controls",
            "_view_module_version": "1.5.0",
            "_view_name": "VBoxView",
            "box_style": "",
            "children": [],
            "layout": "IPY_MODEL_334da03a97af45afba0affa2203cdb3a"
          }
        },
        "3a1ffd138f96467eb727ceaad46066b1": {
          "model_module": "@jupyter-widgets/controls",
          "model_name": "HTMLModel",
          "model_module_version": "1.5.0",
          "state": {
            "_dom_classes": [],
            "_model_module": "@jupyter-widgets/controls",
            "_model_module_version": "1.5.0",
            "_model_name": "HTMLModel",
            "_view_count": null,
            "_view_module": "@jupyter-widgets/controls",
            "_view_module_version": "1.5.0",
            "_view_name": "HTMLView",
            "description": "",
            "description_tooltip": null,
            "layout": "IPY_MODEL_1a4c4901dfe94c3486a6195ad7fdcd66",
            "placeholder": "​",
            "style": "IPY_MODEL_1f739f0a3d7049aba1a07df2343418f6",
            "value": "<center> <img\nsrc=https://huggingface.co/front/assets/huggingface_logo-noborder.svg\nalt='Hugging Face'> <br> Copy a token from <a\nhref=\"https://huggingface.co/settings/tokens\" target=\"_blank\">your Hugging Face\ntokens page</a> and paste it below. <br> Immediately click login after copying\nyour token or it might be stored in plain text in this notebook file. </center>"
          }
        },
        "c7f2166e8bc541a2b00c321c537fb4ff": {
          "model_module": "@jupyter-widgets/controls",
          "model_name": "PasswordModel",
          "model_module_version": "1.5.0",
          "state": {
            "_dom_classes": [],
            "_model_module": "@jupyter-widgets/controls",
            "_model_module_version": "1.5.0",
            "_model_name": "PasswordModel",
            "_view_count": null,
            "_view_module": "@jupyter-widgets/controls",
            "_view_module_version": "1.5.0",
            "_view_name": "PasswordView",
            "continuous_update": true,
            "description": "Token:",
            "description_tooltip": null,
            "disabled": false,
            "layout": "IPY_MODEL_611eecb6305c4ceba1946dcdd2fd2f82",
            "placeholder": "​",
            "style": "IPY_MODEL_1476ff0b883948cd89382281fa490fb5",
            "value": ""
          }
        },
        "28ae08bf44e848f1ba45ee483d199191": {
          "model_module": "@jupyter-widgets/controls",
          "model_name": "CheckboxModel",
          "model_module_version": "1.5.0",
          "state": {
            "_dom_classes": [],
            "_model_module": "@jupyter-widgets/controls",
            "_model_module_version": "1.5.0",
            "_model_name": "CheckboxModel",
            "_view_count": null,
            "_view_module": "@jupyter-widgets/controls",
            "_view_module_version": "1.5.0",
            "_view_name": "CheckboxView",
            "description": "Add token as git credential?",
            "description_tooltip": null,
            "disabled": false,
            "indent": true,
            "layout": "IPY_MODEL_c5532a12af054628b47f91c4d2893255",
            "style": "IPY_MODEL_0d8b8a0f06c24513a26c4df1c7767024",
            "value": true
          }
        },
        "3192a020abd745849806a6a50fbf5bd4": {
          "model_module": "@jupyter-widgets/controls",
          "model_name": "ButtonModel",
          "model_module_version": "1.5.0",
          "state": {
            "_dom_classes": [],
            "_model_module": "@jupyter-widgets/controls",
            "_model_module_version": "1.5.0",
            "_model_name": "ButtonModel",
            "_view_count": null,
            "_view_module": "@jupyter-widgets/controls",
            "_view_module_version": "1.5.0",
            "_view_name": "ButtonView",
            "button_style": "",
            "description": "Login",
            "disabled": false,
            "icon": "",
            "layout": "IPY_MODEL_e629679ce3e6479ebcfc51e8ea5d5b49",
            "style": "IPY_MODEL_9578c378540c4dcc8ace6240402491c4",
            "tooltip": ""
          }
        },
        "717d0c41ea48426e9e836d0132e83956": {
          "model_module": "@jupyter-widgets/controls",
          "model_name": "HTMLModel",
          "model_module_version": "1.5.0",
          "state": {
            "_dom_classes": [],
            "_model_module": "@jupyter-widgets/controls",
            "_model_module_version": "1.5.0",
            "_model_name": "HTMLModel",
            "_view_count": null,
            "_view_module": "@jupyter-widgets/controls",
            "_view_module_version": "1.5.0",
            "_view_name": "HTMLView",
            "description": "",
            "description_tooltip": null,
            "layout": "IPY_MODEL_f34d23ffb53445dca547d8b2421d6495",
            "placeholder": "​",
            "style": "IPY_MODEL_e1fb8d22416240b28c318c3b63c7213d",
            "value": "\n<b>Pro Tip:</b> If you don't already have one, you can create a dedicated\n'notebooks' token with 'write' access, that you can then easily reuse for all\nnotebooks. </center>"
          }
        },
        "334da03a97af45afba0affa2203cdb3a": {
          "model_module": "@jupyter-widgets/base",
          "model_name": "LayoutModel",
          "model_module_version": "1.2.0",
          "state": {
            "_model_module": "@jupyter-widgets/base",
            "_model_module_version": "1.2.0",
            "_model_name": "LayoutModel",
            "_view_count": null,
            "_view_module": "@jupyter-widgets/base",
            "_view_module_version": "1.2.0",
            "_view_name": "LayoutView",
            "align_content": null,
            "align_items": "center",
            "align_self": null,
            "border": null,
            "bottom": null,
            "display": "flex",
            "flex": null,
            "flex_flow": "column",
            "grid_area": null,
            "grid_auto_columns": null,
            "grid_auto_flow": null,
            "grid_auto_rows": null,
            "grid_column": null,
            "grid_gap": null,
            "grid_row": null,
            "grid_template_areas": null,
            "grid_template_columns": null,
            "grid_template_rows": null,
            "height": null,
            "justify_content": null,
            "justify_items": null,
            "left": null,
            "margin": null,
            "max_height": null,
            "max_width": null,
            "min_height": null,
            "min_width": null,
            "object_fit": null,
            "object_position": null,
            "order": null,
            "overflow": null,
            "overflow_x": null,
            "overflow_y": null,
            "padding": null,
            "right": null,
            "top": null,
            "visibility": null,
            "width": "50%"
          }
        },
        "1a4c4901dfe94c3486a6195ad7fdcd66": {
          "model_module": "@jupyter-widgets/base",
          "model_name": "LayoutModel",
          "model_module_version": "1.2.0",
          "state": {
            "_model_module": "@jupyter-widgets/base",
            "_model_module_version": "1.2.0",
            "_model_name": "LayoutModel",
            "_view_count": null,
            "_view_module": "@jupyter-widgets/base",
            "_view_module_version": "1.2.0",
            "_view_name": "LayoutView",
            "align_content": null,
            "align_items": null,
            "align_self": null,
            "border": null,
            "bottom": null,
            "display": null,
            "flex": null,
            "flex_flow": null,
            "grid_area": null,
            "grid_auto_columns": null,
            "grid_auto_flow": null,
            "grid_auto_rows": null,
            "grid_column": null,
            "grid_gap": null,
            "grid_row": null,
            "grid_template_areas": null,
            "grid_template_columns": null,
            "grid_template_rows": null,
            "height": null,
            "justify_content": null,
            "justify_items": null,
            "left": null,
            "margin": null,
            "max_height": null,
            "max_width": null,
            "min_height": null,
            "min_width": null,
            "object_fit": null,
            "object_position": null,
            "order": null,
            "overflow": null,
            "overflow_x": null,
            "overflow_y": null,
            "padding": null,
            "right": null,
            "top": null,
            "visibility": null,
            "width": null
          }
        },
        "1f739f0a3d7049aba1a07df2343418f6": {
          "model_module": "@jupyter-widgets/controls",
          "model_name": "DescriptionStyleModel",
          "model_module_version": "1.5.0",
          "state": {
            "_model_module": "@jupyter-widgets/controls",
            "_model_module_version": "1.5.0",
            "_model_name": "DescriptionStyleModel",
            "_view_count": null,
            "_view_module": "@jupyter-widgets/base",
            "_view_module_version": "1.2.0",
            "_view_name": "StyleView",
            "description_width": ""
          }
        },
        "611eecb6305c4ceba1946dcdd2fd2f82": {
          "model_module": "@jupyter-widgets/base",
          "model_name": "LayoutModel",
          "model_module_version": "1.2.0",
          "state": {
            "_model_module": "@jupyter-widgets/base",
            "_model_module_version": "1.2.0",
            "_model_name": "LayoutModel",
            "_view_count": null,
            "_view_module": "@jupyter-widgets/base",
            "_view_module_version": "1.2.0",
            "_view_name": "LayoutView",
            "align_content": null,
            "align_items": null,
            "align_self": null,
            "border": null,
            "bottom": null,
            "display": null,
            "flex": null,
            "flex_flow": null,
            "grid_area": null,
            "grid_auto_columns": null,
            "grid_auto_flow": null,
            "grid_auto_rows": null,
            "grid_column": null,
            "grid_gap": null,
            "grid_row": null,
            "grid_template_areas": null,
            "grid_template_columns": null,
            "grid_template_rows": null,
            "height": null,
            "justify_content": null,
            "justify_items": null,
            "left": null,
            "margin": null,
            "max_height": null,
            "max_width": null,
            "min_height": null,
            "min_width": null,
            "object_fit": null,
            "object_position": null,
            "order": null,
            "overflow": null,
            "overflow_x": null,
            "overflow_y": null,
            "padding": null,
            "right": null,
            "top": null,
            "visibility": null,
            "width": null
          }
        },
        "1476ff0b883948cd89382281fa490fb5": {
          "model_module": "@jupyter-widgets/controls",
          "model_name": "DescriptionStyleModel",
          "model_module_version": "1.5.0",
          "state": {
            "_model_module": "@jupyter-widgets/controls",
            "_model_module_version": "1.5.0",
            "_model_name": "DescriptionStyleModel",
            "_view_count": null,
            "_view_module": "@jupyter-widgets/base",
            "_view_module_version": "1.2.0",
            "_view_name": "StyleView",
            "description_width": ""
          }
        },
        "c5532a12af054628b47f91c4d2893255": {
          "model_module": "@jupyter-widgets/base",
          "model_name": "LayoutModel",
          "model_module_version": "1.2.0",
          "state": {
            "_model_module": "@jupyter-widgets/base",
            "_model_module_version": "1.2.0",
            "_model_name": "LayoutModel",
            "_view_count": null,
            "_view_module": "@jupyter-widgets/base",
            "_view_module_version": "1.2.0",
            "_view_name": "LayoutView",
            "align_content": null,
            "align_items": null,
            "align_self": null,
            "border": null,
            "bottom": null,
            "display": null,
            "flex": null,
            "flex_flow": null,
            "grid_area": null,
            "grid_auto_columns": null,
            "grid_auto_flow": null,
            "grid_auto_rows": null,
            "grid_column": null,
            "grid_gap": null,
            "grid_row": null,
            "grid_template_areas": null,
            "grid_template_columns": null,
            "grid_template_rows": null,
            "height": null,
            "justify_content": null,
            "justify_items": null,
            "left": null,
            "margin": null,
            "max_height": null,
            "max_width": null,
            "min_height": null,
            "min_width": null,
            "object_fit": null,
            "object_position": null,
            "order": null,
            "overflow": null,
            "overflow_x": null,
            "overflow_y": null,
            "padding": null,
            "right": null,
            "top": null,
            "visibility": null,
            "width": null
          }
        },
        "0d8b8a0f06c24513a26c4df1c7767024": {
          "model_module": "@jupyter-widgets/controls",
          "model_name": "DescriptionStyleModel",
          "model_module_version": "1.5.0",
          "state": {
            "_model_module": "@jupyter-widgets/controls",
            "_model_module_version": "1.5.0",
            "_model_name": "DescriptionStyleModel",
            "_view_count": null,
            "_view_module": "@jupyter-widgets/base",
            "_view_module_version": "1.2.0",
            "_view_name": "StyleView",
            "description_width": ""
          }
        },
        "e629679ce3e6479ebcfc51e8ea5d5b49": {
          "model_module": "@jupyter-widgets/base",
          "model_name": "LayoutModel",
          "model_module_version": "1.2.0",
          "state": {
            "_model_module": "@jupyter-widgets/base",
            "_model_module_version": "1.2.0",
            "_model_name": "LayoutModel",
            "_view_count": null,
            "_view_module": "@jupyter-widgets/base",
            "_view_module_version": "1.2.0",
            "_view_name": "LayoutView",
            "align_content": null,
            "align_items": null,
            "align_self": null,
            "border": null,
            "bottom": null,
            "display": null,
            "flex": null,
            "flex_flow": null,
            "grid_area": null,
            "grid_auto_columns": null,
            "grid_auto_flow": null,
            "grid_auto_rows": null,
            "grid_column": null,
            "grid_gap": null,
            "grid_row": null,
            "grid_template_areas": null,
            "grid_template_columns": null,
            "grid_template_rows": null,
            "height": null,
            "justify_content": null,
            "justify_items": null,
            "left": null,
            "margin": null,
            "max_height": null,
            "max_width": null,
            "min_height": null,
            "min_width": null,
            "object_fit": null,
            "object_position": null,
            "order": null,
            "overflow": null,
            "overflow_x": null,
            "overflow_y": null,
            "padding": null,
            "right": null,
            "top": null,
            "visibility": null,
            "width": null
          }
        },
        "9578c378540c4dcc8ace6240402491c4": {
          "model_module": "@jupyter-widgets/controls",
          "model_name": "ButtonStyleModel",
          "model_module_version": "1.5.0",
          "state": {
            "_model_module": "@jupyter-widgets/controls",
            "_model_module_version": "1.5.0",
            "_model_name": "ButtonStyleModel",
            "_view_count": null,
            "_view_module": "@jupyter-widgets/base",
            "_view_module_version": "1.2.0",
            "_view_name": "StyleView",
            "button_color": null,
            "font_weight": ""
          }
        },
        "f34d23ffb53445dca547d8b2421d6495": {
          "model_module": "@jupyter-widgets/base",
          "model_name": "LayoutModel",
          "model_module_version": "1.2.0",
          "state": {
            "_model_module": "@jupyter-widgets/base",
            "_model_module_version": "1.2.0",
            "_model_name": "LayoutModel",
            "_view_count": null,
            "_view_module": "@jupyter-widgets/base",
            "_view_module_version": "1.2.0",
            "_view_name": "LayoutView",
            "align_content": null,
            "align_items": null,
            "align_self": null,
            "border": null,
            "bottom": null,
            "display": null,
            "flex": null,
            "flex_flow": null,
            "grid_area": null,
            "grid_auto_columns": null,
            "grid_auto_flow": null,
            "grid_auto_rows": null,
            "grid_column": null,
            "grid_gap": null,
            "grid_row": null,
            "grid_template_areas": null,
            "grid_template_columns": null,
            "grid_template_rows": null,
            "height": null,
            "justify_content": null,
            "justify_items": null,
            "left": null,
            "margin": null,
            "max_height": null,
            "max_width": null,
            "min_height": null,
            "min_width": null,
            "object_fit": null,
            "object_position": null,
            "order": null,
            "overflow": null,
            "overflow_x": null,
            "overflow_y": null,
            "padding": null,
            "right": null,
            "top": null,
            "visibility": null,
            "width": null
          }
        },
        "e1fb8d22416240b28c318c3b63c7213d": {
          "model_module": "@jupyter-widgets/controls",
          "model_name": "DescriptionStyleModel",
          "model_module_version": "1.5.0",
          "state": {
            "_model_module": "@jupyter-widgets/controls",
            "_model_module_version": "1.5.0",
            "_model_name": "DescriptionStyleModel",
            "_view_count": null,
            "_view_module": "@jupyter-widgets/base",
            "_view_module_version": "1.2.0",
            "_view_name": "StyleView",
            "description_width": ""
          }
        },
        "3f32981a37fa404d9b93d03b26ec7823": {
          "model_module": "@jupyter-widgets/controls",
          "model_name": "LabelModel",
          "model_module_version": "1.5.0",
          "state": {
            "_dom_classes": [],
            "_model_module": "@jupyter-widgets/controls",
            "_model_module_version": "1.5.0",
            "_model_name": "LabelModel",
            "_view_count": null,
            "_view_module": "@jupyter-widgets/controls",
            "_view_module_version": "1.5.0",
            "_view_name": "LabelView",
            "description": "",
            "description_tooltip": null,
            "layout": "IPY_MODEL_5c8119270d5e4560aac74095d9ea3018",
            "placeholder": "​",
            "style": "IPY_MODEL_b37e67d3a45e47218d54204eeac259eb",
            "value": "Connecting..."
          }
        },
        "5c8119270d5e4560aac74095d9ea3018": {
          "model_module": "@jupyter-widgets/base",
          "model_name": "LayoutModel",
          "model_module_version": "1.2.0",
          "state": {
            "_model_module": "@jupyter-widgets/base",
            "_model_module_version": "1.2.0",
            "_model_name": "LayoutModel",
            "_view_count": null,
            "_view_module": "@jupyter-widgets/base",
            "_view_module_version": "1.2.0",
            "_view_name": "LayoutView",
            "align_content": null,
            "align_items": null,
            "align_self": null,
            "border": null,
            "bottom": null,
            "display": null,
            "flex": null,
            "flex_flow": null,
            "grid_area": null,
            "grid_auto_columns": null,
            "grid_auto_flow": null,
            "grid_auto_rows": null,
            "grid_column": null,
            "grid_gap": null,
            "grid_row": null,
            "grid_template_areas": null,
            "grid_template_columns": null,
            "grid_template_rows": null,
            "height": null,
            "justify_content": null,
            "justify_items": null,
            "left": null,
            "margin": null,
            "max_height": null,
            "max_width": null,
            "min_height": null,
            "min_width": null,
            "object_fit": null,
            "object_position": null,
            "order": null,
            "overflow": null,
            "overflow_x": null,
            "overflow_y": null,
            "padding": null,
            "right": null,
            "top": null,
            "visibility": null,
            "width": null
          }
        },
        "b37e67d3a45e47218d54204eeac259eb": {
          "model_module": "@jupyter-widgets/controls",
          "model_name": "DescriptionStyleModel",
          "model_module_version": "1.5.0",
          "state": {
            "_model_module": "@jupyter-widgets/controls",
            "_model_module_version": "1.5.0",
            "_model_name": "DescriptionStyleModel",
            "_view_count": null,
            "_view_module": "@jupyter-widgets/base",
            "_view_module_version": "1.2.0",
            "_view_name": "StyleView",
            "description_width": ""
          }
        },
        "c155d2e6e8c64b229d6e7157023f210b": {
          "model_module": "@jupyter-widgets/controls",
          "model_name": "HBoxModel",
          "model_module_version": "1.5.0",
          "state": {
            "_dom_classes": [],
            "_model_module": "@jupyter-widgets/controls",
            "_model_module_version": "1.5.0",
            "_model_name": "HBoxModel",
            "_view_count": null,
            "_view_module": "@jupyter-widgets/controls",
            "_view_module_version": "1.5.0",
            "_view_name": "HBoxView",
            "box_style": "",
            "children": [
              "IPY_MODEL_086683f327da440a946d1ff306643009",
              "IPY_MODEL_d69c69b4e39a4fd2b2475761f39ec4e6",
              "IPY_MODEL_6387142fa236483d9b0a4975601e0d14"
            ],
            "layout": "IPY_MODEL_ec622854ff4d4674922a70648dbab480"
          }
        },
        "086683f327da440a946d1ff306643009": {
          "model_module": "@jupyter-widgets/controls",
          "model_name": "HTMLModel",
          "model_module_version": "1.5.0",
          "state": {
            "_dom_classes": [],
            "_model_module": "@jupyter-widgets/controls",
            "_model_module_version": "1.5.0",
            "_model_name": "HTMLModel",
            "_view_count": null,
            "_view_module": "@jupyter-widgets/controls",
            "_view_module_version": "1.5.0",
            "_view_name": "HTMLView",
            "description": "",
            "description_tooltip": null,
            "layout": "IPY_MODEL_2c9c86a64bd944c0a63df18b70ccb027",
            "placeholder": "​",
            "style": "IPY_MODEL_427f1e8bb3a74b74b56e9f1cb8672e75",
            "value": "model.safetensors: 100%"
          }
        },
        "d69c69b4e39a4fd2b2475761f39ec4e6": {
          "model_module": "@jupyter-widgets/controls",
          "model_name": "FloatProgressModel",
          "model_module_version": "1.5.0",
          "state": {
            "_dom_classes": [],
            "_model_module": "@jupyter-widgets/controls",
            "_model_module_version": "1.5.0",
            "_model_name": "FloatProgressModel",
            "_view_count": null,
            "_view_module": "@jupyter-widgets/controls",
            "_view_module_version": "1.5.0",
            "_view_name": "ProgressView",
            "bar_style": "success",
            "description": "",
            "description_tooltip": null,
            "layout": "IPY_MODEL_028a07835c2e4175a99a1de072bdc0cc",
            "max": 1482084,
            "min": 0,
            "orientation": "horizontal",
            "style": "IPY_MODEL_6af1bdb673de417db090cdc50a8c1714",
            "value": 1482084
          }
        },
        "6387142fa236483d9b0a4975601e0d14": {
          "model_module": "@jupyter-widgets/controls",
          "model_name": "HTMLModel",
          "model_module_version": "1.5.0",
          "state": {
            "_dom_classes": [],
            "_model_module": "@jupyter-widgets/controls",
            "_model_module_version": "1.5.0",
            "_model_name": "HTMLModel",
            "_view_count": null,
            "_view_module": "@jupyter-widgets/controls",
            "_view_module_version": "1.5.0",
            "_view_name": "HTMLView",
            "description": "",
            "description_tooltip": null,
            "layout": "IPY_MODEL_cde24f832b0c4c61a7e125d2be3b776f",
            "placeholder": "​",
            "style": "IPY_MODEL_a2387dd167014b519ba1b79476c106e8",
            "value": " 1.48M/1.48M [00:00&lt;00:00, 3.39MB/s]"
          }
        },
        "ec622854ff4d4674922a70648dbab480": {
          "model_module": "@jupyter-widgets/base",
          "model_name": "LayoutModel",
          "model_module_version": "1.2.0",
          "state": {
            "_model_module": "@jupyter-widgets/base",
            "_model_module_version": "1.2.0",
            "_model_name": "LayoutModel",
            "_view_count": null,
            "_view_module": "@jupyter-widgets/base",
            "_view_module_version": "1.2.0",
            "_view_name": "LayoutView",
            "align_content": null,
            "align_items": null,
            "align_self": null,
            "border": null,
            "bottom": null,
            "display": null,
            "flex": null,
            "flex_flow": null,
            "grid_area": null,
            "grid_auto_columns": null,
            "grid_auto_flow": null,
            "grid_auto_rows": null,
            "grid_column": null,
            "grid_gap": null,
            "grid_row": null,
            "grid_template_areas": null,
            "grid_template_columns": null,
            "grid_template_rows": null,
            "height": null,
            "justify_content": null,
            "justify_items": null,
            "left": null,
            "margin": null,
            "max_height": null,
            "max_width": null,
            "min_height": null,
            "min_width": null,
            "object_fit": null,
            "object_position": null,
            "order": null,
            "overflow": null,
            "overflow_x": null,
            "overflow_y": null,
            "padding": null,
            "right": null,
            "top": null,
            "visibility": null,
            "width": null
          }
        },
        "2c9c86a64bd944c0a63df18b70ccb027": {
          "model_module": "@jupyter-widgets/base",
          "model_name": "LayoutModel",
          "model_module_version": "1.2.0",
          "state": {
            "_model_module": "@jupyter-widgets/base",
            "_model_module_version": "1.2.0",
            "_model_name": "LayoutModel",
            "_view_count": null,
            "_view_module": "@jupyter-widgets/base",
            "_view_module_version": "1.2.0",
            "_view_name": "LayoutView",
            "align_content": null,
            "align_items": null,
            "align_self": null,
            "border": null,
            "bottom": null,
            "display": null,
            "flex": null,
            "flex_flow": null,
            "grid_area": null,
            "grid_auto_columns": null,
            "grid_auto_flow": null,
            "grid_auto_rows": null,
            "grid_column": null,
            "grid_gap": null,
            "grid_row": null,
            "grid_template_areas": null,
            "grid_template_columns": null,
            "grid_template_rows": null,
            "height": null,
            "justify_content": null,
            "justify_items": null,
            "left": null,
            "margin": null,
            "max_height": null,
            "max_width": null,
            "min_height": null,
            "min_width": null,
            "object_fit": null,
            "object_position": null,
            "order": null,
            "overflow": null,
            "overflow_x": null,
            "overflow_y": null,
            "padding": null,
            "right": null,
            "top": null,
            "visibility": null,
            "width": null
          }
        },
        "427f1e8bb3a74b74b56e9f1cb8672e75": {
          "model_module": "@jupyter-widgets/controls",
          "model_name": "DescriptionStyleModel",
          "model_module_version": "1.5.0",
          "state": {
            "_model_module": "@jupyter-widgets/controls",
            "_model_module_version": "1.5.0",
            "_model_name": "DescriptionStyleModel",
            "_view_count": null,
            "_view_module": "@jupyter-widgets/base",
            "_view_module_version": "1.2.0",
            "_view_name": "StyleView",
            "description_width": ""
          }
        },
        "028a07835c2e4175a99a1de072bdc0cc": {
          "model_module": "@jupyter-widgets/base",
          "model_name": "LayoutModel",
          "model_module_version": "1.2.0",
          "state": {
            "_model_module": "@jupyter-widgets/base",
            "_model_module_version": "1.2.0",
            "_model_name": "LayoutModel",
            "_view_count": null,
            "_view_module": "@jupyter-widgets/base",
            "_view_module_version": "1.2.0",
            "_view_name": "LayoutView",
            "align_content": null,
            "align_items": null,
            "align_self": null,
            "border": null,
            "bottom": null,
            "display": null,
            "flex": null,
            "flex_flow": null,
            "grid_area": null,
            "grid_auto_columns": null,
            "grid_auto_flow": null,
            "grid_auto_rows": null,
            "grid_column": null,
            "grid_gap": null,
            "grid_row": null,
            "grid_template_areas": null,
            "grid_template_columns": null,
            "grid_template_rows": null,
            "height": null,
            "justify_content": null,
            "justify_items": null,
            "left": null,
            "margin": null,
            "max_height": null,
            "max_width": null,
            "min_height": null,
            "min_width": null,
            "object_fit": null,
            "object_position": null,
            "order": null,
            "overflow": null,
            "overflow_x": null,
            "overflow_y": null,
            "padding": null,
            "right": null,
            "top": null,
            "visibility": null,
            "width": null
          }
        },
        "6af1bdb673de417db090cdc50a8c1714": {
          "model_module": "@jupyter-widgets/controls",
          "model_name": "ProgressStyleModel",
          "model_module_version": "1.5.0",
          "state": {
            "_model_module": "@jupyter-widgets/controls",
            "_model_module_version": "1.5.0",
            "_model_name": "ProgressStyleModel",
            "_view_count": null,
            "_view_module": "@jupyter-widgets/base",
            "_view_module_version": "1.2.0",
            "_view_name": "StyleView",
            "bar_color": null,
            "description_width": ""
          }
        },
        "cde24f832b0c4c61a7e125d2be3b776f": {
          "model_module": "@jupyter-widgets/base",
          "model_name": "LayoutModel",
          "model_module_version": "1.2.0",
          "state": {
            "_model_module": "@jupyter-widgets/base",
            "_model_module_version": "1.2.0",
            "_model_name": "LayoutModel",
            "_view_count": null,
            "_view_module": "@jupyter-widgets/base",
            "_view_module_version": "1.2.0",
            "_view_name": "LayoutView",
            "align_content": null,
            "align_items": null,
            "align_self": null,
            "border": null,
            "bottom": null,
            "display": null,
            "flex": null,
            "flex_flow": null,
            "grid_area": null,
            "grid_auto_columns": null,
            "grid_auto_flow": null,
            "grid_auto_rows": null,
            "grid_column": null,
            "grid_gap": null,
            "grid_row": null,
            "grid_template_areas": null,
            "grid_template_columns": null,
            "grid_template_rows": null,
            "height": null,
            "justify_content": null,
            "justify_items": null,
            "left": null,
            "margin": null,
            "max_height": null,
            "max_width": null,
            "min_height": null,
            "min_width": null,
            "object_fit": null,
            "object_position": null,
            "order": null,
            "overflow": null,
            "overflow_x": null,
            "overflow_y": null,
            "padding": null,
            "right": null,
            "top": null,
            "visibility": null,
            "width": null
          }
        },
        "a2387dd167014b519ba1b79476c106e8": {
          "model_module": "@jupyter-widgets/controls",
          "model_name": "DescriptionStyleModel",
          "model_module_version": "1.5.0",
          "state": {
            "_model_module": "@jupyter-widgets/controls",
            "_model_module_version": "1.5.0",
            "_model_name": "DescriptionStyleModel",
            "_view_count": null,
            "_view_module": "@jupyter-widgets/base",
            "_view_module_version": "1.2.0",
            "_view_name": "StyleView",
            "description_width": ""
          }
        }
      }
    }
  },
  "nbformat": 4,
  "nbformat_minor": 5
}