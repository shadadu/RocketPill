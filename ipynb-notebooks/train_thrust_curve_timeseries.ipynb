{
 "cells": [
  {
   "cell_type": "code",
   "execution_count": 1,
   "id": "fb7c3a87-dd1d-47de-a29e-0e42e5143567",
   "metadata": {},
   "outputs": [],
   "source": [
    "from datasets import load_dataset\n",
    "import matplotlib.pyplot as plt\n",
    "from functools import lru_cache, partial\n",
    "import pandas as pd\n",
    "import numpy as np\n",
    "from gluonts.dataset.multivariate_grouper import MultivariateGrouper\n",
    "from gluonts.time_feature import get_lags_for_frequency\n",
    "from pandas.core.arrays.period import period_array\n",
    "from transformers import InformerConfig, InformerForPrediction\n",
    "from transformers import PretrainedConfig\n",
    "from typing import Optional\n",
    "\n",
    "from gluonts.transform.sampler import InstanceSampler\n",
    "\n",
    "\n",
    "from gluonts.time_feature import TimeFeature\n",
    "from gluonts.dataset.field_names import FieldName\n",
    "from gluonts.transform import (\n",
    "    AddAgeFeature,\n",
    "    AddObservedValuesIndicator,\n",
    "    AddTimeFeatures,\n",
    "    AsNumpyArray,\n",
    "    Chain,\n",
    "    ExpectedNumInstanceSampler,\n",
    "    InstanceSplitter,\n",
    "    RemoveFields,\n",
    "    SelectFields,\n",
    "    SetField,\n",
    "    TestSplitSampler,\n",
    "    Transformation,\n",
    "    ValidationSplitSampler,\n",
    "    VstackFeatures,\n",
    "    RenameFields,\n",
    ")\n",
    "\n",
    "from accelerate import Accelerator\n",
    "from torch.optim import AdamW\n"
   ]
  },
  {
   "cell_type": "code",
   "execution_count": 2,
   "id": "01245d6e-567c-483f-be0c-881c6cf22359",
   "metadata": {},
   "outputs": [],
   "source": [
    "tc_dataset = load_dataset(\"shaddie/thrust_curves_dataset\")"
   ]
  },
  {
   "cell_type": "code",
   "execution_count": 3,
   "id": "af4db824-0b8c-4ffe-9dde-081e11ff6290",
   "metadata": {},
   "outputs": [],
   "source": [
    "def find_pad_max(dataset):\n",
    "    l=len(dataset)\n",
    "    m = 0\n",
    "    for r in range(l):\n",
    "        # real = tc_dataset[split][r]['feat_dynamic_real']\n",
    "        target = dataset[r]['target']\n",
    "        if m < len(target):\n",
    "            m = len(target)\n",
    "\n",
    "    return m\n",
    "\n",
    "\n",
    "def pad_data(data, m, split):\n",
    "    l=len(data)\n",
    "    tc = []\n",
    "    for r in range(l):\n",
    "        real = data[r]['feat_dynamic_real']\n",
    "        target = data[r]['target']\n",
    "        rlen = len(real)\n",
    "        pad = [0 for _ in range(61-rlen)]\n",
    "        # target = tc_dataset['train'][r]['target']\n",
    "        real = real + pad\n",
    "        target = target + pad\n",
    "        tc.append({\n",
    "            'start': data[r]['start'],\n",
    "            'target': target,\n",
    "            'feat_static_cat': data[r]['feat_static_cat'],\n",
    "            'feat_dynamic_real': real,\n",
    "            'item_id': data[r]['item_id']\n",
    "                }\n",
    "            )\n",
    "        \n",
    "    return tc"
   ]
  },
  {
   "cell_type": "code",
   "execution_count": 4,
   "id": "6f5c9dda-f4c0-4a89-bc83-8c394bdd34f5",
   "metadata": {},
   "outputs": [],
   "source": [
    "from datasets import Dataset\n",
    "m = find_pad_max(tc_dataset[\"train\"])\n",
    "split=\"train\""
   ]
  },
  {
   "cell_type": "code",
   "execution_count": 5,
   "id": "29b91cee-d666-4ffe-815d-f425952b762e",
   "metadata": {},
   "outputs": [],
   "source": [
    "tc = pad_data(tc_dataset[split], m=m, split=split)"
   ]
  },
  {
   "cell_type": "code",
   "execution_count": 6,
   "id": "cb065aac-b0f6-4614-8657-39fcee289f46",
   "metadata": {},
   "outputs": [],
   "source": [
    "train_dataset=Dataset.from_list(tc)"
   ]
  },
  {
   "cell_type": "code",
   "execution_count": 7,
   "id": "f5acf98c-297d-4029-ad49-832e360b31a9",
   "metadata": {},
   "outputs": [
    {
     "data": {
      "text/plain": [
       "Dataset({\n",
       "    features: ['start', 'target', 'feat_static_cat', 'feat_dynamic_real', 'item_id'],\n",
       "    num_rows: 266\n",
       "})"
      ]
     },
     "execution_count": 7,
     "metadata": {},
     "output_type": "execute_result"
    }
   ],
   "source": [
    "train_dataset"
   ]
  },
  {
   "cell_type": "code",
   "execution_count": 8,
   "id": "c0c1b70b-578a-424f-a1fa-0483a03808f9",
   "metadata": {},
   "outputs": [],
   "source": [
    "freq = \"1W\"\n",
    "prediction_length = 8\n",
    "\n",
    "# assert len(train_example[\"target\"]) + prediction_length == len(\n",
    "#     dataset[\"validation\"][0][\"target\"]\n",
    "# )"
   ]
  },
  {
   "cell_type": "code",
   "execution_count": 9,
   "id": "414f227c-4179-4070-8120-f1d6ad693f17",
   "metadata": {},
   "outputs": [
    {
     "data": {
      "text/plain": [
       "dict_keys(['start', 'target', 'feat_static_cat', 'feat_dynamic_real', 'item_id'])"
      ]
     },
     "execution_count": 9,
     "metadata": {},
     "output_type": "execute_result"
    }
   ],
   "source": [
    "train_example =train_dataset[0]\n",
    "train_example.keys()"
   ]
  },
  {
   "cell_type": "code",
   "execution_count": 10,
   "id": "16841c07-bacd-409a-8256-264f809bc167",
   "metadata": {},
   "outputs": [
    {
     "data": {
      "image/png": "[encoded data removed]",
      "text/plain": [
       "<Figure size 640x480 with 1 Axes>"
      ]
     },
     "metadata": {},
     "output_type": "display_data"
    }
   ],
   "source": [
    "num_of_samples = 150\n",
    "\n",
    "figure, axes = plt.subplots()\n",
    "axes.plot(train_example[\"target\"][-num_of_samples:], \n",
    "          train_example[\"feat_dynamic_real\"][-num_of_samples:],\n",
    "          color=\"blue\")\n",
    "\n",
    "plt.show()"
   ]
  },
  {
   "cell_type": "code",
   "execution_count": 11,
   "id": "b802b9b3-0a9e-4546-96e0-61c1a8dda3ea",
   "metadata": {},
   "outputs": [],
   "source": [
    "@lru_cache(10_000)\n",
    "def convert_to_pandas_period(date, freq):\n",
    "    return pd.Period(date, freq)\n",
    "\n",
    "\n",
    "def transform_start_field(batch, freq):\n",
    "    batch[\"start\"] = [convert_to_pandas_period(date, freq) for date in batch[\"start\"]]\n",
    "    return batch"
   ]
  },
  {
   "cell_type": "code",
   "execution_count": 12,
   "id": "600028d7-a2a4-4d8f-905f-168eaa2dee28",
   "metadata": {},
   "outputs": [],
   "source": [
    "train_dataset.set_transform(partial(transform_start_field, freq=freq))\n",
    "# test_dataset.set_transform(partial(transform_start_field, freq=freq))"
   ]
  },
  {
   "cell_type": "code",
   "execution_count": 13,
   "id": "642a647f-d53b-481f-8704-8f97470198f3",
   "metadata": {},
   "outputs": [],
   "source": [
    "num_of_variates = len(train_dataset)\n",
    "\n",
    "train_grouper = MultivariateGrouper(max_target_dim=num_of_variates)\n",
    "# test_grouper = MultivariateGrouper(\n",
    "#     max_target_dim=num_of_variates,\n",
    "#     num_test_dates= None, # len(test_dataset)\n",
    "#     num_of_variates  # number of rolling test windows\n",
    "# )\n",
    "\n",
    "multi_variate_train_dataset = train_grouper(train_dataset)\n",
    "# multi_variate_test_dataset = test_grouper(test_dataset)"
   ]
  },
  {
   "cell_type": "code",
   "execution_count": 14,
   "id": "3223c9fe-093b-4096-ba82-70f28113d546",
   "metadata": {},
   "outputs": [
    {
     "name": "stdout",
     "output_type": "stream",
     "text": [
      "multi_variate_train_example['target'].shape = (266, 99)\n"
     ]
    }
   ],
   "source": [
    "multi_variate_train_example = multi_variate_train_dataset[0]\n",
    "print(\n",
    "    f\"multi_variate_train_example['target'].shape = {multi_variate_train_example['target'].shape}\"\n",
    ")"
   ]
  },
  {
   "cell_type": "code",
   "execution_count": 15,
   "id": "cee8848f-3d3a-420b-a1f7-a4670d69f638",
   "metadata": {},
   "outputs": [
    {
     "name": "stdout",
     "output_type": "stream",
     "text": [
      "[<function day_of_month at 0x134b11300>, <function week_of_year at 0x134b116c0>]\n"
     ]
    }
   ],
   "source": [
    "from gluonts.time_feature import time_features_from_frequency_str\n",
    "\n",
    "time_features = time_features_from_frequency_str(freq)\n",
    "print(time_features)"
   ]
  },
  {
   "cell_type": "markdown",
   "id": "da3f00bb-84b5-43a4-89d0-2cff2ef6d876",
   "metadata": {},
   "source": [
    "Look back certain time range for each time step, as additional features \"lags_sequence\""
   ]
  },
  {
   "cell_type": "code",
   "execution_count": 16,
   "id": "e902b76c-6b1c-4852-b35c-626e4659f32e",
   "metadata": {},
   "outputs": [
    {
     "name": "stdout",
     "output_type": "stream",
     "text": [
      "[1, 2, 3, 4, 5, 6, 7, 8, 12, 51, 52, 53, 103, 104, 105, 155, 156, 157]\n"
     ]
    }
   ],
   "source": [
    "lags_sequence = get_lags_for_frequency(freq)\n",
    "print(lags_sequence)"
   ]
  },
  {
   "cell_type": "code",
   "execution_count": 17,
   "id": "2e1358e5-92af-46e8-8366-08a865067125",
   "metadata": {},
   "outputs": [
    {
     "name": "stdout",
     "output_type": "stream",
     "text": [
      "{'day_of_month': array([-0.36666667]), 'week_of_year': array([-0.5])}\n"
     ]
    }
   ],
   "source": [
    "timestamp = pd.Period(\"2025-01-01 01:00:01\", freq=freq)\n",
    "timestamp_as_index = pd.PeriodIndex(data=period_array([timestamp]))\n",
    "additional_features = [\n",
    "    (time_feature.__name__, time_feature(timestamp_as_index))\n",
    "    for time_feature in time_features\n",
    "]\n",
    "print(dict(additional_features))"
   ]
  },
  {
   "cell_type": "code",
   "execution_count": 18,
   "id": "ec7e5895-9d89-4148-a8c3-ed1bebf783d6",
   "metadata": {},
   "outputs": [],
   "source": [
    "config = InformerConfig(\n",
    "    # in the multivariate setting, input_size is the number of variates in the time series per time step\n",
    "    input_size=num_of_variates,\n",
    "    # prediction length:\n",
    "    prediction_length=prediction_length,\n",
    "    # context length:\n",
    "    context_length=prediction_length * 2,\n",
    "    # lags value copied from 1 week before:\n",
    "    lags_sequence=[1, 24 * 7],\n",
    "    # we'll add 5 time features (\"hour_of_day\", ..., and \"age\"):\n",
    "    num_time_features=len(time_features) + 1,\n",
    "    # informer params:\n",
    "    dropout=0.1,\n",
    "    encoder_layers=6,\n",
    "    decoder_layers=4,\n",
    "    # project input from num_of_variates*len(lags_sequence)+num_time_features to:\n",
    "    d_model=64,\n",
    ")\n",
    "\n",
    "model = InformerForPrediction(config)"
   ]
  },
  {
   "cell_type": "code",
   "execution_count": 19,
   "id": "5e18bb22-004f-4176-9c4b-3051b6226d31",
   "metadata": {},
   "outputs": [
    {
     "data": {
      "text/plain": [
       "'student_t'"
      ]
     },
     "execution_count": 19,
     "metadata": {},
     "output_type": "execute_result"
    }
   ],
   "source": [
    "model.config.distribution_output"
   ]
  },
  {
   "cell_type": "code",
   "execution_count": 20,
   "id": "b2265052-836a-4131-b12c-2df354ad9133",
   "metadata": {},
   "outputs": [],
   "source": [
    "def create_transformation(freq: str, config: PretrainedConfig) -> Transformation:\n",
    "    # create list of fields to remove later\n",
    "    remove_field_names = []\n",
    "    if config.num_static_real_features == 0:\n",
    "        remove_field_names.append(FieldName.FEAT_STATIC_REAL)\n",
    "    if config.num_dynamic_real_features == 0:\n",
    "        remove_field_names.append(FieldName.FEAT_DYNAMIC_REAL)\n",
    "    if config.num_static_categorical_features == 0:\n",
    "        remove_field_names.append(FieldName.FEAT_STATIC_CAT)\n",
    "\n",
    "    return Chain(\n",
    "        # step 1: remove static/dynamic fields if not specified\n",
    "        [RemoveFields(field_names=remove_field_names)]\n",
    "        # step 2: convert the data to NumPy (potentially not needed)\n",
    "        + (\n",
    "            [\n",
    "                AsNumpyArray(\n",
    "                    field=FieldName.FEAT_STATIC_CAT,\n",
    "                    expected_ndim=1,\n",
    "                    dtype=int,\n",
    "                )\n",
    "            ]\n",
    "            if config.num_static_categorical_features > 0\n",
    "            else []\n",
    "        )\n",
    "        + (\n",
    "            [\n",
    "                AsNumpyArray(\n",
    "                    field=FieldName.FEAT_STATIC_REAL,\n",
    "                    expected_ndim=1,\n",
    "                )\n",
    "            ]\n",
    "            if config.num_static_real_features > 0\n",
    "            else []\n",
    "        )\n",
    "        + [\n",
    "            AsNumpyArray(\n",
    "                field=FieldName.TARGET,\n",
    "                # we expect an extra dim for the multivariate case:\n",
    "                expected_ndim=1 if config.input_size == 1 else 2,\n",
    "            ),\n",
    "            # step 3: handle the NaN's by filling in the target with zero\n",
    "            # and return the mask (which is in the observed values)\n",
    "            # true for observed values, false for nan's\n",
    "            # the decoder uses this mask (no loss is incurred for unobserved values)\n",
    "            # see loss_weights inside the xxxForPrediction model\n",
    "            AddObservedValuesIndicator(\n",
    "                target_field=FieldName.TARGET,\n",
    "                output_field=FieldName.OBSERVED_VALUES,\n",
    "            ),\n",
    "            # step 4: add temporal features based on freq of the dataset\n",
    "            # these serve as positional encodings\n",
    "            AddTimeFeatures(\n",
    "                start_field=FieldName.START,\n",
    "                target_field=FieldName.TARGET,\n",
    "                output_field=FieldName.FEAT_TIME,\n",
    "                time_features=time_features_from_frequency_str(freq),\n",
    "                pred_length=config.prediction_length,\n",
    "            ),\n",
    "            # step 5: add another temporal feature (just a single number)\n",
    "            # tells the model where in the life the value of the time series is\n",
    "            # sort of running counter\n",
    "            AddAgeFeature(\n",
    "                target_field=FieldName.TARGET,\n",
    "                output_field=FieldName.FEAT_AGE,\n",
    "                pred_length=config.prediction_length,\n",
    "                log_scale=True,\n",
    "            ),\n",
    "            # step 6: vertically stack all the temporal features into the key FEAT_TIME\n",
    "            VstackFeatures(\n",
    "                output_field=FieldName.FEAT_TIME,\n",
    "                input_fields=[FieldName.FEAT_TIME, FieldName.FEAT_AGE]\n",
    "                + (\n",
    "                    [FieldName.FEAT_DYNAMIC_REAL]\n",
    "                    if config.num_dynamic_real_features > 0\n",
    "                    else []\n",
    "                ),\n",
    "            ),\n",
    "            # step 7: rename to match HuggingFace names\n",
    "            RenameFields(\n",
    "                mapping={\n",
    "                    FieldName.FEAT_STATIC_CAT: \"static_categorical_features\",\n",
    "                    FieldName.FEAT_STATIC_REAL: \"static_real_features\",\n",
    "                    FieldName.FEAT_TIME: \"time_features\",\n",
    "                    FieldName.TARGET: \"values\",\n",
    "                    FieldName.OBSERVED_VALUES: \"observed_mask\",\n",
    "                }\n",
    "            ),\n",
    "        ]\n",
    "    )"
   ]
  },
  {
   "cell_type": "code",
   "execution_count": 21,
   "id": "b8850e0d-a330-4d7a-a528-c6cfb7e0ed9e",
   "metadata": {},
   "outputs": [],
   "source": [
    "def create_instance_splitter(\n",
    "    config: PretrainedConfig,\n",
    "    mode: str,\n",
    "    train_sampler: Optional[InstanceSampler] = None,\n",
    "    validation_sampler: Optional[InstanceSampler] = None,\n",
    ") -> Transformation:\n",
    "    assert mode in [\"train\", \"validation\", \"test\"]\n",
    "\n",
    "    instance_sampler = {\n",
    "        \"train\": train_sampler\n",
    "        or ExpectedNumInstanceSampler(\n",
    "            num_instances=1.0, min_future=config.prediction_length\n",
    "        ),\n",
    "        \"validation\": validation_sampler\n",
    "        or ValidationSplitSampler(min_future=config.prediction_length),\n",
    "        \"test\": TestSplitSampler(),\n",
    "    }[mode]\n",
    "\n",
    "    return InstanceSplitter(\n",
    "        target_field=\"values\",\n",
    "        is_pad_field=FieldName.IS_PAD,\n",
    "        start_field=FieldName.START,\n",
    "        forecast_start_field=FieldName.FORECAST_START,\n",
    "        instance_sampler=instance_sampler,\n",
    "        past_length=config.context_length + max(config.lags_sequence),\n",
    "        future_length=config.prediction_length,\n",
    "        time_series_fields=[\"time_features\", \"observed_mask\"],\n",
    "    )"
   ]
  },
  {
   "cell_type": "code",
   "execution_count": 22,
   "id": "3167024f-4064-496b-b442-12d5a80b40c2",
   "metadata": {},
   "outputs": [],
   "source": [
    "from typing import Iterable\n",
    "\n",
    "import torch\n",
    "from gluonts.itertools import Cached, Cyclic\n",
    "from gluonts.dataset.loader import as_stacked_batches\n",
    "\n",
    "\n",
    "def create_train_dataloader(\n",
    "    config: PretrainedConfig,\n",
    "    freq,\n",
    "    data,\n",
    "    batch_size: int,\n",
    "    num_batches_per_epoch: int,\n",
    "    shuffle_buffer_length: Optional[int] = None,\n",
    "    cache_data: bool = True,\n",
    "    **kwargs,\n",
    ") -> Iterable:\n",
    "    PREDICTION_INPUT_NAMES = [\n",
    "        \"past_time_features\",\n",
    "        \"past_values\",\n",
    "        \"past_observed_mask\",\n",
    "        \"future_time_features\",\n",
    "    ]\n",
    "    if config.num_static_categorical_features > 0:\n",
    "        PREDICTION_INPUT_NAMES.append(\"static_categorical_features\")\n",
    "\n",
    "    if config.num_static_real_features > 0:\n",
    "        PREDICTION_INPUT_NAMES.append(\"static_real_features\")\n",
    "\n",
    "    TRAINING_INPUT_NAMES = PREDICTION_INPUT_NAMES + [\n",
    "        \"future_values\",\n",
    "        \"future_observed_mask\",\n",
    "    ]\n",
    "\n",
    "    transformation = create_transformation(freq, config)\n",
    "    transformed_data = transformation.apply(data, is_train=True)\n",
    "    if cache_data:\n",
    "        transformed_data = Cached(transformed_data)\n",
    "\n",
    "    # we initialize a Training instance\n",
    "    instance_splitter = create_instance_splitter(config, \"train\")\n",
    "\n",
    "    # the instance splitter will sample a window of\n",
    "    # context length + lags + prediction length (from all the possible transformed time series, 1 in our case)\n",
    "    # randomly from within the target time series and return an iterator.\n",
    "    stream = Cyclic(transformed_data).stream()\n",
    "    training_instances = instance_splitter.apply(stream)\n",
    "\n",
    "    return as_stacked_batches(\n",
    "        training_instances,\n",
    "        batch_size=batch_size,\n",
    "        shuffle_buffer_length=shuffle_buffer_length,\n",
    "        field_names=TRAINING_INPUT_NAMES,\n",
    "        output_type=torch.tensor,\n",
    "        num_batches_per_epoch=num_batches_per_epoch,\n",
    "    )"
   ]
  },
  {
   "cell_type": "code",
   "execution_count": 23,
   "id": "1d9e0668-ceac-47a7-9ecf-fa7868267258",
   "metadata": {},
   "outputs": [],
   "source": [
    "train_dataloader = create_train_dataloader(\n",
    "    config=config,\n",
    "    freq=freq,\n",
    "    data=multi_variate_train_dataset,\n",
    "    batch_size=256,\n",
    "    num_batches_per_epoch=100,\n",
    "    num_workers=2,\n",
    ")"
   ]
  },
  {
   "cell_type": "code",
   "execution_count": 24,
   "id": "c51f58dc-21f6-4c05-9da8-cd726eeeb4d3",
   "metadata": {},
   "outputs": [
    {
     "name": "stdout",
     "output_type": "stream",
     "text": [
      "past_time_features torch.Size([256, 184, 3]) torch.FloatTensor\n",
      "past_values torch.Size([256, 184, 266]) torch.FloatTensor\n",
      "past_observed_mask torch.Size([256, 184, 266]) torch.FloatTensor\n",
      "future_time_features torch.Size([256, 8, 3]) torch.FloatTensor\n",
      "future_values torch.Size([256, 8, 266]) torch.FloatTensor\n",
      "future_observed_mask torch.Size([256, 8, 266]) torch.FloatTensor\n"
     ]
    }
   ],
   "source": [
    "batch = next(iter(train_dataloader))\n",
    "for k, v in batch.items():\n",
    "    print(k, v.shape, v.type())"
   ]
  },
  {
   "cell_type": "code",
   "execution_count": 25,
   "id": "ed0c81f1-8d8a-4f94-b34a-5718e79293c6",
   "metadata": {},
   "outputs": [
    {
     "name": "stderr",
     "output_type": "stream",
     "text": [
      "Epoch 1/250 : 1it [00:02,  2.02s/it, loss=-521]"
     ]
    },
    {
     "name": "stdout",
     "output_type": "stream",
     "text": [
      "Epoch 0 & idx 0 with loss: -520.8426513671875\n"
     ]
    },
    {
     "name": "stderr",
     "output_type": "stream",
     "text": [
      "Epoch 1/250 : 100it [00:32,  3.04it/s, loss=-637]\n",
      "Epoch 2/250 : 1it [00:00,  4.12it/s, loss=-604]"
     ]
    },
    {
     "name": "stdout",
     "output_type": "stream",
     "text": [
      "Epoch 1 & idx 0 with loss: -568.7760009765625\n"
     ]
    },
    {
     "name": "stderr",
     "output_type": "stream",
     "text": [
      "Epoch 2/250 : 100it [00:34,  2.86it/s, loss=-714]\n",
      "Epoch 3/250 : 1it [00:00,  2.88it/s, loss=-823]"
     ]
    },
    {
     "name": "stdout",
     "output_type": "stream",
     "text": [
      "Epoch 2 & idx 0 with loss: -831.4459838867188\n"
     ]
    },
    {
     "name": "stderr",
     "output_type": "stream",
     "text": [
      "Epoch 3/250 : 100it [00:32,  3.11it/s, loss=-784]\n",
      "Epoch 4/250 : 1it [00:00,  3.15it/s, loss=-710]"
     ]
    },
    {
     "name": "stdout",
     "output_type": "stream",
     "text": [
      "Epoch 3 & idx 0 with loss: -723.0618286132812\n"
     ]
    },
    {
     "name": "stderr",
     "output_type": "stream",
     "text": [
      "Epoch 4/250 : 100it [00:30,  3.29it/s, loss=-836]\n",
      "Epoch 5/250 : 1it [00:00,  3.33it/s, loss=-903]"
     ]
    },
    {
     "name": "stdout",
     "output_type": "stream",
     "text": [
      "Epoch 4 & idx 0 with loss: -862.5682373046875\n"
     ]
    },
    {
     "name": "stderr",
     "output_type": "stream",
     "text": [
      "Epoch 5/250 : 100it [00:31,  3.19it/s, loss=-872]\n",
      "Epoch 6/250 : 1it [00:00,  2.84it/s, loss=-909]"
     ]
    },
    {
     "name": "stdout",
     "output_type": "stream",
     "text": [
      "Epoch 5 & idx 0 with loss: -872.56396484375\n"
     ]
    },
    {
     "name": "stderr",
     "output_type": "stream",
     "text": [
      "Epoch 6/250 : 100it [00:31,  3.20it/s, loss=-917]\n",
      "Epoch 7/250 : 1it [00:00,  3.21it/s, loss=-1.01e+3]"
     ]
    },
    {
     "name": "stdout",
     "output_type": "stream",
     "text": [
      "Epoch 6 & idx 0 with loss: -983.702880859375\n"
     ]
    },
    {
     "name": "stderr",
     "output_type": "stream",
     "text": [
      "Epoch 7/250 : 100it [00:31,  3.18it/s, loss=-962]  \n",
      "Epoch 8/250 : 1it [00:00,  2.94it/s, loss=-994]"
     ]
    },
    {
     "name": "stdout",
     "output_type": "stream",
     "text": [
      "Epoch 7 & idx 0 with loss: -906.5989990234375\n"
     ]
    },
    {
     "name": "stderr",
     "output_type": "stream",
     "text": [
      "Epoch 8/250 : 100it [00:31,  3.16it/s, loss=-998]   \n",
      "Epoch 9/250 : 1it [00:00,  2.94it/s, loss=-1.02e+3]"
     ]
    },
    {
     "name": "stdout",
     "output_type": "stream",
     "text": [
      "Epoch 8 & idx 0 with loss: -998.8370361328125\n"
     ]
    },
    {
     "name": "stderr",
     "output_type": "stream",
     "text": [
      "Epoch 9/250 : 100it [00:31,  3.17it/s, loss=-1.02e+3]\n",
      "Epoch 10/250 : 1it [00:00,  3.13it/s, loss=-1.01e+3]"
     ]
    },
    {
     "name": "stdout",
     "output_type": "stream",
     "text": [
      "Epoch 9 & idx 0 with loss: -1083.7022705078125\n"
     ]
    },
    {
     "name": "stderr",
     "output_type": "stream",
     "text": [
      "Epoch 10/250 : 100it [00:32,  3.10it/s, loss=-1.05e+3]\n",
      "Epoch 11/250 : 1it [00:00,  2.92it/s, loss=-989]"
     ]
    },
    {
     "name": "stdout",
     "output_type": "stream",
     "text": [
      "Epoch 10 & idx 0 with loss: -981.2348022460938\n"
     ]
    },
    {
     "name": "stderr",
     "output_type": "stream",
     "text": [
      "Epoch 11/250 : 100it [00:32,  3.11it/s, loss=-1.07e+3]\n",
      "Epoch 12/250 : 1it [00:00,  3.43it/s, loss=-1.03e+3]"
     ]
    },
    {
     "name": "stdout",
     "output_type": "stream",
     "text": [
      "Epoch 11 & idx 0 with loss: -1046.550048828125\n"
     ]
    },
    {
     "name": "stderr",
     "output_type": "stream",
     "text": [
      "Epoch 12/250 : 100it [00:31,  3.15it/s, loss=-1.09e+3]\n",
      "Epoch 13/250 : 1it [00:00,  2.94it/s, loss=-1.11e+3]"
     ]
    },
    {
     "name": "stdout",
     "output_type": "stream",
     "text": [
      "Epoch 12 & idx 0 with loss: -1164.9244384765625\n"
     ]
    },
    {
     "name": "stderr",
     "output_type": "stream",
     "text": [
      "Epoch 13/250 : 100it [00:32,  3.12it/s, loss=-1.12e+3]\n",
      "Epoch 14/250 : 1it [00:00,  3.00it/s, loss=-1.1e+3]"
     ]
    },
    {
     "name": "stdout",
     "output_type": "stream",
     "text": [
      "Epoch 13 & idx 0 with loss: -1101.0653076171875\n"
     ]
    },
    {
     "name": "stderr",
     "output_type": "stream",
     "text": [
      "Epoch 14/250 : 100it [00:32,  3.09it/s, loss=-1.13e+3]\n",
      "Epoch 15/250 : 1it [00:00,  2.91it/s, loss=-1.08e+3]"
     ]
    },
    {
     "name": "stdout",
     "output_type": "stream",
     "text": [
      "Epoch 14 & idx 0 with loss: -1084.833740234375\n"
     ]
    },
    {
     "name": "stderr",
     "output_type": "stream",
     "text": [
      "Epoch 15/250 : 100it [00:32,  3.11it/s, loss=-1.15e+3]\n",
      "Epoch 16/250 : 1it [00:00,  3.45it/s, loss=-1.16e+3]"
     ]
    },
    {
     "name": "stdout",
     "output_type": "stream",
     "text": [
      "Epoch 15 & idx 0 with loss: -1193.6748046875\n"
     ]
    },
    {
     "name": "stderr",
     "output_type": "stream",
     "text": [
      "Epoch 16/250 : 100it [00:31,  3.15it/s, loss=-1.17e+3]\n",
      "Epoch 17/250 : 1it [00:00,  2.93it/s, loss=-1.13e+3]"
     ]
    },
    {
     "name": "stdout",
     "output_type": "stream",
     "text": [
      "Epoch 16 & idx 0 with loss: -1098.6455078125\n"
     ]
    },
    {
     "name": "stderr",
     "output_type": "stream",
     "text": [
      "Epoch 17/250 : 100it [00:31,  3.20it/s, loss=-1.17e+3]\n",
      "Epoch 18/250 : 1it [00:00,  3.56it/s, loss=-1.19e+3]"
     ]
    },
    {
     "name": "stdout",
     "output_type": "stream",
     "text": [
      "Epoch 17 & idx 0 with loss: -1123.2037353515625\n"
     ]
    },
    {
     "name": "stderr",
     "output_type": "stream",
     "text": [
      "Epoch 18/250 : 100it [00:31,  3.14it/s, loss=-1.2e+3]\n",
      "Epoch 19/250 : 1it [00:00,  3.88it/s, loss=-1.14e+3]"
     ]
    },
    {
     "name": "stdout",
     "output_type": "stream",
     "text": [
      "Epoch 18 & idx 0 with loss: -1137.4666748046875\n"
     ]
    },
    {
     "name": "stderr",
     "output_type": "stream",
     "text": [
      "Epoch 19/250 : 100it [00:31,  3.14it/s, loss=-1.21e+3]\n",
      "Epoch 20/250 : 1it [00:00,  2.42it/s, loss=-1.12e+3]"
     ]
    },
    {
     "name": "stdout",
     "output_type": "stream",
     "text": [
      "Epoch 19 & idx 0 with loss: -1120.44091796875\n"
     ]
    },
    {
     "name": "stderr",
     "output_type": "stream",
     "text": [
      "Epoch 20/250 : 100it [00:32,  3.05it/s, loss=-1.21e+3]\n",
      "Epoch 21/250 : 1it [00:00,  3.17it/s, loss=-1.26e+3]"
     ]
    },
    {
     "name": "stdout",
     "output_type": "stream",
     "text": [
      "Epoch 20 & idx 0 with loss: -1266.80029296875\n"
     ]
    },
    {
     "name": "stderr",
     "output_type": "stream",
     "text": [
      "Epoch 21/250 : 100it [00:31,  3.14it/s, loss=-1.23e+3]\n",
      "Epoch 22/250 : 1it [00:00,  3.04it/s, loss=-1.2e+3] "
     ]
    },
    {
     "name": "stdout",
     "output_type": "stream",
     "text": [
      "Epoch 21 & idx 0 with loss: -1276.11572265625\n"
     ]
    },
    {
     "name": "stderr",
     "output_type": "stream",
     "text": [
      "Epoch 22/250 : 100it [00:32,  3.12it/s, loss=-1.25e+3]\n",
      "Epoch 23/250 : 1it [00:00,  2.99it/s, loss=-1.19e+3]"
     ]
    },
    {
     "name": "stdout",
     "output_type": "stream",
     "text": [
      "Epoch 22 & idx 0 with loss: -1164.4171142578125\n"
     ]
    },
    {
     "name": "stderr",
     "output_type": "stream",
     "text": [
      "Epoch 23/250 : 100it [00:31,  3.13it/s, loss=-1.25e+3]\n",
      "Epoch 24/250 : 1it [00:00,  3.03it/s, loss=-1.23e+3]"
     ]
    },
    {
     "name": "stdout",
     "output_type": "stream",
     "text": [
      "Epoch 23 & idx 0 with loss: -1220.479736328125\n"
     ]
    },
    {
     "name": "stderr",
     "output_type": "stream",
     "text": [
      "Epoch 24/250 : 100it [00:31,  3.15it/s, loss=-1.27e+3]\n",
      "Epoch 25/250 : 1it [00:00,  3.08it/s, loss=-1.19e+3]"
     ]
    },
    {
     "name": "stdout",
     "output_type": "stream",
     "text": [
      "Epoch 24 & idx 0 with loss: -1186.632080078125\n"
     ]
    },
    {
     "name": "stderr",
     "output_type": "stream",
     "text": [
      "Epoch 25/250 : 100it [00:32,  3.10it/s, loss=-1.26e+3]\n",
      "Epoch 26/250 : 1it [00:00,  3.22it/s, loss=-1.25e+3]"
     ]
    },
    {
     "name": "stdout",
     "output_type": "stream",
     "text": [
      "Epoch 25 & idx 0 with loss: -1287.8836669921875\n"
     ]
    },
    {
     "name": "stderr",
     "output_type": "stream",
     "text": [
      "Epoch 26/250 : 100it [00:31,  3.14it/s, loss=-1.27e+3]\n",
      "Epoch 27/250 : 1it [00:00,  2.97it/s, loss=-1.27e+3]"
     ]
    },
    {
     "name": "stdout",
     "output_type": "stream",
     "text": [
      "Epoch 26 & idx 0 with loss: -1225.150146484375\n"
     ]
    },
    {
     "name": "stderr",
     "output_type": "stream",
     "text": [
      "Epoch 27/250 : 100it [00:32,  3.10it/s, loss=-1.28e+3]\n",
      "Epoch 28/250 : 1it [00:00,  3.01it/s, loss=-1.24e+3]"
     ]
    },
    {
     "name": "stdout",
     "output_type": "stream",
     "text": [
      "Epoch 27 & idx 0 with loss: -1208.05029296875\n"
     ]
    },
    {
     "name": "stderr",
     "output_type": "stream",
     "text": [
      "Epoch 28/250 : 100it [00:31,  3.16it/s, loss=-1.29e+3]\n",
      "Epoch 29/250 : 1it [00:00,  3.41it/s, loss=-1.29e+3]"
     ]
    },
    {
     "name": "stdout",
     "output_type": "stream",
     "text": [
      "Epoch 28 & idx 0 with loss: -1320.935791015625\n"
     ]
    },
    {
     "name": "stderr",
     "output_type": "stream",
     "text": [
      "Epoch 29/250 : 100it [00:32,  3.08it/s, loss=-1.3e+3]\n",
      "Epoch 30/250 : 1it [00:00,  2.97it/s, loss=-1.35e+3]"
     ]
    },
    {
     "name": "stdout",
     "output_type": "stream",
     "text": [
      "Epoch 29 & idx 0 with loss: -1314.53857421875\n"
     ]
    },
    {
     "name": "stderr",
     "output_type": "stream",
     "text": [
      "Epoch 30/250 : 100it [00:32,  3.12it/s, loss=-1.32e+3]\n",
      "Epoch 31/250 : 1it [00:00,  3.43it/s, loss=-1.36e+3]"
     ]
    },
    {
     "name": "stdout",
     "output_type": "stream",
     "text": [
      "Epoch 30 & idx 0 with loss: -1353.08056640625\n"
     ]
    },
    {
     "name": "stderr",
     "output_type": "stream",
     "text": [
      "Epoch 31/250 : 100it [00:31,  3.19it/s, loss=-1.33e+3]\n",
      "Epoch 32/250 : 1it [00:00,  3.34it/s, loss=-1.28e+3]"
     ]
    },
    {
     "name": "stdout",
     "output_type": "stream",
     "text": [
      "Epoch 31 & idx 0 with loss: -1243.5731201171875\n"
     ]
    },
    {
     "name": "stderr",
     "output_type": "stream",
     "text": [
      "Epoch 32/250 : 100it [00:31,  3.17it/s, loss=-1.31e+3]\n",
      "Epoch 33/250 : 1it [00:00,  3.05it/s, loss=-1.3e+3] "
     ]
    },
    {
     "name": "stdout",
     "output_type": "stream",
     "text": [
      "Epoch 32 & idx 0 with loss: -1363.424560546875\n"
     ]
    },
    {
     "name": "stderr",
     "output_type": "stream",
     "text": [
      "Epoch 33/250 : 100it [00:31,  3.17it/s, loss=-1.32e+3]\n",
      "Epoch 34/250 : 1it [00:00,  3.39it/s, loss=-1.29e+3]"
     ]
    },
    {
     "name": "stdout",
     "output_type": "stream",
     "text": [
      "Epoch 33 & idx 0 with loss: -1280.97705078125\n"
     ]
    },
    {
     "name": "stderr",
     "output_type": "stream",
     "text": [
      "Epoch 34/250 : 100it [00:31,  3.16it/s, loss=-1.33e+3]\n",
      "Epoch 35/250 : 1it [00:00,  2.81it/s, loss=-1.25e+3]"
     ]
    },
    {
     "name": "stdout",
     "output_type": "stream",
     "text": [
      "Epoch 34 & idx 0 with loss: -1156.40478515625\n"
     ]
    },
    {
     "name": "stderr",
     "output_type": "stream",
     "text": [
      "Epoch 35/250 : 100it [00:32,  3.10it/s, loss=-1.34e+3]\n",
      "Epoch 36/250 : 1it [00:00,  2.94it/s, loss=-1.35e+3]"
     ]
    },
    {
     "name": "stdout",
     "output_type": "stream",
     "text": [
      "Epoch 35 & idx 0 with loss: -1415.2548828125\n"
     ]
    },
    {
     "name": "stderr",
     "output_type": "stream",
     "text": [
      "Epoch 36/250 : 100it [00:32,  3.10it/s, loss=-1.35e+3]\n",
      "Epoch 37/250 : 1it [00:00,  3.07it/s, loss=-1.39e+3]"
     ]
    },
    {
     "name": "stdout",
     "output_type": "stream",
     "text": [
      "Epoch 36 & idx 0 with loss: -1458.7059326171875\n"
     ]
    },
    {
     "name": "stderr",
     "output_type": "stream",
     "text": [
      "Epoch 37/250 : 100it [00:32,  3.11it/s, loss=-1.35e+3]\n",
      "Epoch 38/250 : 1it [00:00,  4.72it/s, loss=-1.22e+3]"
     ]
    },
    {
     "name": "stdout",
     "output_type": "stream",
     "text": [
      "Epoch 37 & idx 0 with loss: -1121.102294921875\n"
     ]
    },
    {
     "name": "stderr",
     "output_type": "stream",
     "text": [
      "Epoch 38/250 : 100it [00:34,  2.91it/s, loss=-1.35e+3]\n",
      "Epoch 39/250 : 1it [00:00,  2.76it/s, loss=-1.3e+3]"
     ]
    },
    {
     "name": "stdout",
     "output_type": "stream",
     "text": [
      "Epoch 38 & idx 0 with loss: -1301.294921875\n"
     ]
    },
    {
     "name": "stderr",
     "output_type": "stream",
     "text": [
      "Epoch 39/250 : 100it [00:32,  3.05it/s, loss=-1.36e+3]\n",
      "Epoch 40/250 : 1it [00:00,  3.58it/s, loss=-1.34e+3]"
     ]
    },
    {
     "name": "stdout",
     "output_type": "stream",
     "text": [
      "Epoch 39 & idx 0 with loss: -1383.72900390625\n"
     ]
    },
    {
     "name": "stderr",
     "output_type": "stream",
     "text": [
      "Epoch 40/250 : 100it [00:31,  3.17it/s, loss=-1.37e+3]\n",
      "Epoch 41/250 : 1it [00:00,  3.25it/s, loss=-1.34e+3]"
     ]
    },
    {
     "name": "stdout",
     "output_type": "stream",
     "text": [
      "Epoch 40 & idx 0 with loss: -1279.7158203125\n"
     ]
    },
    {
     "name": "stderr",
     "output_type": "stream",
     "text": [
      "Epoch 41/250 : 100it [00:30,  3.28it/s, loss=-1.36e+3]\n",
      "Epoch 42/250 : 1it [00:00,  3.27it/s, loss=-1.35e+3]"
     ]
    },
    {
     "name": "stdout",
     "output_type": "stream",
     "text": [
      "Epoch 41 & idx 0 with loss: -1367.490478515625\n"
     ]
    },
    {
     "name": "stderr",
     "output_type": "stream",
     "text": [
      "Epoch 42/250 : 100it [00:30,  3.24it/s, loss=-1.38e+3]\n",
      "Epoch 43/250 : 1it [00:00,  3.15it/s, loss=-1.33e+3]"
     ]
    },
    {
     "name": "stdout",
     "output_type": "stream",
     "text": [
      "Epoch 42 & idx 0 with loss: -1358.1102294921875\n"
     ]
    },
    {
     "name": "stderr",
     "output_type": "stream",
     "text": [
      "Epoch 43/250 : 100it [00:32,  3.09it/s, loss=-1.39e+3]\n",
      "Epoch 44/250 : 1it [00:00,  3.05it/s, loss=-1.39e+3]"
     ]
    },
    {
     "name": "stdout",
     "output_type": "stream",
     "text": [
      "Epoch 43 & idx 0 with loss: -1409.9986572265625\n"
     ]
    },
    {
     "name": "stderr",
     "output_type": "stream",
     "text": [
      "Epoch 44/250 : 100it [00:32,  3.09it/s, loss=-1.39e+3]\n",
      "Epoch 45/250 : 1it [00:00,  3.09it/s, loss=-1.39e+3]"
     ]
    },
    {
     "name": "stdout",
     "output_type": "stream",
     "text": [
      "Epoch 44 & idx 0 with loss: -1385.8983154296875\n"
     ]
    },
    {
     "name": "stderr",
     "output_type": "stream",
     "text": [
      "Epoch 45/250 : 100it [00:32,  3.06it/s, loss=-1.39e+3]\n",
      "Epoch 46/250 : 1it [00:00,  2.98it/s, loss=-1.39e+3]"
     ]
    },
    {
     "name": "stdout",
     "output_type": "stream",
     "text": [
      "Epoch 45 & idx 0 with loss: -1377.66650390625\n"
     ]
    },
    {
     "name": "stderr",
     "output_type": "stream",
     "text": [
      "Epoch 46/250 : 100it [00:32,  3.09it/s, loss=-1.39e+3]\n",
      "Epoch 47/250 : 1it [00:00,  2.98it/s, loss=-1.39e+3]"
     ]
    },
    {
     "name": "stdout",
     "output_type": "stream",
     "text": [
      "Epoch 46 & idx 0 with loss: -1274.8414306640625\n"
     ]
    },
    {
     "name": "stderr",
     "output_type": "stream",
     "text": [
      "Epoch 47/250 : 100it [00:32,  3.05it/s, loss=-1.4e+3]\n",
      "Epoch 48/250 : 1it [00:00,  3.07it/s, loss=-1.35e+3]"
     ]
    },
    {
     "name": "stdout",
     "output_type": "stream",
     "text": [
      "Epoch 47 & idx 0 with loss: -1342.407470703125\n"
     ]
    },
    {
     "name": "stderr",
     "output_type": "stream",
     "text": [
      "Epoch 48/250 : 100it [00:32,  3.05it/s, loss=-1.39e+3]\n",
      "Epoch 49/250 : 1it [00:00,  3.25it/s, loss=-1.43e+3]"
     ]
    },
    {
     "name": "stdout",
     "output_type": "stream",
     "text": [
      "Epoch 48 & idx 0 with loss: -1419.34765625\n"
     ]
    },
    {
     "name": "stderr",
     "output_type": "stream",
     "text": [
      "Epoch 49/250 : 100it [00:32,  3.09it/s, loss=-1.41e+3]\n",
      "Epoch 50/250 : 1it [00:00,  3.06it/s, loss=-1.43e+3]"
     ]
    },
    {
     "name": "stdout",
     "output_type": "stream",
     "text": [
      "Epoch 49 & idx 0 with loss: -1450.682861328125\n"
     ]
    },
    {
     "name": "stderr",
     "output_type": "stream",
     "text": [
      "Epoch 50/250 : 100it [00:32,  3.09it/s, loss=-1.4e+3]\n",
      "Epoch 51/250 : 1it [00:00,  3.09it/s, loss=-1.47e+3]"
     ]
    },
    {
     "name": "stdout",
     "output_type": "stream",
     "text": [
      "Epoch 50 & idx 0 with loss: -1483.454345703125\n"
     ]
    },
    {
     "name": "stderr",
     "output_type": "stream",
     "text": [
      "Epoch 51/250 : 100it [00:32,  3.03it/s, loss=-1.41e+3]\n",
      "Epoch 52/250 : 1it [00:00,  2.98it/s, loss=-1.46e+3]"
     ]
    },
    {
     "name": "stdout",
     "output_type": "stream",
     "text": [
      "Epoch 51 & idx 0 with loss: -1463.58154296875\n"
     ]
    },
    {
     "name": "stderr",
     "output_type": "stream",
     "text": [
      "Epoch 52/250 : 100it [00:32,  3.06it/s, loss=-1.41e+3]\n",
      "Epoch 53/250 : 1it [00:00,  2.96it/s, loss=-1.51e+3]"
     ]
    },
    {
     "name": "stdout",
     "output_type": "stream",
     "text": [
      "Epoch 52 & idx 0 with loss: -1514.97216796875\n"
     ]
    },
    {
     "name": "stderr",
     "output_type": "stream",
     "text": [
      "Epoch 53/250 : 100it [00:32,  3.11it/s, loss=-1.42e+3]\n",
      "Epoch 54/250 : 1it [00:00,  3.00it/s, loss=-1.4e+3] "
     ]
    },
    {
     "name": "stdout",
     "output_type": "stream",
     "text": [
      "Epoch 53 & idx 0 with loss: -1334.7593994140625\n"
     ]
    },
    {
     "name": "stderr",
     "output_type": "stream",
     "text": [
      "Epoch 54/250 : 100it [00:32,  3.12it/s, loss=-1.42e+3]\n",
      "Epoch 55/250 : 1it [00:00,  3.00it/s, loss=-1.41e+3]"
     ]
    },
    {
     "name": "stdout",
     "output_type": "stream",
     "text": [
      "Epoch 54 & idx 0 with loss: -1393.5511474609375\n"
     ]
    },
    {
     "name": "stderr",
     "output_type": "stream",
     "text": [
      "Epoch 55/250 : 100it [00:32,  3.08it/s, loss=-1.42e+3]\n",
      "Epoch 56/250 : 1it [00:00,  2.72it/s, loss=-1.38e+3]"
     ]
    },
    {
     "name": "stdout",
     "output_type": "stream",
     "text": [
      "Epoch 55 & idx 0 with loss: -1362.370849609375\n"
     ]
    },
    {
     "name": "stderr",
     "output_type": "stream",
     "text": [
      "Epoch 56/250 : 100it [00:32,  3.06it/s, loss=-1.42e+3]\n",
      "Epoch 57/250 : 1it [00:00,  3.33it/s, loss=-1.44e+3]"
     ]
    },
    {
     "name": "stdout",
     "output_type": "stream",
     "text": [
      "Epoch 56 & idx 0 with loss: -1406.3009033203125\n"
     ]
    },
    {
     "name": "stderr",
     "output_type": "stream",
     "text": [
      "Epoch 57/250 : 100it [00:32,  3.10it/s, loss=-1.43e+3]\n",
      "Epoch 58/250 : 1it [00:00,  3.71it/s, loss=-1.38e+3]"
     ]
    },
    {
     "name": "stdout",
     "output_type": "stream",
     "text": [
      "Epoch 57 & idx 0 with loss: -1410.1195068359375\n"
     ]
    },
    {
     "name": "stderr",
     "output_type": "stream",
     "text": [
      "Epoch 58/250 : 100it [00:32,  3.10it/s, loss=-1.43e+3]\n",
      "Epoch 59/250 : 1it [00:00,  3.09it/s, loss=-1.48e+3]"
     ]
    },
    {
     "name": "stdout",
     "output_type": "stream",
     "text": [
      "Epoch 58 & idx 0 with loss: -1412.8875732421875\n"
     ]
    },
    {
     "name": "stderr",
     "output_type": "stream",
     "text": [
      "Epoch 59/250 : 100it [00:32,  3.08it/s, loss=-1.44e+3]\n",
      "Epoch 60/250 : 1it [00:00,  3.02it/s, loss=-1.45e+3]"
     ]
    },
    {
     "name": "stdout",
     "output_type": "stream",
     "text": [
      "Epoch 59 & idx 0 with loss: -1420.225830078125\n"
     ]
    },
    {
     "name": "stderr",
     "output_type": "stream",
     "text": [
      "Epoch 60/250 : 100it [00:32,  3.05it/s, loss=-1.42e+3]\n",
      "Epoch 61/250 : 1it [00:00,  3.34it/s, loss=-1.47e+3]"
     ]
    },
    {
     "name": "stdout",
     "output_type": "stream",
     "text": [
      "Epoch 60 & idx 0 with loss: -1429.802978515625\n"
     ]
    },
    {
     "name": "stderr",
     "output_type": "stream",
     "text": [
      "Epoch 61/250 : 100it [00:32,  3.05it/s, loss=-1.44e+3]\n",
      "Epoch 62/250 : 1it [00:00,  2.89it/s, loss=-1.42e+3]"
     ]
    },
    {
     "name": "stdout",
     "output_type": "stream",
     "text": [
      "Epoch 61 & idx 0 with loss: -1423.9058837890625\n"
     ]
    },
    {
     "name": "stderr",
     "output_type": "stream",
     "text": [
      "Epoch 62/250 : 100it [00:32,  3.11it/s, loss=-1.44e+3]\n",
      "Epoch 63/250 : 1it [00:00,  2.92it/s, loss=-1.42e+3]"
     ]
    },
    {
     "name": "stdout",
     "output_type": "stream",
     "text": [
      "Epoch 62 & idx 0 with loss: -1417.7734375\n"
     ]
    },
    {
     "name": "stderr",
     "output_type": "stream",
     "text": [
      "Epoch 63/250 : 100it [00:32,  3.11it/s, loss=-1.44e+3]\n",
      "Epoch 64/250 : 1it [00:00,  3.47it/s, loss=-1.4e+3] "
     ]
    },
    {
     "name": "stdout",
     "output_type": "stream",
     "text": [
      "Epoch 63 & idx 0 with loss: -1339.384521484375\n"
     ]
    },
    {
     "name": "stderr",
     "output_type": "stream",
     "text": [
      "Epoch 64/250 : 100it [00:32,  3.05it/s, loss=-1.44e+3]\n",
      "Epoch 65/250 : 1it [00:00,  3.35it/s, loss=-1.44e+3]"
     ]
    },
    {
     "name": "stdout",
     "output_type": "stream",
     "text": [
      "Epoch 64 & idx 0 with loss: -1357.3662109375\n"
     ]
    },
    {
     "name": "stderr",
     "output_type": "stream",
     "text": [
      "Epoch 65/250 : 100it [00:31,  3.14it/s, loss=-1.45e+3]\n",
      "Epoch 66/250 : 1it [00:00,  2.87it/s, loss=-1.59e+3]"
     ]
    },
    {
     "name": "stdout",
     "output_type": "stream",
     "text": [
      "Epoch 65 & idx 0 with loss: -1653.423583984375\n"
     ]
    },
    {
     "name": "stderr",
     "output_type": "stream",
     "text": [
      "Epoch 66/250 : 100it [00:31,  3.15it/s, loss=-1.47e+3]\n",
      "Epoch 67/250 : 1it [00:00,  3.15it/s, loss=-1.37e+3]"
     ]
    },
    {
     "name": "stdout",
     "output_type": "stream",
     "text": [
      "Epoch 66 & idx 0 with loss: -1397.9881591796875\n"
     ]
    },
    {
     "name": "stderr",
     "output_type": "stream",
     "text": [
      "Epoch 67/250 : 100it [00:31,  3.15it/s, loss=-1.47e+3]\n",
      "Epoch 68/250 : 1it [00:00,  2.98it/s, loss=-1.41e+3]"
     ]
    },
    {
     "name": "stdout",
     "output_type": "stream",
     "text": [
      "Epoch 67 & idx 0 with loss: -1454.573974609375\n"
     ]
    },
    {
     "name": "stderr",
     "output_type": "stream",
     "text": [
      "Epoch 68/250 : 100it [00:31,  3.17it/s, loss=-1.47e+3]\n",
      "Epoch 69/250 : 1it [00:00,  3.33it/s, loss=-1.53e+3]"
     ]
    },
    {
     "name": "stdout",
     "output_type": "stream",
     "text": [
      "Epoch 68 & idx 0 with loss: -1580.851318359375\n"
     ]
    },
    {
     "name": "stderr",
     "output_type": "stream",
     "text": [
      "Epoch 69/250 : 100it [00:35,  2.81it/s, loss=-1.46e+3]\n",
      "Epoch 70/250 : 1it [00:00,  2.89it/s, loss=-1.4e+3]"
     ]
    },
    {
     "name": "stdout",
     "output_type": "stream",
     "text": [
      "Epoch 69 & idx 0 with loss: -1401.98291015625\n"
     ]
    },
    {
     "name": "stderr",
     "output_type": "stream",
     "text": [
      "Epoch 70/250 : 100it [00:32,  3.03it/s, loss=-1.47e+3]\n",
      "Epoch 71/250 : 1it [00:00,  3.08it/s, loss=-1.51e+3]"
     ]
    },
    {
     "name": "stdout",
     "output_type": "stream",
     "text": [
      "Epoch 70 & idx 0 with loss: -1494.511962890625\n"
     ]
    },
    {
     "name": "stderr",
     "output_type": "stream",
     "text": [
      "Epoch 71/250 : 100it [00:32,  3.08it/s, loss=-1.48e+3]\n",
      "Epoch 72/250 : 1it [00:00,  3.23it/s, loss=-1.44e+3]"
     ]
    },
    {
     "name": "stdout",
     "output_type": "stream",
     "text": [
      "Epoch 71 & idx 0 with loss: -1406.444091796875\n"
     ]
    },
    {
     "name": "stderr",
     "output_type": "stream",
     "text": [
      "Epoch 72/250 : 100it [00:32,  3.10it/s, loss=-1.47e+3]\n",
      "Epoch 73/250 : 1it [00:00,  3.32it/s, loss=-1.45e+3]"
     ]
    },
    {
     "name": "stdout",
     "output_type": "stream",
     "text": [
      "Epoch 72 & idx 0 with loss: -1463.7408447265625\n"
     ]
    },
    {
     "name": "stderr",
     "output_type": "stream",
     "text": [
      "Epoch 73/250 : 100it [00:31,  3.16it/s, loss=-1.48e+3]\n",
      "Epoch 74/250 : 1it [00:00,  2.75it/s, loss=-1.46e+3]"
     ]
    },
    {
     "name": "stdout",
     "output_type": "stream",
     "text": [
      "Epoch 73 & idx 0 with loss: -1472.16015625\n"
     ]
    },
    {
     "name": "stderr",
     "output_type": "stream",
     "text": [
      "Epoch 74/250 : 100it [00:32,  3.05it/s, loss=-1.48e+3]\n",
      "Epoch 75/250 : 1it [00:00,  3.15it/s, loss=-1.55e+3]"
     ]
    },
    {
     "name": "stdout",
     "output_type": "stream",
     "text": [
      "Epoch 74 & idx 0 with loss: -1549.9840087890625\n"
     ]
    },
    {
     "name": "stderr",
     "output_type": "stream",
     "text": [
      "Epoch 75/250 : 100it [00:31,  3.14it/s, loss=-1.48e+3]\n",
      "Epoch 76/250 : 1it [00:00,  3.06it/s, loss=-1.37e+3]"
     ]
    },
    {
     "name": "stdout",
     "output_type": "stream",
     "text": [
      "Epoch 75 & idx 0 with loss: -1368.33984375\n"
     ]
    },
    {
     "name": "stderr",
     "output_type": "stream",
     "text": [
      "Epoch 76/250 : 100it [00:32,  3.11it/s, loss=-1.49e+3]\n",
      "Epoch 77/250 : 1it [00:00,  3.13it/s, loss=-1.49e+3]"
     ]
    },
    {
     "name": "stdout",
     "output_type": "stream",
     "text": [
      "Epoch 76 & idx 0 with loss: -1489.3397216796875\n"
     ]
    },
    {
     "name": "stderr",
     "output_type": "stream",
     "text": [
      "Epoch 77/250 : 100it [00:33,  3.01it/s, loss=-1.49e+3]\n",
      "Epoch 78/250 : 1it [00:00,  2.71it/s, loss=-1.42e+3]"
     ]
    },
    {
     "name": "stdout",
     "output_type": "stream",
     "text": [
      "Epoch 77 & idx 0 with loss: -1410.842041015625\n"
     ]
    },
    {
     "name": "stderr",
     "output_type": "stream",
     "text": [
      "Epoch 78/250 : 100it [00:43,  2.27it/s, loss=-1.49e+3]\n",
      "Epoch 79/250 : 1it [00:00,  3.03it/s, loss=-1.49e+3]"
     ]
    },
    {
     "name": "stdout",
     "output_type": "stream",
     "text": [
      "Epoch 78 & idx 0 with loss: -1468.522705078125\n"
     ]
    },
    {
     "name": "stderr",
     "output_type": "stream",
     "text": [
      "Epoch 79/250 : 100it [00:32,  3.08it/s, loss=-1.5e+3]\n",
      "Epoch 80/250 : 1it [00:00,  2.44it/s, loss=-1.46e+3]"
     ]
    },
    {
     "name": "stdout",
     "output_type": "stream",
     "text": [
      "Epoch 79 & idx 0 with loss: -1443.734130859375\n"
     ]
    },
    {
     "name": "stderr",
     "output_type": "stream",
     "text": [
      "Epoch 80/250 : 100it [00:32,  3.06it/s, loss=-1.5e+3]\n",
      "Epoch 81/250 : 1it [00:00,  3.01it/s, loss=-1.49e+3]"
     ]
    },
    {
     "name": "stdout",
     "output_type": "stream",
     "text": [
      "Epoch 80 & idx 0 with loss: -1477.936279296875\n"
     ]
    },
    {
     "name": "stderr",
     "output_type": "stream",
     "text": [
      "Epoch 81/250 : 100it [00:32,  3.07it/s, loss=-1.49e+3]\n",
      "Epoch 82/250 : 1it [00:00,  4.01it/s, loss=-1.48e+3]"
     ]
    },
    {
     "name": "stdout",
     "output_type": "stream",
     "text": [
      "Epoch 81 & idx 0 with loss: -1514.690673828125\n"
     ]
    },
    {
     "name": "stderr",
     "output_type": "stream",
     "text": [
      "Epoch 82/250 : 100it [00:32,  3.11it/s, loss=-1.49e+3]\n",
      "Epoch 83/250 : 1it [00:00,  3.05it/s, loss=-1.38e+3]"
     ]
    },
    {
     "name": "stdout",
     "output_type": "stream",
     "text": [
      "Epoch 82 & idx 0 with loss: -1375.76416015625\n"
     ]
    },
    {
     "name": "stderr",
     "output_type": "stream",
     "text": [
      "Epoch 83/250 : 100it [00:33,  2.97it/s, loss=-1.5e+3]\n",
      "Epoch 84/250 : 1it [00:00,  2.72it/s, loss=-1.47e+3]"
     ]
    },
    {
     "name": "stdout",
     "output_type": "stream",
     "text": [
      "Epoch 83 & idx 0 with loss: -1472.7750244140625\n"
     ]
    },
    {
     "name": "stderr",
     "output_type": "stream",
     "text": [
      "Epoch 84/250 : 100it [00:32,  3.07it/s, loss=-1.51e+3]\n",
      "Epoch 85/250 : 1it [00:00,  3.05it/s, loss=-1.47e+3]"
     ]
    },
    {
     "name": "stdout",
     "output_type": "stream",
     "text": [
      "Epoch 84 & idx 0 with loss: -1467.343994140625\n"
     ]
    },
    {
     "name": "stderr",
     "output_type": "stream",
     "text": [
      "Epoch 85/250 : 100it [00:33,  3.01it/s, loss=-1.5e+3]\n",
      "Epoch 86/250 : 1it [00:00,  2.92it/s, loss=-1.46e+3]"
     ]
    },
    {
     "name": "stdout",
     "output_type": "stream",
     "text": [
      "Epoch 85 & idx 0 with loss: -1465.3494873046875\n"
     ]
    },
    {
     "name": "stderr",
     "output_type": "stream",
     "text": [
      "Epoch 86/250 : 100it [00:32,  3.06it/s, loss=-1.5e+3]\n",
      "Epoch 87/250 : 1it [00:00,  3.16it/s, loss=-1.45e+3]"
     ]
    },
    {
     "name": "stdout",
     "output_type": "stream",
     "text": [
      "Epoch 86 & idx 0 with loss: -1423.48583984375\n"
     ]
    },
    {
     "name": "stderr",
     "output_type": "stream",
     "text": [
      "Epoch 87/250 : 100it [00:32,  3.04it/s, loss=-1.5e+3]\n",
      "Epoch 88/250 : 1it [00:00,  3.14it/s, loss=-1.51e+3]"
     ]
    },
    {
     "name": "stdout",
     "output_type": "stream",
     "text": [
      "Epoch 87 & idx 0 with loss: -1520.470458984375\n"
     ]
    },
    {
     "name": "stderr",
     "output_type": "stream",
     "text": [
      "Epoch 88/250 : 100it [00:33,  2.96it/s, loss=-1.5e+3]\n",
      "Epoch 89/250 : 1it [00:00,  3.34it/s, loss=-1.44e+3]"
     ]
    },
    {
     "name": "stdout",
     "output_type": "stream",
     "text": [
      "Epoch 88 & idx 0 with loss: -1422.1683349609375\n"
     ]
    },
    {
     "name": "stderr",
     "output_type": "stream",
     "text": [
      "Epoch 89/250 : 100it [00:33,  3.01it/s, loss=-1.52e+3]\n",
      "Epoch 90/250 : 1it [00:00,  3.17it/s, loss=-1.57e+3]"
     ]
    },
    {
     "name": "stdout",
     "output_type": "stream",
     "text": [
      "Epoch 89 & idx 0 with loss: -1585.2353515625\n"
     ]
    },
    {
     "name": "stderr",
     "output_type": "stream",
     "text": [
      "Epoch 90/250 : 100it [00:32,  3.12it/s, loss=-1.52e+3]\n",
      "Epoch 91/250 : 1it [00:00,  3.37it/s, loss=-1.58e+3]"
     ]
    },
    {
     "name": "stdout",
     "output_type": "stream",
     "text": [
      "Epoch 90 & idx 0 with loss: -1534.918212890625\n"
     ]
    },
    {
     "name": "stderr",
     "output_type": "stream",
     "text": [
      "Epoch 91/250 : 100it [00:32,  3.08it/s, loss=-1.52e+3]\n",
      "Epoch 92/250 : 1it [00:00,  2.89it/s, loss=-1.57e+3]"
     ]
    },
    {
     "name": "stdout",
     "output_type": "stream",
     "text": [
      "Epoch 91 & idx 0 with loss: -1615.232177734375\n"
     ]
    },
    {
     "name": "stderr",
     "output_type": "stream",
     "text": [
      "Epoch 92/250 : 100it [00:32,  3.08it/s, loss=-1.53e+3]\n",
      "Epoch 93/250 : 1it [00:00,  3.26it/s, loss=-1.54e+3]"
     ]
    },
    {
     "name": "stdout",
     "output_type": "stream",
     "text": [
      "Epoch 92 & idx 0 with loss: -1548.4375\n"
     ]
    },
    {
     "name": "stderr",
     "output_type": "stream",
     "text": [
      "Epoch 93/250 : 100it [00:32,  3.05it/s, loss=-1.52e+3]\n",
      "Epoch 94/250 : 1it [00:00,  3.13it/s, loss=-1.56e+3]"
     ]
    },
    {
     "name": "stdout",
     "output_type": "stream",
     "text": [
      "Epoch 93 & idx 0 with loss: -1537.35595703125\n"
     ]
    },
    {
     "name": "stderr",
     "output_type": "stream",
     "text": [
      "Epoch 94/250 : 100it [00:32,  3.08it/s, loss=-1.53e+3]\n",
      "Epoch 95/250 : 1it [00:00,  2.21it/s, loss=-1.49e+3]"
     ]
    },
    {
     "name": "stdout",
     "output_type": "stream",
     "text": [
      "Epoch 94 & idx 0 with loss: -1486.1507568359375\n"
     ]
    },
    {
     "name": "stderr",
     "output_type": "stream",
     "text": [
      "Epoch 95/250 : 100it [00:32,  3.05it/s, loss=-1.51e+3]\n",
      "Epoch 96/250 : 1it [00:00,  2.90it/s, loss=-1.53e+3]"
     ]
    },
    {
     "name": "stdout",
     "output_type": "stream",
     "text": [
      "Epoch 95 & idx 0 with loss: -1507.797607421875\n"
     ]
    },
    {
     "name": "stderr",
     "output_type": "stream",
     "text": [
      "Epoch 96/250 : 100it [00:33,  3.00it/s, loss=-1.53e+3]\n",
      "Epoch 97/250 : 1it [00:00,  2.90it/s, loss=-1.48e+3]"
     ]
    },
    {
     "name": "stdout",
     "output_type": "stream",
     "text": [
      "Epoch 96 & idx 0 with loss: -1527.97314453125\n"
     ]
    },
    {
     "name": "stderr",
     "output_type": "stream",
     "text": [
      "Epoch 97/250 : 100it [00:32,  3.04it/s, loss=-1.51e+3]\n",
      "Epoch 98/250 : 1it [00:00,  3.06it/s, loss=-1.55e+3]"
     ]
    },
    {
     "name": "stdout",
     "output_type": "stream",
     "text": [
      "Epoch 97 & idx 0 with loss: -1593.676513671875\n"
     ]
    },
    {
     "name": "stderr",
     "output_type": "stream",
     "text": [
      "Epoch 98/250 : 100it [00:33,  3.00it/s, loss=-1.53e+3]\n",
      "Epoch 99/250 : 1it [00:00,  3.76it/s, loss=-1.54e+3]"
     ]
    },
    {
     "name": "stdout",
     "output_type": "stream",
     "text": [
      "Epoch 98 & idx 0 with loss: -1533.20458984375\n"
     ]
    },
    {
     "name": "stderr",
     "output_type": "stream",
     "text": [
      "Epoch 99/250 : 100it [00:33,  3.01it/s, loss=-1.53e+3]\n",
      "Epoch 100/250 : 1it [00:00,  3.50it/s, loss=-1.48e+3]"
     ]
    },
    {
     "name": "stdout",
     "output_type": "stream",
     "text": [
      "Epoch 99 & idx 0 with loss: -1353.8756103515625\n"
     ]
    },
    {
     "name": "stderr",
     "output_type": "stream",
     "text": [
      "Epoch 100/250 : 100it [00:33,  3.00it/s, loss=-1.53e+3]\n",
      "Epoch 101/250 : 1it [00:00,  3.05it/s, loss=-1.49e+3]"
     ]
    },
    {
     "name": "stdout",
     "output_type": "stream",
     "text": [
      "Epoch 100 & idx 0 with loss: -1459.28466796875\n"
     ]
    },
    {
     "name": "stderr",
     "output_type": "stream",
     "text": [
      "Epoch 101/250 : 100it [00:33,  2.98it/s, loss=-1.52e+3]\n",
      "Epoch 102/250 : 1it [00:00,  2.60it/s, loss=-1.54e+3]"
     ]
    },
    {
     "name": "stdout",
     "output_type": "stream",
     "text": [
      "Epoch 101 & idx 0 with loss: -1536.3992919921875\n"
     ]
    },
    {
     "name": "stderr",
     "output_type": "stream",
     "text": [
      "Epoch 102/250 : 100it [00:32,  3.11it/s, loss=-1.53e+3]\n",
      "Epoch 103/250 : 1it [00:00,  3.46it/s, loss=-1.61e+3]"
     ]
    },
    {
     "name": "stdout",
     "output_type": "stream",
     "text": [
      "Epoch 102 & idx 0 with loss: -1629.6331787109375\n"
     ]
    },
    {
     "name": "stderr",
     "output_type": "stream",
     "text": [
      "Epoch 103/250 : 100it [00:32,  3.11it/s, loss=-1.53e+3]\n",
      "Epoch 104/250 : 1it [00:00,  3.00it/s, loss=-1.57e+3]"
     ]
    },
    {
     "name": "stdout",
     "output_type": "stream",
     "text": [
      "Epoch 103 & idx 0 with loss: -1556.73974609375\n"
     ]
    },
    {
     "name": "stderr",
     "output_type": "stream",
     "text": [
      "Epoch 104/250 : 100it [00:32,  3.07it/s, loss=-1.54e+3]\n",
      "Epoch 105/250 : 1it [00:00,  3.51it/s, loss=-1.56e+3]"
     ]
    },
    {
     "name": "stdout",
     "output_type": "stream",
     "text": [
      "Epoch 104 & idx 0 with loss: -1581.033935546875\n"
     ]
    },
    {
     "name": "stderr",
     "output_type": "stream",
     "text": [
      "Epoch 105/250 : 100it [00:32,  3.07it/s, loss=-1.54e+3]\n",
      "Epoch 106/250 : 1it [00:00,  3.29it/s, loss=-1.53e+3]"
     ]
    },
    {
     "name": "stdout",
     "output_type": "stream",
     "text": [
      "Epoch 105 & idx 0 with loss: -1501.029296875\n"
     ]
    },
    {
     "name": "stderr",
     "output_type": "stream",
     "text": [
      "Epoch 106/250 : 100it [00:32,  3.09it/s, loss=-1.54e+3]\n",
      "Epoch 107/250 : 1it [00:00,  3.12it/s, loss=-1.58e+3]"
     ]
    },
    {
     "name": "stdout",
     "output_type": "stream",
     "text": [
      "Epoch 106 & idx 0 with loss: -1654.48681640625\n"
     ]
    },
    {
     "name": "stderr",
     "output_type": "stream",
     "text": [
      "Epoch 107/250 : 100it [00:31,  3.14it/s, loss=-1.54e+3]\n",
      "Epoch 108/250 : 1it [00:00,  3.11it/s, loss=-1.51e+3]"
     ]
    },
    {
     "name": "stdout",
     "output_type": "stream",
     "text": [
      "Epoch 107 & idx 0 with loss: -1495.240234375\n"
     ]
    },
    {
     "name": "stderr",
     "output_type": "stream",
     "text": [
      "Epoch 108/250 : 100it [00:32,  3.10it/s, loss=-1.56e+3]\n",
      "Epoch 109/250 : 1it [00:00,  3.02it/s, loss=-1.49e+3]"
     ]
    },
    {
     "name": "stdout",
     "output_type": "stream",
     "text": [
      "Epoch 108 & idx 0 with loss: -1454.108154296875\n"
     ]
    },
    {
     "name": "stderr",
     "output_type": "stream",
     "text": [
      "Epoch 109/250 : 100it [00:32,  3.09it/s, loss=-1.53e+3]\n",
      "Epoch 110/250 : 1it [00:00,  3.02it/s, loss=-1.54e+3]"
     ]
    },
    {
     "name": "stdout",
     "output_type": "stream",
     "text": [
      "Epoch 109 & idx 0 with loss: -1637.385498046875\n"
     ]
    },
    {
     "name": "stderr",
     "output_type": "stream",
     "text": [
      "Epoch 110/250 : 100it [00:32,  3.04it/s, loss=-1.55e+3]\n",
      "Epoch 111/250 : 1it [00:00,  3.15it/s, loss=-1.51e+3]"
     ]
    },
    {
     "name": "stdout",
     "output_type": "stream",
     "text": [
      "Epoch 110 & idx 0 with loss: -1455.16455078125\n"
     ]
    },
    {
     "name": "stderr",
     "output_type": "stream",
     "text": [
      "Epoch 111/250 : 100it [00:32,  3.04it/s, loss=-1.56e+3]\n",
      "Epoch 112/250 : 1it [00:00,  3.06it/s, loss=-1.52e+3]"
     ]
    },
    {
     "name": "stdout",
     "output_type": "stream",
     "text": [
      "Epoch 111 & idx 0 with loss: -1553.2569580078125\n"
     ]
    },
    {
     "name": "stderr",
     "output_type": "stream",
     "text": [
      "Epoch 112/250 : 100it [00:33,  3.01it/s, loss=-1.55e+3]\n",
      "Epoch 113/250 : 1it [00:00,  3.07it/s, loss=-1.47e+3]"
     ]
    },
    {
     "name": "stdout",
     "output_type": "stream",
     "text": [
      "Epoch 112 & idx 0 with loss: -1431.65087890625\n"
     ]
    },
    {
     "name": "stderr",
     "output_type": "stream",
     "text": [
      "Epoch 113/250 : 100it [00:32,  3.04it/s, loss=-1.54e+3]\n",
      "Epoch 114/250 : 1it [00:00,  2.71it/s, loss=-1.44e+3]"
     ]
    },
    {
     "name": "stdout",
     "output_type": "stream",
     "text": [
      "Epoch 113 & idx 0 with loss: -1438.198974609375\n"
     ]
    },
    {
     "name": "stderr",
     "output_type": "stream",
     "text": [
      "Epoch 114/250 : 100it [00:32,  3.08it/s, loss=-1.54e+3]\n",
      "Epoch 115/250 : 1it [00:00,  3.03it/s, loss=-1.59e+3]"
     ]
    },
    {
     "name": "stdout",
     "output_type": "stream",
     "text": [
      "Epoch 114 & idx 0 with loss: -1525.472900390625\n"
     ]
    },
    {
     "name": "stderr",
     "output_type": "stream",
     "text": [
      "Epoch 115/250 : 100it [00:31,  3.13it/s, loss=-1.56e+3]\n",
      "Epoch 116/250 : 1it [00:00,  3.06it/s, loss=-1.56e+3]"
     ]
    },
    {
     "name": "stdout",
     "output_type": "stream",
     "text": [
      "Epoch 115 & idx 0 with loss: -1540.177490234375\n"
     ]
    },
    {
     "name": "stderr",
     "output_type": "stream",
     "text": [
      "Epoch 116/250 : 100it [00:32,  3.11it/s, loss=-1.55e+3]\n",
      "Epoch 117/250 : 1it [00:00,  2.77it/s, loss=-1.59e+3]"
     ]
    },
    {
     "name": "stdout",
     "output_type": "stream",
     "text": [
      "Epoch 116 & idx 0 with loss: -1552.6064453125\n"
     ]
    },
    {
     "name": "stderr",
     "output_type": "stream",
     "text": [
      "Epoch 117/250 : 100it [00:32,  3.10it/s, loss=-1.56e+3]\n",
      "Epoch 118/250 : 1it [00:00,  3.13it/s, loss=-1.51e+3]"
     ]
    },
    {
     "name": "stdout",
     "output_type": "stream",
     "text": [
      "Epoch 117 & idx 0 with loss: -1371.678466796875\n"
     ]
    },
    {
     "name": "stderr",
     "output_type": "stream",
     "text": [
      "Epoch 118/250 : 100it [00:32,  3.06it/s, loss=-1.55e+3]\n",
      "Epoch 119/250 : 1it [00:00,  4.16it/s, loss=-1.51e+3]"
     ]
    },
    {
     "name": "stdout",
     "output_type": "stream",
     "text": [
      "Epoch 118 & idx 0 with loss: -1425.405517578125\n"
     ]
    },
    {
     "name": "stderr",
     "output_type": "stream",
     "text": [
      "Epoch 119/250 : 100it [00:32,  3.05it/s, loss=-1.56e+3]\n",
      "Epoch 120/250 : 1it [00:00,  3.03it/s, loss=-1.6e+3] "
     ]
    },
    {
     "name": "stdout",
     "output_type": "stream",
     "text": [
      "Epoch 119 & idx 0 with loss: -1612.7164306640625\n"
     ]
    },
    {
     "name": "stderr",
     "output_type": "stream",
     "text": [
      "Epoch 120/250 : 100it [00:32,  3.10it/s, loss=-1.56e+3]\n",
      "Epoch 121/250 : 1it [00:00,  3.43it/s, loss=-1.57e+3]"
     ]
    },
    {
     "name": "stdout",
     "output_type": "stream",
     "text": [
      "Epoch 120 & idx 0 with loss: -1584.8916015625\n"
     ]
    },
    {
     "name": "stderr",
     "output_type": "stream",
     "text": [
      "Epoch 121/250 : 100it [00:32,  3.06it/s, loss=-1.55e+3]\n",
      "Epoch 122/250 : 1it [00:00,  3.11it/s, loss=-1.57e+3]"
     ]
    },
    {
     "name": "stdout",
     "output_type": "stream",
     "text": [
      "Epoch 121 & idx 0 with loss: -1501.3612060546875\n"
     ]
    },
    {
     "name": "stderr",
     "output_type": "stream",
     "text": [
      "Epoch 122/250 : 100it [00:33,  2.95it/s, loss=-1.56e+3]\n",
      "Epoch 123/250 : 1it [00:00,  3.12it/s, loss=-1.61e+3]"
     ]
    },
    {
     "name": "stdout",
     "output_type": "stream",
     "text": [
      "Epoch 122 & idx 0 with loss: -1711.9669189453125\n"
     ]
    },
    {
     "name": "stderr",
     "output_type": "stream",
     "text": [
      "Epoch 123/250 : 100it [00:32,  3.04it/s, loss=-1.57e+3]\n",
      "Epoch 124/250 : 1it [00:00,  3.10it/s, loss=-1.58e+3]"
     ]
    },
    {
     "name": "stdout",
     "output_type": "stream",
     "text": [
      "Epoch 123 & idx 0 with loss: -1541.92041015625\n"
     ]
    },
    {
     "name": "stderr",
     "output_type": "stream",
     "text": [
      "Epoch 124/250 : 100it [00:32,  3.06it/s, loss=-1.57e+3]\n",
      "Epoch 125/250 : 1it [00:00,  3.10it/s, loss=-1.67e+3]"
     ]
    },
    {
     "name": "stdout",
     "output_type": "stream",
     "text": [
      "Epoch 124 & idx 0 with loss: -1696.4013671875\n"
     ]
    },
    {
     "name": "stderr",
     "output_type": "stream",
     "text": [
      "Epoch 125/250 : 100it [00:32,  3.06it/s, loss=-1.58e+3]\n",
      "Epoch 126/250 : 1it [00:00,  3.00it/s, loss=-1.49e+3]"
     ]
    },
    {
     "name": "stdout",
     "output_type": "stream",
     "text": [
      "Epoch 125 & idx 0 with loss: -1504.658447265625\n"
     ]
    },
    {
     "name": "stderr",
     "output_type": "stream",
     "text": [
      "Epoch 126/250 : 100it [00:32,  3.08it/s, loss=-1.56e+3]\n",
      "Epoch 127/250 : 1it [00:00,  2.82it/s, loss=-1.57e+3]"
     ]
    },
    {
     "name": "stdout",
     "output_type": "stream",
     "text": [
      "Epoch 126 & idx 0 with loss: -1592.82763671875\n"
     ]
    },
    {
     "name": "stderr",
     "output_type": "stream",
     "text": [
      "Epoch 127/250 : 100it [00:32,  3.12it/s, loss=-1.58e+3]\n",
      "Epoch 128/250 : 1it [00:00,  3.27it/s, loss=-1.56e+3]"
     ]
    },
    {
     "name": "stdout",
     "output_type": "stream",
     "text": [
      "Epoch 127 & idx 0 with loss: -1555.830810546875\n"
     ]
    },
    {
     "name": "stderr",
     "output_type": "stream",
     "text": [
      "Epoch 128/250 : 100it [00:32,  3.12it/s, loss=-1.57e+3]\n",
      "Epoch 129/250 : 1it [00:00,  3.37it/s, loss=-1.56e+3]"
     ]
    },
    {
     "name": "stdout",
     "output_type": "stream",
     "text": [
      "Epoch 128 & idx 0 with loss: -1596.5899658203125\n"
     ]
    },
    {
     "name": "stderr",
     "output_type": "stream",
     "text": [
      "Epoch 129/250 : 100it [00:32,  3.04it/s, loss=-1.56e+3]\n",
      "Epoch 130/250 : 1it [00:00,  3.13it/s, loss=-1.57e+3]"
     ]
    },
    {
     "name": "stdout",
     "output_type": "stream",
     "text": [
      "Epoch 129 & idx 0 with loss: -1570.559814453125\n"
     ]
    },
    {
     "name": "stderr",
     "output_type": "stream",
     "text": [
      "Epoch 130/250 : 100it [00:32,  3.10it/s, loss=-1.57e+3]\n",
      "Epoch 131/250 : 1it [00:00,  3.20it/s, loss=-1.6e+3] "
     ]
    },
    {
     "name": "stdout",
     "output_type": "stream",
     "text": [
      "Epoch 130 & idx 0 with loss: -1623.3739013671875\n"
     ]
    },
    {
     "name": "stderr",
     "output_type": "stream",
     "text": [
      "Epoch 131/250 : 100it [00:31,  3.14it/s, loss=-1.59e+3]\n",
      "Epoch 132/250 : 1it [00:00,  3.49it/s, loss=-1.51e+3]"
     ]
    },
    {
     "name": "stdout",
     "output_type": "stream",
     "text": [
      "Epoch 131 & idx 0 with loss: -1519.611083984375\n"
     ]
    },
    {
     "name": "stderr",
     "output_type": "stream",
     "text": [
      "Epoch 132/250 : 100it [00:32,  3.08it/s, loss=-1.57e+3]\n",
      "Epoch 133/250 : 1it [00:00,  3.36it/s, loss=-1.63e+3]"
     ]
    },
    {
     "name": "stdout",
     "output_type": "stream",
     "text": [
      "Epoch 132 & idx 0 with loss: -1622.033447265625\n"
     ]
    },
    {
     "name": "stderr",
     "output_type": "stream",
     "text": [
      "Epoch 133/250 : 100it [00:32,  3.08it/s, loss=-1.58e+3]\n",
      "Epoch 134/250 : 1it [00:00,  3.00it/s, loss=-1.62e+3]"
     ]
    },
    {
     "name": "stdout",
     "output_type": "stream",
     "text": [
      "Epoch 133 & idx 0 with loss: -1571.186279296875\n"
     ]
    },
    {
     "name": "stderr",
     "output_type": "stream",
     "text": [
      "Epoch 134/250 : 100it [00:32,  3.05it/s, loss=-1.57e+3]\n",
      "Epoch 135/250 : 1it [00:00,  3.04it/s, loss=-1.6e+3] "
     ]
    },
    {
     "name": "stdout",
     "output_type": "stream",
     "text": [
      "Epoch 134 & idx 0 with loss: -1558.322021484375\n"
     ]
    },
    {
     "name": "stderr",
     "output_type": "stream",
     "text": [
      "Epoch 135/250 : 100it [00:32,  3.06it/s, loss=-1.58e+3]\n",
      "Epoch 136/250 : 1it [00:00,  3.05it/s, loss=-1.52e+3]"
     ]
    },
    {
     "name": "stdout",
     "output_type": "stream",
     "text": [
      "Epoch 135 & idx 0 with loss: -1522.4949951171875\n"
     ]
    },
    {
     "name": "stderr",
     "output_type": "stream",
     "text": [
      "Epoch 136/250 : 100it [00:31,  3.13it/s, loss=-1.58e+3]\n",
      "Epoch 137/250 : 1it [00:00,  3.05it/s, loss=-1.54e+3]"
     ]
    },
    {
     "name": "stdout",
     "output_type": "stream",
     "text": [
      "Epoch 136 & idx 0 with loss: -1510.3572998046875\n"
     ]
    },
    {
     "name": "stderr",
     "output_type": "stream",
     "text": [
      "Epoch 137/250 : 100it [00:33,  3.03it/s, loss=-1.58e+3]\n",
      "Epoch 138/250 : 1it [00:00,  3.13it/s, loss=-1.63e+3]"
     ]
    },
    {
     "name": "stdout",
     "output_type": "stream",
     "text": [
      "Epoch 137 & idx 0 with loss: -1693.706787109375\n"
     ]
    },
    {
     "name": "stderr",
     "output_type": "stream",
     "text": [
      "Epoch 138/250 : 100it [00:32,  3.07it/s, loss=-1.58e+3]\n",
      "Epoch 139/250 : 1it [00:00,  3.03it/s, loss=-1.5e+3] "
     ]
    },
    {
     "name": "stdout",
     "output_type": "stream",
     "text": [
      "Epoch 138 & idx 0 with loss: -1543.749267578125\n"
     ]
    },
    {
     "name": "stderr",
     "output_type": "stream",
     "text": [
      "Epoch 139/250 : 100it [00:32,  3.11it/s, loss=-1.58e+3]\n",
      "Epoch 140/250 : 1it [00:00,  3.27it/s, loss=-1.51e+3]"
     ]
    },
    {
     "name": "stdout",
     "output_type": "stream",
     "text": [
      "Epoch 139 & idx 0 with loss: -1543.928466796875\n"
     ]
    },
    {
     "name": "stderr",
     "output_type": "stream",
     "text": [
      "Epoch 140/250 : 100it [00:32,  3.12it/s, loss=-1.58e+3]\n",
      "Epoch 141/250 : 1it [00:00,  2.37it/s, loss=-1.53e+3]"
     ]
    },
    {
     "name": "stdout",
     "output_type": "stream",
     "text": [
      "Epoch 140 & idx 0 with loss: -1531.0831298828125\n"
     ]
    },
    {
     "name": "stderr",
     "output_type": "stream",
     "text": [
      "Epoch 141/250 : 100it [00:32,  3.10it/s, loss=-1.6e+3]\n",
      "Epoch 142/250 : 1it [00:00,  2.97it/s, loss=-1.53e+3]"
     ]
    },
    {
     "name": "stdout",
     "output_type": "stream",
     "text": [
      "Epoch 141 & idx 0 with loss: -1569.396728515625\n"
     ]
    },
    {
     "name": "stderr",
     "output_type": "stream",
     "text": [
      "Epoch 142/250 : 100it [00:32,  3.09it/s, loss=-1.59e+3]\n",
      "Epoch 143/250 : 1it [00:00,  3.31it/s, loss=-1.59e+3]"
     ]
    },
    {
     "name": "stdout",
     "output_type": "stream",
     "text": [
      "Epoch 142 & idx 0 with loss: -1657.6295166015625\n"
     ]
    },
    {
     "name": "stderr",
     "output_type": "stream",
     "text": [
      "Epoch 143/250 : 100it [00:32,  3.07it/s, loss=-1.58e+3]\n",
      "Epoch 144/250 : 1it [00:00,  3.44it/s, loss=-1.56e+3]"
     ]
    },
    {
     "name": "stdout",
     "output_type": "stream",
     "text": [
      "Epoch 143 & idx 0 with loss: -1528.855224609375\n"
     ]
    },
    {
     "name": "stderr",
     "output_type": "stream",
     "text": [
      "Epoch 144/250 : 100it [00:32,  3.09it/s, loss=-1.6e+3]\n",
      "Epoch 145/250 : 1it [00:00,  3.05it/s, loss=-1.67e+3]"
     ]
    },
    {
     "name": "stdout",
     "output_type": "stream",
     "text": [
      "Epoch 144 & idx 0 with loss: -1707.900390625\n"
     ]
    },
    {
     "name": "stderr",
     "output_type": "stream",
     "text": [
      "Epoch 145/250 : 100it [00:32,  3.06it/s, loss=-1.6e+3]\n",
      "Epoch 146/250 : 1it [00:00,  3.08it/s, loss=-1.56e+3]"
     ]
    },
    {
     "name": "stdout",
     "output_type": "stream",
     "text": [
      "Epoch 145 & idx 0 with loss: -1596.559814453125\n"
     ]
    },
    {
     "name": "stderr",
     "output_type": "stream",
     "text": [
      "Epoch 146/250 : 100it [00:32,  3.08it/s, loss=-1.59e+3]\n",
      "Epoch 147/250 : 1it [00:00,  3.08it/s, loss=-1.61e+3]"
     ]
    },
    {
     "name": "stdout",
     "output_type": "stream",
     "text": [
      "Epoch 146 & idx 0 with loss: -1599.9156494140625\n"
     ]
    },
    {
     "name": "stderr",
     "output_type": "stream",
     "text": [
      "Epoch 147/250 : 100it [00:33,  3.03it/s, loss=-1.59e+3]\n",
      "Epoch 148/250 : 1it [00:00,  2.54it/s, loss=-1.7e+3] "
     ]
    },
    {
     "name": "stdout",
     "output_type": "stream",
     "text": [
      "Epoch 147 & idx 0 with loss: -1726.832275390625\n"
     ]
    },
    {
     "name": "stderr",
     "output_type": "stream",
     "text": [
      "Epoch 148/250 : 100it [00:33,  3.03it/s, loss=-1.59e+3]\n",
      "Epoch 149/250 : 1it [00:00,  2.88it/s, loss=-1.62e+3]"
     ]
    },
    {
     "name": "stdout",
     "output_type": "stream",
     "text": [
      "Epoch 148 & idx 0 with loss: -1605.42724609375\n"
     ]
    },
    {
     "name": "stderr",
     "output_type": "stream",
     "text": [
      "Epoch 149/250 : 100it [00:33,  3.02it/s, loss=-1.6e+3]\n",
      "Epoch 150/250 : 1it [00:00,  2.95it/s, loss=-1.62e+3]"
     ]
    },
    {
     "name": "stdout",
     "output_type": "stream",
     "text": [
      "Epoch 149 & idx 0 with loss: -1673.702392578125\n"
     ]
    },
    {
     "name": "stderr",
     "output_type": "stream",
     "text": [
      "Epoch 150/250 : 100it [00:32,  3.10it/s, loss=-1.6e+3]\n",
      "Epoch 151/250 : 1it [00:00,  3.31it/s, loss=-1.63e+3]"
     ]
    },
    {
     "name": "stdout",
     "output_type": "stream",
     "text": [
      "Epoch 150 & idx 0 with loss: -1647.42333984375\n"
     ]
    },
    {
     "name": "stderr",
     "output_type": "stream",
     "text": [
      "Epoch 151/250 : 100it [00:31,  3.21it/s, loss=-1.59e+3]\n",
      "Epoch 152/250 : 1it [00:00,  3.41it/s, loss=-1.65e+3]"
     ]
    },
    {
     "name": "stdout",
     "output_type": "stream",
     "text": [
      "Epoch 151 & idx 0 with loss: -1623.727294921875\n"
     ]
    },
    {
     "name": "stderr",
     "output_type": "stream",
     "text": [
      "Epoch 152/250 : 100it [00:31,  3.16it/s, loss=-1.6e+3]\n",
      "Epoch 153/250 : 1it [00:00,  3.82it/s, loss=-1.58e+3]"
     ]
    },
    {
     "name": "stdout",
     "output_type": "stream",
     "text": [
      "Epoch 152 & idx 0 with loss: -1567.5784912109375\n"
     ]
    },
    {
     "name": "stderr",
     "output_type": "stream",
     "text": [
      "Epoch 153/250 : 100it [00:33,  3.02it/s, loss=-1.6e+3]\n",
      "Epoch 154/250 : 1it [00:00,  3.26it/s, loss=-1.59e+3]"
     ]
    },
    {
     "name": "stdout",
     "output_type": "stream",
     "text": [
      "Epoch 153 & idx 0 with loss: -1569.8800048828125\n"
     ]
    },
    {
     "name": "stderr",
     "output_type": "stream",
     "text": [
      "Epoch 154/250 : 100it [00:33,  2.96it/s, loss=-1.61e+3]\n",
      "Epoch 155/250 : 1it [00:00,  3.30it/s, loss=-1.54e+3]"
     ]
    },
    {
     "name": "stdout",
     "output_type": "stream",
     "text": [
      "Epoch 154 & idx 0 with loss: -1543.646240234375\n"
     ]
    },
    {
     "name": "stderr",
     "output_type": "stream",
     "text": [
      "Epoch 155/250 : 100it [00:33,  2.97it/s, loss=-1.61e+3]\n",
      "Epoch 156/250 : 1it [00:00,  3.10it/s, loss=-1.58e+3]"
     ]
    },
    {
     "name": "stdout",
     "output_type": "stream",
     "text": [
      "Epoch 155 & idx 0 with loss: -1513.9573974609375\n"
     ]
    },
    {
     "name": "stderr",
     "output_type": "stream",
     "text": [
      "Epoch 156/250 : 100it [00:32,  3.07it/s, loss=-1.61e+3]\n",
      "Epoch 157/250 : 1it [00:00,  2.96it/s, loss=-1.64e+3]"
     ]
    },
    {
     "name": "stdout",
     "output_type": "stream",
     "text": [
      "Epoch 156 & idx 0 with loss: -1623.7686767578125\n"
     ]
    },
    {
     "name": "stderr",
     "output_type": "stream",
     "text": [
      "Epoch 157/250 : 100it [00:34,  2.94it/s, loss=-1.61e+3]\n",
      "Epoch 158/250 : 1it [00:00,  2.93it/s, loss=-1.59e+3]"
     ]
    },
    {
     "name": "stdout",
     "output_type": "stream",
     "text": [
      "Epoch 157 & idx 0 with loss: -1609.438232421875\n"
     ]
    },
    {
     "name": "stderr",
     "output_type": "stream",
     "text": [
      "Epoch 158/250 : 100it [00:33,  3.02it/s, loss=-1.6e+3]\n",
      "Epoch 159/250 : 1it [00:00,  2.84it/s, loss=-1.68e+3]"
     ]
    },
    {
     "name": "stdout",
     "output_type": "stream",
     "text": [
      "Epoch 158 & idx 0 with loss: -1739.035888671875\n"
     ]
    },
    {
     "name": "stderr",
     "output_type": "stream",
     "text": [
      "Epoch 159/250 : 100it [00:32,  3.05it/s, loss=-1.6e+3]\n",
      "Epoch 160/250 : 1it [00:00,  3.72it/s, loss=-1.61e+3]"
     ]
    },
    {
     "name": "stdout",
     "output_type": "stream",
     "text": [
      "Epoch 159 & idx 0 with loss: -1612.53662109375\n"
     ]
    },
    {
     "name": "stderr",
     "output_type": "stream",
     "text": [
      "Epoch 160/250 : 100it [00:32,  3.03it/s, loss=-1.61e+3]\n",
      "Epoch 161/250 : 1it [00:00,  3.25it/s, loss=-1.65e+3]"
     ]
    },
    {
     "name": "stdout",
     "output_type": "stream",
     "text": [
      "Epoch 160 & idx 0 with loss: -1627.8575439453125\n"
     ]
    },
    {
     "name": "stderr",
     "output_type": "stream",
     "text": [
      "Epoch 161/250 : 100it [00:32,  3.08it/s, loss=-1.6e+3]\n",
      "Epoch 162/250 : 1it [00:00,  3.02it/s, loss=-1.54e+3]"
     ]
    },
    {
     "name": "stdout",
     "output_type": "stream",
     "text": [
      "Epoch 161 & idx 0 with loss: -1502.7572021484375\n"
     ]
    },
    {
     "name": "stderr",
     "output_type": "stream",
     "text": [
      "Epoch 162/250 : 100it [00:33,  3.03it/s, loss=-1.62e+3]\n",
      "Epoch 163/250 : 1it [00:00,  2.93it/s, loss=-1.61e+3]"
     ]
    },
    {
     "name": "stdout",
     "output_type": "stream",
     "text": [
      "Epoch 162 & idx 0 with loss: -1669.052734375\n"
     ]
    },
    {
     "name": "stderr",
     "output_type": "stream",
     "text": [
      "Epoch 163/250 : 100it [00:32,  3.07it/s, loss=-1.6e+3]\n",
      "Epoch 164/250 : 1it [00:00,  2.99it/s, loss=-1.56e+3]"
     ]
    },
    {
     "name": "stdout",
     "output_type": "stream",
     "text": [
      "Epoch 163 & idx 0 with loss: -1579.445068359375\n"
     ]
    },
    {
     "name": "stderr",
     "output_type": "stream",
     "text": [
      "Epoch 164/250 : 100it [00:32,  3.12it/s, loss=-1.6e+3]\n",
      "Epoch 165/250 : 1it [00:00,  2.94it/s, loss=-1.65e+3]"
     ]
    },
    {
     "name": "stdout",
     "output_type": "stream",
     "text": [
      "Epoch 164 & idx 0 with loss: -1650.86767578125\n"
     ]
    },
    {
     "name": "stderr",
     "output_type": "stream",
     "text": [
      "Epoch 165/250 : 100it [00:33,  3.00it/s, loss=-1.6e+3]\n",
      "Epoch 166/250 : 1it [00:00,  3.03it/s, loss=-1.71e+3]"
     ]
    },
    {
     "name": "stdout",
     "output_type": "stream",
     "text": [
      "Epoch 165 & idx 0 with loss: -1764.723876953125\n"
     ]
    },
    {
     "name": "stderr",
     "output_type": "stream",
     "text": [
      "Epoch 166/250 : 100it [00:33,  3.00it/s, loss=-1.62e+3]\n",
      "Epoch 167/250 : 1it [00:00,  2.87it/s, loss=-1.53e+3]"
     ]
    },
    {
     "name": "stdout",
     "output_type": "stream",
     "text": [
      "Epoch 166 & idx 0 with loss: -1532.760498046875\n"
     ]
    },
    {
     "name": "stderr",
     "output_type": "stream",
     "text": [
      "Epoch 167/250 : 100it [00:33,  3.01it/s, loss=-1.62e+3]\n",
      "Epoch 168/250 : 1it [00:00,  2.80it/s, loss=-1.66e+3]"
     ]
    },
    {
     "name": "stdout",
     "output_type": "stream",
     "text": [
      "Epoch 167 & idx 0 with loss: -1655.750244140625\n"
     ]
    },
    {
     "name": "stderr",
     "output_type": "stream",
     "text": [
      "Epoch 168/250 : 100it [00:31,  3.15it/s, loss=-1.62e+3]\n",
      "Epoch 169/250 : 1it [00:00,  3.11it/s, loss=-1.66e+3]"
     ]
    },
    {
     "name": "stdout",
     "output_type": "stream",
     "text": [
      "Epoch 168 & idx 0 with loss: -1621.2857666015625\n"
     ]
    },
    {
     "name": "stderr",
     "output_type": "stream",
     "text": [
      "Epoch 169/250 : 100it [00:31,  3.17it/s, loss=-1.63e+3]\n",
      "Epoch 170/250 : 1it [00:00,  3.19it/s, loss=-1.66e+3]"
     ]
    },
    {
     "name": "stdout",
     "output_type": "stream",
     "text": [
      "Epoch 169 & idx 0 with loss: -1618.2386474609375\n"
     ]
    },
    {
     "name": "stderr",
     "output_type": "stream",
     "text": [
      "Epoch 170/250 : 100it [00:31,  3.16it/s, loss=-1.63e+3]\n",
      "Epoch 171/250 : 1it [00:00,  3.52it/s, loss=-1.72e+3]"
     ]
    },
    {
     "name": "stdout",
     "output_type": "stream",
     "text": [
      "Epoch 170 & idx 0 with loss: -1776.956298828125\n"
     ]
    },
    {
     "name": "stderr",
     "output_type": "stream",
     "text": [
      "Epoch 171/250 : 100it [00:31,  3.18it/s, loss=-1.62e+3]\n",
      "Epoch 172/250 : 1it [00:00,  3.07it/s, loss=-1.64e+3]"
     ]
    },
    {
     "name": "stdout",
     "output_type": "stream",
     "text": [
      "Epoch 171 & idx 0 with loss: -1621.5897216796875\n"
     ]
    },
    {
     "name": "stderr",
     "output_type": "stream",
     "text": [
      "Epoch 172/250 : 100it [00:32,  3.12it/s, loss=-1.62e+3]\n",
      "Epoch 173/250 : 1it [00:00,  3.24it/s, loss=-1.65e+3]"
     ]
    },
    {
     "name": "stdout",
     "output_type": "stream",
     "text": [
      "Epoch 172 & idx 0 with loss: -1752.0230712890625\n"
     ]
    },
    {
     "name": "stderr",
     "output_type": "stream",
     "text": [
      "Epoch 173/250 : 100it [00:32,  3.05it/s, loss=-1.62e+3]\n",
      "Epoch 174/250 : 1it [00:00,  3.58it/s, loss=-1.69e+3]"
     ]
    },
    {
     "name": "stdout",
     "output_type": "stream",
     "text": [
      "Epoch 173 & idx 0 with loss: -1636.528076171875\n"
     ]
    },
    {
     "name": "stderr",
     "output_type": "stream",
     "text": [
      "Epoch 174/250 : 100it [00:33,  2.95it/s, loss=-1.62e+3]\n",
      "Epoch 175/250 : 1it [00:00,  3.20it/s, loss=-1.59e+3]"
     ]
    },
    {
     "name": "stdout",
     "output_type": "stream",
     "text": [
      "Epoch 174 & idx 0 with loss: -1564.1278076171875\n"
     ]
    },
    {
     "name": "stderr",
     "output_type": "stream",
     "text": [
      "Epoch 175/250 : 100it [00:33,  2.96it/s, loss=-1.61e+3]\n",
      "Epoch 176/250 : 1it [00:00,  3.08it/s, loss=-1.57e+3]"
     ]
    },
    {
     "name": "stdout",
     "output_type": "stream",
     "text": [
      "Epoch 175 & idx 0 with loss: -1492.86376953125\n"
     ]
    },
    {
     "name": "stderr",
     "output_type": "stream",
     "text": [
      "Epoch 176/250 : 100it [00:33,  3.00it/s, loss=-1.64e+3]\n",
      "Epoch 177/250 : 1it [00:00,  3.36it/s, loss=-1.55e+3]"
     ]
    },
    {
     "name": "stdout",
     "output_type": "stream",
     "text": [
      "Epoch 176 & idx 0 with loss: -1485.476806640625\n"
     ]
    },
    {
     "name": "stderr",
     "output_type": "stream",
     "text": [
      "Epoch 177/250 : 100it [00:32,  3.08it/s, loss=-1.62e+3]\n",
      "Epoch 178/250 : 1it [00:00,  3.11it/s, loss=-1.67e+3]"
     ]
    },
    {
     "name": "stdout",
     "output_type": "stream",
     "text": [
      "Epoch 177 & idx 0 with loss: -1660.9559326171875\n"
     ]
    },
    {
     "name": "stderr",
     "output_type": "stream",
     "text": [
      "Epoch 178/250 : 100it [00:33,  3.03it/s, loss=-1.62e+3]\n",
      "Epoch 179/250 : 1it [00:00,  2.78it/s, loss=-1.66e+3]"
     ]
    },
    {
     "name": "stdout",
     "output_type": "stream",
     "text": [
      "Epoch 178 & idx 0 with loss: -1723.541015625\n"
     ]
    },
    {
     "name": "stderr",
     "output_type": "stream",
     "text": [
      "Epoch 179/250 : 100it [00:31,  3.15it/s, loss=-1.63e+3]\n",
      "Epoch 180/250 : 1it [00:00,  3.48it/s, loss=-1.64e+3]"
     ]
    },
    {
     "name": "stdout",
     "output_type": "stream",
     "text": [
      "Epoch 179 & idx 0 with loss: -1656.701416015625\n"
     ]
    },
    {
     "name": "stderr",
     "output_type": "stream",
     "text": [
      "Epoch 180/250 : 100it [00:32,  3.10it/s, loss=-1.63e+3]\n",
      "Epoch 181/250 : 1it [00:00,  3.16it/s, loss=-1.63e+3]"
     ]
    },
    {
     "name": "stdout",
     "output_type": "stream",
     "text": [
      "Epoch 180 & idx 0 with loss: -1604.1318359375\n"
     ]
    },
    {
     "name": "stderr",
     "output_type": "stream",
     "text": [
      "Epoch 181/250 : 100it [00:32,  3.10it/s, loss=-1.64e+3]\n",
      "Epoch 182/250 : 1it [00:00,  3.39it/s, loss=-1.57e+3]"
     ]
    },
    {
     "name": "stdout",
     "output_type": "stream",
     "text": [
      "Epoch 181 & idx 0 with loss: -1571.2669677734375\n"
     ]
    },
    {
     "name": "stderr",
     "output_type": "stream",
     "text": [
      "Epoch 182/250 : 100it [00:32,  3.04it/s, loss=-1.62e+3]\n",
      "Epoch 183/250 : 1it [00:00,  3.27it/s, loss=-1.63e+3]"
     ]
    },
    {
     "name": "stdout",
     "output_type": "stream",
     "text": [
      "Epoch 182 & idx 0 with loss: -1671.0753173828125\n"
     ]
    },
    {
     "name": "stderr",
     "output_type": "stream",
     "text": [
      "Epoch 183/250 : 100it [00:34,  2.90it/s, loss=-1.62e+3]\n",
      "Epoch 184/250 : 1it [00:00,  3.02it/s, loss=-1.63e+3]"
     ]
    },
    {
     "name": "stdout",
     "output_type": "stream",
     "text": [
      "Epoch 183 & idx 0 with loss: -1627.860595703125\n"
     ]
    },
    {
     "name": "stderr",
     "output_type": "stream",
     "text": [
      "Epoch 184/250 : 100it [00:32,  3.05it/s, loss=-1.61e+3]\n",
      "Epoch 185/250 : 1it [00:00,  2.93it/s, loss=-1.63e+3]"
     ]
    },
    {
     "name": "stdout",
     "output_type": "stream",
     "text": [
      "Epoch 184 & idx 0 with loss: -1736.9161376953125\n"
     ]
    },
    {
     "name": "stderr",
     "output_type": "stream",
     "text": [
      "Epoch 185/250 : 100it [00:33,  3.02it/s, loss=-1.63e+3]\n",
      "Epoch 186/250 : 1it [00:00,  3.37it/s, loss=-1.6e+3] "
     ]
    },
    {
     "name": "stdout",
     "output_type": "stream",
     "text": [
      "Epoch 185 & idx 0 with loss: -1592.025390625\n"
     ]
    },
    {
     "name": "stderr",
     "output_type": "stream",
     "text": [
      "Epoch 186/250 : 100it [00:32,  3.07it/s, loss=-1.63e+3]\n",
      "Epoch 187/250 : 1it [00:00,  3.24it/s, loss=-1.52e+3]"
     ]
    },
    {
     "name": "stdout",
     "output_type": "stream",
     "text": [
      "Epoch 186 & idx 0 with loss: -1520.4837646484375\n"
     ]
    },
    {
     "name": "stderr",
     "output_type": "stream",
     "text": [
      "Epoch 187/250 : 100it [00:33,  3.02it/s, loss=-1.63e+3]\n",
      "Epoch 188/250 : 1it [00:00,  2.96it/s, loss=-1.64e+3]"
     ]
    },
    {
     "name": "stdout",
     "output_type": "stream",
     "text": [
      "Epoch 187 & idx 0 with loss: -1669.96826171875\n"
     ]
    },
    {
     "name": "stderr",
     "output_type": "stream",
     "text": [
      "Epoch 188/250 : 100it [00:32,  3.04it/s, loss=-1.63e+3]\n",
      "Epoch 189/250 : 1it [00:00,  3.66it/s, loss=-1.6e+3] "
     ]
    },
    {
     "name": "stdout",
     "output_type": "stream",
     "text": [
      "Epoch 188 & idx 0 with loss: -1660.272216796875\n"
     ]
    },
    {
     "name": "stderr",
     "output_type": "stream",
     "text": [
      "Epoch 189/250 : 100it [00:32,  3.06it/s, loss=-1.63e+3]\n",
      "Epoch 190/250 : 1it [00:00,  3.26it/s, loss=-1.69e+3]"
     ]
    },
    {
     "name": "stdout",
     "output_type": "stream",
     "text": [
      "Epoch 189 & idx 0 with loss: -1697.209716796875\n"
     ]
    },
    {
     "name": "stderr",
     "output_type": "stream",
     "text": [
      "Epoch 190/250 : 100it [00:31,  3.19it/s, loss=-1.62e+3]\n",
      "Epoch 191/250 : 1it [00:00,  2.94it/s, loss=-1.62e+3]"
     ]
    },
    {
     "name": "stdout",
     "output_type": "stream",
     "text": [
      "Epoch 190 & idx 0 with loss: -1616.162109375\n"
     ]
    },
    {
     "name": "stderr",
     "output_type": "stream",
     "text": [
      "Epoch 191/250 : 100it [00:32,  3.12it/s, loss=-1.62e+3]\n",
      "Epoch 192/250 : 1it [00:00,  3.07it/s, loss=-1.64e+3]"
     ]
    },
    {
     "name": "stdout",
     "output_type": "stream",
     "text": [
      "Epoch 191 & idx 0 with loss: -1715.5966796875\n"
     ]
    },
    {
     "name": "stderr",
     "output_type": "stream",
     "text": [
      "Epoch 192/250 : 100it [00:32,  3.11it/s, loss=-1.64e+3]\n",
      "Epoch 193/250 : 1it [00:00,  2.83it/s, loss=-1.58e+3]"
     ]
    },
    {
     "name": "stdout",
     "output_type": "stream",
     "text": [
      "Epoch 192 & idx 0 with loss: -1601.11474609375\n"
     ]
    },
    {
     "name": "stderr",
     "output_type": "stream",
     "text": [
      "Epoch 193/250 : 100it [00:32,  3.07it/s, loss=-1.64e+3]\n",
      "Epoch 194/250 : 1it [00:00,  2.90it/s, loss=-1.53e+3]"
     ]
    },
    {
     "name": "stdout",
     "output_type": "stream",
     "text": [
      "Epoch 193 & idx 0 with loss: -1545.2222900390625\n"
     ]
    },
    {
     "name": "stderr",
     "output_type": "stream",
     "text": [
      "Epoch 194/250 : 100it [00:32,  3.04it/s, loss=-1.63e+3]\n",
      "Epoch 195/250 : 1it [00:00,  3.24it/s, loss=-1.68e+3]"
     ]
    },
    {
     "name": "stdout",
     "output_type": "stream",
     "text": [
      "Epoch 194 & idx 0 with loss: -1648.1998291015625\n"
     ]
    },
    {
     "name": "stderr",
     "output_type": "stream",
     "text": [
      "Epoch 195/250 : 100it [00:33,  3.00it/s, loss=-1.63e+3]\n",
      "Epoch 196/250 : 1it [00:00,  2.80it/s, loss=-1.71e+3]"
     ]
    },
    {
     "name": "stdout",
     "output_type": "stream",
     "text": [
      "Epoch 195 & idx 0 with loss: -1685.1510009765625\n"
     ]
    },
    {
     "name": "stderr",
     "output_type": "stream",
     "text": [
      "Epoch 196/250 : 100it [00:33,  3.01it/s, loss=-1.64e+3]\n",
      "Epoch 197/250 : 1it [00:00,  3.64it/s, loss=-1.48e+3]"
     ]
    },
    {
     "name": "stdout",
     "output_type": "stream",
     "text": [
      "Epoch 196 & idx 0 with loss: -1336.5880126953125\n"
     ]
    },
    {
     "name": "stderr",
     "output_type": "stream",
     "text": [
      "Epoch 197/250 : 100it [00:32,  3.08it/s, loss=-1.63e+3]\n",
      "Epoch 198/250 : 1it [00:00,  2.93it/s, loss=-1.65e+3]"
     ]
    },
    {
     "name": "stdout",
     "output_type": "stream",
     "text": [
      "Epoch 197 & idx 0 with loss: -1645.20263671875\n"
     ]
    },
    {
     "name": "stderr",
     "output_type": "stream",
     "text": [
      "Epoch 198/250 : 100it [00:32,  3.08it/s, loss=-1.64e+3]\n",
      "Epoch 199/250 : 1it [00:00,  3.00it/s, loss=-1.65e+3]"
     ]
    },
    {
     "name": "stdout",
     "output_type": "stream",
     "text": [
      "Epoch 198 & idx 0 with loss: -1655.94775390625\n"
     ]
    },
    {
     "name": "stderr",
     "output_type": "stream",
     "text": [
      "Epoch 199/250 : 100it [00:34,  2.92it/s, loss=-1.65e+3]\n",
      "Epoch 200/250 : 1it [00:00,  3.16it/s, loss=-1.7e+3] "
     ]
    },
    {
     "name": "stdout",
     "output_type": "stream",
     "text": [
      "Epoch 199 & idx 0 with loss: -1726.5504150390625\n"
     ]
    },
    {
     "name": "stderr",
     "output_type": "stream",
     "text": [
      "Epoch 200/250 : 100it [00:32,  3.05it/s, loss=-1.64e+3]\n",
      "Epoch 201/250 : 1it [00:00,  3.00it/s, loss=-1.68e+3]"
     ]
    },
    {
     "name": "stdout",
     "output_type": "stream",
     "text": [
      "Epoch 200 & idx 0 with loss: -1664.468505859375\n"
     ]
    },
    {
     "name": "stderr",
     "output_type": "stream",
     "text": [
      "Epoch 201/250 : 100it [00:32,  3.05it/s, loss=-1.66e+3]\n",
      "Epoch 202/250 : 1it [00:00,  3.40it/s, loss=-1.63e+3]"
     ]
    },
    {
     "name": "stdout",
     "output_type": "stream",
     "text": [
      "Epoch 201 & idx 0 with loss: -1651.6455078125\n"
     ]
    },
    {
     "name": "stderr",
     "output_type": "stream",
     "text": [
      "Epoch 202/250 : 100it [00:32,  3.09it/s, loss=-1.65e+3]\n",
      "Epoch 203/250 : 1it [00:00,  2.91it/s, loss=-1.69e+3]"
     ]
    },
    {
     "name": "stdout",
     "output_type": "stream",
     "text": [
      "Epoch 202 & idx 0 with loss: -1678.9031982421875\n"
     ]
    },
    {
     "name": "stderr",
     "output_type": "stream",
     "text": [
      "Epoch 203/250 : 100it [00:34,  2.94it/s, loss=-1.64e+3]\n",
      "Epoch 204/250 : 1it [00:00,  2.45it/s, loss=-1.66e+3]"
     ]
    },
    {
     "name": "stdout",
     "output_type": "stream",
     "text": [
      "Epoch 203 & idx 0 with loss: -1660.51318359375\n"
     ]
    },
    {
     "name": "stderr",
     "output_type": "stream",
     "text": [
      "Epoch 204/250 : 100it [00:40,  2.45it/s, loss=-1.63e+3]\n",
      "Epoch 205/250 : 1it [00:00,  3.08it/s, loss=-1.55e+3]"
     ]
    },
    {
     "name": "stdout",
     "output_type": "stream",
     "text": [
      "Epoch 204 & idx 0 with loss: -1551.7808837890625\n"
     ]
    },
    {
     "name": "stderr",
     "output_type": "stream",
     "text": [
      "Epoch 205/250 : 100it [00:33,  3.01it/s, loss=-1.63e+3]\n",
      "Epoch 206/250 : 1it [00:00,  2.98it/s, loss=-1.62e+3]"
     ]
    },
    {
     "name": "stdout",
     "output_type": "stream",
     "text": [
      "Epoch 205 & idx 0 with loss: -1618.626220703125\n"
     ]
    },
    {
     "name": "stderr",
     "output_type": "stream",
     "text": [
      "Epoch 206/250 : 100it [00:32,  3.12it/s, loss=-1.64e+3]\n",
      "Epoch 207/250 : 1it [00:00,  3.56it/s, loss=-1.57e+3]"
     ]
    },
    {
     "name": "stdout",
     "output_type": "stream",
     "text": [
      "Epoch 206 & idx 0 with loss: -1548.7957763671875\n"
     ]
    },
    {
     "name": "stderr",
     "output_type": "stream",
     "text": [
      "Epoch 207/250 : 100it [00:33,  2.99it/s, loss=-1.65e+3]\n",
      "Epoch 208/250 : 1it [00:00,  2.82it/s, loss=-1.66e+3]"
     ]
    },
    {
     "name": "stdout",
     "output_type": "stream",
     "text": [
      "Epoch 207 & idx 0 with loss: -1658.12548828125\n"
     ]
    },
    {
     "name": "stderr",
     "output_type": "stream",
     "text": [
      "Epoch 208/250 : 100it [00:32,  3.09it/s, loss=-1.65e+3]\n",
      "Epoch 209/250 : 1it [00:00,  3.23it/s, loss=-1.63e+3]"
     ]
    },
    {
     "name": "stdout",
     "output_type": "stream",
     "text": [
      "Epoch 208 & idx 0 with loss: -1574.066162109375\n"
     ]
    },
    {
     "name": "stderr",
     "output_type": "stream",
     "text": [
      "Epoch 209/250 : 100it [00:32,  3.10it/s, loss=-1.66e+3]\n",
      "Epoch 210/250 : 1it [00:00,  3.37it/s, loss=-1.64e+3]"
     ]
    },
    {
     "name": "stdout",
     "output_type": "stream",
     "text": [
      "Epoch 209 & idx 0 with loss: -1678.2181396484375\n"
     ]
    },
    {
     "name": "stderr",
     "output_type": "stream",
     "text": [
      "Epoch 210/250 : 100it [00:32,  3.11it/s, loss=-1.65e+3]\n",
      "Epoch 211/250 : 1it [00:00,  2.88it/s, loss=-1.74e+3]"
     ]
    },
    {
     "name": "stdout",
     "output_type": "stream",
     "text": [
      "Epoch 210 & idx 0 with loss: -1696.25830078125\n"
     ]
    },
    {
     "name": "stderr",
     "output_type": "stream",
     "text": [
      "Epoch 211/250 : 100it [00:31,  3.15it/s, loss=-1.64e+3]\n",
      "Epoch 212/250 : 1it [00:00,  2.62it/s, loss=-1.72e+3]"
     ]
    },
    {
     "name": "stdout",
     "output_type": "stream",
     "text": [
      "Epoch 211 & idx 0 with loss: -1721.517578125\n"
     ]
    },
    {
     "name": "stderr",
     "output_type": "stream",
     "text": [
      "Epoch 212/250 : 100it [00:32,  3.06it/s, loss=-1.64e+3]\n",
      "Epoch 213/250 : 1it [00:00,  3.16it/s, loss=-1.59e+3]"
     ]
    },
    {
     "name": "stdout",
     "output_type": "stream",
     "text": [
      "Epoch 212 & idx 0 with loss: -1487.32275390625\n"
     ]
    },
    {
     "name": "stderr",
     "output_type": "stream",
     "text": [
      "Epoch 213/250 : 100it [00:32,  3.10it/s, loss=-1.66e+3]\n",
      "Epoch 214/250 : 1it [00:00,  3.11it/s, loss=-1.62e+3]"
     ]
    },
    {
     "name": "stdout",
     "output_type": "stream",
     "text": [
      "Epoch 213 & idx 0 with loss: -1643.78759765625\n"
     ]
    },
    {
     "name": "stderr",
     "output_type": "stream",
     "text": [
      "Epoch 214/250 : 100it [00:32,  3.07it/s, loss=-1.64e+3]\n",
      "Epoch 215/250 : 1it [00:00,  2.77it/s, loss=-1.73e+3]"
     ]
    },
    {
     "name": "stdout",
     "output_type": "stream",
     "text": [
      "Epoch 214 & idx 0 with loss: -1682.9259033203125\n"
     ]
    },
    {
     "name": "stderr",
     "output_type": "stream",
     "text": [
      "Epoch 215/250 : 100it [00:32,  3.05it/s, loss=-1.66e+3]\n",
      "Epoch 216/250 : 1it [00:00,  2.96it/s, loss=-1.64e+3]"
     ]
    },
    {
     "name": "stdout",
     "output_type": "stream",
     "text": [
      "Epoch 215 & idx 0 with loss: -1608.91162109375\n"
     ]
    },
    {
     "name": "stderr",
     "output_type": "stream",
     "text": [
      "Epoch 216/250 : 100it [00:33,  3.01it/s, loss=-1.65e+3]\n",
      "Epoch 217/250 : 1it [00:00,  2.88it/s, loss=-1.67e+3]"
     ]
    },
    {
     "name": "stdout",
     "output_type": "stream",
     "text": [
      "Epoch 216 & idx 0 with loss: -1710.3974609375\n"
     ]
    },
    {
     "name": "stderr",
     "output_type": "stream",
     "text": [
      "Epoch 217/250 : 100it [00:34,  2.89it/s, loss=-1.67e+3]\n",
      "Epoch 218/250 : 1it [00:00,  2.87it/s, loss=-1.6e+3] "
     ]
    },
    {
     "name": "stdout",
     "output_type": "stream",
     "text": [
      "Epoch 217 & idx 0 with loss: -1646.344970703125\n"
     ]
    },
    {
     "name": "stderr",
     "output_type": "stream",
     "text": [
      "Epoch 218/250 : 100it [00:32,  3.03it/s, loss=-1.64e+3]\n",
      "Epoch 219/250 : 1it [00:00,  2.98it/s, loss=-1.64e+3]"
     ]
    },
    {
     "name": "stdout",
     "output_type": "stream",
     "text": [
      "Epoch 218 & idx 0 with loss: -1657.115966796875\n"
     ]
    },
    {
     "name": "stderr",
     "output_type": "stream",
     "text": [
      "Epoch 219/250 : 100it [00:33,  3.00it/s, loss=-1.66e+3]\n",
      "Epoch 220/250 : 1it [00:00,  2.73it/s, loss=-1.51e+3]"
     ]
    },
    {
     "name": "stdout",
     "output_type": "stream",
     "text": [
      "Epoch 219 & idx 0 with loss: -1569.101318359375\n"
     ]
    },
    {
     "name": "stderr",
     "output_type": "stream",
     "text": [
      "Epoch 220/250 : 100it [00:33,  3.01it/s, loss=-1.66e+3]\n",
      "Epoch 221/250 : 1it [00:00,  2.29it/s, loss=-1.62e+3]"
     ]
    },
    {
     "name": "stdout",
     "output_type": "stream",
     "text": [
      "Epoch 220 & idx 0 with loss: -1624.0150146484375\n"
     ]
    },
    {
     "name": "stderr",
     "output_type": "stream",
     "text": [
      "Epoch 221/250 : 100it [00:33,  2.95it/s, loss=-1.66e+3]\n",
      "Epoch 222/250 : 1it [00:00,  2.97it/s, loss=-1.68e+3]"
     ]
    },
    {
     "name": "stdout",
     "output_type": "stream",
     "text": [
      "Epoch 221 & idx 0 with loss: -1683.970703125\n"
     ]
    },
    {
     "name": "stderr",
     "output_type": "stream",
     "text": [
      "Epoch 222/250 : 100it [00:33,  2.97it/s, loss=-1.67e+3]\n",
      "Epoch 223/250 : 1it [00:00,  2.85it/s, loss=-1.61e+3]"
     ]
    },
    {
     "name": "stdout",
     "output_type": "stream",
     "text": [
      "Epoch 222 & idx 0 with loss: -1591.510986328125\n"
     ]
    },
    {
     "name": "stderr",
     "output_type": "stream",
     "text": [
      "Epoch 223/250 : 100it [00:32,  3.05it/s, loss=-1.65e+3]\n",
      "Epoch 224/250 : 1it [00:00,  3.21it/s, loss=-1.58e+3]"
     ]
    },
    {
     "name": "stdout",
     "output_type": "stream",
     "text": [
      "Epoch 223 & idx 0 with loss: -1575.535888671875\n"
     ]
    },
    {
     "name": "stderr",
     "output_type": "stream",
     "text": [
      "Epoch 224/250 : 100it [00:33,  3.02it/s, loss=-1.65e+3]\n",
      "Epoch 225/250 : 1it [00:00,  3.35it/s, loss=-1.73e+3]"
     ]
    },
    {
     "name": "stdout",
     "output_type": "stream",
     "text": [
      "Epoch 224 & idx 0 with loss: -1700.072509765625\n"
     ]
    },
    {
     "name": "stderr",
     "output_type": "stream",
     "text": [
      "Epoch 225/250 : 100it [00:32,  3.08it/s, loss=-1.65e+3]\n",
      "Epoch 226/250 : 1it [00:00,  2.73it/s, loss=-1.64e+3]"
     ]
    },
    {
     "name": "stdout",
     "output_type": "stream",
     "text": [
      "Epoch 225 & idx 0 with loss: -1612.1220703125\n"
     ]
    },
    {
     "name": "stderr",
     "output_type": "stream",
     "text": [
      "Epoch 226/250 : 100it [00:32,  3.03it/s, loss=-1.66e+3]\n",
      "Epoch 227/250 : 1it [00:00,  3.41it/s, loss=-1.62e+3]"
     ]
    },
    {
     "name": "stdout",
     "output_type": "stream",
     "text": [
      "Epoch 226 & idx 0 with loss: -1616.0751953125\n"
     ]
    },
    {
     "name": "stderr",
     "output_type": "stream",
     "text": [
      "Epoch 227/250 : 100it [00:32,  3.05it/s, loss=-1.66e+3]\n",
      "Epoch 228/250 : 1it [00:00,  3.27it/s, loss=-1.66e+3]"
     ]
    },
    {
     "name": "stdout",
     "output_type": "stream",
     "text": [
      "Epoch 227 & idx 0 with loss: -1666.57177734375\n"
     ]
    },
    {
     "name": "stderr",
     "output_type": "stream",
     "text": [
      "Epoch 228/250 : 100it [00:32,  3.09it/s, loss=-1.66e+3]\n",
      "Epoch 229/250 : 1it [00:00,  3.13it/s, loss=-1.64e+3]"
     ]
    },
    {
     "name": "stdout",
     "output_type": "stream",
     "text": [
      "Epoch 228 & idx 0 with loss: -1568.499755859375\n"
     ]
    },
    {
     "name": "stderr",
     "output_type": "stream",
     "text": [
      "Epoch 229/250 : 100it [00:33,  3.03it/s, loss=-1.67e+3]\n",
      "Epoch 230/250 : 1it [00:00,  2.89it/s, loss=-1.73e+3]"
     ]
    },
    {
     "name": "stdout",
     "output_type": "stream",
     "text": [
      "Epoch 229 & idx 0 with loss: -1785.434326171875\n"
     ]
    },
    {
     "name": "stderr",
     "output_type": "stream",
     "text": [
      "Epoch 230/250 : 100it [00:33,  2.99it/s, loss=-1.66e+3]\n",
      "Epoch 231/250 : 1it [00:00,  3.43it/s, loss=-1.62e+3]"
     ]
    },
    {
     "name": "stdout",
     "output_type": "stream",
     "text": [
      "Epoch 230 & idx 0 with loss: -1617.3134765625\n"
     ]
    },
    {
     "name": "stderr",
     "output_type": "stream",
     "text": [
      "Epoch 231/250 : 100it [00:33,  3.00it/s, loss=-1.67e+3]\n",
      "Epoch 232/250 : 1it [00:00,  3.05it/s, loss=-1.6e+3] "
     ]
    },
    {
     "name": "stdout",
     "output_type": "stream",
     "text": [
      "Epoch 231 & idx 0 with loss: -1554.3037109375\n"
     ]
    },
    {
     "name": "stderr",
     "output_type": "stream",
     "text": [
      "Epoch 232/250 : 100it [00:33,  2.95it/s, loss=-1.67e+3]\n",
      "Epoch 233/250 : 1it [00:00,  2.14it/s, loss=-1.63e+3]"
     ]
    },
    {
     "name": "stdout",
     "output_type": "stream",
     "text": [
      "Epoch 232 & idx 0 with loss: -1629.049560546875\n"
     ]
    },
    {
     "name": "stderr",
     "output_type": "stream",
     "text": [
      "Epoch 233/250 : 100it [00:32,  3.05it/s, loss=-1.67e+3]\n",
      "Epoch 234/250 : 1it [00:00,  3.09it/s, loss=-1.7e+3] "
     ]
    },
    {
     "name": "stdout",
     "output_type": "stream",
     "text": [
      "Epoch 233 & idx 0 with loss: -1776.2794189453125\n"
     ]
    },
    {
     "name": "stderr",
     "output_type": "stream",
     "text": [
      "Epoch 234/250 : 100it [00:34,  2.92it/s, loss=-1.67e+3]\n",
      "Epoch 235/250 : 1it [00:00,  2.84it/s, loss=-1.74e+3]"
     ]
    },
    {
     "name": "stdout",
     "output_type": "stream",
     "text": [
      "Epoch 234 & idx 0 with loss: -1729.108154296875\n"
     ]
    },
    {
     "name": "stderr",
     "output_type": "stream",
     "text": [
      "Epoch 235/250 : 100it [00:34,  2.91it/s, loss=-1.67e+3]\n",
      "Epoch 236/250 : 1it [00:00,  2.90it/s, loss=-1.66e+3]"
     ]
    },
    {
     "name": "stdout",
     "output_type": "stream",
     "text": [
      "Epoch 235 & idx 0 with loss: -1664.85205078125\n"
     ]
    },
    {
     "name": "stderr",
     "output_type": "stream",
     "text": [
      "Epoch 236/250 : 100it [00:32,  3.05it/s, loss=-1.67e+3]\n",
      "Epoch 237/250 : 1it [00:00,  2.95it/s, loss=-1.73e+3]"
     ]
    },
    {
     "name": "stdout",
     "output_type": "stream",
     "text": [
      "Epoch 236 & idx 0 with loss: -1728.3341064453125\n"
     ]
    },
    {
     "name": "stderr",
     "output_type": "stream",
     "text": [
      "Epoch 237/250 : 100it [00:32,  3.09it/s, loss=-1.68e+3]\n",
      "Epoch 238/250 : 1it [00:00,  3.08it/s, loss=-1.68e+3]"
     ]
    },
    {
     "name": "stdout",
     "output_type": "stream",
     "text": [
      "Epoch 237 & idx 0 with loss: -1696.454833984375\n"
     ]
    },
    {
     "name": "stderr",
     "output_type": "stream",
     "text": [
      "Epoch 238/250 : 100it [00:32,  3.09it/s, loss=-1.69e+3]\n",
      "Epoch 239/250 : 1it [00:00,  3.51it/s, loss=-1.56e+3]"
     ]
    },
    {
     "name": "stdout",
     "output_type": "stream",
     "text": [
      "Epoch 238 & idx 0 with loss: -1532.0263671875\n"
     ]
    },
    {
     "name": "stderr",
     "output_type": "stream",
     "text": [
      "Epoch 239/250 : 100it [00:32,  3.12it/s, loss=-1.67e+3]\n",
      "Epoch 240/250 : 1it [00:00,  3.03it/s, loss=-1.65e+3]"
     ]
    },
    {
     "name": "stdout",
     "output_type": "stream",
     "text": [
      "Epoch 239 & idx 0 with loss: -1575.4683837890625\n"
     ]
    },
    {
     "name": "stderr",
     "output_type": "stream",
     "text": [
      "Epoch 240/250 : 100it [00:32,  3.12it/s, loss=-1.67e+3]\n",
      "Epoch 241/250 : 1it [00:00,  3.24it/s, loss=-1.67e+3]"
     ]
    },
    {
     "name": "stdout",
     "output_type": "stream",
     "text": [
      "Epoch 240 & idx 0 with loss: -1604.2684326171875\n"
     ]
    },
    {
     "name": "stderr",
     "output_type": "stream",
     "text": [
      "Epoch 241/250 : 100it [00:31,  3.13it/s, loss=-1.69e+3]\n",
      "Epoch 242/250 : 1it [00:00,  3.00it/s, loss=-1.69e+3]"
     ]
    },
    {
     "name": "stdout",
     "output_type": "stream",
     "text": [
      "Epoch 241 & idx 0 with loss: -1673.681640625\n"
     ]
    },
    {
     "name": "stderr",
     "output_type": "stream",
     "text": [
      "Epoch 242/250 : 100it [00:32,  3.04it/s, loss=-1.68e+3]\n",
      "Epoch 243/250 : 1it [00:00,  2.92it/s, loss=-1.61e+3]"
     ]
    },
    {
     "name": "stdout",
     "output_type": "stream",
     "text": [
      "Epoch 242 & idx 0 with loss: -1657.8482666015625\n"
     ]
    },
    {
     "name": "stderr",
     "output_type": "stream",
     "text": [
      "Epoch 243/250 : 100it [00:31,  3.14it/s, loss=-1.66e+3]\n",
      "Epoch 244/250 : 1it [00:00,  3.39it/s, loss=-1.61e+3]"
     ]
    },
    {
     "name": "stdout",
     "output_type": "stream",
     "text": [
      "Epoch 243 & idx 0 with loss: -1603.640869140625\n"
     ]
    },
    {
     "name": "stderr",
     "output_type": "stream",
     "text": [
      "Epoch 244/250 : 100it [00:32,  3.04it/s, loss=-1.67e+3]\n",
      "Epoch 245/250 : 1it [00:00,  3.22it/s, loss=-1.65e+3]"
     ]
    },
    {
     "name": "stdout",
     "output_type": "stream",
     "text": [
      "Epoch 244 & idx 0 with loss: -1683.04931640625\n"
     ]
    },
    {
     "name": "stderr",
     "output_type": "stream",
     "text": [
      "Epoch 245/250 : 100it [00:32,  3.04it/s, loss=-1.68e+3]\n",
      "Epoch 246/250 : 1it [00:00,  3.11it/s, loss=-1.58e+3]"
     ]
    },
    {
     "name": "stdout",
     "output_type": "stream",
     "text": [
      "Epoch 245 & idx 0 with loss: -1544.3809814453125\n"
     ]
    },
    {
     "name": "stderr",
     "output_type": "stream",
     "text": [
      "Epoch 246/250 : 100it [00:32,  3.10it/s, loss=-1.67e+3]\n",
      "Epoch 247/250 : 1it [00:00,  3.24it/s, loss=-1.73e+3]"
     ]
    },
    {
     "name": "stdout",
     "output_type": "stream",
     "text": [
      "Epoch 246 & idx 0 with loss: -1739.0006103515625\n"
     ]
    },
    {
     "name": "stderr",
     "output_type": "stream",
     "text": [
      "Epoch 247/250 : 100it [00:32,  3.04it/s, loss=-1.68e+3]\n",
      "Epoch 248/250 : 1it [00:00,  3.02it/s, loss=-1.62e+3]"
     ]
    },
    {
     "name": "stdout",
     "output_type": "stream",
     "text": [
      "Epoch 247 & idx 0 with loss: -1583.718505859375\n"
     ]
    },
    {
     "name": "stderr",
     "output_type": "stream",
     "text": [
      "Epoch 248/250 : 100it [00:33,  3.00it/s, loss=-1.68e+3]\n",
      "Epoch 249/250 : 1it [00:00,  2.34it/s, loss=-1.67e+3]"
     ]
    },
    {
     "name": "stdout",
     "output_type": "stream",
     "text": [
      "Epoch 248 & idx 0 with loss: -1662.986572265625\n"
     ]
    },
    {
     "name": "stderr",
     "output_type": "stream",
     "text": [
      "Epoch 249/250 : 100it [00:32,  3.08it/s, loss=-1.67e+3]\n",
      "Epoch 250/250 : 1it [00:00,  3.25it/s, loss=-1.62e+3]"
     ]
    },
    {
     "name": "stdout",
     "output_type": "stream",
     "text": [
      "Epoch 249 & idx 0 with loss: -1697.3819580078125\n"
     ]
    },
    {
     "name": "stderr",
     "output_type": "stream",
     "text": [
      "Epoch 250/250 : 100it [00:31,  3.16it/s, loss=-1.69e+3]\n"
     ]
    }
   ],
   "source": [
    "from tqdm import tqdm\n",
    "epochs = 250\n",
    "loss_history = []\n",
    "\n",
    "accelerator = Accelerator()\n",
    "device = accelerator.device\n",
    "\n",
    "model.to(device)\n",
    "optimizer = AdamW(model.parameters(), lr=6e-5, betas=(0.9, 0.95), weight_decay=1e-1)\n",
    "\n",
    "model, optimizer, train_dataloader = accelerator.prepare(\n",
    "    model,\n",
    "    optimizer,\n",
    "    train_dataloader,\n",
    ")\n",
    "\n",
    "model.train()\n",
    "for epoch in range(epochs):\n",
    "    total_loss = 0.0\n",
    "    progress_bar = tqdm(train_dataloader, desc=f\"Epoch {epoch+1}/{epochs} \")\n",
    "    # for data in tqdm(train_dataloader,  desc=f\"Epoch {epoch+1}\"):   \n",
    "    for idx, batch in enumerate(progress_bar):\n",
    "        optimizer.zero_grad()\n",
    "        outputs = model(\n",
    "            static_categorical_features=batch[\"static_categorical_features\"].to(device)\n",
    "            if config.num_static_categorical_features > 0\n",
    "            else None,\n",
    "            static_real_features=batch[\"static_real_features\"].to(device)\n",
    "            if config.num_static_real_features > 0\n",
    "            else None,\n",
    "            past_time_features=batch[\"past_time_features\"].to(device),\n",
    "            past_values=batch[\"past_values\"].to(device),\n",
    "            future_time_features=batch[\"future_time_features\"].to(device),\n",
    "            future_values=batch[\"future_values\"].to(device),\n",
    "            past_observed_mask=batch[\"past_observed_mask\"].to(device),\n",
    "            future_observed_mask=batch[\"future_observed_mask\"].to(device),\n",
    "        )\n",
    "        loss = outputs.loss\n",
    "        total_loss += loss.item()\n",
    "        progress_bar.set_postfix(loss=total_loss / (progress_bar.n + 1))\n",
    "\n",
    "        # Backpropagation\n",
    "        accelerator.backward(loss)\n",
    "        optimizer.step()\n",
    "\n",
    "        loss_history.append(loss.item())\n",
    "        if idx % 200 == 0:\n",
    "            print(f'Epoch {epoch} & idx {idx} with loss: {loss.item()}')"
   ]
  },
  {
   "cell_type": "code",
   "execution_count": 26,
   "id": "fe07c300-e02d-4e26-9359-1de2b5db2f6b",
   "metadata": {},
   "outputs": [],
   "source": [
    "import os\n",
    "work_dir = os.getcwd()\n",
    "work_dir = os.getcwd()\n",
    "data_dir = work_dir.replace(\"GitHub/RocketPill/ipynb-notebooks\", \"Data/\")"
   ]
  },
  {
   "cell_type": "code",
   "execution_count": 27,
   "id": "412f5e61-0370-4e0f-9c5a-518ae490dcc0",
   "metadata": {},
   "outputs": [
    {
     "data": {
      "image/png": "[encoded data removed]",
      "text/plain": [
       "<Figure size 1000x500 with 1 Axes>"
      ]
     },
     "metadata": {},
     "output_type": "display_data"
    }
   ],
   "source": [
    "# view training\n",
    "from datetime import datetime\n",
    "\n",
    "loss_history = np.array(loss_history).reshape(-1)\n",
    "x = range(loss_history.shape[0])\n",
    "plt.figure(figsize=(10, 5))\n",
    "plt.plot(x, loss_history, label=\"train\")\n",
    "plt.title(\"Loss\", fontsize=15)\n",
    "plt.legend(loc=\"upper right\")\n",
    "plt.xlabel(\"iteration\")\n",
    "plt.ylabel(\"nll\")\n",
    "plt.savefig(data_dir+\"hf_informer4roqeto_loss_curve_\"+str(datetime.now()).replace(\":\",\".\")+\".png\")\n",
    "plt.show()"
   ]
  },
  {
   "cell_type": "code",
   "execution_count": 29,
   "id": "f39a8680-bc2b-4f15-ab80-9ac70887e7ac",
   "metadata": {},
   "outputs": [
    {
     "data": {
      "application/vnd.jupyter.widget-view+json": {
       "model_id": "bb6a523a01204cf1b5f7574e00eb6606",
       "version_major": 2,
       "version_minor": 0
      },
      "text/plain": [
       "VBox(children=(HTML(value='<center> <img\\nsrc=https://huggingface.co/front/assets/huggingface_logo-noborder.sv…"
      ]
     },
     "metadata": {},
     "output_type": "display_data"
    }
   ],
   "source": [
    "from huggingface_hub import notebook_login\n",
    "notebook_login()"
   ]
  },
  {
   "cell_type": "code",
   "execution_count": 30,
   "id": "498a9ab5-096c-441d-b6df-e8493066e708",
   "metadata": {},
   "outputs": [
    {
     "name": "stderr",
     "output_type": "stream",
     "text": [
      "/Users/rckyi/miniforge3/envs/gpu_py311/lib/python3.11/site-packages/transformers/utils/hub.py:907: FutureWarning: The `use_auth_token` argument is deprecated and will be removed in v5 of Transformers. Please use `token` instead.\n",
      "  warnings.warn(\n"
     ]
    },
    {
     "data": {
      "application/vnd.jupyter.widget-view+json": {
       "model_id": "66c8b566b08d473fb4ae25a642ab7345",
       "version_major": 2,
       "version_minor": 0
      },
      "text/plain": [
       "README.md:   0%|          | 0.00/5.17k [00:00<?, ?B/s]"
      ]
     },
     "metadata": {},
     "output_type": "display_data"
    },
    {
     "data": {
      "application/vnd.jupyter.widget-view+json": {
       "model_id": "327c1906784a424e90c25adc5bde024d",
       "version_major": 2,
       "version_minor": 0
      },
      "text/plain": [
       "model.safetensors:   0%|          | 0.00/2.16M [00:00<?, ?B/s]"
      ]
     },
     "metadata": {},
     "output_type": "display_data"
    },
    {
     "data": {
      "text/plain": [
       "CommitInfo(commit_url='https://huggingface.co/shaddie/rocketpill_ts_informer_model/commit/88f1d8b0198ef267492bd2546d522274f7c477b7', commit_message='training-time-series-thrust-curve', commit_description='', oid='88f1d8b0198ef267492bd2546d522274f7c477b7', pr_url=None, repo_url=RepoUrl('https://huggingface.co/shaddie/rocketpill_ts_informer_model', endpoint='https://huggingface.co', repo_type='model', repo_id='shaddie/rocketpill_ts_informer_model'), pr_revision=None, pr_num=None)"
      ]
     },
     "execution_count": 30,
     "metadata": {},
     "output_type": "execute_result"
    }
   ],
   "source": [
    "model.push_to_hub(\"shaddie/rocketpill_ts_informer_model\",\n",
    "                  use_auth_token=True,\n",
    "                  commit_message=\"training-time-series-thrust-curve\",\n",
    "                  private=False)"
   ]
  },
  {
   "cell_type": "code",
   "execution_count": null,
   "id": "13a0e81b-b6c3-4b1e-8893-9b8796ceb77f",
   "metadata": {},
   "outputs": [],
   "source": []
  }
 ],
 "metadata": {
  "kernelspec": {
   "display_name": "Python 3 (ipykernel)",
   "language": "python",
   "name": "python3"
  },
  "language_info": {
   "codemirror_mode": {
    "name": "ipython",
    "version": 3
   },
   "file_extension": ".py",
   "mimetype": "text/x-python",
   "name": "python",
   "nbconvert_exporter": "python",
   "pygments_lexer": "ipython3",
   "version": "3.11.11"
  }
 },
 "nbformat": 4,
 "nbformat_minor": 5
}
