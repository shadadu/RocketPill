{
  "cells": [
    {
      "cell_type": "code",
      "execution_count": 1,
      "id": "5d2d9e41-374d-4053-b0e5-a7eed28166e2",
      "metadata": {
        "id": "5d2d9e41-374d-4053-b0e5-a7eed28166e2"
      },
      "outputs": [],
      "source": [
        "!pip install -q transformers datasets evaluate accelerate gluonts ujson"
      ]
    },
    {
      "cell_type": "code",
      "execution_count": 2,
      "id": "cf659f11-9741-47c6-bf62-513e83ce31e9",
      "metadata": {
        "colab": {
          "base_uri": "https://localhost:8080/"
        },
        "id": "cf659f11-9741-47c6-bf62-513e83ce31e9",
        "outputId": "0bbc2dc5-8317-4595-ac8a-264a18fbdb3e"
      },
      "outputs": [
        {
          "output_type": "stream",
          "name": "stdout",
          "text": [
            "Requirement already satisfied: datasets in /usr/local/lib/python3.11/dist-packages (3.6.0)\n",
            "Requirement already satisfied: huggingface_hub in /usr/local/lib/python3.11/dist-packages (0.33.0)\n",
            "Requirement already satisfied: fsspec in /usr/local/lib/python3.11/dist-packages (2025.3.0)\n",
            "Collecting fsspec\n",
            "  Using cached fsspec-2025.5.1-py3-none-any.whl.metadata (11 kB)\n",
            "Requirement already satisfied: filelock in /usr/local/lib/python3.11/dist-packages (from datasets) (3.18.0)\n",
            "Requirement already satisfied: numpy>=1.17 in /usr/local/lib/python3.11/dist-packages (from datasets) (2.0.2)\n",
            "Requirement already satisfied: pyarrow>=15.0.0 in /usr/local/lib/python3.11/dist-packages (from datasets) (18.1.0)\n",
            "Requirement already satisfied: dill<0.3.9,>=0.3.0 in /usr/local/lib/python3.11/dist-packages (from datasets) (0.3.7)\n",
            "Requirement already satisfied: pandas in /usr/local/lib/python3.11/dist-packages (from datasets) (2.2.2)\n",
            "Requirement already satisfied: requests>=2.32.2 in /usr/local/lib/python3.11/dist-packages (from datasets) (2.32.3)\n",
            "Requirement already satisfied: tqdm>=4.66.3 in /usr/local/lib/python3.11/dist-packages (from datasets) (4.67.1)\n",
            "Requirement already satisfied: xxhash in /usr/local/lib/python3.11/dist-packages (from datasets) (3.5.0)\n",
            "Requirement already satisfied: multiprocess<0.70.17 in /usr/local/lib/python3.11/dist-packages (from datasets) (0.70.15)\n",
            "Requirement already satisfied: packaging in /usr/local/lib/python3.11/dist-packages (from datasets) (24.2)\n",
            "Requirement already satisfied: pyyaml>=5.1 in /usr/local/lib/python3.11/dist-packages (from datasets) (6.0.2)\n",
            "Requirement already satisfied: typing-extensions>=3.7.4.3 in /usr/local/lib/python3.11/dist-packages (from huggingface_hub) (4.14.0)\n",
            "Requirement already satisfied: hf-xet<2.0.0,>=1.1.2 in /usr/local/lib/python3.11/dist-packages (from huggingface_hub) (1.1.3)\n",
            "Requirement already satisfied: aiohttp!=4.0.0a0,!=4.0.0a1 in /usr/local/lib/python3.11/dist-packages (from fsspec[http]<=2025.3.0,>=2023.1.0->datasets) (3.11.15)\n",
            "Requirement already satisfied: charset-normalizer<4,>=2 in /usr/local/lib/python3.11/dist-packages (from requests>=2.32.2->datasets) (3.4.2)\n",
            "Requirement already satisfied: idna<4,>=2.5 in /usr/local/lib/python3.11/dist-packages (from requests>=2.32.2->datasets) (3.10)\n",
            "Requirement already satisfied: urllib3<3,>=1.21.1 in /usr/local/lib/python3.11/dist-packages (from requests>=2.32.2->datasets) (2.4.0)\n",
            "Requirement already satisfied: certifi>=2017.4.17 in /usr/local/lib/python3.11/dist-packages (from requests>=2.32.2->datasets) (2025.6.15)\n",
            "Requirement already satisfied: python-dateutil>=2.8.2 in /usr/local/lib/python3.11/dist-packages (from pandas->datasets) (2.9.0.post0)\n",
            "Requirement already satisfied: pytz>=2020.1 in /usr/local/lib/python3.11/dist-packages (from pandas->datasets) (2025.2)\n",
            "Requirement already satisfied: tzdata>=2022.7 in /usr/local/lib/python3.11/dist-packages (from pandas->datasets) (2025.2)\n",
            "Requirement already satisfied: aiohappyeyeballs>=2.3.0 in /usr/local/lib/python3.11/dist-packages (from aiohttp!=4.0.0a0,!=4.0.0a1->fsspec[http]<=2025.3.0,>=2023.1.0->datasets) (2.6.1)\n",
            "Requirement already satisfied: aiosignal>=1.1.2 in /usr/local/lib/python3.11/dist-packages (from aiohttp!=4.0.0a0,!=4.0.0a1->fsspec[http]<=2025.3.0,>=2023.1.0->datasets) (1.3.2)\n",
            "Requirement already satisfied: attrs>=17.3.0 in /usr/local/lib/python3.11/dist-packages (from aiohttp!=4.0.0a0,!=4.0.0a1->fsspec[http]<=2025.3.0,>=2023.1.0->datasets) (25.3.0)\n",
            "Requirement already satisfied: frozenlist>=1.1.1 in /usr/local/lib/python3.11/dist-packages (from aiohttp!=4.0.0a0,!=4.0.0a1->fsspec[http]<=2025.3.0,>=2023.1.0->datasets) (1.7.0)\n",
            "Requirement already satisfied: multidict<7.0,>=4.5 in /usr/local/lib/python3.11/dist-packages (from aiohttp!=4.0.0a0,!=4.0.0a1->fsspec[http]<=2025.3.0,>=2023.1.0->datasets) (6.4.4)\n",
            "Requirement already satisfied: propcache>=0.2.0 in /usr/local/lib/python3.11/dist-packages (from aiohttp!=4.0.0a0,!=4.0.0a1->fsspec[http]<=2025.3.0,>=2023.1.0->datasets) (0.3.2)\n",
            "Requirement already satisfied: yarl<2.0,>=1.17.0 in /usr/local/lib/python3.11/dist-packages (from aiohttp!=4.0.0a0,!=4.0.0a1->fsspec[http]<=2025.3.0,>=2023.1.0->datasets) (1.20.1)\n",
            "Requirement already satisfied: six>=1.5 in /usr/local/lib/python3.11/dist-packages (from python-dateutil>=2.8.2->pandas->datasets) (1.17.0)\n"
          ]
        }
      ],
      "source": [
        "!pip install -U datasets huggingface_hub fsspec"
      ]
    },
    {
      "cell_type": "code",
      "execution_count": 3,
      "id": "fb7c3a87-dd1d-47de-a29e-0e42e5143567",
      "metadata": {
        "id": "fb7c3a87-dd1d-47de-a29e-0e42e5143567"
      },
      "outputs": [],
      "source": [
        "from datasets import load_dataset\n",
        "import matplotlib.pyplot as plt\n",
        "from functools import lru_cache, partial\n",
        "import pandas as pd\n",
        "import numpy as np\n",
        "from gluonts.dataset.multivariate_grouper import MultivariateGrouper\n",
        "from gluonts.time_feature import get_lags_for_frequency\n",
        "from pandas.core.arrays.period import period_array\n",
        "from transformers import InformerConfig, InformerForPrediction\n",
        "from transformers import PretrainedConfig\n",
        "from typing import Optional\n",
        "\n",
        "from gluonts.transform.sampler import InstanceSampler\n",
        "\n",
        "\n",
        "from gluonts.time_feature import TimeFeature\n",
        "from gluonts.dataset.field_names import FieldName\n",
        "from gluonts.transform import (\n",
        "    AddAgeFeature,\n",
        "    AddObservedValuesIndicator,\n",
        "    AddTimeFeatures,\n",
        "    AsNumpyArray,\n",
        "    Chain,\n",
        "    ExpectedNumInstanceSampler,\n",
        "    InstanceSplitter,\n",
        "    RemoveFields,\n",
        "    SelectFields,\n",
        "    SetField,\n",
        "    TestSplitSampler,\n",
        "    Transformation,\n",
        "    ValidationSplitSampler,\n",
        "    VstackFeatures,\n",
        "    RenameFields,\n",
        ")\n",
        "\n",
        "from accelerate import Accelerator\n",
        "from torch.optim import AdamW"
      ]
    },
    {
      "cell_type": "code",
      "execution_count": 4,
      "id": "01245d6e-567c-483f-be0c-881c6cf22359",
      "metadata": {
        "colab": {
          "base_uri": "https://localhost:8080/"
        },
        "id": "01245d6e-567c-483f-be0c-881c6cf22359",
        "outputId": "21a1d32c-3a16-49c2-d2ea-6329b2a538d4"
      },
      "outputs": [
        {
          "output_type": "stream",
          "name": "stderr",
          "text": [
            "/usr/local/lib/python3.11/dist-packages/huggingface_hub/utils/_auth.py:94: UserWarning: \n",
            "The secret `HF_TOKEN` does not exist in your Colab secrets.\n",
            "To authenticate with the Hugging Face Hub, create a token in your settings tab (https://huggingface.co/settings/tokens), set it as secret in your Google Colab and restart your session.\n",
            "You will be able to reuse this secret in all of your notebooks.\n",
            "Please note that authentication is recommended but still optional to access public models or datasets.\n",
            "  warnings.warn(\n"
          ]
        }
      ],
      "source": [
        "tc_dataset = load_dataset(\"shaddie/thrust_curves_dataset\")"
      ]
    },
    {
      "cell_type": "code",
      "execution_count": 5,
      "id": "be50d20e-7453-4ff5-a4a4-d126f1263ee6",
      "metadata": {
        "id": "be50d20e-7453-4ff5-a4a4-d126f1263ee6"
      },
      "outputs": [],
      "source": [
        "# Specify train/test split fraction\n",
        "train_fraction = 0.9  # 80% for training, 20% for testing\n",
        "\n",
        "# Split the original training set into new train/test sets\n",
        "split_dataset = tc_dataset[\"train\"].train_test_split(train_size=train_fraction, seed=42)"
      ]
    },
    {
      "cell_type": "code",
      "execution_count": 6,
      "id": "25c1be52-32b3-4786-8ad4-7634008a0fea",
      "metadata": {
        "colab": {
          "base_uri": "https://localhost:8080/"
        },
        "id": "25c1be52-32b3-4786-8ad4-7634008a0fea",
        "outputId": "08d1140c-5b35-49a7-d36f-650f2914234d"
      },
      "outputs": [
        {
          "output_type": "execute_result",
          "data": {
            "text/plain": [
              "DatasetDict({\n",
              "    train: Dataset({\n",
              "        features: ['start', 'target', 'feat_static_cat', 'feat_dynamic_real', 'item_id'],\n",
              "        num_rows: 239\n",
              "    })\n",
              "    test: Dataset({\n",
              "        features: ['start', 'target', 'feat_static_cat', 'feat_dynamic_real', 'item_id'],\n",
              "        num_rows: 27\n",
              "    })\n",
              "})"
            ]
          },
          "metadata": {},
          "execution_count": 6
        }
      ],
      "source": [
        "split_dataset"
      ]
    },
    {
      "cell_type": "code",
      "execution_count": 7,
      "id": "af4db824-0b8c-4ffe-9dde-081e11ff6290",
      "metadata": {
        "id": "af4db824-0b8c-4ffe-9dde-081e11ff6290"
      },
      "outputs": [],
      "source": [
        "def find_pad_max(dataset):\n",
        "    l=len(dataset)\n",
        "    m = 0\n",
        "    for r in range(l):\n",
        "        # real = tc_dataset[split][r]['feat_dynamic_real']\n",
        "        target = dataset[r]['target']\n",
        "        if m < len(target):\n",
        "            m = len(target)\n",
        "\n",
        "    return m\n",
        "\n",
        "\n",
        "def pad_data(data, m, split):\n",
        "    l=len(data)\n",
        "    tc = []\n",
        "    for r in range(l):\n",
        "        real = data[r]['feat_dynamic_real']\n",
        "        target = data[r]['target']\n",
        "        rlen = len(real)\n",
        "        pad = [0 for _ in range(m-rlen)]\n",
        "        # target = tc_dataset['train'][r]['target']\n",
        "        real = real + pad\n",
        "        target = target + pad\n",
        "        tc.append({\n",
        "            'start': data[r]['start'],\n",
        "            'target': target,\n",
        "            'feat_static_cat': data[r]['feat_static_cat'],\n",
        "            'feat_dynamic_real': real,\n",
        "            'item_id': data[r]['item_id']\n",
        "                }\n",
        "            )\n",
        "\n",
        "    return tc"
      ]
    },
    {
      "cell_type": "code",
      "execution_count": 8,
      "id": "6f5c9dda-f4c0-4a89-bc83-8c394bdd34f5",
      "metadata": {
        "colab": {
          "base_uri": "https://localhost:8080/"
        },
        "id": "6f5c9dda-f4c0-4a89-bc83-8c394bdd34f5",
        "outputId": "473c4e20-50aa-4f35-f5ef-c7d852e43c9a"
      },
      "outputs": [
        {
          "output_type": "stream",
          "name": "stdout",
          "text": [
            "61\n"
          ]
        }
      ],
      "source": [
        "from datasets import Dataset\n",
        "m1 = find_pad_max(split_dataset[\"train\"])\n",
        "m2 = find_pad_max(split_dataset[\"test\"])\n",
        "m = max(m1,m2)\n",
        "print(m)"
      ]
    },
    {
      "cell_type": "code",
      "execution_count": 9,
      "id": "29b91cee-d666-4ffe-815d-f425952b762e",
      "metadata": {
        "id": "29b91cee-d666-4ffe-815d-f425952b762e"
      },
      "outputs": [],
      "source": [
        "train_data = pad_data(split_dataset[\"train\"], m=m, split=\"train\")\n",
        "test_data = pad_data(split_dataset[\"test\"], m=m, split=\"test\")"
      ]
    },
    {
      "cell_type": "code",
      "execution_count": 10,
      "id": "cb065aac-b0f6-4614-8657-39fcee289f46",
      "metadata": {
        "id": "cb065aac-b0f6-4614-8657-39fcee289f46"
      },
      "outputs": [],
      "source": [
        "train_dataset = Dataset.from_list(train_data)\n",
        "test_dataset = Dataset.from_list(test_data)"
      ]
    },
    {
      "cell_type": "code",
      "execution_count": 11,
      "id": "f5acf98c-297d-4029-ad49-832e360b31a9",
      "metadata": {
        "colab": {
          "base_uri": "https://localhost:8080/"
        },
        "id": "f5acf98c-297d-4029-ad49-832e360b31a9",
        "outputId": "068bd597-ba9f-4918-d336-d1bb15ef3af9"
      },
      "outputs": [
        {
          "output_type": "execute_result",
          "data": {
            "text/plain": [
              "Dataset({\n",
              "    features: ['start', 'target', 'feat_static_cat', 'feat_dynamic_real', 'item_id'],\n",
              "    num_rows: 239\n",
              "})"
            ]
          },
          "metadata": {},
          "execution_count": 11
        }
      ],
      "source": [
        "train_dataset"
      ]
    },
    {
      "cell_type": "code",
      "execution_count": 12,
      "id": "f32a738a-78e3-4035-8c52-cccfcd959f11",
      "metadata": {
        "colab": {
          "base_uri": "https://localhost:8080/"
        },
        "id": "f32a738a-78e3-4035-8c52-cccfcd959f11",
        "outputId": "51755425-ec15-47d1-ae3b-f3aef9e8c40f"
      },
      "outputs": [
        {
          "output_type": "execute_result",
          "data": {
            "text/plain": [
              "Dataset({\n",
              "    features: ['start', 'target', 'feat_static_cat', 'feat_dynamic_real', 'item_id'],\n",
              "    num_rows: 27\n",
              "})"
            ]
          },
          "metadata": {},
          "execution_count": 12
        }
      ],
      "source": [
        "test_dataset"
      ]
    },
    {
      "cell_type": "code",
      "execution_count": 13,
      "id": "c0c1b70b-578a-424f-a1fa-0483a03808f9",
      "metadata": {
        "id": "c0c1b70b-578a-424f-a1fa-0483a03808f9"
      },
      "outputs": [],
      "source": [
        "freq = \"1W\"\n",
        "prediction_length = 8\n",
        "\n",
        "# assert len(train_example[\"target\"]) + prediction_length == len(\n",
        "#     dataset[\"validation\"][0][\"target\"]\n",
        "# )"
      ]
    },
    {
      "cell_type": "code",
      "execution_count": 14,
      "id": "414f227c-4179-4070-8120-f1d6ad693f17",
      "metadata": {
        "colab": {
          "base_uri": "https://localhost:8080/"
        },
        "id": "414f227c-4179-4070-8120-f1d6ad693f17",
        "outputId": "e85deed5-1d3f-40b8-8121-8071c214e76f"
      },
      "outputs": [
        {
          "output_type": "execute_result",
          "data": {
            "text/plain": [
              "dict_keys(['start', 'target', 'feat_static_cat', 'feat_dynamic_real', 'item_id'])"
            ]
          },
          "metadata": {},
          "execution_count": 14
        }
      ],
      "source": [
        "train_example = train_dataset[0]\n",
        "train_example.keys()"
      ]
    },
    {
      "cell_type": "code",
      "execution_count": 15,
      "id": "16841c07-bacd-409a-8256-264f809bc167",
      "metadata": {
        "colab": {
          "base_uri": "https://localhost:8080/",
          "height": 430
        },
        "id": "16841c07-bacd-409a-8256-264f809bc167",
        "outputId": "604e3a66-f19b-4487-e2f7-c18f14cdacb5"
      },
      "outputs": [
        {
          "output_type": "display_data",
          "data": {
            "text/plain": [
              "<Figure size 640x480 with 1 Axes>"
            ],
            "image/png": "[encoded data removed]"
          },
          "metadata": {}
        }
      ],
      "source": [
        "num_of_samples = 150\n",
        "\n",
        "figure, axes = plt.subplots()\n",
        "axes.plot(\n",
        "          # train_example[\"feat_dynamic_real\"][-num_of_samples:],\n",
        "          train_example[\"target\"][-num_of_samples:],\n",
        "          color=\"blue\")\n",
        "\n",
        "plt.show()"
      ]
    },
    {
      "cell_type": "code",
      "execution_count": 16,
      "id": "b802b9b3-0a9e-4546-96e0-61c1a8dda3ea",
      "metadata": {
        "id": "b802b9b3-0a9e-4546-96e0-61c1a8dda3ea"
      },
      "outputs": [],
      "source": [
        "@lru_cache(10_000)\n",
        "def convert_to_pandas_period(date, freq):\n",
        "    return pd.Period(date, freq)\n",
        "\n",
        "\n",
        "def transform_start_field(batch, freq):\n",
        "    batch[\"start\"] = [convert_to_pandas_period(date, freq) for date in batch[\"start\"]]\n",
        "    return batch"
      ]
    },
    {
      "cell_type": "code",
      "execution_count": 17,
      "id": "600028d7-a2a4-4d8f-905f-168eaa2dee28",
      "metadata": {
        "id": "600028d7-a2a4-4d8f-905f-168eaa2dee28"
      },
      "outputs": [],
      "source": [
        "train_dataset.set_transform(partial(transform_start_field, freq=freq))\n",
        "test_dataset.set_transform(partial(transform_start_field, freq=freq))"
      ]
    },
    {
      "cell_type": "code",
      "execution_count": 18,
      "id": "642a647f-d53b-481f-8704-8f97470198f3",
      "metadata": {
        "id": "642a647f-d53b-481f-8704-8f97470198f3"
      },
      "outputs": [],
      "source": [
        "num_of_variates = len(test_dataset) # group according to the smaller test dataset size\n",
        "\n",
        "train_grouper = MultivariateGrouper(max_target_dim=num_of_variates)\n",
        "test_grouper = MultivariateGrouper(\n",
        "    max_target_dim=num_of_variates\n",
        "    # max_target_dim=num_of_variates,\n",
        "    # num_test_dates=len(test_dataset),\n",
        "    # num_test_dates=None, # len(test_dataset),\n",
        "    # num_of_variates=num  # number of rolling test windows\n",
        ")\n",
        "\n",
        "multi_variate_train_dataset = train_grouper(train_dataset)\n",
        "multi_variate_test_dataset = test_grouper(test_dataset)"
      ]
    },
    {
      "cell_type": "code",
      "execution_count": 19,
      "id": "3223c9fe-093b-4096-ba82-70f28113d546",
      "metadata": {
        "colab": {
          "base_uri": "https://localhost:8080/"
        },
        "id": "3223c9fe-093b-4096-ba82-70f28113d546",
        "outputId": "1a7dbf3e-1200-4534-868f-51708e0c8754"
      },
      "outputs": [
        {
          "output_type": "stream",
          "name": "stdout",
          "text": [
            "multi_variate_train_example['target'].shape = (27, 99)\n"
          ]
        }
      ],
      "source": [
        "multi_variate_train_example = multi_variate_train_dataset[0]\n",
        "print(\n",
        "    f\"multi_variate_train_example['target'].shape = {multi_variate_train_example['target'].shape}\"\n",
        ")"
      ]
    },
    {
      "cell_type": "code",
      "source": [
        "multi_variate_test_example = multi_variate_test_dataset[0]\n",
        "print(\n",
        "    f\"multi_variate_test_example['target'].shape = {multi_variate_test_example['target'].shape}\"\n",
        ")"
      ],
      "metadata": {
        "colab": {
          "base_uri": "https://localhost:8080/"
        },
        "id": "ivJVFcO13Tlv",
        "outputId": "6f988bdb-2e9a-43f8-947b-aa1d06f27cda"
      },
      "id": "ivJVFcO13Tlv",
      "execution_count": 20,
      "outputs": [
        {
          "output_type": "stream",
          "name": "stdout",
          "text": [
            "multi_variate_test_example['target'].shape = (27, 95)\n"
          ]
        }
      ]
    },
    {
      "cell_type": "code",
      "execution_count": 21,
      "id": "cee8848f-3d3a-420b-a1f7-a4670d69f638",
      "metadata": {
        "colab": {
          "base_uri": "https://localhost:8080/"
        },
        "id": "cee8848f-3d3a-420b-a1f7-a4670d69f638",
        "outputId": "bd8a33a7-3314-4559-c621-9fac11a9c30f"
      },
      "outputs": [
        {
          "output_type": "stream",
          "name": "stdout",
          "text": [
            "[<function day_of_month at 0x7e4e7785a520>, <function week_of_year at 0x7e4e7785a8e0>]\n"
          ]
        }
      ],
      "source": [
        "from gluonts.time_feature import time_features_from_frequency_str\n",
        "\n",
        "time_features = time_features_from_frequency_str(freq)\n",
        "print(time_features)"
      ]
    },
    {
      "cell_type": "markdown",
      "id": "da3f00bb-84b5-43a4-89d0-2cff2ef6d876",
      "metadata": {
        "id": "da3f00bb-84b5-43a4-89d0-2cff2ef6d876"
      },
      "source": [
        "Look back certain time range for each time step, as additional features \"lags_sequence\""
      ]
    },
    {
      "cell_type": "code",
      "execution_count": 22,
      "id": "e902b76c-6b1c-4852-b35c-626e4659f32e",
      "metadata": {
        "colab": {
          "base_uri": "https://localhost:8080/"
        },
        "id": "e902b76c-6b1c-4852-b35c-626e4659f32e",
        "outputId": "be97a829-3196-4172-f519-058c0362ca26"
      },
      "outputs": [
        {
          "output_type": "stream",
          "name": "stdout",
          "text": [
            "[1, 2, 3, 4, 5, 6, 7, 8, 12, 51, 52, 53, 103, 104, 105, 155, 156, 157]\n"
          ]
        }
      ],
      "source": [
        "lags_sequence = get_lags_for_frequency(freq)\n",
        "print(lags_sequence)"
      ]
    },
    {
      "cell_type": "code",
      "execution_count": 23,
      "id": "2e1358e5-92af-46e8-8366-08a865067125",
      "metadata": {
        "colab": {
          "base_uri": "https://localhost:8080/"
        },
        "id": "2e1358e5-92af-46e8-8366-08a865067125",
        "outputId": "1e263739-866a-49a9-ce78-fb7e0a1877c9"
      },
      "outputs": [
        {
          "output_type": "stream",
          "name": "stdout",
          "text": [
            "{'day_of_month': array([-0.36666667]), 'week_of_year': array([-0.5])}\n"
          ]
        }
      ],
      "source": [
        "timestamp = pd.Period(\"2025-01-01 01:00:01\", freq=freq)\n",
        "timestamp_as_index = pd.PeriodIndex(data=period_array([timestamp]))\n",
        "additional_features = [\n",
        "    (time_feature.__name__, time_feature(timestamp_as_index))\n",
        "    for time_feature in time_features\n",
        "]\n",
        "print(dict(additional_features))"
      ]
    },
    {
      "cell_type": "code",
      "execution_count": 24,
      "id": "9df97b89-c634-49c1-b696-6e987abb07ed",
      "metadata": {
        "id": "9df97b89-c634-49c1-b696-6e987abb07ed"
      },
      "outputs": [],
      "source": [
        "model = None"
      ]
    },
    {
      "cell_type": "code",
      "execution_count": 25,
      "id": "65e11c77-9f27-40ad-8384-18b19d71f7a9",
      "metadata": {
        "id": "65e11c77-9f27-40ad-8384-18b19d71f7a9"
      },
      "outputs": [],
      "source": [
        "from transformers import InformerForPrediction"
      ]
    },
    {
      "cell_type": "code",
      "execution_count": 26,
      "id": "c6838383-e496-4b21-a7db-99d49d82aacd",
      "metadata": {
        "colab": {
          "base_uri": "https://localhost:8080/"
        },
        "id": "c6838383-e496-4b21-a7db-99d49d82aacd",
        "outputId": "64a4f2c8-94ab-4c55-ffd0-7036378cce80"
      },
      "outputs": [
        {
          "output_type": "stream",
          "name": "stdout",
          "text": [
            "An exception occurred when loading model from HF; initializing new model...\n",
            "New model initialized with config InformerConfig {\n",
            "  \"activation_dropout\": 0.1,\n",
            "  \"activation_function\": \"gelu\",\n",
            "  \"attention_dropout\": 0.1,\n",
            "  \"attention_type\": \"prob\",\n",
            "  \"cardinality\": [\n",
            "    0\n",
            "  ],\n",
            "  \"context_length\": 16,\n",
            "  \"d_model\": 64,\n",
            "  \"decoder_attention_heads\": 2,\n",
            "  \"decoder_ffn_dim\": 32,\n",
            "  \"decoder_layerdrop\": 0.1,\n",
            "  \"decoder_layers\": 4,\n",
            "  \"distil\": true,\n",
            "  \"distribution_output\": \"student_t\",\n",
            "  \"dropout\": 0.1,\n",
            "  \"embedding_dimension\": [\n",
            "    0\n",
            "  ],\n",
            "  \"encoder_attention_heads\": 2,\n",
            "  \"encoder_ffn_dim\": 32,\n",
            "  \"encoder_layerdrop\": 0.1,\n",
            "  \"encoder_layers\": 6,\n",
            "  \"feature_size\": 111,\n",
            "  \"init_std\": 0.02,\n",
            "  \"input_size\": 27,\n",
            "  \"is_encoder_decoder\": true,\n",
            "  \"lags_sequence\": [\n",
            "    1,\n",
            "    168\n",
            "  ],\n",
            "  \"loss\": \"nll\",\n",
            "  \"model_type\": \"informer\",\n",
            "  \"num_dynamic_real_features\": 0,\n",
            "  \"num_parallel_samples\": 100,\n",
            "  \"num_static_categorical_features\": 0,\n",
            "  \"num_static_real_features\": 0,\n",
            "  \"num_time_features\": 3,\n",
            "  \"prediction_length\": 8,\n",
            "  \"sampling_factor\": 5,\n",
            "  \"scaling\": \"mean\",\n",
            "  \"transformers_version\": \"4.52.4\",\n",
            "  \"use_cache\": true\n",
            "}\n",
            "\n"
          ]
        }
      ],
      "source": [
        "try:\n",
        "    model = InformerForPrediction.from_pretrained(\"shaddie/rocketpill_thrustcurve_informer_model\")\n",
        "    print(f\"successfully loaded model from hugging face with Config {model.config}\")\n",
        "except:\n",
        "    print(f\"An exception occurred when loading model from HF; initializing new model...\")\n",
        "    config = InformerConfig(\n",
        "    # in the multivariate setting, input_size is the number of variates in the time series per time step\n",
        "    input_size=num_of_variates,\n",
        "    # prediction length:\n",
        "    prediction_length=prediction_length,\n",
        "    # context length:\n",
        "    context_length=prediction_length * 2,\n",
        "    # lags value copied from 1 week before:\n",
        "    lags_sequence=[1, 24 * 7],\n",
        "    # we'll add 5 time features (\"hour_of_day\", ..., and \"age\"):\n",
        "    num_time_features=len(time_features) + 1,\n",
        "    # informer params:\n",
        "    dropout=0.1,\n",
        "    encoder_layers=6,\n",
        "    decoder_layers=4,\n",
        "    # project input from num_of_variates*len(lags_sequence)+num_time_features to:\n",
        "    d_model=64,\n",
        "    )\n",
        "\n",
        "    model = InformerForPrediction(config)\n",
        "    print(f\"New model initialized with config {model.config}\")"
      ]
    },
    {
      "cell_type": "code",
      "execution_count": 27,
      "id": "5e18bb22-004f-4176-9c4b-3051b6226d31",
      "metadata": {
        "id": "5e18bb22-004f-4176-9c4b-3051b6226d31",
        "colab": {
          "base_uri": "https://localhost:8080/",
          "height": 35
        },
        "outputId": "1a6ed279-0f5d-4e9c-a9df-bbef89f93dc7"
      },
      "outputs": [
        {
          "output_type": "execute_result",
          "data": {
            "text/plain": [
              "'student_t'"
            ],
            "application/vnd.google.colaboratory.intrinsic+json": {
              "type": "string"
            }
          },
          "metadata": {},
          "execution_count": 27
        }
      ],
      "source": [
        "model.config.distribution_output"
      ]
    },
    {
      "cell_type": "code",
      "execution_count": 28,
      "id": "b2265052-836a-4131-b12c-2df354ad9133",
      "metadata": {
        "id": "b2265052-836a-4131-b12c-2df354ad9133"
      },
      "outputs": [],
      "source": [
        "def create_transformation(freq: str, config: PretrainedConfig) -> Transformation:\n",
        "    # create list of fields to remove later\n",
        "    remove_field_names = []\n",
        "    if config.num_static_real_features == 0:\n",
        "        remove_field_names.append(FieldName.FEAT_STATIC_REAL)\n",
        "    if config.num_dynamic_real_features == 0:\n",
        "        remove_field_names.append(FieldName.FEAT_DYNAMIC_REAL)\n",
        "    if config.num_static_categorical_features == 0:\n",
        "        remove_field_names.append(FieldName.FEAT_STATIC_CAT)\n",
        "\n",
        "    return Chain(\n",
        "        # step 1: remove static/dynamic fields if not specified\n",
        "        [RemoveFields(field_names=remove_field_names)]\n",
        "        # step 2: convert the data to NumPy (potentially not needed)\n",
        "        + (\n",
        "            [\n",
        "                AsNumpyArray(\n",
        "                    field=FieldName.FEAT_STATIC_CAT,\n",
        "                    expected_ndim=1,\n",
        "                    dtype=int,\n",
        "                )\n",
        "            ]\n",
        "            if config.num_static_categorical_features > 0\n",
        "            else []\n",
        "        )\n",
        "        + (\n",
        "            [\n",
        "                AsNumpyArray(\n",
        "                    field=FieldName.FEAT_STATIC_REAL,\n",
        "                    expected_ndim=1,\n",
        "                )\n",
        "            ]\n",
        "            if config.num_static_real_features > 0\n",
        "            else []\n",
        "        )\n",
        "        + [\n",
        "            AsNumpyArray(\n",
        "                field=FieldName.TARGET,\n",
        "                # we expect an extra dim for the multivariate case:\n",
        "                expected_ndim=1 if config.input_size == 1 else 2,\n",
        "            ),\n",
        "            # step 3: handle the NaN's by filling in the target with zero\n",
        "            # and return the mask (which is in the observed values)\n",
        "            # true for observed values, false for nan's\n",
        "            # the decoder uses this mask (no loss is incurred for unobserved values)\n",
        "            # see loss_weights inside the xxxForPrediction model\n",
        "            AddObservedValuesIndicator(\n",
        "                target_field=FieldName.TARGET,\n",
        "                output_field=FieldName.OBSERVED_VALUES,\n",
        "            ),\n",
        "            # step 4: add temporal features based on freq of the dataset\n",
        "            # these serve as positional encodings\n",
        "            AddTimeFeatures(\n",
        "                start_field=FieldName.START,\n",
        "                target_field=FieldName.TARGET,\n",
        "                output_field=FieldName.FEAT_TIME,\n",
        "                time_features=time_features_from_frequency_str(freq),\n",
        "                pred_length=config.prediction_length,\n",
        "            ),\n",
        "            # step 5: add another temporal feature (just a single number)\n",
        "            # tells the model where in the life the value of the time series is\n",
        "            # sort of running counter\n",
        "            AddAgeFeature(\n",
        "                target_field=FieldName.TARGET,\n",
        "                output_field=FieldName.FEAT_AGE,\n",
        "                pred_length=config.prediction_length,\n",
        "                log_scale=True,\n",
        "            ),\n",
        "            # step 6: vertically stack all the temporal features into the key FEAT_TIME\n",
        "            VstackFeatures(\n",
        "                output_field=FieldName.FEAT_TIME,\n",
        "                input_fields=[FieldName.FEAT_TIME, FieldName.FEAT_AGE]\n",
        "                + (\n",
        "                    [FieldName.FEAT_DYNAMIC_REAL]\n",
        "                    if config.num_dynamic_real_features > 0\n",
        "                    else []\n",
        "                ),\n",
        "            ),\n",
        "            # step 7: rename to match HuggingFace names\n",
        "            RenameFields(\n",
        "                mapping={\n",
        "                    FieldName.FEAT_STATIC_CAT: \"static_categorical_features\",\n",
        "                    FieldName.FEAT_STATIC_REAL: \"static_real_features\",\n",
        "                    FieldName.FEAT_TIME: \"time_features\",\n",
        "                    FieldName.TARGET: \"values\",\n",
        "                    FieldName.OBSERVED_VALUES: \"observed_mask\",\n",
        "                }\n",
        "            ),\n",
        "        ]\n",
        "    )"
      ]
    },
    {
      "cell_type": "code",
      "execution_count": 29,
      "id": "b8850e0d-a330-4d7a-a528-c6cfb7e0ed9e",
      "metadata": {
        "id": "b8850e0d-a330-4d7a-a528-c6cfb7e0ed9e"
      },
      "outputs": [],
      "source": [
        "def create_instance_splitter(\n",
        "    config: PretrainedConfig,\n",
        "    mode: str,\n",
        "    train_sampler: Optional[InstanceSampler] = None,\n",
        "    validation_sampler: Optional[InstanceSampler] = None,\n",
        ") -> Transformation:\n",
        "    assert mode in [\"train\", \"validation\", \"test\"]\n",
        "\n",
        "    instance_sampler = {\n",
        "        \"train\": train_sampler\n",
        "        or ExpectedNumInstanceSampler(\n",
        "            num_instances=1.0, min_future=config.prediction_length\n",
        "        ),\n",
        "        \"validation\": validation_sampler\n",
        "        or ValidationSplitSampler(min_future=config.prediction_length),\n",
        "        \"test\": TestSplitSampler(),\n",
        "    }[mode]\n",
        "\n",
        "    return InstanceSplitter(\n",
        "        target_field=\"values\",\n",
        "        is_pad_field=FieldName.IS_PAD,\n",
        "        start_field=FieldName.START,\n",
        "        forecast_start_field=FieldName.FORECAST_START,\n",
        "        instance_sampler=instance_sampler,\n",
        "        past_length=config.context_length + max(config.lags_sequence),\n",
        "        future_length=config.prediction_length,\n",
        "        time_series_fields=[\"time_features\", \"observed_mask\"],\n",
        "    )"
      ]
    },
    {
      "cell_type": "code",
      "execution_count": 30,
      "id": "3167024f-4064-496b-b442-12d5a80b40c2",
      "metadata": {
        "id": "3167024f-4064-496b-b442-12d5a80b40c2"
      },
      "outputs": [],
      "source": [
        "from typing import Iterable\n",
        "\n",
        "import torch\n",
        "from gluonts.itertools import Cached, Cyclic\n",
        "from gluonts.dataset.loader import as_stacked_batches\n",
        "\n",
        "\n",
        "def create_train_dataloader(\n",
        "    config: PretrainedConfig,\n",
        "    freq,\n",
        "    data,\n",
        "    batch_size: int,\n",
        "    num_batches_per_epoch: int,\n",
        "    shuffle_buffer_length: Optional[int] = None,\n",
        "    cache_data: bool = True,\n",
        "    **kwargs,\n",
        ") -> Iterable:\n",
        "    PREDICTION_INPUT_NAMES = [\n",
        "        \"past_time_features\",\n",
        "        \"past_values\",\n",
        "        \"past_observed_mask\",\n",
        "        \"future_time_features\",\n",
        "    ]\n",
        "    if config.num_static_categorical_features > 0:\n",
        "        PREDICTION_INPUT_NAMES.append(\"static_categorical_features\")\n",
        "\n",
        "    if config.num_static_real_features > 0:\n",
        "        PREDICTION_INPUT_NAMES.append(\"static_real_features\")\n",
        "\n",
        "    TRAINING_INPUT_NAMES = PREDICTION_INPUT_NAMES + [\n",
        "        \"future_values\",\n",
        "        \"future_observed_mask\",\n",
        "    ]\n",
        "\n",
        "    transformation = create_transformation(freq, config)\n",
        "    transformed_data = transformation.apply(data, is_train=True)\n",
        "    if cache_data:\n",
        "        transformed_data = Cached(transformed_data)\n",
        "\n",
        "    # we initialize a Training instance\n",
        "    instance_splitter = create_instance_splitter(config, \"train\")\n",
        "\n",
        "    # the instance splitter will sample a window of\n",
        "    # context length + lags + prediction length (from all the possible transformed time series, 1 in our case)\n",
        "    # randomly from within the target time series and return an iterator.\n",
        "    stream = Cyclic(transformed_data).stream()\n",
        "    training_instances = instance_splitter.apply(stream)\n",
        "\n",
        "    return as_stacked_batches(\n",
        "        training_instances,\n",
        "        batch_size=batch_size,\n",
        "        shuffle_buffer_length=shuffle_buffer_length,\n",
        "        field_names=TRAINING_INPUT_NAMES,\n",
        "        output_type=torch.tensor,\n",
        "        num_batches_per_epoch=num_batches_per_epoch,\n",
        "    )"
      ]
    },
    {
      "cell_type": "code",
      "execution_count": 31,
      "id": "4946f995-4305-43bc-adc7-219a93549080",
      "metadata": {
        "id": "4946f995-4305-43bc-adc7-219a93549080"
      },
      "outputs": [],
      "source": [
        "def create_test_dataloader(\n",
        "    config: PretrainedConfig,\n",
        "    freq,\n",
        "    data,\n",
        "    batch_size: int,\n",
        "    num_batches_per_epoch: int,\n",
        "    shuffle_buffer_length: Optional[int] = None,\n",
        "    cache_data: bool = True,\n",
        "    **kwargs,\n",
        "):\n",
        "    PREDICTION_INPUT_NAMES = [\n",
        "        \"past_time_features\",\n",
        "        \"past_values\",\n",
        "        \"past_observed_mask\",\n",
        "        \"future_time_features\",\n",
        "    ]\n",
        "    if config.num_static_categorical_features > 0:\n",
        "        PREDICTION_INPUT_NAMES.append(\"static_categorical_features\")\n",
        "\n",
        "    if config.num_static_real_features > 0:\n",
        "        PREDICTION_INPUT_NAMES.append(\"static_real_features\")\n",
        "\n",
        "    transformation = create_transformation(freq, config)\n",
        "    transformed_data = transformation.apply(data, is_train=False)\n",
        "\n",
        "    # We create a test Instance splitter to sample the very last\n",
        "    # context window from the dataset provided.\n",
        "    instance_sampler = create_instance_splitter(config, \"test\")\n",
        "\n",
        "    # We apply the transformations in test mode\n",
        "    testing_instances = instance_sampler.apply(transformed_data, is_train=False)\n",
        "\n",
        "    return as_stacked_batches(\n",
        "        testing_instances,\n",
        "        batch_size=batch_size,\n",
        "        output_type=torch.tensor,\n",
        "        field_names=PREDICTION_INPUT_NAMES,\n",
        "        num_batches_per_epoch=num_batches_per_epoch,\n",
        "    )\n"
      ]
    },
    {
      "cell_type": "code",
      "source": [
        "config = model.config"
      ],
      "metadata": {
        "id": "vwyUJS37sgRO"
      },
      "id": "vwyUJS37sgRO",
      "execution_count": 32,
      "outputs": []
    },
    {
      "cell_type": "code",
      "execution_count": 33,
      "id": "1d9e0668-ceac-47a7-9ecf-fa7868267258",
      "metadata": {
        "id": "1d9e0668-ceac-47a7-9ecf-fa7868267258"
      },
      "outputs": [],
      "source": [
        "train_dataloader = create_train_dataloader(\n",
        "    config=config,\n",
        "    freq=freq,\n",
        "    data=multi_variate_train_dataset,\n",
        "    batch_size=256,\n",
        "    num_batches_per_epoch=100,\n",
        "    num_workers=2,\n",
        ")\n",
        "\n",
        "test_dataloader = create_test_dataloader(\n",
        "    config=config,\n",
        "    freq=freq,\n",
        "    data=multi_variate_test_dataset,\n",
        "    batch_size=256,\n",
        "    num_batches_per_epoch=100,\n",
        "    num_workers=2,\n",
        ")\n"
      ]
    },
    {
      "cell_type": "code",
      "execution_count": 34,
      "id": "c51f58dc-21f6-4c05-9da8-cd726eeeb4d3",
      "metadata": {
        "id": "c51f58dc-21f6-4c05-9da8-cd726eeeb4d3",
        "colab": {
          "base_uri": "https://localhost:8080/"
        },
        "outputId": "289b2a7b-4501-43b4-aa4a-ab9f90dd4754"
      },
      "outputs": [
        {
          "output_type": "stream",
          "name": "stdout",
          "text": [
            "past_time_features torch.Size([256, 184, 3]) torch.FloatTensor\n",
            "past_values torch.Size([256, 184, 27]) torch.FloatTensor\n",
            "past_observed_mask torch.Size([256, 184, 27]) torch.FloatTensor\n",
            "future_time_features torch.Size([256, 8, 3]) torch.FloatTensor\n",
            "future_values torch.Size([256, 8, 27]) torch.FloatTensor\n",
            "future_observed_mask torch.Size([256, 8, 27]) torch.FloatTensor\n"
          ]
        }
      ],
      "source": [
        "batch = next(iter(train_dataloader))\n",
        "for k, v in batch.items():\n",
        "    print(k, v.shape, v.type())"
      ]
    },
    {
      "cell_type": "code",
      "source": [
        "batch = next(iter(test_dataloader))\n",
        "for k, v in batch.items():\n",
        "    print(k, v.shape, v.type())"
      ],
      "metadata": {
        "colab": {
          "base_uri": "https://localhost:8080/"
        },
        "id": "ryM4ewbg5nP4",
        "outputId": "68d892ad-b80c-49bd-fd28-b51ace7f9813"
      },
      "id": "ryM4ewbg5nP4",
      "execution_count": 35,
      "outputs": [
        {
          "output_type": "stream",
          "name": "stdout",
          "text": [
            "past_time_features torch.Size([1, 184, 3]) torch.FloatTensor\n",
            "past_values torch.Size([1, 184, 27]) torch.FloatTensor\n",
            "past_observed_mask torch.Size([1, 184, 27]) torch.FloatTensor\n",
            "future_time_features torch.Size([1, 8, 3]) torch.FloatTensor\n"
          ]
        }
      ]
    },
    {
      "cell_type": "code",
      "execution_count": null,
      "id": "ed0c81f1-8d8a-4f94-b34a-5718e79293c6",
      "metadata": {
        "id": "ed0c81f1-8d8a-4f94-b34a-5718e79293c6",
        "colab": {
          "base_uri": "https://localhost:8080/"
        },
        "outputId": "ff572647-618f-4f5c-ad9a-607429f8e16d"
      },
      "outputs": [
        {
          "metadata": {
            "tags": null
          },
          "name": "stderr",
          "output_type": "stream",
          "text": [
            "Epoch 1/300 : 1it [00:04,  4.11s/it, loss=-70.6]"
          ]
        },
        {
          "metadata": {
            "tags": null
          },
          "name": "stdout",
          "output_type": "stream",
          "text": [
            "Epoch 0 & idx 0 with loss: -70.58369445800781\n"
          ]
        },
        {
          "metadata": {
            "tags": null
          },
          "name": "stderr",
          "output_type": "stream",
          "text": [
            "Epoch 1/300 : 100it [01:02,  1.59it/s, loss=-103]\n",
            "Epoch 2/300 : 1it [00:00,  4.81it/s, loss=-117]"
          ]
        },
        {
          "metadata": {
            "tags": null
          },
          "name": "stdout",
          "output_type": "stream",
          "text": [
            "Epoch 1 & idx 0 with loss: -116.98674011230469\n"
          ]
        },
        {
          "metadata": {
            "tags": null
          },
          "name": "stderr",
          "output_type": "stream",
          "text": [
            "Epoch 2/300 : 100it [00:22,  4.43it/s, loss=-129]\n",
            "Epoch 3/300 : 2it [00:00,  8.06it/s, loss=-129]"
          ]
        },
        {
          "metadata": {
            "tags": null
          },
          "name": "stdout",
          "output_type": "stream",
          "text": [
            "Epoch 2 & idx 0 with loss: -127.97795104980469\n"
          ]
        },
        {
          "metadata": {
            "tags": null
          },
          "name": "stderr",
          "output_type": "stream",
          "text": [
            "Epoch 3/300 : 100it [00:13,  7.40it/s, loss=-139]\n",
            "Epoch 4/300 : 2it [00:00,  8.28it/s, loss=-149]"
          ]
        },
        {
          "metadata": {
            "tags": null
          },
          "name": "stdout",
          "output_type": "stream",
          "text": [
            "Epoch 3 & idx 0 with loss: -145.09506225585938\n"
          ]
        },
        {
          "metadata": {
            "tags": null
          },
          "name": "stderr",
          "output_type": "stream",
          "text": [
            "Epoch 4/300 : 100it [00:13,  7.34it/s, loss=-146]\n",
            "Epoch 5/300 : 2it [00:00,  6.86it/s, loss=-149]"
          ]
        },
        {
          "metadata": {
            "tags": null
          },
          "name": "stdout",
          "output_type": "stream",
          "text": [
            "Epoch 4 & idx 0 with loss: -147.9849853515625\n"
          ]
        },
        {
          "metadata": {
            "tags": null
          },
          "name": "stderr",
          "output_type": "stream",
          "text": [
            "Epoch 5/300 : 100it [00:13,  7.53it/s, loss=-153]\n",
            "Epoch 6/300 : 2it [00:00,  7.14it/s, loss=-155]"
          ]
        },
        {
          "metadata": {
            "tags": null
          },
          "name": "stdout",
          "output_type": "stream",
          "text": [
            "Epoch 5 & idx 0 with loss: -163.15478515625\n"
          ]
        },
        {
          "metadata": {
            "tags": null
          },
          "name": "stderr",
          "output_type": "stream",
          "text": [
            "Epoch 6/300 : 100it [00:13,  7.56it/s, loss=-155]\n",
            "Epoch 7/300 : 2it [00:00,  8.39it/s, loss=-168]"
          ]
        },
        {
          "metadata": {
            "tags": null
          },
          "name": "stdout",
          "output_type": "stream",
          "text": [
            "Epoch 6 & idx 0 with loss: -168.4783172607422\n"
          ]
        },
        {
          "metadata": {
            "tags": null
          },
          "name": "stderr",
          "output_type": "stream",
          "text": [
            "Epoch 7/300 : 100it [00:13,  7.40it/s, loss=-158]\n",
            "Epoch 8/300 : 2it [00:00,  8.00it/s, loss=-167]"
          ]
        },
        {
          "metadata": {
            "tags": null
          },
          "name": "stdout",
          "output_type": "stream",
          "text": [
            "Epoch 7 & idx 0 with loss: -173.69935607910156\n"
          ]
        },
        {
          "metadata": {
            "tags": null
          },
          "name": "stderr",
          "output_type": "stream",
          "text": [
            "Epoch 8/300 : 100it [00:13,  7.30it/s, loss=-160]\n",
            "Epoch 9/300 : 1it [00:00,  5.07it/s, loss=-173]"
          ]
        },
        {
          "metadata": {
            "tags": null
          },
          "name": "stdout",
          "output_type": "stream",
          "text": [
            "Epoch 8 & idx 0 with loss: -176.97283935546875\n"
          ]
        },
        {
          "metadata": {
            "tags": null
          },
          "name": "stderr",
          "output_type": "stream",
          "text": [
            "Epoch 9/300 : 100it [00:13,  7.19it/s, loss=-160]\n",
            "Epoch 10/300 : 2it [00:00,  5.28it/s, loss=-165]"
          ]
        },
        {
          "metadata": {
            "tags": null
          },
          "name": "stdout",
          "output_type": "stream",
          "text": [
            "Epoch 9 & idx 0 with loss: -173.28652954101562\n"
          ]
        },
        {
          "metadata": {
            "tags": null
          },
          "name": "stderr",
          "output_type": "stream",
          "text": [
            "Epoch 10/300 : 100it [00:21,  4.69it/s, loss=-164]\n",
            "Epoch 11/300 : 2it [00:00,  8.04it/s, loss=-164]"
          ]
        },
        {
          "metadata": {
            "tags": null
          },
          "name": "stdout",
          "output_type": "stream",
          "text": [
            "Epoch 10 & idx 0 with loss: -168.84068298339844\n"
          ]
        },
        {
          "metadata": {
            "tags": null
          },
          "name": "stderr",
          "output_type": "stream",
          "text": [
            "Epoch 11/300 : 100it [00:13,  7.39it/s, loss=-164]\n",
            "Epoch 12/300 : 2it [00:00,  7.85it/s, loss=-157]"
          ]
        },
        {
          "metadata": {
            "tags": null
          },
          "name": "stdout",
          "output_type": "stream",
          "text": [
            "Epoch 11 & idx 0 with loss: -156.88262939453125\n"
          ]
        },
        {
          "metadata": {
            "tags": null
          },
          "name": "stderr",
          "output_type": "stream",
          "text": [
            "Epoch 12/300 : 100it [00:13,  7.51it/s, loss=-166]\n",
            "Epoch 13/300 : 2it [00:00,  8.23it/s, loss=-168]"
          ]
        },
        {
          "metadata": {
            "tags": null
          },
          "name": "stdout",
          "output_type": "stream",
          "text": [
            "Epoch 12 & idx 0 with loss: -179.80960083007812\n"
          ]
        },
        {
          "metadata": {
            "tags": null
          },
          "name": "stderr",
          "output_type": "stream",
          "text": [
            "Epoch 13/300 : 100it [00:13,  7.24it/s, loss=-165]\n",
            "Epoch 14/300 : 2it [00:00,  6.15it/s, loss=-164]"
          ]
        },
        {
          "metadata": {
            "tags": null
          },
          "name": "stdout",
          "output_type": "stream",
          "text": [
            "Epoch 13 & idx 0 with loss: -164.31396484375\n"
          ]
        },
        {
          "metadata": {
            "tags": null
          },
          "name": "stderr",
          "output_type": "stream",
          "text": [
            "Epoch 14/300 : 100it [00:13,  7.16it/s, loss=-169]\n",
            "Epoch 15/300 : 2it [00:00,  7.93it/s, loss=-173]"
          ]
        },
        {
          "metadata": {
            "tags": null
          },
          "name": "stdout",
          "output_type": "stream",
          "text": [
            "Epoch 14 & idx 0 with loss: -172.98988342285156\n"
          ]
        },
        {
          "metadata": {
            "tags": null
          },
          "name": "stderr",
          "output_type": "stream",
          "text": [
            "Epoch 15/300 : 100it [00:13,  7.41it/s, loss=-169]\n",
            "Epoch 16/300 : 2it [00:00,  8.02it/s, loss=-164]"
          ]
        },
        {
          "metadata": {
            "tags": null
          },
          "name": "stdout",
          "output_type": "stream",
          "text": [
            "Epoch 15 & idx 0 with loss: -170.96044921875\n"
          ]
        },
        {
          "metadata": {
            "tags": null
          },
          "name": "stderr",
          "output_type": "stream",
          "text": [
            "Epoch 16/300 : 100it [00:13,  7.44it/s, loss=-171]\n",
            "Epoch 17/300 : 2it [00:00,  7.35it/s, loss=-174]"
          ]
        },
        {
          "metadata": {
            "tags": null
          },
          "name": "stdout",
          "output_type": "stream",
          "text": [
            "Epoch 16 & idx 0 with loss: -179.68582153320312\n"
          ]
        },
        {
          "metadata": {
            "tags": null
          },
          "name": "stderr",
          "output_type": "stream",
          "text": [
            "Epoch 17/300 : 100it [00:13,  7.37it/s, loss=-171]\n",
            "Epoch 18/300 : 2it [00:00,  8.42it/s, loss=-162]"
          ]
        },
        {
          "metadata": {
            "tags": null
          },
          "name": "stdout",
          "output_type": "stream",
          "text": [
            "Epoch 17 & idx 0 with loss: -163.76806640625\n"
          ]
        },
        {
          "metadata": {
            "tags": null
          },
          "name": "stderr",
          "output_type": "stream",
          "text": [
            "Epoch 18/300 : 100it [00:13,  7.56it/s, loss=-171]\n",
            "Epoch 19/300 : 2it [00:00,  7.41it/s, loss=-168]"
          ]
        },
        {
          "metadata": {
            "tags": null
          },
          "name": "stdout",
          "output_type": "stream",
          "text": [
            "Epoch 18 & idx 0 with loss: -166.4527587890625\n"
          ]
        },
        {
          "metadata": {
            "tags": null
          },
          "name": "stderr",
          "output_type": "stream",
          "text": [
            "Epoch 19/300 : 100it [00:13,  7.58it/s, loss=-172]\n",
            "Epoch 20/300 : 2it [00:00,  8.22it/s, loss=-178]"
          ]
        },
        {
          "metadata": {
            "tags": null
          },
          "name": "stdout",
          "output_type": "stream",
          "text": [
            "Epoch 19 & idx 0 with loss: -168.98519897460938\n"
          ]
        },
        {
          "metadata": {
            "tags": null
          },
          "name": "stderr",
          "output_type": "stream",
          "text": [
            "Epoch 20/300 : 100it [00:13,  7.53it/s, loss=-172]\n",
            "Epoch 21/300 : 2it [00:00,  8.06it/s, loss=-171]"
          ]
        },
        {
          "metadata": {
            "tags": null
          },
          "name": "stdout",
          "output_type": "stream",
          "text": [
            "Epoch 20 & idx 0 with loss: -162.26608276367188\n"
          ]
        },
        {
          "metadata": {
            "tags": null
          },
          "name": "stderr",
          "output_type": "stream",
          "text": [
            "Epoch 21/300 : 100it [00:13,  7.45it/s, loss=-176]\n",
            "Epoch 22/300 : 2it [00:00,  7.40it/s, loss=-173]"
          ]
        },
        {
          "metadata": {
            "tags": null
          },
          "name": "stdout",
          "output_type": "stream",
          "text": [
            "Epoch 21 & idx 0 with loss: -179.29412841796875\n"
          ]
        },
        {
          "metadata": {
            "tags": null
          },
          "name": "stderr",
          "output_type": "stream",
          "text": [
            "Epoch 22/300 : 100it [00:13,  7.39it/s, loss=-175]\n",
            "Epoch 23/300 : 2it [00:00,  7.93it/s, loss=-172]"
          ]
        },
        {
          "metadata": {
            "tags": null
          },
          "name": "stdout",
          "output_type": "stream",
          "text": [
            "Epoch 22 & idx 0 with loss: -168.396728515625\n"
          ]
        },
        {
          "metadata": {
            "tags": null
          },
          "name": "stderr",
          "output_type": "stream",
          "text": [
            "Epoch 23/300 : 100it [00:13,  7.45it/s, loss=-174]\n",
            "Epoch 24/300 : 2it [00:00,  7.37it/s, loss=-179]"
          ]
        },
        {
          "metadata": {
            "tags": null
          },
          "name": "stdout",
          "output_type": "stream",
          "text": [
            "Epoch 23 & idx 0 with loss: -173.22964477539062\n"
          ]
        },
        {
          "metadata": {
            "tags": null
          },
          "name": "stderr",
          "output_type": "stream",
          "text": [
            "Epoch 24/300 : 100it [00:13,  7.37it/s, loss=-176]\n",
            "Epoch 25/300 : 2it [00:00,  7.34it/s, loss=-186]"
          ]
        },
        {
          "metadata": {
            "tags": null
          },
          "name": "stdout",
          "output_type": "stream",
          "text": [
            "Epoch 24 & idx 0 with loss: -181.47879028320312\n"
          ]
        },
        {
          "metadata": {
            "tags": null
          },
          "name": "stderr",
          "output_type": "stream",
          "text": [
            "Epoch 25/300 : 100it [00:13,  7.55it/s, loss=-178]\n",
            "Epoch 26/300 : 2it [00:00,  6.05it/s, loss=-180]"
          ]
        },
        {
          "metadata": {
            "tags": null
          },
          "name": "stdout",
          "output_type": "stream",
          "text": [
            "Epoch 25 & idx 0 with loss: -180.67135620117188\n"
          ]
        },
        {
          "metadata": {
            "tags": null
          },
          "name": "stderr",
          "output_type": "stream",
          "text": [
            "Epoch 26/300 : 100it [00:13,  7.47it/s, loss=-178]\n",
            "Epoch 27/300 : 2it [00:00,  5.59it/s, loss=-176]"
          ]
        },
        {
          "metadata": {
            "tags": null
          },
          "name": "stdout",
          "output_type": "stream",
          "text": [
            "Epoch 26 & idx 0 with loss: -179.77114868164062\n"
          ]
        },
        {
          "metadata": {
            "tags": null
          },
          "name": "stderr",
          "output_type": "stream",
          "text": [
            "Epoch 27/300 : 100it [00:13,  7.33it/s, loss=-178]\n",
            "Epoch 28/300 : 2it [00:00,  8.19it/s, loss=-176]"
          ]
        },
        {
          "metadata": {
            "tags": null
          },
          "name": "stdout",
          "output_type": "stream",
          "text": [
            "Epoch 27 & idx 0 with loss: -161.8790740966797\n"
          ]
        },
        {
          "metadata": {
            "tags": null
          },
          "name": "stderr",
          "output_type": "stream",
          "text": [
            "Epoch 28/300 : 100it [00:13,  7.50it/s, loss=-180]\n",
            "Epoch 29/300 : 2it [00:00,  8.34it/s, loss=-171]"
          ]
        },
        {
          "metadata": {
            "tags": null
          },
          "name": "stdout",
          "output_type": "stream",
          "text": [
            "Epoch 28 & idx 0 with loss: -176.09640502929688\n"
          ]
        },
        {
          "metadata": {
            "tags": null
          },
          "name": "stderr",
          "output_type": "stream",
          "text": [
            "Epoch 29/300 : 100it [00:13,  7.41it/s, loss=-180]\n",
            "Epoch 30/300 : 2it [00:00,  8.06it/s, loss=-172]"
          ]
        },
        {
          "metadata": {
            "tags": null
          },
          "name": "stdout",
          "output_type": "stream",
          "text": [
            "Epoch 29 & idx 0 with loss: -174.40377807617188\n"
          ]
        },
        {
          "metadata": {
            "tags": null
          },
          "name": "stderr",
          "output_type": "stream",
          "text": [
            "Epoch 30/300 : 100it [00:13,  7.45it/s, loss=-180]\n",
            "Epoch 31/300 : 2it [00:00,  6.98it/s, loss=-185]"
          ]
        },
        {
          "metadata": {
            "tags": null
          },
          "name": "stdout",
          "output_type": "stream",
          "text": [
            "Epoch 30 & idx 0 with loss: -180.28524780273438\n"
          ]
        },
        {
          "metadata": {
            "tags": null
          },
          "name": "stderr",
          "output_type": "stream",
          "text": [
            "Epoch 31/300 : 100it [00:13,  7.29it/s, loss=-180]\n",
            "Epoch 32/300 : 2it [00:00,  8.00it/s, loss=-179]"
          ]
        },
        {
          "metadata": {
            "tags": null
          },
          "name": "stdout",
          "output_type": "stream",
          "text": [
            "Epoch 31 & idx 0 with loss: -175.02395629882812\n"
          ]
        },
        {
          "metadata": {
            "tags": null
          },
          "name": "stderr",
          "output_type": "stream",
          "text": [
            "Epoch 32/300 : 100it [00:13,  7.43it/s, loss=-180]\n",
            "Epoch 33/300 : 2it [00:00,  8.39it/s, loss=-180]"
          ]
        },
        {
          "metadata": {
            "tags": null
          },
          "name": "stdout",
          "output_type": "stream",
          "text": [
            "Epoch 32 & idx 0 with loss: -192.87557983398438\n"
          ]
        },
        {
          "metadata": {
            "tags": null
          },
          "name": "stderr",
          "output_type": "stream",
          "text": [
            "Epoch 33/300 : 100it [00:13,  7.38it/s, loss=-183]\n",
            "Epoch 34/300 : 2it [00:00,  7.86it/s, loss=-186]"
          ]
        },
        {
          "metadata": {
            "tags": null
          },
          "name": "stdout",
          "output_type": "stream",
          "text": [
            "Epoch 33 & idx 0 with loss: -181.30197143554688\n"
          ]
        },
        {
          "metadata": {
            "tags": null
          },
          "name": "stderr",
          "output_type": "stream",
          "text": [
            "Epoch 34/300 : 100it [00:13,  7.30it/s, loss=-182]\n",
            "Epoch 35/300 : 2it [00:00,  7.95it/s, loss=-176]"
          ]
        },
        {
          "metadata": {
            "tags": null
          },
          "name": "stdout",
          "output_type": "stream",
          "text": [
            "Epoch 34 & idx 0 with loss: -190.28884887695312\n"
          ]
        },
        {
          "metadata": {
            "tags": null
          },
          "name": "stderr",
          "output_type": "stream",
          "text": [
            "Epoch 35/300 : 100it [00:13,  7.36it/s, loss=-183]\n",
            "Epoch 36/300 : 2it [00:00,  7.78it/s, loss=-186]"
          ]
        },
        {
          "metadata": {
            "tags": null
          },
          "name": "stdout",
          "output_type": "stream",
          "text": [
            "Epoch 35 & idx 0 with loss: -182.43850708007812\n"
          ]
        },
        {
          "metadata": {
            "tags": null
          },
          "name": "stderr",
          "output_type": "stream",
          "text": [
            "Epoch 36/300 : 100it [00:13,  7.36it/s, loss=-182]\n",
            "Epoch 37/300 : 2it [00:00,  8.36it/s, loss=-184]"
          ]
        },
        {
          "metadata": {
            "tags": null
          },
          "name": "stdout",
          "output_type": "stream",
          "text": [
            "Epoch 36 & idx 0 with loss: -180.2036590576172\n"
          ]
        },
        {
          "metadata": {
            "tags": null
          },
          "name": "stderr",
          "output_type": "stream",
          "text": [
            "Epoch 37/300 : 100it [00:13,  7.25it/s, loss=-184]\n",
            "Epoch 38/300 : 2it [00:00,  6.08it/s, loss=-186]"
          ]
        },
        {
          "metadata": {
            "tags": null
          },
          "name": "stdout",
          "output_type": "stream",
          "text": [
            "Epoch 37 & idx 0 with loss: -173.17974853515625\n"
          ]
        },
        {
          "metadata": {
            "tags": null
          },
          "name": "stderr",
          "output_type": "stream",
          "text": [
            "Epoch 38/300 : 100it [00:13,  7.20it/s, loss=-186]\n",
            "Epoch 39/300 : 2it [00:00,  6.70it/s, loss=-197]"
          ]
        },
        {
          "metadata": {
            "tags": null
          },
          "name": "stdout",
          "output_type": "stream",
          "text": [
            "Epoch 38 & idx 0 with loss: -191.17633056640625\n"
          ]
        },
        {
          "metadata": {
            "tags": null
          },
          "name": "stderr",
          "output_type": "stream",
          "text": [
            "Epoch 39/300 : 100it [00:13,  7.38it/s, loss=-186]\n",
            "Epoch 40/300 : 2it [00:00,  7.99it/s, loss=-188]"
          ]
        },
        {
          "metadata": {
            "tags": null
          },
          "name": "stdout",
          "output_type": "stream",
          "text": [
            "Epoch 39 & idx 0 with loss: -186.50497436523438\n"
          ]
        },
        {
          "metadata": {
            "tags": null
          },
          "name": "stderr",
          "output_type": "stream",
          "text": [
            "Epoch 40/300 : 100it [00:13,  7.56it/s, loss=-184]\n",
            "Epoch 41/300 : 2it [00:00,  7.52it/s, loss=-185]"
          ]
        },
        {
          "metadata": {
            "tags": null
          },
          "name": "stdout",
          "output_type": "stream",
          "text": [
            "Epoch 40 & idx 0 with loss: -185.969482421875\n"
          ]
        },
        {
          "metadata": {
            "tags": null
          },
          "name": "stderr",
          "output_type": "stream",
          "text": [
            "Epoch 41/300 : 100it [00:13,  7.43it/s, loss=-184]\n",
            "Epoch 42/300 : 2it [00:00,  7.82it/s, loss=-180]"
          ]
        },
        {
          "metadata": {
            "tags": null
          },
          "name": "stdout",
          "output_type": "stream",
          "text": [
            "Epoch 41 & idx 0 with loss: -171.50527954101562\n"
          ]
        },
        {
          "metadata": {
            "tags": null
          },
          "name": "stderr",
          "output_type": "stream",
          "text": [
            "Epoch 42/300 : 100it [00:13,  7.42it/s, loss=-187]\n",
            "Epoch 43/300 : 2it [00:00,  8.27it/s, loss=-166]"
          ]
        },
        {
          "metadata": {
            "tags": null
          },
          "name": "stdout",
          "output_type": "stream",
          "text": [
            "Epoch 42 & idx 0 with loss: -173.14315795898438\n"
          ]
        },
        {
          "metadata": {
            "tags": null
          },
          "name": "stderr",
          "output_type": "stream",
          "text": [
            "Epoch 43/300 : 100it [00:13,  7.60it/s, loss=-185]\n",
            "Epoch 44/300 : 2it [00:00,  8.02it/s, loss=-189]"
          ]
        },
        {
          "metadata": {
            "tags": null
          },
          "name": "stdout",
          "output_type": "stream",
          "text": [
            "Epoch 43 & idx 0 with loss: -194.35415649414062\n"
          ]
        },
        {
          "metadata": {
            "tags": null
          },
          "name": "stderr",
          "output_type": "stream",
          "text": [
            "Epoch 44/300 : 100it [00:13,  7.45it/s, loss=-187]\n",
            "Epoch 45/300 : 2it [00:00,  7.73it/s, loss=-175]"
          ]
        },
        {
          "metadata": {
            "tags": null
          },
          "name": "stdout",
          "output_type": "stream",
          "text": [
            "Epoch 44 & idx 0 with loss: -181.99632263183594\n"
          ]
        },
        {
          "metadata": {
            "tags": null
          },
          "name": "stderr",
          "output_type": "stream",
          "text": [
            "Epoch 45/300 : 100it [00:13,  7.43it/s, loss=-187]\n",
            "Epoch 46/300 : 2it [00:00,  8.10it/s, loss=-188]"
          ]
        },
        {
          "metadata": {
            "tags": null
          },
          "name": "stdout",
          "output_type": "stream",
          "text": [
            "Epoch 45 & idx 0 with loss: -186.5103759765625\n"
          ]
        },
        {
          "metadata": {
            "tags": null
          },
          "name": "stderr",
          "output_type": "stream",
          "text": [
            "Epoch 46/300 : 100it [00:13,  7.22it/s, loss=-187]\n",
            "Epoch 47/300 : 2it [00:00,  8.00it/s, loss=-187]"
          ]
        },
        {
          "metadata": {
            "tags": null
          },
          "name": "stdout",
          "output_type": "stream",
          "text": [
            "Epoch 46 & idx 0 with loss: -187.45516967773438\n"
          ]
        },
        {
          "metadata": {
            "tags": null
          },
          "name": "stderr",
          "output_type": "stream",
          "text": [
            "Epoch 47/300 : 100it [00:13,  7.41it/s, loss=-188]\n",
            "Epoch 48/300 : 2it [00:00,  7.71it/s, loss=-191]"
          ]
        },
        {
          "metadata": {
            "tags": null
          },
          "name": "stdout",
          "output_type": "stream",
          "text": [
            "Epoch 47 & idx 0 with loss: -192.3115234375\n"
          ]
        },
        {
          "metadata": {
            "tags": null
          },
          "name": "stderr",
          "output_type": "stream",
          "text": [
            "Epoch 48/300 : 100it [00:13,  7.41it/s, loss=-187]\n",
            "Epoch 49/300 : 2it [00:00,  7.30it/s, loss=-182]"
          ]
        },
        {
          "metadata": {
            "tags": null
          },
          "name": "stdout",
          "output_type": "stream",
          "text": [
            "Epoch 48 & idx 0 with loss: -179.60169982910156\n"
          ]
        },
        {
          "metadata": {
            "tags": null
          },
          "name": "stderr",
          "output_type": "stream",
          "text": [
            "Epoch 49/300 : 100it [00:13,  7.16it/s, loss=-190]\n",
            "Epoch 50/300 : 2it [00:00,  6.01it/s, loss=-191]"
          ]
        },
        {
          "metadata": {
            "tags": null
          },
          "name": "stdout",
          "output_type": "stream",
          "text": [
            "Epoch 49 & idx 0 with loss: -187.43023681640625\n"
          ]
        },
        {
          "metadata": {
            "tags": null
          },
          "name": "stderr",
          "output_type": "stream",
          "text": [
            "Epoch 50/300 : 100it [00:13,  7.29it/s, loss=-187]\n",
            "Epoch 51/300 : 2it [00:00,  8.33it/s, loss=-164]"
          ]
        },
        {
          "metadata": {
            "tags": null
          },
          "name": "stdout",
          "output_type": "stream",
          "text": [
            "Epoch 50 & idx 0 with loss: -162.52432250976562\n"
          ]
        },
        {
          "metadata": {
            "tags": null
          },
          "name": "stderr",
          "output_type": "stream",
          "text": [
            "Epoch 51/300 : 100it [00:13,  7.51it/s, loss=-188]\n",
            "Epoch 52/300 : 2it [00:00,  7.20it/s, loss=-186]"
          ]
        },
        {
          "metadata": {
            "tags": null
          },
          "name": "stdout",
          "output_type": "stream",
          "text": [
            "Epoch 51 & idx 0 with loss: -185.70021057128906\n"
          ]
        },
        {
          "metadata": {
            "tags": null
          },
          "name": "stderr",
          "output_type": "stream",
          "text": [
            "Epoch 52/300 : 100it [00:13,  7.55it/s, loss=-189]\n",
            "Epoch 53/300 : 2it [00:00,  8.37it/s, loss=-181]"
          ]
        },
        {
          "metadata": {
            "tags": null
          },
          "name": "stdout",
          "output_type": "stream",
          "text": [
            "Epoch 52 & idx 0 with loss: -180.02999877929688\n"
          ]
        },
        {
          "metadata": {
            "tags": null
          },
          "name": "stderr",
          "output_type": "stream",
          "text": [
            "Epoch 53/300 : 100it [00:13,  7.49it/s, loss=-188]\n",
            "Epoch 54/300 : 2it [00:00,  7.73it/s, loss=-188]"
          ]
        },
        {
          "metadata": {
            "tags": null
          },
          "name": "stdout",
          "output_type": "stream",
          "text": [
            "Epoch 53 & idx 0 with loss: -185.05783081054688\n"
          ]
        },
        {
          "metadata": {
            "tags": null
          },
          "name": "stderr",
          "output_type": "stream",
          "text": [
            "Epoch 54/300 : 100it [00:13,  7.38it/s, loss=-190]\n",
            "Epoch 55/300 : 2it [00:00,  7.28it/s, loss=-176]"
          ]
        },
        {
          "metadata": {
            "tags": null
          },
          "name": "stdout",
          "output_type": "stream",
          "text": [
            "Epoch 54 & idx 0 with loss: -193.59597778320312\n"
          ]
        },
        {
          "metadata": {
            "tags": null
          },
          "name": "stderr",
          "output_type": "stream",
          "text": [
            "Epoch 55/300 : 100it [00:13,  7.50it/s, loss=-189]\n",
            "Epoch 56/300 : 2it [00:00,  8.07it/s, loss=-180]"
          ]
        },
        {
          "metadata": {
            "tags": null
          },
          "name": "stdout",
          "output_type": "stream",
          "text": [
            "Epoch 55 & idx 0 with loss: -165.11196899414062\n"
          ]
        },
        {
          "metadata": {
            "tags": null
          },
          "name": "stderr",
          "output_type": "stream",
          "text": [
            "Epoch 56/300 : 100it [00:13,  7.56it/s, loss=-189]\n",
            "Epoch 57/300 : 2it [00:00,  8.14it/s, loss=-194]"
          ]
        },
        {
          "metadata": {
            "tags": null
          },
          "name": "stdout",
          "output_type": "stream",
          "text": [
            "Epoch 56 & idx 0 with loss: -193.03187561035156\n"
          ]
        },
        {
          "metadata": {
            "tags": null
          },
          "name": "stderr",
          "output_type": "stream",
          "text": [
            "Epoch 57/300 : 100it [00:13,  7.52it/s, loss=-190]\n",
            "Epoch 58/300 : 2it [00:00,  6.56it/s, loss=-200]"
          ]
        },
        {
          "metadata": {
            "tags": null
          },
          "name": "stdout",
          "output_type": "stream",
          "text": [
            "Epoch 57 & idx 0 with loss: -200.10845947265625\n"
          ]
        },
        {
          "metadata": {
            "tags": null
          },
          "name": "stderr",
          "output_type": "stream",
          "text": [
            "Epoch 58/300 : 100it [00:13,  7.46it/s, loss=-189]\n",
            "Epoch 59/300 : 2it [00:00,  8.12it/s, loss=-174]"
          ]
        },
        {
          "metadata": {
            "tags": null
          },
          "name": "stdout",
          "output_type": "stream",
          "text": [
            "Epoch 58 & idx 0 with loss: -173.01019287109375\n"
          ]
        },
        {
          "output_type": "stream",
          "name": "stderr",
          "text": [
            "Epoch 59/300 : 100it [00:14,  7.13it/s, loss=-193]\n",
            "Epoch 60/300 : 2it [00:00,  8.02it/s, loss=-181]"
          ]
        },
        {
          "output_type": "stream",
          "name": "stdout",
          "text": [
            "Epoch 59 & idx 0 with loss: -192.4285888671875\n"
          ]
        },
        {
          "output_type": "stream",
          "name": "stderr",
          "text": [
            "Epoch 60/300 : 100it [00:13,  7.41it/s, loss=-191]\n",
            "Epoch 61/300 : 2it [00:00,  8.26it/s, loss=-192]"
          ]
        },
        {
          "output_type": "stream",
          "name": "stdout",
          "text": [
            "Epoch 60 & idx 0 with loss: -191.58212280273438\n"
          ]
        },
        {
          "output_type": "stream",
          "name": "stderr",
          "text": [
            "Epoch 61/300 : 100it [00:14,  7.14it/s, loss=-191]\n",
            "Epoch 62/300 : 2it [00:00,  5.60it/s, loss=-188]"
          ]
        },
        {
          "output_type": "stream",
          "name": "stdout",
          "text": [
            "Epoch 61 & idx 0 with loss: -192.36489868164062\n"
          ]
        },
        {
          "output_type": "stream",
          "name": "stderr",
          "text": [
            "Epoch 62/300 : 100it [00:14,  7.12it/s, loss=-191]\n",
            "Epoch 63/300 : 2it [00:00,  7.30it/s, loss=-196]"
          ]
        },
        {
          "output_type": "stream",
          "name": "stdout",
          "text": [
            "Epoch 62 & idx 0 with loss: -196.0679168701172\n"
          ]
        },
        {
          "output_type": "stream",
          "name": "stderr",
          "text": [
            "Epoch 63/300 : 100it [00:13,  7.27it/s, loss=-191]\n",
            "Epoch 64/300 : 2it [00:00,  7.74it/s, loss=-192]"
          ]
        },
        {
          "output_type": "stream",
          "name": "stdout",
          "text": [
            "Epoch 63 & idx 0 with loss: -193.14398193359375\n"
          ]
        },
        {
          "output_type": "stream",
          "name": "stderr",
          "text": [
            "Epoch 64/300 : 40it [00:05,  7.73it/s, loss=-193]"
          ]
        }
      ],
      "source": [
        "from tqdm import tqdm\n",
        "epochs = 300\n",
        "loss_history = []\n",
        "\n",
        "accelerator = Accelerator()\n",
        "device = accelerator.device\n",
        "\n",
        "model.to(device)\n",
        "optimizer = AdamW(model.parameters(), lr=6e-4, betas=(0.9, 0.95), weight_decay=1e-1)\n",
        "\n",
        "model, optimizer, train_dataloader = accelerator.prepare(\n",
        "    model,\n",
        "    optimizer,\n",
        "    train_dataloader,\n",
        ")\n",
        "\n",
        "model.train()\n",
        "for epoch in range(epochs):\n",
        "    total_loss = 0.0\n",
        "    progress_bar = tqdm(train_dataloader, desc=f\"Epoch {epoch+1}/{epochs} \")\n",
        "    # for data in tqdm(train_dataloader,  desc=f\"Epoch {epoch+1}\"):\n",
        "    for idx, batch in enumerate(progress_bar):\n",
        "        # print(f'idx: {idx}')\n",
        "        # for k, v in batch.items():\n",
        "        #     print(k, v.shape, v.type())\n",
        "        optimizer.zero_grad()\n",
        "        outputs = model(\n",
        "            static_categorical_features=batch[\"static_categorical_features\"].to(device)\n",
        "            if config.num_static_categorical_features > 0\n",
        "            else None,\n",
        "            static_real_features=batch[\"static_real_features\"].to(device)\n",
        "            if config.num_static_real_features > 0\n",
        "            else None,\n",
        "            past_time_features=batch[\"past_time_features\"].to(device),\n",
        "            past_values=batch[\"past_values\"].to(device),\n",
        "            future_time_features=batch[\"future_time_features\"].to(device),\n",
        "            future_values=batch[\"future_values\"].to(device),\n",
        "            past_observed_mask=batch[\"past_observed_mask\"].to(device),\n",
        "            future_observed_mask=batch[\"future_observed_mask\"].to(device),\n",
        "        )\n",
        "        loss = outputs.loss\n",
        "        total_loss += loss.item()\n",
        "        progress_bar.set_postfix(loss=total_loss / (progress_bar.n + 1))\n",
        "\n",
        "        # Backpropagation\n",
        "        accelerator.backward(loss)\n",
        "        optimizer.step()\n",
        "\n",
        "        loss_history.append(loss.item())\n",
        "        if idx % 200 == 0:\n",
        "            print(f'Epoch {epoch} & idx {idx} with loss: {loss.item()}')"
      ]
    },
    {
      "cell_type": "code",
      "execution_count": null,
      "id": "fe07c300-e02d-4e26-9359-1de2b5db2f6b",
      "metadata": {
        "id": "fe07c300-e02d-4e26-9359-1de2b5db2f6b"
      },
      "outputs": [],
      "source": [
        "# import os\n",
        "# work_dir = os.getcwd()\n",
        "# work_dir = os.getcwd()\n",
        "# data_dir = work_dir.replace(\"GitHub/RocketPill/ipynb-notebooks\", \"Data/\")"
      ]
    },
    {
      "cell_type": "code",
      "execution_count": null,
      "id": "412f5e61-0370-4e0f-9c5a-518ae490dcc0",
      "metadata": {
        "id": "412f5e61-0370-4e0f-9c5a-518ae490dcc0"
      },
      "outputs": [],
      "source": [
        "# view training\n",
        "from datetime import datetime\n",
        "\n",
        "loss_history = np.array(loss_history).reshape(-1)\n",
        "x = range(loss_history.shape[0])\n",
        "plt.figure(figsize=(10, 5))\n",
        "plt.plot(x, loss_history, label=\"train\")\n",
        "plt.title(\"Loss\", fontsize=15)\n",
        "plt.legend(loc=\"upper right\")\n",
        "plt.xlabel(\"iteration\")\n",
        "plt.ylabel(\"nll\")\n",
        "# plt.savefig(data_dir+\"hf_informer4roqeto_loss_curve_\"+str(datetime.now()).replace(\":\",\".\")+\".png\")\n",
        "plt.show()"
      ]
    },
    {
      "cell_type": "code",
      "execution_count": null,
      "id": "f39a8680-bc2b-4f15-ab80-9ac70887e7ac",
      "metadata": {
        "id": "f39a8680-bc2b-4f15-ab80-9ac70887e7ac"
      },
      "outputs": [],
      "source": [
        "# from huggingface_hub import notebook_login\n",
        "# notebook_login()"
      ]
    },
    {
      "cell_type": "code",
      "execution_count": null,
      "id": "498a9ab5-096c-441d-b6df-e8493066e708",
      "metadata": {
        "id": "498a9ab5-096c-441d-b6df-e8493066e708"
      },
      "outputs": [],
      "source": [
        "# model.push_to_hub(\"shaddie/rocketpill_ts_informer_model\",\n",
        "#                   use_auth_token=True,\n",
        "#                   commit_message=\"training-time-series-thrust-curve\",\n",
        "#                   private=False)"
      ]
    },
    {
      "cell_type": "code",
      "source": [
        "# model"
      ],
      "metadata": {
        "id": "PIaRJ-h-1qQQ"
      },
      "id": "PIaRJ-h-1qQQ",
      "execution_count": null,
      "outputs": []
    },
    {
      "cell_type": "code",
      "execution_count": null,
      "id": "13a0e81b-b6c3-4b1e-8893-9b8796ceb77f",
      "metadata": {
        "id": "13a0e81b-b6c3-4b1e-8893-9b8796ceb77f"
      },
      "outputs": [],
      "source": [
        "model.eval()\n",
        "\n",
        "forecasts_ = []\n",
        "\n",
        "test_progress_bar = tqdm(test_dataloader, desc=f\"Epoch \")\n",
        "    # for data in tqdm(train_dataloader,  desc=f\"Epoch {epoch+1}\"):\n",
        "for idx, batch in enumerate(test_progress_bar):\n",
        "  for k, v in batch.items():\n",
        "    print(k, v.shape, v.type())\n",
        "  # print(f'past_observed_mask {batch[\"past_observed_mask\"].to(device).repeat(1,1, 3).shape}')\n",
        "  # print(f'future_time_features {batch[\"future_time_features\"].to(device).shape}')\n",
        "  outputs = model.generate(\n",
        "    static_categorical_features=batch[\"static_categorical_features\"].to(device)\n",
        "    if config.num_static_categorical_features > 0\n",
        "    else None,\n",
        "    static_real_features=batch[\"static_real_features\"].to(device)\n",
        "    if config.num_static_real_features > 0\n",
        "    else None,\n",
        "    past_time_features=batch[\"past_time_features\"].to(device),\n",
        "    past_values=batch[\"past_values\"].to(device),\n",
        "    future_time_features=batch[\"future_time_features\"].to(device),\n",
        "    past_observed_mask=batch[\"past_observed_mask\"].to(device),\n",
        ")\n",
        "forecasts_.append(outputs.sequences.cpu().numpy())"
      ]
    },
    {
      "cell_type": "code",
      "execution_count": null,
      "id": "a9a749e2-9c04-4643-b58d-f4cef1dbeb3a",
      "metadata": {
        "id": "a9a749e2-9c04-4643-b58d-f4cef1dbeb3a"
      },
      "outputs": [],
      "source": [
        "forecasts_[0].shape"
      ]
    },
    {
      "cell_type": "code",
      "execution_count": null,
      "id": "0ec7a887-07d8-4bee-84f9-252a1a97749c",
      "metadata": {
        "id": "0ec7a887-07d8-4bee-84f9-252a1a97749c"
      },
      "outputs": [],
      "source": [
        "forecasts = np.vstack(forecasts_)\n",
        "print(forecasts.shape)"
      ]
    },
    {
      "cell_type": "code",
      "source": [
        "from evaluate import load\n",
        "from gluonts.time_feature import get_seasonality\n",
        "\n",
        "mase_metric = load(\"evaluate-metric/mase\")\n",
        "smape_metric = load(\"evaluate-metric/smape\")\n",
        "\n",
        "forecast_median = np.median(forecasts, 1).squeeze(0).T\n",
        "\n",
        "mase_metrics = []\n",
        "smape_metrics = []\n",
        "\n",
        "for item_id, ts in enumerate(test_dataset):\n",
        "    training_data = ts[\"target\"][:-prediction_length]\n",
        "    ground_truth = ts[\"target\"][-prediction_length:]\n",
        "    mase = mase_metric.compute(\n",
        "        predictions=forecast_median[item_id],\n",
        "        references=np.array(ground_truth),\n",
        "        training=np.array(training_data),\n",
        "        periodicity=get_seasonality(freq),\n",
        "    )\n",
        "    mase_metrics.append(mase[\"mase\"])\n",
        "\n",
        "    smape = smape_metric.compute(\n",
        "        predictions=forecast_median[item_id],\n",
        "        references=np.array(ground_truth),\n",
        "    )\n",
        "    smape_metrics.append(smape[\"smape\"])"
      ],
      "metadata": {
        "id": "wAsbaRyxdrbF"
      },
      "id": "wAsbaRyxdrbF",
      "execution_count": null,
      "outputs": []
    },
    {
      "cell_type": "code",
      "source": [
        "print(f\"MASE: {np.mean(mase_metrics)}\")"
      ],
      "metadata": {
        "id": "csc-lAYedyF5"
      },
      "id": "csc-lAYedyF5",
      "execution_count": null,
      "outputs": []
    },
    {
      "cell_type": "code",
      "source": [
        "print(f\"sMAPE: {np.mean(smape_metrics)}\")"
      ],
      "metadata": {
        "id": "E9Gei4u7dyS0"
      },
      "id": "E9Gei4u7dyS0",
      "execution_count": null,
      "outputs": []
    },
    {
      "cell_type": "code",
      "source": [
        "plt.scatter(mase_metrics, smape_metrics, alpha=0.2)\n",
        "plt.xlabel(\"MASE\")\n",
        "plt.ylabel(\"sMAPE\")\n",
        "plt.show()"
      ],
      "metadata": {
        "id": "0xS8cJ80d1X_"
      },
      "id": "0xS8cJ80d1X_",
      "execution_count": null,
      "outputs": []
    }
  ],
  "metadata": {
    "accelerator": "GPU",
    "colab": {
      "gpuType": "T4",
      "provenance": []
    },
    "kernelspec": {
      "display_name": "Python 3",
      "name": "python3"
    },
    "language_info": {
      "codemirror_mode": {
        "name": "ipython",
        "version": 3
      },
      "file_extension": ".py",
      "mimetype": "text/x-python",
      "name": "python",
      "nbconvert_exporter": "python",
      "pygments_lexer": "ipython3",
      "version": "3.11.11"
    }
  },
  "nbformat": 4,
  "nbformat_minor": 5
}