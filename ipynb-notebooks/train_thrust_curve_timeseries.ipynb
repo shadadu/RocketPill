{
 "cells": [
  {
   "cell_type": "code",
   "execution_count": 1,
   "id": "fb7c3a87-dd1d-47de-a29e-0e42e5143567",
   "metadata": {},
   "outputs": [],
   "source": [
    "from datasets import load_dataset\n",
    "import matplotlib.pyplot as plt\n",
    "from functools import lru_cache, partial\n",
    "import pandas as pd\n",
    "import numpy as np\n",
    "from gluonts.dataset.multivariate_grouper import MultivariateGrouper\n",
    "from gluonts.time_feature import get_lags_for_frequency\n",
    "from pandas.core.arrays.period import period_array\n",
    "from transformers import InformerConfig, InformerForPrediction\n",
    "from transformers import PretrainedConfig\n",
    "from typing import Optional\n",
    "\n",
    "from gluonts.transform.sampler import InstanceSampler\n",
    "\n",
    "\n",
    "from gluonts.time_feature import TimeFeature\n",
    "from gluonts.dataset.field_names import FieldName\n",
    "from gluonts.transform import (\n",
    "    AddAgeFeature,\n",
    "    AddObservedValuesIndicator,\n",
    "    AddTimeFeatures,\n",
    "    AsNumpyArray,\n",
    "    Chain,\n",
    "    ExpectedNumInstanceSampler,\n",
    "    InstanceSplitter,\n",
    "    RemoveFields,\n",
    "    SelectFields,\n",
    "    SetField,\n",
    "    TestSplitSampler,\n",
    "    Transformation,\n",
    "    ValidationSplitSampler,\n",
    "    VstackFeatures,\n",
    "    RenameFields,\n",
    ")\n",
    "\n",
    "from accelerate import Accelerator\n",
    "from torch.optim import AdamW\n"
   ]
  },
  {
   "cell_type": "code",
   "execution_count": 2,
   "id": "01245d6e-567c-483f-be0c-881c6cf22359",
   "metadata": {},
   "outputs": [],
   "source": [
    "tc_dataset = load_dataset(\"shaddie/thrust_curves_dataset\")"
   ]
  },
  {
   "cell_type": "code",
   "execution_count": 44,
   "id": "af4db824-0b8c-4ffe-9dde-081e11ff6290",
   "metadata": {},
   "outputs": [],
   "source": [
    "def find_pad_max(dataset):\n",
    "    l=len(dataset)\n",
    "    m = 0\n",
    "    for r in range(l):\n",
    "        # real = tc_dataset[split][r]['feat_dynamic_real']\n",
    "        target = dataset[r]['target']\n",
    "        if m < len(target):\n",
    "            m = len(target)\n",
    "\n",
    "    return m\n",
    "\n",
    "\n",
    "def pad_data(data, m, split):\n",
    "    l=len(data)\n",
    "    tc = []\n",
    "    for r in range(l):\n",
    "        real = data[r]['feat_dynamic_real']\n",
    "        target = data[r]['target']\n",
    "        rlen = len(real)\n",
    "        pad = [0 for _ in range(61-rlen)]\n",
    "        # target = tc_dataset['train'][r]['target']\n",
    "        real = real + pad\n",
    "        target = target + pad\n",
    "        tc.append({\n",
    "            'start': data[r]['start'],\n",
    "            'target': target,\n",
    "            'feat_static_cat': data[r]['feat_static_cat'],\n",
    "            'feat_dynamic_real': real,\n",
    "            'item_id': data[r]['item_id']\n",
    "                }\n",
    "            )\n",
    "        \n",
    "    return tc"
   ]
  },
  {
   "cell_type": "code",
   "execution_count": 45,
   "id": "6f5c9dda-f4c0-4a89-bc83-8c394bdd34f5",
   "metadata": {},
   "outputs": [],
   "source": [
    "from datasets import Dataset\n",
    "m = find_pad_max(tc_dataset[\"train\"])\n",
    "split=\"train\""
   ]
  },
  {
   "cell_type": "code",
   "execution_count": 46,
   "id": "29b91cee-d666-4ffe-815d-f425952b762e",
   "metadata": {},
   "outputs": [],
   "source": [
    "tc = pad_data(tc_dataset[split], m=m, split=split)"
   ]
  },
  {
   "cell_type": "code",
   "execution_count": 57,
   "id": "cb065aac-b0f6-4614-8657-39fcee289f46",
   "metadata": {},
   "outputs": [],
   "source": [
    "train_dataset=Dataset.from_list(tc)"
   ]
  },
  {
   "cell_type": "code",
   "execution_count": 64,
   "id": "f5acf98c-297d-4029-ad49-832e360b31a9",
   "metadata": {},
   "outputs": [
    {
     "data": {
      "text/plain": [
       "Dataset({\n",
       "    features: ['start', 'target', 'feat_static_cat', 'feat_dynamic_real', 'item_id'],\n",
       "    num_rows: 266\n",
       "})"
      ]
     },
     "execution_count": 64,
     "metadata": {},
     "output_type": "execute_result"
    }
   ],
   "source": [
    "train_dataset"
   ]
  },
  {
   "cell_type": "code",
   "execution_count": 65,
   "id": "c0c1b70b-578a-424f-a1fa-0483a03808f9",
   "metadata": {},
   "outputs": [],
   "source": [
    "freq = \"1W\"\n",
    "prediction_length = 8\n",
    "\n",
    "# assert len(train_example[\"target\"]) + prediction_length == len(\n",
    "#     dataset[\"validation\"][0][\"target\"]\n",
    "# )"
   ]
  },
  {
   "cell_type": "code",
   "execution_count": 66,
   "id": "414f227c-4179-4070-8120-f1d6ad693f17",
   "metadata": {},
   "outputs": [
    {
     "data": {
      "text/plain": [
       "dict_keys(['start', 'target', 'feat_static_cat', 'feat_dynamic_real', 'item_id'])"
      ]
     },
     "execution_count": 66,
     "metadata": {},
     "output_type": "execute_result"
    }
   ],
   "source": [
    "train_example =train_dataset[0]\n",
    "train_example.keys()"
   ]
  },
  {
   "cell_type": "code",
   "execution_count": 67,
   "id": "16841c07-bacd-409a-8256-264f809bc167",
   "metadata": {},
   "outputs": [
    {
     "data": {
      "image/png": "[encoded data removed]",
      "text/plain": [
       "<Figure size 640x480 with 1 Axes>"
      ]
     },
     "metadata": {},
     "output_type": "display_data"
    }
   ],
   "source": [
    "num_of_samples = 150\n",
    "\n",
    "figure, axes = plt.subplots()\n",
    "axes.plot(train_example[\"target\"][-num_of_samples:], \n",
    "          train_example[\"feat_dynamic_real\"][-num_of_samples:],\n",
    "          color=\"blue\")\n",
    "\n",
    "plt.show()"
   ]
  },
  {
   "cell_type": "code",
   "execution_count": 68,
   "id": "b802b9b3-0a9e-4546-96e0-61c1a8dda3ea",
   "metadata": {},
   "outputs": [],
   "source": [
    "@lru_cache(10_000)\n",
    "def convert_to_pandas_period(date, freq):\n",
    "    return pd.Period(date, freq)\n",
    "\n",
    "\n",
    "def transform_start_field(batch, freq):\n",
    "    batch[\"start\"] = [convert_to_pandas_period(date, freq) for date in batch[\"start\"]]\n",
    "    return batch"
   ]
  },
  {
   "cell_type": "code",
   "execution_count": 70,
   "id": "600028d7-a2a4-4d8f-905f-168eaa2dee28",
   "metadata": {},
   "outputs": [],
   "source": [
    "train_dataset.set_transform(partial(transform_start_field, freq=freq))\n",
    "# test_dataset.set_transform(partial(transform_start_field, freq=freq))"
   ]
  },
  {
   "cell_type": "code",
   "execution_count": 71,
   "id": "642a647f-d53b-481f-8704-8f97470198f3",
   "metadata": {},
   "outputs": [],
   "source": [
    "num_of_variates = len(train_dataset)\n",
    "\n",
    "train_grouper = MultivariateGrouper(max_target_dim=num_of_variates)\n",
    "# test_grouper = MultivariateGrouper(\n",
    "#     max_target_dim=num_of_variates,\n",
    "#     num_test_dates= None, # len(test_dataset)\n",
    "#     num_of_variates  # number of rolling test windows\n",
    "# )\n",
    "\n",
    "multi_variate_train_dataset = train_grouper(train_dataset)\n",
    "# multi_variate_test_dataset = test_grouper(test_dataset)"
   ]
  },
  {
   "cell_type": "code",
   "execution_count": 72,
   "id": "3223c9fe-093b-4096-ba82-70f28113d546",
   "metadata": {},
   "outputs": [
    {
     "name": "stdout",
     "output_type": "stream",
     "text": [
      "multi_variate_train_example['target'].shape = (266, 99)\n"
     ]
    }
   ],
   "source": [
    "multi_variate_train_example = multi_variate_train_dataset[0]\n",
    "print(\n",
    "    f\"multi_variate_train_example['target'].shape = {multi_variate_train_example['target'].shape}\"\n",
    ")"
   ]
  },
  {
   "cell_type": "code",
   "execution_count": 75,
   "id": "cee8848f-3d3a-420b-a1f7-a4670d69f638",
   "metadata": {},
   "outputs": [
    {
     "name": "stdout",
     "output_type": "stream",
     "text": [
      "[<function day_of_month at 0x12d65d3a0>, <function week_of_year at 0x12d65d760>]\n"
     ]
    }
   ],
   "source": [
    "from gluonts.time_feature import time_features_from_frequency_str\n",
    "\n",
    "time_features = time_features_from_frequency_str(freq)\n",
    "print(time_features)"
   ]
  },
  {
   "cell_type": "markdown",
   "id": "da3f00bb-84b5-43a4-89d0-2cff2ef6d876",
   "metadata": {},
   "source": [
    "Look back certain time range for each time step, as additional features \"lags_sequence\""
   ]
  },
  {
   "cell_type": "code",
   "execution_count": 76,
   "id": "e902b76c-6b1c-4852-b35c-626e4659f32e",
   "metadata": {},
   "outputs": [
    {
     "name": "stdout",
     "output_type": "stream",
     "text": [
      "[1, 2, 3, 4, 5, 6, 7, 8, 12, 51, 52, 53, 103, 104, 105, 155, 156, 157]\n"
     ]
    }
   ],
   "source": [
    "lags_sequence = get_lags_for_frequency(freq)\n",
    "print(lags_sequence)"
   ]
  },
  {
   "cell_type": "code",
   "execution_count": 77,
   "id": "2e1358e5-92af-46e8-8366-08a865067125",
   "metadata": {},
   "outputs": [
    {
     "name": "stdout",
     "output_type": "stream",
     "text": [
      "{'day_of_month': array([-0.36666667]), 'week_of_year': array([-0.5])}\n"
     ]
    }
   ],
   "source": [
    "timestamp = pd.Period(\"2025-01-01 01:00:01\", freq=freq)\n",
    "timestamp_as_index = pd.PeriodIndex(data=period_array([timestamp]))\n",
    "additional_features = [\n",
    "    (time_feature.__name__, time_feature(timestamp_as_index))\n",
    "    for time_feature in time_features\n",
    "]\n",
    "print(dict(additional_features))"
   ]
  },
  {
   "cell_type": "code",
   "execution_count": 78,
   "id": "ec7e5895-9d89-4148-a8c3-ed1bebf783d6",
   "metadata": {},
   "outputs": [],
   "source": [
    "config = InformerConfig(\n",
    "    # in the multivariate setting, input_size is the number of variates in the time series per time step\n",
    "    input_size=num_of_variates,\n",
    "    # prediction length:\n",
    "    prediction_length=prediction_length,\n",
    "    # context length:\n",
    "    context_length=prediction_length * 2,\n",
    "    # lags value copied from 1 week before:\n",
    "    lags_sequence=[1, 24 * 7],\n",
    "    # we'll add 5 time features (\"hour_of_day\", ..., and \"age\"):\n",
    "    num_time_features=len(time_features) + 1,\n",
    "    # informer params:\n",
    "    dropout=0.1,\n",
    "    encoder_layers=6,\n",
    "    decoder_layers=4,\n",
    "    # project input from num_of_variates*len(lags_sequence)+num_time_features to:\n",
    "    d_model=64,\n",
    ")\n",
    "\n",
    "model = InformerForPrediction(config)"
   ]
  },
  {
   "cell_type": "code",
   "execution_count": 79,
   "id": "5e18bb22-004f-4176-9c4b-3051b6226d31",
   "metadata": {},
   "outputs": [
    {
     "data": {
      "text/plain": [
       "'student_t'"
      ]
     },
     "execution_count": 79,
     "metadata": {},
     "output_type": "execute_result"
    }
   ],
   "source": [
    "model.config.distribution_output"
   ]
  },
  {
   "cell_type": "code",
   "execution_count": 80,
   "id": "b2265052-836a-4131-b12c-2df354ad9133",
   "metadata": {},
   "outputs": [],
   "source": [
    "def create_transformation(freq: str, config: PretrainedConfig) -> Transformation:\n",
    "    # create list of fields to remove later\n",
    "    remove_field_names = []\n",
    "    if config.num_static_real_features == 0:\n",
    "        remove_field_names.append(FieldName.FEAT_STATIC_REAL)\n",
    "    if config.num_dynamic_real_features == 0:\n",
    "        remove_field_names.append(FieldName.FEAT_DYNAMIC_REAL)\n",
    "    if config.num_static_categorical_features == 0:\n",
    "        remove_field_names.append(FieldName.FEAT_STATIC_CAT)\n",
    "\n",
    "    return Chain(\n",
    "        # step 1: remove static/dynamic fields if not specified\n",
    "        [RemoveFields(field_names=remove_field_names)]\n",
    "        # step 2: convert the data to NumPy (potentially not needed)\n",
    "        + (\n",
    "            [\n",
    "                AsNumpyArray(\n",
    "                    field=FieldName.FEAT_STATIC_CAT,\n",
    "                    expected_ndim=1,\n",
    "                    dtype=int,\n",
    "                )\n",
    "            ]\n",
    "            if config.num_static_categorical_features > 0\n",
    "            else []\n",
    "        )\n",
    "        + (\n",
    "            [\n",
    "                AsNumpyArray(\n",
    "                    field=FieldName.FEAT_STATIC_REAL,\n",
    "                    expected_ndim=1,\n",
    "                )\n",
    "            ]\n",
    "            if config.num_static_real_features > 0\n",
    "            else []\n",
    "        )\n",
    "        + [\n",
    "            AsNumpyArray(\n",
    "                field=FieldName.TARGET,\n",
    "                # we expect an extra dim for the multivariate case:\n",
    "                expected_ndim=1 if config.input_size == 1 else 2,\n",
    "            ),\n",
    "            # step 3: handle the NaN's by filling in the target with zero\n",
    "            # and return the mask (which is in the observed values)\n",
    "            # true for observed values, false for nan's\n",
    "            # the decoder uses this mask (no loss is incurred for unobserved values)\n",
    "            # see loss_weights inside the xxxForPrediction model\n",
    "            AddObservedValuesIndicator(\n",
    "                target_field=FieldName.TARGET,\n",
    "                output_field=FieldName.OBSERVED_VALUES,\n",
    "            ),\n",
    "            # step 4: add temporal features based on freq of the dataset\n",
    "            # these serve as positional encodings\n",
    "            AddTimeFeatures(\n",
    "                start_field=FieldName.START,\n",
    "                target_field=FieldName.TARGET,\n",
    "                output_field=FieldName.FEAT_TIME,\n",
    "                time_features=time_features_from_frequency_str(freq),\n",
    "                pred_length=config.prediction_length,\n",
    "            ),\n",
    "            # step 5: add another temporal feature (just a single number)\n",
    "            # tells the model where in the life the value of the time series is\n",
    "            # sort of running counter\n",
    "            AddAgeFeature(\n",
    "                target_field=FieldName.TARGET,\n",
    "                output_field=FieldName.FEAT_AGE,\n",
    "                pred_length=config.prediction_length,\n",
    "                log_scale=True,\n",
    "            ),\n",
    "            # step 6: vertically stack all the temporal features into the key FEAT_TIME\n",
    "            VstackFeatures(\n",
    "                output_field=FieldName.FEAT_TIME,\n",
    "                input_fields=[FieldName.FEAT_TIME, FieldName.FEAT_AGE]\n",
    "                + (\n",
    "                    [FieldName.FEAT_DYNAMIC_REAL]\n",
    "                    if config.num_dynamic_real_features > 0\n",
    "                    else []\n",
    "                ),\n",
    "            ),\n",
    "            # step 7: rename to match HuggingFace names\n",
    "            RenameFields(\n",
    "                mapping={\n",
    "                    FieldName.FEAT_STATIC_CAT: \"static_categorical_features\",\n",
    "                    FieldName.FEAT_STATIC_REAL: \"static_real_features\",\n",
    "                    FieldName.FEAT_TIME: \"time_features\",\n",
    "                    FieldName.TARGET: \"values\",\n",
    "                    FieldName.OBSERVED_VALUES: \"observed_mask\",\n",
    "                }\n",
    "            ),\n",
    "        ]\n",
    "    )"
   ]
  },
  {
   "cell_type": "code",
   "execution_count": 81,
   "id": "b8850e0d-a330-4d7a-a528-c6cfb7e0ed9e",
   "metadata": {},
   "outputs": [],
   "source": [
    "def create_instance_splitter(\n",
    "    config: PretrainedConfig,\n",
    "    mode: str,\n",
    "    train_sampler: Optional[InstanceSampler] = None,\n",
    "    validation_sampler: Optional[InstanceSampler] = None,\n",
    ") -> Transformation:\n",
    "    assert mode in [\"train\", \"validation\", \"test\"]\n",
    "\n",
    "    instance_sampler = {\n",
    "        \"train\": train_sampler\n",
    "        or ExpectedNumInstanceSampler(\n",
    "            num_instances=1.0, min_future=config.prediction_length\n",
    "        ),\n",
    "        \"validation\": validation_sampler\n",
    "        or ValidationSplitSampler(min_future=config.prediction_length),\n",
    "        \"test\": TestSplitSampler(),\n",
    "    }[mode]\n",
    "\n",
    "    return InstanceSplitter(\n",
    "        target_field=\"values\",\n",
    "        is_pad_field=FieldName.IS_PAD,\n",
    "        start_field=FieldName.START,\n",
    "        forecast_start_field=FieldName.FORECAST_START,\n",
    "        instance_sampler=instance_sampler,\n",
    "        past_length=config.context_length + max(config.lags_sequence),\n",
    "        future_length=config.prediction_length,\n",
    "        time_series_fields=[\"time_features\", \"observed_mask\"],\n",
    "    )"
   ]
  },
  {
   "cell_type": "code",
   "execution_count": 84,
   "id": "3167024f-4064-496b-b442-12d5a80b40c2",
   "metadata": {},
   "outputs": [],
   "source": [
    "from typing import Iterable\n",
    "\n",
    "import torch\n",
    "from gluonts.itertools import Cached, Cyclic\n",
    "from gluonts.dataset.loader import as_stacked_batches\n",
    "\n",
    "\n",
    "def create_train_dataloader(\n",
    "    config: PretrainedConfig,\n",
    "    freq,\n",
    "    data,\n",
    "    batch_size: int,\n",
    "    num_batches_per_epoch: int,\n",
    "    shuffle_buffer_length: Optional[int] = None,\n",
    "    cache_data: bool = True,\n",
    "    **kwargs,\n",
    ") -> Iterable:\n",
    "    PREDICTION_INPUT_NAMES = [\n",
    "        \"past_time_features\",\n",
    "        \"past_values\",\n",
    "        \"past_observed_mask\",\n",
    "        \"future_time_features\",\n",
    "    ]\n",
    "    if config.num_static_categorical_features > 0:\n",
    "        PREDICTION_INPUT_NAMES.append(\"static_categorical_features\")\n",
    "\n",
    "    if config.num_static_real_features > 0:\n",
    "        PREDICTION_INPUT_NAMES.append(\"static_real_features\")\n",
    "\n",
    "    TRAINING_INPUT_NAMES = PREDICTION_INPUT_NAMES + [\n",
    "        \"future_values\",\n",
    "        \"future_observed_mask\",\n",
    "    ]\n",
    "\n",
    "    transformation = create_transformation(freq, config)\n",
    "    transformed_data = transformation.apply(data, is_train=True)\n",
    "    if cache_data:\n",
    "        transformed_data = Cached(transformed_data)\n",
    "\n",
    "    # we initialize a Training instance\n",
    "    instance_splitter = create_instance_splitter(config, \"train\")\n",
    "\n",
    "    # the instance splitter will sample a window of\n",
    "    # context length + lags + prediction length (from all the possible transformed time series, 1 in our case)\n",
    "    # randomly from within the target time series and return an iterator.\n",
    "    stream = Cyclic(transformed_data).stream()\n",
    "    training_instances = instance_splitter.apply(stream)\n",
    "\n",
    "    return as_stacked_batches(\n",
    "        training_instances,\n",
    "        batch_size=batch_size,\n",
    "        shuffle_buffer_length=shuffle_buffer_length,\n",
    "        field_names=TRAINING_INPUT_NAMES,\n",
    "        output_type=torch.tensor,\n",
    "        num_batches_per_epoch=num_batches_per_epoch,\n",
    "    )"
   ]
  },
  {
   "cell_type": "code",
   "execution_count": 85,
   "id": "1d9e0668-ceac-47a7-9ecf-fa7868267258",
   "metadata": {},
   "outputs": [],
   "source": [
    "train_dataloader = create_train_dataloader(\n",
    "    config=config,\n",
    "    freq=freq,\n",
    "    data=multi_variate_train_dataset,\n",
    "    batch_size=256,\n",
    "    num_batches_per_epoch=100,\n",
    "    num_workers=2,\n",
    ")"
   ]
  },
  {
   "cell_type": "code",
   "execution_count": 86,
   "id": "c51f58dc-21f6-4c05-9da8-cd726eeeb4d3",
   "metadata": {},
   "outputs": [
    {
     "name": "stdout",
     "output_type": "stream",
     "text": [
      "past_time_features torch.Size([256, 184, 3]) torch.FloatTensor\n",
      "past_values torch.Size([256, 184, 266]) torch.FloatTensor\n",
      "past_observed_mask torch.Size([256, 184, 266]) torch.FloatTensor\n",
      "future_time_features torch.Size([256, 8, 3]) torch.FloatTensor\n",
      "future_values torch.Size([256, 8, 266]) torch.FloatTensor\n",
      "future_observed_mask torch.Size([256, 8, 266]) torch.FloatTensor\n"
     ]
    }
   ],
   "source": [
    "batch = next(iter(train_dataloader))\n",
    "for k, v in batch.items():\n",
    "    print(k, v.shape, v.type())"
   ]
  },
  {
   "cell_type": "code",
   "execution_count": 96,
   "id": "ed0c81f1-8d8a-4f94-b34a-5718e79293c6",
   "metadata": {},
   "outputs": [
    {
     "name": "stderr",
     "output_type": "stream",
     "text": [
      "Epoch 1/150 : 0it [00:00, ?it/s]\n"
     ]
    },
    {
     "ename": "NameError",
     "evalue": "name 'total_loss' is not defined",
     "output_type": "error",
     "traceback": [
      "\u001b[31m---------------------------------------------------------------------------\u001b[39m",
      "\u001b[31mNameError\u001b[39m                                 Traceback (most recent call last)",
      "\u001b[36mCell\u001b[39m\u001b[36m \u001b[39m\u001b[32mIn[96]\u001b[39m\u001b[32m, line 39\u001b[39m\n\u001b[32m     23\u001b[39m outputs = model(\n\u001b[32m     24\u001b[39m     static_categorical_features=batch[\u001b[33m\"\u001b[39m\u001b[33mstatic_categorical_features\u001b[39m\u001b[33m\"\u001b[39m].to(device)\n\u001b[32m     25\u001b[39m     \u001b[38;5;28;01mif\u001b[39;00m config.num_static_categorical_features > \u001b[32m0\u001b[39m\n\u001b[32m   (...)\u001b[39m\u001b[32m     35\u001b[39m     future_observed_mask=batch[\u001b[33m\"\u001b[39m\u001b[33mfuture_observed_mask\u001b[39m\u001b[33m\"\u001b[39m].to(device),\n\u001b[32m     36\u001b[39m )\n\u001b[32m     37\u001b[39m loss = outputs.loss\n\u001b[32m---> \u001b[39m\u001b[32m39\u001b[39m progress_bar.set_postfix(loss=\u001b[43mtotal_loss\u001b[49m / (progress_bar.n + \u001b[32m1\u001b[39m))\n\u001b[32m     41\u001b[39m \u001b[38;5;66;03m# Backpropagation\u001b[39;00m\n\u001b[32m     42\u001b[39m accelerator.backward(loss)\n",
      "\u001b[31mNameError\u001b[39m: name 'total_loss' is not defined"
     ]
    }
   ],
   "source": [
    "from tqdm import tqdm\n",
    "epochs = 150\n",
    "loss_history = []\n",
    "\n",
    "accelerator = Accelerator()\n",
    "device = accelerator.device\n",
    "\n",
    "model.to(device)\n",
    "optimizer = AdamW(model.parameters(), lr=6e-5, betas=(0.9, 0.95), weight_decay=1e-1)\n",
    "\n",
    "model, optimizer, train_dataloader = accelerator.prepare(\n",
    "    model,\n",
    "    optimizer,\n",
    "    train_dataloader,\n",
    ")\n",
    "\n",
    "model.train()\n",
    "for epoch in range(epochs):\n",
    "    total_loss = 0.0\n",
    "    progress_bar = tqdm(train_dataloader, desc=f\"Epoch {epoch+1}/{epochs} \")\n",
    "    # for data in tqdm(train_dataloader,  desc=f\"Epoch {epoch+1}\"):   \n",
    "    for idx, batch in enumerate(progress_bar):\n",
    "        optimizer.zero_grad()\n",
    "        outputs = model(\n",
    "            static_categorical_features=batch[\"static_categorical_features\"].to(device)\n",
    "            if config.num_static_categorical_features > 0\n",
    "            else None,\n",
    "            static_real_features=batch[\"static_real_features\"].to(device)\n",
    "            if config.num_static_real_features > 0\n",
    "            else None,\n",
    "            past_time_features=batch[\"past_time_features\"].to(device),\n",
    "            past_values=batch[\"past_values\"].to(device),\n",
    "            future_time_features=batch[\"future_time_features\"].to(device),\n",
    "            future_values=batch[\"future_values\"].to(device),\n",
    "            past_observed_mask=batch[\"past_observed_mask\"].to(device),\n",
    "            future_observed_mask=batch[\"future_observed_mask\"].to(device),\n",
    "        )\n",
    "        loss = outputs.loss\n",
    "        total_loss += loss.item()\n",
    "        progress_bar.set_postfix(loss=total_loss / (progress_bar.n + 1))\n",
    "\n",
    "        # Backpropagation\n",
    "        accelerator.backward(loss)\n",
    "        optimizer.step()\n",
    "\n",
    "        loss_history.append(loss.item())\n",
    "        if idx % 200 == 0:\n",
    "            print(f'Epoch {epoch} & idx {idx} with loss: {loss.item()}')"
   ]
  },
  {
   "cell_type": "code",
   "execution_count": null,
   "id": "fe07c300-e02d-4e26-9359-1de2b5db2f6b",
   "metadata": {},
   "outputs": [],
   "source": []
  }
 ],
 "metadata": {
  "kernelspec": {
   "display_name": "Python 3 (ipykernel)",
   "language": "python",
   "name": "python3"
  },
  "language_info": {
   "codemirror_mode": {
    "name": "ipython",
    "version": 3
   },
   "file_extension": ".py",
   "mimetype": "text/x-python",
   "name": "python",
   "nbconvert_exporter": "python",
   "pygments_lexer": "ipython3",
   "version": "3.11.11"
  }
 },
 "nbformat": 4,
 "nbformat_minor": 5
}
