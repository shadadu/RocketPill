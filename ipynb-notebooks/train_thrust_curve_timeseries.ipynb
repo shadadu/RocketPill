{
  "cells": [
    {
      "cell_type": "code",
      "execution_count": 1,
      "id": "5d2d9e41-374d-4053-b0e5-a7eed28166e2",
      "metadata": {
        "colab": {
          "base_uri": "https://localhost:8080/"
        },
        "id": "5d2d9e41-374d-4053-b0e5-a7eed28166e2",
        "outputId": "d2be2b32-1278-41bd-df44-c2fd44823f06"
      },
      "outputs": [
        {
          "output_type": "stream",
          "name": "stdout",
          "text": [
            "\u001b[?25l   \u001b[90m━━━━━━━━━━━━━━━━━━━━━━━━━━━━━━━━━━━━━━━━\u001b[0m \u001b[32m0.0/84.1 kB\u001b[0m \u001b[31m?\u001b[0m eta \u001b[36m-:--:--\u001b[0m\r\u001b[2K   \u001b[90m━━━━━━━━━━━━━━━━━━━━━━━━━━━━━━━━━━━━━━━━\u001b[0m \u001b[32m84.1/84.1 kB\u001b[0m \u001b[31m6.8 MB/s\u001b[0m eta \u001b[36m0:00:00\u001b[0m\n",
            "\u001b[?25h\u001b[?25l   \u001b[90m━━━━━━━━━━━━━━━━━━━━━━━━━━━━━━━━━━━━━━━━\u001b[0m \u001b[32m0.0/1.5 MB\u001b[0m \u001b[31m?\u001b[0m eta \u001b[36m-:--:--\u001b[0m\r\u001b[2K   \u001b[91m━━━━━━━━━━━━━━━━━━━━━━━━━━━━━━━━━━━━━━━\u001b[0m\u001b[91m╸\u001b[0m \u001b[32m1.5/1.5 MB\u001b[0m \u001b[31m74.7 MB/s\u001b[0m eta \u001b[36m0:00:01\u001b[0m\r\u001b[2K   \u001b[90m━━━━━━━━━━━━━━━━━━━━━━━━━━━━━━━━━━━━━━━━\u001b[0m \u001b[32m1.5/1.5 MB\u001b[0m \u001b[31m28.1 MB/s\u001b[0m eta \u001b[36m0:00:00\u001b[0m\n",
            "\u001b[2K   \u001b[90m━━━━━━━━━━━━━━━━━━━━━━━━━━━━━━━━━━━━━━━━\u001b[0m \u001b[32m53.6/53.6 kB\u001b[0m \u001b[31m4.3 MB/s\u001b[0m eta \u001b[36m0:00:00\u001b[0m\n",
            "\u001b[2K   \u001b[90m━━━━━━━━━━━━━━━━━━━━━━━━━━━━━━━━━━━━━━━━\u001b[0m \u001b[32m363.4/363.4 MB\u001b[0m \u001b[31m5.0 MB/s\u001b[0m eta \u001b[36m0:00:00\u001b[0m\n",
            "\u001b[2K   \u001b[90m━━━━━━━━━━━━━━━━━━━━━━━━━━━━━━━━━━━━━━━━\u001b[0m \u001b[32m13.8/13.8 MB\u001b[0m \u001b[31m77.3 MB/s\u001b[0m eta \u001b[36m0:00:00\u001b[0m\n",
            "\u001b[2K   \u001b[90m━━━━━━━━━━━━━━━━━━━━━━━━━━━━━━━━━━━━━━━━\u001b[0m \u001b[32m24.6/24.6 MB\u001b[0m \u001b[31m55.2 MB/s\u001b[0m eta \u001b[36m0:00:00\u001b[0m\n",
            "\u001b[2K   \u001b[90m━━━━━━━━━━━━━━━━━━━━━━━━━━━━━━━━━━━━━━━━\u001b[0m \u001b[32m883.7/883.7 kB\u001b[0m \u001b[31m29.0 MB/s\u001b[0m eta \u001b[36m0:00:00\u001b[0m\n",
            "\u001b[2K   \u001b[90m━━━━━━━━━━━━━━━━━━━━━━━━━━━━━━━━━━━━━━━━\u001b[0m \u001b[32m664.8/664.8 MB\u001b[0m \u001b[31m1.3 MB/s\u001b[0m eta \u001b[36m0:00:00\u001b[0m\n",
            "\u001b[2K   \u001b[90m━━━━━━━━━━━━━━━━━━━━━━━━━━━━━━━━━━━━━━━━\u001b[0m \u001b[32m211.5/211.5 MB\u001b[0m \u001b[31m4.6 MB/s\u001b[0m eta \u001b[36m0:00:00\u001b[0m\n",
            "\u001b[2K   \u001b[90m━━━━━━━━━━━━━━━━━━━━━━━━━━━━━━━━━━━━━━━━\u001b[0m \u001b[32m56.3/56.3 MB\u001b[0m \u001b[31m12.5 MB/s\u001b[0m eta \u001b[36m0:00:00\u001b[0m\n",
            "\u001b[2K   \u001b[90m━━━━━━━━━━━━━━━━━━━━━━━━━━━━━━━━━━━━━━━━\u001b[0m \u001b[32m127.9/127.9 MB\u001b[0m \u001b[31m8.0 MB/s\u001b[0m eta \u001b[36m0:00:00\u001b[0m\n",
            "\u001b[2K   \u001b[90m━━━━━━━━━━━━━━━━━━━━━━━━━━━━━━━━━━━━━━━━\u001b[0m \u001b[32m207.5/207.5 MB\u001b[0m \u001b[31m3.6 MB/s\u001b[0m eta \u001b[36m0:00:00\u001b[0m\n",
            "\u001b[2K   \u001b[90m━━━━━━━━━━━━━━━━━━━━━━━━━━━━━━━━━━━━━━━━\u001b[0m \u001b[32m21.1/21.1 MB\u001b[0m \u001b[31m74.0 MB/s\u001b[0m eta \u001b[36m0:00:00\u001b[0m\n",
            "\u001b[?25h"
          ]
        }
      ],
      "source": [
        "!pip install -q transformers datasets evaluate accelerate gluonts ujson"
      ]
    },
    {
      "cell_type": "code",
      "execution_count": 2,
      "id": "cf659f11-9741-47c6-bf62-513e83ce31e9",
      "metadata": {
        "colab": {
          "base_uri": "https://localhost:8080/"
        },
        "id": "cf659f11-9741-47c6-bf62-513e83ce31e9",
        "outputId": "2f7002ea-55f8-440b-fddf-ea00563d162b"
      },
      "outputs": [
        {
          "metadata": {
            "tags": null
          },
          "name": "stdout",
          "output_type": "stream",
          "text": [
            "Requirement already satisfied: datasets in /usr/local/lib/python3.11/dist-packages (2.14.4)\n",
            "Collecting datasets\n",
            "  Downloading datasets-3.6.0-py3-none-any.whl.metadata (19 kB)\n",
            "Requirement already satisfied: huggingface_hub in /usr/local/lib/python3.11/dist-packages (0.33.0)\n",
            "Requirement already satisfied: fsspec in /usr/local/lib/python3.11/dist-packages (2025.3.2)\n",
            "Collecting fsspec\n",
            "  Downloading fsspec-2025.5.1-py3-none-any.whl.metadata (11 kB)\n",
            "Requirement already satisfied: filelock in /usr/local/lib/python3.11/dist-packages (from datasets) (3.18.0)\n",
            "Requirement already satisfied: numpy>=1.17 in /usr/local/lib/python3.11/dist-packages (from datasets) (2.0.2)\n",
            "Requirement already satisfied: pyarrow>=15.0.0 in /usr/local/lib/python3.11/dist-packages (from datasets) (18.1.0)\n",
            "Requirement already satisfied: dill<0.3.9,>=0.3.0 in /usr/local/lib/python3.11/dist-packages (from datasets) (0.3.7)\n",
            "Requirement already satisfied: pandas in /usr/local/lib/python3.11/dist-packages (from datasets) (2.2.2)\n",
            "Requirement already satisfied: requests>=2.32.2 in /usr/local/lib/python3.11/dist-packages (from datasets) (2.32.3)\n",
            "Requirement already satisfied: tqdm>=4.66.3 in /usr/local/lib/python3.11/dist-packages (from datasets) (4.67.1)\n",
            "Requirement already satisfied: xxhash in /usr/local/lib/python3.11/dist-packages (from datasets) (3.5.0)\n",
            "Requirement already satisfied: multiprocess<0.70.17 in /usr/local/lib/python3.11/dist-packages (from datasets) (0.70.15)\n",
            "  Downloading fsspec-2025.3.0-py3-none-any.whl.metadata (11 kB)\n",
            "Requirement already satisfied: packaging in /usr/local/lib/python3.11/dist-packages (from datasets) (24.2)\n",
            "Requirement already satisfied: pyyaml>=5.1 in /usr/local/lib/python3.11/dist-packages (from datasets) (6.0.2)\n",
            "Requirement already satisfied: typing-extensions>=3.7.4.3 in /usr/local/lib/python3.11/dist-packages (from huggingface_hub) (4.14.0)\n",
            "Requirement already satisfied: hf-xet<2.0.0,>=1.1.2 in /usr/local/lib/python3.11/dist-packages (from huggingface_hub) (1.1.4)\n",
            "Requirement already satisfied: aiohttp!=4.0.0a0,!=4.0.0a1 in /usr/local/lib/python3.11/dist-packages (from fsspec[http]<=2025.3.0,>=2023.1.0->datasets) (3.11.15)\n",
            "Requirement already satisfied: charset-normalizer<4,>=2 in /usr/local/lib/python3.11/dist-packages (from requests>=2.32.2->datasets) (3.4.2)\n",
            "Requirement already satisfied: idna<4,>=2.5 in /usr/local/lib/python3.11/dist-packages (from requests>=2.32.2->datasets) (3.10)\n",
            "Requirement already satisfied: urllib3<3,>=1.21.1 in /usr/local/lib/python3.11/dist-packages (from requests>=2.32.2->datasets) (2.4.0)\n",
            "Requirement already satisfied: certifi>=2017.4.17 in /usr/local/lib/python3.11/dist-packages (from requests>=2.32.2->datasets) (2025.6.15)\n",
            "Requirement already satisfied: python-dateutil>=2.8.2 in /usr/local/lib/python3.11/dist-packages (from pandas->datasets) (2.9.0.post0)\n",
            "Requirement already satisfied: pytz>=2020.1 in /usr/local/lib/python3.11/dist-packages (from pandas->datasets) (2025.2)\n",
            "Requirement already satisfied: tzdata>=2022.7 in /usr/local/lib/python3.11/dist-packages (from pandas->datasets) (2025.2)\n",
            "Requirement already satisfied: aiohappyeyeballs>=2.3.0 in /usr/local/lib/python3.11/dist-packages (from aiohttp!=4.0.0a0,!=4.0.0a1->fsspec[http]<=2025.3.0,>=2023.1.0->datasets) (2.6.1)\n",
            "Requirement already satisfied: aiosignal>=1.1.2 in /usr/local/lib/python3.11/dist-packages (from aiohttp!=4.0.0a0,!=4.0.0a1->fsspec[http]<=2025.3.0,>=2023.1.0->datasets) (1.3.2)\n",
            "Requirement already satisfied: attrs>=17.3.0 in /usr/local/lib/python3.11/dist-packages (from aiohttp!=4.0.0a0,!=4.0.0a1->fsspec[http]<=2025.3.0,>=2023.1.0->datasets) (25.3.0)\n",
            "Requirement already satisfied: frozenlist>=1.1.1 in /usr/local/lib/python3.11/dist-packages (from aiohttp!=4.0.0a0,!=4.0.0a1->fsspec[http]<=2025.3.0,>=2023.1.0->datasets) (1.7.0)\n",
            "Requirement already satisfied: multidict<7.0,>=4.5 in /usr/local/lib/python3.11/dist-packages (from aiohttp!=4.0.0a0,!=4.0.0a1->fsspec[http]<=2025.3.0,>=2023.1.0->datasets) (6.4.4)\n",
            "Requirement already satisfied: propcache>=0.2.0 in /usr/local/lib/python3.11/dist-packages (from aiohttp!=4.0.0a0,!=4.0.0a1->fsspec[http]<=2025.3.0,>=2023.1.0->datasets) (0.3.2)\n",
            "Requirement already satisfied: yarl<2.0,>=1.17.0 in /usr/local/lib/python3.11/dist-packages (from aiohttp!=4.0.0a0,!=4.0.0a1->fsspec[http]<=2025.3.0,>=2023.1.0->datasets) (1.20.1)\n",
            "Requirement already satisfied: six>=1.5 in /usr/local/lib/python3.11/dist-packages (from python-dateutil>=2.8.2->pandas->datasets) (1.17.0)\n",
            "Downloading datasets-3.6.0-py3-none-any.whl (491 kB)\n",
            "\u001b[2K   \u001b[90m━━━━━━━━━━━━━━━━━━━━━━━━━━━━━━━━━━━━━━━━\u001b[0m \u001b[32m491.5/491.5 kB\u001b[0m \u001b[31m15.7 MB/s\u001b[0m eta \u001b[36m0:00:00\u001b[0m\n",
            "\u001b[?25hDownloading fsspec-2025.3.0-py3-none-any.whl (193 kB)\n",
            "\u001b[2K   \u001b[90m━━━━━━━━━━━━━━━━━━━━━━━━━━━━━━━━━━━━━━━━\u001b[0m \u001b[32m193.6/193.6 kB\u001b[0m \u001b[31m16.3 MB/s\u001b[0m eta \u001b[36m0:00:00\u001b[0m\n",
            "\u001b[?25hInstalling collected packages: fsspec, datasets\n",
            "  Attempting uninstall: fsspec\n",
            "    Found existing installation: fsspec 2025.3.2\n",
            "    Uninstalling fsspec-2025.3.2:\n",
            "      Successfully uninstalled fsspec-2025.3.2\n",
            "  Attempting uninstall: datasets\n",
            "    Found existing installation: datasets 2.14.4\n",
            "    Uninstalling datasets-2.14.4:\n",
            "      Successfully uninstalled datasets-2.14.4\n",
            "\u001b[31mERROR: pip's dependency resolver does not currently take into account all the packages that are installed. This behaviour is the source of the following dependency conflicts.\n",
            "gcsfs 2025.3.2 requires fsspec==2025.3.2, but you have fsspec 2025.3.0 which is incompatible.\u001b[0m\u001b[31m\n",
            "\u001b[0mSuccessfully installed datasets-3.6.0 fsspec-2025.3.0\n"
          ]
        }
      ],
      "source": [
        "!pip install -U datasets huggingface_hub fsspec"
      ]
    },
    {
      "cell_type": "code",
      "execution_count": 3,
      "id": "fb7c3a87-dd1d-47de-a29e-0e42e5143567",
      "metadata": {
        "id": "fb7c3a87-dd1d-47de-a29e-0e42e5143567"
      },
      "outputs": [],
      "source": [
        "from datasets import load_dataset\n",
        "import matplotlib.pyplot as plt\n",
        "from functools import lru_cache, partial\n",
        "import pandas as pd\n",
        "import numpy as np\n",
        "from gluonts.dataset.multivariate_grouper import MultivariateGrouper\n",
        "from gluonts.time_feature import get_lags_for_frequency\n",
        "from pandas.core.arrays.period import period_array\n",
        "from transformers import InformerConfig, InformerForPrediction\n",
        "from transformers import PretrainedConfig\n",
        "from typing import Optional\n",
        "\n",
        "from gluonts.transform.sampler import InstanceSampler\n",
        "\n",
        "\n",
        "from gluonts.time_feature import TimeFeature\n",
        "from gluonts.dataset.field_names import FieldName\n",
        "from gluonts.transform import (\n",
        "    AddAgeFeature,\n",
        "    AddObservedValuesIndicator,\n",
        "    AddTimeFeatures,\n",
        "    AsNumpyArray,\n",
        "    Chain,\n",
        "    ExpectedNumInstanceSampler,\n",
        "    InstanceSplitter,\n",
        "    RemoveFields,\n",
        "    SelectFields,\n",
        "    SetField,\n",
        "    TestSplitSampler,\n",
        "    Transformation,\n",
        "    ValidationSplitSampler,\n",
        "    VstackFeatures,\n",
        "    RenameFields,\n",
        ")\n",
        "\n",
        "from accelerate import Accelerator\n",
        "from torch.optim import AdamW\n",
        "\n",
        "from evaluate import load\n",
        "from gluonts.time_feature import get_seasonality\n",
        "from datetime import datetime"
      ]
    },
    {
      "cell_type": "code",
      "execution_count": null,
      "id": "01245d6e-567c-483f-be0c-881c6cf22359",
      "metadata": {
        "id": "01245d6e-567c-483f-be0c-881c6cf22359"
      },
      "outputs": [],
      "source": [
        "tc_dataset = load_dataset(\"shaddie/thrust_curves_dataset\")"
      ]
    },
    {
      "cell_type": "code",
      "execution_count": 5,
      "id": "be50d20e-7453-4ff5-a4a4-d126f1263ee6",
      "metadata": {
        "id": "be50d20e-7453-4ff5-a4a4-d126f1263ee6"
      },
      "outputs": [],
      "source": [
        "# Specify train/test split fraction\n",
        "train_fraction = 0.9  # 80% for training, 20% for testing\n",
        "\n",
        "# Split the original training set into new train/test sets\n",
        "split_dataset = tc_dataset[\"train\"].train_test_split(train_size=train_fraction, seed=42)"
      ]
    },
    {
      "cell_type": "code",
      "execution_count": null,
      "id": "25c1be52-32b3-4786-8ad4-7634008a0fea",
      "metadata": {
        "id": "25c1be52-32b3-4786-8ad4-7634008a0fea"
      },
      "outputs": [],
      "source": [
        "split_dataset"
      ]
    },
    {
      "cell_type": "code",
      "execution_count": 7,
      "id": "af4db824-0b8c-4ffe-9dde-081e11ff6290",
      "metadata": {
        "id": "af4db824-0b8c-4ffe-9dde-081e11ff6290"
      },
      "outputs": [],
      "source": [
        "def find_pad_max(dataset):\n",
        "    l=len(dataset)\n",
        "    m = 0\n",
        "    for r in range(l):\n",
        "        # real = tc_dataset[split][r]['feat_dynamic_real']\n",
        "        target = dataset[r]['target']\n",
        "        if m < len(target):\n",
        "            m = len(target)\n",
        "\n",
        "    return m\n",
        "\n",
        "\n",
        "def pad_data(data, m, split):\n",
        "    l=len(data)\n",
        "    tc = []\n",
        "    for r in range(l):\n",
        "        real = data[r]['feat_dynamic_real']\n",
        "        target = data[r]['target']\n",
        "        rlen = len(real)\n",
        "        pad = [0 for _ in range(m-rlen)]\n",
        "        # target = tc_dataset['train'][r]['target']\n",
        "        real = real + pad\n",
        "        target = target + pad\n",
        "        tc.append({\n",
        "            'start': data[r]['start'],\n",
        "            'target': target,\n",
        "            'feat_static_cat': data[r]['feat_static_cat'],\n",
        "            'feat_dynamic_real': real,\n",
        "            'item_id': data[r]['item_id']\n",
        "                }\n",
        "            )\n",
        "\n",
        "    return tc"
      ]
    },
    {
      "cell_type": "code",
      "execution_count": 8,
      "id": "6f5c9dda-f4c0-4a89-bc83-8c394bdd34f5",
      "metadata": {
        "colab": {
          "base_uri": "https://localhost:8080/"
        },
        "id": "6f5c9dda-f4c0-4a89-bc83-8c394bdd34f5",
        "outputId": "54e4a30d-4983-4c44-9d30-41eedfce0434"
      },
      "outputs": [
        {
          "output_type": "stream",
          "name": "stdout",
          "text": [
            "61\n"
          ]
        }
      ],
      "source": [
        "from datasets import Dataset\n",
        "m1 = find_pad_max(split_dataset[\"train\"])\n",
        "m2 = find_pad_max(split_dataset[\"test\"])\n",
        "m = max(m1,m2)\n",
        "print(m)"
      ]
    },
    {
      "cell_type": "code",
      "execution_count": 9,
      "id": "29b91cee-d666-4ffe-815d-f425952b762e",
      "metadata": {
        "id": "29b91cee-d666-4ffe-815d-f425952b762e"
      },
      "outputs": [],
      "source": [
        "train_data = pad_data(split_dataset[\"train\"], m=m, split=\"train\")\n",
        "test_data = pad_data(split_dataset[\"test\"], m=m, split=\"test\")"
      ]
    },
    {
      "cell_type": "code",
      "execution_count": 10,
      "id": "cb065aac-b0f6-4614-8657-39fcee289f46",
      "metadata": {
        "id": "cb065aac-b0f6-4614-8657-39fcee289f46"
      },
      "outputs": [],
      "source": [
        "train_dataset = Dataset.from_list(train_data)\n",
        "test_dataset = Dataset.from_list(test_data)"
      ]
    },
    {
      "cell_type": "code",
      "execution_count": 11,
      "id": "f5acf98c-297d-4029-ad49-832e360b31a9",
      "metadata": {
        "colab": {
          "base_uri": "https://localhost:8080/"
        },
        "id": "f5acf98c-297d-4029-ad49-832e360b31a9",
        "outputId": "111233d3-0ae1-484a-9a54-defe1f1f4b7b"
      },
      "outputs": [
        {
          "output_type": "execute_result",
          "data": {
            "text/plain": [
              "Dataset({\n",
              "    features: ['start', 'target', 'feat_static_cat', 'feat_dynamic_real', 'item_id'],\n",
              "    num_rows: 239\n",
              "})"
            ]
          },
          "metadata": {},
          "execution_count": 11
        }
      ],
      "source": [
        "train_dataset"
      ]
    },
    {
      "cell_type": "code",
      "execution_count": 12,
      "id": "f32a738a-78e3-4035-8c52-cccfcd959f11",
      "metadata": {
        "colab": {
          "base_uri": "https://localhost:8080/"
        },
        "id": "f32a738a-78e3-4035-8c52-cccfcd959f11",
        "outputId": "b304562d-158c-450a-a4e6-685ca1fec75f"
      },
      "outputs": [
        {
          "output_type": "execute_result",
          "data": {
            "text/plain": [
              "Dataset({\n",
              "    features: ['start', 'target', 'feat_static_cat', 'feat_dynamic_real', 'item_id'],\n",
              "    num_rows: 27\n",
              "})"
            ]
          },
          "metadata": {},
          "execution_count": 12
        }
      ],
      "source": [
        "test_dataset"
      ]
    },
    {
      "cell_type": "code",
      "execution_count": 13,
      "id": "c0c1b70b-578a-424f-a1fa-0483a03808f9",
      "metadata": {
        "id": "c0c1b70b-578a-424f-a1fa-0483a03808f9"
      },
      "outputs": [],
      "source": [
        "freq = \"1W\"\n",
        "prediction_length = 8\n",
        "\n",
        "# assert len(train_example[\"target\"]) + prediction_length == len(\n",
        "#     dataset[\"validation\"][0][\"target\"]\n",
        "# )"
      ]
    },
    {
      "cell_type": "code",
      "execution_count": 14,
      "id": "414f227c-4179-4070-8120-f1d6ad693f17",
      "metadata": {
        "colab": {
          "base_uri": "https://localhost:8080/"
        },
        "id": "414f227c-4179-4070-8120-f1d6ad693f17",
        "outputId": "df6c18ce-2764-4e87-8502-895a59453d0c"
      },
      "outputs": [
        {
          "output_type": "execute_result",
          "data": {
            "text/plain": [
              "dict_keys(['start', 'target', 'feat_static_cat', 'feat_dynamic_real', 'item_id'])"
            ]
          },
          "metadata": {},
          "execution_count": 14
        }
      ],
      "source": [
        "train_example = train_dataset[0]\n",
        "train_example.keys()"
      ]
    },
    {
      "cell_type": "code",
      "execution_count": 15,
      "id": "16841c07-bacd-409a-8256-264f809bc167",
      "metadata": {
        "colab": {
          "base_uri": "https://localhost:8080/",
          "height": 430
        },
        "id": "16841c07-bacd-409a-8256-264f809bc167",
        "outputId": "bbdcca57-309d-450b-bd78-bf85f2e0946f"
      },
      "outputs": [
        {
          "output_type": "display_data",
          "data": {
            "text/plain": [
              "<Figure size 640x480 with 1 Axes>"
            ],
            "image/png": "[encoded data removed]"
          },
          "metadata": {}
        }
      ],
      "source": [
        "num_of_samples = 150\n",
        "\n",
        "figure, axes = plt.subplots()\n",
        "axes.plot(\n",
        "          # train_example[\"feat_dynamic_real\"][-num_of_samples:],\n",
        "          train_example[\"target\"][-num_of_samples:],\n",
        "          color=\"blue\")\n",
        "\n",
        "plt.show()"
      ]
    },
    {
      "cell_type": "code",
      "execution_count": 16,
      "id": "b802b9b3-0a9e-4546-96e0-61c1a8dda3ea",
      "metadata": {
        "id": "b802b9b3-0a9e-4546-96e0-61c1a8dda3ea"
      },
      "outputs": [],
      "source": [
        "@lru_cache(10_000)\n",
        "def convert_to_pandas_period(date, freq):\n",
        "    return pd.Period(date, freq)\n",
        "\n",
        "\n",
        "def transform_start_field(batch, freq):\n",
        "    batch[\"start\"] = [convert_to_pandas_period(date, freq) for date in batch[\"start\"]]\n",
        "    return batch"
      ]
    },
    {
      "cell_type": "code",
      "execution_count": 17,
      "id": "600028d7-a2a4-4d8f-905f-168eaa2dee28",
      "metadata": {
        "id": "600028d7-a2a4-4d8f-905f-168eaa2dee28"
      },
      "outputs": [],
      "source": [
        "train_dataset.set_transform(partial(transform_start_field, freq=freq))\n",
        "test_dataset.set_transform(partial(transform_start_field, freq=freq))"
      ]
    },
    {
      "cell_type": "code",
      "execution_count": 18,
      "id": "642a647f-d53b-481f-8704-8f97470198f3",
      "metadata": {
        "id": "642a647f-d53b-481f-8704-8f97470198f3"
      },
      "outputs": [],
      "source": [
        "num_of_variates = len(test_dataset) # group according to the smaller test dataset size\n",
        "\n",
        "train_grouper = MultivariateGrouper(max_target_dim=num_of_variates)\n",
        "test_grouper = MultivariateGrouper(\n",
        "    max_target_dim=num_of_variates\n",
        "    # max_target_dim=num_of_variates,\n",
        "    # num_test_dates=len(test_dataset),\n",
        "    # num_test_dates=None, # len(test_dataset),\n",
        "    # num_of_variates=num  # number of rolling test windows\n",
        ")\n",
        "\n",
        "multi_variate_train_dataset = train_grouper(train_dataset)\n",
        "multi_variate_test_dataset = test_grouper(test_dataset)"
      ]
    },
    {
      "cell_type": "code",
      "execution_count": 19,
      "id": "3223c9fe-093b-4096-ba82-70f28113d546",
      "metadata": {
        "colab": {
          "base_uri": "https://localhost:8080/"
        },
        "id": "3223c9fe-093b-4096-ba82-70f28113d546",
        "outputId": "6f54e96b-dea8-4fb8-d54d-6f828344ba24"
      },
      "outputs": [
        {
          "output_type": "stream",
          "name": "stdout",
          "text": [
            "multi_variate_train_example['target'].shape = (27, 99)\n"
          ]
        }
      ],
      "source": [
        "multi_variate_train_example = multi_variate_train_dataset[0]\n",
        "print(\n",
        "    f\"multi_variate_train_example['target'].shape = {multi_variate_train_example['target'].shape}\"\n",
        ")"
      ]
    },
    {
      "cell_type": "code",
      "source": [
        "multi_variate_test_example = multi_variate_test_dataset[0]\n",
        "print(\n",
        "    f\"multi_variate_test_example['target'].shape = {multi_variate_test_example['target'].shape}\"\n",
        ")"
      ],
      "metadata": {
        "colab": {
          "base_uri": "https://localhost:8080/"
        },
        "id": "ivJVFcO13Tlv",
        "outputId": "64ce3d38-640a-41db-88aa-1d56bb8d9697"
      },
      "id": "ivJVFcO13Tlv",
      "execution_count": 20,
      "outputs": [
        {
          "output_type": "stream",
          "name": "stdout",
          "text": [
            "multi_variate_test_example['target'].shape = (27, 95)\n"
          ]
        }
      ]
    },
    {
      "cell_type": "code",
      "execution_count": 21,
      "id": "cee8848f-3d3a-420b-a1f7-a4670d69f638",
      "metadata": {
        "colab": {
          "base_uri": "https://localhost:8080/"
        },
        "id": "cee8848f-3d3a-420b-a1f7-a4670d69f638",
        "outputId": "8251f035-f3fc-43e3-b904-22c670a06917"
      },
      "outputs": [
        {
          "output_type": "stream",
          "name": "stdout",
          "text": [
            "[<function day_of_month at 0x7a36a3d3e0c0>, <function week_of_year at 0x7a36a3d3e480>]\n"
          ]
        }
      ],
      "source": [
        "from gluonts.time_feature import time_features_from_frequency_str\n",
        "\n",
        "time_features = time_features_from_frequency_str(freq)\n",
        "print(time_features)"
      ]
    },
    {
      "cell_type": "markdown",
      "id": "da3f00bb-84b5-43a4-89d0-2cff2ef6d876",
      "metadata": {
        "id": "da3f00bb-84b5-43a4-89d0-2cff2ef6d876"
      },
      "source": [
        "Look back certain time range for each time step, as additional features \"lags_sequence\""
      ]
    },
    {
      "cell_type": "code",
      "execution_count": 22,
      "id": "e902b76c-6b1c-4852-b35c-626e4659f32e",
      "metadata": {
        "colab": {
          "base_uri": "https://localhost:8080/"
        },
        "id": "e902b76c-6b1c-4852-b35c-626e4659f32e",
        "outputId": "6fc11490-2a78-48f0-df09-c054828fa546"
      },
      "outputs": [
        {
          "output_type": "stream",
          "name": "stdout",
          "text": [
            "[1, 2, 3, 4, 5, 6, 7, 8, 12, 51, 52, 53, 103, 104, 105, 155, 156, 157]\n"
          ]
        }
      ],
      "source": [
        "lags_sequence = get_lags_for_frequency(freq)\n",
        "print(lags_sequence)"
      ]
    },
    {
      "cell_type": "code",
      "execution_count": 23,
      "id": "2e1358e5-92af-46e8-8366-08a865067125",
      "metadata": {
        "colab": {
          "base_uri": "https://localhost:8080/"
        },
        "id": "2e1358e5-92af-46e8-8366-08a865067125",
        "outputId": "8d236348-ce3d-4d4d-e9b9-5a2c17c16bd2"
      },
      "outputs": [
        {
          "output_type": "stream",
          "name": "stdout",
          "text": [
            "{'day_of_month': array([-0.36666667]), 'week_of_year': array([-0.5])}\n"
          ]
        }
      ],
      "source": [
        "timestamp = pd.Period(\"2025-01-01 01:00:01\", freq=freq)\n",
        "timestamp_as_index = pd.PeriodIndex(data=period_array([timestamp]))\n",
        "additional_features = [\n",
        "    (time_feature.__name__, time_feature(timestamp_as_index))\n",
        "    for time_feature in time_features\n",
        "]\n",
        "print(dict(additional_features))"
      ]
    },
    {
      "cell_type": "code",
      "execution_count": 24,
      "id": "9df97b89-c634-49c1-b696-6e987abb07ed",
      "metadata": {
        "id": "9df97b89-c634-49c1-b696-6e987abb07ed"
      },
      "outputs": [],
      "source": [
        "model = None"
      ]
    },
    {
      "cell_type": "code",
      "execution_count": 25,
      "id": "65e11c77-9f27-40ad-8384-18b19d71f7a9",
      "metadata": {
        "id": "65e11c77-9f27-40ad-8384-18b19d71f7a9"
      },
      "outputs": [],
      "source": [
        "from transformers import InformerForPrediction"
      ]
    },
    {
      "cell_type": "code",
      "execution_count": 26,
      "id": "c6838383-e496-4b21-a7db-99d49d82aacd",
      "metadata": {
        "colab": {
          "base_uri": "https://localhost:8080/",
          "height": 949,
          "referenced_widgets": [
            "9a63123bd880498298c52b7832c6fbeb",
            "ce5fc12fee234427afa5f2ee99a959b0",
            "0ea0337494bd4dfc80206bb8bcc871a3",
            "4859cce0e81f46cabaad159ebb91e8a7",
            "ec9c061423dd427fab30b3ae69434cd8",
            "4a1b4c64f4e94e43a59e9a2293e2dcec",
            "bb06c3ed7c0b48038777380dab72524d",
            "94c670a9ff6b4f1682df6701ccbbbd82",
            "b69ca2d83544434bb1539f3714a47bb7",
            "0893bd0cb7be4be38234275811f92f15",
            "460666d762bd4639a0949f39f37ca4e9",
            "f0511eb3d96d4884bff0e84faeabf3e2",
            "8f1a2659f3ba448da877e58a6a5ea6d5",
            "1c2f014771aa4b60b903d6ccbdfde0f1",
            "60da39b7232f42ffb6b3a1b4d4619039",
            "f4de4675d386459a8b79d785d35b6aa0",
            "0181977c44f9400981a5b125d19a993b",
            "b999332c1bd2440fa7bdd7ac3f635a10",
            "cd83ce8bc75147f78ff9feb66ded1e48",
            "5b1b71065ea441428e9c8a20efb12195",
            "7007e91aa1bf44bdb55ef65af23a20c7",
            "089767e017ff4dc99cd4701fa311d21f"
          ]
        },
        "id": "c6838383-e496-4b21-a7db-99d49d82aacd",
        "outputId": "47e26a26-4110-4a5f-d715-baa612b06863"
      },
      "outputs": [
        {
          "output_type": "display_data",
          "data": {
            "text/plain": [
              "config.json:   0%|          | 0.00/1.07k [00:00<?, ?B/s]"
            ],
            "application/vnd.jupyter.widget-view+json": {
              "version_major": 2,
              "version_minor": 0,
              "model_id": "9a63123bd880498298c52b7832c6fbeb"
            }
          },
          "metadata": {}
        },
        {
          "output_type": "display_data",
          "data": {
            "text/plain": [
              "model.safetensors:   0%|          | 0.00/1.48M [00:00<?, ?B/s]"
            ],
            "application/vnd.jupyter.widget-view+json": {
              "version_major": 2,
              "version_minor": 0,
              "model_id": "f0511eb3d96d4884bff0e84faeabf3e2"
            }
          },
          "metadata": {}
        },
        {
          "output_type": "stream",
          "name": "stdout",
          "text": [
            "successfully loaded model from hugging face with Config InformerConfig {\n",
            "  \"activation_dropout\": 0.1,\n",
            "  \"activation_function\": \"gelu\",\n",
            "  \"architectures\": [\n",
            "    \"InformerForPrediction\"\n",
            "  ],\n",
            "  \"attention_dropout\": 0.1,\n",
            "  \"attention_type\": \"prob\",\n",
            "  \"cardinality\": [\n",
            "    0\n",
            "  ],\n",
            "  \"context_length\": 16,\n",
            "  \"d_model\": 64,\n",
            "  \"decoder_attention_heads\": 2,\n",
            "  \"decoder_ffn_dim\": 32,\n",
            "  \"decoder_layerdrop\": 0.1,\n",
            "  \"decoder_layers\": 4,\n",
            "  \"distil\": true,\n",
            "  \"distribution_output\": \"student_t\",\n",
            "  \"dropout\": 0.1,\n",
            "  \"embedding_dimension\": [\n",
            "    0\n",
            "  ],\n",
            "  \"encoder_attention_heads\": 2,\n",
            "  \"encoder_ffn_dim\": 32,\n",
            "  \"encoder_layerdrop\": 0.1,\n",
            "  \"encoder_layers\": 6,\n",
            "  \"feature_size\": 111,\n",
            "  \"init_std\": 0.02,\n",
            "  \"input_size\": 27,\n",
            "  \"is_encoder_decoder\": true,\n",
            "  \"lags_sequence\": [\n",
            "    1,\n",
            "    168\n",
            "  ],\n",
            "  \"loss\": \"nll\",\n",
            "  \"model_type\": \"informer\",\n",
            "  \"num_dynamic_real_features\": 0,\n",
            "  \"num_parallel_samples\": 100,\n",
            "  \"num_static_categorical_features\": 0,\n",
            "  \"num_static_real_features\": 0,\n",
            "  \"num_time_features\": 3,\n",
            "  \"prediction_length\": 8,\n",
            "  \"sampling_factor\": 5,\n",
            "  \"scaling\": \"mean\",\n",
            "  \"torch_dtype\": \"float32\",\n",
            "  \"transformers_version\": \"4.52.4\",\n",
            "  \"use_cache\": true\n",
            "}\n",
            "\n"
          ]
        }
      ],
      "source": [
        "try:\n",
        "    model = InformerForPrediction.from_pretrained(\"shaddie/rocketpill_thrustcurve_informer_model\")\n",
        "    print(f\"successfully loaded model from hugging face with Config {model.config}\")\n",
        "except:\n",
        "    print(f\"An exception occurred when loading model from HF; initializing new model...\")\n",
        "    config = InformerConfig(\n",
        "    # in the multivariate setting, input_size is the number of variates in the time series per time step\n",
        "    input_size=num_of_variates,\n",
        "    # prediction length:\n",
        "    prediction_length=prediction_length,\n",
        "    # context length:\n",
        "    context_length=prediction_length * 2,\n",
        "    # lags value copied from 1 week before:\n",
        "    lags_sequence=[1, 24 * 7],\n",
        "    # we'll add 5 time features (\"hour_of_day\", ..., and \"age\"):\n",
        "    num_time_features=len(time_features) + 1,\n",
        "    # informer params:\n",
        "    dropout=0.1,\n",
        "    encoder_layers=6,\n",
        "    decoder_layers=4,\n",
        "    # project input from num_of_variates*len(lags_sequence)+num_time_features to:\n",
        "    d_model=64,\n",
        "    )\n",
        "\n",
        "    model = InformerForPrediction(config)\n",
        "    print(f\"New model initialized with config {model.config}\")"
      ]
    },
    {
      "cell_type": "code",
      "execution_count": 27,
      "id": "5e18bb22-004f-4176-9c4b-3051b6226d31",
      "metadata": {
        "id": "5e18bb22-004f-4176-9c4b-3051b6226d31",
        "colab": {
          "base_uri": "https://localhost:8080/",
          "height": 35
        },
        "outputId": "c45aa572-6f23-4b48-b60a-13c9711d2859"
      },
      "outputs": [
        {
          "output_type": "execute_result",
          "data": {
            "text/plain": [
              "'student_t'"
            ],
            "application/vnd.google.colaboratory.intrinsic+json": {
              "type": "string"
            }
          },
          "metadata": {},
          "execution_count": 27
        }
      ],
      "source": [
        "model.config.distribution_output"
      ]
    },
    {
      "cell_type": "code",
      "execution_count": 28,
      "id": "b2265052-836a-4131-b12c-2df354ad9133",
      "metadata": {
        "id": "b2265052-836a-4131-b12c-2df354ad9133"
      },
      "outputs": [],
      "source": [
        "def create_transformation(freq: str, config: PretrainedConfig) -> Transformation:\n",
        "    # create list of fields to remove later\n",
        "    remove_field_names = []\n",
        "    if config.num_static_real_features == 0:\n",
        "        remove_field_names.append(FieldName.FEAT_STATIC_REAL)\n",
        "    if config.num_dynamic_real_features == 0:\n",
        "        remove_field_names.append(FieldName.FEAT_DYNAMIC_REAL)\n",
        "    if config.num_static_categorical_features == 0:\n",
        "        remove_field_names.append(FieldName.FEAT_STATIC_CAT)\n",
        "\n",
        "    return Chain(\n",
        "        # step 1: remove static/dynamic fields if not specified\n",
        "        [RemoveFields(field_names=remove_field_names)]\n",
        "        # step 2: convert the data to NumPy (potentially not needed)\n",
        "        + (\n",
        "            [\n",
        "                AsNumpyArray(\n",
        "                    field=FieldName.FEAT_STATIC_CAT,\n",
        "                    expected_ndim=1,\n",
        "                    dtype=int,\n",
        "                )\n",
        "            ]\n",
        "            if config.num_static_categorical_features > 0\n",
        "            else []\n",
        "        )\n",
        "        + (\n",
        "            [\n",
        "                AsNumpyArray(\n",
        "                    field=FieldName.FEAT_STATIC_REAL,\n",
        "                    expected_ndim=1,\n",
        "                )\n",
        "            ]\n",
        "            if config.num_static_real_features > 0\n",
        "            else []\n",
        "        )\n",
        "        + [\n",
        "            AsNumpyArray(\n",
        "                field=FieldName.TARGET,\n",
        "                # we expect an extra dim for the multivariate case:\n",
        "                expected_ndim=1 if config.input_size == 1 else 2,\n",
        "            ),\n",
        "            # step 3: handle the NaN's by filling in the target with zero\n",
        "            # and return the mask (which is in the observed values)\n",
        "            # true for observed values, false for nan's\n",
        "            # the decoder uses this mask (no loss is incurred for unobserved values)\n",
        "            # see loss_weights inside the xxxForPrediction model\n",
        "            AddObservedValuesIndicator(\n",
        "                target_field=FieldName.TARGET,\n",
        "                output_field=FieldName.OBSERVED_VALUES,\n",
        "            ),\n",
        "            # step 4: add temporal features based on freq of the dataset\n",
        "            # these serve as positional encodings\n",
        "            AddTimeFeatures(\n",
        "                start_field=FieldName.START,\n",
        "                target_field=FieldName.TARGET,\n",
        "                output_field=FieldName.FEAT_TIME,\n",
        "                time_features=time_features_from_frequency_str(freq),\n",
        "                pred_length=config.prediction_length,\n",
        "            ),\n",
        "            # step 5: add another temporal feature (just a single number)\n",
        "            # tells the model where in the life the value of the time series is\n",
        "            # sort of running counter\n",
        "            AddAgeFeature(\n",
        "                target_field=FieldName.TARGET,\n",
        "                output_field=FieldName.FEAT_AGE,\n",
        "                pred_length=config.prediction_length,\n",
        "                log_scale=True,\n",
        "            ),\n",
        "            # step 6: vertically stack all the temporal features into the key FEAT_TIME\n",
        "            VstackFeatures(\n",
        "                output_field=FieldName.FEAT_TIME,\n",
        "                input_fields=[FieldName.FEAT_TIME, FieldName.FEAT_AGE]\n",
        "                + (\n",
        "                    [FieldName.FEAT_DYNAMIC_REAL]\n",
        "                    if config.num_dynamic_real_features > 0\n",
        "                    else []\n",
        "                ),\n",
        "            ),\n",
        "            # step 7: rename to match HuggingFace names\n",
        "            RenameFields(\n",
        "                mapping={\n",
        "                    FieldName.FEAT_STATIC_CAT: \"static_categorical_features\",\n",
        "                    FieldName.FEAT_STATIC_REAL: \"static_real_features\",\n",
        "                    FieldName.FEAT_TIME: \"time_features\",\n",
        "                    FieldName.TARGET: \"values\",\n",
        "                    FieldName.OBSERVED_VALUES: \"observed_mask\",\n",
        "                }\n",
        "            ),\n",
        "        ]\n",
        "    )"
      ]
    },
    {
      "cell_type": "code",
      "execution_count": 29,
      "id": "b8850e0d-a330-4d7a-a528-c6cfb7e0ed9e",
      "metadata": {
        "id": "b8850e0d-a330-4d7a-a528-c6cfb7e0ed9e"
      },
      "outputs": [],
      "source": [
        "def create_instance_splitter(\n",
        "    config: PretrainedConfig,\n",
        "    mode: str,\n",
        "    train_sampler: Optional[InstanceSampler] = None,\n",
        "    validation_sampler: Optional[InstanceSampler] = None,\n",
        ") -> Transformation:\n",
        "    assert mode in [\"train\", \"validation\", \"test\"]\n",
        "\n",
        "    instance_sampler = {\n",
        "        \"train\": train_sampler\n",
        "        or ExpectedNumInstanceSampler(\n",
        "            num_instances=1.0, min_future=config.prediction_length\n",
        "        ),\n",
        "        \"validation\": validation_sampler\n",
        "        or ValidationSplitSampler(min_future=config.prediction_length),\n",
        "        \"test\": TestSplitSampler(),\n",
        "    }[mode]\n",
        "\n",
        "    return InstanceSplitter(\n",
        "        target_field=\"values\",\n",
        "        is_pad_field=FieldName.IS_PAD,\n",
        "        start_field=FieldName.START,\n",
        "        forecast_start_field=FieldName.FORECAST_START,\n",
        "        instance_sampler=instance_sampler,\n",
        "        past_length=config.context_length + max(config.lags_sequence),\n",
        "        future_length=config.prediction_length,\n",
        "        time_series_fields=[\"time_features\", \"observed_mask\"],\n",
        "    )"
      ]
    },
    {
      "cell_type": "code",
      "execution_count": 30,
      "id": "3167024f-4064-496b-b442-12d5a80b40c2",
      "metadata": {
        "id": "3167024f-4064-496b-b442-12d5a80b40c2"
      },
      "outputs": [],
      "source": [
        "from typing import Iterable\n",
        "\n",
        "import torch\n",
        "from gluonts.itertools import Cached, Cyclic\n",
        "from gluonts.dataset.loader import as_stacked_batches\n",
        "\n",
        "\n",
        "def create_train_dataloader(\n",
        "    config: PretrainedConfig,\n",
        "    freq,\n",
        "    data,\n",
        "    batch_size: int,\n",
        "    num_batches_per_epoch: int,\n",
        "    shuffle_buffer_length: Optional[int] = None,\n",
        "    cache_data: bool = True,\n",
        "    **kwargs,\n",
        ") -> Iterable:\n",
        "    PREDICTION_INPUT_NAMES = [\n",
        "        \"past_time_features\",\n",
        "        \"past_values\",\n",
        "        \"past_observed_mask\",\n",
        "        \"future_time_features\",\n",
        "    ]\n",
        "    if config.num_static_categorical_features > 0:\n",
        "        PREDICTION_INPUT_NAMES.append(\"static_categorical_features\")\n",
        "\n",
        "    if config.num_static_real_features > 0:\n",
        "        PREDICTION_INPUT_NAMES.append(\"static_real_features\")\n",
        "\n",
        "    TRAINING_INPUT_NAMES = PREDICTION_INPUT_NAMES + [\n",
        "        \"future_values\",\n",
        "        \"future_observed_mask\",\n",
        "    ]\n",
        "\n",
        "    transformation = create_transformation(freq, config)\n",
        "    transformed_data = transformation.apply(data, is_train=True)\n",
        "    if cache_data:\n",
        "        transformed_data = Cached(transformed_data)\n",
        "\n",
        "    # we initialize a Training instance\n",
        "    instance_splitter = create_instance_splitter(config, \"train\")\n",
        "\n",
        "    # the instance splitter will sample a window of\n",
        "    # context length + lags + prediction length (from all the possible transformed time series, 1 in our case)\n",
        "    # randomly from within the target time series and return an iterator.\n",
        "    stream = Cyclic(transformed_data).stream()\n",
        "    training_instances = instance_splitter.apply(stream)\n",
        "\n",
        "    return as_stacked_batches(\n",
        "        training_instances,\n",
        "        batch_size=batch_size,\n",
        "        shuffle_buffer_length=shuffle_buffer_length,\n",
        "        field_names=TRAINING_INPUT_NAMES,\n",
        "        output_type=torch.tensor,\n",
        "        num_batches_per_epoch=num_batches_per_epoch,\n",
        "    )"
      ]
    },
    {
      "cell_type": "code",
      "execution_count": 31,
      "id": "4946f995-4305-43bc-adc7-219a93549080",
      "metadata": {
        "id": "4946f995-4305-43bc-adc7-219a93549080"
      },
      "outputs": [],
      "source": [
        "def create_test_dataloader(\n",
        "    config: PretrainedConfig,\n",
        "    freq,\n",
        "    data,\n",
        "    batch_size: int,\n",
        "    num_batches_per_epoch: int,\n",
        "    shuffle_buffer_length: Optional[int] = None,\n",
        "    cache_data: bool = True,\n",
        "    **kwargs,\n",
        "):\n",
        "    PREDICTION_INPUT_NAMES = [\n",
        "        \"past_time_features\",\n",
        "        \"past_values\",\n",
        "        \"past_observed_mask\",\n",
        "        \"future_time_features\",\n",
        "    ]\n",
        "    if config.num_static_categorical_features > 0:\n",
        "        PREDICTION_INPUT_NAMES.append(\"static_categorical_features\")\n",
        "\n",
        "    if config.num_static_real_features > 0:\n",
        "        PREDICTION_INPUT_NAMES.append(\"static_real_features\")\n",
        "\n",
        "    transformation = create_transformation(freq, config)\n",
        "    transformed_data = transformation.apply(data, is_train=False)\n",
        "\n",
        "    # We create a test Instance splitter to sample the very last\n",
        "    # context window from the dataset provided.\n",
        "    instance_sampler = create_instance_splitter(config, \"test\")\n",
        "\n",
        "    # We apply the transformations in test mode\n",
        "    testing_instances = instance_sampler.apply(transformed_data, is_train=False)\n",
        "\n",
        "    return as_stacked_batches(\n",
        "        testing_instances,\n",
        "        batch_size=batch_size,\n",
        "        output_type=torch.tensor,\n",
        "        field_names=PREDICTION_INPUT_NAMES,\n",
        "        num_batches_per_epoch=num_batches_per_epoch,\n",
        "    )\n"
      ]
    },
    {
      "cell_type": "code",
      "source": [
        "config = model.config"
      ],
      "metadata": {
        "id": "vwyUJS37sgRO"
      },
      "id": "vwyUJS37sgRO",
      "execution_count": 32,
      "outputs": []
    },
    {
      "cell_type": "code",
      "execution_count": 33,
      "id": "1d9e0668-ceac-47a7-9ecf-fa7868267258",
      "metadata": {
        "id": "1d9e0668-ceac-47a7-9ecf-fa7868267258"
      },
      "outputs": [],
      "source": [
        "train_dataloader = create_train_dataloader(\n",
        "    config=config,\n",
        "    freq=freq,\n",
        "    data=multi_variate_train_dataset,\n",
        "    batch_size=256,\n",
        "    num_batches_per_epoch=100,\n",
        "    num_workers=2,\n",
        ")\n",
        "\n",
        "test_dataloader = create_test_dataloader(\n",
        "    config=config,\n",
        "    freq=freq,\n",
        "    data=multi_variate_test_dataset,\n",
        "    batch_size=256,\n",
        "    num_batches_per_epoch=100,\n",
        "    num_workers=2,\n",
        ")\n"
      ]
    },
    {
      "cell_type": "code",
      "execution_count": 34,
      "id": "c51f58dc-21f6-4c05-9da8-cd726eeeb4d3",
      "metadata": {
        "id": "c51f58dc-21f6-4c05-9da8-cd726eeeb4d3",
        "colab": {
          "base_uri": "https://localhost:8080/"
        },
        "outputId": "b6ab7592-5351-4f59-9552-ff7d8850bd07"
      },
      "outputs": [
        {
          "output_type": "stream",
          "name": "stdout",
          "text": [
            "past_time_features torch.Size([256, 184, 3]) torch.FloatTensor\n",
            "past_values torch.Size([256, 184, 27]) torch.FloatTensor\n",
            "past_observed_mask torch.Size([256, 184, 27]) torch.FloatTensor\n",
            "future_time_features torch.Size([256, 8, 3]) torch.FloatTensor\n",
            "future_values torch.Size([256, 8, 27]) torch.FloatTensor\n",
            "future_observed_mask torch.Size([256, 8, 27]) torch.FloatTensor\n"
          ]
        }
      ],
      "source": [
        "batch = next(iter(train_dataloader))\n",
        "for k, v in batch.items():\n",
        "    print(k, v.shape, v.type())"
      ]
    },
    {
      "cell_type": "code",
      "source": [
        "batch = next(iter(test_dataloader))\n",
        "for k, v in batch.items():\n",
        "    print(k, v.shape, v.type())"
      ],
      "metadata": {
        "colab": {
          "base_uri": "https://localhost:8080/"
        },
        "id": "ryM4ewbg5nP4",
        "outputId": "91dd4785-02b2-4db0-debc-42bb183fbaea"
      },
      "id": "ryM4ewbg5nP4",
      "execution_count": 35,
      "outputs": [
        {
          "output_type": "stream",
          "name": "stdout",
          "text": [
            "past_time_features torch.Size([1, 184, 3]) torch.FloatTensor\n",
            "past_values torch.Size([1, 184, 27]) torch.FloatTensor\n",
            "past_observed_mask torch.Size([1, 184, 27]) torch.FloatTensor\n",
            "future_time_features torch.Size([1, 8, 3]) torch.FloatTensor\n"
          ]
        }
      ]
    },
    {
      "cell_type": "code",
      "source": [
        "def compute_mase_smape(forecasts):\n",
        "\n",
        "  mase_metric = load(\"evaluate-metric/mase\")\n",
        "  smape_metric = load(\"evaluate-metric/smape\")\n",
        "\n",
        "  forecast_median = np.median(forecasts, 1).squeeze(0).T\n",
        "\n",
        "  mase_metrics = []\n",
        "  smape_metrics = []\n",
        "\n",
        "  for item_id, ts in enumerate(test_dataset):\n",
        "      training_data = ts[\"target\"][:-prediction_length]\n",
        "      ground_truth = ts[\"target\"][-prediction_length:]\n",
        "      mase = mase_metric.compute(\n",
        "          predictions=forecast_median[item_id],\n",
        "          references=np.array(ground_truth),\n",
        "          training=np.array(training_data),\n",
        "          periodicity=get_seasonality(freq),\n",
        "      )\n",
        "      mase_metrics.append(mase[\"mase\"])\n",
        "\n",
        "      smape = smape_metric.compute(\n",
        "          predictions=forecast_median[item_id],\n",
        "          references=np.array(ground_truth),\n",
        "      )\n",
        "      smape_metrics.append(smape[\"smape\"])\n",
        "\n",
        "  return np.mean(mase_metrics), np.mean(smape_metrics)"
      ],
      "metadata": {
        "id": "hZofLgTt6HBR"
      },
      "id": "hZofLgTt6HBR",
      "execution_count": 39,
      "outputs": []
    },
    {
      "cell_type": "code",
      "source": [
        "def test():\n",
        "  model.eval()\n",
        "  forecasts_ = []\n",
        "  test_progress_bar = tqdm(test_dataloader, desc=f\"Epoch \")\n",
        "      # for data in tqdm(train_dataloader,  desc=f\"Epoch {epoch+1}\"):\n",
        "  for idx, batch in enumerate(test_progress_bar):\n",
        "    # for k, v in batch.items():\n",
        "    #   print(k, v.shape, v.type())\n",
        "    # print(f'past_observed_mask {batch[\"past_observed_mask\"].to(device).repeat(1,1, 3).shape}')\n",
        "    # print(f'future_time_features {batch[\"future_time_features\"].to(device).shape}')\n",
        "    outputs = model.generate(\n",
        "      static_categorical_features=batch[\"static_categorical_features\"].to(device)\n",
        "      if config.num_static_categorical_features > 0\n",
        "      else None,\n",
        "      static_real_features=batch[\"static_real_features\"].to(device)\n",
        "      if config.num_static_real_features > 0\n",
        "      else None,\n",
        "      past_time_features=batch[\"past_time_features\"].to(device),\n",
        "      past_values=batch[\"past_values\"].to(device),\n",
        "      future_time_features=batch[\"future_time_features\"].to(device),\n",
        "      past_observed_mask=batch[\"past_observed_mask\"].to(device),\n",
        "    )\n",
        "  forecasts_.append(outputs.sequences.cpu().numpy())\n",
        "  forecasts = np.vstack(forecasts_)\n",
        "\n",
        "  mase, smape = compute_mase_smape(forecasts=forecasts)\n",
        "\n",
        "  # print(f'mase: {mase} & smape: {smape}')\n",
        "\n",
        "  return mase, smape\n"
      ],
      "metadata": {
        "id": "WY4apYAO_fYK"
      },
      "id": "WY4apYAO_fYK",
      "execution_count": 41,
      "outputs": []
    },
    {
      "cell_type": "code",
      "execution_count": null,
      "id": "ed0c81f1-8d8a-4f94-b34a-5718e79293c6",
      "metadata": {
        "id": "ed0c81f1-8d8a-4f94-b34a-5718e79293c6",
        "colab": {
          "base_uri": "https://localhost:8080/"
        },
        "outputId": "8b9523bb-8ca6-4cb9-a031-7467bd7c96ec"
      },
      "outputs": [
        {
          "metadata": {
            "tags": null
          },
          "name": "stderr",
          "output_type": "stream",
          "text": [
            "Epoch 1/100 total_loss 0.0 : 0it [00:00, ?it/s, loss=-121]\n",
            "Epoch : 1it [00:00, 10.54it/s]\n",
            "Epoch 1/100 total_loss 0.0 : 2it [00:01,  1.43it/s, loss=-93]"
          ]
        },
        {
          "metadata": {
            "tags": null
          },
          "name": "stdout",
          "output_type": "stream",
          "text": [
            "Epoch 0 mape: 3.577911411069254 & smape: 1.9999997711687385  with loss: -121.0096664428711\n"
          ]
        },
        {
          "metadata": {
            "tags": null
          },
          "name": "stderr",
          "output_type": "stream",
          "text": [
            "Epoch 1/100 total_loss 0.0 : 100it [00:15,  6.41it/s, loss=-213]\n",
            "Epoch 2/100 total_loss 0.0 : 0it [00:00, ?it/s, loss=-226]\n",
            "Epoch : 1it [00:00, 10.41it/s]\n",
            "Epoch 2/100 total_loss 0.0 : 2it [00:01,  1.54it/s, loss=-227]"
          ]
        },
        {
          "metadata": {
            "tags": null
          },
          "name": "stdout",
          "output_type": "stream",
          "text": [
            "Epoch 1 mape: 3.1106627831477516 & smape: 1.9999997355596915  with loss: -226.26834106445312\n"
          ]
        },
        {
          "metadata": {
            "tags": null
          },
          "name": "stderr",
          "output_type": "stream",
          "text": [
            "Epoch 2/100 total_loss 0.0 : 100it [00:15,  6.53it/s, loss=-223]\n",
            "Epoch 3/100 total_loss 0.0 : 0it [00:00, ?it/s, loss=-224]\n",
            "Epoch : 0it [00:00, ?it/s]\u001b[A\n",
            "Epoch : 1it [00:00,  6.85it/s]\n",
            "Epoch 3/100 total_loss 0.0 : 1it [00:01,  1.60s/it, loss=-225]"
          ]
        },
        {
          "metadata": {
            "tags": null
          },
          "name": "stdout",
          "output_type": "stream",
          "text": [
            "Epoch 2 mape: 2.9959518937605387 & smape: 1.9999997172001553  with loss: -223.87684631347656\n"
          ]
        },
        {
          "metadata": {
            "tags": null
          },
          "name": "stderr",
          "output_type": "stream",
          "text": [
            "Epoch 3/100 total_loss 0.0 : 100it [00:15,  6.32it/s, loss=-223]\n",
            "Epoch 4/100 total_loss 0.0 : 0it [00:00, ?it/s, loss=-229]\n",
            "Epoch : 1it [00:00, 10.36it/s]\n",
            "Epoch 4/100 total_loss 0.0 : 2it [00:01,  1.55it/s, loss=-233]"
          ]
        },
        {
          "metadata": {
            "tags": null
          },
          "name": "stdout",
          "output_type": "stream",
          "text": [
            "Epoch 3 mape: 3.0508902100686175 & smape: 1.999999722374408  with loss: -229.04269409179688\n"
          ]
        },
        {
          "metadata": {
            "tags": null
          },
          "name": "stderr",
          "output_type": "stream",
          "text": [
            "Epoch 4/100 total_loss 0.0 : 100it [00:15,  6.48it/s, loss=-225]\n",
            "Epoch 5/100 total_loss 0.0 : 0it [00:00, ?it/s, loss=-208]\n",
            "Epoch : 1it [00:00, 10.08it/s]\n",
            "Epoch 5/100 total_loss 0.0 : 2it [00:01,  1.54it/s, loss=-221]"
          ]
        },
        {
          "metadata": {
            "tags": null
          },
          "name": "stdout",
          "output_type": "stream",
          "text": [
            "Epoch 4 mape: 3.007629146251214 & smape: 1.999999720739333  with loss: -207.7871551513672\n"
          ]
        },
        {
          "metadata": {
            "tags": null
          },
          "name": "stderr",
          "output_type": "stream",
          "text": [
            "Epoch 5/100 total_loss 0.0 : 100it [00:15,  6.43it/s, loss=-224]\n",
            "Epoch 6/100 total_loss 0.0 : 0it [00:00, ?it/s, loss=-225]\n",
            "Epoch : 1it [00:00, 10.66it/s]\n",
            "Epoch 6/100 total_loss 0.0 : 2it [00:01,  1.52it/s, loss=-226]"
          ]
        },
        {
          "metadata": {
            "tags": null
          },
          "name": "stdout",
          "output_type": "stream",
          "text": [
            "Epoch 5 mape: 2.988946867129096 & smape: 1.999999715656042  with loss: -225.22608947753906\n"
          ]
        },
        {
          "metadata": {
            "tags": null
          },
          "name": "stderr",
          "output_type": "stream",
          "text": [
            "Epoch 6/100 total_loss 0.0 : 100it [00:15,  6.39it/s, loss=-225]\n",
            "Epoch 7/100 total_loss 0.0 : 0it [00:00, ?it/s, loss=-222]\n",
            "Epoch : 0it [00:00, ?it/s]\u001b[A\n",
            "Epoch : 1it [00:00,  7.20it/s]\n",
            "Epoch 7/100 total_loss 0.0 : 2it [00:01,  1.30it/s, loss=-230]"
          ]
        },
        {
          "metadata": {
            "tags": null
          },
          "name": "stdout",
          "output_type": "stream",
          "text": [
            "Epoch 6 mape: 3.0142688711527663 & smape: 1.9999997128674731  with loss: -222.10385131835938\n"
          ]
        },
        {
          "metadata": {
            "tags": null
          },
          "name": "stderr",
          "output_type": "stream",
          "text": [
            "Epoch 7/100 total_loss 0.0 : 100it [00:15,  6.36it/s, loss=-225]\n",
            "Epoch 8/100 total_loss 0.0 : 0it [00:00, ?it/s, loss=-210]\n",
            "Epoch : 1it [00:00, 10.61it/s]\n",
            "Epoch 8/100 total_loss 0.0 : 2it [00:01,  1.43it/s, loss=-213]"
          ]
        },
        {
          "metadata": {
            "tags": null
          },
          "name": "stdout",
          "output_type": "stream",
          "text": [
            "Epoch 7 mape: 3.0296874543692103 & smape: 1.999999721133946  with loss: -210.30821228027344\n"
          ]
        },
        {
          "metadata": {
            "tags": null
          },
          "name": "stderr",
          "output_type": "stream",
          "text": [
            "Epoch 8/100 total_loss 0.0 : 100it [00:15,  6.42it/s, loss=-226]\n",
            "Epoch 9/100 total_loss 0.0 : 0it [00:00, ?it/s, loss=-224]\n",
            "Epoch : 1it [00:00, 10.37it/s]\n",
            "Epoch 9/100 total_loss 0.0 : 2it [00:01,  1.57it/s, loss=-228]"
          ]
        },
        {
          "metadata": {
            "tags": null
          },
          "name": "stdout",
          "output_type": "stream",
          "text": [
            "Epoch 8 mape: 2.99120895143361 & smape: 1.9999997113670003  with loss: -224.04644775390625\n"
          ]
        },
        {
          "metadata": {
            "tags": null
          },
          "name": "stderr",
          "output_type": "stream",
          "text": [
            "Epoch 9/100 total_loss 0.0 : 100it [00:15,  6.43it/s, loss=-226]\n",
            "Epoch 10/100 total_loss 0.0 : 0it [00:00, ?it/s, loss=-224]\n",
            "Epoch : 1it [00:00, 10.71it/s]\n",
            "Epoch 10/100 total_loss 0.0 : 2it [00:01,  1.58it/s, loss=-228]"
          ]
        },
        {
          "metadata": {
            "tags": null
          },
          "name": "stdout",
          "output_type": "stream",
          "text": [
            "Epoch 9 mape: 3.0158650326540886 & smape: 1.9999997165493437  with loss: -224.0996856689453\n"
          ]
        },
        {
          "metadata": {
            "tags": null
          },
          "name": "stderr",
          "output_type": "stream",
          "text": [
            "Epoch 10/100 total_loss 0.0 : 100it [00:15,  6.44it/s, loss=-225]\n",
            "Epoch 11/100 total_loss 0.0 : 0it [00:00, ?it/s, loss=-220]\n",
            "Epoch : 0it [00:00, ?it/s]\u001b[A\n",
            "Epoch : 1it [00:00,  7.70it/s]\n",
            "Epoch 11/100 total_loss 0.0 : 1it [00:01,  1.59s/it, loss=-222]"
          ]
        },
        {
          "metadata": {
            "tags": null
          },
          "name": "stdout",
          "output_type": "stream",
          "text": [
            "Epoch 10 mape: 3.0562489508446467 & smape: 1.9999997244719312  with loss: -220.1826171875\n"
          ]
        },
        {
          "metadata": {
            "tags": null
          },
          "name": "stderr",
          "output_type": "stream",
          "text": [
            "Epoch 11/100 total_loss 0.0 : 100it [00:16,  6.24it/s, loss=-227]\n",
            "Epoch 12/100 total_loss 0.0 : 0it [00:00, ?it/s, loss=-246]\n",
            "Epoch : 1it [00:00, 10.52it/s]\n",
            "Epoch 12/100 total_loss 0.0 : 2it [00:01,  1.56it/s, loss=-233]"
          ]
        },
        {
          "metadata": {
            "tags": null
          },
          "name": "stdout",
          "output_type": "stream",
          "text": [
            "Epoch 11 mape: 3.106917498973934 & smape: 1.9999997362011512  with loss: -246.01809692382812\n"
          ]
        },
        {
          "metadata": {
            "tags": null
          },
          "name": "stderr",
          "output_type": "stream",
          "text": [
            "Epoch 12/100 total_loss 0.0 : 100it [00:15,  6.47it/s, loss=-226]\n",
            "Epoch 13/100 total_loss 0.0 : 0it [00:00, ?it/s, loss=-234]\n",
            "Epoch : 1it [00:00, 10.72it/s]\n",
            "Epoch 13/100 total_loss 0.0 : 2it [00:01,  1.47it/s, loss=-232]"
          ]
        },
        {
          "metadata": {
            "tags": null
          },
          "name": "stdout",
          "output_type": "stream",
          "text": [
            "Epoch 12 mape: 3.1012812026583667 & smape: 1.9999997342086162  with loss: -234.49945068359375\n"
          ]
        },
        {
          "metadata": {
            "tags": null
          },
          "name": "stderr",
          "output_type": "stream",
          "text": [
            "Epoch 13/100 total_loss 0.0 : 100it [00:15,  6.41it/s, loss=-226]\n",
            "Epoch 14/100 total_loss 0.0 : 0it [00:00, ?it/s, loss=-233]\n",
            "Epoch : 1it [00:00, 10.22it/s]\n",
            "Epoch 14/100 total_loss 0.0 : 2it [00:01,  1.55it/s, loss=-230]"
          ]
        },
        {
          "metadata": {
            "tags": null
          },
          "name": "stdout",
          "output_type": "stream",
          "text": [
            "Epoch 13 mape: 3.080949346547525 & smape: 1.999999730170393  with loss: -233.37525939941406\n"
          ]
        },
        {
          "metadata": {
            "tags": null
          },
          "name": "stderr",
          "output_type": "stream",
          "text": [
            "Epoch 14/100 total_loss 0.0 : 100it [00:15,  6.37it/s, loss=-226]\n",
            "Epoch 15/100 total_loss 0.0 : 0it [00:00, ?it/s, loss=-218]\n",
            "Epoch : 0it [00:00, ?it/s]\u001b[A\n",
            "Epoch : 1it [00:00,  7.31it/s]\n",
            "Epoch 15/100 total_loss 0.0 : 2it [00:01,  1.38it/s, loss=-223]"
          ]
        },
        {
          "metadata": {
            "tags": null
          },
          "name": "stdout",
          "output_type": "stream",
          "text": [
            "Epoch 14 mape: 3.130004295173916 & smape: 1.9999997375090364  with loss: -218.0869140625\n"
          ]
        },
        {
          "metadata": {
            "tags": null
          },
          "name": "stderr",
          "output_type": "stream",
          "text": [
            "Epoch 15/100 total_loss 0.0 : 100it [00:15,  6.33it/s, loss=-227]\n",
            "Epoch 16/100 total_loss 0.0 : 0it [00:00, ?it/s, loss=-232]\n",
            "Epoch : 1it [00:00, 10.51it/s]\n",
            "Epoch 16/100 total_loss 0.0 : 2it [00:01,  1.60it/s, loss=-232]"
          ]
        },
        {
          "metadata": {
            "tags": null
          },
          "name": "stdout",
          "output_type": "stream",
          "text": [
            "Epoch 15 mape: 3.1498505078405 & smape: 1.9999997414729735  with loss: -231.73568725585938\n"
          ]
        },
        {
          "metadata": {
            "tags": null
          },
          "name": "stderr",
          "output_type": "stream",
          "text": [
            "Epoch 16/100 total_loss 0.0 : 100it [00:15,  6.45it/s, loss=-227]\n",
            "Epoch 17/100 total_loss 0.0 : 0it [00:00, ?it/s, loss=-217]\n",
            "Epoch : 1it [00:00, 10.23it/s]\n",
            "Epoch 17/100 total_loss 0.0 : 2it [00:01,  1.54it/s, loss=-222]"
          ]
        },
        {
          "metadata": {
            "tags": null
          },
          "name": "stdout",
          "output_type": "stream",
          "text": [
            "Epoch 16 mape: 3.170070206629703 & smape: 1.9999997481004956  with loss: -216.81613159179688\n"
          ]
        },
        {
          "metadata": {
            "tags": null
          },
          "name": "stderr",
          "output_type": "stream",
          "text": [
            "Epoch 17/100 total_loss 0.0 : 100it [00:15,  6.42it/s, loss=-224]\n",
            "Epoch 18/100 total_loss 0.0 : 0it [00:00, ?it/s, loss=-229]\n",
            "Epoch : 1it [00:00, 10.16it/s]\n",
            "Epoch 18/100 total_loss 0.0 : 2it [00:01,  1.56it/s, loss=-231]"
          ]
        },
        {
          "metadata": {
            "tags": null
          },
          "name": "stdout",
          "output_type": "stream",
          "text": [
            "Epoch 17 mape: 3.1596007716029066 & smape: 1.9999997469564692  with loss: -228.68846130371094\n"
          ]
        },
        {
          "metadata": {
            "tags": null
          },
          "name": "stderr",
          "output_type": "stream",
          "text": [
            "Epoch 18/100 total_loss 0.0 : 100it [00:15,  6.39it/s, loss=-227]\n",
            "Epoch 19/100 total_loss 0.0 : 0it [00:00, ?it/s, loss=-213]\n",
            "Epoch : 0it [00:00, ?it/s]\u001b[A\n",
            "Epoch : 1it [00:00,  7.90it/s]\n",
            "Epoch 19/100 total_loss 0.0 : 2it [00:01,  1.46it/s, loss=-225]"
          ]
        },
        {
          "metadata": {
            "tags": null
          },
          "name": "stdout",
          "output_type": "stream",
          "text": [
            "Epoch 18 mape: 3.176170102044049 & smape: 1.9999997497790412  with loss: -213.14974975585938\n"
          ]
        },
        {
          "metadata": {
            "tags": null
          },
          "name": "stderr",
          "output_type": "stream",
          "text": [
            "Epoch 19/100 total_loss 0.0 : 100it [00:15,  6.39it/s, loss=-226]\n",
            "Epoch 20/100 total_loss 0.0 : 0it [00:00, ?it/s, loss=-219]\n",
            "Epoch : 1it [00:00, 10.60it/s]\n",
            "Epoch 20/100 total_loss 0.0 : 2it [00:01,  1.56it/s, loss=-223]"
          ]
        },
        {
          "metadata": {
            "tags": null
          },
          "name": "stdout",
          "output_type": "stream",
          "text": [
            "Epoch 19 mape: 3.1202016153694876 & smape: 1.9999997420980922  with loss: -218.99501037597656\n"
          ]
        },
        {
          "metadata": {
            "tags": null
          },
          "name": "stderr",
          "output_type": "stream",
          "text": [
            "Epoch 20/100 total_loss 0.0 : 100it [00:15,  6.37it/s, loss=-227]\n",
            "Epoch 21/100 total_loss 0.0 : 0it [00:00, ?it/s, loss=-226]\n",
            "Epoch : 1it [00:00, 10.01it/s]\n",
            "Epoch 21/100 total_loss 0.0 : 2it [00:01,  1.56it/s, loss=-228]"
          ]
        },
        {
          "metadata": {
            "tags": null
          },
          "name": "stdout",
          "output_type": "stream",
          "text": [
            "Epoch 20 mape: 3.2023402700262773 & smape: 1.9999997535490608  with loss: -225.98318481445312\n"
          ]
        },
        {
          "metadata": {
            "tags": null
          },
          "name": "stderr",
          "output_type": "stream",
          "text": [
            "Epoch 21/100 total_loss 0.0 : 100it [00:15,  6.41it/s, loss=-228]\n",
            "Epoch 22/100 total_loss 0.0 : 0it [00:00, ?it/s, loss=-225]\n",
            "Epoch : 1it [00:00, 10.65it/s]\n",
            "Epoch 22/100 total_loss 0.0 : 2it [00:01,  1.58it/s, loss=-226]"
          ]
        },
        {
          "metadata": {
            "tags": null
          },
          "name": "stdout",
          "output_type": "stream",
          "text": [
            "Epoch 21 mape: 3.2422980770068213 & smape: 1.9999997583212936  with loss: -225.09747314453125\n"
          ]
        },
        {
          "metadata": {
            "tags": null
          },
          "name": "stderr",
          "output_type": "stream",
          "text": [
            "Epoch 22/100 total_loss 0.0 : 100it [00:15,  6.34it/s, loss=-228]\n",
            "Epoch 23/100 total_loss 0.0 : 0it [00:00, ?it/s, loss=-239]\n",
            "Epoch : 0it [00:00, ?it/s]\u001b[A\n",
            "Epoch : 1it [00:00,  8.23it/s]\n",
            "Epoch 23/100 total_loss 0.0 : 2it [00:01,  1.50it/s, loss=-240]"
          ]
        },
        {
          "metadata": {
            "tags": null
          },
          "name": "stdout",
          "output_type": "stream",
          "text": [
            "Epoch 22 mape: 3.1773116342324528 & smape: 1.999999752175253  with loss: -238.97402954101562\n"
          ]
        },
        {
          "metadata": {
            "tags": null
          },
          "name": "stderr",
          "output_type": "stream",
          "text": [
            "Epoch 23/100 total_loss 0.0 : 100it [00:15,  6.44it/s, loss=-228]\n",
            "Epoch 24/100 total_loss 0.0 : 0it [00:00, ?it/s, loss=-230]\n",
            "Epoch : 1it [00:00, 10.66it/s]\n",
            "Epoch 24/100 total_loss 0.0 : 2it [00:01,  1.57it/s, loss=-235]"
          ]
        },
        {
          "metadata": {
            "tags": null
          },
          "name": "stdout",
          "output_type": "stream",
          "text": [
            "Epoch 23 mape: 3.2130763594135323 & smape: 1.9999997566916785  with loss: -230.44418334960938\n"
          ]
        },
        {
          "metadata": {
            "tags": null
          },
          "name": "stderr",
          "output_type": "stream",
          "text": [
            "Epoch 24/100 total_loss 0.0 : 100it [00:15,  6.48it/s, loss=-227]\n",
            "Epoch 25/100 total_loss 0.0 : 0it [00:00, ?it/s, loss=-244]\n",
            "Epoch : 0it [00:00, ?it/s]\u001b[A\n",
            "Epoch : 1it [00:00,  8.58it/s]\n",
            "Epoch 25/100 total_loss 0.0 : 2it [00:01,  1.54it/s, loss=-236]"
          ]
        },
        {
          "metadata": {
            "tags": null
          },
          "name": "stdout",
          "output_type": "stream",
          "text": [
            "Epoch 24 mape: 3.1522714383767645 & smape: 1.9999997515042514  with loss: -244.1856689453125\n"
          ]
        },
        {
          "metadata": {
            "tags": null
          },
          "name": "stderr",
          "output_type": "stream",
          "text": [
            "Epoch 25/100 total_loss 0.0 : 100it [00:15,  6.47it/s, loss=-228]\n",
            "Epoch 26/100 total_loss 0.0 : 0it [00:00, ?it/s, loss=-246]\n",
            "Epoch : 1it [00:00, 10.50it/s]\n",
            "Epoch 26/100 total_loss 0.0 : 2it [00:01,  1.57it/s, loss=-240]"
          ]
        },
        {
          "metadata": {
            "tags": null
          },
          "name": "stdout",
          "output_type": "stream",
          "text": [
            "Epoch 25 mape: 3.158266912134505 & smape: 1.999999752706093  with loss: -246.12936401367188\n"
          ]
        },
        {
          "metadata": {
            "tags": null
          },
          "name": "stderr",
          "output_type": "stream",
          "text": [
            "Epoch 26/100 total_loss 0.0 : 100it [00:15,  6.40it/s, loss=-227]\n",
            "Epoch 27/100 total_loss 0.0 : 0it [00:00, ?it/s, loss=-218]\n",
            "Epoch : 0it [00:00, ?it/s]\u001b[A\n",
            "Epoch : 1it [00:00,  7.56it/s]\n",
            "Epoch 27/100 total_loss 0.0 : 2it [00:01,  1.42it/s, loss=-222]"
          ]
        },
        {
          "metadata": {
            "tags": null
          },
          "name": "stdout",
          "output_type": "stream",
          "text": [
            "Epoch 26 mape: 3.197703344960733 & smape: 1.9999997580882143  with loss: -217.78744506835938\n"
          ]
        },
        {
          "metadata": {
            "tags": null
          },
          "name": "stderr",
          "output_type": "stream",
          "text": [
            "Epoch 27/100 total_loss 0.0 : 100it [00:15,  6.43it/s, loss=-228]\n",
            "Epoch 28/100 total_loss 0.0 : 0it [00:00, ?it/s, loss=-221]\n",
            "Epoch : 1it [00:00, 10.05it/s]\n",
            "Epoch 28/100 total_loss 0.0 : 2it [00:01,  1.54it/s, loss=-226]"
          ]
        },
        {
          "metadata": {
            "tags": null
          },
          "name": "stdout",
          "output_type": "stream",
          "text": [
            "Epoch 27 mape: 3.157982780931636 & smape: 1.999999753311542  with loss: -220.7361297607422\n"
          ]
        },
        {
          "metadata": {
            "tags": null
          },
          "name": "stderr",
          "output_type": "stream",
          "text": [
            "Epoch 28/100 total_loss 0.0 : 100it [00:15,  6.48it/s, loss=-226]\n",
            "Epoch 29/100 total_loss 0.0 : 0it [00:00, ?it/s, loss=-231]\n",
            "Epoch : 1it [00:00, 10.65it/s]\n",
            "Epoch 29/100 total_loss 0.0 : 2it [00:01,  1.58it/s, loss=-231]"
          ]
        },
        {
          "metadata": {
            "tags": null
          },
          "name": "stdout",
          "output_type": "stream",
          "text": [
            "Epoch 28 mape: 3.150051151246722 & smape: 1.9999997555356044  with loss: -230.68533325195312\n"
          ]
        },
        {
          "metadata": {
            "tags": null
          },
          "name": "stderr",
          "output_type": "stream",
          "text": [
            "Epoch 29/100 total_loss 0.0 : 100it [00:15,  6.41it/s, loss=-227]\n",
            "Epoch 30/100 total_loss 0.0 : 0it [00:00, ?it/s, loss=-227]\n",
            "Epoch : 1it [00:00, 10.16it/s]\n",
            "Epoch 30/100 total_loss 0.0 : 2it [00:01,  1.57it/s, loss=-226]"
          ]
        },
        {
          "metadata": {
            "tags": null
          },
          "name": "stdout",
          "output_type": "stream",
          "text": [
            "Epoch 29 mape: 3.1292164312141515 & smape: 1.9999997501966857  with loss: -227.1942138671875\n"
          ]
        },
        {
          "metadata": {
            "tags": null
          },
          "name": "stderr",
          "output_type": "stream",
          "text": [
            "Epoch 30/100 total_loss 0.0 : 100it [00:15,  6.38it/s, loss=-227]\n",
            "Epoch 31/100 total_loss 0.0 : 0it [00:00, ?it/s, loss=-240]\n",
            "Epoch : 0it [00:00, ?it/s]\u001b[A\n",
            "Epoch : 1it [00:00,  8.65it/s]\n",
            "Epoch 31/100 total_loss 0.0 : 2it [00:01,  1.37it/s, loss=-232]"
          ]
        },
        {
          "metadata": {
            "tags": null
          },
          "name": "stdout",
          "output_type": "stream",
          "text": [
            "Epoch 30 mape: 3.140627244289293 & smape: 1.9999997528734812  with loss: -239.623046875\n"
          ]
        },
        {
          "metadata": {
            "tags": null
          },
          "name": "stderr",
          "output_type": "stream",
          "text": [
            "Epoch 31/100 total_loss 0.0 : 100it [00:15,  6.40it/s, loss=-228]\n",
            "Epoch 32/100 total_loss 0.0 : 0it [00:00, ?it/s, loss=-228]\n",
            "Epoch : 1it [00:00, 10.12it/s]\n",
            "Epoch 32/100 total_loss 0.0 : 2it [00:01,  1.50it/s, loss=-227]"
          ]
        },
        {
          "metadata": {
            "tags": null
          },
          "name": "stdout",
          "output_type": "stream",
          "text": [
            "Epoch 31 mape: 3.13793827595448 & smape: 1.999999749742524  with loss: -227.74502563476562\n"
          ]
        },
        {
          "metadata": {
            "tags": null
          },
          "name": "stderr",
          "output_type": "stream",
          "text": [
            "Epoch 32/100 total_loss 0.0 : 100it [00:15,  6.44it/s, loss=-229]\n",
            "Epoch 33/100 total_loss 0.0 : 0it [00:00, ?it/s, loss=-233]\n",
            "Epoch : 1it [00:00, 10.41it/s]\n",
            "Epoch 33/100 total_loss 0.0 : 2it [00:01,  1.49it/s, loss=-231]"
          ]
        },
        {
          "metadata": {
            "tags": null
          },
          "name": "stdout",
          "output_type": "stream",
          "text": [
            "Epoch 32 mape: 3.129885535349818 & smape: 1.9999997518520585  with loss: -233.03109741210938\n"
          ]
        },
        {
          "metadata": {
            "tags": null
          },
          "name": "stderr",
          "output_type": "stream",
          "text": [
            "Epoch 33/100 total_loss 0.0 : 100it [00:15,  6.46it/s, loss=-228]\n",
            "Epoch 34/100 total_loss 0.0 : 0it [00:00, ?it/s, loss=-230]\n",
            "Epoch : 1it [00:00, 10.25it/s]\n",
            "Epoch 34/100 total_loss 0.0 : 2it [00:01,  1.55it/s, loss=-223]"
          ]
        },
        {
          "metadata": {
            "tags": null
          },
          "name": "stdout",
          "output_type": "stream",
          "text": [
            "Epoch 33 mape: 3.130909694658751 & smape: 1.9999997524457616  with loss: -230.03195190429688\n"
          ]
        },
        {
          "metadata": {
            "tags": null
          },
          "name": "stderr",
          "output_type": "stream",
          "text": [
            "Epoch 34/100 total_loss 0.0 : 100it [00:16,  6.22it/s, loss=-228]\n",
            "Epoch 35/100 total_loss 0.0 : 0it [00:00, ?it/s, loss=-228]\n",
            "Epoch : 1it [00:00, 10.14it/s]\n",
            "Epoch 35/100 total_loss 0.0 : 2it [00:01,  1.54it/s, loss=-233]"
          ]
        },
        {
          "metadata": {
            "tags": null
          },
          "name": "stdout",
          "output_type": "stream",
          "text": [
            "Epoch 34 mape: 3.1751942318331876 & smape: 1.9999997557370401  with loss: -227.5210418701172\n"
          ]
        },
        {
          "metadata": {
            "tags": null
          },
          "name": "stderr",
          "output_type": "stream",
          "text": [
            "Epoch 35/100 total_loss 0.0 : 100it [00:15,  6.42it/s, loss=-228]\n",
            "Epoch 36/100 total_loss 0.0 : 0it [00:00, ?it/s, loss=-219]\n",
            "Epoch : 1it [00:00, 10.16it/s]\n",
            "Epoch 36/100 total_loss 0.0 : 2it [00:01,  1.56it/s, loss=-227]"
          ]
        },
        {
          "metadata": {
            "tags": null
          },
          "name": "stdout",
          "output_type": "stream",
          "text": [
            "Epoch 35 mape: 3.137659669235911 & smape: 1.9999997505261504  with loss: -218.59393310546875\n"
          ]
        },
        {
          "metadata": {
            "tags": null
          },
          "name": "stderr",
          "output_type": "stream",
          "text": [
            "Epoch 36/100 total_loss 0.0 : 100it [00:15,  6.38it/s, loss=-228]\n",
            "Epoch 37/100 total_loss 0.0 : 0it [00:00, ?it/s, loss=-233]\n",
            "Epoch : 0it [00:00, ?it/s]\u001b[A\n",
            "Epoch : 1it [00:00,  9.56it/s]\n",
            "Epoch 37/100 total_loss 0.0 : 2it [00:01,  1.29it/s, loss=-231]"
          ]
        },
        {
          "metadata": {
            "tags": null
          },
          "name": "stdout",
          "output_type": "stream",
          "text": [
            "Epoch 36 mape: 3.123351130531585 & smape: 1.9999997491338217  with loss: -233.3032684326172\n"
          ]
        },
        {
          "metadata": {
            "tags": null
          },
          "name": "stderr",
          "output_type": "stream",
          "text": [
            "Epoch 37/100 total_loss 0.0 : 100it [00:15,  6.31it/s, loss=-227]\n",
            "Epoch 38/100 total_loss 0.0 : 0it [00:00, ?it/s, loss=-243]\n",
            "Epoch : 0it [00:00, ?it/s]\u001b[A\n",
            "Epoch : 1it [00:00,  6.63it/s]\n",
            "Epoch 38/100 total_loss 0.0 : 2it [00:02,  1.03it/s, loss=-237]"
          ]
        },
        {
          "metadata": {
            "tags": null
          },
          "name": "stdout",
          "output_type": "stream",
          "text": [
            "Epoch 37 mape: 3.1471744776724675 & smape: 1.9999997540162326  with loss: -242.64820861816406\n"
          ]
        },
        {
          "metadata": {
            "tags": null
          },
          "name": "stderr",
          "output_type": "stream",
          "text": [
            "Epoch 38/100 total_loss 0.0 : 100it [00:16,  6.07it/s, loss=-228]\n",
            "Epoch 39/100 total_loss 0.0 : 0it [00:00, ?it/s, loss=-229]\n",
            "Epoch : 1it [00:00, 10.40it/s]\n",
            "Epoch 39/100 total_loss 0.0 : 2it [00:01,  1.53it/s, loss=-240]"
          ]
        },
        {
          "metadata": {
            "tags": null
          },
          "name": "stdout",
          "output_type": "stream",
          "text": [
            "Epoch 38 mape: 3.171762052390213 & smape: 1.9999997522060728  with loss: -228.97607421875\n"
          ]
        },
        {
          "metadata": {
            "tags": null
          },
          "name": "stderr",
          "output_type": "stream",
          "text": [
            "Epoch 39/100 total_loss 0.0 : 100it [00:15,  6.45it/s, loss=-227]\n",
            "Epoch 40/100 total_loss 0.0 : 0it [00:00, ?it/s, loss=-228]\n",
            "Epoch : 0it [00:00, ?it/s]\u001b[A\n",
            "Epoch : 1it [00:00,  9.60it/s]\n",
            "Epoch 40/100 total_loss 0.0 : 2it [00:02,  1.15s/it, loss=-228]"
          ]
        },
        {
          "metadata": {
            "tags": null
          },
          "name": "stdout",
          "output_type": "stream",
          "text": [
            "Epoch 39 mape: 3.1459813747090926 & smape: 1.999999750951822  with loss: -227.99722290039062\n"
          ]
        },
        {
          "metadata": {
            "tags": null
          },
          "name": "stderr",
          "output_type": "stream",
          "text": [
            "Epoch 40/100 total_loss 0.0 : 100it [00:17,  5.85it/s, loss=-228]\n",
            "Epoch 41/100 total_loss 0.0 : 0it [00:00, ?it/s, loss=-231]\n",
            "Epoch : 0it [00:00, ?it/s]\u001b[A\n",
            "Epoch : 1it [00:00,  7.90it/s]\n",
            "Epoch 41/100 total_loss 0.0 : 2it [00:01,  1.24it/s, loss=-231]"
          ]
        },
        {
          "metadata": {
            "tags": null
          },
          "name": "stdout",
          "output_type": "stream",
          "text": [
            "Epoch 40 mape: 3.143699599713238 & smape: 1.9999997531544307  with loss: -231.44451904296875\n"
          ]
        },
        {
          "metadata": {
            "tags": null
          },
          "name": "stderr",
          "output_type": "stream",
          "text": [
            "Epoch 41/100 total_loss 0.0 : 100it [00:15,  6.32it/s, loss=-227]\n",
            "Epoch 42/100 total_loss 0.0 : 0it [00:00, ?it/s, loss=-223]\n",
            "Epoch : 0it [00:00, ?it/s]\u001b[A\n",
            "Epoch : 1it [00:00,  8.28it/s]\n",
            "Epoch 42/100 total_loss 0.0 : 2it [00:01,  1.36it/s, loss=-224]"
          ]
        },
        {
          "metadata": {
            "tags": null
          },
          "name": "stdout",
          "output_type": "stream",
          "text": [
            "Epoch 41 mape: 3.1534842569017334 & smape: 1.9999997504848428  with loss: -223.3311309814453\n"
          ]
        },
        {
          "metadata": {
            "tags": null
          },
          "name": "stderr",
          "output_type": "stream",
          "text": [
            "Epoch 42/100 total_loss 0.0 : 100it [00:15,  6.31it/s, loss=-226]\n",
            "Epoch 43/100 total_loss 0.0 : 0it [00:00, ?it/s, loss=-229]\n",
            "Epoch : 0it [00:00, ?it/s]\u001b[A\n",
            "Epoch : 1it [00:00,  9.63it/s]\n",
            "Epoch 43/100 total_loss 0.0 : 2it [00:01,  1.31it/s, loss=-236]"
          ]
        },
        {
          "metadata": {
            "tags": null
          },
          "name": "stdout",
          "output_type": "stream",
          "text": [
            "Epoch 42 mape: 3.178259907711948 & smape: 1.9999997552078401  with loss: -229.09286499023438\n"
          ]
        },
        {
          "metadata": {
            "tags": null
          },
          "name": "stderr",
          "output_type": "stream",
          "text": [
            "Epoch 43/100 total_loss 0.0 : 100it [00:15,  6.31it/s, loss=-227]\n",
            "Epoch 44/100 total_loss 0.0 : 0it [00:00, ?it/s, loss=-238]\n",
            "Epoch : 1it [00:00, 10.19it/s]\n",
            "Epoch 44/100 total_loss 0.0 : 2it [00:01,  1.42it/s, loss=-236]"
          ]
        },
        {
          "metadata": {
            "tags": null
          },
          "name": "stdout",
          "output_type": "stream",
          "text": [
            "Epoch 43 mape: 3.174732694418183 & smape: 1.9999997539769152  with loss: -237.95651245117188\n"
          ]
        },
        {
          "metadata": {
            "tags": null
          },
          "name": "stderr",
          "output_type": "stream",
          "text": [
            "Epoch 44/100 total_loss 0.0 : 100it [00:15,  6.30it/s, loss=-227]\n",
            "Epoch 45/100 total_loss 0.0 : 0it [00:00, ?it/s, loss=-211]\n",
            "Epoch : 1it [00:00, 10.62it/s]\n",
            "Epoch 45/100 total_loss 0.0 : 2it [00:02,  1.15it/s, loss=-214]"
          ]
        },
        {
          "metadata": {
            "tags": null
          },
          "name": "stdout",
          "output_type": "stream",
          "text": [
            "Epoch 44 mape: 3.177567260260178 & smape: 1.9999997527033713  with loss: -211.110595703125\n"
          ]
        },
        {
          "metadata": {
            "tags": null
          },
          "name": "stderr",
          "output_type": "stream",
          "text": [
            "Epoch 45/100 total_loss 0.0 : 100it [00:15,  6.30it/s, loss=-227]\n",
            "Epoch 46/100 total_loss 0.0 : 0it [00:00, ?it/s, loss=-222]\n",
            "Epoch : 0it [00:00, ?it/s]\u001b[A\n",
            "Epoch : 1it [00:00,  9.72it/s]\n",
            "Epoch 46/100 total_loss 0.0 : 2it [00:01,  1.52it/s, loss=-229]"
          ]
        },
        {
          "metadata": {
            "tags": null
          },
          "name": "stdout",
          "output_type": "stream",
          "text": [
            "Epoch 45 mape: 3.147292420769048 & smape: 1.9999997492531092  with loss: -222.38717651367188\n"
          ]
        },
        {
          "metadata": {
            "tags": null
          },
          "name": "stderr",
          "output_type": "stream",
          "text": [
            "Epoch 46/100 total_loss 0.0 : 100it [00:15,  6.48it/s, loss=-227]\n",
            "Epoch 47/100 total_loss 0.0 : 0it [00:00, ?it/s, loss=-219]\n",
            "Epoch : 1it [00:00, 10.04it/s]\n",
            "Epoch 47/100 total_loss 0.0 : 2it [00:01,  1.56it/s, loss=-221]"
          ]
        },
        {
          "metadata": {
            "tags": null
          },
          "name": "stdout",
          "output_type": "stream",
          "text": [
            "Epoch 46 mape: 3.2277185827384733 & smape: 1.999999758151275  with loss: -219.16978454589844\n"
          ]
        },
        {
          "metadata": {
            "tags": null
          },
          "name": "stderr",
          "output_type": "stream",
          "text": [
            "Epoch 47/100 total_loss 0.0 : 100it [00:15,  6.37it/s, loss=-228]\n",
            "Epoch 48/100 total_loss 0.0 : 0it [00:00, ?it/s, loss=-236]\n",
            "Epoch : 0it [00:00, ?it/s]\u001b[A\n",
            "Epoch : 1it [00:00,  7.83it/s]\n",
            "Epoch 48/100 total_loss 0.0 : 2it [00:01,  1.40it/s, loss=-239]"
          ]
        },
        {
          "metadata": {
            "tags": null
          },
          "name": "stdout",
          "output_type": "stream",
          "text": [
            "Epoch 47 mape: 3.18148586440596 & smape: 1.9999997529750402  with loss: -235.68605041503906\n"
          ]
        },
        {
          "metadata": {
            "tags": null
          },
          "name": "stderr",
          "output_type": "stream",
          "text": [
            "Epoch 48/100 total_loss 0.0 : 100it [00:15,  6.42it/s, loss=-228]\n",
            "Epoch 49/100 total_loss 0.0 : 0it [00:00, ?it/s, loss=-228]\n",
            "Epoch : 0it [00:00, ?it/s]\u001b[A\n",
            "Epoch : 1it [00:00,  9.73it/s]\n",
            "Epoch 49/100 total_loss 0.0 : 2it [00:01,  1.47it/s, loss=-225]"
          ]
        },
        {
          "metadata": {
            "tags": null
          },
          "name": "stdout",
          "output_type": "stream",
          "text": [
            "Epoch 48 mape: 3.177532627228435 & smape: 1.9999997548646318  with loss: -228.278076171875\n"
          ]
        },
        {
          "metadata": {
            "tags": null
          },
          "name": "stderr",
          "output_type": "stream",
          "text": [
            "Epoch 49/100 total_loss 0.0 : 100it [00:15,  6.46it/s, loss=-228]\n",
            "Epoch 50/100 total_loss 0.0 : 0it [00:00, ?it/s, loss=-226]\n",
            "Epoch : 1it [00:00, 10.37it/s]\n",
            "Epoch 50/100 total_loss 0.0 : 2it [00:01,  1.19it/s, loss=-227]"
          ]
        },
        {
          "metadata": {
            "tags": null
          },
          "name": "stdout",
          "output_type": "stream",
          "text": [
            "Epoch 49 mape: 3.181453569620118 & smape: 1.9999997533082263  with loss: -225.5101318359375\n"
          ]
        },
        {
          "metadata": {
            "tags": null
          },
          "name": "stderr",
          "output_type": "stream",
          "text": [
            "Epoch 50/100 total_loss 0.0 : 100it [00:15,  6.27it/s, loss=-228]\n",
            "Epoch 51/100 total_loss 0.0 : 0it [00:00, ?it/s, loss=-232]\n",
            "Epoch : 1it [00:00, 10.40it/s]\n",
            "Epoch 51/100 total_loss 0.0 : 2it [00:01,  1.31it/s, loss=-236]"
          ]
        },
        {
          "metadata": {
            "tags": null
          },
          "name": "stdout",
          "output_type": "stream",
          "text": [
            "Epoch 50 mape: 3.223760017250359 & smape: 1.9999997585066511  with loss: -231.56008911132812\n"
          ]
        },
        {
          "metadata": {
            "tags": null
          },
          "name": "stderr",
          "output_type": "stream",
          "text": [
            "Epoch 51/100 total_loss 0.0 : 100it [00:16,  6.15it/s, loss=-229]\n",
            "Epoch 52/100 total_loss 0.0 : 0it [00:00, ?it/s, loss=-217]\n",
            "Epoch : 1it [00:00, 10.05it/s]\n",
            "Epoch 52/100 total_loss 0.0 : 2it [00:01,  1.53it/s, loss=-223]"
          ]
        },
        {
          "metadata": {
            "tags": null
          },
          "name": "stdout",
          "output_type": "stream",
          "text": [
            "Epoch 51 mape: 3.1821404535925066 & smape: 1.9999997531341336  with loss: -217.0790557861328\n"
          ]
        },
        {
          "metadata": {
            "tags": null
          },
          "name": "stderr",
          "output_type": "stream",
          "text": [
            "Epoch 52/100 total_loss 0.0 : 100it [00:15,  6.39it/s, loss=-228]\n",
            "Epoch 53/100 total_loss 0.0 : 0it [00:00, ?it/s, loss=-230]\n",
            "Epoch : 1it [00:00, 10.03it/s]\n",
            "Epoch 53/100 total_loss 0.0 : 2it [00:01,  1.19it/s, loss=-226]"
          ]
        },
        {
          "metadata": {
            "tags": null
          },
          "name": "stdout",
          "output_type": "stream",
          "text": [
            "Epoch 52 mape: 3.195224452510708 & smape: 1.9999997565527707  with loss: -229.68359375\n"
          ]
        },
        {
          "metadata": {
            "tags": null
          },
          "name": "stderr",
          "output_type": "stream",
          "text": [
            "Epoch 53/100 total_loss 0.0 : 100it [00:15,  6.27it/s, loss=-228]\n",
            "Epoch 54/100 total_loss 0.0 : 0it [00:00, ?it/s, loss=-224]\n",
            "Epoch : 1it [00:00, 10.24it/s]\n",
            "Epoch 54/100 total_loss 0.0 : 2it [00:01,  1.40it/s, loss=-223]"
          ]
        },
        {
          "metadata": {
            "tags": null
          },
          "name": "stdout",
          "output_type": "stream",
          "text": [
            "Epoch 53 mape: 3.231559401964335 & smape: 1.999999757575299  with loss: -224.35491943359375\n"
          ]
        },
        {
          "metadata": {
            "tags": null
          },
          "name": "stderr",
          "output_type": "stream",
          "text": [
            "Epoch 54/100 total_loss 0.0 : 100it [00:16,  6.09it/s, loss=-228]\n",
            "Epoch 55/100 total_loss 0.0 : 0it [00:00, ?it/s, loss=-227]\n",
            "Epoch : 0it [00:00, ?it/s]\u001b[A\n",
            "Epoch : 1it [00:00,  6.09it/s]\n",
            "Epoch 55/100 total_loss 0.0 : 2it [00:01,  1.32it/s, loss=-219]"
          ]
        },
        {
          "metadata": {
            "tags": null
          },
          "name": "stdout",
          "output_type": "stream",
          "text": [
            "Epoch 54 mape: 3.2328671777020865 & smape: 1.9999997560495306  with loss: -227.27745056152344\n"
          ]
        },
        {
          "metadata": {
            "tags": null
          },
          "name": "stderr",
          "output_type": "stream",
          "text": [
            "Epoch 55/100 total_loss 0.0 : 100it [00:15,  6.33it/s, loss=-229]\n",
            "Epoch 56/100 total_loss 0.0 : 0it [00:00, ?it/s, loss=-231]\n",
            "Epoch : 0it [00:00, ?it/s]\u001b[A\n",
            "Epoch : 1it [00:00,  9.03it/s]\n",
            "Epoch 56/100 total_loss 0.0 : 2it [00:01,  1.56it/s, loss=-235]"
          ]
        },
        {
          "metadata": {
            "tags": null
          },
          "name": "stdout",
          "output_type": "stream",
          "text": [
            "Epoch 55 mape: 3.259931961975425 & smape: 1.9999997591973895  with loss: -230.85598754882812\n"
          ]
        },
        {
          "metadata": {
            "tags": null
          },
          "name": "stderr",
          "output_type": "stream",
          "text": [
            "Epoch 56/100 total_loss 0.0 : 100it [00:15,  6.37it/s, loss=-227]\n",
            "Epoch 57/100 total_loss 0.0 : 0it [00:00, ?it/s, loss=-219]\n",
            "Epoch : 0it [00:00, ?it/s]\u001b[A\n",
            "Epoch : 1it [00:00,  9.67it/s]\n",
            "Epoch 57/100 total_loss 0.0 : 2it [00:02,  1.14it/s, loss=-223]"
          ]
        },
        {
          "metadata": {
            "tags": null
          },
          "name": "stdout",
          "output_type": "stream",
          "text": [
            "Epoch 56 mape: 3.247984852194568 & smape: 1.9999997548496307  with loss: -219.31715393066406\n"
          ]
        },
        {
          "metadata": {
            "tags": null
          },
          "name": "stderr",
          "output_type": "stream",
          "text": [
            "Epoch 57/100 total_loss 0.0 : 100it [00:15,  6.25it/s, loss=-228]\n",
            "Epoch 58/100 total_loss 0.0 : 0it [00:00, ?it/s, loss=-223]\n",
            "Epoch : 0it [00:00, ?it/s]\u001b[A\n",
            "Epoch : 1it [00:00,  6.87it/s]\n",
            "Epoch 58/100 total_loss 0.0 : 1it [00:01,  1.56s/it, loss=-227]"
          ]
        },
        {
          "metadata": {
            "tags": null
          },
          "name": "stdout",
          "output_type": "stream",
          "text": [
            "Epoch 57 mape: 3.248805427740113 & smape: 1.9999997555543165  with loss: -223.08914184570312\n"
          ]
        },
        {
          "metadata": {
            "tags": null
          },
          "name": "stderr",
          "output_type": "stream",
          "text": [
            "Epoch 58/100 total_loss 0.0 : 100it [00:15,  6.39it/s, loss=-227]\n",
            "Epoch 59/100 total_loss 0.0 : 0it [00:00, ?it/s, loss=-235]\n",
            "Epoch : 1it [00:00, 10.56it/s]\n",
            "Epoch 59/100 total_loss 0.0 : 2it [00:01,  1.55it/s, loss=-228]"
          ]
        },
        {
          "metadata": {
            "tags": null
          },
          "name": "stdout",
          "output_type": "stream",
          "text": [
            "Epoch 58 mape: 3.238974749249278 & smape: 1.9999997591779168  with loss: -235.08840942382812\n"
          ]
        },
        {
          "metadata": {
            "tags": null
          },
          "name": "stderr",
          "output_type": "stream",
          "text": [
            "Epoch 59/100 total_loss 0.0 : 100it [00:15,  6.43it/s, loss=-229]\n",
            "Epoch 60/100 total_loss 0.0 : 0it [00:00, ?it/s, loss=-225]\n",
            "Epoch : 0it [00:00, ?it/s]\u001b[A\n",
            "Epoch : 1it [00:00,  9.55it/s]\n",
            "Epoch 60/100 total_loss 0.0 : 2it [00:01,  1.30it/s, loss=-225]"
          ]
        },
        {
          "metadata": {
            "tags": null
          },
          "name": "stdout",
          "output_type": "stream",
          "text": [
            "Epoch 59 mape: 3.2321631926043177 & smape: 1.999999756252249  with loss: -224.6266632080078\n"
          ]
        },
        {
          "output_type": "stream",
          "name": "stderr",
          "text": [
            "Epoch 60/100 total_loss 0.0 : 100it [00:15,  6.33it/s, loss=-228]\n",
            "Epoch 61/100 total_loss 0.0 : 0it [00:00, ?it/s, loss=-234]\n",
            "Epoch : 1it [00:00, 10.42it/s]\n",
            "Epoch 61/100 total_loss 0.0 : 2it [00:01,  1.44it/s, loss=-235]"
          ]
        },
        {
          "output_type": "stream",
          "name": "stdout",
          "text": [
            "Epoch 60 mape: 3.2731594299347546 & smape: 1.999999762335229  with loss: -234.15052795410156\n"
          ]
        },
        {
          "output_type": "stream",
          "name": "stderr",
          "text": [
            "Epoch 61/100 total_loss 0.0 : 100it [00:16,  6.25it/s, loss=-228]\n",
            "Epoch 62/100 total_loss 0.0 : 0it [00:00, ?it/s, loss=-228]\n",
            "Epoch : 0it [00:00, ?it/s]\u001b[A\n",
            "Epoch : 1it [00:00,  6.67it/s]\n",
            "Epoch 62/100 total_loss 0.0 : 2it [00:01,  1.19it/s, loss=-229]"
          ]
        },
        {
          "output_type": "stream",
          "name": "stdout",
          "text": [
            "Epoch 61 mape: 3.2446243338546927 & smape: 1.999999757785685  with loss: -227.8726348876953\n"
          ]
        },
        {
          "output_type": "stream",
          "name": "stderr",
          "text": [
            "Epoch 62/100 total_loss 0.0 : 100it [00:16,  6.24it/s, loss=-227]\n",
            "Epoch 63/100 total_loss 0.0 : 0it [00:00, ?it/s, loss=-231]\n",
            "Epoch : 1it [00:00, 10.13it/s]\n",
            "Epoch 63/100 total_loss 0.0 : 2it [00:01,  1.57it/s, loss=-228]"
          ]
        },
        {
          "output_type": "stream",
          "name": "stdout",
          "text": [
            "Epoch 62 mape: 3.2548932568589293 & smape: 1.9999997597914672  with loss: -230.7270050048828\n"
          ]
        },
        {
          "output_type": "stream",
          "name": "stderr",
          "text": [
            "Epoch 63/100 total_loss 0.0 : 100it [00:15,  6.43it/s, loss=-228]\n",
            "Epoch 64/100 total_loss 0.0 : 0it [00:00, ?it/s, loss=-219]\n",
            "Epoch : 1it [00:00, 10.05it/s]\n",
            "Epoch 64/100 total_loss 0.0 : 2it [00:01,  1.54it/s, loss=-220]"
          ]
        },
        {
          "output_type": "stream",
          "name": "stdout",
          "text": [
            "Epoch 63 mape: 3.19657877992308 & smape: 1.9999997515720278  with loss: -219.3800048828125\n"
          ]
        },
        {
          "output_type": "stream",
          "name": "stderr",
          "text": [
            "Epoch 64/100 total_loss 0.0 : 100it [00:15,  6.39it/s, loss=-228]\n",
            "Epoch 65/100 total_loss 0.0 : 0it [00:00, ?it/s, loss=-218]\n",
            "Epoch : 0it [00:00, ?it/s]\u001b[A\n",
            "Epoch : 1it [00:00,  9.51it/s]\n",
            "Epoch 65/100 total_loss 0.0 : 2it [00:01,  1.35it/s, loss=-224]"
          ]
        },
        {
          "output_type": "stream",
          "name": "stdout",
          "text": [
            "Epoch 64 mape: 3.269546561637748 & smape: 1.9999997623571455  with loss: -218.339111328125\n"
          ]
        },
        {
          "output_type": "stream",
          "name": "stderr",
          "text": [
            "Epoch 65/100 total_loss 0.0 : 100it [00:16,  6.23it/s, loss=-227]\n",
            "Epoch 66/100 total_loss 0.0 : 0it [00:00, ?it/s, loss=-226]\n",
            "Epoch : 0it [00:00, ?it/s]\u001b[A\n",
            "Epoch : 1it [00:00,  9.49it/s]\n",
            "Epoch 66/100 total_loss 0.0 : 2it [00:02,  1.08it/s, loss=-230]"
          ]
        },
        {
          "output_type": "stream",
          "name": "stdout",
          "text": [
            "Epoch 65 mape: 3.2120829556506747 & smape: 1.9999997516583978  with loss: -226.16006469726562\n"
          ]
        },
        {
          "output_type": "stream",
          "name": "stderr",
          "text": [
            "Epoch 66/100 total_loss 0.0 : 100it [00:16,  6.16it/s, loss=-227]\n",
            "Epoch 67/100 total_loss 0.0 : 0it [00:00, ?it/s, loss=-220]\n",
            "Epoch : 1it [00:00, 10.33it/s]\n",
            "Epoch 67/100 total_loss 0.0 : 2it [00:01,  1.56it/s, loss=-226]"
          ]
        },
        {
          "output_type": "stream",
          "name": "stdout",
          "text": [
            "Epoch 66 mape: 3.1651697272427075 & smape: 1.9999997502595042  with loss: -220.47421264648438\n"
          ]
        },
        {
          "output_type": "stream",
          "name": "stderr",
          "text": [
            "Epoch 67/100 total_loss 0.0 : 100it [00:15,  6.45it/s, loss=-228]\n",
            "Epoch 68/100 total_loss 0.0 : 0it [00:00, ?it/s, loss=-228]\n",
            "Epoch : 1it [00:00, 10.59it/s]\n",
            "Epoch 68/100 total_loss 0.0 : 1it [00:01,  1.37s/it, loss=-224]"
          ]
        },
        {
          "output_type": "stream",
          "name": "stdout",
          "text": [
            "Epoch 67 mape: 3.2845215863395034 & smape: 1.9999997608627256  with loss: -227.86868286132812\n"
          ]
        },
        {
          "output_type": "stream",
          "name": "stderr",
          "text": [
            "Epoch 68/100 total_loss 0.0 : 100it [00:16,  6.15it/s, loss=-228]\n",
            "Epoch 69/100 total_loss 0.0 : 0it [00:00, ?it/s, loss=-232]\n",
            "Epoch : 1it [00:00, 10.21it/s]\n",
            "Epoch 69/100 total_loss 0.0 : 2it [00:01,  1.55it/s, loss=-232]"
          ]
        },
        {
          "output_type": "stream",
          "name": "stdout",
          "text": [
            "Epoch 68 mape: 3.2712068580461673 & smape: 1.9999997590125143  with loss: -231.7650909423828\n"
          ]
        },
        {
          "output_type": "stream",
          "name": "stderr",
          "text": [
            "Epoch 69/100 total_loss 0.0 : 100it [00:15,  6.48it/s, loss=-229]\n",
            "Epoch 70/100 total_loss 0.0 : 0it [00:00, ?it/s, loss=-224]\n",
            "Epoch : 0it [00:00, ?it/s]\u001b[A\n",
            "Epoch : 1it [00:00,  9.74it/s]\n",
            "Epoch 70/100 total_loss 0.0 : 2it [00:01,  1.57it/s, loss=-230]"
          ]
        },
        {
          "output_type": "stream",
          "name": "stdout",
          "text": [
            "Epoch 69 mape: 3.2610978973780047 & smape: 1.9999997589625957  with loss: -223.57437133789062\n"
          ]
        },
        {
          "output_type": "stream",
          "name": "stderr",
          "text": [
            "Epoch 70/100 total_loss 0.0 : 100it [00:15,  6.50it/s, loss=-229]\n",
            "Epoch 71/100 total_loss 0.0 : 0it [00:00, ?it/s, loss=-230]\n",
            "Epoch : 0it [00:00, ?it/s]\u001b[A\n",
            "Epoch : 1it [00:00,  9.62it/s]\n",
            "Epoch 71/100 total_loss 0.0 : 2it [00:01,  1.55it/s, loss=-228]"
          ]
        },
        {
          "output_type": "stream",
          "name": "stdout",
          "text": [
            "Epoch 70 mape: 3.2411966668323573 & smape: 1.999999753426837  with loss: -229.67117309570312\n"
          ]
        },
        {
          "output_type": "stream",
          "name": "stderr",
          "text": [
            "Epoch 71/100 total_loss 0.0 : 100it [00:15,  6.50it/s, loss=-228]\n",
            "Epoch 72/100 total_loss 0.0 : 0it [00:00, ?it/s, loss=-222]\n",
            "Epoch : 1it [00:00, 10.28it/s]\n",
            "Epoch 72/100 total_loss 0.0 : 2it [00:02,  1.02s/it, loss=-227]"
          ]
        },
        {
          "output_type": "stream",
          "name": "stdout",
          "text": [
            "Epoch 71 mape: 3.263763673010015 & smape: 1.9999997590283374  with loss: -221.8524932861328\n"
          ]
        },
        {
          "output_type": "stream",
          "name": "stderr",
          "text": [
            "Epoch 72/100 total_loss 0.0 : 100it [00:16,  6.12it/s, loss=-229]\n",
            "Epoch 73/100 total_loss 0.0 : 0it [00:00, ?it/s, loss=-233]\n",
            "Epoch : 1it [00:00, 10.30it/s]\n",
            "Epoch 73/100 total_loss 0.0 : 2it [00:02,  1.13it/s, loss=-233]"
          ]
        },
        {
          "output_type": "stream",
          "name": "stdout",
          "text": [
            "Epoch 72 mape: 3.223784769184141 & smape: 1.9999997511499867  with loss: -232.50088500976562\n"
          ]
        },
        {
          "output_type": "stream",
          "name": "stderr",
          "text": [
            "Epoch 73/100 total_loss 0.0 : 100it [00:15,  6.26it/s, loss=-229]\n",
            "Epoch 74/100 total_loss 0.0 : 0it [00:00, ?it/s, loss=-237]\n",
            "Epoch : 1it [00:00, 10.45it/s]\n",
            "Epoch 74/100 total_loss 0.0 : 2it [00:01,  1.22it/s, loss=-234]"
          ]
        },
        {
          "output_type": "stream",
          "name": "stdout",
          "text": [
            "Epoch 73 mape: 3.258352358462929 & smape: 1.9999997539882495  with loss: -237.12005615234375\n"
          ]
        },
        {
          "output_type": "stream",
          "name": "stderr",
          "text": [
            "Epoch 74/100 total_loss 0.0 : 100it [00:15,  6.26it/s, loss=-228]\n",
            "Epoch 75/100 total_loss 0.0 : 0it [00:00, ?it/s, loss=-224]\n",
            "Epoch : 1it [00:00, 10.25it/s]\n",
            "Epoch 75/100 total_loss 0.0 : 2it [00:01,  1.41it/s, loss=-214]"
          ]
        },
        {
          "output_type": "stream",
          "name": "stdout",
          "text": [
            "Epoch 74 mape: 3.2836748628346393 & smape: 1.9999997589465488  with loss: -224.12307739257812\n"
          ]
        },
        {
          "output_type": "stream",
          "name": "stderr",
          "text": [
            "Epoch 75/100 total_loss 0.0 : 100it [00:15,  6.29it/s, loss=-228]\n",
            "Epoch 76/100 total_loss 0.0 : 0it [00:00, ?it/s, loss=-217]\n",
            "Epoch : 1it [00:00, 10.06it/s]\n",
            "Epoch 76/100 total_loss 0.0 : 2it [00:01,  1.45it/s, loss=-219]"
          ]
        },
        {
          "output_type": "stream",
          "name": "stdout",
          "text": [
            "Epoch 75 mape: 3.23093739382608 & smape: 1.9999997534568492  with loss: -216.5543212890625\n"
          ]
        },
        {
          "output_type": "stream",
          "name": "stderr",
          "text": [
            "Epoch 76/100 total_loss 0.0 : 100it [00:15,  6.46it/s, loss=-228]\n",
            "Epoch 77/100 total_loss 0.0 : 0it [00:00, ?it/s, loss=-224]\n",
            "Epoch : 0it [00:00, ?it/s]\u001b[A\n",
            "Epoch : 1it [00:00,  9.22it/s]\n",
            "Epoch 77/100 total_loss 0.0 : 2it [00:01,  1.26it/s, loss=-227]"
          ]
        },
        {
          "output_type": "stream",
          "name": "stdout",
          "text": [
            "Epoch 76 mape: 3.3049831218080565 & smape: 1.9999997616808751  with loss: -224.00283813476562\n"
          ]
        },
        {
          "output_type": "stream",
          "name": "stderr",
          "text": [
            "Epoch 77/100 total_loss 0.0 : 100it [00:15,  6.34it/s, loss=-227]\n",
            "Epoch 78/100 total_loss 0.0 : 0it [00:00, ?it/s, loss=-237]\n",
            "Epoch : 1it [00:00, 10.04it/s]\n",
            "Epoch 78/100 total_loss 0.0 : 2it [00:01,  1.53it/s, loss=-233]"
          ]
        },
        {
          "output_type": "stream",
          "name": "stdout",
          "text": [
            "Epoch 77 mape: 3.2463849738514936 & smape: 1.999999750970128  with loss: -236.96173095703125\n"
          ]
        },
        {
          "output_type": "stream",
          "name": "stderr",
          "text": [
            "Epoch 78/100 total_loss 0.0 : 100it [00:15,  6.41it/s, loss=-228]\n",
            "Epoch 79/100 total_loss 0.0 : 0it [00:00, ?it/s, loss=-225]\n",
            "Epoch : 0it [00:00, ?it/s]\u001b[A\n",
            "Epoch : 1it [00:00,  7.76it/s]\n",
            "Epoch 79/100 total_loss 0.0 : 2it [00:01,  1.21it/s, loss=-222]"
          ]
        },
        {
          "output_type": "stream",
          "name": "stdout",
          "text": [
            "Epoch 78 mape: 3.1833898772187275 & smape: 1.9999997452747722  with loss: -225.26487731933594\n"
          ]
        },
        {
          "output_type": "stream",
          "name": "stderr",
          "text": [
            "Epoch 79/100 total_loss 0.0 : 100it [00:16,  6.25it/s, loss=-227]\n",
            "Epoch 80/100 total_loss 0.0 : 0it [00:00, ?it/s, loss=-229]\n",
            "Epoch : 0it [00:00, ?it/s]\u001b[A\n",
            "Epoch : 1it [00:00,  9.70it/s]\n",
            "Epoch 80/100 total_loss 0.0 : 2it [00:02,  1.04it/s, loss=-229]"
          ]
        },
        {
          "output_type": "stream",
          "name": "stdout",
          "text": [
            "Epoch 79 mape: 3.1874345131921955 & smape: 1.9999997433751777  with loss: -229.30850219726562\n"
          ]
        },
        {
          "output_type": "stream",
          "name": "stderr",
          "text": [
            "Epoch 80/100 total_loss 0.0 : 100it [00:16,  6.18it/s, loss=-228]\n",
            "Epoch 81/100 total_loss 0.0 : 0it [00:00, ?it/s, loss=-247]\n",
            "Epoch : 1it [00:00, 10.33it/s]\n",
            "Epoch 81/100 total_loss 0.0 : 2it [00:02,  1.13it/s, loss=-236]"
          ]
        },
        {
          "output_type": "stream",
          "name": "stdout",
          "text": [
            "Epoch 80 mape: 3.1872068768807162 & smape: 1.9999997456749161  with loss: -246.51197814941406\n"
          ]
        },
        {
          "output_type": "stream",
          "name": "stderr",
          "text": [
            "Epoch 81/100 total_loss 0.0 : 100it [00:16,  6.23it/s, loss=-226]\n",
            "Epoch 82/100 total_loss 0.0 : 0it [00:00, ?it/s, loss=-228]\n",
            "Epoch : 0it [00:00, ?it/s]\u001b[A\n",
            "Epoch : 1it [00:00,  7.18it/s]\n",
            "Epoch 82/100 total_loss 0.0 : 2it [00:01,  1.36it/s, loss=-233]"
          ]
        },
        {
          "output_type": "stream",
          "name": "stdout",
          "text": [
            "Epoch 81 mape: 3.236999198838086 & smape: 1.9999997493895503  with loss: -228.23886108398438\n"
          ]
        },
        {
          "output_type": "stream",
          "name": "stderr",
          "text": [
            "Epoch 82/100 total_loss 0.0 : 32it [00:05,  7.45it/s, loss=-229]"
          ]
        }
      ],
      "source": [
        "from tqdm import tqdm\n",
        "epochs = 100\n",
        "loss_history = []\n",
        "\n",
        "accelerator = Accelerator()\n",
        "device = accelerator.device\n",
        "\n",
        "model.to(device)\n",
        "optimizer = AdamW(model.parameters(), lr=6e-4, betas=(0.9, 0.95), weight_decay=1e-1)\n",
        "\n",
        "model, optimizer, train_dataloader = accelerator.prepare(\n",
        "    model,\n",
        "    optimizer,\n",
        "    train_dataloader,\n",
        ")\n",
        "\n",
        "model.train()\n",
        "for epoch in range(epochs):\n",
        "    total_loss = 0.0\n",
        "    progress_bar = tqdm(train_dataloader, desc=f\"Epoch {epoch+1}/{epochs} total_loss {total_loss} \")\n",
        "    # for data in tqdm(train_dataloader,  desc=f\"Epoch {epoch+1}\"):\n",
        "    for idx, batch in enumerate(progress_bar):\n",
        "        # print(f'idx: {idx}')\n",
        "        # for k, v in batch.items():\n",
        "        #     print(k, v.shape, v.type())\n",
        "        optimizer.zero_grad()\n",
        "        outputs = model(\n",
        "            static_categorical_features=batch[\"static_categorical_features\"].to(device)\n",
        "            if config.num_static_categorical_features > 0\n",
        "            else None,\n",
        "            static_real_features=batch[\"static_real_features\"].to(device)\n",
        "            if config.num_static_real_features > 0\n",
        "            else None,\n",
        "            past_time_features=batch[\"past_time_features\"].to(device),\n",
        "            past_values=batch[\"past_values\"].to(device),\n",
        "            future_time_features=batch[\"future_time_features\"].to(device),\n",
        "            future_values=batch[\"future_values\"].to(device),\n",
        "            past_observed_mask=batch[\"past_observed_mask\"].to(device),\n",
        "            future_observed_mask=batch[\"future_observed_mask\"].to(device),\n",
        "        )\n",
        "        loss = outputs.loss\n",
        "        total_loss += loss.item()\n",
        "        progress_bar.set_postfix(loss=total_loss / (progress_bar.n + 1))\n",
        "\n",
        "        # Backpropagation\n",
        "        accelerator.backward(loss)\n",
        "        optimizer.step()\n",
        "\n",
        "        loss_history.append(loss.item())\n",
        "        if idx % 200 == 0:\n",
        "            mase, smape = test()\n",
        "            print(f'Epoch {epoch} mape: {mase} & smape: {smape}  with loss: {loss.item()}')"
      ]
    },
    {
      "cell_type": "code",
      "execution_count": 4,
      "id": "fe07c300-e02d-4e26-9359-1de2b5db2f6b",
      "metadata": {
        "id": "fe07c300-e02d-4e26-9359-1de2b5db2f6b",
        "colab": {
          "base_uri": "https://localhost:8080/",
          "height": 176
        },
        "outputId": "c0d873d8-c5c3-4408-99e4-56f42f644bc5"
      },
      "outputs": [
        {
          "output_type": "error",
          "ename": "NameError",
          "evalue": "name 'model' is not defined",
          "traceback": [
            "\u001b[0;31m---------------------------------------------------------------------------\u001b[0m",
            "\u001b[0;31mNameError\u001b[0m                                 Traceback (most recent call last)",
            "\u001b[0;32m/tmp/ipython-input-4-968002404.py\u001b[0m in \u001b[0;36m<cell line: 0>\u001b[0;34m()\u001b[0m\n\u001b[1;32m      3\u001b[0m \u001b[0;31m# work_dir = os.getcwd()\u001b[0m\u001b[0;34m\u001b[0m\u001b[0;34m\u001b[0m\u001b[0m\n\u001b[1;32m      4\u001b[0m \u001b[0;31m# data_dir = work_dir.replace(\"GitHub/RocketPill/ipynb-notebooks\", \"Data/\")\u001b[0m\u001b[0;34m\u001b[0m\u001b[0;34m\u001b[0m\u001b[0m\n\u001b[0;32m----> 5\u001b[0;31m \u001b[0mmodel\u001b[0m\u001b[0;34m\u001b[0m\u001b[0;34m\u001b[0m\u001b[0m\n\u001b[0m",
            "\u001b[0;31mNameError\u001b[0m: name 'model' is not defined"
          ]
        }
      ],
      "source": [
        "# import os\n",
        "# work_dir = os.getcwd()\n",
        "# work_dir = os.getcwd()\n",
        "# data_dir = work_dir.replace(\"GitHub/RocketPill/ipynb-notebooks\", \"Data/\")"
      ]
    },
    {
      "cell_type": "code",
      "execution_count": 2,
      "id": "412f5e61-0370-4e0f-9c5a-518ae490dcc0",
      "metadata": {
        "id": "412f5e61-0370-4e0f-9c5a-518ae490dcc0",
        "colab": {
          "base_uri": "https://localhost:8080/",
          "height": 211
        },
        "outputId": "91f61027-122b-4576-b5e1-b177c5212726"
      },
      "outputs": [
        {
          "output_type": "error",
          "ename": "NameError",
          "evalue": "name 'loss_history' is not defined",
          "traceback": [
            "\u001b[0;31m---------------------------------------------------------------------------\u001b[0m",
            "\u001b[0;31mNameError\u001b[0m                                 Traceback (most recent call last)",
            "\u001b[0;32m/tmp/ipython-input-2-1130438240.py\u001b[0m in \u001b[0;36m<cell line: 0>\u001b[0;34m()\u001b[0m\n\u001b[1;32m      3\u001b[0m \u001b[0;32mimport\u001b[0m \u001b[0mnumpy\u001b[0m \u001b[0;32mas\u001b[0m \u001b[0mnp\u001b[0m\u001b[0;34m\u001b[0m\u001b[0;34m\u001b[0m\u001b[0m\n\u001b[1;32m      4\u001b[0m \u001b[0;34m\u001b[0m\u001b[0m\n\u001b[0;32m----> 5\u001b[0;31m \u001b[0mloss_history\u001b[0m \u001b[0;34m=\u001b[0m \u001b[0mnp\u001b[0m\u001b[0;34m.\u001b[0m\u001b[0marray\u001b[0m\u001b[0;34m(\u001b[0m\u001b[0mloss_history\u001b[0m\u001b[0;34m)\u001b[0m\u001b[0;34m.\u001b[0m\u001b[0mreshape\u001b[0m\u001b[0;34m(\u001b[0m\u001b[0;34m-\u001b[0m\u001b[0;36m1\u001b[0m\u001b[0;34m)\u001b[0m\u001b[0;34m\u001b[0m\u001b[0;34m\u001b[0m\u001b[0m\n\u001b[0m\u001b[1;32m      6\u001b[0m \u001b[0mx\u001b[0m \u001b[0;34m=\u001b[0m \u001b[0mrange\u001b[0m\u001b[0;34m(\u001b[0m\u001b[0mloss_history\u001b[0m\u001b[0;34m.\u001b[0m\u001b[0mshape\u001b[0m\u001b[0;34m[\u001b[0m\u001b[0;36m0\u001b[0m\u001b[0;34m]\u001b[0m\u001b[0;34m)\u001b[0m\u001b[0;34m\u001b[0m\u001b[0;34m\u001b[0m\u001b[0m\n\u001b[1;32m      7\u001b[0m \u001b[0mplt\u001b[0m\u001b[0;34m.\u001b[0m\u001b[0mfigure\u001b[0m\u001b[0;34m(\u001b[0m\u001b[0mfigsize\u001b[0m\u001b[0;34m=\u001b[0m\u001b[0;34m(\u001b[0m\u001b[0;36m10\u001b[0m\u001b[0;34m,\u001b[0m \u001b[0;36m5\u001b[0m\u001b[0;34m)\u001b[0m\u001b[0;34m)\u001b[0m\u001b[0;34m\u001b[0m\u001b[0;34m\u001b[0m\u001b[0m\n",
            "\u001b[0;31mNameError\u001b[0m: name 'loss_history' is not defined"
          ]
        }
      ],
      "source": [
        "# view training\n",
        "\n",
        "\n",
        "loss_history = np.array(loss_history).reshape(-1)\n",
        "x = range(loss_history.shape[0])\n",
        "plt.figure(figsize=(10, 5))\n",
        "plt.plot(x, loss_history, label=\"train\")\n",
        "plt.title(\"Loss\", fontsize=15)\n",
        "plt.legend(loc=\"upper right\")\n",
        "plt.xlabel(\"iteration\")\n",
        "plt.ylabel(\"nll\")\n",
        "# plt.savefig(data_dir+\"hf_informer4roqeto_loss_curve_\"+str(datetime.now()).replace(\":\",\".\")+\".png\")\n",
        "plt.show()"
      ]
    },
    {
      "cell_type": "code",
      "execution_count": null,
      "id": "f39a8680-bc2b-4f15-ab80-9ac70887e7ac",
      "metadata": {
        "id": "f39a8680-bc2b-4f15-ab80-9ac70887e7ac"
      },
      "outputs": [],
      "source": [
        "from huggingface_hub import notebook_login\n",
        "notebook_login()"
      ]
    },
    {
      "cell_type": "code",
      "execution_count": null,
      "id": "498a9ab5-096c-441d-b6df-e8493066e708",
      "metadata": {
        "id": "498a9ab5-096c-441d-b6df-e8493066e708"
      },
      "outputs": [],
      "source": [
        "model.push_to_hub(\"shaddie/rocketpill_thrustcurve_informer_model\",\n",
        "                  use_auth_token=True,\n",
        "                  commit_message=\"training-time-series-thrust-curve\",\n",
        "                  private=False)"
      ]
    },
    {
      "cell_type": "code",
      "source": [],
      "metadata": {
        "id": "PIaRJ-h-1qQQ"
      },
      "id": "PIaRJ-h-1qQQ",
      "execution_count": null,
      "outputs": []
    }
  ],
  "metadata": {
    "accelerator": "GPU",
    "colab": {
      "gpuType": "T4",
      "provenance": []
    },
    "kernelspec": {
      "display_name": "Python 3",
      "name": "python3"
    },
    "language_info": {
      "codemirror_mode": {
        "name": "ipython",
        "version": 3
      },
      "file_extension": ".py",
      "mimetype": "text/x-python",
      "name": "python",
      "nbconvert_exporter": "python",
      "pygments_lexer": "ipython3",
      "version": "3.11.11"
    },
    "widgets": {
      "application/vnd.jupyter.widget-state+json": {
        "9a63123bd880498298c52b7832c6fbeb": {
          "model_module": "@jupyter-widgets/controls",
          "model_name": "HBoxModel",
          "model_module_version": "1.5.0",
          "state": {
            "_dom_classes": [],
            "_model_module": "@jupyter-widgets/controls",
            "_model_module_version": "1.5.0",
            "_model_name": "HBoxModel",
            "_view_count": null,
            "_view_module": "@jupyter-widgets/controls",
            "_view_module_version": "1.5.0",
            "_view_name": "HBoxView",
            "box_style": "",
            "children": [
              "IPY_MODEL_ce5fc12fee234427afa5f2ee99a959b0",
              "IPY_MODEL_0ea0337494bd4dfc80206bb8bcc871a3",
              "IPY_MODEL_4859cce0e81f46cabaad159ebb91e8a7"
            ],
            "layout": "IPY_MODEL_ec9c061423dd427fab30b3ae69434cd8"
          }
        },
        "ce5fc12fee234427afa5f2ee99a959b0": {
          "model_module": "@jupyter-widgets/controls",
          "model_name": "HTMLModel",
          "model_module_version": "1.5.0",
          "state": {
            "_dom_classes": [],
            "_model_module": "@jupyter-widgets/controls",
            "_model_module_version": "1.5.0",
            "_model_name": "HTMLModel",
            "_view_count": null,
            "_view_module": "@jupyter-widgets/controls",
            "_view_module_version": "1.5.0",
            "_view_name": "HTMLView",
            "description": "",
            "description_tooltip": null,
            "layout": "IPY_MODEL_4a1b4c64f4e94e43a59e9a2293e2dcec",
            "placeholder": "​",
            "style": "IPY_MODEL_bb06c3ed7c0b48038777380dab72524d",
            "value": "config.json: 100%"
          }
        },
        "0ea0337494bd4dfc80206bb8bcc871a3": {
          "model_module": "@jupyter-widgets/controls",
          "model_name": "FloatProgressModel",
          "model_module_version": "1.5.0",
          "state": {
            "_dom_classes": [],
            "_model_module": "@jupyter-widgets/controls",
            "_model_module_version": "1.5.0",
            "_model_name": "FloatProgressModel",
            "_view_count": null,
            "_view_module": "@jupyter-widgets/controls",
            "_view_module_version": "1.5.0",
            "_view_name": "ProgressView",
            "bar_style": "success",
            "description": "",
            "description_tooltip": null,
            "layout": "IPY_MODEL_94c670a9ff6b4f1682df6701ccbbbd82",
            "max": 1073,
            "min": 0,
            "orientation": "horizontal",
            "style": "IPY_MODEL_b69ca2d83544434bb1539f3714a47bb7",
            "value": 1073
          }
        },
        "4859cce0e81f46cabaad159ebb91e8a7": {
          "model_module": "@jupyter-widgets/controls",
          "model_name": "HTMLModel",
          "model_module_version": "1.5.0",
          "state": {
            "_dom_classes": [],
            "_model_module": "@jupyter-widgets/controls",
            "_model_module_version": "1.5.0",
            "_model_name": "HTMLModel",
            "_view_count": null,
            "_view_module": "@jupyter-widgets/controls",
            "_view_module_version": "1.5.0",
            "_view_name": "HTMLView",
            "description": "",
            "description_tooltip": null,
            "layout": "IPY_MODEL_0893bd0cb7be4be38234275811f92f15",
            "placeholder": "​",
            "style": "IPY_MODEL_460666d762bd4639a0949f39f37ca4e9",
            "value": " 1.07k/1.07k [00:00&lt;00:00, 34.6kB/s]"
          }
        },
        "ec9c061423dd427fab30b3ae69434cd8": {
          "model_module": "@jupyter-widgets/base",
          "model_name": "LayoutModel",
          "model_module_version": "1.2.0",
          "state": {
            "_model_module": "@jupyter-widgets/base",
            "_model_module_version": "1.2.0",
            "_model_name": "LayoutModel",
            "_view_count": null,
            "_view_module": "@jupyter-widgets/base",
            "_view_module_version": "1.2.0",
            "_view_name": "LayoutView",
            "align_content": null,
            "align_items": null,
            "align_self": null,
            "border": null,
            "bottom": null,
            "display": null,
            "flex": null,
            "flex_flow": null,
            "grid_area": null,
            "grid_auto_columns": null,
            "grid_auto_flow": null,
            "grid_auto_rows": null,
            "grid_column": null,
            "grid_gap": null,
            "grid_row": null,
            "grid_template_areas": null,
            "grid_template_columns": null,
            "grid_template_rows": null,
            "height": null,
            "justify_content": null,
            "justify_items": null,
            "left": null,
            "margin": null,
            "max_height": null,
            "max_width": null,
            "min_height": null,
            "min_width": null,
            "object_fit": null,
            "object_position": null,
            "order": null,
            "overflow": null,
            "overflow_x": null,
            "overflow_y": null,
            "padding": null,
            "right": null,
            "top": null,
            "visibility": null,
            "width": null
          }
        },
        "4a1b4c64f4e94e43a59e9a2293e2dcec": {
          "model_module": "@jupyter-widgets/base",
          "model_name": "LayoutModel",
          "model_module_version": "1.2.0",
          "state": {
            "_model_module": "@jupyter-widgets/base",
            "_model_module_version": "1.2.0",
            "_model_name": "LayoutModel",
            "_view_count": null,
            "_view_module": "@jupyter-widgets/base",
            "_view_module_version": "1.2.0",
            "_view_name": "LayoutView",
            "align_content": null,
            "align_items": null,
            "align_self": null,
            "border": null,
            "bottom": null,
            "display": null,
            "flex": null,
            "flex_flow": null,
            "grid_area": null,
            "grid_auto_columns": null,
            "grid_auto_flow": null,
            "grid_auto_rows": null,
            "grid_column": null,
            "grid_gap": null,
            "grid_row": null,
            "grid_template_areas": null,
            "grid_template_columns": null,
            "grid_template_rows": null,
            "height": null,
            "justify_content": null,
            "justify_items": null,
            "left": null,
            "margin": null,
            "max_height": null,
            "max_width": null,
            "min_height": null,
            "min_width": null,
            "object_fit": null,
            "object_position": null,
            "order": null,
            "overflow": null,
            "overflow_x": null,
            "overflow_y": null,
            "padding": null,
            "right": null,
            "top": null,
            "visibility": null,
            "width": null
          }
        },
        "bb06c3ed7c0b48038777380dab72524d": {
          "model_module": "@jupyter-widgets/controls",
          "model_name": "DescriptionStyleModel",
          "model_module_version": "1.5.0",
          "state": {
            "_model_module": "@jupyter-widgets/controls",
            "_model_module_version": "1.5.0",
            "_model_name": "DescriptionStyleModel",
            "_view_count": null,
            "_view_module": "@jupyter-widgets/base",
            "_view_module_version": "1.2.0",
            "_view_name": "StyleView",
            "description_width": ""
          }
        },
        "94c670a9ff6b4f1682df6701ccbbbd82": {
          "model_module": "@jupyter-widgets/base",
          "model_name": "LayoutModel",
          "model_module_version": "1.2.0",
          "state": {
            "_model_module": "@jupyter-widgets/base",
            "_model_module_version": "1.2.0",
            "_model_name": "LayoutModel",
            "_view_count": null,
            "_view_module": "@jupyter-widgets/base",
            "_view_module_version": "1.2.0",
            "_view_name": "LayoutView",
            "align_content": null,
            "align_items": null,
            "align_self": null,
            "border": null,
            "bottom": null,
            "display": null,
            "flex": null,
            "flex_flow": null,
            "grid_area": null,
            "grid_auto_columns": null,
            "grid_auto_flow": null,
            "grid_auto_rows": null,
            "grid_column": null,
            "grid_gap": null,
            "grid_row": null,
            "grid_template_areas": null,
            "grid_template_columns": null,
            "grid_template_rows": null,
            "height": null,
            "justify_content": null,
            "justify_items": null,
            "left": null,
            "margin": null,
            "max_height": null,
            "max_width": null,
            "min_height": null,
            "min_width": null,
            "object_fit": null,
            "object_position": null,
            "order": null,
            "overflow": null,
            "overflow_x": null,
            "overflow_y": null,
            "padding": null,
            "right": null,
            "top": null,
            "visibility": null,
            "width": null
          }
        },
        "b69ca2d83544434bb1539f3714a47bb7": {
          "model_module": "@jupyter-widgets/controls",
          "model_name": "ProgressStyleModel",
          "model_module_version": "1.5.0",
          "state": {
            "_model_module": "@jupyter-widgets/controls",
            "_model_module_version": "1.5.0",
            "_model_name": "ProgressStyleModel",
            "_view_count": null,
            "_view_module": "@jupyter-widgets/base",
            "_view_module_version": "1.2.0",
            "_view_name": "StyleView",
            "bar_color": null,
            "description_width": ""
          }
        },
        "0893bd0cb7be4be38234275811f92f15": {
          "model_module": "@jupyter-widgets/base",
          "model_name": "LayoutModel",
          "model_module_version": "1.2.0",
          "state": {
            "_model_module": "@jupyter-widgets/base",
            "_model_module_version": "1.2.0",
            "_model_name": "LayoutModel",
            "_view_count": null,
            "_view_module": "@jupyter-widgets/base",
            "_view_module_version": "1.2.0",
            "_view_name": "LayoutView",
            "align_content": null,
            "align_items": null,
            "align_self": null,
            "border": null,
            "bottom": null,
            "display": null,
            "flex": null,
            "flex_flow": null,
            "grid_area": null,
            "grid_auto_columns": null,
            "grid_auto_flow": null,
            "grid_auto_rows": null,
            "grid_column": null,
            "grid_gap": null,
            "grid_row": null,
            "grid_template_areas": null,
            "grid_template_columns": null,
            "grid_template_rows": null,
            "height": null,
            "justify_content": null,
            "justify_items": null,
            "left": null,
            "margin": null,
            "max_height": null,
            "max_width": null,
            "min_height": null,
            "min_width": null,
            "object_fit": null,
            "object_position": null,
            "order": null,
            "overflow": null,
            "overflow_x": null,
            "overflow_y": null,
            "padding": null,
            "right": null,
            "top": null,
            "visibility": null,
            "width": null
          }
        },
        "460666d762bd4639a0949f39f37ca4e9": {
          "model_module": "@jupyter-widgets/controls",
          "model_name": "DescriptionStyleModel",
          "model_module_version": "1.5.0",
          "state": {
            "_model_module": "@jupyter-widgets/controls",
            "_model_module_version": "1.5.0",
            "_model_name": "DescriptionStyleModel",
            "_view_count": null,
            "_view_module": "@jupyter-widgets/base",
            "_view_module_version": "1.2.0",
            "_view_name": "StyleView",
            "description_width": ""
          }
        },
        "f0511eb3d96d4884bff0e84faeabf3e2": {
          "model_module": "@jupyter-widgets/controls",
          "model_name": "HBoxModel",
          "model_module_version": "1.5.0",
          "state": {
            "_dom_classes": [],
            "_model_module": "@jupyter-widgets/controls",
            "_model_module_version": "1.5.0",
            "_model_name": "HBoxModel",
            "_view_count": null,
            "_view_module": "@jupyter-widgets/controls",
            "_view_module_version": "1.5.0",
            "_view_name": "HBoxView",
            "box_style": "",
            "children": [
              "IPY_MODEL_8f1a2659f3ba448da877e58a6a5ea6d5",
              "IPY_MODEL_1c2f014771aa4b60b903d6ccbdfde0f1",
              "IPY_MODEL_60da39b7232f42ffb6b3a1b4d4619039"
            ],
            "layout": "IPY_MODEL_f4de4675d386459a8b79d785d35b6aa0"
          }
        },
        "8f1a2659f3ba448da877e58a6a5ea6d5": {
          "model_module": "@jupyter-widgets/controls",
          "model_name": "HTMLModel",
          "model_module_version": "1.5.0",
          "state": {
            "_dom_classes": [],
            "_model_module": "@jupyter-widgets/controls",
            "_model_module_version": "1.5.0",
            "_model_name": "HTMLModel",
            "_view_count": null,
            "_view_module": "@jupyter-widgets/controls",
            "_view_module_version": "1.5.0",
            "_view_name": "HTMLView",
            "description": "",
            "description_tooltip": null,
            "layout": "IPY_MODEL_0181977c44f9400981a5b125d19a993b",
            "placeholder": "​",
            "style": "IPY_MODEL_b999332c1bd2440fa7bdd7ac3f635a10",
            "value": "model.safetensors: 100%"
          }
        },
        "1c2f014771aa4b60b903d6ccbdfde0f1": {
          "model_module": "@jupyter-widgets/controls",
          "model_name": "FloatProgressModel",
          "model_module_version": "1.5.0",
          "state": {
            "_dom_classes": [],
            "_model_module": "@jupyter-widgets/controls",
            "_model_module_version": "1.5.0",
            "_model_name": "FloatProgressModel",
            "_view_count": null,
            "_view_module": "@jupyter-widgets/controls",
            "_view_module_version": "1.5.0",
            "_view_name": "ProgressView",
            "bar_style": "success",
            "description": "",
            "description_tooltip": null,
            "layout": "IPY_MODEL_cd83ce8bc75147f78ff9feb66ded1e48",
            "max": 1482084,
            "min": 0,
            "orientation": "horizontal",
            "style": "IPY_MODEL_5b1b71065ea441428e9c8a20efb12195",
            "value": 1482084
          }
        },
        "60da39b7232f42ffb6b3a1b4d4619039": {
          "model_module": "@jupyter-widgets/controls",
          "model_name": "HTMLModel",
          "model_module_version": "1.5.0",
          "state": {
            "_dom_classes": [],
            "_model_module": "@jupyter-widgets/controls",
            "_model_module_version": "1.5.0",
            "_model_name": "HTMLModel",
            "_view_count": null,
            "_view_module": "@jupyter-widgets/controls",
            "_view_module_version": "1.5.0",
            "_view_name": "HTMLView",
            "description": "",
            "description_tooltip": null,
            "layout": "IPY_MODEL_7007e91aa1bf44bdb55ef65af23a20c7",
            "placeholder": "​",
            "style": "IPY_MODEL_089767e017ff4dc99cd4701fa311d21f",
            "value": " 1.48M/1.48M [00:00&lt;00:00, 8.69MB/s]"
          }
        },
        "f4de4675d386459a8b79d785d35b6aa0": {
          "model_module": "@jupyter-widgets/base",
          "model_name": "LayoutModel",
          "model_module_version": "1.2.0",
          "state": {
            "_model_module": "@jupyter-widgets/base",
            "_model_module_version": "1.2.0",
            "_model_name": "LayoutModel",
            "_view_count": null,
            "_view_module": "@jupyter-widgets/base",
            "_view_module_version": "1.2.0",
            "_view_name": "LayoutView",
            "align_content": null,
            "align_items": null,
            "align_self": null,
            "border": null,
            "bottom": null,
            "display": null,
            "flex": null,
            "flex_flow": null,
            "grid_area": null,
            "grid_auto_columns": null,
            "grid_auto_flow": null,
            "grid_auto_rows": null,
            "grid_column": null,
            "grid_gap": null,
            "grid_row": null,
            "grid_template_areas": null,
            "grid_template_columns": null,
            "grid_template_rows": null,
            "height": null,
            "justify_content": null,
            "justify_items": null,
            "left": null,
            "margin": null,
            "max_height": null,
            "max_width": null,
            "min_height": null,
            "min_width": null,
            "object_fit": null,
            "object_position": null,
            "order": null,
            "overflow": null,
            "overflow_x": null,
            "overflow_y": null,
            "padding": null,
            "right": null,
            "top": null,
            "visibility": null,
            "width": null
          }
        },
        "0181977c44f9400981a5b125d19a993b": {
          "model_module": "@jupyter-widgets/base",
          "model_name": "LayoutModel",
          "model_module_version": "1.2.0",
          "state": {
            "_model_module": "@jupyter-widgets/base",
            "_model_module_version": "1.2.0",
            "_model_name": "LayoutModel",
            "_view_count": null,
            "_view_module": "@jupyter-widgets/base",
            "_view_module_version": "1.2.0",
            "_view_name": "LayoutView",
            "align_content": null,
            "align_items": null,
            "align_self": null,
            "border": null,
            "bottom": null,
            "display": null,
            "flex": null,
            "flex_flow": null,
            "grid_area": null,
            "grid_auto_columns": null,
            "grid_auto_flow": null,
            "grid_auto_rows": null,
            "grid_column": null,
            "grid_gap": null,
            "grid_row": null,
            "grid_template_areas": null,
            "grid_template_columns": null,
            "grid_template_rows": null,
            "height": null,
            "justify_content": null,
            "justify_items": null,
            "left": null,
            "margin": null,
            "max_height": null,
            "max_width": null,
            "min_height": null,
            "min_width": null,
            "object_fit": null,
            "object_position": null,
            "order": null,
            "overflow": null,
            "overflow_x": null,
            "overflow_y": null,
            "padding": null,
            "right": null,
            "top": null,
            "visibility": null,
            "width": null
          }
        },
        "b999332c1bd2440fa7bdd7ac3f635a10": {
          "model_module": "@jupyter-widgets/controls",
          "model_name": "DescriptionStyleModel",
          "model_module_version": "1.5.0",
          "state": {
            "_model_module": "@jupyter-widgets/controls",
            "_model_module_version": "1.5.0",
            "_model_name": "DescriptionStyleModel",
            "_view_count": null,
            "_view_module": "@jupyter-widgets/base",
            "_view_module_version": "1.2.0",
            "_view_name": "StyleView",
            "description_width": ""
          }
        },
        "cd83ce8bc75147f78ff9feb66ded1e48": {
          "model_module": "@jupyter-widgets/base",
          "model_name": "LayoutModel",
          "model_module_version": "1.2.0",
          "state": {
            "_model_module": "@jupyter-widgets/base",
            "_model_module_version": "1.2.0",
            "_model_name": "LayoutModel",
            "_view_count": null,
            "_view_module": "@jupyter-widgets/base",
            "_view_module_version": "1.2.0",
            "_view_name": "LayoutView",
            "align_content": null,
            "align_items": null,
            "align_self": null,
            "border": null,
            "bottom": null,
            "display": null,
            "flex": null,
            "flex_flow": null,
            "grid_area": null,
            "grid_auto_columns": null,
            "grid_auto_flow": null,
            "grid_auto_rows": null,
            "grid_column": null,
            "grid_gap": null,
            "grid_row": null,
            "grid_template_areas": null,
            "grid_template_columns": null,
            "grid_template_rows": null,
            "height": null,
            "justify_content": null,
            "justify_items": null,
            "left": null,
            "margin": null,
            "max_height": null,
            "max_width": null,
            "min_height": null,
            "min_width": null,
            "object_fit": null,
            "object_position": null,
            "order": null,
            "overflow": null,
            "overflow_x": null,
            "overflow_y": null,
            "padding": null,
            "right": null,
            "top": null,
            "visibility": null,
            "width": null
          }
        },
        "5b1b71065ea441428e9c8a20efb12195": {
          "model_module": "@jupyter-widgets/controls",
          "model_name": "ProgressStyleModel",
          "model_module_version": "1.5.0",
          "state": {
            "_model_module": "@jupyter-widgets/controls",
            "_model_module_version": "1.5.0",
            "_model_name": "ProgressStyleModel",
            "_view_count": null,
            "_view_module": "@jupyter-widgets/base",
            "_view_module_version": "1.2.0",
            "_view_name": "StyleView",
            "bar_color": null,
            "description_width": ""
          }
        },
        "7007e91aa1bf44bdb55ef65af23a20c7": {
          "model_module": "@jupyter-widgets/base",
          "model_name": "LayoutModel",
          "model_module_version": "1.2.0",
          "state": {
            "_model_module": "@jupyter-widgets/base",
            "_model_module_version": "1.2.0",
            "_model_name": "LayoutModel",
            "_view_count": null,
            "_view_module": "@jupyter-widgets/base",
            "_view_module_version": "1.2.0",
            "_view_name": "LayoutView",
            "align_content": null,
            "align_items": null,
            "align_self": null,
            "border": null,
            "bottom": null,
            "display": null,
            "flex": null,
            "flex_flow": null,
            "grid_area": null,
            "grid_auto_columns": null,
            "grid_auto_flow": null,
            "grid_auto_rows": null,
            "grid_column": null,
            "grid_gap": null,
            "grid_row": null,
            "grid_template_areas": null,
            "grid_template_columns": null,
            "grid_template_rows": null,
            "height": null,
            "justify_content": null,
            "justify_items": null,
            "left": null,
            "margin": null,
            "max_height": null,
            "max_width": null,
            "min_height": null,
            "min_width": null,
            "object_fit": null,
            "object_position": null,
            "order": null,
            "overflow": null,
            "overflow_x": null,
            "overflow_y": null,
            "padding": null,
            "right": null,
            "top": null,
            "visibility": null,
            "width": null
          }
        },
        "089767e017ff4dc99cd4701fa311d21f": {
          "model_module": "@jupyter-widgets/controls",
          "model_name": "DescriptionStyleModel",
          "model_module_version": "1.5.0",
          "state": {
            "_model_module": "@jupyter-widgets/controls",
            "_model_module_version": "1.5.0",
            "_model_name": "DescriptionStyleModel",
            "_view_count": null,
            "_view_module": "@jupyter-widgets/base",
            "_view_module_version": "1.2.0",
            "_view_name": "StyleView",
            "description_width": ""
          }
        }
      }
    }
  },
  "nbformat": 4,
  "nbformat_minor": 5
}