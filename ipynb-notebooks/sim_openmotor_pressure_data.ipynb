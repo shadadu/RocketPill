{
 "cells": [
  {
   "cell_type": "code",
   "execution_count": 1,
   "id": "721a78ea-eba5-4fdf-b45f-90632d308453",
   "metadata": {},
   "outputs": [],
   "source": [
    "from motorlib.propellant import Propellant\n",
    "from motorlib.grain import Grain\n",
    "from motorlib.motor import Motor, MotorConfig\n",
    "from motorlib.properties import FloatProperty\n",
    "import pandas as pd"
   ]
  },
  {
   "cell_type": "code",
   "execution_count": 2,
   "id": "de11dcbe-11fe-49d3-8318-54da3a05fe77",
   "metadata": {},
   "outputs": [],
   "source": [
    "# Define propellant\n",
    "props = {\n",
    "    'name': 'MyPropellant',\n",
    "    'density': 1700,                  # kg/m^3\n",
    "    'burn_rate_a': 0.0002,            # m/s/Pa^n\n",
    "    'burn_rate_n': 0.3,               # unitless\n",
    "    'temperature_coefficient': 0.0,\n",
    "    'specific_heat_ratio': 1.2,\n",
    "    'molecular_mass': 0.025           # kg/mol\n",
    "}\n",
    "propellant = Propellant(props)"
   ]
  },
  {
   "cell_type": "code",
   "execution_count": 3,
   "id": "e80b3bad-ce64-4a6f-9b91-f555a8b485af",
   "metadata": {},
   "outputs": [],
   "source": [
    "# Define grain geometry\n",
    "grain = Grain()"
   ]
  },
  {
   "cell_type": "code",
   "execution_count": 4,
   "id": "1b5b0934-412d-4feb-93a5-4a5d58e4d771",
   "metadata": {},
   "outputs": [],
   "source": [
    "# # Define motor\n",
    "motor_config = MotorConfig()\n",
    "motor = Motor()"
   ]
  },
  {
   "cell_type": "code",
   "execution_count": 5,
   "id": "28d9a8da-1c21-44f5-bab8-41cb0b48e6d3",
   "metadata": {},
   "outputs": [
    {
     "data": {
      "text/plain": [
       "0"
      ]
     },
     "execution_count": 5,
     "metadata": {},
     "output_type": "execute_result"
    }
   ],
   "source": [
    "grain.props['length'].getValue()"
   ]
  },
  {
   "cell_type": "code",
   "execution_count": 6,
   "id": "14ef88e9-7810-4051-b139-2ec6bf05ec7c",
   "metadata": {},
   "outputs": [],
   "source": [
    "grains = []\n",
    "num_grains = 3\n",
    "for i in range(num_grains):\n",
    "    grain = Grain()\n",
    "    grain.props['diameter'] = FloatProperty(dispName='Diameter', unit='cm', minValue='0.5', maxValue='0.8')\n",
    "    grain.props['outer_diameter'] = FloatProperty(dispName='Diameter', unit='cm', minValue='0.5', maxValue='0.8')  # m\n",
    "    grain.props['inner_diameter'] = FloatProperty(dispName='Diameter', unit='cm', minValue='0.5', maxValue='0.8')  # m\n",
    "    grain.props['length'] = FloatProperty(dispName='Diameter', unit='cm', minValue='0.5', maxValue='0.8')           # m\n",
    "    grain.props['inhibit_ends'] = FloatProperty(dispName='Diameter', unit='cm', minValue='0.5', maxValue='0.8')    # typical Bates config\n",
    "    grains.append(grain)"
   ]
  },
  {
   "cell_type": "code",
   "execution_count": 7,
   "id": "f6dde933-4cbc-4d32-8a00-68de7d2b0938",
   "metadata": {},
   "outputs": [],
   "source": [
    "motor.propellant = propellant\n",
    "motor.grains = grains"
   ]
  },
  {
   "cell_type": "code",
   "execution_count": 8,
   "id": "6a9a0681-dddb-41d5-a298-9448e35a643b",
   "metadata": {},
   "outputs": [
    {
     "data": {
      "text/plain": [
       "[<motorlib.grain.Grain at 0x12d985f90>,\n",
       " <motorlib.grain.Grain at 0x12d985b50>,\n",
       " <motorlib.grain.Grain at 0x12d986150>]"
      ]
     },
     "execution_count": 8,
     "metadata": {},
     "output_type": "execute_result"
    }
   ],
   "source": [
    "motor.grains"
   ]
  },
  {
   "cell_type": "code",
   "execution_count": 9,
   "id": "7b7b073a-a3c4-45b2-accd-86b7e4009835",
   "metadata": {},
   "outputs": [
    {
     "data": {
      "text/plain": [
       "{'diameter': <motorlib.properties.FloatProperty at 0x12d95fad0>,\n",
       " 'length': <motorlib.properties.FloatProperty at 0x12d986050>,\n",
       " 'outer_diameter': <motorlib.properties.FloatProperty at 0x12d1775d0>,\n",
       " 'inner_diameter': <motorlib.properties.FloatProperty at 0x12d95fb90>,\n",
       " 'inhibit_ends': <motorlib.properties.FloatProperty at 0x12d986010>}"
      ]
     },
     "execution_count": 9,
     "metadata": {},
     "output_type": "execute_result"
    }
   ],
   "source": [
    "motor.grains[0].props"
   ]
  },
  {
   "cell_type": "code",
   "execution_count": 10,
   "id": "eec2aee4-491b-4c30-9b23-c92adc632e96",
   "metadata": {},
   "outputs": [],
   "source": [
    "# # Run simulation\n",
    "results = motor.runSimulation()"
   ]
  },
  {
   "cell_type": "code",
   "execution_count": 11,
   "id": "bb08544c-a955-4cdf-b1ae-8bc937aeb3b6",
   "metadata": {},
   "outputs": [
    {
     "data": {
      "text/plain": [
       "<motorlib.simResult.SimulationResult at 0x12d978190>"
      ]
     },
     "execution_count": 11,
     "metadata": {},
     "output_type": "execute_result"
    }
   ],
   "source": [
    "results"
   ]
  },
  {
   "cell_type": "code",
   "execution_count": 12,
   "id": "c9dca7c7-3850-4a5c-a2ba-1b7d44dfe96a",
   "metadata": {},
   "outputs": [
    {
     "ename": "ValueError",
     "evalue": "DataFrame constructor not properly called!",
     "output_type": "error",
     "traceback": [
      "\u001b[31m---------------------------------------------------------------------------\u001b[39m",
      "\u001b[31mValueError\u001b[39m                                Traceback (most recent call last)",
      "\u001b[32m/var/folders/_3/m6srhcs95fjf3ng4s8q9tj6h0000gn/T/ipykernel_16679/38937643.py\u001b[39m in \u001b[36m?\u001b[39m\u001b[34m()\u001b[39m\n\u001b[32m      1\u001b[39m \u001b[38;5;66;03m# # Convert to DataFrame and export\u001b[39;00m\n\u001b[32m----> \u001b[39m\u001b[32m2\u001b[39m df = pd.DataFrame(results)\n\u001b[32m      3\u001b[39m \u001b[38;5;66;03m# df[['Time', 'Chamber Pressure', 'Thrust']].to_csv('motor_wall_pressure.csv', index=False)\u001b[39;00m\n",
      "\u001b[32m~/miniforge3/envs/gpu_py311/lib/python3.11/site-packages/pandas/core/frame.py\u001b[39m in \u001b[36m?\u001b[39m\u001b[34m(self, data, index, columns, dtype, copy)\u001b[39m\n\u001b[32m    882\u001b[39m                 )\n\u001b[32m    883\u001b[39m         \u001b[38;5;66;03m# For data is scalar\u001b[39;00m\n\u001b[32m    884\u001b[39m         \u001b[38;5;28;01melse\u001b[39;00m:\n\u001b[32m    885\u001b[39m             \u001b[38;5;28;01mif\u001b[39;00m index \u001b[38;5;28;01mis\u001b[39;00m \u001b[38;5;28;01mNone\u001b[39;00m \u001b[38;5;28;01mor\u001b[39;00m columns \u001b[38;5;28;01mis\u001b[39;00m \u001b[38;5;28;01mNone\u001b[39;00m:\n\u001b[32m--> \u001b[39m\u001b[32m886\u001b[39m                 \u001b[38;5;28;01mraise\u001b[39;00m ValueError(\u001b[33m\"DataFrame constructor not properly called!\"\u001b[39m)\n\u001b[32m    887\u001b[39m \n\u001b[32m    888\u001b[39m             index = ensure_index(index)\n\u001b[32m    889\u001b[39m             columns = ensure_index(columns)\n",
      "\u001b[31mValueError\u001b[39m: DataFrame constructor not properly called!"
     ]
    }
   ],
   "source": [
    "# # Convert to DataFrame and export\n",
    "df = pd.DataFrame(results)\n",
    "# df[['Time', 'Chamber Pressure', 'Thrust']].to_csv('motor_wall_pressure.csv', index=False)"
   ]
  },
  {
   "cell_type": "code",
   "execution_count": null,
   "id": "394cfbd5-a10d-4de7-a8f9-94ac6ea5a1d2",
   "metadata": {},
   "outputs": [],
   "source": []
  }
 ],
 "metadata": {
  "kernelspec": {
   "display_name": "Python 3 (ipykernel)",
   "language": "python",
   "name": "python3"
  },
  "language_info": {
   "codemirror_mode": {
    "name": "ipython",
    "version": 3
   },
   "file_extension": ".py",
   "mimetype": "text/x-python",
   "name": "python",
   "nbconvert_exporter": "python",
   "pygments_lexer": "ipython3",
   "version": "3.11.13"
  }
 },
 "nbformat": 4,
 "nbformat_minor": 5
}
