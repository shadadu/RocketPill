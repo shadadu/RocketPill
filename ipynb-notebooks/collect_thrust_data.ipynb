{
 "cells": [
  {
   "cell_type": "code",
   "execution_count": 1,
   "id": "2b871f6b-7c7d-4da8-9451-1a00f41bf501",
   "metadata": {},
   "outputs": [],
   "source": [
    "import requests\n",
    "import pandas as pd\n",
    "from bs4 import BeautifulSoup\n",
    "import numpy as np\n",
    "from tqdm import tqdm\n",
    "import torch\n",
    "import torch.nn as nn\n",
    "import torch.optim as optim\n",
    "import os\n",
    "from torch.utils.data import DataLoader, TensorDataset"
   ]
  },
  {
   "cell_type": "code",
   "execution_count": 2,
   "id": "a5c643e8-1961-4b45-9be9-a68e71c3225d",
   "metadata": {},
   "outputs": [
    {
     "data": {
      "text/plain": [
       "'/Users/rckyi/Documents/GitHub/RocketPill/ipynb-notebooks'"
      ]
     },
     "execution_count": 2,
     "metadata": {},
     "output_type": "execute_result"
    }
   ],
   "source": [
    "work_dir = os.getcwd()#.replace(\"GitHub/RocketPill/ipynb-notebooks\", \"Data/\")\n",
    "work_dir"
   ]
  },
  {
   "cell_type": "code",
   "execution_count": 3,
   "id": "300ec0d4-d519-4005-832e-46bccf0276d7",
   "metadata": {},
   "outputs": [
    {
     "data": {
      "text/plain": [
       "'/Users/rckyi/Documents/Data/'"
      ]
     },
     "execution_count": 3,
     "metadata": {},
     "output_type": "execute_result"
    }
   ],
   "source": [
    "data_dir = os.getcwd().replace(\"GitHub/RocketPill/ipynb-notebooks\", \"Data/\")\n",
    "data_dir"
   ]
  },
  {
   "cell_type": "code",
   "execution_count": 4,
   "id": "dd71d853-cd48-45d6-87c0-c7b0b36af153",
   "metadata": {},
   "outputs": [
    {
     "data": {
      "text/plain": [
       "'/Users/rckyi/Documents/Data/thrust_curves_normalized.csv'"
      ]
     },
     "execution_count": 4,
     "metadata": {},
     "output_type": "execute_result"
    }
   ],
   "source": [
    "thrust_curves_data_path = data_dir + \"thrust_curves_normalized.csv\"\n",
    "thrust_curves_data_path"
   ]
  },
  {
   "cell_type": "code",
   "execution_count": 5,
   "id": "fb53560e-5db6-4dfa-b2db-5138ebe7ff2e",
   "metadata": {},
   "outputs": [
    {
     "data": {
      "text/plain": [
       "'/Users/rckyi/Documents/Deep_Learning_Models/'"
      ]
     },
     "execution_count": 5,
     "metadata": {},
     "output_type": "execute_result"
    }
   ],
   "source": [
    "models_path = os.getcwd().replace(\"GitHub/RocketPill/ipynb-notebooks\", \"Deep_Learning_Models/\") \n",
    "models_path"
   ]
  },
  {
   "cell_type": "code",
   "execution_count": 6,
   "id": "2ddfbc44-0e9a-4aa8-a492-abfcc5b0a6bd",
   "metadata": {},
   "outputs": [],
   "source": [
    "def fetch_impulse_classes():\n",
    "   \n",
    "    # URL of the Wikipedia page for motor classes\n",
    "    url = \"https://en.wikipedia.org/wiki/Model_rocket_motor_classification\"\n",
    "    \n",
    "    # Send a request to the webpage\n",
    "    response = requests.get(url)\n",
    "    # print(f'response json {response.json()}')\n",
    "    soup = BeautifulSoup(response.text, 'html.parser')\n",
    "    \n",
    "    # Find all tables\n",
    "    tables = soup.find_all('table', {'class': 'wikitable'})\n",
    "    \n",
    "    # Look for the table that contains the header \"Total impulse (N·s)\"\n",
    "    target_table = None\n",
    "    for table in tables:\n",
    "        # print(f'table text {table.}')\n",
    "        if 'impulse' in table.text:\n",
    "            target_table = table\n",
    "            break\n",
    "    # print(target_table)\n",
    "    # Parse the table into a DataFrame\n",
    "    df = pd.read_html(str(tables))[0]\n",
    "    \n",
    "    # Display the resulting DataFrame\n",
    "    # print(df['Class  (Base 26)'])\n",
    "    ls = df['Class  (Base 26)'].tolist()\n",
    "    \n",
    "    return [x for x in ls if len(x) < 10]"
   ]
  },
  {
   "cell_type": "code",
   "execution_count": 7,
   "id": "4cee7e44-5f3d-4242-8bdc-a5ada2cddfe6",
   "metadata": {},
   "outputs": [],
   "source": [
    "# 1. ThrustCurve.org API access\n",
    "BASE_URL = \"https://www.thrustcurve.org/api/v1\"\n",
    "\n",
    "def search_motors(impulse_class=\"F\"):\n",
    "    response = requests.get(f\"{BASE_URL}/search.json\", params={\"impulseClass\": impulse_class})\n",
    "    response.raise_for_status()\n",
    "    data = response.json()\n",
    "    # print(f'motor results {data.get(\"results\", [])[0]}')\n",
    "    return data.get(\"results\", [])  # not \"motors\"\n",
    "\n",
    "def download_thrust_curve(motor_id):\n",
    "    response = requests.get(f\"{BASE_URL}/download.json\", params={\"motorId\": motor_id, \"data\": \"samples\"})\n",
    "    response.raise_for_status()\n",
    "    data = response.json()\n",
    "    if \"samples\" in str(data[\"results\"]):\n",
    "        # print(f'samples found')\n",
    "        return data[\"results\"][0][\"samples\"]\n",
    "    return []"
   ]
  },
  {
   "cell_type": "code",
   "execution_count": 8,
   "id": "cc803991-b97f-4937-9662-41a9537b9df4",
   "metadata": {},
   "outputs": [],
   "source": [
    "def normalize_curve(curve):\n",
    "    # print(f'curve time: {[x.get(\"time\") for x in curve]}')\n",
    "    if not curve:\n",
    "        print(f'No curve')\n",
    "        return None\n",
    "    curve = np.array(curve)\n",
    "    time = np.asarray([x.get(\"time\") for x in curve]) # curve[:, 0]\n",
    "    thrust = np.asarray([x.get(\"thrust\") for x in curve]) # curve[:, 1]\n",
    "    time = (time - time.min()) / (time.max() - time.min())\n",
    "    thrust = thrust / thrust.max()\n",
    "    return pd.DataFrame({\"time\": time, \"thrust\": thrust})"
   ]
  },
  {
   "cell_type": "code",
   "execution_count": 9,
   "id": "5f0d4fdb-c056-4ae5-89b5-0f7eddc2e841",
   "metadata": {},
   "outputs": [],
   "source": [
    "def collect_data(impulse_class, max_motors):\n",
    "    motors = search_motors(impulse_class)\n",
    "    # print(f'motor: {motors[0]}')\n",
    "    print(f'{len(motors)} Motors found: {[x[\"motorId\"] for x in motors]}')\n",
    "    dataset = []\n",
    "    for motor in tqdm(motors[:max_motors]):\n",
    "        # print(f'motor {motor}')\n",
    "        motor_id = motor[\"motorId\"]\n",
    "        motor_name = motor.get(\"designation\", \"unknown\")\n",
    "        samples = download_thrust_curve(motor_id)\n",
    "        norm_df = normalize_curve(samples)\n",
    "        # print(f'norm df {norm_df}')\n",
    "        if norm_df is not None:\n",
    "            norm_df[\"motorId\"] = motor_id       \n",
    "            norm_df[\"motor_name\"] = motor_name\n",
    "            norm_df[\"impulse_class\"]=impulse_class\n",
    "            dataset.append(norm_df)\n",
    "            # print(f'norm_df {norm_df[\"motor_name\"]}')\n",
    "    final_df = pd.concat(dataset, ignore_index=True)\n",
    "    thrust_curves_data_path = data_dir + impulse_class +'_' + \"thrust_curves_normalized.csv\"\n",
    "    final_df.to_csv(thrust_curves_data_path, index=False)\n",
    "    print(\"Saved dataset to thrust_curves_normalized.csv\")"
   ]
  },
  {
   "cell_type": "code",
   "execution_count": 10,
   "id": "52a74a84-50c1-4c61-b44b-6b6bf8d67570",
   "metadata": {},
   "outputs": [
    {
     "name": "stdout",
     "output_type": "stream",
     "text": [
      "classes: ['Micro', '1/4A', '1/2A', 'A', 'B', 'C', 'D', 'E', 'F', 'G', 'H', 'I', 'J', 'K', 'L', 'M', 'N', 'O', 'P', 'Q', 'R', 'S', 'T', 'U', 'V', 'W', 'X', 'Y', 'Z', 'AA', 'AB', 'AC', 'AD', 'AE', 'AF', 'AG', 'AH', 'AI', 'AJ']\n",
      "IMPULSE CLASS Micro ===============================================\n",
      "Data not found for Micro impulse class\n",
      "IMPULSE CLASS 1/4A ===============================================\n",
      "0 Motors found: []\n"
     ]
    },
    {
     "name": "stderr",
     "output_type": "stream",
     "text": [
      "0it [00:00, ?it/s]"
     ]
    },
    {
     "name": "stdout",
     "output_type": "stream",
     "text": [
      "Data not found for 1/4A impulse class\n",
      "IMPULSE CLASS 1/2A ===============================================\n"
     ]
    },
    {
     "name": "stderr",
     "output_type": "stream",
     "text": [
      "\n"
     ]
    },
    {
     "name": "stdout",
     "output_type": "stream",
     "text": [
      "0 Motors found: []\n"
     ]
    },
    {
     "name": "stderr",
     "output_type": "stream",
     "text": [
      "0it [00:00, ?it/s]"
     ]
    },
    {
     "name": "stdout",
     "output_type": "stream",
     "text": [
      "Data not found for 1/2A impulse class\n",
      "IMPULSE CLASS A ===============================================\n"
     ]
    },
    {
     "name": "stderr",
     "output_type": "stream",
     "text": [
      "\n"
     ]
    },
    {
     "name": "stdout",
     "output_type": "stream",
     "text": [
      "17 Motors found: ['5f4294d20002310000000002', '5f4294d20002310000000001', '5f4294d20002310000000003', '5f4294d20002310000000004', '5f4294d20002310000000006', '5f4294d20002310000000007', '5f4294d20002310000000005', '5f4294d2000231000000038a', '5f4294d2000231000000030f', '5f4294d2000231000000000c', '5f4294d2000231000000000a', '5f4294d20002310000000404', '5f4294d20002310000000008', '5f4294d20002310000000009', '5f4294d2000231000000045b', '5f4294d2000231000000000b', '5f76951c9503a10004898852']\n"
     ]
    },
    {
     "name": "stderr",
     "output_type": "stream",
     "text": [
      "100%|██████████████████████████████████████████████████████████████████████████████████████████████████████| 17/17 [00:03<00:00,  4.85it/s]\n"
     ]
    },
    {
     "name": "stdout",
     "output_type": "stream",
     "text": [
      "Saved dataset to thrust_curves_normalized.csv\n",
      "IMPULSE CLASS B ===============================================\n",
      "12 Motors found: ['5f4294d20002310000000310', '5f4294d20002310000000010', '5f4294d2000231000000000f', '5f4294d2000231000000000d', '5f4294d20002310000000402', '5f4294d2000231000000045c', '60ac76068dc4640004c24d93', '5f4294d20002310000000012', '6623d0bcf873440002ac79dc', '5f4294d2000231000000000e', '5f7695bd9503a10004898855', '5f8b05a5d5fa3b000447e825']\n"
     ]
    },
    {
     "name": "stderr",
     "output_type": "stream",
     "text": [
      "100%|██████████████████████████████████████████████████████████████████████████████████████████████████████| 12/12 [00:02<00:00,  4.85it/s]\n"
     ]
    },
    {
     "name": "stdout",
     "output_type": "stream",
     "text": [
      "Saved dataset to thrust_curves_normalized.csv\n",
      "IMPULSE CLASS C ===============================================\n",
      "13 Motors found: ['5f4294d20002310000000014', '5f4294d20002310000000016', '5f4294d2000231000000001a', '5f4294d20002310000000015', '5f4294d20002310000000403', '5f4294d20002310000000013', '5f4294d2000231000000040c', '5f4294d20002310000000019', '5f4294d2000231000000045e', '5f7696fb9503a10004898857', '5f7d2f71606b5d00041d9aba', '5f4294d20002310000000018', '5f76974c9503a10004898858']\n"
     ]
    },
    {
     "name": "stderr",
     "output_type": "stream",
     "text": [
      "100%|██████████████████████████████████████████████████████████████████████████████████████████████████████| 13/13 [00:02<00:00,  4.83it/s]\n"
     ]
    },
    {
     "name": "stdout",
     "output_type": "stream",
     "text": [
      "Saved dataset to thrust_curves_normalized.csv\n",
      "IMPULSE CLASS D ===============================================\n",
      "20 Motors found: ['5f4294d2000231000000045f', '5f7d30aa606b5d00041d9abc', '5f4294d20002310000000020', '5f4294d2000231000000040d', '5f8b0753d5fa3b000447e835', '5f4294d2000231000000001f', '5f4294d20002310000000376', '5f4294d20002310000000024', '5f4294d2000231000000001b', '5f4294d2000231000000001c', '5f4294d20002310000000375', '5f4294d2000231000000001e', '5f4294d200023100000002e3', '5f4294d2000231000000001d', '5f4294d20002310000000022', '66a288cdd1517d00027bf3fc', '5f4294d20002310000000021', '60159ce4b94d0e00040a8402', '5f4294d20002310000000023', '5f4294d20002310000000210']\n"
     ]
    },
    {
     "name": "stderr",
     "output_type": "stream",
     "text": [
      "100%|██████████████████████████████████████████████████████████████████████████████████████████████████████| 20/20 [00:04<00:00,  4.78it/s]\n"
     ]
    },
    {
     "name": "stdout",
     "output_type": "stream",
     "text": [
      "Saved dataset to thrust_curves_normalized.csv\n",
      "IMPULSE CLASS E ===============================================\n",
      "20 Motors found: ['5f4294d200023100000003d0', '5f4294d200023100000003b8', '5f4294d200023100000003cf', '5f4294d200023100000003e3', '60159d7db94d0e00040a8404', '5f4294d20002310000000028', '5f4294d20002310000000027', '5f4294d200023100000001f9', '5f4294d200023100000003f8', '5f4294d20002310000000034', '5f4294d200023100000003e4', '5f4294d2000231000000002c', '5f4294d2000231000000030e', '5f4294d2000231000000002d', '5f4294d20002310000000032', '5f4294d2000231000000002b', '66a0d44ba8c15d000226a854', '63628c12a244550004a0cf01', '5f4294d20002310000000031', '5f4294d20002310000000026']\n"
     ]
    },
    {
     "name": "stderr",
     "output_type": "stream",
     "text": [
      "100%|██████████████████████████████████████████████████████████████████████████████████████████████████████| 20/20 [00:04<00:00,  4.80it/s]\n"
     ]
    },
    {
     "name": "stdout",
     "output_type": "stream",
     "text": [
      "Saved dataset to thrust_curves_normalized.csv\n",
      "IMPULSE CLASS F ===============================================\n",
      "20 Motors found: ['5f4294d200023100000002b8', '654b01231b5ae70002c2beae', '5f4294d200023100000003ff', '5f4294d20002310000000036', '5f4294d200023100000003b0', '5f4294d2000231000000003f', '5f4294d20002310000000460', '629ee8bae0d045000403682e', '5f4294d20002310000000461', '5f4294d200023100000001d4', '5f4294d200023100000003f2', '5f4294d20002310000000046', '5f4294d2000231000000040f', '5f4294d20002310000000045', '5f4294d2000231000000004d', '5f4294d2000231000000028d', '5f4294d20002310000000039', '5f4294d20002310000000410', '5f4294d2000231000000003c', '5f4294d20002310000000048']\n"
     ]
    },
    {
     "name": "stderr",
     "output_type": "stream",
     "text": [
      "100%|██████████████████████████████████████████████████████████████████████████████████████████████████████| 20/20 [00:04<00:00,  4.79it/s]\n"
     ]
    },
    {
     "name": "stdout",
     "output_type": "stream",
     "text": [
      "Saved dataset to thrust_curves_normalized.csv\n",
      "IMPULSE CLASS G ===============================================\n",
      "20 Motors found: ['5f4294d2000231000000005a', '5f4294d2000231000000006d', '5f4294d20002310000000400', '5f4294d200023100000002b9', '5f4294d20002310000000247', '5f4294d2000231000000005f', '5f4294d2000231000000006c', '5f4294d20002310000000050', '5f4294d20002310000000057', '5f7d3c0f606b5d00041d9f9b', '5f4294d200023100000001e2', '5f4294d20002310000000311', '5f4294d200023100000003e7', '5f4294d20002310000000059', '5f4294d20002310000000053', '5f4294d20002310000000072', '5f4294d20002310000000070', '5f4294d20002310000000054', '5f4294d20002310000000246', '5f4294d20002310000000065']\n"
     ]
    },
    {
     "name": "stderr",
     "output_type": "stream",
     "text": [
      "100%|██████████████████████████████████████████████████████████████████████████████████████████████████████| 20/20 [00:04<00:00,  4.77it/s]\n"
     ]
    },
    {
     "name": "stdout",
     "output_type": "stream",
     "text": [
      "Saved dataset to thrust_curves_normalized.csv\n",
      "IMPULSE CLASS H ===============================================\n",
      "20 Motors found: ['5f4294d20002310000000349', '5f4294d20002310000000096', '5f4294d2000231000000008f', '5f4294d20002310000000076', '5f4294d2000231000000028f', '5f4294d20002310000000299', '5f4294d2000231000000008a', '5f4294d20002310000000090', '5f4294d200023100000002bb', '5f4294d200023100000002c3', '5f4294d2000231000000037a', '5f4294d20002310000000398', '5f4294d200023100000002c7', '5f4294d20002310000000097', '5f4294d200023100000003fa', '5f4294d20002310000000083', '5f4294d2000231000000007b', '5f4294d200023100000002a6', '5f4294d2000231000000007c', '5f4294d2000231000000007a']\n"
     ]
    },
    {
     "name": "stderr",
     "output_type": "stream",
     "text": [
      "100%|██████████████████████████████████████████████████████████████████████████████████████████████████████| 20/20 [00:04<00:00,  4.81it/s]\n"
     ]
    },
    {
     "name": "stdout",
     "output_type": "stream",
     "text": [
      "Saved dataset to thrust_curves_normalized.csv\n",
      "IMPULSE CLASS I ===============================================\n",
      "20 Motors found: ['5f4294d20002310000000421', '5f4294d200023100000000b5', '5f4294d20002310000000443', '5f4294d2000231000000034d', '5f4294d20002310000000274', '5f4294d200023100000000b1', '5f4294d200023100000000bb', '5f4294d2000231000000046f', '5f4294d200023100000000dc', '5f4294d200023100000003f5', '5f4294d20002310000000284', '5f4294d200023100000000d3', '5f4294d20002310000000406', '5f4294d200023100000000ac', '5f4294d2000231000000029e', '5f4294d200023100000001e4', '5f4294d200023100000000c8', '5f4294d200023100000000bc', '5f4294d200023100000001d1', '5f4294d200023100000001d2']\n"
     ]
    },
    {
     "name": "stderr",
     "output_type": "stream",
     "text": [
      "  5%|█████▏                                                                                                 | 1/20 [00:00<00:02,  7.94it/s]"
     ]
    },
    {
     "name": "stdout",
     "output_type": "stream",
     "text": [
      "No curve\n"
     ]
    },
    {
     "name": "stderr",
     "output_type": "stream",
     "text": [
      " 20%|████████████████████▌                                                                                  | 4/20 [00:00<00:02,  5.98it/s]"
     ]
    },
    {
     "name": "stdout",
     "output_type": "stream",
     "text": [
      "No curve\n"
     ]
    },
    {
     "name": "stderr",
     "output_type": "stream",
     "text": [
      "100%|██████████████████████████████████████████████████████████████████████████████████████████████████████| 20/20 [00:04<00:00,  4.96it/s]\n"
     ]
    },
    {
     "name": "stdout",
     "output_type": "stream",
     "text": [
      "Saved dataset to thrust_curves_normalized.csv\n",
      "IMPULSE CLASS J ===============================================\n",
      "20 Motors found: ['5f4294d200023100000000f7', '5f4294d20002310000000416', '5f4294d20002310000000256', '5f4294d20002310000000101', '5f4294d200023100000000fc', '5f4294d2000231000000021d', '5f4294d20002310000000259', '5f4294d2000231000000039c', '5f4294d20002310000000388', '5f4294d2000231000000011d', '5f4294d200023100000000e9', '5f4294d200023100000003d4', '5f4294d200023100000002e8', '5f4294d2000231000000011c', '5f4294d20002310000000287', '5f4294d20002310000000121', '5f4294d200023100000000e5', '5f4294d200023100000000eb', '5f4294d20002310000000353', '5f4294d20002310000000459']\n"
     ]
    },
    {
     "name": "stderr",
     "output_type": "stream",
     "text": [
      " 95%|████████████████████████████████████████████████████████████████████████████████████████████████▉     | 19/20 [00:03<00:00,  5.46it/s]"
     ]
    },
    {
     "name": "stdout",
     "output_type": "stream",
     "text": [
      "No curve\n"
     ]
    },
    {
     "name": "stderr",
     "output_type": "stream",
     "text": [
      "100%|██████████████████████████████████████████████████████████████████████████████████████████████████████| 20/20 [00:04<00:00,  4.97it/s]\n"
     ]
    },
    {
     "name": "stdout",
     "output_type": "stream",
     "text": [
      "Saved dataset to thrust_curves_normalized.csv\n",
      "IMPULSE CLASS K ===============================================\n",
      "20 Motors found: ['5f4294d20002310000000271', '5f4294d200023100000003be', '5f4294d200023100000003c7', '5f4294d2000231000000043a', '5f4294d2000231000000012f', '627bbef01b11ab0004a4bb20', '5f4294d20002310000000147', '5f4294d20002310000000450', '5f4294d200023100000001f3', '5f4294d200023100000001c6', '5f4294d20002310000000420', '5f4294d20002310000000150', '5f7d2b90606b5d00041d9ab1', '5f4294d20002310000000279', '5f4294d200023100000002a9', '5f4294d2000231000000026d', '5f4294d20002310000000453', '5f4294d2000231000000015b', '5f4294d20002310000000139', '5f4294d20002310000000141']\n"
     ]
    },
    {
     "name": "stderr",
     "output_type": "stream",
     "text": [
      " 55%|████████████████████████████████████████████████████████                                              | 11/20 [00:02<00:01,  5.45it/s]"
     ]
    },
    {
     "name": "stdout",
     "output_type": "stream",
     "text": [
      "No curve\n"
     ]
    },
    {
     "name": "stderr",
     "output_type": "stream",
     "text": [
      "100%|██████████████████████████████████████████████████████████████████████████████████████████████████████| 20/20 [00:04<00:00,  4.94it/s]\n"
     ]
    },
    {
     "name": "stdout",
     "output_type": "stream",
     "text": [
      "Saved dataset to thrust_curves_normalized.csv\n",
      "IMPULSE CLASS L ===============================================\n",
      "20 Motors found: ['5f4294d2000231000000017b', '5f4294d20002310000000187', '5f4294d2000231000000018b', '5f4294d20002310000000169', '5f4294d20002310000000194', '5f4294d20002310000000361', '5f4294d20002310000000360', '5f4294d20002310000000418', '5f4294d200023100000002a0', '5f4294d20002310000000272', '5f4294d20002310000000305', '5f4294d20002310000000441', '5f4294d20002310000000191', '5f4294d2000231000000017a', '5f4294d2000231000000040b', '5f4294d200023100000002d4', '5f4294d20002310000000244', '5f4294d2000231000000017c', '5f4294d20002310000000294', '5f4294d200023100000002cd']\n"
     ]
    },
    {
     "name": "stderr",
     "output_type": "stream",
     "text": [
      " 35%|████████████████████████████████████                                                                   | 7/20 [00:01<00:02,  6.08it/s]"
     ]
    },
    {
     "name": "stdout",
     "output_type": "stream",
     "text": [
      "No curve\n",
      "No curve\n"
     ]
    },
    {
     "name": "stderr",
     "output_type": "stream",
     "text": [
      "100%|██████████████████████████████████████████████████████████████████████████████████████████████████████| 20/20 [00:03<00:00,  5.01it/s]\n"
     ]
    },
    {
     "name": "stdout",
     "output_type": "stream",
     "text": [
      "Saved dataset to thrust_curves_normalized.csv\n",
      "IMPULSE CLASS M ===============================================\n",
      "20 Motors found: ['5f4294d200023100000002ad', '5f4294d2000231000000019d', '5f4294d20002310000000199', '5f4294d20002310000000281', '5f4294d20002310000000431', '5f4294d2000231000000041d', '63bb66061d26f30004b4b07e', '5f4294d2000231000000024c', '5f4294d2000231000000036d', '5f4294d200023100000001e0', '5f4294d20002310000000317', '5f4294d2000231000000044c', '5f4294d20002310000000428', '5f4294d200023100000001a4', '5f4294d20002310000000316', '5f4294d200023100000002f0', '5f4294d200023100000001b5', '5f4294d20002310000000212', '5f4294d2000231000000046b', '5f4294d200023100000002fe']\n"
     ]
    },
    {
     "name": "stderr",
     "output_type": "stream",
     "text": [
      " 45%|██████████████████████████████████████████████▎                                                        | 9/20 [00:01<00:02,  5.48it/s]"
     ]
    },
    {
     "name": "stdout",
     "output_type": "stream",
     "text": [
      "No curve\n"
     ]
    },
    {
     "name": "stderr",
     "output_type": "stream",
     "text": [
      "100%|██████████████████████████████████████████████████████████████████████████████████████████████████████| 20/20 [00:04<00:00,  4.93it/s]\n"
     ]
    },
    {
     "name": "stdout",
     "output_type": "stream",
     "text": [
      "Saved dataset to thrust_curves_normalized.csv\n",
      "IMPULSE CLASS N ===============================================\n",
      "20 Motors found: ['5f4294d200023100000001b3', '5f4294d20002310000000381', '5f4294d200023100000003b3', '5f4294d200023100000001ba', '6623cf91f873440002ac6a28', '5f4294d200023100000003fe', '5f4294d2000231000000042c', '5f4294d200023100000002f8', '5f4294d200023100000001bb', '5f4294d2000231000000027f', '5f4294d200023100000003eb', '5f4294d200023100000002f2', '5f4294d200023100000001bf', '5f4294d200023100000003f4', '5f4294d200023100000001c0', '5f4294d200023100000002fc', '616e64637630450004259814', '5f4294d20002310000000200', '5f4294d2000231000000030d', '5f4294d2000231000000027e']\n"
     ]
    },
    {
     "name": "stderr",
     "output_type": "stream",
     "text": [
      "100%|██████████████████████████████████████████████████████████████████████████████████████████████████████| 20/20 [00:04<00:00,  4.85it/s]\n"
     ]
    },
    {
     "name": "stdout",
     "output_type": "stream",
     "text": [
      "Saved dataset to thrust_curves_normalized.csv\n",
      "IMPULSE CLASS O ===============================================\n",
      "13 Motors found: ['5f4294d200023100000003ee', '5f4294d2000231000000046c', '5f4294d20002310000000401', '5f4294d2000231000000042e', '5f4294d200023100000001c4', '5f4294d200023100000003ae', '5f4294d200023100000001c3', '5f4294d20002310000000216', '5f4294d200023100000003c4', '5f4294d2000231000000042f', '5f4294d2000231000000028c', '656e92d97f1a4b00027f1588', '5f4294d20002310000000215']\n"
     ]
    },
    {
     "name": "stderr",
     "output_type": "stream",
     "text": [
      " 77%|██████████████████████████████████████████████████████████████████████████████▍                       | 10/13 [00:01<00:00,  5.44it/s]"
     ]
    },
    {
     "name": "stdout",
     "output_type": "stream",
     "text": [
      "No curve\n"
     ]
    },
    {
     "name": "stderr",
     "output_type": "stream",
     "text": [
      "100%|██████████████████████████████████████████████████████████████████████████████████████████████████████| 13/13 [00:02<00:00,  4.98it/s]\n"
     ]
    },
    {
     "name": "stdout",
     "output_type": "stream",
     "text": [
      "Saved dataset to thrust_curves_normalized.csv\n",
      "IMPULSE CLASS P ===============================================\n",
      "Data not found for P impulse class\n",
      "IMPULSE CLASS Q ===============================================\n",
      "Data not found for Q impulse class\n",
      "IMPULSE CLASS R ===============================================\n",
      "Data not found for R impulse class\n",
      "IMPULSE CLASS S ===============================================\n",
      "Data not found for S impulse class\n",
      "IMPULSE CLASS T ===============================================\n",
      "Data not found for T impulse class\n",
      "IMPULSE CLASS U ===============================================\n",
      "Data not found for U impulse class\n",
      "IMPULSE CLASS V ===============================================\n",
      "Data not found for V impulse class\n",
      "IMPULSE CLASS W ===============================================\n",
      "Data not found for W impulse class\n",
      "IMPULSE CLASS X ===============================================\n",
      "Data not found for X impulse class\n",
      "IMPULSE CLASS Y ===============================================\n",
      "Data not found for Y impulse class\n",
      "IMPULSE CLASS Z ===============================================\n",
      "Data not found for Z impulse class\n",
      "IMPULSE CLASS AA ===============================================\n",
      "Data not found for AA impulse class\n",
      "IMPULSE CLASS AB ===============================================\n",
      "Data not found for AB impulse class\n",
      "IMPULSE CLASS AC ===============================================\n",
      "Data not found for AC impulse class\n",
      "IMPULSE CLASS AD ===============================================\n",
      "Data not found for AD impulse class\n",
      "IMPULSE CLASS AE ===============================================\n",
      "Data not found for AE impulse class\n",
      "IMPULSE CLASS AF ===============================================\n",
      "Data not found for AF impulse class\n",
      "IMPULSE CLASS AG ===============================================\n",
      "Data not found for AG impulse class\n",
      "IMPULSE CLASS AH ===============================================\n",
      "Data not found for AH impulse class\n",
      "IMPULSE CLASS AI ===============================================\n",
      "Data not found for AI impulse class\n",
      "IMPULSE CLASS AJ ===============================================\n",
      "Data not found for AJ impulse class\n",
      "Done fetching data\n"
     ]
    }
   ],
   "source": [
    "if __name__ == \"__main__\":\n",
    "    classes = fetch_impulse_classes()\n",
    "    print(f'classes: {classes}')\n",
    "    for c in classes:\n",
    "        print(f'IMPULSE CLASS {c} ===============================================')\n",
    "        try:\n",
    "            collect_data(c, max_motors=50)\n",
    "        except:\n",
    "            print(f'Data not found for {c} impulse class')\n",
    "            pass\n",
    "    print(f'Done fetching data')\n",
    "        "
   ]
  },
  {
   "cell_type": "code",
   "execution_count": null,
   "id": "98a3dbf4-020a-4aed-a6fe-b15ec3d28182",
   "metadata": {},
   "outputs": [],
   "source": []
  },
  {
   "cell_type": "code",
   "execution_count": null,
   "id": "781972bb-a127-4bc8-9a6b-91a32b382d34",
   "metadata": {},
   "outputs": [],
   "source": []
  },
  {
   "cell_type": "code",
   "execution_count": null,
   "id": "5b6efc2e-d47b-4bd7-8037-64d8560a329b",
   "metadata": {},
   "outputs": [],
   "source": []
  }
 ],
 "metadata": {
  "kernelspec": {
   "display_name": "gpu_torch",
   "language": "python",
   "name": "gpu_torch"
  },
  "language_info": {
   "codemirror_mode": {
    "name": "ipython",
    "version": 3
   },
   "file_extension": ".py",
   "mimetype": "text/x-python",
   "name": "python",
   "nbconvert_exporter": "python",
   "pygments_lexer": "ipython3",
   "version": "3.8.20"
  }
 },
 "nbformat": 4,
 "nbformat_minor": 5
}
