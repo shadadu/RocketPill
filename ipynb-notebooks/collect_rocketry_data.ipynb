{
 "cells": [
  {
   "cell_type": "code",
   "execution_count": 1,
   "id": "2b871f6b-7c7d-4da8-9451-1a00f41bf501",
   "metadata": {},
   "outputs": [],
   "source": [
    "import requests\n",
    "import pandas as pd\n",
    "from bs4 import BeautifulSoup\n",
    "import numpy as np\n",
    "from tqdm import tqdm\n",
    "import torch\n",
    "import torch.nn as nn\n",
    "import torch.optim as optim\n",
    "import os\n",
    "from torch.utils.data import DataLoader, TensorDataset"
   ]
  },
  {
   "cell_type": "code",
   "execution_count": 2,
   "id": "a5c643e8-1961-4b45-9be9-a68e71c3225d",
   "metadata": {},
   "outputs": [
    {
     "data": {
      "text/plain": [
       "'/Users/rckyi/Documents/GitHub/RocketPill/ipynb-notebooks'"
      ]
     },
     "execution_count": 2,
     "metadata": {},
     "output_type": "execute_result"
    }
   ],
   "source": [
    "work_dir = os.getcwd()#.replace(\"GitHub/RocketPill/ipynb-notebooks\", \"Data/\")\n",
    "# work_dir = os.getcwd().replace(\"GitHub/ipynb-notebooks\", \"Data/\")\n",
    "work_dir"
   ]
  },
  {
   "cell_type": "code",
   "execution_count": 3,
   "id": "300ec0d4-d519-4005-832e-46bccf0276d7",
   "metadata": {},
   "outputs": [
    {
     "data": {
      "text/plain": [
       "'/Users/rckyi/Documents/Data/'"
      ]
     },
     "execution_count": 3,
     "metadata": {},
     "output_type": "execute_result"
    }
   ],
   "source": [
    "data_dir = os.getcwd().replace(\"GitHub/RocketPill/ipynb-notebooks\", \"Data/\")\n",
    "data_dir"
   ]
  },
  {
   "cell_type": "code",
   "execution_count": 4,
   "id": "dd71d853-cd48-45d6-87c0-c7b0b36af153",
   "metadata": {},
   "outputs": [
    {
     "data": {
      "text/plain": [
       "'/Users/rckyi/Documents/Data/thrust_curves_normalized.csv'"
      ]
     },
     "execution_count": 4,
     "metadata": {},
     "output_type": "execute_result"
    }
   ],
   "source": [
    "thrust_curves_data_path = data_dir + \"thrust_curves_normalized.csv\"\n",
    "thrust_curves_data_path"
   ]
  },
  {
   "cell_type": "code",
   "execution_count": 5,
   "id": "fb53560e-5db6-4dfa-b2db-5138ebe7ff2e",
   "metadata": {},
   "outputs": [
    {
     "data": {
      "text/plain": [
       "'/Users/rckyi/Documents/Deep_Learning_Models/'"
      ]
     },
     "execution_count": 5,
     "metadata": {},
     "output_type": "execute_result"
    }
   ],
   "source": [
    "models_path = os.getcwd().replace(\"GitHub/RocketPill/ipynb-notebooks\", \"Deep_Learning_Models/\") \n",
    "models_path"
   ]
  },
  {
   "cell_type": "code",
   "execution_count": 6,
   "id": "2ddfbc44-0e9a-4aa8-a492-abfcc5b0a6bd",
   "metadata": {},
   "outputs": [],
   "source": [
    "def fetch_impulse_classes():\n",
    "   \n",
    "    # URL of the Wikipedia page\n",
    "    url = \"https://en.wikipedia.org/wiki/Model_rocket_motor_classification\"\n",
    "    \n",
    "    # Send a request to the webpage\n",
    "    response = requests.get(url)\n",
    "    # print(f'response json {response.json()}')\n",
    "    soup = BeautifulSoup(response.text, 'html.parser')\n",
    "    # print(f'soup {soup}')\n",
    "    \n",
    "    # Find all tables\n",
    "    tables = soup.find_all('table', {'class': 'wikitable'})\n",
    "    \n",
    "    # Look for the table that contains the header \"Total impulse (N·s)\"\n",
    "    target_table = None\n",
    "    for table in tables:\n",
    "        # print(f'table text {table.}')\n",
    "        if 'impulse' in table.text:\n",
    "            print('found')\n",
    "            target_table = table\n",
    "            break\n",
    "    # print(target_table)\n",
    "    # Parse the table into a DataFrame\n",
    "    df = pd.read_html(str(tables))[0]\n",
    "    \n",
    "    # Display the resulting DataFrame\n",
    "    # print(df['Class  (Base 26)'])\n",
    "    ls = df['Class  (Base 26)'].tolist()\n",
    "    \n",
    "    return [x for x in ls if len(x) < 10]"
   ]
  },
  {
   "cell_type": "code",
   "execution_count": 7,
   "id": "4cee7e44-5f3d-4242-8bdc-a5ada2cddfe6",
   "metadata": {},
   "outputs": [],
   "source": [
    "# 1. ThrustCurve.org API access\n",
    "BASE_URL = \"https://www.thrustcurve.org/api/v1\"\n",
    "\n",
    "def search_motors(impulse_class=\"F\"):\n",
    "    response = requests.get(f\"{BASE_URL}/search.json\", params={\"impulseClass\": impulse_class})\n",
    "    # response = requests.get(f\"{BASE_URL}/search.json\", params={})\n",
    "    response.raise_for_status()\n",
    "    data = response.json()\n",
    "    print(f'motor results {data.get(\"results\", [])[0]}')\n",
    "    return data.get(\"results\", [])  # not \"motors\"\n",
    "\n",
    "def download_thrust_curve(motor_id):\n",
    "    response = requests.get(f\"{BASE_URL}/download.json\", params={\"motorId\": motor_id, \"data\": \"samples\"})\n",
    "    response.raise_for_status()\n",
    "    data = response.json()\n",
    "    print(f'thrust data {data}')\n",
    "    # print(f'thrust data {data[\"results\"][0]}')\n",
    "    if \"samples\" in str(data[\"results\"]):\n",
    "        print(f'samples found')\n",
    "        return data[\"results\"][0][\"samples\"]\n",
    "    return []"
   ]
  },
  {
   "cell_type": "code",
   "execution_count": 8,
   "id": "cc803991-b97f-4937-9662-41a9537b9df4",
   "metadata": {},
   "outputs": [],
   "source": [
    "def normalize_curve(curve):\n",
    "    # print(f'curve time: {[x.get(\"time\") for x in curve]}')\n",
    "    if not curve:\n",
    "        print(f'No curve')\n",
    "        return None\n",
    "    curve = np.array(curve)\n",
    "    time = np.asarray([x.get(\"time\") for x in curve]) # curve[:, 0]\n",
    "    thrust = np.asarray([x.get(\"thrust\") for x in curve]) # curve[:, 1]\n",
    "    print(f'numpy time {time}')\n",
    "    print(f'numpy thrust {thrust}')\n",
    "    time = (time - time.min()) / (time.max() - time.min())\n",
    "    thrust = thrust / thrust.max()\n",
    "    return pd.DataFrame({\"time\": time, \"thrust\": thrust})"
   ]
  },
  {
   "cell_type": "code",
   "execution_count": 9,
   "id": "5f0d4fdb-c056-4ae5-89b5-0f7eddc2e841",
   "metadata": {},
   "outputs": [],
   "source": [
    "def collect_data(impulse_class, max_motors):\n",
    "    motors = search_motors(impulse_class)\n",
    "    print(f'num classes {len(classes)}')\n",
    "    dataset = []\n",
    "    for motor in tqdm(motors[:max_motors]):\n",
    "        # print(f'motor {motor}')\n",
    "        motor_id = motor[\"motorId\"]\n",
    "        motor_name = motor.get(\"designation\", \"unknown\")\n",
    "        samples = download_thrust_curve(motor_id)\n",
    "        print(f'motor_id and motor_name {motor_id} {motor_name}')\n",
    "        norm_df = normalize_curve(samples)\n",
    "        # print(f'norm df {norm_df}')\n",
    "        if norm_df is not None:\n",
    "            norm_df[\"motorId\"] = motor_id       \n",
    "            norm_df[\"motor_name\"] = motor_name\n",
    "            norm_df[\"impulse_class\"]=impulse_class\n",
    "            dataset.append(norm_df)\n",
    "            # print(f'norm_df {norm_df[\"motor_name\"]}')\n",
    "    final_df = pd.concat(dataset, ignore_index=True)\n",
    "    print(f'final_df: {final_df.columns.tolist()}')\n",
    "    # print(f'final_df rows: {final_df.shape[0]}')\n",
    "    thrust_curves_data_path = data_dir + impulse_class +'_' + \"thrust_curves_normalized.csv\"\n",
    "    final_df.to_csv(thrust_curves_data_path, index=False)\n",
    "    print(\"Saved dataset to thrust_curves_normalized.csv\")"
   ]
  },
  {
   "cell_type": "code",
   "execution_count": 10,
   "id": "52a74a84-50c1-4c61-b44b-6b6bf8d67570",
   "metadata": {},
   "outputs": [
    {
     "name": "stdout",
     "output_type": "stream",
     "text": [
      "classes: ['Micro', '1/4A', '1/2A', 'A', 'B', 'C', 'D', 'E', 'F', 'G', 'H', 'I', 'J', 'K', 'L', 'M', 'N', 'O', 'P', 'Q', 'R', 'S', 'T', 'U', 'V', 'W', 'X', 'Y', 'Z', 'AA', 'AB', 'AC', 'AD', 'AE', 'AF', 'AG', 'AH', 'AI', 'AJ']\n",
      "IMPULSE CLASS Micro ===============================================\n",
      "Data not found for Micro impulse class\n",
      "IMPULSE CLASS 1/4A ===============================================\n",
      "Data not found for 1/4A impulse class\n",
      "IMPULSE CLASS 1/2A ===============================================\n",
      "Data not found for 1/2A impulse class\n",
      "IMPULSE CLASS A ===============================================\n",
      "motor results {'motorId': '5f4294d20002310000000002', 'manufacturer': 'Quest Aerospace', 'manufacturerAbbrev': 'Quest', 'designation': 'MICRO_MAXX', 'commonName': '1/8A0.3', 'impulseClass': 'A', 'diameter': 6, 'length': 26, 'type': 'SU', 'certOrg': 'National Association of Rocketry', 'avgThrustN': 0.163, 'maxThrustN': 1.898, 'totImpulseNs': 0.135, 'burnTimeS': 0.827, 'dataFiles': 2, 'infoUrl': 'http://www.nar.org/SandT/pdf/Quest/MicroMaxx.pdf', 'totalWeightG': 1.07, 'propWeightG': 0.4, 'delays': '1', 'propInfo': 'black powder', 'sparky': False, 'updatedOn': '2019-04-17', 'availability': 'OOP'}\n",
      "num classes 39\n"
     ]
    },
    {
     "name": "stderr",
     "output_type": "stream",
     "text": [
      "  6%|██████                                                                                                 | 1/17 [00:00<00:03,  4.90it/s]"
     ]
    },
    {
     "name": "stdout",
     "output_type": "stream",
     "text": [
      "thrust data {'results': [{'motorId': '5f4294d20002310000000002', 'simfileId': '5f4294d20002e90000000820', 'format': 'RASP', 'source': 'cert', 'samples': [{'time': 0.016, 'thrust': 0.0530363}, {'time': 0.02, 'thrust': 0.0985533}, {'time': 0.024, 'thrust': 0.176654}, {'time': 0.03, 'thrust': 0.415869}, {'time': 0.032, 'thrust': 0.434918}, {'time': 0.038, 'thrust': 0.657991}, {'time': 0.052, 'thrust': 1.247306}, {'time': 0.058, 'thrust': 1.453536}, {'time': 0.064, 'thrust': 1.700872}, {'time': 0.066, 'thrust': 1.755612}, {'time': 0.07, 'thrust': 1.951716}, {'time': 0.074, 'thrust': 2.06541}, {'time': 0.076, 'thrust': 2.09889}, {'time': 0.078, 'thrust': 2.09889}, {'time': 0.08, 'thrust': 2.02811}, {'time': 0.082, 'thrust': 1.911814}, {'time': 0.084, 'thrust': 1.619262}, {'time': 0.086, 'thrust': 1.151861}, {'time': 0.088, 'thrust': 0.728272}, {'time': 0.09, 'thrust': 0.433614}, {'time': 0.092, 'thrust': 0.292953}, {'time': 0.098, 'thrust': 0.217459}, {'time': 0.154, 'thrust': 0.224377}, {'time': 0.172, 'thrust': 0.150186}, {'time': 0.196, 'thrust': 0.0998567}, {'time': 0.23, 'thrust': 0.078602}, {'time': 0.414, 'thrust': 0.0625608}, {'time': 0.7559, 'thrust': 0.082111}, {'time': 0.8219, 'thrust': 0.0607562}, {'time': 0.833, 'thrust': 0.0208536}, {'time': 0.834, 'thrust': 0}], 'infoUrl': '/simfiles/5f4294d20002e90000000820/', 'dataUrl': '/simfiles/5f4294d20002e90000000820/download/data.eng'}, {'motorId': '5f4294d20002310000000002', 'simfileId': '5f4294d20002e90000000373', 'format': 'RockSim', 'source': 'user', 'samples': [{'time': 0, 'thrust': 0}, {'time': 0.01, 'thrust': 0.24}, {'time': 0.06, 'thrust': 1.24}, {'time': 0.104199, 'thrust': 0.394366}, {'time': 0.766719, 'thrust': 0.267606}, {'time': 0.81, 'thrust': 0.14}, {'time': 0.82, 'thrust': 0}], 'infoUrl': '/simfiles/5f4294d20002e90000000373/', 'dataUrl': '/simfiles/5f4294d20002e90000000373/download/data.rse'}]}\n",
      "samples found\n",
      "motor_id and motor_name 5f4294d20002310000000002 MICRO_MAXX\n",
      "numpy time [0.016  0.02   0.024  0.03   0.032  0.038  0.052  0.058  0.064  0.066\n",
      " 0.07   0.074  0.076  0.078  0.08   0.082  0.084  0.086  0.088  0.09\n",
      " 0.092  0.098  0.154  0.172  0.196  0.23   0.414  0.7559 0.8219 0.833\n",
      " 0.834 ]\n",
      "numpy thrust [0.0530363 0.0985533 0.176654  0.415869  0.434918  0.657991  1.247306\n",
      " 1.453536  1.700872  1.755612  1.951716  2.06541   2.09889   2.09889\n",
      " 2.02811   1.911814  1.619262  1.151861  0.728272  0.433614  0.292953\n",
      " 0.217459  0.224377  0.150186  0.0998567 0.078602  0.0625608 0.082111\n",
      " 0.0607562 0.0208536 0.       ]\n"
     ]
    },
    {
     "name": "stderr",
     "output_type": "stream",
     "text": [
      " 12%|████████████                                                                                           | 2/17 [00:00<00:03,  4.86it/s]"
     ]
    },
    {
     "name": "stdout",
     "output_type": "stream",
     "text": [
      "thrust data {'results': [{'motorId': '5f4294d20002310000000001', 'simfileId': '5f4294d20002e90000000821', 'format': 'RASP', 'source': 'cert', 'samples': [{'time': 0.026, 'thrust': 0.0394607}, {'time': 0.036, 'thrust': 0.1214556}, {'time': 0.04, 'thrust': 0.206028}, {'time': 0.05, 'thrust': 0.444676}, {'time': 0.056, 'thrust': 0.680251}, {'time': 0.06, 'thrust': 0.899565}, {'time': 0.066, 'thrust': 1.358816}, {'time': 0.068, 'thrust': 1.475611}, {'time': 0.07, 'thrust': 1.56653}, {'time': 0.074, 'thrust': 1.624927}, {'time': 0.088, 'thrust': 1.190166}, {'time': 0.112, 'thrust': 0.830955}, {'time': 0.126, 'thrust': 0.439917}, {'time': 0.134, 'thrust': 0.319751}, {'time': 0.144, 'thrust': 0.248959}, {'time': 0.174, 'thrust': 0.1656754}, {'time': 0.206, 'thrust': 0.1918503}, {'time': 0.258, 'thrust': 0.1262147}, {'time': 0.342, 'thrust': 0.1601231}, {'time': 0.366, 'thrust': 0.1386081}, {'time': 0.384, 'thrust': 0.1794569}, {'time': 0.494, 'thrust': 0.218422}, {'time': 0.546, 'thrust': 0.1540751}, {'time': 0.56, 'thrust': 0.178168}, {'time': 0.608, 'thrust': 0.1523896}, {'time': 0.682, 'thrust': 0.209499}, {'time': 0.698, 'thrust': 0.1837202}, {'time': 0.712, 'thrust': 0.220206}, {'time': 0.742, 'thrust': 0.209003}, {'time': 0.768, 'thrust': 0.040353}, {'time': 0.785, 'thrust': 0}], 'infoUrl': '/simfiles/5f4294d20002e90000000821/', 'dataUrl': '/simfiles/5f4294d20002e90000000821/download/data.eng'}, {'motorId': '5f4294d20002310000000001', 'simfileId': '5f4294d20002e9000000078b', 'format': 'RASP', 'source': 'user', 'license': 'PD', 'samples': [{'time': 0.021, 'thrust': 0.015}, {'time': 0.036, 'thrust': 0.05}, {'time': 0.043, 'thrust': 0.103}, {'time': 0.049, 'thrust': 0.198}, {'time': 0.08, 'thrust': 1.636}, {'time': 0.092, 'thrust': 1.3}, {'time': 0.109, 'thrust': 0.995}, {'time': 0.124, 'thrust': 0.805}, {'time': 0.133, 'thrust': 0.442}, {'time': 0.143, 'thrust': 0.301}, {'time': 0.164, 'thrust': 0.21}, {'time': 0.186, 'thrust': 0.149}, {'time': 0.199, 'thrust': 0.183}, {'time': 0.235, 'thrust': 0.145}, {'time': 0.256, 'thrust': 0.145}, {'time': 0.293, 'thrust': 0.149}, {'time': 0.327, 'thrust': 0.164}, {'time': 0.367, 'thrust': 0.156}, {'time': 0.387, 'thrust': 0.175}, {'time': 0.409, 'thrust': 0.183}, {'time': 0.431, 'thrust': 0.191}, {'time': 0.461, 'thrust': 0.21}, {'time': 0.474, 'thrust': 0.202}, {'time': 0.49, 'thrust': 0.217}, {'time': 0.505, 'thrust': 0.175}, {'time': 0.513, 'thrust': 0.198}, {'time': 0.537, 'thrust': 0.172}, {'time': 0.553, 'thrust': 0.175}, {'time': 0.602, 'thrust': 0.156}, {'time': 0.623, 'thrust': 0.175}, {'time': 0.644, 'thrust': 0.183}, {'time': 0.674, 'thrust': 0.21}, {'time': 0.689, 'thrust': 0.191}, {'time': 0.697, 'thrust': 0.229}, {'time': 0.731, 'thrust': 0.21}, {'time': 0.753, 'thrust': 0.092}, {'time': 0.771, 'thrust': 0}], 'infoUrl': '/simfiles/5f4294d20002e9000000078b/', 'dataUrl': '/simfiles/5f4294d20002e9000000078b/download/data.eng'}, {'motorId': '5f4294d20002310000000001', 'simfileId': '5f4294d20002e90000000374', 'format': 'RockSim', 'source': 'user', 'samples': [{'time': 0, 'thrust': 0}, {'time': 0.008, 'thrust': 0.16}, {'time': 0.018, 'thrust': 0.482}, {'time': 0.024, 'thrust': 0.993}, {'time': 0.03, 'thrust': 1.534}, {'time': 0.034, 'thrust': 2.032}, {'time': 0.036, 'thrust': 2.397}, {'time': 0.04, 'thrust': 2.543}, {'time': 0.046, 'thrust': 3.025}, {'time': 0.052, 'thrust': 3.21}, {'time': 0.059, 'thrust': 2.864}, {'time': 0.069, 'thrust': 2.191}, {'time': 0.08, 'thrust': 1.094}, {'time': 0.087, 'thrust': 0.539}, {'time': 0.092, 'thrust': 0.378}, {'time': 0.106, 'thrust': 0.304}, {'time': 0.139, 'thrust': 0.26}, {'time': 0.177, 'thrust': 0.303}, {'time': 0.223, 'thrust': 0.287}, {'time': 0.258, 'thrust': 0.243}, {'time': 0.288, 'thrust': 0.198}, {'time': 0.346, 'thrust': 0.27}, {'time': 0.402, 'thrust': 0.298}, {'time': 0.411, 'thrust': 0.254}, {'time': 0.43, 'thrust': 0.312}, {'time': 0.465, 'thrust': 0.282}, {'time': 0.503, 'thrust': 0.238}, {'time': 0.516, 'thrust': 0.281}, {'time': 0.562, 'thrust': 0.28}, {'time': 0.621, 'thrust': 0.294}, {'time': 0.641, 'thrust': 0.279}, {'time': 0.647, 'thrust': 0.176}, {'time': 0.66, 'thrust': 0}], 'infoUrl': '/simfiles/5f4294d20002e90000000374/', 'dataUrl': '/simfiles/5f4294d20002e90000000374/download/data.rse'}]}\n",
      "samples found\n",
      "motor_id and motor_name 5f4294d20002310000000001 MICRO_MAXX_II\n",
      "numpy time [0.026 0.036 0.04  0.05  0.056 0.06  0.066 0.068 0.07  0.074 0.088 0.112\n",
      " 0.126 0.134 0.144 0.174 0.206 0.258 0.342 0.366 0.384 0.494 0.546 0.56\n",
      " 0.608 0.682 0.698 0.712 0.742 0.768 0.785]\n",
      "numpy thrust [0.0394607 0.1214556 0.206028  0.444676  0.680251  0.899565  1.358816\n",
      " 1.475611  1.56653   1.624927  1.190166  0.830955  0.439917  0.319751\n",
      " 0.248959  0.1656754 0.1918503 0.1262147 0.1601231 0.1386081 0.1794569\n",
      " 0.218422  0.1540751 0.178168  0.1523896 0.209499  0.1837202 0.220206\n",
      " 0.209003  0.040353  0.       ]\n",
      "thrust data {'results': [{'motorId': '5f4294d20002310000000003', 'simfileId': '5f4294d20002e9000000034b', 'format': 'RockSim', 'source': 'user', 'samples': [{'time': 0, 'thrust': 0}, {'time': 0.007, 'thrust': 0.162}, {'time': 0.023, 'thrust': 0.65}, {'time': 0.041, 'thrust': 1.463}, {'time': 0.058, 'thrust': 2.519}, {'time': 0.074, 'thrust': 3.738}, {'time': 0.079, 'thrust': 3.9}, {'time': 0.088, 'thrust': 4.915}, {'time': 0.097, 'thrust': 5.119}, {'time': 0.106, 'thrust': 5.4}, {'time': 0.11, 'thrust': 5.119}, {'time': 0.118, 'thrust': 3.981}, {'time': 0.125, 'thrust': 3.656}, {'time': 0.132, 'thrust': 3.453}, {'time': 0.136, 'thrust': 3.209}, {'time': 0.151, 'thrust': 3.169}, {'time': 0.156, 'thrust': 2.966}, {'time': 0.168, 'thrust': 2.884}, {'time': 0.18, 'thrust': 2.397}, {'time': 0.194, 'thrust': 1.625}, {'time': 0.207, 'thrust': 1.056}, {'time': 0.218, 'thrust': 0.406}, {'time': 0.23, 'thrust': 0}], 'infoUrl': '/simfiles/5f4294d20002e9000000034b/', 'dataUrl': '/simfiles/5f4294d20002e9000000034b/download/data.rse'}, {'motorId': '5f4294d20002310000000003', 'simfileId': '5f4294d20002e9000000048b', 'format': 'RASP', 'source': 'user', 'samples': [{'time': 0.007, 'thrust': 0.162}, {'time': 0.023, 'thrust': 0.65}, {'time': 0.041, 'thrust': 1.463}, {'time': 0.058, 'thrust': 2.519}, {'time': 0.074, 'thrust': 3.738}, {'time': 0.079, 'thrust': 3.9}, {'time': 0.088, 'thrust': 4.915}, {'time': 0.097, 'thrust': 5.119}, {'time': 0.106, 'thrust': 5.4}, {'time': 0.11, 'thrust': 5.119}, {'time': 0.118, 'thrust': 3.981}, {'time': 0.125, 'thrust': 3.656}, {'time': 0.132, 'thrust': 3.453}, {'time': 0.136, 'thrust': 3.209}, {'time': 0.151, 'thrust': 3.169}, {'time': 0.156, 'thrust': 2.966}, {'time': 0.168, 'thrust': 2.884}, {'time': 0.18, 'thrust': 2.397}, {'time': 0.194, 'thrust': 1.625}, {'time': 0.207, 'thrust': 1.056}, {'time': 0.218, 'thrust': 0.406}, {'time': 0.23, 'thrust': 0}], 'infoUrl': '/simfiles/5f4294d20002e9000000048b/', 'dataUrl': '/simfiles/5f4294d20002e9000000048b/download/data.eng'}]}\n",
      "samples found\n"
     ]
    },
    {
     "name": "stderr",
     "output_type": "stream",
     "text": [
      " 18%|██████████████████▏                                                                                    | 3/17 [00:00<00:02,  4.89it/s]"
     ]
    },
    {
     "name": "stdout",
     "output_type": "stream",
     "text": [
      "motor_id and motor_name 5f4294d20002310000000003 1/4A2\n",
      "numpy time [0.    0.007 0.023 0.041 0.058 0.074 0.079 0.088 0.097 0.106 0.11  0.118\n",
      " 0.125 0.132 0.136 0.151 0.156 0.168 0.18  0.194 0.207 0.218 0.23 ]\n",
      "numpy thrust [0.    0.162 0.65  1.463 2.519 3.738 3.9   4.915 5.119 5.4   5.119 3.981\n",
      " 3.656 3.453 3.209 3.169 2.966 2.884 2.397 1.625 1.056 0.406 0.   ]\n"
     ]
    },
    {
     "name": "stderr",
     "output_type": "stream",
     "text": [
      " 24%|████████████████████████▏                                                                              | 4/17 [00:00<00:02,  4.84it/s]"
     ]
    },
    {
     "name": "stdout",
     "output_type": "stream",
     "text": [
      "thrust data {'results': [{'motorId': '5f4294d20002310000000004', 'simfileId': '5f4294d20002e90000000364', 'format': 'RockSim', 'source': 'user', 'samples': [{'time': 0, 'thrust': 0}, {'time': 0.016, 'thrust': 0.243}, {'time': 0.044, 'thrust': 1.164}, {'time': 0.08, 'thrust': 2.698}, {'time': 0.088, 'thrust': 2.851}, {'time': 0.096, 'thrust': 3.312}, {'time': 0.105, 'thrust': 3.804}, {'time': 0.116, 'thrust': 4.325}, {'time': 0.129, 'thrust': 4.754}, {'time': 0.131, 'thrust': 4.754}, {'time': 0.135, 'thrust': 4.95}, {'time': 0.139, 'thrust': 4.815}, {'time': 0.143, 'thrust': 4.814}, {'time': 0.149, 'thrust': 4.66}, {'time': 0.157, 'thrust': 4.289}, {'time': 0.173, 'thrust': 3.548}, {'time': 0.187, 'thrust': 2.808}, {'time': 0.194, 'thrust': 2.592}, {'time': 0.197, 'thrust': 2.13}, {'time': 0.202, 'thrust': 1.913}, {'time': 0.206, 'thrust': 1.512}, {'time': 0.213, 'thrust': 1.389}, {'time': 0.218, 'thrust': 1.112}, {'time': 0.227, 'thrust': 0.802}, {'time': 0.236, 'thrust': 0.493}, {'time': 0.241, 'thrust': 0.277}, {'time': 0.25, 'thrust': 0}], 'infoUrl': '/simfiles/5f4294d20002e90000000364/', 'dataUrl': '/simfiles/5f4294d20002e90000000364/download/data.rse'}, {'motorId': '5f4294d20002310000000004', 'simfileId': '5f4294d20002e900000004df', 'format': 'RASP', 'source': 'user', 'samples': [{'time': 0.016, 'thrust': 0.243}, {'time': 0.044, 'thrust': 1.164}, {'time': 0.08, 'thrust': 2.698}, {'time': 0.088, 'thrust': 2.851}, {'time': 0.096, 'thrust': 3.312}, {'time': 0.105, 'thrust': 3.804}, {'time': 0.116, 'thrust': 4.325}, {'time': 0.129, 'thrust': 4.754}, {'time': 0.131, 'thrust': 4.754}, {'time': 0.135, 'thrust': 4.95}, {'time': 0.139, 'thrust': 4.815}, {'time': 0.143, 'thrust': 4.814}, {'time': 0.149, 'thrust': 4.66}, {'time': 0.157, 'thrust': 4.289}, {'time': 0.173, 'thrust': 3.548}, {'time': 0.187, 'thrust': 2.808}, {'time': 0.194, 'thrust': 2.592}, {'time': 0.197, 'thrust': 2.13}, {'time': 0.202, 'thrust': 1.913}, {'time': 0.206, 'thrust': 1.512}, {'time': 0.213, 'thrust': 1.389}, {'time': 0.218, 'thrust': 1.112}, {'time': 0.227, 'thrust': 0.802}, {'time': 0.236, 'thrust': 0.493}, {'time': 0.241, 'thrust': 0.277}, {'time': 0.25, 'thrust': 0}], 'infoUrl': '/simfiles/5f4294d20002e900000004df/', 'dataUrl': '/simfiles/5f4294d20002e900000004df/download/data.eng'}]}\n",
      "samples found\n",
      "motor_id and motor_name 5f4294d20002310000000004 1/4A3\n",
      "numpy time [0.    0.016 0.044 0.08  0.088 0.096 0.105 0.116 0.129 0.131 0.135 0.139\n",
      " 0.143 0.149 0.157 0.173 0.187 0.194 0.197 0.202 0.206 0.213 0.218 0.227\n",
      " 0.236 0.241 0.25 ]\n",
      "numpy thrust [0.    0.243 1.164 2.698 2.851 3.312 3.804 4.325 4.754 4.754 4.95  4.815\n",
      " 4.814 4.66  4.289 3.548 2.808 2.592 2.13  1.913 1.512 1.389 1.112 0.802\n",
      " 0.493 0.277 0.   ]\n"
     ]
    },
    {
     "name": "stderr",
     "output_type": "stream",
     "text": [
      " 29%|██████████████████████████████▎                                                                        | 5/17 [00:01<00:02,  4.85it/s]"
     ]
    },
    {
     "name": "stdout",
     "output_type": "stream",
     "text": [
      "thrust data {'results': [{'motorId': '5f4294d20002310000000006', 'simfileId': '5f4294d20002e90000000365', 'format': 'RockSim', 'source': 'user', 'samples': [{'time': 0, 'thrust': 0}, {'time': 0.024, 'thrust': 0.501}, {'time': 0.042, 'thrust': 1.454}, {'time': 0.064, 'thrust': 3.009}, {'time': 0.076, 'thrust': 4.062}, {'time': 0.088, 'thrust': 4.914}, {'time': 0.093, 'thrust': 5.065}, {'time': 0.103, 'thrust': 6.068}, {'time': 0.112, 'thrust': 6.87}, {'time': 0.117, 'thrust': 7.021}, {'time': 0.126, 'thrust': 7.62}, {'time': 0.137, 'thrust': 7.472}, {'time': 0.146, 'thrust': 6.87}, {'time': 0.153, 'thrust': 6.118}, {'time': 0.159, 'thrust': 5.065}, {'time': 0.166, 'thrust': 4.363}, {'time': 0.179, 'thrust': 3.66}, {'time': 0.197, 'thrust': 2.908}, {'time': 0.222, 'thrust': 2.256}, {'time': 0.25, 'thrust': 2.156}, {'time': 0.277, 'thrust': 2.106}, {'time': 0.294, 'thrust': 2.056}, {'time': 0.304, 'thrust': 2.156}, {'time': 0.316, 'thrust': 1.955}, {'time': 0.326, 'thrust': 1.554}, {'time': 0.339, 'thrust': 1.053}, {'time': 0.35, 'thrust': 0.651}, {'time': 0.36, 'thrust': 0}], 'infoUrl': '/simfiles/5f4294d20002e90000000365/', 'dataUrl': '/simfiles/5f4294d20002e90000000365/download/data.rse'}, {'motorId': '5f4294d20002310000000006', 'simfileId': '5f4294d20002e900000004e0', 'format': 'RASP', 'source': 'user', 'samples': [{'time': 0.024, 'thrust': 0.501}, {'time': 0.042, 'thrust': 1.454}, {'time': 0.064, 'thrust': 3.009}, {'time': 0.076, 'thrust': 4.062}, {'time': 0.088, 'thrust': 4.914}, {'time': 0.093, 'thrust': 5.065}, {'time': 0.103, 'thrust': 6.068}, {'time': 0.112, 'thrust': 6.87}, {'time': 0.117, 'thrust': 7.021}, {'time': 0.126, 'thrust': 7.62}, {'time': 0.137, 'thrust': 7.472}, {'time': 0.146, 'thrust': 6.87}, {'time': 0.153, 'thrust': 6.118}, {'time': 0.159, 'thrust': 5.065}, {'time': 0.166, 'thrust': 4.363}, {'time': 0.179, 'thrust': 3.66}, {'time': 0.197, 'thrust': 2.908}, {'time': 0.222, 'thrust': 2.256}, {'time': 0.25, 'thrust': 2.156}, {'time': 0.277, 'thrust': 2.106}, {'time': 0.294, 'thrust': 2.056}, {'time': 0.304, 'thrust': 2.156}, {'time': 0.316, 'thrust': 1.955}, {'time': 0.326, 'thrust': 1.554}, {'time': 0.339, 'thrust': 1.053}, {'time': 0.35, 'thrust': 0.651}, {'time': 0.36, 'thrust': 0}], 'infoUrl': '/simfiles/5f4294d20002e900000004e0/', 'dataUrl': '/simfiles/5f4294d20002e900000004e0/download/data.eng'}]}\n",
      "samples found\n",
      "motor_id and motor_name 5f4294d20002310000000006 1/2A3\n",
      "numpy time [0.    0.024 0.042 0.064 0.076 0.088 0.093 0.103 0.112 0.117 0.126 0.137\n",
      " 0.146 0.153 0.159 0.166 0.179 0.197 0.222 0.25  0.277 0.294 0.304 0.316\n",
      " 0.326 0.339 0.35  0.36 ]\n",
      "numpy thrust [0.    0.501 1.454 3.009 4.062 4.914 5.065 6.068 6.87  7.021 7.62  7.472\n",
      " 6.87  6.118 5.065 4.363 3.66  2.908 2.256 2.156 2.106 2.056 2.156 1.955\n",
      " 1.554 1.053 0.651 0.   ]\n"
     ]
    },
    {
     "name": "stderr",
     "output_type": "stream",
     "text": [
      " 35%|████████████████████████████████████▎                                                                  | 6/17 [00:01<00:02,  4.86it/s]"
     ]
    },
    {
     "name": "stdout",
     "output_type": "stream",
     "text": [
      "thrust data {'results': [{'motorId': '5f4294d20002310000000007', 'simfileId': '5f4294d20002e90000000366', 'format': 'RockSim', 'source': 'user', 'samples': [{'time': 0, 'thrust': 0}, {'time': 0.031, 'thrust': 0.404}, {'time': 0.064, 'thrust': 1.258}, {'time': 0.096, 'thrust': 2.263}, {'time': 0.124, 'thrust': 3.467}, {'time': 0.149, 'thrust': 4.72}, {'time': 0.172, 'thrust': 6.023}, {'time': 0.196, 'thrust': 7.027}, {'time': 0.21, 'thrust': 7.528}, {'time': 0.225, 'thrust': 7.86}, {'time': 0.235, 'thrust': 7.482}, {'time': 0.244, 'thrust': 6.683}, {'time': 0.254, 'thrust': 5.685}, {'time': 0.263, 'thrust': 4.487}, {'time': 0.269, 'thrust': 4.087}, {'time': 0.279, 'thrust': 3.039}, {'time': 0.29, 'thrust': 1.79}, {'time': 0.297, 'thrust': 1.042}, {'time': 0.306, 'thrust': 0.593}, {'time': 0.314, 'thrust': 0.344}, {'time': 0.33, 'thrust': 0}], 'infoUrl': '/simfiles/5f4294d20002e90000000366/', 'dataUrl': '/simfiles/5f4294d20002e90000000366/download/data.rse'}, {'motorId': '5f4294d20002310000000007', 'simfileId': '5f4294d20002e900000004e1', 'format': 'RASP', 'source': 'user', 'samples': [{'time': 0.031, 'thrust': 0.404}, {'time': 0.064, 'thrust': 1.258}, {'time': 0.096, 'thrust': 2.263}, {'time': 0.124, 'thrust': 3.467}, {'time': 0.149, 'thrust': 4.72}, {'time': 0.172, 'thrust': 6.023}, {'time': 0.196, 'thrust': 7.027}, {'time': 0.21, 'thrust': 7.528}, {'time': 0.225, 'thrust': 7.86}, {'time': 0.235, 'thrust': 7.482}, {'time': 0.244, 'thrust': 6.683}, {'time': 0.254, 'thrust': 5.685}, {'time': 0.263, 'thrust': 4.487}, {'time': 0.269, 'thrust': 4.087}, {'time': 0.279, 'thrust': 3.039}, {'time': 0.29, 'thrust': 1.79}, {'time': 0.297, 'thrust': 1.042}, {'time': 0.306, 'thrust': 0.593}, {'time': 0.314, 'thrust': 0.344}, {'time': 0.33, 'thrust': 0}], 'infoUrl': '/simfiles/5f4294d20002e900000004e1/', 'dataUrl': '/simfiles/5f4294d20002e900000004e1/download/data.eng'}]}\n",
      "samples found\n",
      "motor_id and motor_name 5f4294d20002310000000007 1/2A6\n",
      "numpy time [0.    0.031 0.064 0.096 0.124 0.149 0.172 0.196 0.21  0.225 0.235 0.244\n",
      " 0.254 0.263 0.269 0.279 0.29  0.297 0.306 0.314 0.33 ]\n",
      "numpy thrust [0.    0.404 1.258 2.263 3.467 4.72  6.023 7.027 7.528 7.86  7.482 6.683\n",
      " 5.685 4.487 4.087 3.039 1.79  1.042 0.593 0.344 0.   ]\n"
     ]
    },
    {
     "name": "stderr",
     "output_type": "stream",
     "text": [
      " 41%|██████████████████████████████████████████▍                                                            | 7/17 [00:01<00:02,  4.85it/s]"
     ]
    },
    {
     "name": "stdout",
     "output_type": "stream",
     "text": [
      "thrust data {'results': [{'motorId': '5f4294d20002310000000005', 'simfileId': '5f4294d20002e9000000034c', 'format': 'RockSim', 'source': 'user', 'samples': [{'time': 0, 'thrust': 0}, {'time': 0.007, 'thrust': 0.19}, {'time': 0.045, 'thrust': 1.494}, {'time': 0.078, 'thrust': 3.152}, {'time': 0.088, 'thrust': 3.805}, {'time': 0.093, 'thrust': 3.805}, {'time': 0.1, 'thrust': 3.97}, {'time': 0.105, 'thrust': 3.696}, {'time': 0.11, 'thrust': 3.071}, {'time': 0.117, 'thrust': 2.554}, {'time': 0.123, 'thrust': 2.582}, {'time': 0.132, 'thrust': 2.31}, {'time': 0.163, 'thrust': 2.146}, {'time': 0.2, 'thrust': 1.984}, {'time': 0.242, 'thrust': 1.902}, {'time': 0.253, 'thrust': 2.01}, {'time': 0.275, 'thrust': 1.929}, {'time': 0.342, 'thrust': 1.929}, {'time': 0.403, 'thrust': 1.929}, {'time': 0.41, 'thrust': 1.848}, {'time': 0.42, 'thrust': 1.902}, {'time': 0.467, 'thrust': 1.902}, {'time': 0.528, 'thrust': 1.929}, {'time': 0.565, 'thrust': 1.929}, {'time': 0.58, 'thrust': 1.902}, {'time': 0.593, 'thrust': 1.848}, {'time': 0.603, 'thrust': 1.657}, {'time': 0.61, 'thrust': 1.141}, {'time': 0.615, 'thrust': 0.597}, {'time': 0.622, 'thrust': 0.244}, {'time': 0.63, 'thrust': 0}], 'infoUrl': '/simfiles/5f4294d20002e9000000034c/', 'dataUrl': '/simfiles/5f4294d20002e9000000034c/download/data.rse'}, {'motorId': '5f4294d20002310000000005', 'simfileId': '5f4294d20002e9000000048c', 'format': 'RASP', 'source': 'user', 'samples': [{'time': 0.007, 'thrust': 0.19}, {'time': 0.045, 'thrust': 1.494}, {'time': 0.078, 'thrust': 3.152}, {'time': 0.088, 'thrust': 3.805}, {'time': 0.093, 'thrust': 3.805}, {'time': 0.1, 'thrust': 3.97}, {'time': 0.105, 'thrust': 3.696}, {'time': 0.11, 'thrust': 3.071}, {'time': 0.117, 'thrust': 2.554}, {'time': 0.123, 'thrust': 2.582}, {'time': 0.132, 'thrust': 2.31}, {'time': 0.163, 'thrust': 2.146}, {'time': 0.2, 'thrust': 1.984}, {'time': 0.242, 'thrust': 1.902}, {'time': 0.253, 'thrust': 2.01}, {'time': 0.275, 'thrust': 1.929}, {'time': 0.342, 'thrust': 1.929}, {'time': 0.403, 'thrust': 1.929}, {'time': 0.41, 'thrust': 1.848}, {'time': 0.42, 'thrust': 1.902}, {'time': 0.467, 'thrust': 1.902}, {'time': 0.528, 'thrust': 1.929}, {'time': 0.565, 'thrust': 1.929}, {'time': 0.58, 'thrust': 1.902}, {'time': 0.593, 'thrust': 1.848}, {'time': 0.603, 'thrust': 1.657}, {'time': 0.61, 'thrust': 1.141}, {'time': 0.615, 'thrust': 0.597}, {'time': 0.622, 'thrust': 0.244}, {'time': 0.63, 'thrust': 0}], 'infoUrl': '/simfiles/5f4294d20002e9000000048c/', 'dataUrl': '/simfiles/5f4294d20002e9000000048c/download/data.eng'}]}\n",
      "samples found\n",
      "motor_id and motor_name 5f4294d20002310000000005 1/2A2\n",
      "numpy time [0.    0.007 0.045 0.078 0.088 0.093 0.1   0.105 0.11  0.117 0.123 0.132\n",
      " 0.163 0.2   0.242 0.253 0.275 0.342 0.403 0.41  0.42  0.467 0.528 0.565\n",
      " 0.58  0.593 0.603 0.61  0.615 0.622 0.63 ]\n",
      "numpy thrust [0.    0.19  1.494 3.152 3.805 3.805 3.97  3.696 3.071 2.554 2.582 2.31\n",
      " 2.146 1.984 1.902 2.01  1.929 1.929 1.929 1.848 1.902 1.902 1.929 1.929\n",
      " 1.902 1.848 1.657 1.141 0.597 0.244 0.   ]\n"
     ]
    },
    {
     "name": "stderr",
     "output_type": "stream",
     "text": [
      " 47%|████████████████████████████████████████████████▍                                                      | 8/17 [00:01<00:01,  4.85it/s]"
     ]
    },
    {
     "name": "stdout",
     "output_type": "stream",
     "text": [
      "thrust data {'results': [{'motorId': '5f4294d2000231000000038a', 'simfileId': '5f4294d20002e900000007f5', 'format': 'RASP', 'source': 'cert', 'samples': [{'time': 0.0925926, 'thrust': 0.494186}, {'time': 0.123457, 'thrust': 0.988372}, {'time': 0.192901, 'thrust': 2.73256}, {'time': 0.243056, 'thrust': 1.51163}, {'time': 0.25463, 'thrust': 1.2936}, {'time': 0.281636, 'thrust': 1.13372}, {'time': 0.320216, 'thrust': 1.03198}, {'time': 0.37037, 'thrust': 0.901163}, {'time': 0.401235, 'thrust': 0.799419}, {'time': 0.455247, 'thrust': 0.843023}, {'time': 0.505401, 'thrust': 0.799419}, {'time': 0.748457, 'thrust': 0.784884}, {'time': 0.841049, 'thrust': 0.799419}, {'time': 0.914352, 'thrust': 0.65407}, {'time': 1.00309, 'thrust': 0.712209}, {'time': 1.25386, 'thrust': 0.625}, {'time': 1.50077, 'thrust': 0.697674}, {'time': 1.7554, 'thrust': 0.741279}, {'time': 2.00231, 'thrust': 0.770349}, {'time': 2.05633, 'thrust': 0.741279}, {'time': 2.07562, 'thrust': 0.56686}, {'time': 2.1, 'thrust': 0}], 'infoUrl': '/simfiles/5f4294d20002e900000007f5/', 'dataUrl': '/simfiles/5f4294d20002e900000007f5/download/data.eng'}]}\n",
      "samples found\n",
      "motor_id and motor_name 5f4294d2000231000000038a A3T\n",
      "numpy time [0.0925926 0.123457  0.192901  0.243056  0.25463   0.281636  0.320216\n",
      " 0.37037   0.401235  0.455247  0.505401  0.748457  0.841049  0.914352\n",
      " 1.00309   1.25386   1.50077   1.7554    2.00231   2.05633   2.07562\n",
      " 2.1      ]\n",
      "numpy thrust [0.494186 0.988372 2.73256  1.51163  1.2936   1.13372  1.03198  0.901163\n",
      " 0.799419 0.843023 0.799419 0.784884 0.799419 0.65407  0.712209 0.625\n",
      " 0.697674 0.741279 0.770349 0.741279 0.56686  0.      ]\n"
     ]
    },
    {
     "name": "stderr",
     "output_type": "stream",
     "text": [
      " 53%|██████████████████████████████████████████████████████▌                                                | 9/17 [00:01<00:01,  4.85it/s]"
     ]
    },
    {
     "name": "stdout",
     "output_type": "stream",
     "text": [
      "thrust data {'results': [{'motorId': '5f4294d2000231000000030f', 'simfileId': '5f4294d20002e900000006d7', 'format': 'RASP', 'source': 'cert', 'samples': [{'time': 0.073, 'thrust': 2.139}, {'time': 0.085, 'thrust': 2.599}, {'time': 0.097, 'thrust': 3.317}, {'time': 0.11, 'thrust': 4.035}, {'time': 0.122, 'thrust': 4.34}, {'time': 0.135, 'thrust': 4.955}, {'time': 0.147, 'thrust': 5.569}, {'time': 0.16, 'thrust': 6.132}, {'time': 0.173, 'thrust': 6.85}, {'time': 0.185, 'thrust': 7.361}, {'time': 0.197, 'thrust': 7.976}, {'time': 0.21, 'thrust': 8.281}, {'time': 0.222, 'thrust': 8.741}, {'time': 0.235, 'thrust': 9.407}, {'time': 0.247, 'thrust': 9.712}, {'time': 0.26, 'thrust': 11.14}, {'time': 0.273, 'thrust': 10.063}, {'time': 0.285, 'thrust': 8.768}, {'time': 0.297, 'thrust': 6.647}, {'time': 0.31, 'thrust': 5.042}, {'time': 0.322, 'thrust': 3.953}, {'time': 0.335, 'thrust': 3.019}, {'time': 0.347, 'thrust': 2.136}, {'time': 0.36, 'thrust': 1.512}, {'time': 0.372, 'thrust': 1.043}, {'time': 0.38, 'thrust': 0}], 'infoUrl': '/simfiles/5f4294d20002e900000006d7/', 'dataUrl': '/simfiles/5f4294d20002e900000006d7/download/data.eng'}]}\n",
      "samples found\n",
      "motor_id and motor_name 5f4294d2000231000000030f A8-3\n",
      "numpy time [0.073 0.085 0.097 0.11  0.122 0.135 0.147 0.16  0.173 0.185 0.197 0.21\n",
      " 0.222 0.235 0.247 0.26  0.273 0.285 0.297 0.31  0.322 0.335 0.347 0.36\n",
      " 0.372 0.38 ]\n",
      "numpy thrust [ 2.139  2.599  3.317  4.035  4.34   4.955  5.569  6.132  6.85   7.361\n",
      "  7.976  8.281  8.741  9.407  9.712 11.14  10.063  8.768  6.647  5.042\n",
      "  3.953  3.019  2.136  1.512  1.043  0.   ]\n"
     ]
    },
    {
     "name": "stderr",
     "output_type": "stream",
     "text": [
      " 59%|████████████████████████████████████████████████████████████                                          | 10/17 [00:02<00:01,  4.84it/s]"
     ]
    },
    {
     "name": "stdout",
     "output_type": "stream",
     "text": [
      "thrust data {'results': [{'motorId': '5f4294d2000231000000000c', 'simfileId': '624aff26a49a690004b83002', 'format': 'RASP', 'source': 'cert', 'samples': [{'time': 0.016, 'thrust': 0.492}, {'time': 0.04, 'thrust': 0.752}, {'time': 0.062, 'thrust': 0.962}, {'time': 0.078, 'thrust': 2.051}, {'time': 0.096, 'thrust': 2.858}, {'time': 0.122, 'thrust': 4.611}, {'time': 0.138, 'thrust': 6.054}, {'time': 0.162, 'thrust': 8.1}, {'time': 0.18, 'thrust': 9.502}, {'time': 0.198, 'thrust': 9.74}, {'time': 0.212, 'thrust': 8.204}, {'time': 0.224, 'thrust': 4.53}, {'time': 0.238, 'thrust': 2.054}, {'time': 0.268, 'thrust': 1.414}, {'time': 0.292, 'thrust': 1.385}, {'time': 0.324, 'thrust': 1.067}, {'time': 0.364, 'thrust': 1.099}, {'time': 0.396, 'thrust': 0.957}, {'time': 0.446, 'thrust': 0.995}, {'time': 0.49, 'thrust': 0.901}, {'time': 0.574, 'thrust': 0.909}, {'time': 0.676, 'thrust': 0.909}, {'time': 0.782, 'thrust': 1.031}, {'time': 0.886, 'thrust': 1.048}, {'time': 0.98, 'thrust': 1.029}, {'time': 1.006, 'thrust': 0.995}, {'time': 1.038, 'thrust': 1.049}, {'time': 1.05, 'thrust': 0.741}, {'time': 1.06, 'thrust': 0}], 'infoUrl': '/simfiles/624aff26a49a690004b83002/', 'dataUrl': '/simfiles/624aff26a49a690004b83002/download/data.eng'}, {'motorId': '5f4294d2000231000000000c', 'simfileId': '5f4294d20002e90000000369', 'format': 'RockSim', 'source': 'user', 'samples': [{'time': 0, 'thrust': 0}, {'time': 0.026, 'thrust': 0.478}, {'time': 0.055, 'thrust': 1.919}, {'time': 0.093, 'thrust': 4.513}, {'time': 0.124, 'thrust': 8.165}, {'time': 0.146, 'thrust': 10.956}, {'time': 0.166, 'thrust': 12.64}, {'time': 0.179, 'thrust': 11.046}, {'time': 0.194, 'thrust': 7.966}, {'time': 0.203, 'thrust': 6.042}, {'time': 0.209, 'thrust': 3.154}, {'time': 0.225, 'thrust': 1.421}, {'time': 0.26, 'thrust': 1.225}, {'time': 0.333, 'thrust': 1.41}, {'time': 0.456, 'thrust': 1.206}, {'time': 0.575, 'thrust': 1.195}, {'time': 0.663, 'thrust': 1.282}, {'time': 0.76, 'thrust': 1.273}, {'time': 0.811, 'thrust': 1.268}, {'time': 0.828, 'thrust': 0.689}, {'time': 0.85, 'thrust': 0}], 'infoUrl': '/simfiles/5f4294d20002e90000000369/', 'dataUrl': '/simfiles/5f4294d20002e90000000369/download/data.rse'}, {'motorId': '5f4294d2000231000000000c', 'simfileId': '5f4294d20002e900000004e4', 'format': 'RASP', 'source': 'user', 'samples': [{'time': 0.026, 'thrust': 0.478}, {'time': 0.055, 'thrust': 1.919}, {'time': 0.093, 'thrust': 4.513}, {'time': 0.124, 'thrust': 8.165}, {'time': 0.146, 'thrust': 10.956}, {'time': 0.166, 'thrust': 12.64}, {'time': 0.179, 'thrust': 11.046}, {'time': 0.194, 'thrust': 7.966}, {'time': 0.203, 'thrust': 6.042}, {'time': 0.209, 'thrust': 3.154}, {'time': 0.225, 'thrust': 1.421}, {'time': 0.26, 'thrust': 1.225}, {'time': 0.333, 'thrust': 1.41}, {'time': 0.456, 'thrust': 1.206}, {'time': 0.575, 'thrust': 1.195}, {'time': 0.663, 'thrust': 1.282}, {'time': 0.76, 'thrust': 1.273}, {'time': 0.811, 'thrust': 1.268}, {'time': 0.828, 'thrust': 0.689}, {'time': 0.85, 'thrust': 0}], 'infoUrl': '/simfiles/5f4294d20002e900000004e4/', 'dataUrl': '/simfiles/5f4294d20002e900000004e4/download/data.eng'}]}\n",
      "samples found\n",
      "motor_id and motor_name 5f4294d2000231000000000c A10\n",
      "numpy time [0.016 0.04  0.062 0.078 0.096 0.122 0.138 0.162 0.18  0.198 0.212 0.224\n",
      " 0.238 0.268 0.292 0.324 0.364 0.396 0.446 0.49  0.574 0.676 0.782 0.886\n",
      " 0.98  1.006 1.038 1.05  1.06 ]\n",
      "numpy thrust [0.492 0.752 0.962 2.051 2.858 4.611 6.054 8.1   9.502 9.74  8.204 4.53\n",
      " 2.054 1.414 1.385 1.067 1.099 0.957 0.995 0.901 0.909 0.909 1.031 1.048\n",
      " 1.029 0.995 1.049 0.741 0.   ]\n"
     ]
    },
    {
     "name": "stderr",
     "output_type": "stream",
     "text": [
      " 65%|██████████████████████████████████████████████████████████████████                                    | 11/17 [00:02<00:01,  4.85it/s]"
     ]
    },
    {
     "name": "stdout",
     "output_type": "stream",
     "text": [
      "thrust data {'results': [{'motorId': '5f4294d2000231000000000a', 'simfileId': '5f4294d20002e90000000375', 'format': 'RockSim', 'source': 'user', 'samples': [{'time': 0, 'thrust': 0}, {'time': 0.1, 'thrust': 4.8}, {'time': 0.2, 'thrust': 11.82}, {'time': 0.23, 'thrust': 7.9}, {'time': 0.3, 'thrust': 4.8}, {'time': 0.41, 'thrust': 0}], 'infoUrl': '/simfiles/5f4294d20002e90000000375/', 'dataUrl': '/simfiles/5f4294d20002e90000000375/download/data.rse'}, {'motorId': '5f4294d2000231000000000a', 'simfileId': '5f4294d20002e90000000508', 'format': 'RASP', 'source': 'user', 'samples': [{'time': 0.1, 'thrust': 4.8}, {'time': 0.2, 'thrust': 11.82}, {'time': 0.23, 'thrust': 7.9}, {'time': 0.3, 'thrust': 4.8}, {'time': 0.41, 'thrust': 0}], 'infoUrl': '/simfiles/5f4294d20002e90000000508/', 'dataUrl': '/simfiles/5f4294d20002e90000000508/download/data.eng'}]}\n",
      "samples found\n",
      "motor_id and motor_name 5f4294d2000231000000000a A6\n",
      "numpy time [0.   0.1  0.2  0.23 0.3  0.41]\n",
      "numpy thrust [ 0.    4.8  11.82  7.9   4.8   0.  ]\n"
     ]
    },
    {
     "name": "stderr",
     "output_type": "stream",
     "text": [
      " 71%|████████████████████████████████████████████████████████████████████████                              | 12/17 [00:02<00:01,  4.86it/s]"
     ]
    },
    {
     "name": "stdout",
     "output_type": "stream",
     "text": [
      "thrust data {'results': [{'motorId': '5f4294d20002310000000404', 'simfileId': '5f4294d20002e900000007f2', 'format': 'RockSim', 'source': 'mfr', 'samples': [{'time': 0, 'thrust': 0}, {'time': 0.0806184, 'thrust': 0.403361}, {'time': 0.13915, 'thrust': 1.31092}, {'time': 0.213694, 'thrust': 3.04202}, {'time': 0.399779, 'thrust': 8.70588}, {'time': 0.581999, 'thrust': 2.30252}, {'time': 0.631143, 'thrust': 1.15966}, {'time': 0.685257, 'thrust': 0.352941}, {'time': 0.737162, 'thrust': 0.0168067}], 'infoUrl': '/simfiles/5f4294d20002e900000007f2/', 'dataUrl': '/simfiles/5f4294d20002e900000007f2/download/data.rse'}]}\n",
      "samples found\n",
      "motor_id and motor_name 5f4294d20002310000000404 SCR-A8\n",
      "numpy time [0.        0.0806184 0.13915   0.213694  0.399779  0.581999  0.631143\n",
      " 0.685257  0.737162 ]\n",
      "numpy thrust [0.        0.403361  1.31092   3.04202   8.70588   2.30252   1.15966\n",
      " 0.352941  0.0168067]\n"
     ]
    },
    {
     "name": "stderr",
     "output_type": "stream",
     "text": [
      " 76%|██████████████████████████████████████████████████████████████████████████████                        | 13/17 [00:02<00:00,  4.83it/s]"
     ]
    },
    {
     "name": "stdout",
     "output_type": "stream",
     "text": [
      "thrust data {'results': [{'motorId': '5f4294d20002310000000008', 'simfileId': '5f4294d20002e9000000034d', 'format': 'RockSim', 'source': 'user', 'samples': [{'time': 0, 'thrust': 0}, {'time': 0.014, 'thrust': 0.241}, {'time': 0.036, 'thrust': 0.895}, {'time': 0.064, 'thrust': 2.618}, {'time': 0.1, 'thrust': 4.82}, {'time': 0.111, 'thrust': 4.133}, {'time': 0.125, 'thrust': 2.687}, {'time': 0.139, 'thrust': 2.307}, {'time': 0.185, 'thrust': 2.031}, {'time': 0.296, 'thrust': 1.928}, {'time': 0.481, 'thrust': 1.825}, {'time': 0.517, 'thrust': 1.722}, {'time': 0.538, 'thrust': 1.791}, {'time': 0.649, 'thrust': 1.688}, {'time': 0.748, 'thrust': 1.757}, {'time': 0.869, 'thrust': 1.825}, {'time': 1.04, 'thrust': 1.894}, {'time': 1.101, 'thrust': 1.894}, {'time': 1.119, 'thrust': 1.825}, {'time': 1.144, 'thrust': 1.928}, {'time': 1.229, 'thrust': 1.859}, {'time': 1.265, 'thrust': 1.894}, {'time': 1.283, 'thrust': 1.757}, {'time': 1.29, 'thrust': 1.412}, {'time': 1.293, 'thrust': 0.688}, {'time': 1.3, 'thrust': 0.275}, {'time': 1.31, 'thrust': 0}], 'infoUrl': '/simfiles/5f4294d20002e9000000034d/', 'dataUrl': '/simfiles/5f4294d20002e9000000034d/download/data.rse'}, {'motorId': '5f4294d20002310000000008', 'simfileId': '5f4294d20002e9000000048d', 'format': 'RASP', 'source': 'user', 'samples': [{'time': 0.014, 'thrust': 0.241}, {'time': 0.036, 'thrust': 0.895}, {'time': 0.064, 'thrust': 2.618}, {'time': 0.1, 'thrust': 4.82}, {'time': 0.111, 'thrust': 4.133}, {'time': 0.125, 'thrust': 2.687}, {'time': 0.139, 'thrust': 2.307}, {'time': 0.185, 'thrust': 2.031}, {'time': 0.296, 'thrust': 1.928}, {'time': 0.481, 'thrust': 1.825}, {'time': 0.517, 'thrust': 1.722}, {'time': 0.538, 'thrust': 1.791}, {'time': 0.649, 'thrust': 1.688}, {'time': 0.748, 'thrust': 1.757}, {'time': 0.869, 'thrust': 1.825}, {'time': 1.04, 'thrust': 1.894}, {'time': 1.101, 'thrust': 1.894}, {'time': 1.119, 'thrust': 1.825}, {'time': 1.144, 'thrust': 1.928}, {'time': 1.229, 'thrust': 1.859}, {'time': 1.265, 'thrust': 1.894}, {'time': 1.283, 'thrust': 1.757}, {'time': 1.29, 'thrust': 1.412}, {'time': 1.293, 'thrust': 0.688}, {'time': 1.3, 'thrust': 0.275}, {'time': 1.31, 'thrust': 0}], 'infoUrl': '/simfiles/5f4294d20002e9000000048d/', 'dataUrl': '/simfiles/5f4294d20002e9000000048d/download/data.eng'}]}\n",
      "samples found\n",
      "motor_id and motor_name 5f4294d20002310000000008 A2\n",
      "numpy time [0.    0.014 0.036 0.064 0.1   0.111 0.125 0.139 0.185 0.296 0.481 0.517\n",
      " 0.538 0.649 0.748 0.869 1.04  1.101 1.119 1.144 1.229 1.265 1.283 1.29\n",
      " 1.293 1.3   1.31 ]\n",
      "numpy thrust [0.    0.241 0.895 2.618 4.82  4.133 2.687 2.307 2.031 1.928 1.825 1.722\n",
      " 1.791 1.688 1.757 1.825 1.894 1.894 1.825 1.928 1.859 1.894 1.757 1.412\n",
      " 0.688 0.275 0.   ]\n",
      "thrust data {'results': [{'motorId': '5f4294d20002310000000009', 'simfileId': '5f4294d20002e90000000367', 'format': 'RockSim', 'source': 'user', 'samples': [{'time': 0, 'thrust': 0}, {'time': 0.024, 'thrust': 0.195}, {'time': 0.048, 'thrust': 0.899}, {'time': 0.086, 'thrust': 2.658}, {'time': 0.11, 'thrust': 4.183}, {'time': 0.14, 'thrust': 5.83}, {'time': 0.159, 'thrust': 5.395}, {'time': 0.18, 'thrust': 4.301}, {'time': 0.199, 'thrust': 3.635}, {'time': 0.215, 'thrust': 2.736}, {'time': 0.234, 'thrust': 2.267}, {'time': 0.258, 'thrust': 2.15}, {'time': 0.315, 'thrust': 2.072}, {'time': 0.441, 'thrust': 1.993}, {'time': 0.554, 'thrust': 2.033}, {'time': 0.605, 'thrust': 2.072}, {'time': 0.673, 'thrust': 1.954}, {'time': 0.764, 'thrust': 1.954}, {'time': 0.874, 'thrust': 2.072}, {'time': 0.931, 'thrust': 2.15}, {'time': 0.953, 'thrust': 2.072}, {'time': 0.966, 'thrust': 1.719}, {'time': 0.977, 'thrust': 1.173}, {'time': 0.993, 'thrust': 0.547}, {'time': 1.01, 'thrust': 0}], 'infoUrl': '/simfiles/5f4294d20002e90000000367/', 'dataUrl': '/simfiles/5f4294d20002e90000000367/download/data.rse'}, {'motorId': '5f4294d20002310000000009', 'simfileId': '5f4294d20002e900000004e2', 'format': 'RASP', 'source': 'user', 'samples': [{'time': 0.024, 'thrust': 0.195}, {'time': 0.048, 'thrust': 0.899}, {'time': 0.086, 'thrust': 2.658}, {'time': 0.11, 'thrust': 4.183}, {'time': 0.14, 'thrust': 5.83}, {'time': 0.159, 'thrust': 5.395}, {'time': 0.18, 'thrust': 4.301}, {'time': 0.199, 'thrust': 3.635}, {'time': 0.215, 'thrust': 2.736}, {'time': 0.234, 'thrust': 2.267}, {'time': 0.258, 'thrust': 2.15}, {'time': 0.315, 'thrust': 2.072}, {'time': 0.441, 'thrust': 1.993}, {'time': 0.554, 'thrust': 2.033}, {'time': 0.605, 'thrust': 2.072}, {'time': 0.673, 'thrust': 1.954}, {'time': 0.764, 'thrust': 1.954}, {'time': 0.874, 'thrust': 2.072}, {'time': 0.931, 'thrust': 2.15}, {'time': 0.953, 'thrust': 2.072}, {'time': 0.966, 'thrust': 1.719}, {'time': 0.977, 'thrust': 1.173}, {'time': 0.993, 'thrust': 0.547}, {'time': 1.01, 'thrust': 0}], 'infoUrl': '/simfiles/5f4294d20002e900000004e2/', 'dataUrl': '/simfiles/5f4294d20002e900000004e2/download/data.eng'}]}\n",
      "samples found\n",
      "motor_id and motor_name 5f4294d20002310000000009 A3\n",
      "numpy time [0.    0.024 0.048 0.086 0.11  0.14  0.159 0.18  0.199 0.215 0.234 0.258\n",
      " 0.315 0.441 0.554 0.605 0.673 0.764 0.874 0.931 0.953 0.966 0.977 0.993\n",
      " 1.01 ]\n",
      "numpy thrust [0.    0.195 0.899 2.658 4.183 5.83  5.395 4.301 3.635 2.736 2.267 2.15\n",
      " 2.072 1.993 2.033 2.072 1.954 1.954 2.072 2.15  2.072 1.719 1.173 0.547\n",
      " 0.   ]\n"
     ]
    },
    {
     "name": "stderr",
     "output_type": "stream",
     "text": [
      " 88%|██████████████████████████████████████████████████████████████████████████████████████████            | 15/17 [00:03<00:00,  4.81it/s]"
     ]
    },
    {
     "name": "stdout",
     "output_type": "stream",
     "text": [
      "thrust data {'results': [{'motorId': '5f4294d2000231000000045b', 'simfileId': '666a56b5071776000212afe3', 'format': 'RASP', 'source': 'cert', 'license': 'PD', 'samples': [{'time': 0.002, 'thrust': 0.104}, {'time': 0.011, 'thrust': 0.156}, {'time': 0.026, 'thrust': 0.563}, {'time': 0.037, 'thrust': 2.076}, {'time': 0.051, 'thrust': 7.303}, {'time': 0.061, 'thrust': 6.643}, {'time': 0.069, 'thrust': 6.606}, {'time': 0.074, 'thrust': 6.406}, {'time': 0.085, 'thrust': 6.302}, {'time': 0.095, 'thrust': 6.354}, {'time': 0.109, 'thrust': 6.287}, {'time': 0.12, 'thrust': 6.272}, {'time': 0.129, 'thrust': 6.317}, {'time': 0.148, 'thrust': 5.88}, {'time': 0.158, 'thrust': 5.457}, {'time': 0.174, 'thrust': 5.197}, {'time': 0.182, 'thrust': 5.197}, {'time': 0.197, 'thrust': 4.997}, {'time': 0.206, 'thrust': 5.064}, {'time': 0.238, 'thrust': 4.567}, {'time': 0.248, 'thrust': 4.619}, {'time': 0.262, 'thrust': 4.552}, {'time': 0.288, 'thrust': 4.285}, {'time': 0.296, 'thrust': 4.315}, {'time': 0.309, 'thrust': 4.011}, {'time': 0.34, 'thrust': 3.618}, {'time': 0.354, 'thrust': 3.655}, {'time': 0.408, 'thrust': 3.144}, {'time': 0.431, 'thrust': 2.958}, {'time': 0.456, 'thrust': 2.684}, {'time': 0.466, 'thrust': 2.721}, {'time': 0.485, 'thrust': 2.469}, {'time': 0.494, 'thrust': 2.432}, {'time': 0.525, 'thrust': 2.076}, {'time': 0.544, 'thrust': 1.957}, {'time': 0.552, 'thrust': 1.854}, {'time': 0.581, 'thrust': 1.735}, {'time': 0.623, 'thrust': 1.379}, {'time': 0.67, 'thrust': 1.075}, {'time': 0.686, 'thrust': 1.038}, {'time': 0.738, 'thrust': 0.719}, {'time': 0.783, 'thrust': 0.615}, {'time': 0.802, 'thrust': 0.512}, {'time': 0.861, 'thrust': 0.378}, {'time': 0.887, 'thrust': 0.208}, {'time': 0.9, 'thrust': 0.245}, {'time': 0.918, 'thrust': 0.156}, {'time': 0.934, 'thrust': 0}], 'infoUrl': '/simfiles/666a56b5071776000212afe3/', 'dataUrl': '/simfiles/666a56b5071776000212afe3/download/data.eng'}, {'motorId': '5f4294d2000231000000045b', 'simfileId': '5f4294d20002e9000000088d', 'format': 'RockSim', 'source': 'cert', 'license': 'PD', 'samples': [{'time': 0, 'thrust': 0}, {'time': 0.006, 'thrust': 0.153}, {'time': 0.024, 'thrust': 0.429}, {'time': 0.03, 'thrust': 0.889}, {'time': 0.04, 'thrust': 2.574}, {'time': 0.049, 'thrust': 5.854}, {'time': 0.053, 'thrust': 7.11}, {'time': 0.062, 'thrust': 6.528}, {'time': 0.082, 'thrust': 6.16}, {'time': 0.129, 'thrust': 6.129}, {'time': 0.159, 'thrust': 5.302}, {'time': 0.177, 'thrust': 5.087}, {'time': 0.237, 'thrust': 4.474}, {'time': 0.274, 'thrust': 4.352}, {'time': 0.313, 'thrust': 3.892}, {'time': 0.337, 'thrust': 3.586}, {'time': 0.368, 'thrust': 3.494}, {'time': 0.499, 'thrust': 2.329}, {'time': 0.577, 'thrust': 1.655}, {'time': 0.666, 'thrust': 1.103}, {'time': 0.742, 'thrust': 0.736}, {'time': 0.835, 'thrust': 0.398}, {'time': 0.887, 'thrust': 0.245}, {'time': 0.917, 'thrust': 0}], 'infoUrl': '/simfiles/5f4294d20002e9000000088d/', 'dataUrl': '/simfiles/5f4294d20002e9000000088d/download/data.rse'}, {'motorId': '5f4294d2000231000000045b', 'simfileId': '5f4294d20002e9000000088c', 'format': 'RASP', 'source': 'cert', 'license': 'PD', 'samples': [{'time': 0.006, 'thrust': 0.153}, {'time': 0.024, 'thrust': 0.429}, {'time': 0.03, 'thrust': 0.889}, {'time': 0.04, 'thrust': 2.574}, {'time': 0.049, 'thrust': 5.854}, {'time': 0.053, 'thrust': 7.11}, {'time': 0.062, 'thrust': 6.528}, {'time': 0.082, 'thrust': 6.16}, {'time': 0.129, 'thrust': 6.129}, {'time': 0.159, 'thrust': 5.302}, {'time': 0.177, 'thrust': 5.087}, {'time': 0.237, 'thrust': 4.474}, {'time': 0.274, 'thrust': 4.352}, {'time': 0.313, 'thrust': 3.892}, {'time': 0.337, 'thrust': 3.586}, {'time': 0.368, 'thrust': 3.494}, {'time': 0.499, 'thrust': 2.329}, {'time': 0.577, 'thrust': 1.655}, {'time': 0.666, 'thrust': 1.103}, {'time': 0.742, 'thrust': 0.736}, {'time': 0.835, 'thrust': 0.398}, {'time': 0.887, 'thrust': 0.245}, {'time': 0.917, 'thrust': 0}], 'infoUrl': '/simfiles/5f4294d20002e9000000088c/', 'dataUrl': '/simfiles/5f4294d20002e9000000088c/download/data.eng'}]}\n",
      "samples found\n",
      "motor_id and motor_name 5f4294d2000231000000045b A3\n",
      "numpy time [0.002 0.011 0.026 0.037 0.051 0.061 0.069 0.074 0.085 0.095 0.109 0.12\n",
      " 0.129 0.148 0.158 0.174 0.182 0.197 0.206 0.238 0.248 0.262 0.288 0.296\n",
      " 0.309 0.34  0.354 0.408 0.431 0.456 0.466 0.485 0.494 0.525 0.544 0.552\n",
      " 0.581 0.623 0.67  0.686 0.738 0.783 0.802 0.861 0.887 0.9   0.918 0.934]\n",
      "numpy thrust [0.104 0.156 0.563 2.076 7.303 6.643 6.606 6.406 6.302 6.354 6.287 6.272\n",
      " 6.317 5.88  5.457 5.197 5.197 4.997 5.064 4.567 4.619 4.552 4.285 4.315\n",
      " 4.011 3.618 3.655 3.144 2.958 2.684 2.721 2.469 2.432 2.076 1.957 1.854\n",
      " 1.735 1.379 1.075 1.038 0.719 0.615 0.512 0.378 0.208 0.245 0.156 0.   ]\n"
     ]
    },
    {
     "name": "stderr",
     "output_type": "stream",
     "text": [
      " 94%|████████████████████████████████████████████████████████████████████████████████████████████████      | 16/17 [00:03<00:00,  4.83it/s]"
     ]
    },
    {
     "name": "stdout",
     "output_type": "stream",
     "text": [
      "thrust data {'results': [{'motorId': '5f4294d2000231000000000b', 'simfileId': '5f4294d20002e90000000897', 'format': 'RASP', 'source': 'cert', 'samples': [{'time': 0.016, 'thrust': 1.08}, {'time': 0.036, 'thrust': 0.293}, {'time': 0.05, 'thrust': 0.259}, {'time': 0.06, 'thrust': 0.357}, {'time': 0.07, 'thrust': 0.419}, {'time': 0.08, 'thrust': 0.355}, {'time': 0.102, 'thrust': 0.781}, {'time': 0.124, 'thrust': 1.443}, {'time': 0.152, 'thrust': 2.966}, {'time': 0.17, 'thrust': 4.426}, {'time': 0.202, 'thrust': 7.16}, {'time': 0.224, 'thrust': 9.051}, {'time': 0.246, 'thrust': 9.555}, {'time': 0.256, 'thrust': 9.317}, {'time': 0.276, 'thrust': 7.958}, {'time': 0.294, 'thrust': 6.108}, {'time': 0.326, 'thrust': 4.235}, {'time': 0.35, 'thrust': 3.813}, {'time': 0.376, 'thrust': 3.997}, {'time': 0.41, 'thrust': 3.926}, {'time': 0.452, 'thrust': 3.724}, {'time': 0.474, 'thrust': 4.046}, {'time': 0.502, 'thrust': 4.092}, {'time': 0.532, 'thrust': 4.146}, {'time': 0.534, 'thrust': 0}], 'infoUrl': '/simfiles/5f4294d20002e90000000897/', 'dataUrl': '/simfiles/5f4294d20002e90000000897/download/data.eng'}, {'motorId': '5f4294d2000231000000000b', 'simfileId': '5f4294d20002e900000004e3', 'format': 'RASP', 'source': 'cert', 'samples': [{'time': 0.041, 'thrust': 0.512}, {'time': 0.084, 'thrust': 2.115}, {'time': 0.127, 'thrust': 4.358}, {'time': 0.166, 'thrust': 6.794}, {'time': 0.192, 'thrust': 8.588}, {'time': 0.206, 'thrust': 9.294}, {'time': 0.226, 'thrust': 9.73}, {'time': 0.236, 'thrust': 8.845}, {'time': 0.247, 'thrust': 7.179}, {'time': 0.261, 'thrust': 5.063}, {'time': 0.277, 'thrust': 3.717}, {'time': 0.306, 'thrust': 3.205}, {'time': 0.351, 'thrust': 2.884}, {'time': 0.405, 'thrust': 2.499}, {'time': 0.467, 'thrust': 2.371}, {'time': 0.532, 'thrust': 2.307}, {'time': 0.589, 'thrust': 2.371}, {'time': 0.632, 'thrust': 2.371}, {'time': 0.652, 'thrust': 2.243}, {'time': 0.668, 'thrust': 1.794}, {'time': 0.684, 'thrust': 1.153}, {'time': 0.703, 'thrust': 0.448}, {'time': 0.73, 'thrust': 0}], 'infoUrl': '/simfiles/5f4294d20002e900000004e3/', 'dataUrl': '/simfiles/5f4294d20002e900000004e3/download/data.eng'}, {'motorId': '5f4294d2000231000000000b', 'simfileId': '5f4294d20002e90000000368', 'format': 'RockSim', 'source': 'user', 'samples': [{'time': 0, 'thrust': 0}, {'time': 0.041, 'thrust': 0.512}, {'time': 0.084, 'thrust': 2.115}, {'time': 0.127, 'thrust': 4.358}, {'time': 0.166, 'thrust': 6.794}, {'time': 0.192, 'thrust': 8.588}, {'time': 0.206, 'thrust': 9.294}, {'time': 0.226, 'thrust': 9.73}, {'time': 0.236, 'thrust': 8.845}, {'time': 0.247, 'thrust': 7.179}, {'time': 0.261, 'thrust': 5.063}, {'time': 0.277, 'thrust': 3.717}, {'time': 0.306, 'thrust': 3.205}, {'time': 0.351, 'thrust': 2.884}, {'time': 0.405, 'thrust': 2.499}, {'time': 0.467, 'thrust': 2.371}, {'time': 0.532, 'thrust': 2.307}, {'time': 0.589, 'thrust': 2.371}, {'time': 0.632, 'thrust': 2.371}, {'time': 0.652, 'thrust': 2.243}, {'time': 0.668, 'thrust': 1.794}, {'time': 0.684, 'thrust': 1.153}, {'time': 0.703, 'thrust': 0.448}, {'time': 0.73, 'thrust': 0}], 'infoUrl': '/simfiles/5f4294d20002e90000000368/', 'dataUrl': '/simfiles/5f4294d20002e90000000368/download/data.rse'}]}\n",
      "samples found\n",
      "motor_id and motor_name 5f4294d2000231000000000b A8\n",
      "numpy time [0.016 0.036 0.05  0.06  0.07  0.08  0.102 0.124 0.152 0.17  0.202 0.224\n",
      " 0.246 0.256 0.276 0.294 0.326 0.35  0.376 0.41  0.452 0.474 0.502 0.532\n",
      " 0.534]\n",
      "numpy thrust [1.08  0.293 0.259 0.357 0.419 0.355 0.781 1.443 2.966 4.426 7.16  9.051\n",
      " 9.555 9.317 7.958 6.108 4.235 3.813 3.997 3.926 3.724 4.046 4.092 4.146\n",
      " 0.   ]\n"
     ]
    },
    {
     "name": "stderr",
     "output_type": "stream",
     "text": [
      "100%|██████████████████████████████████████████████████████████████████████████████████████████████████████| 17/17 [00:03<00:00,  4.84it/s]"
     ]
    },
    {
     "name": "stdout",
     "output_type": "stream",
     "text": [
      "thrust data {'results': [{'motorId': '5f76951c9503a10004898852', 'simfileId': '5f8b0495d5fa3b000447e824', 'format': 'RockSim', 'source': 'mfr', 'license': 'PD', 'samples': [{'time': 0, 'thrust': 0}, {'time': 0.088, 'thrust': 0.502}, {'time': 0.186, 'thrust': 4.601}, {'time': 0.232, 'thrust': 7.089}, {'time': 0.314, 'thrust': 10.477}, {'time': 0.418, 'thrust': 6.713}, {'time': 0.467, 'thrust': 3.011}, {'time': 0.501, 'thrust': 0.418}, {'time': 0.71, 'thrust': 0}], 'infoUrl': '/simfiles/5f8b0495d5fa3b000447e824/', 'dataUrl': '/simfiles/5f8b0495d5fa3b000447e824/download/data.rse'}, {'motorId': '5f76951c9503a10004898852', 'simfileId': '5f7695519503a10004898854', 'format': 'RASP', 'source': 'mfr', 'license': 'PD', 'samples': [{'time': 0.088, 'thrust': 0.502}, {'time': 0.186, 'thrust': 4.601}, {'time': 0.232, 'thrust': 7.089}, {'time': 0.314, 'thrust': 10.477}, {'time': 0.418, 'thrust': 6.713}, {'time': 0.467, 'thrust': 3.011}, {'time': 0.501, 'thrust': 0.418}, {'time': 0.71, 'thrust': 0}], 'infoUrl': '/simfiles/5f7695519503a10004898854/', 'dataUrl': '/simfiles/5f7695519503a10004898854/download/data.eng'}]}\n",
      "samples found\n",
      "motor_id and motor_name 5f76951c9503a10004898852 A6\n",
      "numpy time [0.    0.088 0.186 0.232 0.314 0.418 0.467 0.501 0.71 ]\n",
      "numpy thrust [ 0.     0.502  4.601  7.089 10.477  6.713  3.011  0.418  0.   ]\n",
      "final_df: ['time', 'thrust', 'motorId', 'motor_name', 'impulse_class']\n",
      "final_df rows: 418\n",
      "Saved dataset to thrust_curves_normalized.csv\n",
      "IMPULSE CLASS B ===============================================\n"
     ]
    },
    {
     "name": "stderr",
     "output_type": "stream",
     "text": [
      "\n"
     ]
    },
    {
     "name": "stdout",
     "output_type": "stream",
     "text": [
      "motor results {'motorId': '5f4294d20002310000000310', 'manufacturer': 'Quest Aerospace', 'manufacturerAbbrev': 'Quest', 'designation': 'B4-4', 'commonName': 'B4', 'impulseClass': 'B', 'diameter': 18, 'length': 70, 'type': 'SU', 'certOrg': 'National Association of Rocketry', 'avgThrustN': 4.22, 'maxThrustN': 12.81, 'totImpulseNs': 3.84, 'burnTimeS': 0.91, 'dataFiles': 1, 'totalWeightG': 16.6, 'propWeightG': 10.4, 'delays': '4', 'propInfo': 'black powder', 'sparky': False, 'updatedOn': '2019-04-17', 'availability': 'OOP'}\n",
      "num classes 39\n"
     ]
    },
    {
     "name": "stderr",
     "output_type": "stream",
     "text": [
      "  8%|████████▌                                                                                              | 1/12 [00:00<00:02,  4.86it/s]"
     ]
    },
    {
     "name": "stdout",
     "output_type": "stream",
     "text": [
      "thrust data {'results': [{'motorId': '5f4294d20002310000000310', 'simfileId': '5f4294d20002e900000006d6', 'format': 'RASP', 'source': 'cert', 'samples': [{'time': 0.033, 'thrust': 1.091}, {'time': 0.061, 'thrust': 2.25}, {'time': 0.104, 'thrust': 4.228}, {'time': 0.138, 'thrust': 6.002}, {'time': 0.184, 'thrust': 8.457}, {'time': 0.222, 'thrust': 10.504}, {'time': 0.258, 'thrust': 12.81}, {'time': 0.275, 'thrust': 9.412}, {'time': 0.289, 'thrust': 6.07}, {'time': 0.298, 'thrust': 4.842}, {'time': 0.309, 'thrust': 4.228}, {'time': 0.329, 'thrust': 3.751}, {'time': 0.359, 'thrust': 3.546}, {'time': 0.444, 'thrust': 3.41}, {'time': 0.55, 'thrust': 3.274}, {'time': 0.646, 'thrust': 3.478}, {'time': 0.723, 'thrust': 3.615}, {'time': 0.787, 'thrust': 3.751}, {'time': 0.814, 'thrust': 3.751}, {'time': 0.831, 'thrust': 3.478}, {'time': 0.843, 'thrust': 2.796}, {'time': 0.862, 'thrust': 1.773}, {'time': 0.882, 'thrust': 0.818}, {'time': 0.904, 'thrust': 0.136}, {'time': 0.91, 'thrust': 0}], 'infoUrl': '/simfiles/5f4294d20002e900000006d6/', 'dataUrl': '/simfiles/5f4294d20002e900000006d6/download/data.eng'}]}\n",
      "samples found\n",
      "motor_id and motor_name 5f4294d20002310000000310 B4-4\n",
      "numpy time [0.033 0.061 0.104 0.138 0.184 0.222 0.258 0.275 0.289 0.298 0.309 0.329\n",
      " 0.359 0.444 0.55  0.646 0.723 0.787 0.814 0.831 0.843 0.862 0.882 0.904\n",
      " 0.91 ]\n",
      "numpy thrust [ 1.091  2.25   4.228  6.002  8.457 10.504 12.81   9.412  6.07   4.842\n",
      "  4.228  3.751  3.546  3.41   3.274  3.478  3.615  3.751  3.751  3.478\n",
      "  2.796  1.773  0.818  0.136  0.   ]\n"
     ]
    },
    {
     "name": "stderr",
     "output_type": "stream",
     "text": [
      " 17%|█████████████████▏                                                                                     | 2/12 [00:00<00:02,  4.87it/s]"
     ]
    },
    {
     "name": "stdout",
     "output_type": "stream",
     "text": [
      "thrust data {'results': [{'motorId': '5f4294d20002310000000010', 'simfileId': '5f4294d20002e9000000036b', 'format': 'RockSim', 'source': 'user', 'samples': [{'time': 0, 'thrust': 0}, {'time': 0.023, 'thrust': 0.688}, {'time': 0.057, 'thrust': 2.457}, {'time': 0.089, 'thrust': 4.816}, {'time': 0.116, 'thrust': 7.274}, {'time': 0.148, 'thrust': 9.929}, {'time': 0.171, 'thrust': 12.14}, {'time': 0.191, 'thrust': 11.695}, {'time': 0.2, 'thrust': 10.719}, {'time': 0.209, 'thrust': 9.24}, {'time': 0.23, 'thrust': 7.667}, {'time': 0.255, 'thrust': 6.488}, {'time': 0.305, 'thrust': 5.505}, {'time': 0.375, 'thrust': 4.816}, {'time': 0.477, 'thrust': 4.62}, {'time': 0.58, 'thrust': 4.62}, {'time': 0.671, 'thrust': 4.521}, {'time': 0.746, 'thrust': 4.226}, {'time': 0.786, 'thrust': 4.325}, {'time': 0.802, 'thrust': 3.145}, {'time': 0.825, 'thrust': 1.572}, {'time': 0.86, 'thrust': 0}], 'infoUrl': '/simfiles/5f4294d20002e9000000036b/', 'dataUrl': '/simfiles/5f4294d20002e9000000036b/download/data.rse'}, {'motorId': '5f4294d20002310000000010', 'simfileId': '5f4294d20002e90000000414', 'format': 'RASP', 'source': 'cert', 'samples': [{'time': 0.036, 'thrust': 1.364}, {'time': 0.064, 'thrust': 2.727}, {'time': 0.082, 'thrust': 4.215}, {'time': 0.111, 'thrust': 6.694}, {'time': 0.135, 'thrust': 9.05}, {'time': 0.146, 'thrust': 9.545}, {'time': 0.172, 'thrust': 11.901}, {'time': 0.181, 'thrust': 12.149}, {'time': 0.191, 'thrust': 11.901}, {'time': 0.211, 'thrust': 9.174}, {'time': 0.239, 'thrust': 7.314}, {'time': 0.264, 'thrust': 6.074}, {'time': 0.275, 'thrust': 5.95}, {'time': 0.333, 'thrust': 5.207}, {'time': 0.394, 'thrust': 4.835}, {'time': 0.445, 'thrust': 4.835}, {'time': 0.556, 'thrust': 4.339}, {'time': 0.667, 'thrust': 4.587}, {'time': 0.723, 'thrust': 4.339}, {'time': 0.78, 'thrust': 4.339}, {'time': 0.793, 'thrust': 4.091}, {'time': 0.812, 'thrust': 2.603}, {'time': 0.833, 'thrust': 1.24}, {'time': 0.857, 'thrust': 0}], 'infoUrl': '/simfiles/5f4294d20002e90000000414/', 'dataUrl': '/simfiles/5f4294d20002e90000000414/download/data.eng'}]}\n",
      "samples found\n",
      "motor_id and motor_name 5f4294d20002310000000010 B6\n",
      "numpy time [0.    0.023 0.057 0.089 0.116 0.148 0.171 0.191 0.2   0.209 0.23  0.255\n",
      " 0.305 0.375 0.477 0.58  0.671 0.746 0.786 0.802 0.825 0.86 ]\n",
      "numpy thrust [ 0.     0.688  2.457  4.816  7.274  9.929 12.14  11.695 10.719  9.24\n",
      "  7.667  6.488  5.505  4.816  4.62   4.62   4.521  4.226  4.325  3.145\n",
      "  1.572  0.   ]\n"
     ]
    },
    {
     "name": "stderr",
     "output_type": "stream",
     "text": [
      " 25%|█████████████████████████▊                                                                             | 3/12 [00:00<00:01,  4.87it/s]"
     ]
    },
    {
     "name": "stdout",
     "output_type": "stream",
     "text": [
      "thrust data {'results': [{'motorId': '5f4294d2000231000000000f', 'simfileId': '5f4294d20002e90000000376', 'format': 'RockSim', 'source': 'user', 'samples': [{'time': 0, 'thrust': 0}, {'time': 0.1, 'thrust': 7}, {'time': 0.18, 'thrust': 14.38}, {'time': 0.2, 'thrust': 10.2}, {'time': 0.24, 'thrust': 6.6}, {'time': 0.3, 'thrust': 6}, {'time': 0.4, 'thrust': 6.1}, {'time': 0.5, 'thrust': 6.2}, {'time': 0.6, 'thrust': 6.3}, {'time': 0.65, 'thrust': 6.6}, {'time': 0.7, 'thrust': 3}, {'time': 0.75, 'thrust': 0}], 'infoUrl': '/simfiles/5f4294d20002e90000000376/', 'dataUrl': '/simfiles/5f4294d20002e90000000376/download/data.rse'}, {'motorId': '5f4294d2000231000000000f', 'simfileId': '5f4294d20002e90000000509', 'format': 'RASP', 'source': 'user', 'samples': [{'time': 0.1, 'thrust': 7}, {'time': 0.18, 'thrust': 14.38}, {'time': 0.2, 'thrust': 10.2}, {'time': 0.24, 'thrust': 6.6}, {'time': 0.3, 'thrust': 6}, {'time': 0.4, 'thrust': 6.1}, {'time': 0.5, 'thrust': 6.2}, {'time': 0.6, 'thrust': 6.3}, {'time': 0.65, 'thrust': 6.6}, {'time': 0.7, 'thrust': 3}, {'time': 0.75, 'thrust': 0}], 'infoUrl': '/simfiles/5f4294d20002e90000000509/', 'dataUrl': '/simfiles/5f4294d20002e90000000509/download/data.eng'}]}\n",
      "samples found\n",
      "motor_id and motor_name 5f4294d2000231000000000f B6\n",
      "numpy time [0.   0.1  0.18 0.2  0.24 0.3  0.4  0.5  0.6  0.65 0.7  0.75]\n",
      "numpy thrust [ 0.    7.   14.38 10.2   6.6   6.    6.1   6.2   6.3   6.6   3.    0.  ]\n"
     ]
    },
    {
     "name": "stderr",
     "output_type": "stream",
     "text": [
      " 33%|██████████████████████████████████▎                                                                    | 4/12 [00:00<00:01,  4.86it/s]"
     ]
    },
    {
     "name": "stdout",
     "output_type": "stream",
     "text": [
      "thrust data {'results': [{'motorId': '5f4294d2000231000000000d', 'simfileId': '5f4294d20002e9000000034e', 'format': 'RockSim', 'source': 'user', 'samples': [{'time': 0, 'thrust': 0}, {'time': 0.057, 'thrust': 1.637}, {'time': 0.093, 'thrust': 4.091}, {'time': 0.121, 'thrust': 5.48}, {'time': 0.143, 'thrust': 4.787}, {'time': 0.157, 'thrust': 3.478}, {'time': 0.207, 'thrust': 2.578}, {'time': 0.328, 'thrust': 2.087}, {'time': 0.371, 'thrust': 2.087}, {'time': 0.406, 'thrust': 1.882}, {'time': 0.641, 'thrust': 1.841}, {'time': 0.869, 'thrust': 1.841}, {'time': 1.283, 'thrust': 1.882}, {'time': 1.361, 'thrust': 1.882}, {'time': 1.397, 'thrust': 1.718}, {'time': 1.439, 'thrust': 1.841}, {'time': 1.532, 'thrust': 1.718}, {'time': 1.71, 'thrust': 1.841}, {'time': 1.888, 'thrust': 1.882}, {'time': 2.095, 'thrust': 1.8}, {'time': 2.23, 'thrust': 1.8}, {'time': 2.295, 'thrust': 1.677}, {'time': 2.423, 'thrust': 1.759}, {'time': 2.444, 'thrust': 1.637}, {'time': 2.466, 'thrust': 0.982}, {'time': 2.494, 'thrust': 0.327}, {'time': 2.53, 'thrust': 0}], 'infoUrl': '/simfiles/5f4294d20002e9000000034e/', 'dataUrl': '/simfiles/5f4294d20002e9000000034e/download/data.rse'}, {'motorId': '5f4294d2000231000000000d', 'simfileId': '5f4294d20002e9000000048e', 'format': 'RASP', 'source': 'user', 'samples': [{'time': 0.057, 'thrust': 1.637}, {'time': 0.093, 'thrust': 4.091}, {'time': 0.121, 'thrust': 5.48}, {'time': 0.143, 'thrust': 4.787}, {'time': 0.157, 'thrust': 3.478}, {'time': 0.207, 'thrust': 2.578}, {'time': 0.328, 'thrust': 2.087}, {'time': 0.371, 'thrust': 2.087}, {'time': 0.406, 'thrust': 1.882}, {'time': 0.641, 'thrust': 1.841}, {'time': 0.869, 'thrust': 1.841}, {'time': 1.283, 'thrust': 1.882}, {'time': 1.361, 'thrust': 1.882}, {'time': 1.397, 'thrust': 1.718}, {'time': 1.439, 'thrust': 1.841}, {'time': 1.532, 'thrust': 1.718}, {'time': 1.71, 'thrust': 1.841}, {'time': 1.888, 'thrust': 1.882}, {'time': 2.095, 'thrust': 1.8}, {'time': 2.23, 'thrust': 1.8}, {'time': 2.295, 'thrust': 1.677}, {'time': 2.423, 'thrust': 1.759}, {'time': 2.444, 'thrust': 1.637}, {'time': 2.466, 'thrust': 0.982}, {'time': 2.494, 'thrust': 0.327}, {'time': 2.53, 'thrust': 0}], 'infoUrl': '/simfiles/5f4294d20002e9000000048e/', 'dataUrl': '/simfiles/5f4294d20002e9000000048e/download/data.eng'}]}\n",
      "samples found\n",
      "motor_id and motor_name 5f4294d2000231000000000d B2\n",
      "numpy time [0.    0.057 0.093 0.121 0.143 0.157 0.207 0.328 0.371 0.406 0.641 0.869\n",
      " 1.283 1.361 1.397 1.439 1.532 1.71  1.888 2.095 2.23  2.295 2.423 2.444\n",
      " 2.466 2.494 2.53 ]\n",
      "numpy thrust [0.    1.637 4.091 5.48  4.787 3.478 2.578 2.087 2.087 1.882 1.841 1.841\n",
      " 1.882 1.882 1.718 1.841 1.718 1.841 1.882 1.8   1.8   1.677 1.759 1.637\n",
      " 0.982 0.327 0.   ]\n",
      "thrust data {'results': [{'motorId': '5f4294d20002310000000402', 'simfileId': '5f4294d20002e900000007f3', 'format': 'RockSim', 'source': 'mfr', 'samples': [{'time': 0, 'thrust': 0}, {'time': 0.3545, 'thrust': 12.2017}, {'time': 0.478189, 'thrust': 3.63025}, {'time': 0.51132, 'thrust': 2.78992}, {'time': 0.549972, 'thrust': 2.35294}, {'time': 1.00607, 'thrust': 2.28571}, {'time': 1.11099, 'thrust': 1.81513}, {'time': 1.18167, 'thrust': 0.10084}, {'time': 1.20707, 'thrust': 0.0672269}], 'infoUrl': '/simfiles/5f4294d20002e900000007f3/', 'dataUrl': '/simfiles/5f4294d20002e900000007f3/download/data.rse'}]}\n",
      "samples found\n",
      "motor_id and motor_name 5f4294d20002310000000402 SCR-B6\n",
      "numpy time [0.       0.3545   0.478189 0.51132  0.549972 1.00607  1.11099  1.18167\n",
      " 1.20707 ]\n",
      "numpy thrust [ 0.        12.2017     3.63025    2.78992    2.35294    2.28571\n",
      "  1.81513    0.10084    0.0672269]\n"
     ]
    },
    {
     "name": "stderr",
     "output_type": "stream",
     "text": [
      " 50%|███████████████████████████████████████████████████▌                                                   | 6/12 [00:01<00:01,  4.84it/s]"
     ]
    },
    {
     "name": "stdout",
     "output_type": "stream",
     "text": [
      "thrust data {'results': [{'motorId': '5f4294d2000231000000045c', 'simfileId': '5f4294d20002e9000000088f', 'format': 'RockSim', 'source': 'cert', 'license': 'PD', 'samples': [{'time': 0, 'thrust': 0}, {'time': 0.011, 'thrust': 0.102}, {'time': 0.024, 'thrust': 0.622}, {'time': 0.036, 'thrust': 3.81}, {'time': 0.043, 'thrust': 3.886}, {'time': 0.074, 'thrust': 5.93}, {'time': 0.099, 'thrust': 7.061}, {'time': 0.138, 'thrust': 6.819}, {'time': 0.204, 'thrust': 6.883}, {'time': 0.236, 'thrust': 7.099}, {'time': 0.263, 'thrust': 7.035}, {'time': 0.273, 'thrust': 6.883}, {'time': 0.298, 'thrust': 7.2}, {'time': 0.348, 'thrust': 6.667}, {'time': 0.404, 'thrust': 5.994}, {'time': 0.452, 'thrust': 5.867}, {'time': 0.472, 'thrust': 5.651}, {'time': 0.493, 'thrust': 5.321}, {'time': 0.533, 'thrust': 5.168}, {'time': 0.579, 'thrust': 4.762}, {'time': 0.606, 'thrust': 4.686}, {'time': 0.651, 'thrust': 4.381}, {'time': 0.771, 'thrust': 3.251}, {'time': 0.79, 'thrust': 3.289}, {'time': 0.822, 'thrust': 2.921}, {'time': 0.852, 'thrust': 2.857}, {'time': 0.894, 'thrust': 2.451}, {'time': 0.952, 'thrust': 2.095}, {'time': 0.981, 'thrust': 1.676}, {'time': 1.041, 'thrust': 0.965}, {'time': 1.089, 'thrust': 0.559}, {'time': 1.177, 'thrust': 0.114}, {'time': 1.184, 'thrust': 0}], 'infoUrl': '/simfiles/5f4294d20002e9000000088f/', 'dataUrl': '/simfiles/5f4294d20002e9000000088f/download/data.rse'}, {'motorId': '5f4294d2000231000000045c', 'simfileId': '5f4294d20002e9000000088e', 'format': 'RASP', 'source': 'cert', 'license': 'PD', 'samples': [{'time': 0.011, 'thrust': 0.102}, {'time': 0.024, 'thrust': 0.622}, {'time': 0.036, 'thrust': 3.81}, {'time': 0.043, 'thrust': 3.886}, {'time': 0.074, 'thrust': 5.93}, {'time': 0.099, 'thrust': 7.061}, {'time': 0.138, 'thrust': 6.819}, {'time': 0.204, 'thrust': 6.883}, {'time': 0.236, 'thrust': 7.099}, {'time': 0.263, 'thrust': 7.035}, {'time': 0.273, 'thrust': 6.883}, {'time': 0.298, 'thrust': 7.2}, {'time': 0.348, 'thrust': 6.667}, {'time': 0.404, 'thrust': 5.994}, {'time': 0.452, 'thrust': 5.867}, {'time': 0.472, 'thrust': 5.651}, {'time': 0.493, 'thrust': 5.321}, {'time': 0.533, 'thrust': 5.168}, {'time': 0.579, 'thrust': 4.762}, {'time': 0.606, 'thrust': 4.686}, {'time': 0.651, 'thrust': 4.381}, {'time': 0.771, 'thrust': 3.251}, {'time': 0.79, 'thrust': 3.289}, {'time': 0.822, 'thrust': 2.921}, {'time': 0.852, 'thrust': 2.857}, {'time': 0.894, 'thrust': 2.451}, {'time': 0.952, 'thrust': 2.095}, {'time': 0.981, 'thrust': 1.676}, {'time': 1.041, 'thrust': 0.965}, {'time': 1.089, 'thrust': 0.559}, {'time': 1.177, 'thrust': 0.114}, {'time': 1.184, 'thrust': 0}], 'infoUrl': '/simfiles/5f4294d20002e9000000088e/', 'dataUrl': '/simfiles/5f4294d20002e9000000088e/download/data.eng'}]}\n",
      "samples found\n",
      "motor_id and motor_name 5f4294d2000231000000045c B4\n",
      "numpy time [0.    0.011 0.024 0.036 0.043 0.074 0.099 0.138 0.204 0.236 0.263 0.273\n",
      " 0.298 0.348 0.404 0.452 0.472 0.493 0.533 0.579 0.606 0.651 0.771 0.79\n",
      " 0.822 0.852 0.894 0.952 0.981 1.041 1.089 1.177 1.184]\n",
      "numpy thrust [0.    0.102 0.622 3.81  3.886 5.93  7.061 6.819 6.883 7.099 7.035 6.883\n",
      " 7.2   6.667 5.994 5.867 5.651 5.321 5.168 4.762 4.686 4.381 3.251 3.289\n",
      " 2.921 2.857 2.451 2.095 1.676 0.965 0.559 0.114 0.   ]\n"
     ]
    },
    {
     "name": "stderr",
     "output_type": "stream",
     "text": [
      " 58%|████████████████████████████████████████████████████████████                                           | 7/12 [00:01<00:01,  4.83it/s]"
     ]
    },
    {
     "name": "stdout",
     "output_type": "stream",
     "text": [
      "thrust data {'results': [{'motorId': '60ac76068dc4640004c24d93', 'simfileId': '618ed8392bb16e00041a2ec5', 'format': 'RockSim', 'source': 'user', 'license': 'PD', 'samples': [{'time': 0, 'thrust': 0}, {'time': 0.01, 'thrust': 0.157}, {'time': 0.029, 'thrust': 0.677}, {'time': 0.045, 'thrust': 2.643}, {'time': 0.058, 'thrust': 0.966}, {'time': 0.09, 'thrust': 2.048}, {'time': 0.127, 'thrust': 6.545}, {'time': 0.174, 'thrust': 9.296}, {'time': 0.214, 'thrust': 9.045}, {'time': 0.269, 'thrust': 9.01}, {'time': 0.324, 'thrust': 8.039}, {'time': 0.47, 'thrust': 6.334}, {'time': 0.615, 'thrust': 4.492}, {'time': 0.795, 'thrust': 2.904}, {'time': 0.975, 'thrust': 1.412}, {'time': 1.148, 'thrust': 0.536}, {'time': 1.211, 'thrust': 0}], 'infoUrl': '/simfiles/618ed8392bb16e00041a2ec5/', 'dataUrl': '/simfiles/618ed8392bb16e00041a2ec5/download/data.rse'}, {'motorId': '60ac76068dc4640004c24d93', 'simfileId': '60ae6058d83fc60004c69f18', 'format': 'RASP', 'source': 'cert', 'license': 'PD', 'samples': [{'time': 0.01, 'thrust': 0.157}, {'time': 0.029, 'thrust': 0.677}, {'time': 0.045, 'thrust': 2.643}, {'time': 0.058, 'thrust': 0.966}, {'time': 0.09, 'thrust': 2.048}, {'time': 0.127, 'thrust': 6.545}, {'time': 0.174, 'thrust': 9.296}, {'time': 0.214, 'thrust': 9.045}, {'time': 0.269, 'thrust': 9.01}, {'time': 0.324, 'thrust': 8.039}, {'time': 0.47, 'thrust': 6.334}, {'time': 0.615, 'thrust': 4.492}, {'time': 0.795, 'thrust': 2.904}, {'time': 0.975, 'thrust': 1.412}, {'time': 1.148, 'thrust': 0.536}, {'time': 1.211, 'thrust': 0}], 'infoUrl': '/simfiles/60ae6058d83fc60004c69f18/', 'dataUrl': '/simfiles/60ae6058d83fc60004c69f18/download/data.eng'}]}\n",
      "samples found\n",
      "motor_id and motor_name 60ac76068dc4640004c24d93 B6W\n",
      "numpy time [0.    0.01  0.029 0.045 0.058 0.09  0.127 0.174 0.214 0.269 0.324 0.47\n",
      " 0.615 0.795 0.975 1.148 1.211]\n",
      "numpy thrust [0.    0.157 0.677 2.643 0.966 2.048 6.545 9.296 9.045 9.01  8.039 6.334\n",
      " 4.492 2.904 1.412 0.536 0.   ]\n",
      "thrust data {'results': [{'motorId': '5f4294d20002310000000012', 'simfileId': '5f4294d20002e9000000034f', 'format': 'RockSim', 'source': 'user', 'samples': [{'time': 0, 'thrust': 0}, {'time': 0.007, 'thrust': 5.708}, {'time': 0.013, 'thrust': 7.211}, {'time': 0.032, 'thrust': 6.111}, {'time': 0.045, 'thrust': 8.116}, {'time': 0.056, 'thrust': 7.717}, {'time': 0.069, 'thrust': 9.02}, {'time': 0.078, 'thrust': 12.122}, {'time': 0.087, 'thrust': 14.76}, {'time': 0.106, 'thrust': 13.832}, {'time': 0.117, 'thrust': 13.733}, {'time': 0.125, 'thrust': 12.636}, {'time': 0.155, 'thrust': 12.438}, {'time': 0.168, 'thrust': 11.836}, {'time': 0.2, 'thrust': 11.243}, {'time': 0.209, 'thrust': 11.737}, {'time': 0.219, 'thrust': 10.739}, {'time': 0.266, 'thrust': 9.846}, {'time': 0.29, 'thrust': 9.849}, {'time': 0.299, 'thrust': 8.949}, {'time': 0.367, 'thrust': 7.456}, {'time': 0.393, 'thrust': 7.159}, {'time': 0.429, 'thrust': 5.761}, {'time': 0.487, 'thrust': 4.567}, {'time': 0.571, 'thrust': 2.975}, {'time': 0.607, 'thrust': 2.178}, {'time': 0.669, 'thrust': 1.084}, {'time': 0.708, 'thrust': 0.489}, {'time': 0.74, 'thrust': 0}], 'infoUrl': '/simfiles/5f4294d20002e9000000034f/', 'dataUrl': '/simfiles/5f4294d20002e9000000034f/download/data.rse'}, {'motorId': '5f4294d20002310000000012', 'simfileId': '5f4294d20002e9000000048f', 'format': 'RASP', 'source': 'user', 'samples': [{'time': 0.007, 'thrust': 5.708}, {'time': 0.013, 'thrust': 7.211}, {'time': 0.032, 'thrust': 6.111}, {'time': 0.045, 'thrust': 8.116}, {'time': 0.056, 'thrust': 7.717}, {'time': 0.069, 'thrust': 9.02}, {'time': 0.078, 'thrust': 12.122}, {'time': 0.087, 'thrust': 14.76}, {'time': 0.106, 'thrust': 13.832}, {'time': 0.117, 'thrust': 13.733}, {'time': 0.125, 'thrust': 12.636}, {'time': 0.155, 'thrust': 12.438}, {'time': 0.168, 'thrust': 11.836}, {'time': 0.2, 'thrust': 11.243}, {'time': 0.209, 'thrust': 11.737}, {'time': 0.219, 'thrust': 10.739}, {'time': 0.266, 'thrust': 9.846}, {'time': 0.29, 'thrust': 9.849}, {'time': 0.299, 'thrust': 8.949}, {'time': 0.367, 'thrust': 7.456}, {'time': 0.393, 'thrust': 7.159}, {'time': 0.429, 'thrust': 5.761}, {'time': 0.487, 'thrust': 4.567}, {'time': 0.571, 'thrust': 2.975}, {'time': 0.607, 'thrust': 2.178}, {'time': 0.669, 'thrust': 1.084}, {'time': 0.708, 'thrust': 0.489}, {'time': 0.74, 'thrust': 0}], 'infoUrl': '/simfiles/5f4294d20002e9000000048f/', 'dataUrl': '/simfiles/5f4294d20002e9000000048f/download/data.eng'}]}\n",
      "samples found\n",
      "motor_id and motor_name 5f4294d20002310000000012 B7\n",
      "numpy time [0.    0.007 0.013 0.032 0.045 0.056 0.069 0.078 0.087 0.106 0.117 0.125\n",
      " 0.155 0.168 0.2   0.209 0.219 0.266 0.29  0.299 0.367 0.393 0.429 0.487\n",
      " 0.571 0.607 0.669 0.708 0.74 ]\n",
      "numpy thrust [ 0.     5.708  7.211  6.111  8.116  7.717  9.02  12.122 14.76  13.832\n",
      " 13.733 12.636 12.438 11.836 11.243 11.737 10.739  9.846  9.849  8.949\n",
      "  7.456  7.159  5.761  4.567  2.975  2.178  1.084  0.489  0.   ]\n"
     ]
    },
    {
     "name": "stderr",
     "output_type": "stream",
     "text": [
      " 75%|█████████████████████████████████████████████████████████████████████████████▎                         | 9/12 [00:01<00:00,  4.87it/s]"
     ]
    },
    {
     "name": "stdout",
     "output_type": "stream",
     "text": [
      "thrust data {'results': [{'motorId': '6623d0bcf873440002ac79dc', 'simfileId': '663f8e858dc6c20002fccf33', 'format': 'RockSim', 'source': 'user', 'license': 'PD', 'samples': [{'time': 0, 'thrust': 0}, {'time': 0.012, 'thrust': 0.27}, {'time': 0.047, 'thrust': 10.64}, {'time': 0.054, 'thrust': 11.73}, {'time': 0.086, 'thrust': 14.45}, {'time': 0.098, 'thrust': 14.91}, {'time': 0.122, 'thrust': 15.27}, {'time': 0.138, 'thrust': 16.27}, {'time': 0.15, 'thrust': 17}, {'time': 0.18, 'thrust': 17.27}, {'time': 0.195, 'thrust': 17.45}, {'time': 0.212, 'thrust': 17}, {'time': 0.218, 'thrust': 16.18}, {'time': 0.235, 'thrust': 15.82}, {'time': 0.337, 'thrust': 13.55}, {'time': 0.352, 'thrust': 6.73}, {'time': 0.389, 'thrust': 3.09}, {'time': 0.4, 'thrust': 1.18}, {'time': 0.408, 'thrust': 0.55}, {'time': 0.415, 'thrust': 0}], 'infoUrl': '/simfiles/663f8e858dc6c20002fccf33/', 'dataUrl': '/simfiles/663f8e858dc6c20002fccf33/download/data.rse'}, {'motorId': '6623d0bcf873440002ac79dc', 'simfileId': '66253719f307ea0002dbd83d', 'format': 'RASP', 'source': 'cert', 'license': 'PD', 'samples': [{'time': 0.012, 'thrust': 0.27}, {'time': 0.047, 'thrust': 10.64}, {'time': 0.054, 'thrust': 11.73}, {'time': 0.086, 'thrust': 14.45}, {'time': 0.098, 'thrust': 14.91}, {'time': 0.122, 'thrust': 15.27}, {'time': 0.138, 'thrust': 16.27}, {'time': 0.15, 'thrust': 17}, {'time': 0.18, 'thrust': 17.27}, {'time': 0.195, 'thrust': 17.45}, {'time': 0.212, 'thrust': 17}, {'time': 0.218, 'thrust': 16.18}, {'time': 0.235, 'thrust': 15.82}, {'time': 0.337, 'thrust': 13.55}, {'time': 0.352, 'thrust': 6.73}, {'time': 0.389, 'thrust': 3.09}, {'time': 0.4, 'thrust': 1.18}, {'time': 0.408, 'thrust': 0.55}, {'time': 0.415, 'thrust': 0}], 'infoUrl': '/simfiles/66253719f307ea0002dbd83d/', 'dataUrl': '/simfiles/66253719f307ea0002dbd83d/download/data.eng'}]}\n",
      "samples found\n",
      "motor_id and motor_name 6623d0bcf873440002ac79dc B14T\n",
      "numpy time [0.    0.012 0.047 0.054 0.086 0.098 0.122 0.138 0.15  0.18  0.195 0.212\n",
      " 0.218 0.235 0.337 0.352 0.389 0.4   0.408 0.415]\n",
      "numpy thrust [ 0.    0.27 10.64 11.73 14.45 14.91 15.27 16.27 17.   17.27 17.45 17.\n",
      " 16.18 15.82 13.55  6.73  3.09  1.18  0.55  0.  ]\n"
     ]
    },
    {
     "name": "stderr",
     "output_type": "stream",
     "text": [
      " 83%|█████████████████████████████████████████████████████████████████████████████████████                 | 10/12 [00:02<00:00,  4.86it/s]"
     ]
    },
    {
     "name": "stdout",
     "output_type": "stream",
     "text": [
      "thrust data {'results': [{'motorId': '5f4294d2000231000000000e', 'simfileId': '5f4294d20002e90000000834', 'format': 'RASP', 'source': 'user', 'license': 'PD', 'samples': [{'time': 0.058, 'thrust': 2.361}, {'time': 0.102, 'thrust': 2.921}, {'time': 0.122, 'thrust': 3.797}, {'time': 0.15, 'thrust': 5.866}, {'time': 0.18, 'thrust': 8.373}, {'time': 0.199, 'thrust': 9.882}, {'time': 0.208, 'thrust': 10.88}, {'time': 0.216, 'thrust': 11.367}, {'time': 0.238, 'thrust': 11.245}, {'time': 0.245, 'thrust': 10.832}, {'time': 0.262, 'thrust': 8.982}, {'time': 0.293, 'thrust': 6.134}, {'time': 0.322, 'thrust': 5.306}, {'time': 0.357, 'thrust': 4.917}, {'time': 0.388, 'thrust': 4.795}, {'time': 0.416, 'thrust': 4.746}, {'time': 0.46, 'thrust': 4.625}, {'time': 0.502, 'thrust': 4.576}, {'time': 0.544, 'thrust': 4.357}, {'time': 0.575, 'thrust': 4.503}, {'time': 0.605, 'thrust': 4.527}, {'time': 0.674, 'thrust': 4.552}, {'time': 0.731, 'thrust': 4.454}, {'time': 0.88, 'thrust': 4.454}, {'time': 0.915, 'thrust': 4.503}, {'time': 0.96, 'thrust': 4.406}, {'time': 1, 'thrust': 4.065}, {'time': 1.047, 'thrust': 2.556}, {'time': 1.049, 'thrust': 0}], 'infoUrl': '/simfiles/5f4294d20002e90000000834/', 'dataUrl': '/simfiles/5f4294d20002e90000000834/download/data.eng'}, {'motorId': '5f4294d2000231000000000e', 'simfileId': '5f4294d20002e9000000036a', 'format': 'RockSim', 'source': 'user', 'samples': [{'time': 0, 'thrust': 0}, {'time': 0.02, 'thrust': 0.418}, {'time': 0.04, 'thrust': 1.673}, {'time': 0.065, 'thrust': 4.076}, {'time': 0.085, 'thrust': 6.69}, {'time': 0.105, 'thrust': 9.304}, {'time': 0.119, 'thrust': 11.496}, {'time': 0.136, 'thrust': 12.75}, {'time': 0.153, 'thrust': 11.916}, {'time': 0.173, 'thrust': 10.666}, {'time': 0.187, 'thrust': 9.304}, {'time': 0.198, 'thrust': 7.214}, {'time': 0.207, 'thrust': 5.645}, {'time': 0.226, 'thrust': 4.809}, {'time': 0.258, 'thrust': 4.182}, {'time': 0.326, 'thrust': 3.763}, {'time': 0.422, 'thrust': 3.554}, {'time': 0.549, 'thrust': 3.345}, {'time': 0.665, 'thrust': 3.345}, {'time': 0.776, 'thrust': 3.345}, {'time': 0.863, 'thrust': 3.345}, {'time': 0.94, 'thrust': 3.449}, {'time': 0.991, 'thrust': 3.449}, {'time': 1.002, 'thrust': 2.404}, {'time': 1.01, 'thrust': 1.254}, {'time': 1.03, 'thrust': 0}], 'infoUrl': '/simfiles/5f4294d20002e9000000036a/', 'dataUrl': '/simfiles/5f4294d20002e9000000036a/download/data.rse'}, {'motorId': '5f4294d2000231000000000e', 'simfileId': '5f4294d20002e900000004e5', 'format': 'RASP', 'source': 'user', 'samples': [{'time': 0.02, 'thrust': 0.418}, {'time': 0.04, 'thrust': 1.673}, {'time': 0.065, 'thrust': 4.076}, {'time': 0.085, 'thrust': 6.69}, {'time': 0.105, 'thrust': 9.304}, {'time': 0.119, 'thrust': 11.496}, {'time': 0.136, 'thrust': 12.75}, {'time': 0.153, 'thrust': 11.916}, {'time': 0.173, 'thrust': 10.666}, {'time': 0.187, 'thrust': 9.304}, {'time': 0.198, 'thrust': 7.214}, {'time': 0.207, 'thrust': 5.645}, {'time': 0.226, 'thrust': 4.809}, {'time': 0.258, 'thrust': 4.182}, {'time': 0.326, 'thrust': 3.763}, {'time': 0.422, 'thrust': 3.554}, {'time': 0.549, 'thrust': 3.345}, {'time': 0.665, 'thrust': 3.345}, {'time': 0.776, 'thrust': 3.345}, {'time': 0.863, 'thrust': 3.345}, {'time': 0.94, 'thrust': 3.449}, {'time': 0.991, 'thrust': 3.449}, {'time': 1.002, 'thrust': 2.404}, {'time': 1.01, 'thrust': 1.254}, {'time': 1.03, 'thrust': 0}], 'infoUrl': '/simfiles/5f4294d20002e900000004e5/', 'dataUrl': '/simfiles/5f4294d20002e900000004e5/download/data.eng'}]}\n",
      "samples found\n",
      "motor_id and motor_name 5f4294d2000231000000000e B4\n",
      "numpy time [0.058 0.102 0.122 0.15  0.18  0.199 0.208 0.216 0.238 0.245 0.262 0.293\n",
      " 0.322 0.357 0.388 0.416 0.46  0.502 0.544 0.575 0.605 0.674 0.731 0.88\n",
      " 0.915 0.96  1.    1.047 1.049]\n",
      "numpy thrust [ 2.361  2.921  3.797  5.866  8.373  9.882 10.88  11.367 11.245 10.832\n",
      "  8.982  6.134  5.306  4.917  4.795  4.746  4.625  4.576  4.357  4.503\n",
      "  4.527  4.552  4.454  4.454  4.503  4.406  4.065  2.556  0.   ]\n"
     ]
    },
    {
     "name": "stderr",
     "output_type": "stream",
     "text": [
      " 92%|█████████████████████████████████████████████████████████████████████████████████████████████▌        | 11/12 [00:02<00:00,  4.87it/s]"
     ]
    },
    {
     "name": "stdout",
     "output_type": "stream",
     "text": [
      "thrust data {'results': [{'motorId': '5f7695bd9503a10004898855', 'simfileId': '5f8c7be563ef420004f3dfcc', 'format': 'RASP', 'source': 'mfr', 'license': 'PD', 'samples': [{'time': 0.256, 'thrust': 1.578}, {'time': 0.31, 'thrust': 2.042}, {'time': 0.361, 'thrust': 2.568}, {'time': 0.395, 'thrust': 3.063}, {'time': 0.433, 'thrust': 3.62}, {'time': 0.453, 'thrust': 4.115}, {'time': 0.484, 'thrust': 4.765}, {'time': 0.501, 'thrust': 4.92}, {'time': 0.515, 'thrust': 5.105}, {'time': 0.532, 'thrust': 5.012}, {'time': 0.545, 'thrust': 4.796}, {'time': 0.566, 'thrust': 4.455}, {'time': 0.583, 'thrust': 3.929}, {'time': 0.596, 'thrust': 3.434}, {'time': 0.627, 'thrust': 2.97}, {'time': 0.661, 'thrust': 2.63}, {'time': 0.719, 'thrust': 2.166}, {'time': 0.801, 'thrust': 1.949}, {'time': 2.256, 'thrust': 1.949}, {'time': 2.314, 'thrust': 1.825}, {'time': 2.361, 'thrust': 1.423}, {'time': 2.505, 'thrust': 0}], 'infoUrl': '/simfiles/5f8c7be563ef420004f3dfcc/', 'dataUrl': '/simfiles/5f8c7be563ef420004f3dfcc/download/data.eng'}]}\n",
      "samples found\n",
      "motor_id and motor_name 5f7695bd9503a10004898855 B2\n",
      "numpy time [0.256 0.31  0.361 0.395 0.433 0.453 0.484 0.501 0.515 0.532 0.545 0.566\n",
      " 0.583 0.596 0.627 0.661 0.719 0.801 2.256 2.314 2.361 2.505]\n",
      "numpy thrust [1.578 2.042 2.568 3.063 3.62  4.115 4.765 4.92  5.105 5.012 4.796 4.455\n",
      " 3.929 3.434 2.97  2.63  2.166 1.949 1.949 1.825 1.423 0.   ]\n"
     ]
    },
    {
     "name": "stderr",
     "output_type": "stream",
     "text": [
      "100%|██████████████████████████████████████████████████████████████████████████████████████████████████████| 12/12 [00:02<00:00,  4.86it/s]"
     ]
    },
    {
     "name": "stdout",
     "output_type": "stream",
     "text": [
      "thrust data {'results': [{'motorId': '5f8b05a5d5fa3b000447e825', 'simfileId': '5f8b05efd5fa3b000447e828', 'format': 'RockSim', 'source': 'mfr', 'license': 'PD', 'samples': [{'time': 0, 'thrust': 0}, {'time': 0.049, 'thrust': 0.83}, {'time': 0.096, 'thrust': 1.745}, {'time': 0.157, 'thrust': 2.946}, {'time': 0.209, 'thrust': 3.89}, {'time': 0.273, 'thrust': 4.977}, {'time': 0.335, 'thrust': 6.093}, {'time': 0.38, 'thrust': 7.122}, {'time': 0.411, 'thrust': 8.001}, {'time': 0.436, 'thrust': 7.065}, {'time': 0.465, 'thrust': 6.236}, {'time': 0.516, 'thrust': 5.063}, {'time': 0.564, 'thrust': 4.462}, {'time': 0.607, 'thrust': 4.205}, {'time': 0.669, 'thrust': 4.09}, {'time': 0.9, 'thrust': 4.09}, {'time': 0.966, 'thrust': 3.976}, {'time': 1.025, 'thrust': 3.719}, {'time': 1.084, 'thrust': 3.261}, {'time': 1.145, 'thrust': 2.546}, {'time': 1.212, 'thrust': 1.745}, {'time': 1.295, 'thrust': 0.772}, {'time': 1.364, 'thrust': 0}], 'infoUrl': '/simfiles/5f8b05efd5fa3b000447e828/', 'dataUrl': '/simfiles/5f8b05efd5fa3b000447e828/download/data.rse'}, {'motorId': '5f8b05a5d5fa3b000447e825', 'simfileId': '5f8b05dad5fa3b000447e827', 'format': 'RASP', 'source': 'mfr', 'license': 'PD', 'samples': [{'time': 0.049, 'thrust': 0.83}, {'time': 0.096, 'thrust': 1.745}, {'time': 0.157, 'thrust': 2.946}, {'time': 0.209, 'thrust': 3.89}, {'time': 0.273, 'thrust': 4.977}, {'time': 0.335, 'thrust': 6.093}, {'time': 0.38, 'thrust': 7.122}, {'time': 0.411, 'thrust': 8.001}, {'time': 0.436, 'thrust': 7.065}, {'time': 0.465, 'thrust': 6.236}, {'time': 0.516, 'thrust': 5.063}, {'time': 0.564, 'thrust': 4.462}, {'time': 0.607, 'thrust': 4.205}, {'time': 0.669, 'thrust': 4.09}, {'time': 0.9, 'thrust': 4.09}, {'time': 0.966, 'thrust': 3.976}, {'time': 1.025, 'thrust': 3.719}, {'time': 1.084, 'thrust': 3.261}, {'time': 1.145, 'thrust': 2.546}, {'time': 1.212, 'thrust': 1.745}, {'time': 1.295, 'thrust': 0.772}, {'time': 1.364, 'thrust': 0}], 'infoUrl': '/simfiles/5f8b05dad5fa3b000447e827/', 'dataUrl': '/simfiles/5f8b05dad5fa3b000447e827/download/data.eng'}]}\n",
      "samples found\n",
      "motor_id and motor_name 5f8b05a5d5fa3b000447e825 B4\n",
      "numpy time [0.    0.049 0.096 0.157 0.209 0.273 0.335 0.38  0.411 0.436 0.465 0.516\n",
      " 0.564 0.607 0.669 0.9   0.966 1.025 1.084 1.145 1.212 1.295 1.364]\n",
      "numpy thrust [0.    0.83  1.745 2.946 3.89  4.977 6.093 7.122 8.001 7.065 6.236 5.063\n",
      " 4.462 4.205 4.09  4.09  3.976 3.719 3.261 2.546 1.745 0.772 0.   ]\n",
      "final_df: ['time', 'thrust', 'motorId', 'motor_name', 'impulse_class']\n",
      "final_df rows: 268\n",
      "Saved dataset to thrust_curves_normalized.csv\n",
      "IMPULSE CLASS C ===============================================\n"
     ]
    },
    {
     "name": "stderr",
     "output_type": "stream",
     "text": [
      "\n"
     ]
    },
    {
     "name": "stdout",
     "output_type": "stream",
     "text": [
      "motor results {'motorId': '5f4294d20002310000000014', 'manufacturer': 'Estes Industries', 'manufacturerAbbrev': 'Estes', 'designation': 'C5', 'commonName': 'C5', 'impulseClass': 'C', 'diameter': 18, 'length': 70, 'type': 'SU', 'certOrg': 'National Association of Rocketry', 'avgThrustN': 3.91, 'maxThrustN': 20.41, 'totImpulseNs': 7.79, 'burnTimeS': 1.99, 'dataFiles': 4, 'infoUrl': 'https://nar.org/SandT/pdf/Estes/Estes_C5_2019.pdf', 'totalWeightG': 24.8, 'propWeightG': 11.299999999999999, 'delays': '3', 'propInfo': 'black powder', 'sparky': False, 'updatedOn': '2022-07-27', 'availability': 'regular'}\n",
      "num classes 39\n"
     ]
    },
    {
     "name": "stderr",
     "output_type": "stream",
     "text": [
      "  8%|███████▉                                                                                               | 1/13 [00:00<00:02,  4.74it/s]"
     ]
    },
    {
     "name": "stdout",
     "output_type": "stream",
     "text": [
      "thrust data {'results': [{'motorId': '5f4294d20002310000000014', 'simfileId': '5f4294d20002e900000008c0', 'format': 'RASP', 'source': 'cert', 'license': 'PD', 'samples': [{'time': 0.005, 'thrust': 1.422}, {'time': 0.031, 'thrust': 2.695}, {'time': 0.063, 'thrust': 5.503}, {'time': 0.117, 'thrust': 10.444}, {'time': 0.151, 'thrust': 14.374}, {'time': 0.168, 'thrust': 16.358}, {'time': 0.174, 'thrust': 16.471}, {'time': 0.179, 'thrust': 17.594}, {'time': 0.199, 'thrust': 18.604}, {'time': 0.211, 'thrust': 19.877}, {'time': 0.217, 'thrust': 20.401}, {'time': 0.23, 'thrust': 20.289}, {'time': 0.234, 'thrust': 18.679}, {'time': 0.239, 'thrust': 18.23}, {'time': 0.252, 'thrust': 13.813}, {'time': 0.258, 'thrust': 9.021}, {'time': 0.265, 'thrust': 6.588}, {'time': 0.28, 'thrust': 4.904}, {'time': 0.296, 'thrust': 4.08}, {'time': 0.349, 'thrust': 3.481}, {'time': 0.438, 'thrust': 2.995}, {'time': 0.504, 'thrust': 2.733}, {'time': 0.611, 'thrust': 2.807}, {'time': 0.815, 'thrust': 2.695}, {'time': 0.97, 'thrust': 2.695}, {'time': 1.335, 'thrust': 2.695}, {'time': 1.598, 'thrust': 2.658}, {'time': 1.794, 'thrust': 2.695}, {'time': 1.96, 'thrust': 2.733}, {'time': 1.987, 'thrust': 1.16}, {'time': 1.992, 'thrust': 0}], 'infoUrl': '/simfiles/5f4294d20002e900000008c0/', 'dataUrl': '/simfiles/5f4294d20002e900000008c0/download/data.eng'}, {'motorId': '5f4294d20002310000000014', 'simfileId': '5f4294d20002e900000008c1', 'format': 'RockSim', 'source': 'cert', 'license': 'PD', 'samples': [{'time': 0, 'thrust': 0}, {'time': 0.005, 'thrust': 1.422}, {'time': 0.031, 'thrust': 2.695}, {'time': 0.063, 'thrust': 5.503}, {'time': 0.117, 'thrust': 10.444}, {'time': 0.151, 'thrust': 14.374}, {'time': 0.168, 'thrust': 16.358}, {'time': 0.174, 'thrust': 16.471}, {'time': 0.179, 'thrust': 17.594}, {'time': 0.199, 'thrust': 18.604}, {'time': 0.211, 'thrust': 19.877}, {'time': 0.217, 'thrust': 20.41}, {'time': 0.23, 'thrust': 20.289}, {'time': 0.234, 'thrust': 18.679}, {'time': 0.239, 'thrust': 18.23}, {'time': 0.252, 'thrust': 13.813}, {'time': 0.258, 'thrust': 9.021}, {'time': 0.265, 'thrust': 6.588}, {'time': 0.28, 'thrust': 4.904}, {'time': 0.296, 'thrust': 4.08}, {'time': 0.349, 'thrust': 3.481}, {'time': 0.438, 'thrust': 2.995}, {'time': 0.504, 'thrust': 2.733}, {'time': 0.611, 'thrust': 2.807}, {'time': 0.815, 'thrust': 2.695}, {'time': 0.97, 'thrust': 2.695}, {'time': 1.335, 'thrust': 2.695}, {'time': 1.598, 'thrust': 2.658}, {'time': 1.794, 'thrust': 2.695}, {'time': 1.96, 'thrust': 2.733}, {'time': 1.987, 'thrust': 1.16}, {'time': 1.992, 'thrust': 0}], 'infoUrl': '/simfiles/5f4294d20002e900000008c1/', 'dataUrl': '/simfiles/5f4294d20002e900000008c1/download/data.rse'}, {'motorId': '5f4294d20002310000000014', 'simfileId': '5f4294d20002e9000000036c', 'format': 'RockSim', 'source': 'user', 'samples': [{'time': 0, 'thrust': 0}, {'time': 0.042, 'thrust': 2.195}, {'time': 0.107, 'thrust': 9.118}, {'time': 0.159, 'thrust': 16.213}, {'time': 0.21, 'thrust': 21.85}, {'time': 0.233, 'thrust': 18.407}, {'time': 0.27, 'thrust': 13.677}, {'time': 0.289, 'thrust': 9.793}, {'time': 0.303, 'thrust': 7.092}, {'time': 0.326, 'thrust': 5.065}, {'time': 0.401, 'thrust': 4.39}, {'time': 0.55, 'thrust': 3.883}, {'time': 0.802, 'thrust': 3.714}, {'time': 1.026, 'thrust': 3.883}, {'time': 1.291, 'thrust': 3.883}, {'time': 1.524, 'thrust': 4.221}, {'time': 1.683, 'thrust': 4.221}, {'time': 1.702, 'thrust': 2.195}, {'time': 1.73, 'thrust': 0}], 'infoUrl': '/simfiles/5f4294d20002e9000000036c/', 'dataUrl': '/simfiles/5f4294d20002e9000000036c/download/data.rse'}, {'motorId': '5f4294d20002310000000014', 'simfileId': '5f4294d20002e900000004e6', 'format': 'RASP', 'source': 'user', 'samples': [{'time': 0.042, 'thrust': 2.195}, {'time': 0.107, 'thrust': 9.118}, {'time': 0.159, 'thrust': 16.213}, {'time': 0.21, 'thrust': 21.85}, {'time': 0.233, 'thrust': 18.407}, {'time': 0.27, 'thrust': 13.677}, {'time': 0.289, 'thrust': 9.793}, {'time': 0.303, 'thrust': 7.092}, {'time': 0.326, 'thrust': 5.065}, {'time': 0.401, 'thrust': 4.39}, {'time': 0.55, 'thrust': 3.883}, {'time': 0.802, 'thrust': 3.714}, {'time': 1.026, 'thrust': 3.883}, {'time': 1.291, 'thrust': 3.883}, {'time': 1.524, 'thrust': 4.221}, {'time': 1.683, 'thrust': 4.221}, {'time': 1.702, 'thrust': 2.195}, {'time': 1.73, 'thrust': 0}], 'infoUrl': '/simfiles/5f4294d20002e900000004e6/', 'dataUrl': '/simfiles/5f4294d20002e900000004e6/download/data.eng'}]}\n",
      "samples found\n",
      "motor_id and motor_name 5f4294d20002310000000014 C5\n",
      "numpy time [0.005 0.031 0.063 0.117 0.151 0.168 0.174 0.179 0.199 0.211 0.217 0.23\n",
      " 0.234 0.239 0.252 0.258 0.265 0.28  0.296 0.349 0.438 0.504 0.611 0.815\n",
      " 0.97  1.335 1.598 1.794 1.96  1.987 1.992]\n",
      "numpy thrust [ 1.422  2.695  5.503 10.444 14.374 16.358 16.471 17.594 18.604 19.877\n",
      " 20.401 20.289 18.679 18.23  13.813  9.021  6.588  4.904  4.08   3.481\n",
      "  2.995  2.733  2.807  2.695  2.695  2.695  2.658  2.695  2.733  1.16\n",
      "  0.   ]\n"
     ]
    },
    {
     "name": "stderr",
     "output_type": "stream",
     "text": [
      " 15%|███████████████▊                                                                                       | 2/13 [00:00<00:02,  4.85it/s]"
     ]
    },
    {
     "name": "stdout",
     "output_type": "stream",
     "text": [
      "thrust data {'results': [{'motorId': '5f4294d20002310000000016', 'simfileId': '5f4294d20002e90000000377', 'format': 'RockSim', 'source': 'user', 'samples': [{'time': 0, 'thrust': 0}, {'time': 0.05, 'thrust': 3.8}, {'time': 0.1, 'thrust': 6.5}, {'time': 0.15, 'thrust': 11.75}, {'time': 0.2, 'thrust': 13.4}, {'time': 0.25, 'thrust': 9.25}, {'time': 0.3, 'thrust': 7}, {'time': 0.4, 'thrust': 5.6}, {'time': 0.5, 'thrust': 5.2}, {'time': 0.6, 'thrust': 5.05}, {'time': 0.7, 'thrust': 4.8}, {'time': 0.8, 'thrust': 4.5}, {'time': 0.9, 'thrust': 4.6}, {'time': 1, 'thrust': 4.45}, {'time': 1.2, 'thrust': 4.2}, {'time': 1.35, 'thrust': 4}, {'time': 1.62, 'thrust': 4}, {'time': 1.63, 'thrust': 0}], 'infoUrl': '/simfiles/5f4294d20002e90000000377/', 'dataUrl': '/simfiles/5f4294d20002e90000000377/download/data.rse'}, {'motorId': '5f4294d20002310000000016', 'simfileId': '5f4294d20002e9000000041c', 'format': 'RASP', 'source': 'cert', 'samples': [{'time': 0.02, 'thrust': 0.497}, {'time': 0.057, 'thrust': 2.539}, {'time': 0.089, 'thrust': 5.132}, {'time': 0.129, 'thrust': 7.947}, {'time': 0.159, 'thrust': 9.437}, {'time': 0.171, 'thrust': 21.247}, {'time': 0.181, 'thrust': 23.234}, {'time': 0.194, 'thrust': 22.958}, {'time': 0.204, 'thrust': 22.185}, {'time': 0.218, 'thrust': 19.592}, {'time': 0.233, 'thrust': 17.881}, {'time': 0.258, 'thrust': 10.486}, {'time': 0.308, 'thrust': 2.428}, {'time': 0.338, 'thrust': 2.539}, {'time': 0.385, 'thrust': 2.98}, {'time': 0.412, 'thrust': 3.091}, {'time': 0.442, 'thrust': 3.422}, {'time': 0.459, 'thrust': 2.98}, {'time': 0.536, 'thrust': 3.256}, {'time': 0.732, 'thrust': 3.311}, {'time': 0.747, 'thrust': 2.483}, {'time': 0.78, 'thrust': 2.98}, {'time': 1.323, 'thrust': 3.587}, {'time': 1.365, 'thrust': 2.815}, {'time': 1.887, 'thrust': 3.808}, {'time': 1.974, 'thrust': 3.256}, {'time': 2.1, 'thrust': 3.532}, {'time': 2.227, 'thrust': 3.201}, {'time': 2.247, 'thrust': 0}], 'infoUrl': '/simfiles/5f4294d20002e9000000041c/', 'dataUrl': '/simfiles/5f4294d20002e9000000041c/download/data.eng'}]}\n",
      "samples found\n",
      "motor_id and motor_name 5f4294d20002310000000016 C6\n",
      "numpy time [0.   0.05 0.1  0.15 0.2  0.25 0.3  0.4  0.5  0.6  0.7  0.8  0.9  1.\n",
      " 1.2  1.35 1.62 1.63]\n",
      "numpy thrust [ 0.    3.8   6.5  11.75 13.4   9.25  7.    5.6   5.2   5.05  4.8   4.5\n",
      "  4.6   4.45  4.2   4.    4.    0.  ]\n"
     ]
    },
    {
     "name": "stderr",
     "output_type": "stream",
     "text": [
      " 23%|███████████████████████▊                                                                               | 3/13 [00:00<00:02,  4.83it/s]"
     ]
    },
    {
     "name": "stdout",
     "output_type": "stream",
     "text": [
      "thrust data {'results': [{'motorId': '5f4294d2000231000000001a', 'simfileId': '5f4294d20002e9000000036e', 'format': 'RockSim', 'source': 'user', 'samples': [{'time': 0, 'thrust': 0}, {'time': 0.034, 'thrust': 1.692}, {'time': 0.066, 'thrust': 3.782}, {'time': 0.107, 'thrust': 7.566}, {'time': 0.145, 'thrust': 10.946}, {'time': 0.183, 'thrust': 14.832}, {'time': 0.214, 'thrust': 17.618}, {'time': 0.226, 'thrust': 18.213}, {'time': 0.256, 'thrust': 20.107}, {'time': 0.281, 'thrust': 21.208}, {'time': 0.298, 'thrust': 21.73}, {'time': 0.306, 'thrust': 20.206}, {'time': 0.323, 'thrust': 17.321}, {'time': 0.337, 'thrust': 14.931}, {'time': 0.358, 'thrust': 13.236}, {'time': 0.385, 'thrust': 11.947}, {'time': 0.413, 'thrust': 11.65}, {'time': 0.468, 'thrust': 10.946}, {'time': 0.539, 'thrust': 10.45}, {'time': 0.619, 'thrust': 10.648}, {'time': 0.683, 'thrust': 10.648}, {'time': 0.715, 'thrust': 10.648}, {'time': 0.726, 'thrust': 10.053}, {'time': 0.74, 'thrust': 8.163}, {'time': 0.758, 'thrust': 5.773}, {'time': 0.778, 'thrust': 3.185}, {'time': 0.795, 'thrust': 1.394}, {'time': 0.81, 'thrust': 0}], 'infoUrl': '/simfiles/5f4294d20002e9000000036e/', 'dataUrl': '/simfiles/5f4294d20002e9000000036e/download/data.rse'}, {'motorId': '5f4294d2000231000000001a', 'simfileId': '5f4294d20002e900000004e8', 'format': 'RASP', 'source': 'user', 'samples': [{'time': 0.034, 'thrust': 1.692}, {'time': 0.066, 'thrust': 3.782}, {'time': 0.107, 'thrust': 7.566}, {'time': 0.145, 'thrust': 10.946}, {'time': 0.183, 'thrust': 14.832}, {'time': 0.214, 'thrust': 17.618}, {'time': 0.226, 'thrust': 18.213}, {'time': 0.256, 'thrust': 20.107}, {'time': 0.281, 'thrust': 21.208}, {'time': 0.298, 'thrust': 21.73}, {'time': 0.306, 'thrust': 20.206}, {'time': 0.323, 'thrust': 17.321}, {'time': 0.337, 'thrust': 14.931}, {'time': 0.358, 'thrust': 13.236}, {'time': 0.385, 'thrust': 11.947}, {'time': 0.413, 'thrust': 11.65}, {'time': 0.468, 'thrust': 10.946}, {'time': 0.539, 'thrust': 10.45}, {'time': 0.619, 'thrust': 10.648}, {'time': 0.683, 'thrust': 10.648}, {'time': 0.715, 'thrust': 10.648}, {'time': 0.726, 'thrust': 10.053}, {'time': 0.74, 'thrust': 8.163}, {'time': 0.758, 'thrust': 5.773}, {'time': 0.778, 'thrust': 3.185}, {'time': 0.795, 'thrust': 1.394}, {'time': 0.81, 'thrust': 0}], 'infoUrl': '/simfiles/5f4294d20002e900000004e8/', 'dataUrl': '/simfiles/5f4294d20002e900000004e8/download/data.eng'}]}\n",
      "samples found\n",
      "motor_id and motor_name 5f4294d2000231000000001a C11\n",
      "numpy time [0.    0.034 0.066 0.107 0.145 0.183 0.214 0.226 0.256 0.281 0.298 0.306\n",
      " 0.323 0.337 0.358 0.385 0.413 0.468 0.539 0.619 0.683 0.715 0.726 0.74\n",
      " 0.758 0.778 0.795 0.81 ]\n",
      "numpy thrust [ 0.     1.692  3.782  7.566 10.946 14.832 17.618 18.213 20.107 21.208\n",
      " 21.73  20.206 17.321 14.931 13.236 11.947 11.65  10.946 10.45  10.648\n",
      " 10.648 10.648 10.053  8.163  5.773  3.185  1.394  0.   ]\n"
     ]
    },
    {
     "name": "stderr",
     "output_type": "stream",
     "text": [
      " 31%|███████████████████████████████▋                                                                       | 4/13 [00:00<00:01,  4.83it/s]"
     ]
    },
    {
     "name": "stdout",
     "output_type": "stream",
     "text": [
      "thrust data {'results': [{'motorId': '5f4294d20002310000000015', 'simfileId': '5f4294d20002e90000000833', 'format': 'RASP', 'source': 'user', 'license': 'PD', 'samples': [{'time': 0.014, 'thrust': 0.633}, {'time': 0.026, 'thrust': 1.533}, {'time': 0.067, 'thrust': 2.726}, {'time': 0.099, 'thrust': 5.136}, {'time': 0.15, 'thrust': 9.103}, {'time': 0.183, 'thrust': 11.465}, {'time': 0.207, 'thrust': 11.635}, {'time': 0.219, 'thrust': 11.391}, {'time': 0.262, 'thrust': 6.377}, {'time': 0.333, 'thrust': 5.014}, {'time': 0.349, 'thrust': 5.209}, {'time': 0.392, 'thrust': 4.722}, {'time': 0.475, 'thrust': 4.771}, {'time': 0.653, 'thrust': 4.746}, {'time': 0.913, 'thrust': 4.673}, {'time': 1.366, 'thrust': 4.625}, {'time': 1.607, 'thrust': 4.625}, {'time': 1.745, 'thrust': 4.868}, {'time': 1.978, 'thrust': 4.795}, {'time': 2.023, 'thrust': 0.828}, {'time': 2.024, 'thrust': 0}], 'infoUrl': '/simfiles/5f4294d20002e90000000833/', 'dataUrl': '/simfiles/5f4294d20002e90000000833/download/data.eng'}, {'motorId': '5f4294d20002310000000015', 'simfileId': '5f4294d20002e9000000036d', 'format': 'RockSim', 'source': 'user', 'samples': [{'time': 0, 'thrust': 0}, {'time': 0.031, 'thrust': 0.946}, {'time': 0.092, 'thrust': 4.826}, {'time': 0.139, 'thrust': 9.936}, {'time': 0.192, 'thrust': 14.09}, {'time': 0.209, 'thrust': 11.446}, {'time': 0.231, 'thrust': 7.381}, {'time': 0.248, 'thrust': 6.151}, {'time': 0.292, 'thrust': 5.489}, {'time': 0.37, 'thrust': 4.921}, {'time': 0.475, 'thrust': 4.448}, {'time': 0.671, 'thrust': 4.258}, {'time': 0.702, 'thrust': 4.542}, {'time': 0.723, 'thrust': 4.164}, {'time': 0.85, 'thrust': 4.448}, {'time': 1.063, 'thrust': 4.353}, {'time': 1.211, 'thrust': 4.353}, {'time': 1.242, 'thrust': 4.069}, {'time': 1.303, 'thrust': 4.258}, {'time': 1.468, 'thrust': 4.353}, {'time': 1.656, 'thrust': 4.448}, {'time': 1.821, 'thrust': 4.448}, {'time': 1.834, 'thrust': 2.933}, {'time': 1.847, 'thrust': 1.325}, {'time': 1.86, 'thrust': 0}], 'infoUrl': '/simfiles/5f4294d20002e9000000036d/', 'dataUrl': '/simfiles/5f4294d20002e9000000036d/download/data.rse'}, {'motorId': '5f4294d20002310000000015', 'simfileId': '5f4294d20002e900000004e7', 'format': 'RASP', 'source': 'user', 'samples': [{'time': 0.031, 'thrust': 0.946}, {'time': 0.092, 'thrust': 4.826}, {'time': 0.139, 'thrust': 9.936}, {'time': 0.192, 'thrust': 14.09}, {'time': 0.209, 'thrust': 11.446}, {'time': 0.231, 'thrust': 7.381}, {'time': 0.248, 'thrust': 6.151}, {'time': 0.292, 'thrust': 5.489}, {'time': 0.37, 'thrust': 4.921}, {'time': 0.475, 'thrust': 4.448}, {'time': 0.671, 'thrust': 4.258}, {'time': 0.702, 'thrust': 4.542}, {'time': 0.723, 'thrust': 4.164}, {'time': 0.85, 'thrust': 4.448}, {'time': 1.063, 'thrust': 4.353}, {'time': 1.211, 'thrust': 4.353}, {'time': 1.242, 'thrust': 4.069}, {'time': 1.303, 'thrust': 4.258}, {'time': 1.468, 'thrust': 4.353}, {'time': 1.656, 'thrust': 4.448}, {'time': 1.821, 'thrust': 4.448}, {'time': 1.834, 'thrust': 2.933}, {'time': 1.847, 'thrust': 1.325}, {'time': 1.86, 'thrust': 0}], 'infoUrl': '/simfiles/5f4294d20002e900000004e7/', 'dataUrl': '/simfiles/5f4294d20002e900000004e7/download/data.eng'}]}\n",
      "samples found\n",
      "motor_id and motor_name 5f4294d20002310000000015 C6\n",
      "numpy time [0.014 0.026 0.067 0.099 0.15  0.183 0.207 0.219 0.262 0.333 0.349 0.392\n",
      " 0.475 0.653 0.913 1.366 1.607 1.745 1.978 2.023 2.024]\n",
      "numpy thrust [ 0.633  1.533  2.726  5.136  9.103 11.465 11.635 11.391  6.377  5.014\n",
      "  5.209  4.722  4.771  4.746  4.673  4.625  4.625  4.868  4.795  0.828\n",
      "  0.   ]\n"
     ]
    },
    {
     "name": "stderr",
     "output_type": "stream",
     "text": [
      " 38%|███████████████████████████████████████▌                                                               | 5/13 [00:01<00:01,  4.82it/s]"
     ]
    },
    {
     "name": "stdout",
     "output_type": "stream",
     "text": [
      "thrust data {'results': [{'motorId': '5f4294d20002310000000403', 'simfileId': '5f4294d20002e900000007f4', 'format': 'RockSim', 'source': 'mfr', 'samples': [{'time': 0, 'thrust': 0}, {'time': 0.0993926, 'thrust': 1.88406}, {'time': 0.45831, 'thrust': 12.2826}, {'time': 0.516289, 'thrust': 4.96377}, {'time': 0.599117, 'thrust': 3.42857}, {'time': 0.770293, 'thrust': 3.22689}, {'time': 0.866924, 'thrust': 2.85714}, {'time': 1.50193, 'thrust': 3.09244}, {'time': 2.05411, 'thrust': 2.89076}, {'time': 2.63114, 'thrust': 2.42754}, {'time': 2.9, 'thrust': 0}], 'infoUrl': '/simfiles/5f4294d20002e900000007f4/', 'dataUrl': '/simfiles/5f4294d20002e900000007f4/download/data.rse'}]}\n",
      "samples found\n",
      "motor_id and motor_name 5f4294d20002310000000403 SCR-C6\n",
      "numpy time [0.        0.0993926 0.45831   0.516289  0.599117  0.770293  0.866924\n",
      " 1.50193   2.05411   2.63114   2.9      ]\n",
      "numpy thrust [ 0.       1.88406 12.2826   4.96377  3.42857  3.22689  2.85714  3.09244\n",
      "  2.89076  2.42754  0.     ]\n"
     ]
    },
    {
     "name": "stderr",
     "output_type": "stream",
     "text": [
      " 46%|███████████████████████████████████████████████▌                                                       | 6/13 [00:01<00:01,  4.81it/s]"
     ]
    },
    {
     "name": "stdout",
     "output_type": "stream",
     "text": [
      "thrust data {'results': [{'motorId': '5f4294d20002310000000013', 'simfileId': '5f4294d20002e90000000350', 'format': 'RockSim', 'source': 'user', 'samples': [{'time': 0, 'thrust': 0}, {'time': 0.018, 'thrust': 3.23}, {'time': 0.041, 'thrust': 6.874}, {'time': 0.147, 'thrust': 8.779}, {'time': 0.294, 'thrust': 10.683}, {'time': 0.365, 'thrust': 11.31}, {'time': 0.388, 'thrust': 10.521}, {'time': 0.412, 'thrust': 8.779}, {'time': 0.441, 'thrust': 7.04}, {'time': 0.465, 'thrust': 4.555}, {'time': 0.529, 'thrust': 3.479}, {'time': 0.629, 'thrust': 2.981}, {'time': 0.653, 'thrust': 3.23}, {'time': 0.718, 'thrust': 2.816}, {'time': 0.853, 'thrust': 2.733}, {'time': 1.065, 'thrust': 2.65}, {'time': 1.253, 'thrust': 2.567}, {'time': 1.453, 'thrust': 2.401}, {'time': 1.694, 'thrust': 2.484}, {'time': 1.794, 'thrust': 2.484}, {'time': 1.812, 'thrust': 2.733}, {'time': 1.841, 'thrust': 2.401}, {'time': 1.947, 'thrust': 2.401}, {'time': 2.112, 'thrust': 2.401}, {'time': 2.235, 'thrust': 2.401}, {'time': 2.282, 'thrust': 2.236}, {'time': 2.312, 'thrust': 1.656}, {'time': 2.329, 'thrust': 0.662}, {'time': 2.35, 'thrust': 0}], 'infoUrl': '/simfiles/5f4294d20002e90000000350/', 'dataUrl': '/simfiles/5f4294d20002e90000000350/download/data.rse'}, {'motorId': '5f4294d20002310000000013', 'simfileId': '5f4294d20002e90000000490', 'format': 'RASP', 'source': 'user', 'samples': [{'time': 0.018, 'thrust': 3.23}, {'time': 0.041, 'thrust': 6.874}, {'time': 0.147, 'thrust': 8.779}, {'time': 0.294, 'thrust': 10.683}, {'time': 0.365, 'thrust': 11.31}, {'time': 0.388, 'thrust': 10.521}, {'time': 0.412, 'thrust': 8.779}, {'time': 0.441, 'thrust': 7.04}, {'time': 0.465, 'thrust': 4.555}, {'time': 0.529, 'thrust': 3.479}, {'time': 0.629, 'thrust': 2.981}, {'time': 0.653, 'thrust': 3.23}, {'time': 0.718, 'thrust': 2.816}, {'time': 0.853, 'thrust': 2.733}, {'time': 1.065, 'thrust': 2.65}, {'time': 1.253, 'thrust': 2.567}, {'time': 1.453, 'thrust': 2.401}, {'time': 1.694, 'thrust': 2.484}, {'time': 1.794, 'thrust': 2.484}, {'time': 1.812, 'thrust': 2.733}, {'time': 1.841, 'thrust': 2.401}, {'time': 1.947, 'thrust': 2.401}, {'time': 2.112, 'thrust': 2.401}, {'time': 2.235, 'thrust': 2.401}, {'time': 2.282, 'thrust': 2.236}, {'time': 2.312, 'thrust': 1.656}, {'time': 2.329, 'thrust': 0.662}, {'time': 2.35, 'thrust': 0}], 'infoUrl': '/simfiles/5f4294d20002e90000000490/', 'dataUrl': '/simfiles/5f4294d20002e90000000490/download/data.eng'}]}\n",
      "samples found\n",
      "motor_id and motor_name 5f4294d20002310000000013 C4\n",
      "numpy time [0.    0.018 0.041 0.147 0.294 0.365 0.388 0.412 0.441 0.465 0.529 0.629\n",
      " 0.653 0.718 0.853 1.065 1.253 1.453 1.694 1.794 1.812 1.841 1.947 2.112\n",
      " 2.235 2.282 2.312 2.329 2.35 ]\n",
      "numpy thrust [ 0.     3.23   6.874  8.779 10.683 11.31  10.521  8.779  7.04   4.555\n",
      "  3.479  2.981  3.23   2.816  2.733  2.65   2.567  2.401  2.484  2.484\n",
      "  2.733  2.401  2.401  2.401  2.401  2.236  1.656  0.662  0.   ]\n"
     ]
    },
    {
     "name": "stderr",
     "output_type": "stream",
     "text": [
      " 54%|███████████████████████████████████████████████████████▍                                               | 7/13 [00:01<00:01,  4.82it/s]"
     ]
    },
    {
     "name": "stdout",
     "output_type": "stream",
     "text": [
      "thrust data {'results': [{'motorId': '5f4294d2000231000000040c', 'simfileId': '5f923f0a1bca5800041716ae', 'format': 'RockSim', 'source': 'user', 'license': 'PD', 'samples': [{'time': 0, 'thrust': 0}, {'time': 0.023, 'thrust': 3.188}, {'time': 0.028, 'thrust': 5.669}, {'time': 0.093, 'thrust': 9.08}, {'time': 0.235, 'thrust': 8.208}, {'time': 0.427, 'thrust': 6.881}, {'time': 0.513, 'thrust': 6.188}, {'time': 0.6, 'thrust': 5.438}, {'time': 0.666, 'thrust': 4.803}, {'time': 0.762, 'thrust': 3.649}, {'time': 0.838, 'thrust': 2.668}, {'time': 0.97, 'thrust': 2.149}, {'time': 1.228, 'thrust': 1.918}, {'time': 1.522, 'thrust': 1.918}, {'time': 1.8, 'thrust': 1.86}, {'time': 2.013, 'thrust': 1.745}, {'time': 2.068, 'thrust': 2.034}, {'time': 2.134, 'thrust': 1.803}, {'time': 2.326, 'thrust': 1.803}, {'time': 2.509, 'thrust': 1.745}, {'time': 2.645, 'thrust': 1.687}, {'time': 2.721, 'thrust': 1.457}, {'time': 2.807, 'thrust': 0.879}, {'time': 2.86, 'thrust': 0}], 'infoUrl': '/simfiles/5f923f0a1bca5800041716ae/', 'dataUrl': '/simfiles/5f923f0a1bca5800041716ae/download/data.rse'}, {'motorId': '5f4294d2000231000000040c', 'simfileId': '5f4294d20002e90000000800', 'format': 'RASP', 'source': 'cert', 'samples': [{'time': 0.023, 'thrust': 3.188}, {'time': 0.028, 'thrust': 5.669}, {'time': 0.093, 'thrust': 9.08}, {'time': 0.235, 'thrust': 8.208}, {'time': 0.427, 'thrust': 6.881}, {'time': 0.513, 'thrust': 6.188}, {'time': 0.6, 'thrust': 5.438}, {'time': 0.666, 'thrust': 4.803}, {'time': 0.762, 'thrust': 3.649}, {'time': 0.838, 'thrust': 2.668}, {'time': 0.97, 'thrust': 2.149}, {'time': 1.228, 'thrust': 1.918}, {'time': 1.522, 'thrust': 1.918}, {'time': 1.8, 'thrust': 1.86}, {'time': 2.013, 'thrust': 1.745}, {'time': 2.068, 'thrust': 2.034}, {'time': 2.134, 'thrust': 1.803}, {'time': 2.326, 'thrust': 1.803}, {'time': 2.509, 'thrust': 1.745}, {'time': 2.645, 'thrust': 1.687}, {'time': 2.721, 'thrust': 1.457}, {'time': 2.807, 'thrust': 0.879}, {'time': 2.86, 'thrust': 0}], 'infoUrl': '/simfiles/5f4294d20002e90000000800/', 'dataUrl': '/simfiles/5f4294d20002e90000000800/download/data.eng'}]}\n",
      "samples found\n",
      "motor_id and motor_name 5f4294d2000231000000040c C3.4T\n",
      "numpy time [0.    0.023 0.028 0.093 0.235 0.427 0.513 0.6   0.666 0.762 0.838 0.97\n",
      " 1.228 1.522 1.8   2.013 2.068 2.134 2.326 2.509 2.645 2.721 2.807 2.86 ]\n",
      "numpy thrust [0.    3.188 5.669 9.08  8.208 6.881 6.188 5.438 4.803 3.649 2.668 2.149\n",
      " 1.918 1.918 1.86  1.745 2.034 1.803 1.803 1.745 1.687 1.457 0.879 0.   ]\n"
     ]
    },
    {
     "name": "stderr",
     "output_type": "stream",
     "text": [
      " 62%|███████████████████████████████████████████████████████████████▍                                       | 8/13 [00:01<00:01,  4.78it/s]"
     ]
    },
    {
     "name": "stdout",
     "output_type": "stream",
     "text": [
      "thrust data {'results': [{'motorId': '5f4294d20002310000000019', 'simfileId': '5f4294d20002e90000000352', 'format': 'RockSim', 'source': 'user', 'samples': [{'time': 0, 'thrust': 0}, {'time': 0.01, 'thrust': 2.712}, {'time': 0.019, 'thrust': 5.842}, {'time': 0.029, 'thrust': 17.116}, {'time': 0.037, 'thrust': 25.72}, {'time': 0.051, 'thrust': 22.535}, {'time': 0.07, 'thrust': 20.446}, {'time': 0.106, 'thrust': 18.983}, {'time': 0.164, 'thrust': 17.085}, {'time': 0.188, 'thrust': 17.085}, {'time': 0.2, 'thrust': 15.824}, {'time': 0.216, 'thrust': 16.036}, {'time': 0.255, 'thrust': 15.602}, {'time': 0.293, 'thrust': 14.35}, {'time': 0.343, 'thrust': 13.503}, {'time': 0.394, 'thrust': 12.655}, {'time': 0.41, 'thrust': 11.605}, {'time': 0.434, 'thrust': 11.605}, {'time': 0.521, 'thrust': 9.287}, {'time': 0.631, 'thrust': 6.34}, {'time': 0.741, 'thrust': 4.021}, {'time': 0.851, 'thrust': 2.119}, {'time': 0.911, 'thrust': 1.48}, {'time': 0.945, 'thrust': 1.264}, {'time': 0.96, 'thrust': 0}], 'infoUrl': '/simfiles/5f4294d20002e90000000352/', 'dataUrl': '/simfiles/5f4294d20002e90000000352/download/data.rse'}, {'motorId': '5f4294d20002310000000019', 'simfileId': '5f4294d20002e90000000492', 'format': 'RASP', 'source': 'user', 'samples': [{'time': 0.01, 'thrust': 2.712}, {'time': 0.019, 'thrust': 5.842}, {'time': 0.029, 'thrust': 17.116}, {'time': 0.037, 'thrust': 25.72}, {'time': 0.051, 'thrust': 22.535}, {'time': 0.07, 'thrust': 20.446}, {'time': 0.106, 'thrust': 18.983}, {'time': 0.164, 'thrust': 17.085}, {'time': 0.188, 'thrust': 17.085}, {'time': 0.2, 'thrust': 15.824}, {'time': 0.216, 'thrust': 16.036}, {'time': 0.255, 'thrust': 15.602}, {'time': 0.293, 'thrust': 14.35}, {'time': 0.343, 'thrust': 13.503}, {'time': 0.394, 'thrust': 12.655}, {'time': 0.41, 'thrust': 11.605}, {'time': 0.434, 'thrust': 11.605}, {'time': 0.521, 'thrust': 9.287}, {'time': 0.631, 'thrust': 6.34}, {'time': 0.741, 'thrust': 4.021}, {'time': 0.851, 'thrust': 2.119}, {'time': 0.911, 'thrust': 1.48}, {'time': 0.945, 'thrust': 1.264}, {'time': 0.96, 'thrust': 0}], 'infoUrl': '/simfiles/5f4294d20002e90000000492/', 'dataUrl': '/simfiles/5f4294d20002e90000000492/download/data.eng'}]}\n",
      "samples found\n",
      "motor_id and motor_name 5f4294d20002310000000019 C10\n",
      "numpy time [0.    0.01  0.019 0.029 0.037 0.051 0.07  0.106 0.164 0.188 0.2   0.216\n",
      " 0.255 0.293 0.343 0.394 0.41  0.434 0.521 0.631 0.741 0.851 0.911 0.945\n",
      " 0.96 ]\n",
      "numpy thrust [ 0.     2.712  5.842 17.116 25.72  22.535 20.446 18.983 17.085 17.085\n",
      " 15.824 16.036 15.602 14.35  13.503 12.655 11.605 11.605  9.287  6.34\n",
      "  4.021  2.119  1.48   1.264  0.   ]\n"
     ]
    },
    {
     "name": "stderr",
     "output_type": "stream",
     "text": [
      " 69%|███████████████████████████████████████████████████████████████████████▎                               | 9/13 [00:01<00:00,  4.76it/s]"
     ]
    },
    {
     "name": "stdout",
     "output_type": "stream",
     "text": [
      "thrust data {'results': [{'motorId': '5f4294d2000231000000045e', 'simfileId': '5f4294d20002e900000008a5', 'format': 'RockSim', 'source': 'cert', 'license': 'PD', 'samples': [{'time': 0, 'thrust': 0}, {'time': 0.012, 'thrust': 0.342}, {'time': 0.023, 'thrust': 1.796}, {'time': 0.036, 'thrust': 5.218}, {'time': 0.05, 'thrust': 8.127}, {'time': 0.051, 'thrust': 9.41}, {'time': 0.061, 'thrust': 10.351}, {'time': 0.088, 'thrust': 9.752}, {'time': 0.099, 'thrust': 9.752}, {'time': 0.144, 'thrust': 10.265}, {'time': 0.165, 'thrust': 10.864}, {'time': 0.183, 'thrust': 11.634}, {'time': 0.334, 'thrust': 13.687}, {'time': 0.501, 'thrust': 14.628}, {'time': 0.552, 'thrust': 15.056}, {'time': 0.582, 'thrust': 14.628}, {'time': 0.593, 'thrust': 15.227}, {'time': 0.618, 'thrust': 15.056}, {'time': 0.664, 'thrust': 15.74}, {'time': 0.702, 'thrust': 17.536}, {'time': 0.711, 'thrust': 17.707}, {'time': 0.721, 'thrust': 16.852}, {'time': 0.727, 'thrust': 14.799}, {'time': 0.739, 'thrust': 11.035}, {'time': 0.754, 'thrust': 7.271}, {'time': 0.765, 'thrust': 5.304}, {'time': 0.782, 'thrust': 3.336}, {'time': 0.8, 'thrust': 2.053}, {'time': 0.823, 'thrust': 1.283}, {'time': 0.848, 'thrust': 0.77}, {'time': 0.889, 'thrust': 0}], 'infoUrl': '/simfiles/5f4294d20002e900000008a5/', 'dataUrl': '/simfiles/5f4294d20002e900000008a5/download/data.rse'}, {'motorId': '5f4294d2000231000000045e', 'simfileId': '5f4294d20002e900000008a4', 'format': 'RASP', 'source': 'cert', 'license': 'PD', 'samples': [{'time': 0.012, 'thrust': 0.342}, {'time': 0.023, 'thrust': 1.796}, {'time': 0.036, 'thrust': 5.218}, {'time': 0.05, 'thrust': 8.127}, {'time': 0.051, 'thrust': 9.41}, {'time': 0.061, 'thrust': 10.351}, {'time': 0.088, 'thrust': 9.752}, {'time': 0.099, 'thrust': 9.752}, {'time': 0.144, 'thrust': 10.265}, {'time': 0.165, 'thrust': 10.864}, {'time': 0.183, 'thrust': 11.634}, {'time': 0.334, 'thrust': 13.687}, {'time': 0.501, 'thrust': 14.628}, {'time': 0.552, 'thrust': 15.056}, {'time': 0.582, 'thrust': 14.628}, {'time': 0.593, 'thrust': 15.227}, {'time': 0.618, 'thrust': 15.056}, {'time': 0.664, 'thrust': 15.74}, {'time': 0.702, 'thrust': 17.536}, {'time': 0.711, 'thrust': 17.707}, {'time': 0.721, 'thrust': 16.852}, {'time': 0.727, 'thrust': 14.799}, {'time': 0.739, 'thrust': 11.035}, {'time': 0.754, 'thrust': 7.271}, {'time': 0.765, 'thrust': 5.304}, {'time': 0.782, 'thrust': 3.336}, {'time': 0.8, 'thrust': 2.053}, {'time': 0.823, 'thrust': 1.283}, {'time': 0.848, 'thrust': 0.77}, {'time': 0.889, 'thrust': 0}], 'infoUrl': '/simfiles/5f4294d20002e900000008a4/', 'dataUrl': '/simfiles/5f4294d20002e900000008a4/download/data.eng'}]}\n",
      "samples found\n",
      "motor_id and motor_name 5f4294d2000231000000045e C12\n",
      "numpy time [0.    0.012 0.023 0.036 0.05  0.051 0.061 0.088 0.099 0.144 0.165 0.183\n",
      " 0.334 0.501 0.552 0.582 0.593 0.618 0.664 0.702 0.711 0.721 0.727 0.739\n",
      " 0.754 0.765 0.782 0.8   0.823 0.848 0.889]\n",
      "numpy thrust [ 0.     0.342  1.796  5.218  8.127  9.41  10.351  9.752  9.752 10.265\n",
      " 10.864 11.634 13.687 14.628 15.056 14.628 15.227 15.056 15.74  17.536\n",
      " 17.707 16.852 14.799 11.035  7.271  5.304  3.336  2.053  1.283  0.77\n",
      "  0.   ]\n"
     ]
    },
    {
     "name": "stderr",
     "output_type": "stream",
     "text": [
      " 77%|██████████████████████████████████████████████████████████████████████████████▍                       | 10/13 [00:02<00:00,  4.75it/s]"
     ]
    },
    {
     "name": "stdout",
     "output_type": "stream",
     "text": [
      "thrust data {'results': [{'motorId': '5f7696fb9503a10004898857', 'simfileId': '5f8b0624d5fa3b000447e82c', 'format': 'RockSim', 'source': 'mfr', 'license': 'PD', 'samples': [{'time': 0, 'thrust': 0}, {'time': 0.04, 'thrust': 0.229}, {'time': 0.12, 'thrust': 0.658}, {'time': 0.211, 'thrust': 1.144}, {'time': 0.291, 'thrust': 1.831}, {'time': 0.385, 'thrust': 2.86}, {'time': 0.447, 'thrust': 3.833}, {'time': 0.505, 'thrust': 5.001}, {'time': 0.567, 'thrust': 3.89}, {'time': 0.615, 'thrust': 3.146}, {'time': 0.665, 'thrust': 2.66}, {'time': 0.735, 'thrust': 2.203}, {'time': 0.815, 'thrust': 2.088}, {'time': 0.93, 'thrust': 1.98}, {'time': 4.589, 'thrust': 1.96}, {'time': 4.729, 'thrust': 1.888}, {'time': 4.815, 'thrust': 1.602}, {'time': 4.873, 'thrust': 1.259}, {'time': 4.969, 'thrust': 0.658}, {'time': 5.083, 'thrust': 0}], 'infoUrl': '/simfiles/5f8b0624d5fa3b000447e82c/', 'dataUrl': '/simfiles/5f8b0624d5fa3b000447e82c/download/data.rse'}, {'motorId': '5f7696fb9503a10004898857', 'simfileId': '5f8b060ed5fa3b000447e82a', 'format': 'RASP', 'source': 'mfr', 'license': 'PD', 'samples': [{'time': 0.04, 'thrust': 0.229}, {'time': 0.12, 'thrust': 0.658}, {'time': 0.211, 'thrust': 1.144}, {'time': 0.291, 'thrust': 1.831}, {'time': 0.385, 'thrust': 2.86}, {'time': 0.447, 'thrust': 3.833}, {'time': 0.505, 'thrust': 5.001}, {'time': 0.567, 'thrust': 3.89}, {'time': 0.615, 'thrust': 3.146}, {'time': 0.665, 'thrust': 2.66}, {'time': 0.735, 'thrust': 2.203}, {'time': 0.815, 'thrust': 2.088}, {'time': 0.93, 'thrust': 1.98}, {'time': 4.589, 'thrust': 1.96}, {'time': 4.729, 'thrust': 1.888}, {'time': 4.815, 'thrust': 1.602}, {'time': 4.873, 'thrust': 1.259}, {'time': 4.969, 'thrust': 0.658}, {'time': 5.083, 'thrust': 0}], 'infoUrl': '/simfiles/5f8b060ed5fa3b000447e82a/', 'dataUrl': '/simfiles/5f8b060ed5fa3b000447e82a/download/data.eng'}]}\n",
      "samples found\n",
      "motor_id and motor_name 5f7696fb9503a10004898857 C2\n",
      "numpy time [0.    0.04  0.12  0.211 0.291 0.385 0.447 0.505 0.567 0.615 0.665 0.735\n",
      " 0.815 0.93  4.589 4.729 4.815 4.873 4.969 5.083]\n",
      "numpy thrust [0.    0.229 0.658 1.144 1.831 2.86  3.833 5.001 3.89  3.146 2.66  2.203\n",
      " 2.088 1.98  1.96  1.888 1.602 1.259 0.658 0.   ]\n"
     ]
    },
    {
     "name": "stderr",
     "output_type": "stream",
     "text": [
      " 85%|██████████████████████████████████████████████████████████████████████████████████████▎               | 11/13 [00:02<00:00,  4.79it/s]"
     ]
    },
    {
     "name": "stdout",
     "output_type": "stream",
     "text": [
      "thrust data {'results': [{'motorId': '5f7d2f71606b5d00041d9aba', 'simfileId': '5f923ddc1bca580004171646', 'format': 'RockSim', 'source': 'user', 'license': 'PD', 'samples': [{'time': 0, 'thrust': 0}, {'time': 0.013, 'thrust': 0.043}, {'time': 0.022, 'thrust': 0.937}, {'time': 0.03, 'thrust': 2.428}, {'time': 0.039, 'thrust': 6.218}, {'time': 0.044, 'thrust': 12.436}, {'time': 0.052, 'thrust': 20.06}, {'time': 0.059, 'thrust': 21.721}, {'time': 0.071, 'thrust': 22.019}, {'time': 0.08, 'thrust': 21.848}, {'time': 0.088, 'thrust': 22.189}, {'time': 0.122, 'thrust': 21.38}, {'time': 0.132, 'thrust': 21.422}, {'time': 0.143, 'thrust': 21.082}, {'time': 0.152, 'thrust': 21.55}, {'time': 0.167, 'thrust': 21.678}, {'time': 0.177, 'thrust': 21.721}, {'time': 0.187, 'thrust': 21.934}, {'time': 0.197, 'thrust': 21.21}, {'time': 0.218, 'thrust': 21.252}, {'time': 0.225, 'thrust': 21.976}, {'time': 0.232, 'thrust': 22.061}, {'time': 0.241, 'thrust': 21.082}, {'time': 0.247, 'thrust': 20.954}, {'time': 0.261, 'thrust': 21.337}, {'time': 0.268, 'thrust': 21.38}, {'time': 0.277, 'thrust': 20.911}, {'time': 0.294, 'thrust': 21.082}, {'time': 0.313, 'thrust': 21.167}, {'time': 0.324, 'thrust': 21.38}, {'time': 0.331, 'thrust': 21.38}, {'time': 0.34, 'thrust': 21.124}, {'time': 0.347, 'thrust': 21.124}, {'time': 0.356, 'thrust': 21.039}, {'time': 0.363, 'thrust': 21.124}, {'time': 0.377, 'thrust': 21.55}, {'time': 0.384, 'thrust': 21.678}, {'time': 0.396, 'thrust': 22.147}, {'time': 0.404, 'thrust': 22.785}, {'time': 0.414, 'thrust': 22.913}, {'time': 0.424, 'thrust': 22.785}, {'time': 0.436, 'thrust': 22.061}, {'time': 0.443, 'thrust': 21.337}, {'time': 0.454, 'thrust': 20.784}, {'time': 0.461, 'thrust': 20.145}, {'time': 0.468, 'thrust': 19.463}, {'time': 0.477, 'thrust': 17.973}, {'time': 0.482, 'thrust': 15.928}, {'time': 0.49, 'thrust': 13.032}, {'time': 0.5, 'thrust': 9.114}, {'time': 0.509, 'thrust': 6.133}, {'time': 0.52, 'thrust': 3.279}, {'time': 0.532, 'thrust': 0.894}, {'time': 0.539, 'thrust': 0.256}, {'time': 0.543, 'thrust': 0}], 'infoUrl': '/simfiles/5f923ddc1bca580004171646/', 'dataUrl': '/simfiles/5f923ddc1bca580004171646/download/data.rse'}, {'motorId': '5f7d2f71606b5d00041d9aba', 'simfileId': '5f8325318d60410004e91a0b', 'format': 'RASP', 'source': 'user', 'license': 'PD', 'samples': [{'time': 0.013, 'thrust': 0.043}, {'time': 0.022, 'thrust': 0.937}, {'time': 0.03, 'thrust': 2.428}, {'time': 0.039, 'thrust': 6.218}, {'time': 0.044, 'thrust': 12.436}, {'time': 0.052, 'thrust': 20.06}, {'time': 0.059, 'thrust': 21.721}, {'time': 0.071, 'thrust': 22.019}, {'time': 0.08, 'thrust': 21.848}, {'time': 0.088, 'thrust': 22.189}, {'time': 0.122, 'thrust': 21.38}, {'time': 0.132, 'thrust': 21.422}, {'time': 0.143, 'thrust': 21.082}, {'time': 0.152, 'thrust': 21.55}, {'time': 0.167, 'thrust': 21.678}, {'time': 0.177, 'thrust': 21.721}, {'time': 0.187, 'thrust': 21.934}, {'time': 0.197, 'thrust': 21.21}, {'time': 0.218, 'thrust': 21.252}, {'time': 0.225, 'thrust': 21.976}, {'time': 0.232, 'thrust': 22.061}, {'time': 0.241, 'thrust': 21.082}, {'time': 0.247, 'thrust': 20.954}, {'time': 0.261, 'thrust': 21.337}, {'time': 0.268, 'thrust': 21.38}, {'time': 0.277, 'thrust': 20.911}, {'time': 0.294, 'thrust': 21.082}, {'time': 0.313, 'thrust': 21.167}, {'time': 0.324, 'thrust': 21.38}, {'time': 0.331, 'thrust': 21.38}, {'time': 0.34, 'thrust': 21.124}, {'time': 0.347, 'thrust': 21.124}, {'time': 0.356, 'thrust': 21.039}, {'time': 0.363, 'thrust': 21.124}, {'time': 0.377, 'thrust': 21.55}, {'time': 0.384, 'thrust': 21.678}, {'time': 0.396, 'thrust': 22.147}, {'time': 0.404, 'thrust': 22.785}, {'time': 0.414, 'thrust': 22.913}, {'time': 0.424, 'thrust': 22.785}, {'time': 0.436, 'thrust': 22.061}, {'time': 0.443, 'thrust': 21.337}, {'time': 0.454, 'thrust': 20.784}, {'time': 0.461, 'thrust': 20.145}, {'time': 0.468, 'thrust': 19.463}, {'time': 0.477, 'thrust': 17.973}, {'time': 0.482, 'thrust': 15.928}, {'time': 0.49, 'thrust': 13.032}, {'time': 0.5, 'thrust': 9.114}, {'time': 0.509, 'thrust': 6.133}, {'time': 0.52, 'thrust': 3.279}, {'time': 0.532, 'thrust': 0.894}, {'time': 0.539, 'thrust': 0.256}, {'time': 0.543, 'thrust': 0}], 'infoUrl': '/simfiles/5f8325318d60410004e91a0b/', 'dataUrl': '/simfiles/5f8325318d60410004e91a0b/download/data.eng'}]}\n",
      "samples found\n",
      "motor_id and motor_name 5f7d2f71606b5d00041d9aba C18W\n",
      "numpy time [0.    0.013 0.022 0.03  0.039 0.044 0.052 0.059 0.071 0.08  0.088 0.122\n",
      " 0.132 0.143 0.152 0.167 0.177 0.187 0.197 0.218 0.225 0.232 0.241 0.247\n",
      " 0.261 0.268 0.277 0.294 0.313 0.324 0.331 0.34  0.347 0.356 0.363 0.377\n",
      " 0.384 0.396 0.404 0.414 0.424 0.436 0.443 0.454 0.461 0.468 0.477 0.482\n",
      " 0.49  0.5   0.509 0.52  0.532 0.539 0.543]\n",
      "numpy thrust [ 0.     0.043  0.937  2.428  6.218 12.436 20.06  21.721 22.019 21.848\n",
      " 22.189 21.38  21.422 21.082 21.55  21.678 21.721 21.934 21.21  21.252\n",
      " 21.976 22.061 21.082 20.954 21.337 21.38  20.911 21.082 21.167 21.38\n",
      " 21.38  21.124 21.124 21.039 21.124 21.55  21.678 22.147 22.785 22.913\n",
      " 22.785 22.061 21.337 20.784 20.145 19.463 17.973 15.928 13.032  9.114\n",
      "  6.133  3.279  0.894  0.256  0.   ]\n"
     ]
    },
    {
     "name": "stderr",
     "output_type": "stream",
     "text": [
      " 92%|██████████████████████████████████████████████████████████████████████████████████████████████▏       | 12/13 [00:02<00:00,  4.81it/s]"
     ]
    },
    {
     "name": "stdout",
     "output_type": "stream",
     "text": [
      "thrust data {'results': [{'motorId': '5f4294d20002310000000018', 'simfileId': '5f4294d20002e90000000351', 'format': 'RockSim', 'source': 'user', 'samples': [{'time': 0, 'thrust': 0}, {'time': 0.008, 'thrust': 13.958}, {'time': 0.016, 'thrust': 21.1}, {'time': 0.022, 'thrust': 15.511}, {'time': 0.03, 'thrust': 12.831}, {'time': 0.052, 'thrust': 14.8}, {'time': 0.081, 'thrust': 15.927}, {'time': 0.092, 'thrust': 14.658}, {'time': 0.114, 'thrust': 16.069}, {'time': 0.125, 'thrust': 14.658}, {'time': 0.136, 'thrust': 15.369}, {'time': 0.168, 'thrust': 14.8}, {'time': 0.214, 'thrust': 13.816}, {'time': 0.225, 'thrust': 12.973}, {'time': 0.247, 'thrust': 13.958}, {'time': 0.252, 'thrust': 12.831}, {'time': 0.285, 'thrust': 12.547}, {'time': 0.307, 'thrust': 12.405}, {'time': 0.317, 'thrust': 12.831}, {'time': 0.328, 'thrust': 11.562}, {'time': 0.347, 'thrust': 11.988}, {'time': 0.393, 'thrust': 11.42}, {'time': 0.442, 'thrust': 10.719}, {'time': 0.464, 'thrust': 11.136}, {'time': 0.488, 'thrust': 9.164}, {'time': 0.545, 'thrust': 8.459}, {'time': 0.624, 'thrust': 7.754}, {'time': 0.716, 'thrust': 6.485}, {'time': 0.838, 'thrust': 5.075}, {'time': 0.977, 'thrust': 3.102}, {'time': 1.096, 'thrust': 1.833}, {'time': 1.207, 'thrust': 0.986}, {'time': 1.32, 'thrust': 0}], 'infoUrl': '/simfiles/5f4294d20002e90000000351/', 'dataUrl': '/simfiles/5f4294d20002e90000000351/download/data.rse'}, {'motorId': '5f4294d20002310000000018', 'simfileId': '5f4294d20002e90000000491', 'format': 'RASP', 'source': 'user', 'samples': [{'time': 0.008, 'thrust': 13.958}, {'time': 0.016, 'thrust': 21.1}, {'time': 0.022, 'thrust': 15.511}, {'time': 0.03, 'thrust': 12.831}, {'time': 0.052, 'thrust': 14.8}, {'time': 0.081, 'thrust': 15.927}, {'time': 0.092, 'thrust': 14.658}, {'time': 0.114, 'thrust': 16.069}, {'time': 0.125, 'thrust': 14.658}, {'time': 0.136, 'thrust': 15.369}, {'time': 0.168, 'thrust': 14.8}, {'time': 0.214, 'thrust': 13.816}, {'time': 0.225, 'thrust': 12.973}, {'time': 0.247, 'thrust': 13.958}, {'time': 0.252, 'thrust': 12.831}, {'time': 0.285, 'thrust': 12.547}, {'time': 0.307, 'thrust': 12.405}, {'time': 0.317, 'thrust': 12.831}, {'time': 0.328, 'thrust': 11.562}, {'time': 0.347, 'thrust': 11.988}, {'time': 0.393, 'thrust': 11.42}, {'time': 0.442, 'thrust': 10.719}, {'time': 0.464, 'thrust': 11.136}, {'time': 0.488, 'thrust': 9.164}, {'time': 0.545, 'thrust': 8.459}, {'time': 0.624, 'thrust': 7.754}, {'time': 0.716, 'thrust': 6.485}, {'time': 0.838, 'thrust': 5.075}, {'time': 0.977, 'thrust': 3.102}, {'time': 1.096, 'thrust': 1.833}, {'time': 1.207, 'thrust': 0.986}, {'time': 1.32, 'thrust': 0}], 'infoUrl': '/simfiles/5f4294d20002e90000000491/', 'dataUrl': '/simfiles/5f4294d20002e90000000491/download/data.eng'}]}\n",
      "samples found\n",
      "motor_id and motor_name 5f4294d20002310000000018 C6\n",
      "numpy time [0.    0.008 0.016 0.022 0.03  0.052 0.081 0.092 0.114 0.125 0.136 0.168\n",
      " 0.214 0.225 0.247 0.252 0.285 0.307 0.317 0.328 0.347 0.393 0.442 0.464\n",
      " 0.488 0.545 0.624 0.716 0.838 0.977 1.096 1.207 1.32 ]\n",
      "numpy thrust [ 0.    13.958 21.1   15.511 12.831 14.8   15.927 14.658 16.069 14.658\n",
      " 15.369 14.8   13.816 12.973 13.958 12.831 12.547 12.405 12.831 11.562\n",
      " 11.988 11.42  10.719 11.136  9.164  8.459  7.754  6.485  5.075  3.102\n",
      "  1.833  0.986  0.   ]\n"
     ]
    },
    {
     "name": "stderr",
     "output_type": "stream",
     "text": [
      "100%|██████████████████████████████████████████████████████████████████████████████████████████████████████| 13/13 [00:02<00:00,  4.80it/s]"
     ]
    },
    {
     "name": "stdout",
     "output_type": "stream",
     "text": [
      "thrust data {'results': [{'motorId': '5f76974c9503a10004898858', 'simfileId': '5f8b0656d5fa3b000447e82f', 'format': 'RockSim', 'source': 'mfr', 'license': 'PD', 'samples': [{'time': 0, 'thrust': 0}, {'time': 0.046, 'thrust': 0.953}, {'time': 0.168, 'thrust': 5.259}, {'time': 0.235, 'thrust': 10.023}, {'time': 0.291, 'thrust': 15}, {'time': 0.418, 'thrust': 9.87}, {'time': 0.505, 'thrust': 7.546}, {'time': 0.582, 'thrust': 6.631}, {'time': 0.679, 'thrust': 6.136}, {'time': 0.786, 'thrust': 5.716}, {'time': 1.26, 'thrust': 5.678}, {'time': 1.357, 'thrust': 5.488}, {'time': 1.423, 'thrust': 4.992}, {'time': 1.469, 'thrust': 4.116}, {'time': 1.618, 'thrust': 1.22}, {'time': 1.701, 'thrust': 0}], 'infoUrl': '/simfiles/5f8b0656d5fa3b000447e82f/', 'dataUrl': '/simfiles/5f8b0656d5fa3b000447e82f/download/data.rse'}, {'motorId': '5f76974c9503a10004898858', 'simfileId': '5f8b0644d5fa3b000447e82e', 'format': 'RASP', 'source': 'mfr', 'license': 'PD', 'samples': [{'time': 0.046, 'thrust': 0.953}, {'time': 0.168, 'thrust': 5.259}, {'time': 0.235, 'thrust': 10.023}, {'time': 0.291, 'thrust': 15}, {'time': 0.418, 'thrust': 9.87}, {'time': 0.505, 'thrust': 7.546}, {'time': 0.582, 'thrust': 6.631}, {'time': 0.679, 'thrust': 6.136}, {'time': 0.786, 'thrust': 5.716}, {'time': 1.26, 'thrust': 5.678}, {'time': 1.357, 'thrust': 5.488}, {'time': 1.423, 'thrust': 4.992}, {'time': 1.469, 'thrust': 4.116}, {'time': 1.618, 'thrust': 1.22}, {'time': 1.701, 'thrust': 0}], 'infoUrl': '/simfiles/5f8b0644d5fa3b000447e82e/', 'dataUrl': '/simfiles/5f8b0644d5fa3b000447e82e/download/data.eng'}]}\n",
      "samples found\n",
      "motor_id and motor_name 5f76974c9503a10004898858 C6\n",
      "numpy time [0.    0.046 0.168 0.235 0.291 0.418 0.505 0.582 0.679 0.786 1.26  1.357\n",
      " 1.423 1.469 1.618 1.701]\n",
      "numpy thrust [ 0.     0.953  5.259 10.023 15.     9.87   7.546  6.631  6.136  5.716\n",
      "  5.678  5.488  4.992  4.116  1.22   0.   ]\n",
      "final_df: ['time', 'thrust', 'motorId', 'motor_name', 'impulse_class']\n",
      "final_df rows: 342\n",
      "Saved dataset to thrust_curves_normalized.csv\n"
     ]
    },
    {
     "name": "stderr",
     "output_type": "stream",
     "text": [
      "\n"
     ]
    }
   ],
   "source": [
    "if __name__ == \"__main__\":\n",
    "    classes = fetch_impulse_classes()\n",
    "    print(f'classes: {classes}')\n",
    "    for c in classes[0:6]:\n",
    "        print(f'IMPULSE CLASS {c} ===============================================')\n",
    "        try:\n",
    "            collect_data(c, max_motors=20)\n",
    "        except:\n",
    "            print(f'Data not found for {c} impulse class')\n",
    "            pass\n",
    "        \n",
    "    # collect_data(\"F\", max_motors=30)"
   ]
  },
  {
   "cell_type": "code",
   "execution_count": null,
   "id": "98a3dbf4-020a-4aed-a6fe-b15ec3d28182",
   "metadata": {},
   "outputs": [],
   "source": []
  },
  {
   "cell_type": "code",
   "execution_count": null,
   "id": "781972bb-a127-4bc8-9a6b-91a32b382d34",
   "metadata": {},
   "outputs": [],
   "source": []
  },
  {
   "cell_type": "code",
   "execution_count": null,
   "id": "5b6efc2e-d47b-4bd7-8037-64d8560a329b",
   "metadata": {},
   "outputs": [],
   "source": []
  }
 ],
 "metadata": {
  "kernelspec": {
   "display_name": "gpu_torch",
   "language": "python",
   "name": "gpu_torch"
  },
  "language_info": {
   "codemirror_mode": {
    "name": "ipython",
    "version": 3
   },
   "file_extension": ".py",
   "mimetype": "text/x-python",
   "name": "python",
   "nbconvert_exporter": "python",
   "pygments_lexer": "ipython3",
   "version": "3.8.20"
  }
 },
 "nbformat": 4,
 "nbformat_minor": 5
}
