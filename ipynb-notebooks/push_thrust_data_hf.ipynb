{
 "cells": [
  {
   "cell_type": "code",
   "execution_count": 1,
   "id": "4274f64e-ccca-49b7-a889-a4e72f1d4bd8",
   "metadata": {},
   "outputs": [],
   "source": [
    "import pandas as pd\n",
    "import numpy as np\n",
    "import os\n",
    "from torch.utils.data import DataLoader, TensorDataset"
   ]
  },
  {
   "cell_type": "code",
   "execution_count": 2,
   "id": "881620ea-2664-4d03-a300-ed8d58d58706",
   "metadata": {},
   "outputs": [
    {
     "data": {
      "text/plain": [
       "'/Users/rckyi/Documents/GitHub/RocketPill/ipynb-notebooks'"
      ]
     },
     "execution_count": 2,
     "metadata": {},
     "output_type": "execute_result"
    }
   ],
   "source": [
    "work_dir = os.getcwd()\n",
    "work_dir"
   ]
  },
  {
   "cell_type": "code",
   "execution_count": 3,
   "id": "ed7dc2e1-40af-4699-90cf-f3a530bcb5d9",
   "metadata": {},
   "outputs": [],
   "source": [
    "work_dir = os.getcwd()#.replace(\"GitHub/RocketPill/ipynb-notebooks\", \"Data/\")\n",
    "data_dir = os.getcwd().replace(\"GitHub/RocketPill/ipynb-notebooks\", \"Data/\")\n",
    "thrust_curves_files_id = \"thrust_curves_normalized.csv\"\n",
    "models_path = os.getcwd().replace(\"GitHub/RocketPill/ipynb-notebooks\", \"Deep_Learning_Models/\") "
   ]
  },
  {
   "cell_type": "code",
   "execution_count": 13,
   "id": "03101b36-bef6-4bd0-819b-6784ad8046fd",
   "metadata": {},
   "outputs": [
    {
     "data": {
      "text/plain": [
       "['/Users/rckyi/Documents/Data/J_thrust_curves_normalized.csv',\n",
       " '/Users/rckyi/Documents/Data/D_thrust_curves_normalized.csv',\n",
       " '/Users/rckyi/Documents/Data/I_thrust_curves_normalized.csv',\n",
       " '/Users/rckyi/Documents/Data/G_thrust_curves_normalized.csv',\n",
       " '/Users/rckyi/Documents/Data/A_thrust_curves_normalized.csv',\n",
       " '/Users/rckyi/Documents/Data/O_thrust_curves_normalized.csv',\n",
       " '/Users/rckyi/Documents/Data/B_thrust_curves_normalized.csv',\n",
       " '/Users/rckyi/Documents/Data/L_thrust_curves_normalized.csv',\n",
       " '/Users/rckyi/Documents/Data/M_thrust_curves_normalized.csv',\n",
       " '/Users/rckyi/Documents/Data/C_thrust_curves_normalized.csv',\n",
       " '/Users/rckyi/Documents/Data/N_thrust_curves_normalized.csv',\n",
       " '/Users/rckyi/Documents/Data/F_thrust_curves_normalized.csv',\n",
       " '/Users/rckyi/Documents/Data/H_thrust_curves_normalized.csv',\n",
       " '/Users/rckyi/Documents/Data/E_thrust_curves_normalized.csv',\n",
       " '/Users/rckyi/Documents/Data/K_thrust_curves_normalized.csv']"
      ]
     },
     "execution_count": 13,
     "metadata": {},
     "output_type": "execute_result"
    }
   ],
   "source": [
    "ls = [data_dir + x for x in os.listdir(data_dir) if thrust_curves_files_id in x ]"
   ]
  },
  {
   "cell_type": "code",
   "execution_count": 63,
   "id": "295f745b-5d3f-4107-acfc-bab26c2c2961",
   "metadata": {},
   "outputs": [],
   "source": [
    "lsf = [ pd.read_csv(f) for f in ls]\n",
    "df = pd.concat(lsf)"
   ]
  },
  {
   "cell_type": "code",
   "execution_count": 64,
   "id": "d66bc891-939a-4ae0-8181-c6dc7406c083",
   "metadata": {},
   "outputs": [
    {
     "data": {
      "text/html": [
       "<div>\n",
       "<style scoped>\n",
       "    .dataframe tbody tr th:only-of-type {\n",
       "        vertical-align: middle;\n",
       "    }\n",
       "\n",
       "    .dataframe tbody tr th {\n",
       "        vertical-align: top;\n",
       "    }\n",
       "\n",
       "    .dataframe thead th {\n",
       "        text-align: right;\n",
       "    }\n",
       "</style>\n",
       "<table border=\"1\" class=\"dataframe\">\n",
       "  <thead>\n",
       "    <tr style=\"text-align: right;\">\n",
       "      <th></th>\n",
       "      <th>time</th>\n",
       "      <th>thrust</th>\n",
       "      <th>motorId</th>\n",
       "      <th>motor_name</th>\n",
       "      <th>impulse_class</th>\n",
       "    </tr>\n",
       "  </thead>\n",
       "  <tbody>\n",
       "    <tr>\n",
       "      <th>0</th>\n",
       "      <td>0.000000</td>\n",
       "      <td>0.000000</td>\n",
       "      <td>5f4294d200023100000000f7</td>\n",
       "      <td>J245-BG</td>\n",
       "      <td>J</td>\n",
       "    </tr>\n",
       "    <tr>\n",
       "      <th>1</th>\n",
       "      <td>0.000000</td>\n",
       "      <td>1.000000</td>\n",
       "      <td>5f4294d200023100000000f7</td>\n",
       "      <td>J245-BG</td>\n",
       "      <td>J</td>\n",
       "    </tr>\n",
       "    <tr>\n",
       "      <th>2</th>\n",
       "      <td>0.053367</td>\n",
       "      <td>0.800001</td>\n",
       "      <td>5f4294d200023100000000f7</td>\n",
       "      <td>J245-BG</td>\n",
       "      <td>J</td>\n",
       "    </tr>\n",
       "    <tr>\n",
       "      <th>3</th>\n",
       "      <td>0.401317</td>\n",
       "      <td>0.692308</td>\n",
       "      <td>5f4294d200023100000000f7</td>\n",
       "      <td>J245-BG</td>\n",
       "      <td>J</td>\n",
       "    </tr>\n",
       "    <tr>\n",
       "      <th>4</th>\n",
       "      <td>0.787695</td>\n",
       "      <td>0.415384</td>\n",
       "      <td>5f4294d200023100000000f7</td>\n",
       "      <td>J245-BG</td>\n",
       "      <td>J</td>\n",
       "    </tr>\n",
       "  </tbody>\n",
       "</table>\n",
       "</div>"
      ],
      "text/plain": [
       "       time    thrust                   motorId motor_name impulse_class\n",
       "0  0.000000  0.000000  5f4294d200023100000000f7    J245-BG             J\n",
       "1  0.000000  1.000000  5f4294d200023100000000f7    J245-BG             J\n",
       "2  0.053367  0.800001  5f4294d200023100000000f7    J245-BG             J\n",
       "3  0.401317  0.692308  5f4294d200023100000000f7    J245-BG             J\n",
       "4  0.787695  0.415384  5f4294d200023100000000f7    J245-BG             J"
      ]
     },
     "execution_count": 64,
     "metadata": {},
     "output_type": "execute_result"
    }
   ],
   "source": [
    "df.head()"
   ]
  },
  {
   "cell_type": "code",
   "execution_count": 65,
   "id": "2f081e9f-ce5c-4ed0-8aaa-9e0b075b27ea",
   "metadata": {},
   "outputs": [],
   "source": [
    "df['time'] = pd.to_datetime(df['time'], unit='ns')"
   ]
  },
  {
   "cell_type": "code",
   "execution_count": 66,
   "id": "323bb140-1f9b-4b29-ae9b-28121fb8619d",
   "metadata": {},
   "outputs": [],
   "source": [
    "df['time']= df1"
   ]
  },
  {
   "cell_type": "code",
   "execution_count": 67,
   "id": "fdb28bd0-6ded-4f50-85fd-96e43fa91c86",
   "metadata": {},
   "outputs": [
    {
     "data": {
      "text/html": [
       "<div>\n",
       "<style scoped>\n",
       "    .dataframe tbody tr th:only-of-type {\n",
       "        vertical-align: middle;\n",
       "    }\n",
       "\n",
       "    .dataframe tbody tr th {\n",
       "        vertical-align: top;\n",
       "    }\n",
       "\n",
       "    .dataframe thead th {\n",
       "        text-align: right;\n",
       "    }\n",
       "</style>\n",
       "<table border=\"1\" class=\"dataframe\">\n",
       "  <thead>\n",
       "    <tr style=\"text-align: right;\">\n",
       "      <th></th>\n",
       "      <th>time</th>\n",
       "      <th>thrust</th>\n",
       "      <th>motorId</th>\n",
       "      <th>motor_name</th>\n",
       "      <th>impulse_class</th>\n",
       "    </tr>\n",
       "  </thead>\n",
       "  <tbody>\n",
       "    <tr>\n",
       "      <th>0</th>\n",
       "      <td>1970-01-01</td>\n",
       "      <td>0.000000</td>\n",
       "      <td>5f4294d200023100000000f7</td>\n",
       "      <td>J245-BG</td>\n",
       "      <td>J</td>\n",
       "    </tr>\n",
       "    <tr>\n",
       "      <th>1</th>\n",
       "      <td>1970-01-01</td>\n",
       "      <td>1.000000</td>\n",
       "      <td>5f4294d200023100000000f7</td>\n",
       "      <td>J245-BG</td>\n",
       "      <td>J</td>\n",
       "    </tr>\n",
       "    <tr>\n",
       "      <th>2</th>\n",
       "      <td>1970-01-01</td>\n",
       "      <td>0.800001</td>\n",
       "      <td>5f4294d200023100000000f7</td>\n",
       "      <td>J245-BG</td>\n",
       "      <td>J</td>\n",
       "    </tr>\n",
       "    <tr>\n",
       "      <th>3</th>\n",
       "      <td>1970-01-01</td>\n",
       "      <td>0.692308</td>\n",
       "      <td>5f4294d200023100000000f7</td>\n",
       "      <td>J245-BG</td>\n",
       "      <td>J</td>\n",
       "    </tr>\n",
       "    <tr>\n",
       "      <th>4</th>\n",
       "      <td>1970-01-01</td>\n",
       "      <td>0.415384</td>\n",
       "      <td>5f4294d200023100000000f7</td>\n",
       "      <td>J245-BG</td>\n",
       "      <td>J</td>\n",
       "    </tr>\n",
       "  </tbody>\n",
       "</table>\n",
       "</div>"
      ],
      "text/plain": [
       "        time    thrust                   motorId motor_name impulse_class\n",
       "0 1970-01-01  0.000000  5f4294d200023100000000f7    J245-BG             J\n",
       "1 1970-01-01  1.000000  5f4294d200023100000000f7    J245-BG             J\n",
       "2 1970-01-01  0.800001  5f4294d200023100000000f7    J245-BG             J\n",
       "3 1970-01-01  0.692308  5f4294d200023100000000f7    J245-BG             J\n",
       "4 1970-01-01  0.415384  5f4294d200023100000000f7    J245-BG             J"
      ]
     },
     "execution_count": 67,
     "metadata": {},
     "output_type": "execute_result"
    }
   ],
   "source": [
    "df.head()"
   ]
  },
  {
   "cell_type": "code",
   "execution_count": 22,
   "id": "ec4a3009-c6d1-4804-af29-1a4a771a3f30",
   "metadata": {},
   "outputs": [],
   "source": [
    "df.to_csv(data_dir + \"all_thrust_curves_data.csv\", index=False)"
   ]
  },
  {
   "cell_type": "code",
   "execution_count": 18,
   "id": "1111ac71-4296-4a3f-ba3a-6ad5235e93c3",
   "metadata": {},
   "outputs": [
    {
     "name": "stderr",
     "output_type": "stream",
     "text": [
      "/Users/rckyi/miniforge3/envs/gpu_py311/lib/python3.11/site-packages/tqdm/auto.py:21: TqdmWarning: IProgress not found. Please update jupyter and ipywidgets. See https://ipywidgets.readthedocs.io/en/stable/user_install.html\n",
      "  from .autonotebook import tqdm as notebook_tqdm\n"
     ]
    }
   ],
   "source": [
    "from datasets import load_dataset, Dataset"
   ]
  },
  {
   "cell_type": "code",
   "execution_count": 19,
   "id": "84f54dd3-7779-4dfd-9b6b-3cdc521284a7",
   "metadata": {},
   "outputs": [
    {
     "data": {
      "text/plain": [
       "Index([  0,   1,   2,   3,   4,   5,   6,   7,   8,   9,\n",
       "       ...\n",
       "       459, 460, 461, 462, 463, 464, 465, 466, 467, 468],\n",
       "      dtype='int64', length=6008)"
      ]
     },
     "execution_count": 19,
     "metadata": {},
     "output_type": "execute_result"
    }
   ],
   "source": [
    "df.index"
   ]
  },
  {
   "cell_type": "code",
   "execution_count": 20,
   "id": "62c80072-68ac-426f-ac30-271fb1d64588",
   "metadata": {},
   "outputs": [],
   "source": [
    "df['id'] = df.index"
   ]
  },
  {
   "cell_type": "code",
   "execution_count": 21,
   "id": "42f87aca-248e-428d-b946-12c484cb6613",
   "metadata": {},
   "outputs": [
    {
     "data": {
      "text/html": [
       "<div>\n",
       "<style scoped>\n",
       "    .dataframe tbody tr th:only-of-type {\n",
       "        vertical-align: middle;\n",
       "    }\n",
       "\n",
       "    .dataframe tbody tr th {\n",
       "        vertical-align: top;\n",
       "    }\n",
       "\n",
       "    .dataframe thead th {\n",
       "        text-align: right;\n",
       "    }\n",
       "</style>\n",
       "<table border=\"1\" class=\"dataframe\">\n",
       "  <thead>\n",
       "    <tr style=\"text-align: right;\">\n",
       "      <th></th>\n",
       "      <th>time</th>\n",
       "      <th>thrust</th>\n",
       "      <th>motorId</th>\n",
       "      <th>motor_name</th>\n",
       "      <th>impulse_class</th>\n",
       "      <th>id</th>\n",
       "    </tr>\n",
       "  </thead>\n",
       "  <tbody>\n",
       "    <tr>\n",
       "      <th>0</th>\n",
       "      <td>0.000000</td>\n",
       "      <td>0.000000</td>\n",
       "      <td>5f4294d200023100000000f7</td>\n",
       "      <td>J245-BG</td>\n",
       "      <td>J</td>\n",
       "      <td>0</td>\n",
       "    </tr>\n",
       "    <tr>\n",
       "      <th>1</th>\n",
       "      <td>0.000000</td>\n",
       "      <td>1.000000</td>\n",
       "      <td>5f4294d200023100000000f7</td>\n",
       "      <td>J245-BG</td>\n",
       "      <td>J</td>\n",
       "      <td>1</td>\n",
       "    </tr>\n",
       "    <tr>\n",
       "      <th>2</th>\n",
       "      <td>0.053367</td>\n",
       "      <td>0.800001</td>\n",
       "      <td>5f4294d200023100000000f7</td>\n",
       "      <td>J245-BG</td>\n",
       "      <td>J</td>\n",
       "      <td>2</td>\n",
       "    </tr>\n",
       "    <tr>\n",
       "      <th>3</th>\n",
       "      <td>0.401317</td>\n",
       "      <td>0.692308</td>\n",
       "      <td>5f4294d200023100000000f7</td>\n",
       "      <td>J245-BG</td>\n",
       "      <td>J</td>\n",
       "      <td>3</td>\n",
       "    </tr>\n",
       "    <tr>\n",
       "      <th>4</th>\n",
       "      <td>0.787695</td>\n",
       "      <td>0.415384</td>\n",
       "      <td>5f4294d200023100000000f7</td>\n",
       "      <td>J245-BG</td>\n",
       "      <td>J</td>\n",
       "      <td>4</td>\n",
       "    </tr>\n",
       "  </tbody>\n",
       "</table>\n",
       "</div>"
      ],
      "text/plain": [
       "       time    thrust                   motorId motor_name impulse_class  id\n",
       "0  0.000000  0.000000  5f4294d200023100000000f7    J245-BG             J   0\n",
       "1  0.000000  1.000000  5f4294d200023100000000f7    J245-BG             J   1\n",
       "2  0.053367  0.800001  5f4294d200023100000000f7    J245-BG             J   2\n",
       "3  0.401317  0.692308  5f4294d200023100000000f7    J245-BG             J   3\n",
       "4  0.787695  0.415384  5f4294d200023100000000f7    J245-BG             J   4"
      ]
     },
     "execution_count": 21,
     "metadata": {},
     "output_type": "execute_result"
    }
   ],
   "source": [
    "df.head()"
   ]
  },
  {
   "cell_type": "code",
   "execution_count": 23,
   "id": "40510330-1dcb-4f34-b905-1556ac08e052",
   "metadata": {},
   "outputs": [],
   "source": [
    "from datasets import load_dataset, Dataset"
   ]
  },
  {
   "cell_type": "code",
   "execution_count": 24,
   "id": "67054714-1c43-4cc0-a922-db936fa642f7",
   "metadata": {},
   "outputs": [],
   "source": [
    "dataset = load_dataset(\"shaddie/thrust_curves_dataset\")"
   ]
  },
  {
   "cell_type": "code",
   "execution_count": 25,
   "id": "2065031f-f63d-4168-bf57-03d73bc3d66e",
   "metadata": {},
   "outputs": [
    {
     "data": {
      "text/plain": [
       "DatasetDict({\n",
       "    train: Dataset({\n",
       "        features: ['time', 'thrust', 'motorId', 'motor_name', 'impulse_class', 'id'],\n",
       "        num_rows: 6008\n",
       "    })\n",
       "})"
      ]
     },
     "execution_count": 25,
     "metadata": {},
     "output_type": "execute_result"
    }
   ],
   "source": [
    "dataset"
   ]
  },
  {
   "cell_type": "code",
   "execution_count": null,
   "id": "f39f2d4b-2739-446b-97c9-69ec0b3406d3",
   "metadata": {},
   "outputs": [],
   "source": []
  }
 ],
 "metadata": {
  "kernelspec": {
   "display_name": "Python 3 (ipykernel)",
   "language": "python",
   "name": "python3"
  },
  "language_info": {
   "codemirror_mode": {
    "name": "ipython",
    "version": 3
   },
   "file_extension": ".py",
   "mimetype": "text/x-python",
   "name": "python",
   "nbconvert_exporter": "python",
   "pygments_lexer": "ipython3",
   "version": "3.11.11"
  }
 },
 "nbformat": 4,
 "nbformat_minor": 5
}
